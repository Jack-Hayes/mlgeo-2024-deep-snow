{
 "cells": [
  {
   "cell_type": "markdown",
   "id": "d1128041-af59-4320-9b35-07dbf1e8bbc5",
   "metadata": {},
   "source": [
    "### Boilerplate CNN\n",
    "##### (hopefully with model architecture flexibility)\n",
    "Most of the following code was taken and adjusted from https://github.com/nikhilroxtomar/Semantic-Segmentation-Architecture/blob/main/PyTorch/unet.py"
   ]
  },
  {
   "cell_type": "code",
   "execution_count": 7,
   "id": "efb12869-7708-4533-a872-17474d2dba57",
   "metadata": {},
   "outputs": [],
   "source": [
    "import torch.nn as nn"
   ]
  },
  {
   "cell_type": "code",
   "execution_count": 8,
   "id": "055d682d-4912-45e7-bd64-9ef48a5307df",
   "metadata": {},
   "outputs": [],
   "source": [
    "# convolutional layer\n",
    "class cnn_block(nn.Module):\n",
    "    def __init__(self, in_channel, out_channel):\n",
    "        super().__init__()\n",
    "\n",
    "        self.conv1 = nn.Conv2d(in_channel, out_channel, kernel_size=3, padding=1)\n",
    "        self.conv2 = nn.Conv2d(out_channel, out_channel, kernel_size=3, padding=1)\n",
    "        self.relu = nn.ReLU()\n",
    "\n",
    "    def forward(self, x_in):\n",
    "        # CNN + relu layer\n",
    "        x_conv1 = self.conv1(x_in)\n",
    "        x_relu1 = self.relu(x_conv1)\n",
    "        # CNN + relu layer\n",
    "        x_conv2 = self.conv2(x_relu1)\n",
    "        x_out = self.relu(x_conv2)\n",
    "        return x_out\n",
    "\n",
    "# cnn + max pooling block\n",
    "class conv_pool_block(nn.Module):\n",
    "    def __init__(self, in_channel, out_channel):\n",
    "        super().__init__()\n",
    "\n",
    "        self.conv = cnn_block(in_channel, out_channel)\n",
    "        self.pool = nn.MaxPool2d((2, 2))\n",
    "\n",
    "    def forward(self, x_in):\n",
    "        x_out = cnn_block(in_channel, out_channel)\n",
    "        p_out = self.pool(x_out)\n",
    "\n",
    "        return x_out, p_out\n",
    "\n",
    "\n",
    "# upsample\n",
    "class inverse_conv_block(nn.Module):\n",
    "    def __init__(self, in_channel, out_channel):\n",
    "        super().__init__()\n",
    "\n",
    "        self.upsample = nn.ConvTranspose2d(in_channel, out_channel, kernel_size=2, stride=2, padding=0)\n",
    "        self.conv = cnn_block(out_channel+out_channel, out_channel)\n",
    "\n",
    "    def forward(self, x_in, skip):\n",
    "        x_up = self.upsample(x_in)\n",
    "        x_cat = torch.cat([x_up, skip], axis=1)\n",
    "        x_out = self.conv(x_cat)\n",
    "        return x_out"
   ]
  },
  {
   "cell_type": "code",
   "execution_count": 9,
   "id": "7cf6a4c5-123f-4ec1-abad-924bf4f5096d",
   "metadata": {},
   "outputs": [],
   "source": [
    "# building the u-net\n",
    "class build_cnn(nn.Module):\n",
    "    def __init__(self):\n",
    "        super().__init__()\n",
    "\n",
    "        \"\"\" convolutions + pooling \"\"\"\n",
    "        self.cp1 = conv_pool_block(3, 32)\n",
    "        self.cp2 = conv_pool_block(32, 64)\n",
    "        self.cp3 = conv_pool_block(64, 128)\n",
    "        self.cp4 = conv_pool_block(128, 256)\n",
    "\n",
    "        \"\"\" convolution \"\"\"\n",
    "        self.b = cnn_block(256, 512)\n",
    "\n",
    "        \"\"\" inverse convolutions \"\"\"\n",
    "        self.ic1 = inverse_conv_block(512, 256)\n",
    "        self.ic2 = inverse_conv_block(256, 128)\n",
    "        self.ic3 = inverse_conv_block(128, 64)\n",
    "        self.ic4 = inverse_conv_block(64, 32)\n",
    "\n",
    "        \"\"\" output \"\"\"\n",
    "        self.outputs = nn.Conv2d(32, 1, kernel_size=1, padding=0)\n",
    "\n",
    "    def forward(self, inputs):\n",
    "        \"\"\" conv + pool \"\"\"\n",
    "        x1, p1 = self.cp1(inputs)\n",
    "        x2, p2 = self.cp2(p1)\n",
    "        x3, p3 = self.cp3(p2)\n",
    "        x4, p4 = self.cp4(p3)\n",
    "\n",
    "        \"\"\" conv \"\"\"\n",
    "        b = self.b(p4)\n",
    "\n",
    "        \"\"\" upsample \"\"\"\n",
    "        u1 = self.ic1(b, x4)\n",
    "        u2 = self.ic2(u1, x3)\n",
    "        u3 = self.ic3(u2, x2)\n",
    "        u4 = self.ic4(u3, x1)\n",
    "\n",
    "        \"\"\" Classifier \"\"\"\n",
    "        outputs = self.outputs(u4)\n",
    "\n",
    "        return outputs"
   ]
  },
  {
   "cell_type": "code",
   "execution_count": 10,
   "id": "6a87f1b5-5fb9-44c3-9d01-acd82cd84f98",
   "metadata": {},
   "outputs": [],
   "source": [
    "model = build_cnn()"
   ]
  }
 ],
 "metadata": {
  "kernelspec": {
   "display_name": "Python 3 (ipykernel)",
   "language": "python",
   "name": "python3"
  },
  "language_info": {
   "codemirror_mode": {
    "name": "ipython",
    "version": 3
   },
   "file_extension": ".py",
   "mimetype": "text/x-python",
   "name": "python",
   "nbconvert_exporter": "python",
   "pygments_lexer": "ipython3",
   "version": "3.11.5"
  }
 },
 "nbformat": 4,
 "nbformat_minor": 5
}
