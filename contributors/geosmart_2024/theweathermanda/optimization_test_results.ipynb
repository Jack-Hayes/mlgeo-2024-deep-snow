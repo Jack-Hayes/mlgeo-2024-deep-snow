{
 "cells": [
  {
   "cell_type": "code",
   "execution_count": 23,
   "id": "95999106-1f3b-4023-879e-6b5c2f0ea69c",
   "metadata": {},
   "outputs": [],
   "source": [
    "import optuna"
   ]
  },
  {
   "cell_type": "code",
   "execution_count": 24,
   "id": "1863e60c-72cd-467d-a798-2dfc56a09b63",
   "metadata": {},
   "outputs": [],
   "source": [
    "study = optuna.load_study(\n",
    "        study_name=\"optm_test_manda_prod1c\", storage=\"sqlite:///db.sqlite3\")"
   ]
  },
  {
   "cell_type": "code",
   "execution_count": 25,
   "id": "3130425b-b236-4ffe-9625-f206a94a3d25",
   "metadata": {},
   "outputs": [
    {
     "data": {
      "text/plain": [
       "<optuna.study.study.Study at 0x7f0ff2b67fd0>"
      ]
     },
     "execution_count": 25,
     "metadata": {},
     "output_type": "execute_result"
    }
   ],
   "source": [
    "study"
   ]
  },
  {
   "cell_type": "code",
   "execution_count": 26,
   "id": "4c343c87-f95c-429b-bd40-0cadbdf05ba0",
   "metadata": {},
   "outputs": [
    {
     "data": {
      "text/plain": [
       "FrozenTrial(number=4, state=1, values=[0.0009574773430358618], datetime_start=datetime.datetime(2024, 8, 22, 22, 36, 22, 221205), datetime_complete=datetime.datetime(2024, 8, 22, 23, 0, 26, 872654), params={'learning_rate': 1.0276489882118628e-05, 'weight_decay': 0.00034401453323286885, 'epochs': 43}, user_attrs={}, system_attrs={}, intermediate_values={}, distributions={'learning_rate': FloatDistribution(high=0.01, log=True, low=1e-05, step=None), 'weight_decay': FloatDistribution(high=0.01, log=True, low=1e-05, step=None), 'epochs': IntDistribution(high=50, log=False, low=10, step=1)}, trial_id=10, value=None)"
      ]
     },
     "execution_count": 26,
     "metadata": {},
     "output_type": "execute_result"
    }
   ],
   "source": [
    "study.best_trial"
   ]
  },
  {
   "cell_type": "code",
   "execution_count": null,
   "id": "e91e8523-2126-4e88-ada1-dbb2eabdaefa",
   "metadata": {},
   "outputs": [],
   "source": []
  }
 ],
 "metadata": {
  "kernelspec": {
   "display_name": "Python 3 (ipykernel)",
   "language": "python",
   "name": "python3"
  },
  "language_info": {
   "codemirror_mode": {
    "name": "ipython",
    "version": 3
   },
   "file_extension": ".py",
   "mimetype": "text/x-python",
   "name": "python",
   "nbconvert_exporter": "python",
   "pygments_lexer": "ipython3",
   "version": "3.11.5"
  }
 },
 "nbformat": 4,
 "nbformat_minor": 5
}
