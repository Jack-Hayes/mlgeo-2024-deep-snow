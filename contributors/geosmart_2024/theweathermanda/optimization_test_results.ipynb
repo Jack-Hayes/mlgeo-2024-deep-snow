{
 "cells": [
  {
   "cell_type": "code",
   "execution_count": 23,
   "id": "95999106-1f3b-4023-879e-6b5c2f0ea69c",
   "metadata": {},
   "outputs": [],
   "source": [
    "import optuna\n",
    "\n",
    "from optuna.visualization.matplotlib import plot_contour\n",
    "from optuna.visualization.matplotlib import plot_edf\n",
    "from optuna.visualization.matplotlib import plot_intermediate_values\n",
    "from optuna.visualization.matplotlib import plot_optimization_history\n",
    "from optuna.visualization.matplotlib import plot_parallel_coordinate\n",
    "from optuna.visualization.matplotlib import plot_param_importances\n",
    "from optuna.visualization.matplotlib import plot_rank\n",
    "from optuna.visualization.matplotlib import plot_slice\n",
    "from optuna.visualization.matplotlib import plot_timeline"
   ]
  },
  {
   "cell_type": "code",
   "execution_count": 3,
   "id": "1863e60c-72cd-467d-a798-2dfc56a09b63",
   "metadata": {},
   "outputs": [],
   "source": [
    "study = optuna.load_study(\n",
    "        study_name=\"optm_test_manda_prod1c\", storage=\"sqlite:///db.sqlite3\")"
   ]
  },
  {
   "cell_type": "code",
   "execution_count": 36,
   "id": "f3c021c1-94e1-4ead-9176-53231efb9083",
   "metadata": {},
   "outputs": [],
   "source": [
    "study_name = 'optm_test_manda_prod1c'\n",
    "storage_name = \"sqlite:///{}.db\".format(study_name)\n",
    "\n",
    "study2 = optuna.load_study(\n",
    "        storage=storage_name, study_name=study_name)\n"
   ]
  },
  {
   "cell_type": "code",
   "execution_count": 13,
   "id": "3130425b-b236-4ffe-9625-f206a94a3d25",
   "metadata": {},
   "outputs": [
    {
     "data": {
      "text/plain": [
       "<optuna.study.study.Study at 0x7f35171a68d0>"
      ]
     },
     "execution_count": 13,
     "metadata": {},
     "output_type": "execute_result"
    }
   ],
   "source": [
    "study"
   ]
  },
  {
   "cell_type": "code",
   "execution_count": 21,
   "id": "3ad6512d-5e89-46cb-bfae-dcb7f6365495",
   "metadata": {},
   "outputs": [
    {
     "data": {
      "text/plain": [
       "<optuna.study.study.Study at 0x7f3513957950>"
      ]
     },
     "execution_count": 21,
     "metadata": {},
     "output_type": "execute_result"
    }
   ],
   "source": [
    "study2"
   ]
  },
  {
   "cell_type": "code",
   "execution_count": 37,
   "id": "efd929ac-e203-4308-8173-29dd9ca137a6",
   "metadata": {},
   "outputs": [],
   "source": [
    "trials1 = study.get_trials(deepcopy=True)\n",
    "trials2 = study2.get_trials(deepcopy=True)"
   ]
  },
  {
   "cell_type": "code",
   "execution_count": 46,
   "id": "9e971b5a-f5a6-4b27-bd72-456c8af4bee5",
   "metadata": {},
   "outputs": [
    {
     "name": "stderr",
     "output_type": "stream",
     "text": [
      "[I 2024-08-23 19:31:49,507] A new study created in RDB with name: merged_study2\n"
     ]
    }
   ],
   "source": [
    "merged_study_name = 'merged_study2'\n",
    "merged_storage_name = 'sqlite:///merged_study.db'\n",
    "\n",
    "merged_study = optuna.create_study(study_name=merged_study_name, storage=merged_storage_name, load_if_exists=True)"
   ]
  },
  {
   "cell_type": "code",
   "execution_count": 47,
   "id": "8135ee56-2a8d-40b3-a6c7-5b8d5e0f4f2a",
   "metadata": {},
   "outputs": [],
   "source": [
    "def add_trials_to_study(trials, study):\n",
    "    for trial in trials:\n",
    "        study.add_trial(trial)\n",
    "\n",
    "# Add trials from the first study\n",
    "add_trials_to_study(trials1, merged_study)\n",
    "\n",
    "# Add trials from the second study\n",
    "add_trials_to_study(trials2, merged_study)"
   ]
  },
  {
   "cell_type": "code",
   "execution_count": 48,
   "id": "ffa19a4e-63e7-4eb9-97f7-a8d197cdf276",
   "metadata": {},
   "outputs": [
    {
     "data": {
      "text/plain": [
       "<optuna.study.study.Study at 0x7f350e1f2850>"
      ]
     },
     "execution_count": 48,
     "metadata": {},
     "output_type": "execute_result"
    }
   ],
   "source": [
    "merged_study"
   ]
  },
  {
   "cell_type": "code",
   "execution_count": 49,
   "id": "4c343c87-f95c-429b-bd40-0cadbdf05ba0",
   "metadata": {},
   "outputs": [
    {
     "data": {
      "text/plain": [
       "FrozenTrial(number=16, state=1, values=[0.0008389878712478094], datetime_start=datetime.datetime(2024, 8, 23, 18, 34, 44, 9092), datetime_complete=datetime.datetime(2024, 8, 23, 18, 56, 33, 452954), params={'learning_rate': 2.6699931232114095e-05, 'weight_decay': 0.00013183243694343358, 'epochs': 37}, user_attrs={}, system_attrs={}, intermediate_values={}, distributions={'learning_rate': FloatDistribution(high=0.01, log=True, low=1e-05, step=None), 'weight_decay': FloatDistribution(high=0.01, log=True, low=1e-05, step=None), 'epochs': IntDistribution(high=50, log=False, low=10, step=1)}, trial_id=71, value=None)"
      ]
     },
     "execution_count": 49,
     "metadata": {},
     "output_type": "execute_result"
    }
   ],
   "source": [
    "merged_study.best_trial"
   ]
  },
  {
   "cell_type": "code",
   "execution_count": 50,
   "id": "e91e8523-2126-4e88-ada1-dbb2eabdaefa",
   "metadata": {},
   "outputs": [
    {
     "data": {
      "text/plain": [
       "FrozenTrial(number=7, state=1, values=[0.0008389878712478094], datetime_start=datetime.datetime(2024, 8, 23, 18, 34, 44, 9092), datetime_complete=datetime.datetime(2024, 8, 23, 18, 56, 33, 452954), params={'learning_rate': 2.6699931232114095e-05, 'weight_decay': 0.00013183243694343358, 'epochs': 37}, user_attrs={}, system_attrs={}, intermediate_values={}, distributions={'learning_rate': FloatDistribution(high=0.01, log=True, low=1e-05, step=None), 'weight_decay': FloatDistribution(high=0.01, log=True, low=1e-05, step=None), 'epochs': IntDistribution(high=50, log=False, low=10, step=1)}, trial_id=8, value=None)"
      ]
     },
     "execution_count": 50,
     "metadata": {},
     "output_type": "execute_result"
    }
   ],
   "source": [
    "study2.best_trial"
   ]
  },
  {
   "cell_type": "code",
   "execution_count": 51,
   "id": "32509925-0aa2-447b-ab0f-392636c07377",
   "metadata": {},
   "outputs": [
    {
     "name": "stderr",
     "output_type": "stream",
     "text": [
      "/tmp/ipykernel_3381/512080594.py:1: ExperimentalWarning: plot_optimization_history is experimental (supported from v2.2.0). The interface can change in the future.\n",
      "  fig1 = plot_optimization_history(merged_study)\n"
     ]
    },
    {
     "data": {
      "image/png": "[encoded data removed]",
      "text/plain": [
       "<Figure size 640x480 with 1 Axes>"
      ]
     },
     "metadata": {},
     "output_type": "display_data"
    }
   ],
   "source": [
    "fig1 = plot_optimization_history(merged_study)\n"
   ]
  },
  {
   "cell_type": "code",
   "execution_count": null,
   "id": "bd97ff66-ecfe-4670-8a68-aaf6ab077786",
   "metadata": {},
   "outputs": [],
   "source": []
  }
 ],
 "metadata": {
  "kernelspec": {
   "display_name": "Python 3 (ipykernel)",
   "language": "python",
   "name": "python3"
  },
  "language_info": {
   "codemirror_mode": {
    "name": "ipython",
    "version": 3
   },
   "file_extension": ".py",
   "mimetype": "text/x-python",
   "name": "python",
   "nbconvert_exporter": "python",
   "pygments_lexer": "ipython3",
   "version": "3.11.5"
  }
 },
 "nbformat": 4,
 "nbformat_minor": 5
}
