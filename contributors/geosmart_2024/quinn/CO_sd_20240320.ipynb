{
 "cells": [
  {
   "cell_type": "markdown",
   "id": "705938df-212d-4fdd-a53d-bb6dc31b561f",
   "metadata": {},
   "source": [
    "# predicting snow depth with crunchy-snow for all of Colorado, March 20 2024"
   ]
  },
  {
   "cell_type": "code",
   "execution_count": 1,
   "id": "dcf439ba-c2a2-4ca2-911e-9e231d92cc66",
   "metadata": {},
   "outputs": [],
   "source": [
    "from crunchy_snow.application import download_data, apply_model\n",
    "import matplotlib.pyplot as plt\n",
    "import seaborn as sns\n",
    "import geopandas as gpd"
   ]
  },
  {
   "cell_type": "code",
   "execution_count": 2,
   "id": "79c2a9c2-cc32-4a15-8d58-c0b5640ab315",
   "metadata": {},
   "outputs": [],
   "source": [
    "tile_path = 'polygons/co_grid_100km.shp'\n",
    "tiles_gdf = gpd.read_file(tile_path)"
   ]
  },
  {
   "cell_type": "code",
   "execution_count": 3,
   "id": "ec1f8dbc-b44d-4a90-a1da-c3ea909f2482",
   "metadata": {},
   "outputs": [],
   "source": [
    "# reproject to wgs84\n",
    "tiles_gdf = tiles_gdf.to_crs('4326')"
   ]
  },
  {
   "cell_type": "code",
   "execution_count": 4,
   "id": "db260d1e-e64a-45ce-ba6e-30a699424972",
   "metadata": {
    "scrolled": true
   },
   "outputs": [
    {
     "name": "stdout",
     "output_type": "stream",
     "text": [
      "------------------------------------\n",
      "tile 1/35\n",
      "searching for Sentinel-1 snow-on data\n",
      "Returned 4 acquisitions\n"
     ]
    },
    {
     "name": "stderr",
     "output_type": "stream",
     "text": [
      "/srv/conda/envs/notebook/lib/python3.11/site-packages/rasterio/warp.py:344: NotGeoreferencedWarning: Dataset has no geotransform, gcps, or rpcs. The identity matrix will be returned.\n",
      "  _reproject(\n"
     ]
    },
    {
     "name": "stdout",
     "output_type": "stream",
     "text": [
      "searching for Sentinel-1 snow-off data\n",
      "Returned 4 acquisitions\n",
      "searching for Sentinel-2 snow-on data\n",
      "Returned 2 acquisitions\n",
      "searching for COP30 dem data\n",
      "downloading fractional forest cover data\n",
      "file already exists, skipping\n",
      "combining datasets\n",
      "writing input data\n",
      "done!\n"
     ]
    },
    {
     "ename": "TypeError",
     "evalue": "apply_model() missing 1 required positional argument: 'crs'",
     "output_type": "error",
     "traceback": [
      "\u001b[0;31m---------------------------------------------------------------------------\u001b[0m",
      "\u001b[0;31mTypeError\u001b[0m                                 Traceback (most recent call last)",
      "Cell \u001b[0;32mIn[4], line 19\u001b[0m\n\u001b[1;32m     16\u001b[0m out_name \u001b[38;5;241m=\u001b[39m \u001b[38;5;124mf\u001b[39m\u001b[38;5;124m'\u001b[39m\u001b[38;5;124mCO_\u001b[39m\u001b[38;5;132;01m{\u001b[39;00mtarget_date\u001b[38;5;132;01m}\u001b[39;00m\u001b[38;5;124m_crunchy_sd_\u001b[39m\u001b[38;5;132;01m{\u001b[39;00mi\u001b[38;5;241m+\u001b[39m\u001b[38;5;241m1\u001b[39m\u001b[38;5;132;01m}\u001b[39;00m\u001b[38;5;124m.tif\u001b[39m\u001b[38;5;124m'\u001b[39m\n\u001b[1;32m     18\u001b[0m download_data(aoi\u001b[38;5;241m=\u001b[39maoi, target_date\u001b[38;5;241m=\u001b[39mtarget_date, snowoff_date\u001b[38;5;241m=\u001b[39msnowoff_date, out_dir\u001b[38;5;241m=\u001b[39mout_dir)\n\u001b[0;32m---> 19\u001b[0m ds \u001b[38;5;241m=\u001b[39m \u001b[43mapply_model\u001b[49m\u001b[43m(\u001b[49m\u001b[43mout_dir\u001b[49m\u001b[38;5;241;43m=\u001b[39;49m\u001b[43mout_dir\u001b[49m\u001b[43m,\u001b[49m\u001b[43m \u001b[49m\u001b[43mout_name\u001b[49m\u001b[38;5;241;43m=\u001b[39;49m\u001b[43mout_name\u001b[49m\u001b[43m,\u001b[49m\u001b[43m \u001b[49m\u001b[43mmodel_path\u001b[49m\u001b[38;5;241;43m=\u001b[39;49m\u001b[43mmodel_path\u001b[49m\u001b[43m,\u001b[49m\u001b[43m \u001b[49m\u001b[43mdelete_inputs\u001b[49m\u001b[38;5;241;43m=\u001b[39;49m\u001b[38;5;28;43;01mTrue\u001b[39;49;00m\u001b[43m)\u001b[49m\n",
      "\u001b[0;31mTypeError\u001b[0m: apply_model() missing 1 required positional argument: 'crs'"
     ]
    }
   ],
   "source": [
    "# set up arguments \n",
    "target_date = '20240320'\n",
    "snowoff_date = '20230910'\n",
    "out_dir = 'data'\n",
    "model_path = '../../../weights/quinn_ResDepth_v3'\n",
    "\n",
    "# loop through tiles and make predictions\n",
    "for i, tile in tiles_gdf.iterrows():\n",
    "    print('------------------------------------')\n",
    "    print(f'tile {i+1}/{len(tiles_gdf)}')\n",
    "    aoi = {'minlon':tile.geometry.bounds[0],\n",
    "           'minlat':tile.geometry.bounds[1],\n",
    "           'maxlon':tile.geometry.bounds[2],\n",
    "           'maxlat':tile.geometry.bounds[3]}\n",
    "\n",
    "    out_name = f'CO_{target_date}_crunchy_sd_{i+1}.tif'\n",
    "\n",
    "    download_data(aoi=aoi, target_date=target_date, snowoff_date=snowoff_date, out_dir=out_dir)\n",
    "    ds = apply_model(out_dir=out_dir, out_name=out_name, model_path=model_path, delete_inputs=True)"
   ]
  }
 ],
 "metadata": {
  "kernelspec": {
   "display_name": "Python 3 (ipykernel)",
   "language": "python",
   "name": "python3"
  },
  "language_info": {
   "codemirror_mode": {
    "name": "ipython",
    "version": 3
   },
   "file_extension": ".py",
   "mimetype": "text/x-python",
   "name": "python",
   "nbconvert_exporter": "python",
   "pygments_lexer": "ipython3",
   "version": "3.11.5"
  }
 },
 "nbformat": 4,
 "nbformat_minor": 5
}
