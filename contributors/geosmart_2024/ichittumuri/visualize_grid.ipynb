{
 "cells": [
  {
   "cell_type": "code",
   "execution_count": 1,
   "id": "0cd83729-2782-4628-8cb9-b4e7f791fef4",
   "metadata": {},
   "outputs": [],
   "source": [
    "from crunchy_snow.application import download_data, apply_model\n",
    "from crunchy_snow.utils import create_grid\n",
    "import matplotlib.pyplot as plt\n",
    "import seaborn as sns\n",
    "import geopandas as gpd\n",
    "import gc"
   ]
  },
  {
   "cell_type": "code",
   "execution_count": 2,
   "id": "14d7a3a6-a49a-4ba2-a954-e6daba481871",
   "metadata": {},
   "outputs": [],
   "source": [
    "aoi = {'minlon':-109.05184836391774, 'minlat':37.006219432856184, 'maxlon':-102.05397875549527, 'maxlat':41.00976850226314}"
   ]
  },
  {
   "cell_type": "code",
   "execution_count": 3,
   "id": "7c9b6ed8-3c2b-4e68-af47-3e8fa33e54b1",
   "metadata": {},
   "outputs": [
    {
     "name": "stdout",
     "output_type": "stream",
     "text": [
      "Shapefile created successfully: aoi_grid.shp\n"
     ]
    }
   ],
   "source": [
    "tiles_gdf = create_grid(aoi)"
   ]
  },
  {
   "cell_type": "code",
   "execution_count": 4,
   "id": "7189bb08-219b-4aa3-8c12-cb0d907e0de8",
   "metadata": {},
   "outputs": [],
   "source": [
    "tiles_gdf.to_file(\"CO_tiles_grid.geojson\", driver=\"GeoJSON\")"
   ]
  },
  {
   "cell_type": "code",
   "execution_count": 5,
   "id": "2620383a-6016-4c1e-a6d0-8dec15dd406e",
   "metadata": {},
   "outputs": [
    {
     "data": {
      "text/plain": [
       "'/home/jovyan/crunchy-snow/crunchy_snow'"
      ]
     },
     "execution_count": 5,
     "metadata": {},
     "output_type": "execute_result"
    }
   ],
   "source": [
    "pwd"
   ]
  },
  {
   "cell_type": "code",
   "execution_count": null,
   "id": "54514b05-a168-4ba5-ac18-b1ed6d0ccb86",
   "metadata": {},
   "outputs": [],
   "source": []
  }
 ],
 "metadata": {
  "kernelspec": {
   "display_name": "Python 3 (ipykernel)",
   "language": "python",
   "name": "python3"
  },
  "language_info": {
   "codemirror_mode": {
    "name": "ipython",
    "version": 3
   },
   "file_extension": ".py",
   "mimetype": "text/x-python",
   "name": "python",
   "nbconvert_exporter": "python",
   "pygments_lexer": "ipython3",
   "version": "3.11.5"
  }
 },
 "nbformat": 4,
 "nbformat_minor": 5
}
