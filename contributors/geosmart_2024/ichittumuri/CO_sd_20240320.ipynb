{
 "cells": [
  {
   "cell_type": "markdown",
   "id": "705938df-212d-4fdd-a53d-bb6dc31b561f",
   "metadata": {},
   "source": [
    "# predicting snow depth with crunchy-snow for all of Colorado, March 20 2024"
   ]
  },
  {
   "cell_type": "code",
   "execution_count": 1,
   "id": "dcf439ba-c2a2-4ca2-911e-9e231d92cc66",
   "metadata": {},
   "outputs": [],
   "source": [
    "from crunchy_snow.application import download_data, apply_model\n",
    "from crunchy_snow.utils import create_grid\n",
    "import matplotlib.pyplot as plt\n",
    "import seaborn as sns\n",
    "import geopandas as gpd\n",
    "import gc"
   ]
  },
  {
   "cell_type": "code",
   "execution_count": 2,
   "id": "67e70a84-0c20-49c6-a8af-387ce0ca8c76",
   "metadata": {},
   "outputs": [],
   "source": [
    "aoi = {'minlon':-109.05184836391774, 'minlat':37.006219432856184, 'maxlon':-102.05397875549527, 'maxlat':41.00976850226314}"
   ]
  },
  {
   "cell_type": "code",
   "execution_count": 3,
   "id": "8ac75600-a643-4da9-8a0a-06ff7521e1a3",
   "metadata": {},
   "outputs": [],
   "source": [
    "# aoi = {\n",
    "#     'minlon': -125.0,\n",
    "#     'minlat': 32.0,\n",
    "#     'maxlon': -102.0,\n",
    "#     'maxlat': 49.0\n",
    "# }"
   ]
  },
  {
   "cell_type": "code",
   "execution_count": 4,
   "id": "f0c69473-ab9a-4f48-951e-ba0049dba453",
   "metadata": {},
   "outputs": [],
   "source": [
    "tiles_gdf = create_grid(aoi)"
   ]
  },
  {
   "cell_type": "code",
   "execution_count": 5,
   "id": "ec1f8dbc-b44d-4a90-a1da-c3ea909f2482",
   "metadata": {},
   "outputs": [],
   "source": [
    "# reproject to wgs84\n",
    "tiles_gdf = tiles_gdf.to_crs('4326')"
   ]
  },
  {
   "cell_type": "code",
   "execution_count": null,
   "id": "db260d1e-e64a-45ce-ba6e-30a699424972",
   "metadata": {
    "scrolled": true
   },
   "outputs": [
    {
     "name": "stdout",
     "output_type": "stream",
     "text": [
      "------------------------------------\n",
      "tile 1/40\n",
      "searching for Sentinel-1 snow-on data\n",
      "Returned 7 acquisitions\n",
      "searching for Sentinel-1 snow-off data\n",
      "Returned 7 acquisitions\n"
     ]
    },
    {
     "name": "stderr",
     "output_type": "stream",
     "text": [
      "/srv/conda/envs/notebook/lib/python3.11/site-packages/rasterio/warp.py:344: NotGeoreferencedWarning: Dataset has no geotransform, gcps, or rpcs. The identity matrix will be returned.\n",
      "  _reproject(\n"
     ]
    },
    {
     "name": "stdout",
     "output_type": "stream",
     "text": [
      "searching for Sentinel-2 snow-on data\n",
      "Returned 4 acquisitions\n",
      "searching for COP30 dem data\n",
      "downloading fractional forest cover data\n",
      "file already exists, skipping\n",
      "combining datasets\n",
      "writing input data\n",
      "done!\n",
      "reading input data\n",
      "loading model\n",
      "------------------------------------\n",
      "tile 2/40\n",
      "searching for Sentinel-1 snow-on data\n",
      "Returned 7 acquisitions\n",
      "searching for Sentinel-1 snow-off data\n",
      "Returned 7 acquisitions\n",
      "searching for Sentinel-2 snow-on data\n",
      "Returned 4 acquisitions\n",
      "searching for COP30 dem data\n",
      "downloading fractional forest cover data\n",
      "file already exists, skipping\n",
      "combining datasets\n",
      "writing input data\n",
      "done!\n",
      "reading input data\n",
      "loading model\n"
     ]
    }
   ],
   "source": [
    "# set up arguments \n",
    "target_date = '20240320'\n",
    "snowoff_date = '20230910'\n",
    "out_dir = 'data'\n",
    "model_path = '../../../weights/quinn_ResDepth_v3'\n",
    "\n",
    "# loop through tiles and make predictions\n",
    "for i, tile in tiles_gdf.iterrows():\n",
    "    print('------------------------------------')\n",
    "    print(f'tile {i+1}/{len(tiles_gdf)}')\n",
    "    aoi = {'minlon':tile.geometry.bounds[0],\n",
    "           'minlat':tile.geometry.bounds[1],\n",
    "           'maxlon':tile.geometry.bounds[2],\n",
    "           'maxlat':tile.geometry.bounds[3]}\n",
    "\n",
    "    out_name = f'CO_{target_date}_crunchy_sd_{i+1}.tif'\n",
    "\n",
    "    crs = download_data(aoi=aoi, target_date=target_date, snowoff_date=snowoff_date, out_dir=out_dir)\n",
    "    ds = apply_model(out_dir=out_dir, out_name=out_name, crs=crs, model_path=model_path, delete_inputs=True)\n",
    "    del crs, ds\n",
    "    gc.collect()"
   ]
  }
 ],
 "metadata": {
  "kernelspec": {
   "display_name": "Python 3 (ipykernel)",
   "language": "python",
   "name": "python3"
  },
  "language_info": {
   "codemirror_mode": {
    "name": "ipython",
    "version": 3
   },
   "file_extension": ".py",
   "mimetype": "text/x-python",
   "name": "python",
   "nbconvert_exporter": "python",
   "pygments_lexer": "ipython3",
   "version": "3.11.5"
  }
 },
 "nbformat": 4,
 "nbformat_minor": 5
}
