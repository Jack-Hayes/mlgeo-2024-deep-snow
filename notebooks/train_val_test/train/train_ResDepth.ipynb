{
 "cells": [
  {
   "cell_type": "markdown",
   "id": "5a54d384-100e-4f91-b8b0-44ce430c3e8e",
   "metadata": {},
   "source": [
    "# Train a model on the deep-snow dataset"
   ]
  },
  {
   "cell_type": "code",
   "execution_count": 1,
   "id": "a93e0af5-5251-47ba-853b-6d43867dca3f",
   "metadata": {},
   "outputs": [],
   "source": [
    "from torch.utils.data import DataLoader\n",
    "import numpy as np\n",
    "import matplotlib.pyplot as plt\n",
    "import torch\n",
    "from glob import glob\n",
    "import seaborn as sns\n",
    "import torch.nn as nn\n",
    "import torch.optim as optim\n",
    "import torch.nn.functional as F\n",
    "from tqdm import tqdm\n",
    "import pickle\n",
    "import random\n",
    "\n",
    "import deep_snow.models\n",
    "import deep_snow.dataset"
   ]
  },
  {
   "cell_type": "markdown",
   "id": "fa768b49-c7ea-4b12-84bb-5f4628113110",
   "metadata": {},
   "source": [
    "## Prepare dataloader"
   ]
  },
  {
   "cell_type": "code",
   "execution_count": 2,
   "id": "981de39d-c6cb-4f85-9f11-26ad0785d9dc",
   "metadata": {},
   "outputs": [],
   "source": [
    "# get paths to data\n",
    "train_data_dir = '/mnt/Backups/gbrench/repos/deep-snow/data/subsets_v4/train'\n",
    "train_path_list = glob(f'{train_data_dir}/ASO_50M_SD*.nc')\n",
    "\n",
    "val_data_dir = '/mnt/Backups/gbrench/repos/deep-snow/data/subsets_v4/val'\n",
    "val_path_list = glob(f'{val_data_dir}/ASO_50M_SD*.nc')"
   ]
  },
  {
   "cell_type": "code",
   "execution_count": 3,
   "id": "52738d11-e34f-4af7-8088-c1775076997a",
   "metadata": {},
   "outputs": [],
   "source": [
    "# # to test code with a small sample of the data\n",
    "# import random\n",
    "# n_imgs = 16\n",
    "\n",
    "# train_path_list = random.sample(train_path_list, n_imgs )\n",
    "# val_path_list = random.sample(val_path_list, n_imgs)"
   ]
  },
  {
   "cell_type": "code",
   "execution_count": 4,
   "id": "dbe8cd93-40cd-49ce-8d18-060bd4c8aa3d",
   "metadata": {},
   "outputs": [],
   "source": [
    "# define data to be returned by dataloader\n",
    "selected_channels = [\n",
    "    # ASO products\n",
    "    'aso_sd', # ASO lidar snow depth (target dataset)\n",
    "    'aso_gap_map', # gaps in ASO data\n",
    "    \n",
    "    # Sentinel-1 products\n",
    "    'snowon_vv', # snow on Sentinel-1 VV polarization backscatter in dB, closest acquisition to ASO acquisition\n",
    "    'snowon_vh', # snow on Sentinel-1 VH polarization backscatter in dB, closest acquisition to ASO acquisition\n",
    "    'snowoff_vv', # snow off Sentinel-1 VV polarization backscatter in dB, closest acquisition to ASO acquisition\n",
    "    'snowoff_vh', # snow off Sentinel-1 VH polarization backscatter in dB, closest acquisition to ASO acquisition\n",
    "    'snowon_vv_mean', # snow on Sentinel-1 VV polarization backscatter in dB, mean of acquisition in 4 week period around ASO acquisition\n",
    "    'snowon_vh_mean', # snow on Sentinel-1 VH polarization backscatter in dB, mean of acquisition in 4 week period around ASO acquisition\n",
    "    'snowoff_vv_mean', # snow off Sentinel-1 VV polarization backscatter in dB, mean of acquisition in 4 week period around ASO acquisition\n",
    "    'snowoff_vh_mean', # snow off Sentinel-1 VH polarization backscatter in dB, mean of acquisition in 4 week period around ASO acquisition\n",
    "    'snowon_cr', # cross ratio, snowon_vh - snowon_vv\n",
    "    'snowoff_cr', # cross ratio, snowoff_vh - snowoff_vv\n",
    "    'delta_cr', # change in cross ratio, snowon_cr - snowoff_cr\n",
    "    'rtc_gap_map', # gaps in Sentinel-1 data\n",
    "    'rtc_mean_gap_map', # gaps in Sentinel-1 mean data\n",
    "    \n",
    "    # Sentinel-2 products \n",
    "    'aerosol_optical_thickness', # snow on Sentinel-2 aerosol optical thickness band \n",
    "    'coastal_aerosol', # snow on Sentinel-2 coastal aerosol band\n",
    "    'blue', # snow on Sentinel-2 blue band\n",
    "    'green', # snow on Sentinel-2 green band\n",
    "    'red', # snow on Sentinel-2 red band\n",
    "    'red_edge1', # snow on Sentinel-2 red edge 1 band\n",
    "    'red_edge2', # snow on Sentinel-2 red edge 2 band\n",
    "    'red_edge3', # snow on Sentinel-2 red edge 3 band\n",
    "    'nir', # snow on Sentinel-2 near infrared band\n",
    "    'water_vapor', # snow on Sentinel-2 water vapor\n",
    "    'swir1', # snow on Sentinel-2 shortwave infrared band 1\n",
    "    'swir2', # snow on Sentinel-2 shortwave infrared band 2\n",
    "    'scene_class_map', # snow on Sentinel-2 scene classification product\n",
    "    'water_vapor_product', # snow on Sentinel-2 water vapor product\n",
    "    'ndvi', # Normalized Difference Vegetation Index from Sentinel-2\n",
    "    'ndsi', # Normalized Difference Snow Index from Sentinel-2\n",
    "    'ndwi', # Normalized Difference Water Index from Sentinel-2\n",
    "    's2_gap_map', # gaps in Sentinel-2 data\n",
    "\n",
    "    # PROBA-V global land cover dataset (Buchhorn et al., 2020)\n",
    "    'fcf', # fractional forest cover\n",
    "    \n",
    "    # COP30 digital elevation model      \n",
    "    'elevation',\n",
    "    'slope',\n",
    "    'aspect',\n",
    "    'curvature',\n",
    "    'tpi',\n",
    "    'tri',\n",
    "\n",
    "    # latitude and longitude\n",
    "    'latitude',\n",
    "    'longitude',\n",
    "\n",
    "    # day of water year\n",
    "    'dowy'\n",
    "                    ]\n",
    "\n",
    "# prepare training and validation dataloaders\n",
    "train_data = deep_snow.dataset.Dataset(train_path_list, selected_channels, norm=True)\n",
    "train_loader = torch.utils.data.DataLoader(dataset=train_data, batch_size=16, shuffle=True, num_workers=16)\n",
    "val_data = deep_snow.dataset.Dataset(val_path_list, selected_channels, norm=True, augment=False)\n",
    "val_loader = torch.utils.data.DataLoader(dataset=val_data, batch_size=16, shuffle=True, num_workers=16)"
   ]
  },
  {
   "cell_type": "code",
   "execution_count": 5,
   "id": "db0c867b-36a4-4719-9320-3aa19b0766bf",
   "metadata": {},
   "outputs": [],
   "source": [
    "# define input channels for model\n",
    "input_channels = [\n",
    "    'snowon_vv',\n",
    "    'delta_cr',\n",
    "    'green',\n",
    "    'swir2',\n",
    "    'ndsi',\n",
    "    'ndwi',\n",
    "    'elevation',\n",
    "    'latitude',\n",
    "    'longitude']"
   ]
  },
  {
   "cell_type": "markdown",
   "id": "f6b36322-9ac5-4a3f-aefa-98ad371d1ee0",
   "metadata": {},
   "source": [
    "## Train model"
   ]
  },
  {
   "cell_type": "code",
   "execution_count": 6,
   "id": "f2aebf81-be4e-4200-ab12-70168b8eb37b",
   "metadata": {},
   "outputs": [],
   "source": [
    "# import model\n",
    "# model = deep_snow.models.SimpleCNN(n_input_channels=len(input_channels))\n",
    "# model = deep_snow.models.UNet(n_input_channels=len(input_channels))\n",
    "# model = deep_snow.models.ResUNet(n_input_channels=len(input_channels))\n",
    "# model = deep_snow.models.ResDepth(n_input_channels=len(input_channels))\n",
    "# model = deep_snow.models.VisionTransformer(n_input_channels=len(input_channels))\n",
    "\n",
    "model = deep_snow.models.ResDepth(n_input_channels=len(input_channels), depth=5)\n",
    "model.to('cuda');  # Run on GPU\n",
    "\n",
    "# name your model\n",
    "model_name = 'quinn_ResDepth_v9'"
   ]
  },
  {
   "cell_type": "code",
   "execution_count": null,
   "id": "5da4e4b7-5679-4e71-b1c3-664346b40060",
   "metadata": {
    "scrolled": true
   },
   "outputs": [
    {
     "name": "stdout",
     "output_type": "stream",
     "text": [
      "\n",
      "Starting epoch 1\n"
     ]
    },
    {
     "name": "stderr",
     "output_type": "stream",
     "text": [
      "Epoch 1/500: 100%|████████████████████████████| 774/774 [27:59<00:00,  2.17s/batch, batch loss=0.000921, mean epoch loss=0.000995]\n"
     ]
    },
    {
     "name": "stdout",
     "output_type": "stream",
     "text": [
      "Training loss: 0.0009945781601942445\n"
     ]
    },
    {
     "name": "stderr",
     "output_type": "stream",
     "text": [
      "Epoch 1/500: 100%|████████████████████████████| 135/135 [01:44<00:00,  1.30batch/s, batch loss=0.000721, mean epoch loss=0.000835]\n"
     ]
    },
    {
     "name": "stdout",
     "output_type": "stream",
     "text": [
      "Validation loss: 0.0008352722571645346\n",
      "\n",
      "Starting epoch 2\n"
     ]
    },
    {
     "name": "stderr",
     "output_type": "stream",
     "text": [
      "Epoch 2/500: 100%|████████████████████████████| 774/774 [05:10<00:00,  2.49batch/s, batch loss=0.000254, mean epoch loss=0.000877]\n"
     ]
    },
    {
     "name": "stdout",
     "output_type": "stream",
     "text": [
      "Training loss: 0.0008768303138777723\n"
     ]
    },
    {
     "name": "stderr",
     "output_type": "stream",
     "text": [
      "Epoch 2/500: 100%|█████████████████████████████| 135/135 [00:44<00:00,  3.04batch/s, batch loss=0.00032, mean epoch loss=0.000909]\n"
     ]
    },
    {
     "name": "stdout",
     "output_type": "stream",
     "text": [
      "Validation loss: 0.0009085515623963956\n",
      "\n",
      "Starting epoch 3\n"
     ]
    },
    {
     "name": "stderr",
     "output_type": "stream",
     "text": [
      "Epoch 3/500:  40%|███████████▋                 | 312/774 [01:43<02:28,  3.10batch/s, batch loss=0.00111, mean epoch loss=0.000799]IOPub message rate exceeded.\n",
      "The Jupyter server will temporarily stop sending output\n",
      "to the client in order to avoid crashing it.\n",
      "To change this limit, set the config variable\n",
      "`--ServerApp.iopub_msg_rate_limit`.\n",
      "\n",
      "Current values:\n",
      "ServerApp.iopub_msg_rate_limit=1000.0 (msgs/sec)\n",
      "ServerApp.rate_limit_window=3.0 (secs)\n",
      "\n",
      "Epoch 47/500: 100%|████████████████████████████| 774/774 [04:07<00:00,  3.13batch/s, batch loss=0.000209, mean epoch loss=0.00039]\n"
     ]
    },
    {
     "name": "stdout",
     "output_type": "stream",
     "text": [
      "Training loss: 0.00039014903989268405\n"
     ]
    },
    {
     "name": "stderr",
     "output_type": "stream",
     "text": [
      "Epoch 47/500: 100%|███████████████████████████| 135/135 [00:42<00:00,  3.15batch/s, batch loss=0.000776, mean epoch loss=0.000323]\n"
     ]
    },
    {
     "name": "stdout",
     "output_type": "stream",
     "text": [
      "Validation loss: 0.0003229957584591358\n",
      "\n",
      "Starting epoch 48\n"
     ]
    },
    {
     "name": "stderr",
     "output_type": "stream",
     "text": [
      "Epoch 48/500: 100%|███████████████████████████| 774/774 [04:15<00:00,  3.02batch/s, batch loss=0.000384, mean epoch loss=0.000396]\n"
     ]
    },
    {
     "name": "stdout",
     "output_type": "stream",
     "text": [
      "Training loss: 0.00039600748736712526\n"
     ]
    },
    {
     "name": "stderr",
     "output_type": "stream",
     "text": [
      "Epoch 48/500: 100%|███████████████████████████| 135/135 [00:42<00:00,  3.17batch/s, batch loss=0.000657, mean epoch loss=0.000382]\n"
     ]
    },
    {
     "name": "stdout",
     "output_type": "stream",
     "text": [
      "Validation loss: 0.0003823265849388446\n",
      "\n",
      "Starting epoch 49\n"
     ]
    },
    {
     "name": "stderr",
     "output_type": "stream",
     "text": [
      "Epoch 49/500:  48%|█████████████▍              | 373/774 [01:59<02:02,  3.28batch/s, batch loss=0.00023, mean epoch loss=0.000388]IOPub message rate exceeded.\n",
      "The Jupyter server will temporarily stop sending output\n",
      "to the client in order to avoid crashing it.\n",
      "To change this limit, set the config variable\n",
      "`--ServerApp.iopub_msg_rate_limit`.\n",
      "\n",
      "Current values:\n",
      "ServerApp.iopub_msg_rate_limit=1000.0 (msgs/sec)\n",
      "ServerApp.rate_limit_window=3.0 (secs)\n",
      "\n",
      "Epoch 92/500: 100%|███████████████████████████| 774/774 [04:14<00:00,  3.04batch/s, batch loss=0.000467, mean epoch loss=0.000316]\n"
     ]
    },
    {
     "name": "stdout",
     "output_type": "stream",
     "text": [
      "Training loss: 0.0003160885320380011\n"
     ]
    },
    {
     "name": "stderr",
     "output_type": "stream",
     "text": [
      "Epoch 92/500: 100%|███████████████████████████| 135/135 [00:42<00:00,  3.18batch/s, batch loss=0.000123, mean epoch loss=0.000306]\n"
     ]
    },
    {
     "name": "stdout",
     "output_type": "stream",
     "text": [
      "Validation loss: 0.00030573596668546086\n",
      "\n",
      "Starting epoch 93\n"
     ]
    },
    {
     "name": "stderr",
     "output_type": "stream",
     "text": [
      "Epoch 93/500: 100%|███████████████████████████| 774/774 [04:17<00:00,  3.01batch/s, batch loss=0.000132, mean epoch loss=0.000312]\n"
     ]
    },
    {
     "name": "stdout",
     "output_type": "stream",
     "text": [
      "Training loss: 0.0003123681050779729\n"
     ]
    },
    {
     "name": "stderr",
     "output_type": "stream",
     "text": [
      "Epoch 93/500: 100%|████████████████████████████| 135/135 [00:42<00:00,  3.15batch/s, batch loss=0.000155, mean epoch loss=0.00031]\n"
     ]
    },
    {
     "name": "stdout",
     "output_type": "stream",
     "text": [
      "Validation loss: 0.0003098306365750937\n",
      "\n",
      "Starting epoch 94\n"
     ]
    },
    {
     "name": "stderr",
     "output_type": "stream",
     "text": [
      "Epoch 94/500:  52%|██████████████             | 404/774 [02:13<03:26,  1.79batch/s, batch loss=0.000275, mean epoch loss=0.000334]"
     ]
    }
   ],
   "source": [
    "# Define optimizer and loss function\n",
    "optimizer = optim.AdamW(model.parameters(), lr=0.0003, weight_decay=0.0001)\n",
    "scheduler = optim.lr_scheduler.ReduceLROnPlateau(optimizer, 'min')\n",
    "loss_fn = nn.MSELoss()\n",
    "epochs = 500\n",
    "min_val_loss = 1\n",
    "\n",
    "train_loss = []\n",
    "val_loss = []\n",
    "\n",
    "# training and validation loop\n",
    "for epoch in range(epochs):\n",
    "    print(f'\\nStarting epoch {epoch+1}')\n",
    "    train_epoch_loss = []\n",
    "    val_epoch_loss = []\n",
    "\n",
    "    # Loop through training data with tqdm progress bar\n",
    "    train_pbar = tqdm(train_loader, desc=f\"Epoch {epoch+1}/{epochs}\", unit=\"batch\", ncols=130)\n",
    "    for data_tuple in train_pbar:\n",
    "        model.train()\n",
    "        optimizer.zero_grad()\n",
    "\n",
    "        # read data into dictionary\n",
    "        data_dict = {name: tensor for name, tensor in zip(selected_channels, data_tuple)}\n",
    "        \n",
    "        # prepare inputs by concatenating along channel dimension\n",
    "        inputs = torch.cat([data_dict[channel] for channel in input_channels], dim=1).to('cuda')\n",
    "\n",
    "        # generate prediction\n",
    "        pred_sd = model(inputs)\n",
    "\n",
    "        # Limit prediction to areas with valid data\n",
    "        pred_sd = torch.where(data_dict['aso_gap_map'].to('cuda') + data_dict['rtc_gap_map'].to('cuda') + data_dict['s2_gap_map'].to('cuda') == 0, pred_sd, torch.zeros_like(pred_sd).to('cuda'))\n",
    "        aso_sd = torch.where(data_dict['aso_gap_map'].to('cuda') + data_dict['rtc_gap_map'].to('cuda') + data_dict['s2_gap_map'].to('cuda')== 0, data_dict['aso_sd'].to('cuda'), torch.zeros_like(pred_sd).to('cuda'))\n",
    "\n",
    "        # Calculate loss\n",
    "        train_batch_loss = loss_fn(pred_sd, aso_sd.to('cuda'))\n",
    "        train_epoch_loss.append(train_batch_loss.item())\n",
    "\n",
    "        # Update tqdm progress bar with batch loss\n",
    "        train_pbar.set_postfix({'batch loss': train_batch_loss.item(), 'mean epoch loss': np.mean(train_epoch_loss)})\n",
    "\n",
    "        train_batch_loss.backward()  # Propagate the gradients in backward pass\n",
    "        optimizer.step()\n",
    "\n",
    "    train_loss.append(np.mean(train_epoch_loss))\n",
    "    print(f'Training loss: {np.mean(train_epoch_loss)}')\n",
    "    scheduler.step(np.mean(train_epoch_loss))\n",
    "\n",
    "    # Run model on validation data with tqdm progress bar\n",
    "    val_pbar = tqdm(val_loader, desc=f\"Epoch {epoch+1}/{epochs}\", unit=\"batch\", ncols=130)\n",
    "    for data_tuple in val_pbar:\n",
    "        with torch.no_grad():\n",
    "            model.eval()\n",
    "            \n",
    "            # read data into dictionary\n",
    "            data_dict = {name: tensor for name, tensor in zip(selected_channels, data_tuple)}\n",
    "            # prepare inputs by concatenating along channel dimension\n",
    "            inputs = torch.cat([data_dict[channel] for channel in input_channels], dim=1).to('cuda')\n",
    "    \n",
    "            # generate prediction\n",
    "            pred_sd = model(inputs)\n",
    "    \n",
    "            # Limit prediction to areas with valid data\n",
    "            pred_sd = torch.where(data_dict['aso_gap_map'].to('cuda') + data_dict['rtc_gap_map'].to('cuda') + data_dict['s2_gap_map'].to('cuda') == 0, pred_sd, torch.zeros_like(pred_sd).to('cuda'))\n",
    "            aso_sd = torch.where(data_dict['aso_gap_map'].to('cuda') + data_dict['rtc_gap_map'].to('cuda') + data_dict['s2_gap_map'].to('cuda') == 0, data_dict['aso_sd'].to('cuda'), torch.zeros_like(pred_sd).to('cuda'))\n",
    "    \n",
    "            # Calculate loss\n",
    "            val_batch_loss = loss_fn(pred_sd, aso_sd.to('cuda'))\n",
    "            val_epoch_loss.append(val_batch_loss.item())\n",
    "\n",
    "            # Update tqdm progress bar with batch loss\n",
    "            val_pbar.set_postfix({'batch loss': val_batch_loss.item(), 'mean epoch loss': np.mean(val_epoch_loss)})\n",
    "\n",
    "    if np.mean(val_epoch_loss) < min_val_loss:\n",
    "        if epoch > 30:\n",
    "            min_val_loss = np.mean(val_epoch_loss)\n",
    "            torch.save(model.state_dict(), f'../../weights/{model_name}_{epoch}epochs')\n",
    "                    \n",
    "    # # calculate loss over previous 10 epochs for early stopping later\n",
    "    # if epoch > 20:\n",
    "    #     past_loss = np.mean(val_loss[-20:-10])\n",
    "\n",
    "    val_loss.append(np.mean(val_epoch_loss))\n",
    "    print(f'Validation loss: {np.mean(val_epoch_loss)}')\n",
    "    \n",
    "    # save loss \n",
    "    with open(f'../../loss/{model_name}_val_loss.pkl', 'wb') as f:\n",
    "        pickle.dump(val_loss, f)\n",
    "        \n",
    "    with open(f'../../loss/{model_name}_train_loss.pkl', 'wb') as f:\n",
    "        pickle.dump(train_loss, f)\n",
    "\n",
    "    # # implement early stopping\n",
    "    # if epoch > 20:\n",
    "    #     current_loss = np.mean(val_loss[-10:-1])\n",
    "    #     if current_loss > past_loss:\n",
    "    #         counter +=1\n",
    "    #         if counter >= 10:\n",
    "    #             print('early stopping triggered')\n",
    "    #             # save model\n",
    "    #             torch.save(model.state_dict(), f'../../weights/{model_name}_{epoch}epochs')\n",
    "    #             break\n",
    "    #     else:\n",
    "    #         counter = 0"
   ]
  },
  {
   "cell_type": "markdown",
   "id": "16d78371-b064-4e72-9a68-94b91ab43b6a",
   "metadata": {},
   "source": [
    "## Examine results"
   ]
  },
  {
   "cell_type": "code",
   "execution_count": null,
   "id": "3b1ab005-2d29-4ff3-b58f-2253a8340512",
   "metadata": {},
   "outputs": [],
   "source": [
    "#load previous model\n",
    "model = deep_snow.models.ResDepth(n_input_channels=len(input_channels), depth=5)\n",
    "model.load_state_dict(torch.load('../../weights/quinn_ResDepth_v4_74epochs'))\n",
    "model.to('cuda');"
   ]
  },
  {
   "cell_type": "code",
   "execution_count": null,
   "id": "99bcd955-2ccd-4194-8af4-90d1309f88aa",
   "metadata": {},
   "outputs": [],
   "source": [
    "with open(f'../../loss/quinn_ResDepth_v9_val_loss.pkl', 'rb') as f:\n",
    "        val_loss = pickle.load(f)\n",
    "\n",
    "with open(f'../../loss/quinn_ResDepth_v9_train_loss.pkl', 'rb') as f:\n",
    "        train_loss = pickle.load(f)\n",
    "\n",
    "\n",
    "# plot loss over all epochs\n",
    "f, ax = plt.subplots(figsize=(10,5))\n",
    "ax.plot(train_loss, label='training')\n",
    "ax.plot(val_loss, label='validation')\n",
    "ax.set_xlabel('epoch')\n",
    "ax.set_ylabel('MSE loss')\n",
    "ax.set_title('Loss')\n",
    "ax.legend()\n",
    "\n",
    "# save figure\n",
    "plt.savefig(f'../../figs/quinn_ResDepth_v9_loss.png', dpi=300)"
   ]
  },
  {
   "cell_type": "code",
   "execution_count": null,
   "id": "7270d680-a813-497b-a06c-6b9d63c7eb82",
   "metadata": {},
   "outputs": [],
   "source": [
    "val_loader = torch.utils.data.DataLoader(dataset=val_data, batch_size=1, shuffle=True)"
   ]
  },
  {
   "cell_type": "code",
   "execution_count": null,
   "id": "ac2842a0-6ed9-4dda-bc59-2fd6cda18c53",
   "metadata": {},
   "outputs": [],
   "source": [
    "# visualize model predictions\n",
    "sns.set_theme()\n",
    "num_samples = 1\n",
    "\n",
    "for i, data_tuple in enumerate(val_loader):\n",
    "    if i < num_samples:\n",
    "        # read data into dictionary\n",
    "        data_dict = {name: tensor for name, tensor in zip(selected_channels, data_tuple)}\n",
    "\n",
    "        with torch.no_grad():\n",
    "            # Concatenate input feature channels, make prediction\n",
    "            inputs = torch.cat([data_dict[channel] for channel in input_channels], dim=1).to('cuda')\n",
    "            pred_sd = model(inputs)  # Generate predictions using the model\n",
    "            pred_sd = pred_sd.to('cpu')\n",
    "        \n",
    "        f, ax = plt.subplots(3, 3, figsize=(15, 15), sharex=True, sharey=True)\n",
    "        ax[0, 0].imshow(pred_sd.squeeze(), cmap='Blues', vmin=0, vmax=0.4, interpolation=None)\n",
    "        ax[0, 0].set_title('Predicted Snow Depth')\n",
    "        ax[0, 1].imshow(data_dict['aso_sd'].squeeze(), cmap='Blues', vmin=0, vmax=0.4, interpolation=None)\n",
    "        ax[0, 1].set_title('ASO Lidar Snow Depth')\n",
    "        ax[0, 2].imshow(data_dict['elevation'].squeeze(), cmap='viridis', interpolation='none')\n",
    "        ax[0, 2].set_title('Copernicus DEM')\n",
    "        ax[1, 0].imshow(data_dict['fcf'].squeeze(), cmap='Greens', interpolation='none')\n",
    "        ax[1, 0].set_title('Fractional Forest Cover')\n",
    "        norm_max = np.max([data_dict['green'].max(), data_dict['red'].max(), data_dict['blue'].max()]) # there are better ways to do this\n",
    "        ax[1, 1].imshow(torch.cat((data_dict['red'].squeeze()[:, :, None]/norm_max, data_dict['green'].squeeze()[:, :, None]/norm_max, data_dict['blue'].squeeze()[:, :, None]/norm_max), 2).squeeze(), interpolation='none')\n",
    "        ax[1, 1].set_title('true color image')\n",
    "        ax[1, 2].imshow(data_dict['aso_gap_map'].squeeze() + data_dict['rtc_gap_map'].squeeze() + data_dict['s2_gap_map'].squeeze(), cmap='Purples', interpolation='none')\n",
    "        ax[1, 2].set_title('ASO and RTC Gaps')\n",
    "        ax[2, 0].imshow(data_dict['ndvi'].squeeze(), cmap='YlGn', interpolation='none')\n",
    "        ax[2, 0].set_title('NDVI')\n",
    "        ax[2, 1].imshow(data_dict['ndsi'].squeeze(), cmap='BuPu', interpolation='none')\n",
    "        ax[2, 1].set_title('NDSI')\n",
    "        ax[2, 2].imshow(data_dict['ndwi'].squeeze(), cmap='YlGnBu', interpolation='none')\n",
    "        ax[2, 2].set_title('NDWI')\n",
    "        \n",
    "        # modify plot style\n",
    "        for a in ax.flat:\n",
    "            a.set_aspect('equal')\n",
    "            a.set_xticks(np.arange(0, data_dict['aso_sd'].squeeze().shape[1], 43))\n",
    "            a.set_yticks(np.arange(0, data_dict['aso_sd'].squeeze().shape[0], 43))\n",
    "            a.grid(True, linewidth=1, alpha=0.5)\n",
    "        \n",
    "        f.tight_layout()\n",
    "    else:\n",
    "        break"
   ]
  },
  {
   "cell_type": "code",
   "execution_count": null,
   "id": "9b6e979b-7dac-44e1-8e78-fc8f28f1ebd2",
   "metadata": {},
   "outputs": [],
   "source": [
    "# visualize prediction error\n",
    "sns.set_theme()\n",
    "num_samples = 1\n",
    "norm_dict = deep_snow.dataset.norm_dict\n",
    "\n",
    "for i, data_tuple in enumerate(val_loader):\n",
    "    if i < num_samples:\n",
    "        # read data into dictionary\n",
    "        data_dict = {name: tensor for name, tensor in zip(selected_channels, data_tuple)}\n",
    "\n",
    "        with torch.no_grad():\n",
    "            # Concatenate input feature channels, make prediction\n",
    "            inputs = torch.cat([data_dict[channel] for channel in input_channels], dim=1).to('cuda')\n",
    "            pred_sd = model(inputs)  # Generate predictions using the model\n",
    "            pred_sd = pred_sd.to('cpu')\n",
    "\n",
    "            # mask nodata areas\n",
    "            pred_sd = torch.where(data_dict['aso_gap_map']+data_dict['rtc_gap_map'] + data_dict['s2_gap_map'] == 0, pred_sd, torch.zeros_like(pred_sd))\n",
    "            aso_sd = torch.where(data_dict['aso_gap_map']+data_dict['rtc_gap_map'] + data_dict['s2_gap_map'] == 0, data_dict['aso_sd'], torch.zeros_like(pred_sd))\n",
    "\n",
    "            # undo normalization\n",
    "            pred_sd = deep_snow.dataset.undo_norm(pred_sd, deep_snow.dataset.norm_dict['aso_sd']).squeeze()\n",
    "            aso_sd = deep_snow.dataset.undo_norm(aso_sd, deep_snow.dataset.norm_dict['aso_sd']).squeeze()\n",
    "            \n",
    "            # mask values above 0\n",
    "            pred_sd = torch.where(pred_sd >= 0, pred_sd, torch.zeros_like(pred_sd))\n",
    "            \n",
    "            f, ax = plt.subplots(2, 2, figsize=(10,10), sharex=True, sharey=True)\n",
    "            im0 = ax[0, 0].imshow(pred_sd, cmap='Blues', vmin=0, vmax=2, interpolation='none') \n",
    "            ax[0, 0].set_title('predicted snow depth')\n",
    "            f.colorbar(im0, shrink=0.5)\n",
    "            im1 = ax[0, 1].imshow(aso_sd, cmap='Blues', vmin=0, vmax=2, interpolation='none')\n",
    "            ax[0, 1].set_title('ASO lidar snow depth')\n",
    "            f.colorbar(im1, shrink=0.5)\n",
    "\n",
    "            im2 = ax[1, 0].imshow(aso_sd-pred_sd, cmap='RdBu', vmin=-2, vmax=2, interpolation='none') \n",
    "            ax[1, 0].set_title('ASO snow depth - predicted snow depth')\n",
    "            f.colorbar(im2, shrink=0.5)\n",
    "            norm_max = np.max([data_dict['green'].max(), data_dict['red'].max(), data_dict['blue'].max()]) # there are better ways to do this\n",
    "            im3 = ax[1, 1].imshow(torch.cat((data_dict['red'].squeeze()[:, :, None]/norm_max, data_dict['green'].squeeze()[:, :, None]/norm_max, data_dict['blue'].squeeze()[:, :, None]/norm_max), 2).squeeze(), interpolation='none')\n",
    "            ax[1, 1].set_title('true color image')\n",
    "            f.colorbar(im3, shrink=0.5)\n",
    "\n",
    "            # modify plot style\n",
    "            for a in ax.flat:\n",
    "                a.set_aspect('equal')\n",
    "                a.set_xticks(np.arange(0, data_dict['aso_sd'].squeeze().shape[1], 43))\n",
    "                a.set_yticks(np.arange(0, data_dict['aso_sd'].squeeze().shape[0], 43))\n",
    "                a.grid(True, linewidth=1, alpha=0.5)\n",
    "\n",
    "            plt.tight_layout()\n",
    "    else: \n",
    "        break"
   ]
  }
 ],
 "metadata": {
  "kernelspec": {
   "display_name": "Python [conda env:deep-snow] *",
   "language": "python",
   "name": "conda-env-deep-snow-py"
  },
  "language_info": {
   "codemirror_mode": {
    "name": "ipython",
    "version": 3
   },
   "file_extension": ".py",
   "mimetype": "text/x-python",
   "name": "python",
   "nbconvert_exporter": "python",
   "pygments_lexer": "ipython3",
   "version": "3.11.6"
  }
 },
 "nbformat": 4,
 "nbformat_minor": 5
}
