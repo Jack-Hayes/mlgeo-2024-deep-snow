{
 "cells": [
  {
   "cell_type": "markdown",
   "id": "5a54d384-100e-4f91-b8b0-44ce430c3e8e",
   "metadata": {},
   "source": [
    "# Train a model on the deep-snow dataset"
   ]
  },
  {
   "cell_type": "code",
   "execution_count": 1,
   "id": "a93e0af5-5251-47ba-853b-6d43867dca3f",
   "metadata": {},
   "outputs": [],
   "source": [
    "from torch.utils.data import DataLoader\n",
    "import numpy as np\n",
    "import matplotlib.pyplot as plt\n",
    "import torch\n",
    "from glob import glob\n",
    "import seaborn as sns\n",
    "import torch.nn as nn\n",
    "import torch.optim as optim\n",
    "import torch.nn.functional as F\n",
    "from tqdm import tqdm\n",
    "import pickle\n",
    "import random\n",
    "\n",
    "import deep_snow.models\n",
    "import deep_snow.dataset"
   ]
  },
  {
   "cell_type": "markdown",
   "id": "fa768b49-c7ea-4b12-84bb-5f4628113110",
   "metadata": {},
   "source": [
    "## Prepare dataloader"
   ]
  },
  {
   "cell_type": "code",
   "execution_count": 2,
   "id": "981de39d-c6cb-4f85-9f11-26ad0785d9dc",
   "metadata": {},
   "outputs": [],
   "source": [
    "# get paths to data\n",
    "train_data_dir = '/mnt/Backups/gbrench/repos/deep-snow/data/subsets_v4/train'\n",
    "train_path_list = glob(f'{train_data_dir}/ASO_50M_SD*.nc')\n",
    "\n",
    "val_data_dir = '/mnt/Backups/gbrench/repos/deep-snow/data/subsets_v4/val'\n",
    "val_path_list = glob(f'{val_data_dir}/ASO_50M_SD*.nc')"
   ]
  },
  {
   "cell_type": "code",
   "execution_count": null,
   "id": "52738d11-e34f-4af7-8088-c1775076997a",
   "metadata": {},
   "outputs": [],
   "source": [
    "# # to test code with a small sample of the data\n",
    "# import random\n",
    "# n_imgs = 16\n",
    "\n",
    "# train_path_list = random.sample(train_path_list, n_imgs )\n",
    "# val_path_list = random.sample(val_path_list, n_imgs)"
   ]
  },
  {
   "cell_type": "code",
   "execution_count": 3,
   "id": "dbe8cd93-40cd-49ce-8d18-060bd4c8aa3d",
   "metadata": {},
   "outputs": [],
   "source": [
    "# define data to be returned by dataloader\n",
    "selected_channels = [\n",
    "    # ASO products\n",
    "    'aso_sd', # ASO lidar snow depth (target dataset)\n",
    "    'aso_gap_map', # gaps in ASO data\n",
    "    \n",
    "    # Sentinel-1 products\n",
    "    'snowon_vv', # snow on Sentinel-1 VV polarization backscatter in dB, closest acquisition to ASO acquisition\n",
    "    'snowon_vh', # snow on Sentinel-1 VH polarization backscatter in dB, closest acquisition to ASO acquisition\n",
    "    'snowoff_vv', # snow off Sentinel-1 VV polarization backscatter in dB, closest acquisition to ASO acquisition\n",
    "    'snowoff_vh', # snow off Sentinel-1 VH polarization backscatter in dB, closest acquisition to ASO acquisition\n",
    "    'snowon_vv_mean', # snow on Sentinel-1 VV polarization backscatter in dB, mean of acquisition in 4 week period around ASO acquisition\n",
    "    'snowon_vh_mean', # snow on Sentinel-1 VH polarization backscatter in dB, mean of acquisition in 4 week period around ASO acquisition\n",
    "    'snowoff_vv_mean', # snow off Sentinel-1 VV polarization backscatter in dB, mean of acquisition in 4 week period around ASO acquisition\n",
    "    'snowoff_vh_mean', # snow off Sentinel-1 VH polarization backscatter in dB, mean of acquisition in 4 week period around ASO acquisition\n",
    "    'snowon_cr', # cross ratio, snowon_vh - snowon_vv\n",
    "    'snowoff_cr', # cross ratio, snowoff_vh - snowoff_vv\n",
    "    'delta_cr', # change in cross ratio, snowon_cr - snowoff_cr\n",
    "    'rtc_gap_map', # gaps in Sentinel-1 data\n",
    "    'rtc_mean_gap_map', # gaps in Sentinel-1 mean data\n",
    "    \n",
    "    # Sentinel-2 products \n",
    "    'aerosol_optical_thickness', # snow on Sentinel-2 aerosol optical thickness band \n",
    "    'coastal_aerosol', # snow on Sentinel-2 coastal aerosol band\n",
    "    'blue', # snow on Sentinel-2 blue band\n",
    "    'green', # snow on Sentinel-2 green band\n",
    "    'red', # snow on Sentinel-2 red band\n",
    "    'red_edge1', # snow on Sentinel-2 red edge 1 band\n",
    "    'red_edge2', # snow on Sentinel-2 red edge 2 band\n",
    "    'red_edge3', # snow on Sentinel-2 red edge 3 band\n",
    "    'nir', # snow on Sentinel-2 near infrared band\n",
    "    'water_vapor', # snow on Sentinel-2 water vapor\n",
    "    'swir1', # snow on Sentinel-2 shortwave infrared band 1\n",
    "    'swir2', # snow on Sentinel-2 shortwave infrared band 2\n",
    "    'scene_class_map', # snow on Sentinel-2 scene classification product\n",
    "    'water_vapor_product', # snow on Sentinel-2 water vapor product\n",
    "    'ndvi', # Normalized Difference Vegetation Index from Sentinel-2\n",
    "    'ndsi', # Normalized Difference Snow Index from Sentinel-2\n",
    "    'ndwi', # Normalized Difference Water Index from Sentinel-2\n",
    "    's2_gap_map', # gaps in Sentinel-2 data\n",
    "\n",
    "    # PROBA-V global land cover dataset (Buchhorn et al., 2020)\n",
    "    'fcf', # fractional forest cover\n",
    "    \n",
    "    # COP30 digital elevation model      \n",
    "    'elevation',\n",
    "    'slope',\n",
    "    'aspect',\n",
    "    'curvature',\n",
    "    'tpi',\n",
    "    'tri',\n",
    "\n",
    "    # latitude and longitude\n",
    "    'latitude',\n",
    "    'longitude',\n",
    "\n",
    "    # day of water year\n",
    "    'dowy'\n",
    "                    ]\n",
    "\n",
    "# prepare training and validation dataloaders\n",
    "train_data = deep_snow.dataset.Dataset(train_path_list, selected_channels, norm=True)\n",
    "train_loader = torch.utils.data.DataLoader(dataset=train_data, batch_size=16, shuffle=True, num_workers=16)\n",
    "val_data = deep_snow.dataset.Dataset(val_path_list, selected_channels, norm=True, augment=False)\n",
    "val_loader = torch.utils.data.DataLoader(dataset=val_data, batch_size=16, shuffle=True, num_workers=16)"
   ]
  },
  {
   "cell_type": "code",
   "execution_count": 4,
   "id": "db0c867b-36a4-4719-9320-3aa19b0766bf",
   "metadata": {},
   "outputs": [],
   "source": [
    "# define input channels for model\n",
    "input_channels = [\n",
    "    'snowon_vv',\n",
    "    'delta_cr',\n",
    "    'green',\n",
    "    'swir2',\n",
    "    'ndsi',\n",
    "    'ndwi',\n",
    "    'elevation',\n",
    "    'latitude',\n",
    "    'longitude']"
   ]
  },
  {
   "cell_type": "markdown",
   "id": "f6b36322-9ac5-4a3f-aefa-98ad371d1ee0",
   "metadata": {},
   "source": [
    "## Train model"
   ]
  },
  {
   "cell_type": "code",
   "execution_count": 5,
   "id": "f2aebf81-be4e-4200-ab12-70168b8eb37b",
   "metadata": {},
   "outputs": [],
   "source": [
    "# import model\n",
    "# model = deep_snow.models.SimpleCNN(n_input_channels=len(input_channels))\n",
    "# model = deep_snow.models.UNet(n_input_channels=len(input_channels))\n",
    "# model = deep_snow.models.ResUNet(n_input_channels=len(input_channels))\n",
    "# model = deep_snow.models.ResDepth(n_input_channels=len(input_channels))\n",
    "# model = deep_snow.models.VisionTransformer(n_input_channels=len(input_channels))\n",
    "\n",
    "model = deep_snow.models.ResDepth(n_input_channels=len(input_channels), depth=5)\n",
    "model.to('cuda');  # Run on GPU\n",
    "\n",
    "# name your model\n",
    "model_name = 'quinn_ResDepth_v9'"
   ]
  },
  {
   "cell_type": "code",
   "execution_count": null,
   "id": "5da4e4b7-5679-4e71-b1c3-664346b40060",
   "metadata": {
    "scrolled": true
   },
   "outputs": [
    {
     "name": "stdout",
     "output_type": "stream",
     "text": [
      "\n",
      "Starting epoch 1\n"
     ]
    },
    {
     "name": "stderr",
     "output_type": "stream",
     "text": [
      "Epoch 1/250: 100%|████████████████████████████| 774/774 [05:05<00:00,  2.53batch/s, batch loss=0.000368, mean epoch loss=0.000972]\n"
     ]
    },
    {
     "name": "stdout",
     "output_type": "stream",
     "text": [
      "Training loss: 0.0009719300401476465\n"
     ]
    },
    {
     "name": "stderr",
     "output_type": "stream",
     "text": [
      "Epoch 1/250: 100%|███████████████████████████████| 135/135 [00:46<00:00,  2.92batch/s, batch loss=0.0015, mean epoch loss=0.00104]\n"
     ]
    },
    {
     "name": "stdout",
     "output_type": "stream",
     "text": [
      "Validation loss: 0.0010410517371686487\n",
      "\n",
      "Starting epoch 2\n"
     ]
    },
    {
     "name": "stderr",
     "output_type": "stream",
     "text": [
      "Epoch 2/250: 100%|█████████████████████████████| 774/774 [05:08<00:00,  2.51batch/s, batch loss=0.00132, mean epoch loss=0.000862]\n"
     ]
    },
    {
     "name": "stdout",
     "output_type": "stream",
     "text": [
      "Training loss: 0.0008623384945623268\n"
     ]
    },
    {
     "name": "stderr",
     "output_type": "stream",
     "text": [
      "Epoch 2/250: 100%|██████████████████████████████| 135/135 [00:43<00:00,  3.11batch/s, batch loss=0.0013, mean epoch loss=0.000764]\n"
     ]
    },
    {
     "name": "stdout",
     "output_type": "stream",
     "text": [
      "Validation loss: 0.0007642924222939959\n",
      "\n",
      "Starting epoch 3\n"
     ]
    },
    {
     "name": "stderr",
     "output_type": "stream",
     "text": [
      "Epoch 3/250: 100%|█████████████████████████████| 774/774 [05:01<00:00,  2.56batch/s, batch loss=0.00123, mean epoch loss=0.000769]\n"
     ]
    },
    {
     "name": "stdout",
     "output_type": "stream",
     "text": [
      "Training loss: 0.0007688479193228174\n"
     ]
    },
    {
     "name": "stderr",
     "output_type": "stream",
     "text": [
      "Epoch 3/250: 100%|████████████████████████████| 135/135 [00:45<00:00,  2.95batch/s, batch loss=0.000762, mean epoch loss=0.000572]\n"
     ]
    },
    {
     "name": "stdout",
     "output_type": "stream",
     "text": [
      "Validation loss: 0.0005718261083260316\n",
      "\n",
      "Starting epoch 4\n"
     ]
    },
    {
     "name": "stderr",
     "output_type": "stream",
     "text": [
      "Epoch 4/250: 100%|████████████████████████████| 774/774 [05:32<00:00,  2.33batch/s, batch loss=0.000504, mean epoch loss=0.000648]\n"
     ]
    },
    {
     "name": "stdout",
     "output_type": "stream",
     "text": [
      "Training loss: 0.0006480104495931864\n"
     ]
    },
    {
     "name": "stderr",
     "output_type": "stream",
     "text": [
      "Epoch 4/250: 100%|█████████████████████████████| 135/135 [00:44<00:00,  3.07batch/s, batch loss=0.00109, mean epoch loss=0.000488]\n"
     ]
    },
    {
     "name": "stdout",
     "output_type": "stream",
     "text": [
      "Validation loss: 0.0004876671502845258\n",
      "\n",
      "Starting epoch 5\n"
     ]
    },
    {
     "name": "stderr",
     "output_type": "stream",
     "text": [
      "Epoch 5/250: 100%|█████████████████████████████| 774/774 [06:35<00:00,  1.96batch/s, batch loss=0.00043, mean epoch loss=0.000611]\n"
     ]
    },
    {
     "name": "stdout",
     "output_type": "stream",
     "text": [
      "Training loss: 0.0006114542817059804\n"
     ]
    },
    {
     "name": "stderr",
     "output_type": "stream",
     "text": [
      "Epoch 5/250: 100%|█████████████████████████████| 135/135 [01:02<00:00,  2.17batch/s, batch loss=0.00064, mean epoch loss=0.000487]\n"
     ]
    },
    {
     "name": "stdout",
     "output_type": "stream",
     "text": [
      "Validation loss: 0.00048677260694805427\n",
      "\n",
      "Starting epoch 6\n"
     ]
    },
    {
     "name": "stderr",
     "output_type": "stream",
     "text": [
      "Epoch 6/250: 100%|█████████████████████████████| 774/774 [05:14<00:00,  2.46batch/s, batch loss=0.00109, mean epoch loss=0.000581]\n"
     ]
    },
    {
     "name": "stdout",
     "output_type": "stream",
     "text": [
      "Training loss: 0.0005814883995889048\n"
     ]
    },
    {
     "name": "stderr",
     "output_type": "stream",
     "text": [
      "Epoch 6/250: 100%|████████████████████████████| 135/135 [01:02<00:00,  2.14batch/s, batch loss=0.000212, mean epoch loss=0.000415]\n"
     ]
    },
    {
     "name": "stdout",
     "output_type": "stream",
     "text": [
      "Validation loss: 0.00041497855498972864\n",
      "\n",
      "Starting epoch 7\n"
     ]
    },
    {
     "name": "stderr",
     "output_type": "stream",
     "text": [
      "Epoch 7/250: 100%|█████████████████████████████| 774/774 [04:34<00:00,  2.81batch/s, batch loss=0.00142, mean epoch loss=0.000568]\n"
     ]
    },
    {
     "name": "stdout",
     "output_type": "stream",
     "text": [
      "Training loss: 0.000567808455473022\n"
     ]
    },
    {
     "name": "stderr",
     "output_type": "stream",
     "text": [
      "Epoch 7/250: 100%|████████████████████████████| 135/135 [00:43<00:00,  3.12batch/s, batch loss=0.000511, mean epoch loss=0.000495]\n"
     ]
    },
    {
     "name": "stdout",
     "output_type": "stream",
     "text": [
      "Validation loss: 0.0004954833617106218\n",
      "\n",
      "Starting epoch 8\n"
     ]
    },
    {
     "name": "stderr",
     "output_type": "stream",
     "text": [
      "Epoch 8/250: 100%|████████████████████████████| 774/774 [05:07<00:00,  2.52batch/s, batch loss=0.000876, mean epoch loss=0.000546]\n"
     ]
    },
    {
     "name": "stdout",
     "output_type": "stream",
     "text": [
      "Training loss: 0.0005457216672604504\n"
     ]
    },
    {
     "name": "stderr",
     "output_type": "stream",
     "text": [
      "Epoch 8/250: 100%|████████████████████████████| 135/135 [00:43<00:00,  3.08batch/s, batch loss=0.000226, mean epoch loss=0.000452]\n"
     ]
    },
    {
     "name": "stdout",
     "output_type": "stream",
     "text": [
      "Validation loss: 0.00045243169890319995\n",
      "\n",
      "Starting epoch 9\n"
     ]
    },
    {
     "name": "stderr",
     "output_type": "stream",
     "text": [
      "Epoch 9/250: 100%|████████████████████████████| 774/774 [05:26<00:00,  2.37batch/s, batch loss=0.000338, mean epoch loss=0.000537]\n"
     ]
    },
    {
     "name": "stdout",
     "output_type": "stream",
     "text": [
      "Training loss: 0.0005368942760756222\n"
     ]
    },
    {
     "name": "stderr",
     "output_type": "stream",
     "text": [
      "Epoch 9/250: 100%|████████████████████████████| 135/135 [00:51<00:00,  2.62batch/s, batch loss=0.000604, mean epoch loss=0.000389]\n"
     ]
    },
    {
     "name": "stdout",
     "output_type": "stream",
     "text": [
      "Validation loss: 0.0003886306728182481\n",
      "\n",
      "Starting epoch 10\n"
     ]
    },
    {
     "name": "stderr",
     "output_type": "stream",
     "text": [
      "Epoch 10/250: 100%|███████████████████████████| 774/774 [04:51<00:00,  2.66batch/s, batch loss=0.000549, mean epoch loss=0.000518]\n"
     ]
    },
    {
     "name": "stdout",
     "output_type": "stream",
     "text": [
      "Training loss: 0.0005178669528972216\n"
     ]
    },
    {
     "name": "stderr",
     "output_type": "stream",
     "text": [
      "Epoch 10/250: 100%|███████████████████████████| 135/135 [00:42<00:00,  3.15batch/s, batch loss=0.000328, mean epoch loss=0.000416]\n"
     ]
    },
    {
     "name": "stdout",
     "output_type": "stream",
     "text": [
      "Validation loss: 0.0004157710361781668\n",
      "\n",
      "Starting epoch 11\n"
     ]
    },
    {
     "name": "stderr",
     "output_type": "stream",
     "text": [
      "Epoch 11/250: 100%|███████████████████████████| 774/774 [05:02<00:00,  2.56batch/s, batch loss=0.000279, mean epoch loss=0.000509]\n"
     ]
    },
    {
     "name": "stdout",
     "output_type": "stream",
     "text": [
      "Training loss: 0.0005085212142618544\n"
     ]
    },
    {
     "name": "stderr",
     "output_type": "stream",
     "text": [
      "Epoch 11/250: 100%|████████████████████████████| 135/135 [00:42<00:00,  3.17batch/s, batch loss=0.00042, mean epoch loss=0.000541]\n"
     ]
    },
    {
     "name": "stdout",
     "output_type": "stream",
     "text": [
      "Validation loss: 0.0005407413978698767\n",
      "\n",
      "Starting epoch 12\n"
     ]
    },
    {
     "name": "stderr",
     "output_type": "stream",
     "text": [
      "Epoch 12/250: 100%|████████████████████████████| 774/774 [05:17<00:00,  2.44batch/s, batch loss=8.01e-5, mean epoch loss=0.000503]\n"
     ]
    },
    {
     "name": "stdout",
     "output_type": "stream",
     "text": [
      "Training loss: 0.0005025990532688361\n"
     ]
    },
    {
     "name": "stderr",
     "output_type": "stream",
     "text": [
      "Epoch 12/250: 100%|███████████████████████████| 135/135 [00:42<00:00,  3.14batch/s, batch loss=0.000224, mean epoch loss=0.000467]\n"
     ]
    },
    {
     "name": "stdout",
     "output_type": "stream",
     "text": [
      "Validation loss: 0.00046734494686394035\n",
      "\n",
      "Starting epoch 13\n"
     ]
    },
    {
     "name": "stderr",
     "output_type": "stream",
     "text": [
      "Epoch 13/250: 100%|███████████████████████████| 774/774 [05:15<00:00,  2.45batch/s, batch loss=0.000395, mean epoch loss=0.000496]\n"
     ]
    },
    {
     "name": "stdout",
     "output_type": "stream",
     "text": [
      "Training loss: 0.0004955977836063483\n"
     ]
    },
    {
     "name": "stderr",
     "output_type": "stream",
     "text": [
      "Epoch 13/250: 100%|████████████████████████████| 135/135 [00:42<00:00,  3.16batch/s, batch loss=0.00075, mean epoch loss=0.000363]\n"
     ]
    },
    {
     "name": "stdout",
     "output_type": "stream",
     "text": [
      "Validation loss: 0.00036274847373500015\n",
      "\n",
      "Starting epoch 14\n"
     ]
    },
    {
     "name": "stderr",
     "output_type": "stream",
     "text": [
      "Epoch 14/250: 100%|████████████████████████████| 774/774 [05:08<00:00,  2.51batch/s, batch loss=6.79e-5, mean epoch loss=0.000495]\n"
     ]
    },
    {
     "name": "stdout",
     "output_type": "stream",
     "text": [
      "Training loss: 0.0004948767023674695\n"
     ]
    },
    {
     "name": "stderr",
     "output_type": "stream",
     "text": [
      "Epoch 14/250: 100%|████████████████████████████| 135/135 [00:48<00:00,  2.79batch/s, batch loss=6.88e-5, mean epoch loss=0.000383]\n"
     ]
    },
    {
     "name": "stdout",
     "output_type": "stream",
     "text": [
      "Validation loss: 0.00038266283429240705\n",
      "\n",
      "Starting epoch 15\n"
     ]
    },
    {
     "name": "stderr",
     "output_type": "stream",
     "text": [
      "Epoch 15/250: 100%|████████████████████████████| 774/774 [04:54<00:00,  2.63batch/s, batch loss=0.00027, mean epoch loss=0.000474]\n"
     ]
    },
    {
     "name": "stdout",
     "output_type": "stream",
     "text": [
      "Training loss: 0.00047433720726148843\n"
     ]
    },
    {
     "name": "stderr",
     "output_type": "stream",
     "text": [
      "Epoch 15/250: 100%|███████████████████████████| 135/135 [01:38<00:00,  1.37batch/s, batch loss=0.000531, mean epoch loss=0.000396]\n"
     ]
    },
    {
     "name": "stdout",
     "output_type": "stream",
     "text": [
      "Validation loss: 0.000396299381073159\n",
      "\n",
      "Starting epoch 16\n"
     ]
    },
    {
     "name": "stderr",
     "output_type": "stream",
     "text": [
      "Epoch 16/250: 100%|███████████████████████████| 774/774 [05:51<00:00,  2.20batch/s, batch loss=0.000266, mean epoch loss=0.000485]\n"
     ]
    },
    {
     "name": "stdout",
     "output_type": "stream",
     "text": [
      "Training loss: 0.0004848413916974547\n"
     ]
    },
    {
     "name": "stderr",
     "output_type": "stream",
     "text": [
      "Epoch 16/250: 100%|███████████████████████████| 135/135 [00:50<00:00,  2.67batch/s, batch loss=0.000393, mean epoch loss=0.000365]\n"
     ]
    },
    {
     "name": "stdout",
     "output_type": "stream",
     "text": [
      "Validation loss: 0.0003648443363932462\n",
      "\n",
      "Starting epoch 17\n"
     ]
    },
    {
     "name": "stderr",
     "output_type": "stream",
     "text": [
      "Epoch 17/250: 100%|███████████████████████████| 774/774 [05:17<00:00,  2.44batch/s, batch loss=0.000972, mean epoch loss=0.000469]\n"
     ]
    },
    {
     "name": "stdout",
     "output_type": "stream",
     "text": [
      "Training loss: 0.00046932624361247817\n"
     ]
    },
    {
     "name": "stderr",
     "output_type": "stream",
     "text": [
      "Epoch 17/250: 100%|███████████████████████████| 135/135 [00:42<00:00,  3.14batch/s, batch loss=0.000367, mean epoch loss=0.000359]\n"
     ]
    },
    {
     "name": "stdout",
     "output_type": "stream",
     "text": [
      "Validation loss: 0.00035945277405618174\n",
      "\n",
      "Starting epoch 18\n"
     ]
    },
    {
     "name": "stderr",
     "output_type": "stream",
     "text": [
      "Epoch 18/250: 100%|███████████████████████████| 774/774 [05:22<00:00,  2.40batch/s, batch loss=0.000217, mean epoch loss=0.000469]\n"
     ]
    },
    {
     "name": "stdout",
     "output_type": "stream",
     "text": [
      "Training loss: 0.0004692704891572401\n"
     ]
    },
    {
     "name": "stderr",
     "output_type": "stream",
     "text": [
      "Epoch 18/250: 100%|███████████████████████████| 135/135 [00:48<00:00,  2.77batch/s, batch loss=0.000616, mean epoch loss=0.000468]\n"
     ]
    },
    {
     "name": "stdout",
     "output_type": "stream",
     "text": [
      "Validation loss: 0.00046806411073366353\n",
      "\n",
      "Starting epoch 19\n"
     ]
    },
    {
     "name": "stderr",
     "output_type": "stream",
     "text": [
      "Epoch 19/250: 100%|███████████████████████████| 774/774 [05:56<00:00,  2.17batch/s, batch loss=0.000156, mean epoch loss=0.000463]\n"
     ]
    },
    {
     "name": "stdout",
     "output_type": "stream",
     "text": [
      "Training loss: 0.00046277624793121026\n"
     ]
    },
    {
     "name": "stderr",
     "output_type": "stream",
     "text": [
      "Epoch 19/250: 100%|████████████████████████████| 135/135 [00:43<00:00,  3.14batch/s, batch loss=9.82e-5, mean epoch loss=0.000395]\n"
     ]
    },
    {
     "name": "stdout",
     "output_type": "stream",
     "text": [
      "Validation loss: 0.000394657797490557\n",
      "\n",
      "Starting epoch 20\n"
     ]
    },
    {
     "name": "stderr",
     "output_type": "stream",
     "text": [
      "Epoch 20/250: 100%|███████████████████████████| 774/774 [05:29<00:00,  2.35batch/s, batch loss=0.000499, mean epoch loss=0.000451]\n"
     ]
    },
    {
     "name": "stdout",
     "output_type": "stream",
     "text": [
      "Training loss: 0.00045112468202905824\n"
     ]
    },
    {
     "name": "stderr",
     "output_type": "stream",
     "text": [
      "Epoch 20/250: 100%|███████████████████████████| 135/135 [00:42<00:00,  3.16batch/s, batch loss=0.000352, mean epoch loss=0.000387]\n"
     ]
    },
    {
     "name": "stdout",
     "output_type": "stream",
     "text": [
      "Validation loss: 0.00038715991406072\n",
      "\n",
      "Starting epoch 21\n"
     ]
    },
    {
     "name": "stderr",
     "output_type": "stream",
     "text": [
      "Epoch 21/250: 100%|███████████████████████████| 774/774 [05:26<00:00,  2.37batch/s, batch loss=0.000134, mean epoch loss=0.000442]\n"
     ]
    },
    {
     "name": "stdout",
     "output_type": "stream",
     "text": [
      "Training loss: 0.0004417000176784828\n"
     ]
    },
    {
     "name": "stderr",
     "output_type": "stream",
     "text": [
      "Epoch 21/250: 100%|███████████████████████████| 135/135 [00:42<00:00,  3.15batch/s, batch loss=0.000519, mean epoch loss=0.000406]\n"
     ]
    },
    {
     "name": "stdout",
     "output_type": "stream",
     "text": [
      "Validation loss: 0.0004063733203414207\n",
      "\n",
      "Starting epoch 22\n"
     ]
    },
    {
     "name": "stderr",
     "output_type": "stream",
     "text": [
      "Epoch 22/250: 100%|███████████████████████████| 774/774 [05:45<00:00,  2.24batch/s, batch loss=0.000588, mean epoch loss=0.000454]\n"
     ]
    },
    {
     "name": "stdout",
     "output_type": "stream",
     "text": [
      "Training loss: 0.0004537237439784127\n"
     ]
    },
    {
     "name": "stderr",
     "output_type": "stream",
     "text": [
      "Epoch 22/250: 100%|███████████████████████████| 135/135 [00:42<00:00,  3.20batch/s, batch loss=0.000209, mean epoch loss=0.000355]\n"
     ]
    },
    {
     "name": "stdout",
     "output_type": "stream",
     "text": [
      "Validation loss: 0.00035486534411406694\n",
      "\n",
      "Starting epoch 23\n"
     ]
    },
    {
     "name": "stderr",
     "output_type": "stream",
     "text": [
      "Epoch 23/250: 100%|███████████████████████████| 774/774 [04:57<00:00,  2.61batch/s, batch loss=0.000595, mean epoch loss=0.000446]\n"
     ]
    },
    {
     "name": "stdout",
     "output_type": "stream",
     "text": [
      "Training loss: 0.00044572779192216666\n"
     ]
    },
    {
     "name": "stderr",
     "output_type": "stream",
     "text": [
      "Epoch 23/250: 100%|███████████████████████████| 135/135 [00:42<00:00,  3.17batch/s, batch loss=0.000509, mean epoch loss=0.000334]\n"
     ]
    },
    {
     "name": "stdout",
     "output_type": "stream",
     "text": [
      "Validation loss: 0.00033360472053000533\n",
      "\n",
      "Starting epoch 24\n"
     ]
    },
    {
     "name": "stderr",
     "output_type": "stream",
     "text": [
      "Epoch 24/250: 100%|███████████████████████████| 774/774 [05:02<00:00,  2.56batch/s, batch loss=0.000582, mean epoch loss=0.000441]\n"
     ]
    },
    {
     "name": "stdout",
     "output_type": "stream",
     "text": [
      "Training loss: 0.0004413668259677705\n"
     ]
    },
    {
     "name": "stderr",
     "output_type": "stream",
     "text": [
      "Epoch 24/250: 100%|███████████████████████████| 135/135 [00:42<00:00,  3.15batch/s, batch loss=0.000361, mean epoch loss=0.000353]\n"
     ]
    },
    {
     "name": "stdout",
     "output_type": "stream",
     "text": [
      "Validation loss: 0.00035283196099313767\n",
      "\n",
      "Starting epoch 25\n"
     ]
    },
    {
     "name": "stderr",
     "output_type": "stream",
     "text": [
      "Epoch 25/250: 100%|███████████████████████████| 774/774 [05:22<00:00,  2.40batch/s, batch loss=0.000242, mean epoch loss=0.000438]\n"
     ]
    },
    {
     "name": "stdout",
     "output_type": "stream",
     "text": [
      "Training loss: 0.00043770811143821557\n"
     ]
    },
    {
     "name": "stderr",
     "output_type": "stream",
     "text": [
      "Epoch 25/250: 100%|███████████████████████████| 135/135 [00:42<00:00,  3.19batch/s, batch loss=0.000152, mean epoch loss=0.000344]\n"
     ]
    },
    {
     "name": "stdout",
     "output_type": "stream",
     "text": [
      "Validation loss: 0.0003436808631738165\n",
      "\n",
      "Starting epoch 26\n"
     ]
    },
    {
     "name": "stderr",
     "output_type": "stream",
     "text": [
      "Epoch 26/250: 100%|████████████████████████████| 774/774 [06:05<00:00,  2.12batch/s, batch loss=0.00011, mean epoch loss=0.000442]\n"
     ]
    },
    {
     "name": "stdout",
     "output_type": "stream",
     "text": [
      "Training loss: 0.0004417624160277691\n"
     ]
    },
    {
     "name": "stderr",
     "output_type": "stream",
     "text": [
      "Epoch 26/250: 100%|███████████████████████████| 135/135 [00:49<00:00,  2.71batch/s, batch loss=0.000112, mean epoch loss=0.000397]\n"
     ]
    },
    {
     "name": "stdout",
     "output_type": "stream",
     "text": [
      "Validation loss: 0.0003967241284381426\n",
      "\n",
      "Starting epoch 27\n"
     ]
    },
    {
     "name": "stderr",
     "output_type": "stream",
     "text": [
      "Epoch 27/250: 100%|████████████████████████████| 774/774 [05:33<00:00,  2.32batch/s, batch loss=0.000686, mean epoch loss=0.00043]\n"
     ]
    },
    {
     "name": "stdout",
     "output_type": "stream",
     "text": [
      "Training loss: 0.00043004211256065757\n"
     ]
    },
    {
     "name": "stderr",
     "output_type": "stream",
     "text": [
      "Epoch 27/250: 100%|███████████████████████████| 135/135 [00:59<00:00,  2.26batch/s, batch loss=0.000101, mean epoch loss=0.000349]\n"
     ]
    },
    {
     "name": "stdout",
     "output_type": "stream",
     "text": [
      "Validation loss: 0.00034882194730151373\n",
      "\n",
      "Starting epoch 28\n"
     ]
    },
    {
     "name": "stderr",
     "output_type": "stream",
     "text": [
      "Epoch 28/250: 100%|███████████████████████████| 774/774 [05:19<00:00,  2.42batch/s, batch loss=0.000472, mean epoch loss=0.000422]\n"
     ]
    },
    {
     "name": "stdout",
     "output_type": "stream",
     "text": [
      "Training loss: 0.0004215050505706439\n"
     ]
    },
    {
     "name": "stderr",
     "output_type": "stream",
     "text": [
      "Epoch 28/250: 100%|███████████████████████████| 135/135 [01:01<00:00,  2.19batch/s, batch loss=0.000429, mean epoch loss=0.000363]\n"
     ]
    },
    {
     "name": "stdout",
     "output_type": "stream",
     "text": [
      "Validation loss: 0.00036306800059349\n",
      "\n",
      "Starting epoch 29\n"
     ]
    },
    {
     "name": "stderr",
     "output_type": "stream",
     "text": [
      "Epoch 29/250: 100%|████████████████████████████| 774/774 [05:19<00:00,  2.43batch/s, batch loss=0.000201, mean epoch loss=0.00041]\n"
     ]
    },
    {
     "name": "stdout",
     "output_type": "stream",
     "text": [
      "Training loss: 0.0004100247161807411\n"
     ]
    },
    {
     "name": "stderr",
     "output_type": "stream",
     "text": [
      "Epoch 29/250: 100%|███████████████████████████| 135/135 [01:32<00:00,  1.45batch/s, batch loss=0.000521, mean epoch loss=0.000356]\n"
     ]
    },
    {
     "name": "stdout",
     "output_type": "stream",
     "text": [
      "Validation loss: 0.0003560472720925679\n",
      "\n",
      "Starting epoch 30\n"
     ]
    },
    {
     "name": "stderr",
     "output_type": "stream",
     "text": [
      "Epoch 30/250: 100%|████████████████████████████| 774/774 [05:30<00:00,  2.34batch/s, batch loss=0.000344, mean epoch loss=0.00042]\n"
     ]
    },
    {
     "name": "stdout",
     "output_type": "stream",
     "text": [
      "Training loss: 0.0004196141976946998\n"
     ]
    },
    {
     "name": "stderr",
     "output_type": "stream",
     "text": [
      "Epoch 30/250: 100%|███████████████████████████| 135/135 [00:52<00:00,  2.56batch/s, batch loss=0.000533, mean epoch loss=0.000353]\n"
     ]
    },
    {
     "name": "stdout",
     "output_type": "stream",
     "text": [
      "Validation loss: 0.00035298068719890176\n",
      "\n",
      "Starting epoch 31\n"
     ]
    },
    {
     "name": "stderr",
     "output_type": "stream",
     "text": [
      "Epoch 31/250: 100%|███████████████████████████| 774/774 [05:26<00:00,  2.37batch/s, batch loss=0.000311, mean epoch loss=0.000411]\n"
     ]
    },
    {
     "name": "stdout",
     "output_type": "stream",
     "text": [
      "Training loss: 0.0004107398823551438\n"
     ]
    },
    {
     "name": "stderr",
     "output_type": "stream",
     "text": [
      "Epoch 31/250: 100%|████████████████████████████| 135/135 [00:43<00:00,  3.11batch/s, batch loss=0.00032, mean epoch loss=0.000351]\n"
     ]
    },
    {
     "name": "stdout",
     "output_type": "stream",
     "text": [
      "Validation loss: 0.0003511630961266174\n",
      "\n",
      "Starting epoch 32\n"
     ]
    },
    {
     "name": "stderr",
     "output_type": "stream",
     "text": [
      "Epoch 32/250: 100%|███████████████████████████| 774/774 [04:39<00:00,  2.77batch/s, batch loss=0.000253, mean epoch loss=0.000419]\n"
     ]
    },
    {
     "name": "stdout",
     "output_type": "stream",
     "text": [
      "Training loss: 0.00041889174467694794\n"
     ]
    },
    {
     "name": "stderr",
     "output_type": "stream",
     "text": [
      "Epoch 32/250: 100%|███████████████████████████| 135/135 [00:43<00:00,  3.13batch/s, batch loss=0.000572, mean epoch loss=0.000363]\n"
     ]
    },
    {
     "name": "stdout",
     "output_type": "stream",
     "text": [
      "Validation loss: 0.00036300388963826224\n",
      "\n",
      "Starting epoch 33\n"
     ]
    },
    {
     "name": "stderr",
     "output_type": "stream",
     "text": [
      "Epoch 33/250: 100%|█████████████████████████████| 774/774 [04:33<00:00,  2.83batch/s, batch loss=8.5e-5, mean epoch loss=0.000398]\n"
     ]
    },
    {
     "name": "stdout",
     "output_type": "stream",
     "text": [
      "Training loss: 0.000397885453288324\n"
     ]
    },
    {
     "name": "stderr",
     "output_type": "stream",
     "text": [
      "Epoch 33/250: 100%|███████████████████████████| 135/135 [00:42<00:00,  3.19batch/s, batch loss=0.000479, mean epoch loss=0.000322]\n"
     ]
    },
    {
     "name": "stdout",
     "output_type": "stream",
     "text": [
      "Validation loss: 0.00032207364678874407\n",
      "\n",
      "Starting epoch 34\n"
     ]
    },
    {
     "name": "stderr",
     "output_type": "stream",
     "text": [
      "Epoch 34/250: 100%|████████████████████████████| 774/774 [05:08<00:00,  2.51batch/s, batch loss=0.00044, mean epoch loss=0.000411]\n"
     ]
    },
    {
     "name": "stdout",
     "output_type": "stream",
     "text": [
      "Training loss: 0.00041100482934832\n"
     ]
    },
    {
     "name": "stderr",
     "output_type": "stream",
     "text": [
      "Epoch 34/250: 100%|███████████████████████████| 135/135 [00:41<00:00,  3.23batch/s, batch loss=0.000479, mean epoch loss=0.000345]\n"
     ]
    },
    {
     "name": "stdout",
     "output_type": "stream",
     "text": [
      "Validation loss: 0.0003447781326098333\n",
      "\n",
      "Starting epoch 35\n"
     ]
    },
    {
     "name": "stderr",
     "output_type": "stream",
     "text": [
      "Epoch 35/250: 100%|████████████████████████████| 774/774 [04:53<00:00,  2.64batch/s, batch loss=0.00111, mean epoch loss=0.000396]\n"
     ]
    },
    {
     "name": "stdout",
     "output_type": "stream",
     "text": [
      "Training loss: 0.0003962335760323101\n"
     ]
    },
    {
     "name": "stderr",
     "output_type": "stream",
     "text": [
      "Epoch 35/250: 100%|████████████████████████████| 135/135 [00:42<00:00,  3.15batch/s, batch loss=0.000192, mean epoch loss=0.00032]\n"
     ]
    },
    {
     "name": "stdout",
     "output_type": "stream",
     "text": [
      "Validation loss: 0.00031987599830716606\n",
      "\n",
      "Starting epoch 36\n"
     ]
    },
    {
     "name": "stderr",
     "output_type": "stream",
     "text": [
      "Epoch 36/250: 100%|███████████████████████████| 774/774 [04:59<00:00,  2.58batch/s, batch loss=0.000494, mean epoch loss=0.000397]\n"
     ]
    },
    {
     "name": "stdout",
     "output_type": "stream",
     "text": [
      "Training loss: 0.00039682081395807405\n"
     ]
    },
    {
     "name": "stderr",
     "output_type": "stream",
     "text": [
      "Epoch 36/250: 100%|████████████████████████████| 135/135 [00:41<00:00,  3.22batch/s, batch loss=7.47e-5, mean epoch loss=0.000309]\n"
     ]
    },
    {
     "name": "stdout",
     "output_type": "stream",
     "text": [
      "Validation loss: 0.00030890777731353106\n",
      "\n",
      "Starting epoch 37\n"
     ]
    },
    {
     "name": "stderr",
     "output_type": "stream",
     "text": [
      "Epoch 37/250: 100%|████████████████████████████| 774/774 [05:06<00:00,  2.52batch/s, batch loss=4.71e-5, mean epoch loss=0.000396]\n"
     ]
    },
    {
     "name": "stdout",
     "output_type": "stream",
     "text": [
      "Training loss: 0.0003958952016988213\n"
     ]
    },
    {
     "name": "stderr",
     "output_type": "stream",
     "text": [
      "Epoch 37/250: 100%|███████████████████████████| 135/135 [00:42<00:00,  3.15batch/s, batch loss=0.000241, mean epoch loss=0.000317]\n"
     ]
    },
    {
     "name": "stdout",
     "output_type": "stream",
     "text": [
      "Validation loss: 0.000317196977765114\n",
      "\n",
      "Starting epoch 38\n"
     ]
    },
    {
     "name": "stderr",
     "output_type": "stream",
     "text": [
      "Epoch 38/250: 100%|███████████████████████████| 774/774 [05:23<00:00,  2.39batch/s, batch loss=0.000395, mean epoch loss=0.000392]\n"
     ]
    },
    {
     "name": "stdout",
     "output_type": "stream",
     "text": [
      "Training loss: 0.0003922297397408794\n"
     ]
    },
    {
     "name": "stderr",
     "output_type": "stream",
     "text": [
      "Epoch 38/250: 100%|███████████████████████████| 135/135 [00:42<00:00,  3.19batch/s, batch loss=0.000243, mean epoch loss=0.000318]\n"
     ]
    },
    {
     "name": "stdout",
     "output_type": "stream",
     "text": [
      "Validation loss: 0.0003181608947839036\n",
      "\n",
      "Starting epoch 39\n"
     ]
    },
    {
     "name": "stderr",
     "output_type": "stream",
     "text": [
      "Epoch 39/250: 100%|███████████████████████████| 774/774 [05:24<00:00,  2.38batch/s, batch loss=0.000568, mean epoch loss=0.000386]\n"
     ]
    },
    {
     "name": "stdout",
     "output_type": "stream",
     "text": [
      "Training loss: 0.0003864018748553761\n"
     ]
    },
    {
     "name": "stderr",
     "output_type": "stream",
     "text": [
      "Epoch 39/250: 100%|███████████████████████████| 135/135 [00:54<00:00,  2.46batch/s, batch loss=0.000349, mean epoch loss=0.000336]\n"
     ]
    },
    {
     "name": "stdout",
     "output_type": "stream",
     "text": [
      "Validation loss: 0.0003359609727609765\n",
      "\n",
      "Starting epoch 40\n"
     ]
    },
    {
     "name": "stderr",
     "output_type": "stream",
     "text": [
      "Epoch 40/250: 100%|███████████████████████████| 774/774 [05:17<00:00,  2.44batch/s, batch loss=0.000564, mean epoch loss=0.000385]\n"
     ]
    },
    {
     "name": "stdout",
     "output_type": "stream",
     "text": [
      "Training loss: 0.0003852518504633902\n"
     ]
    },
    {
     "name": "stderr",
     "output_type": "stream",
     "text": [
      "Epoch 40/250: 100%|███████████████████████████| 135/135 [01:06<00:00,  2.02batch/s, batch loss=0.000351, mean epoch loss=0.000342]\n"
     ]
    },
    {
     "name": "stdout",
     "output_type": "stream",
     "text": [
      "Validation loss: 0.00034165986742462135\n",
      "\n",
      "Starting epoch 41\n"
     ]
    },
    {
     "name": "stderr",
     "output_type": "stream",
     "text": [
      "Epoch 41/250: 100%|████████████████████████████| 774/774 [05:14<00:00,  2.46batch/s, batch loss=0.00063, mean epoch loss=0.000374]\n"
     ]
    },
    {
     "name": "stdout",
     "output_type": "stream",
     "text": [
      "Training loss: 0.00037419712875805163\n"
     ]
    },
    {
     "name": "stderr",
     "output_type": "stream",
     "text": [
      "Epoch 41/250: 100%|███████████████████████████| 135/135 [00:58<00:00,  2.30batch/s, batch loss=0.000682, mean epoch loss=0.000341]\n"
     ]
    },
    {
     "name": "stdout",
     "output_type": "stream",
     "text": [
      "Validation loss: 0.00034146831479760025\n",
      "\n",
      "Starting epoch 42\n"
     ]
    },
    {
     "name": "stderr",
     "output_type": "stream",
     "text": [
      "Epoch 42/250: 100%|███████████████████████████| 774/774 [04:45<00:00,  2.71batch/s, batch loss=0.000443, mean epoch loss=0.000381]\n"
     ]
    },
    {
     "name": "stdout",
     "output_type": "stream",
     "text": [
      "Training loss: 0.0003809004685808524\n"
     ]
    },
    {
     "name": "stderr",
     "output_type": "stream",
     "text": [
      "Epoch 42/250: 100%|███████████████████████████| 135/135 [01:10<00:00,  1.92batch/s, batch loss=0.000241, mean epoch loss=0.000308]\n"
     ]
    },
    {
     "name": "stdout",
     "output_type": "stream",
     "text": [
      "Validation loss: 0.00030776945746361484\n",
      "\n",
      "Starting epoch 43\n"
     ]
    },
    {
     "name": "stderr",
     "output_type": "stream",
     "text": [
      "Epoch 43/250: 100%|███████████████████████████| 774/774 [04:57<00:00,  2.60batch/s, batch loss=0.000619, mean epoch loss=0.000382]\n"
     ]
    },
    {
     "name": "stdout",
     "output_type": "stream",
     "text": [
      "Training loss: 0.00038248549870952204\n"
     ]
    },
    {
     "name": "stderr",
     "output_type": "stream",
     "text": [
      "Epoch 43/250: 100%|███████████████████████████| 135/135 [00:42<00:00,  3.16batch/s, batch loss=0.000233, mean epoch loss=0.000322]\n"
     ]
    },
    {
     "name": "stdout",
     "output_type": "stream",
     "text": [
      "Validation loss: 0.0003216907376621815\n",
      "\n",
      "Starting epoch 44\n"
     ]
    },
    {
     "name": "stderr",
     "output_type": "stream",
     "text": [
      "Epoch 44/250: 100%|███████████████████████████| 774/774 [05:15<00:00,  2.45batch/s, batch loss=0.000334, mean epoch loss=0.000377]\n"
     ]
    },
    {
     "name": "stdout",
     "output_type": "stream",
     "text": [
      "Training loss: 0.00037745108555626585\n"
     ]
    },
    {
     "name": "stderr",
     "output_type": "stream",
     "text": [
      "Epoch 44/250: 100%|███████████████████████████| 135/135 [00:42<00:00,  3.18batch/s, batch loss=0.000331, mean epoch loss=0.000329]\n"
     ]
    },
    {
     "name": "stdout",
     "output_type": "stream",
     "text": [
      "Validation loss: 0.0003293276241122469\n",
      "\n",
      "Starting epoch 45\n"
     ]
    },
    {
     "name": "stderr",
     "output_type": "stream",
     "text": [
      "Epoch 45/250: 100%|███████████████████████████| 774/774 [05:07<00:00,  2.52batch/s, batch loss=0.000206, mean epoch loss=0.000377]\n"
     ]
    },
    {
     "name": "stdout",
     "output_type": "stream",
     "text": [
      "Training loss: 0.0003765075089600138\n"
     ]
    },
    {
     "name": "stderr",
     "output_type": "stream",
     "text": [
      "Epoch 45/250: 100%|████████████████████████████| 135/135 [00:56<00:00,  2.38batch/s, batch loss=7.74e-5, mean epoch loss=0.000354]\n"
     ]
    },
    {
     "name": "stdout",
     "output_type": "stream",
     "text": [
      "Validation loss: 0.0003538472970292248\n",
      "\n",
      "Starting epoch 46\n"
     ]
    },
    {
     "name": "stderr",
     "output_type": "stream",
     "text": [
      "Epoch 46/250: 100%|███████████████████████████| 774/774 [05:02<00:00,  2.56batch/s, batch loss=0.000269, mean epoch loss=0.000381]\n"
     ]
    },
    {
     "name": "stdout",
     "output_type": "stream",
     "text": [
      "Training loss: 0.0003812176787799215\n"
     ]
    },
    {
     "name": "stderr",
     "output_type": "stream",
     "text": [
      "Epoch 46/250: 100%|███████████████████████████| 135/135 [01:07<00:00,  1.99batch/s, batch loss=0.000144, mean epoch loss=0.000307]\n"
     ]
    },
    {
     "name": "stdout",
     "output_type": "stream",
     "text": [
      "Validation loss: 0.00030718670604983344\n",
      "\n",
      "Starting epoch 47\n"
     ]
    },
    {
     "name": "stderr",
     "output_type": "stream",
     "text": [
      "Epoch 47/250: 100%|███████████████████████████| 774/774 [05:09<00:00,  2.50batch/s, batch loss=0.000246, mean epoch loss=0.000371]\n"
     ]
    },
    {
     "name": "stdout",
     "output_type": "stream",
     "text": [
      "Training loss: 0.0003714855224326277\n"
     ]
    },
    {
     "name": "stderr",
     "output_type": "stream",
     "text": [
      "Epoch 47/250: 100%|███████████████████████████| 135/135 [01:15<00:00,  1.79batch/s, batch loss=0.000446, mean epoch loss=0.000306]\n"
     ]
    },
    {
     "name": "stdout",
     "output_type": "stream",
     "text": [
      "Validation loss: 0.00030621297353516436\n",
      "\n",
      "Starting epoch 48\n"
     ]
    },
    {
     "name": "stderr",
     "output_type": "stream",
     "text": [
      "Epoch 48/250: 100%|███████████████████████████| 774/774 [05:34<00:00,  2.32batch/s, batch loss=0.000243, mean epoch loss=0.000365]\n"
     ]
    },
    {
     "name": "stdout",
     "output_type": "stream",
     "text": [
      "Training loss: 0.0003648650613015745\n"
     ]
    },
    {
     "name": "stderr",
     "output_type": "stream",
     "text": [
      "Epoch 48/250: 100%|████████████████████████████| 135/135 [00:52<00:00,  2.56batch/s, batch loss=0.00014, mean epoch loss=0.000318]\n"
     ]
    },
    {
     "name": "stdout",
     "output_type": "stream",
     "text": [
      "Validation loss: 0.00031820364583162936\n",
      "\n",
      "Starting epoch 49\n"
     ]
    },
    {
     "name": "stderr",
     "output_type": "stream",
     "text": [
      "Epoch 49/250: 100%|███████████████████████████| 774/774 [05:00<00:00,  2.58batch/s, batch loss=0.000721, mean epoch loss=0.000366]\n"
     ]
    },
    {
     "name": "stdout",
     "output_type": "stream",
     "text": [
      "Training loss: 0.00036644883765302085\n"
     ]
    },
    {
     "name": "stderr",
     "output_type": "stream",
     "text": [
      "Epoch 49/250: 100%|████████████████████████████| 135/135 [01:10<00:00,  1.92batch/s, batch loss=4.93e-5, mean epoch loss=0.000333]\n"
     ]
    },
    {
     "name": "stdout",
     "output_type": "stream",
     "text": [
      "Validation loss: 0.0003334821375944928\n",
      "\n",
      "Starting epoch 50\n"
     ]
    },
    {
     "name": "stderr",
     "output_type": "stream",
     "text": [
      "Epoch 50/250: 100%|███████████████████████████| 774/774 [05:02<00:00,  2.56batch/s, batch loss=0.000649, mean epoch loss=0.000369]\n"
     ]
    },
    {
     "name": "stdout",
     "output_type": "stream",
     "text": [
      "Training loss: 0.00036930993686348784\n"
     ]
    },
    {
     "name": "stderr",
     "output_type": "stream",
     "text": [
      "Epoch 50/250: 100%|████████████████████████████| 135/135 [01:07<00:00,  1.99batch/s, batch loss=0.000549, mean epoch loss=0.00043]\n"
     ]
    },
    {
     "name": "stdout",
     "output_type": "stream",
     "text": [
      "Validation loss: 0.0004304002541040838\n",
      "\n",
      "Starting epoch 51\n"
     ]
    },
    {
     "name": "stderr",
     "output_type": "stream",
     "text": [
      "Epoch 51/250:  91%|████████████████████████▋  | 706/774 [04:32<00:42,  1.61batch/s, batch loss=0.000437, mean epoch loss=0.000368]"
     ]
    }
   ],
   "source": [
    "# Define optimizer and loss function\n",
    "optimizer = optim.AdamW(model.parameters(), lr=0.0003, weight_decay=0.0001)\n",
    "scheduler = optim.lr_scheduler.ReduceLROnPlateau(optimizer, 'min')\n",
    "loss_fn = nn.MSELoss()\n",
    "epochs = 250\n",
    "min_val_loss = 1\n",
    "\n",
    "train_loss = []\n",
    "val_loss = []\n",
    "\n",
    "# training and validation loop\n",
    "for epoch in range(epochs):\n",
    "    print(f'\\nStarting epoch {epoch+1}')\n",
    "    train_epoch_loss = []\n",
    "    val_epoch_loss = []\n",
    "\n",
    "    # Loop through training data with tqdm progress bar\n",
    "    train_pbar = tqdm(train_loader, desc=f\"Epoch {epoch+1}/{epochs}\", unit=\"batch\", ncols=130)\n",
    "    for data_tuple in train_pbar:\n",
    "        model.train()\n",
    "        optimizer.zero_grad()\n",
    "\n",
    "        # read data into dictionary\n",
    "        data_dict = {name: tensor for name, tensor in zip(selected_channels, data_tuple)}\n",
    "        \n",
    "        # prepare inputs by concatenating along channel dimension\n",
    "        inputs = torch.cat([data_dict[channel] for channel in input_channels], dim=1).to('cuda')\n",
    "\n",
    "        # generate prediction\n",
    "        pred_sd = model(inputs)\n",
    "\n",
    "        # Limit prediction to areas with valid data\n",
    "        pred_sd = torch.where(data_dict['aso_gap_map'].to('cuda') + data_dict['rtc_gap_map'].to('cuda') + data_dict['s2_gap_map'].to('cuda') == 0, pred_sd, torch.zeros_like(pred_sd).to('cuda'))\n",
    "        aso_sd = torch.where(data_dict['aso_gap_map'].to('cuda') + data_dict['rtc_gap_map'].to('cuda') + data_dict['s2_gap_map'].to('cuda')== 0, data_dict['aso_sd'].to('cuda'), torch.zeros_like(pred_sd).to('cuda'))\n",
    "\n",
    "        # Calculate loss\n",
    "        train_batch_loss = loss_fn(pred_sd, aso_sd.to('cuda'))\n",
    "        train_epoch_loss.append(train_batch_loss.item())\n",
    "\n",
    "        # Update tqdm progress bar with batch loss\n",
    "        train_pbar.set_postfix({'batch loss': train_batch_loss.item(), 'mean epoch loss': np.mean(train_epoch_loss)})\n",
    "\n",
    "        train_batch_loss.backward()  # Propagate the gradients in backward pass\n",
    "        optimizer.step()\n",
    "\n",
    "    train_loss.append(np.mean(train_epoch_loss))\n",
    "    print(f'Training loss: {np.mean(train_epoch_loss)}')\n",
    "    scheduler.step(np.mean(train_epoch_loss))\n",
    "\n",
    "    # Run model on validation data with tqdm progress bar\n",
    "    val_pbar = tqdm(val_loader, desc=f\"Epoch {epoch+1}/{epochs}\", unit=\"batch\", ncols=130)\n",
    "    for data_tuple in val_pbar:\n",
    "        with torch.no_grad():\n",
    "            model.eval()\n",
    "            \n",
    "            # read data into dictionary\n",
    "            data_dict = {name: tensor for name, tensor in zip(selected_channels, data_tuple)}\n",
    "            # prepare inputs by concatenating along channel dimension\n",
    "            inputs = torch.cat([data_dict[channel] for channel in input_channels], dim=1).to('cuda')\n",
    "    \n",
    "            # generate prediction\n",
    "            pred_sd = model(inputs)\n",
    "    \n",
    "            # Limit prediction to areas with valid data\n",
    "            pred_sd = torch.where(data_dict['aso_gap_map'].to('cuda') + data_dict['rtc_gap_map'].to('cuda') + data_dict['s2_gap_map'].to('cuda') == 0, pred_sd, torch.zeros_like(pred_sd).to('cuda'))\n",
    "            aso_sd = torch.where(data_dict['aso_gap_map'].to('cuda') + data_dict['rtc_gap_map'].to('cuda') + data_dict['s2_gap_map'].to('cuda') == 0, data_dict['aso_sd'].to('cuda'), torch.zeros_like(pred_sd).to('cuda'))\n",
    "    \n",
    "            # Calculate loss\n",
    "            val_batch_loss = loss_fn(pred_sd, aso_sd.to('cuda'))\n",
    "            val_epoch_loss.append(val_batch_loss.item())\n",
    "\n",
    "            # Update tqdm progress bar with batch loss\n",
    "            val_pbar.set_postfix({'batch loss': val_batch_loss.item(), 'mean epoch loss': np.mean(val_epoch_loss)})\n",
    "\n",
    "    if np.mean(val_epoch_loss) < min_val_loss:\n",
    "        if epoch > 30:\n",
    "            min_val_loss = np.mean(val_epoch_loss)\n",
    "            torch.save(model.state_dict(), f'../../weights/{model_name}_{epoch}epochs')\n",
    "                    \n",
    "    # # calculate loss over previous 10 epochs for early stopping later\n",
    "    # if epoch > 20:\n",
    "    #     past_loss = np.mean(val_loss[-20:-10])\n",
    "\n",
    "    val_loss.append(np.mean(val_epoch_loss))\n",
    "    print(f'Validation loss: {np.mean(val_epoch_loss)}')\n",
    "    \n",
    "    # save loss \n",
    "    with open(f'../../loss/{model_name}_val_loss.pkl', 'wb') as f:\n",
    "        pickle.dump(val_loss, f)\n",
    "        \n",
    "    with open(f'../../loss/{model_name}_train_loss.pkl', 'wb') as f:\n",
    "        pickle.dump(train_loss, f)\n",
    "\n",
    "    # # implement early stopping\n",
    "    # if epoch > 20:\n",
    "    #     current_loss = np.mean(val_loss[-10:-1])\n",
    "    #     if current_loss > past_loss:\n",
    "    #         counter +=1\n",
    "    #         if counter >= 10:\n",
    "    #             print('early stopping triggered')\n",
    "    #             # save model\n",
    "    #             torch.save(model.state_dict(), f'../../weights/{model_name}_{epoch}epochs')\n",
    "    #             break\n",
    "    #     else:\n",
    "    #         counter = 0"
   ]
  },
  {
   "cell_type": "markdown",
   "id": "16d78371-b064-4e72-9a68-94b91ab43b6a",
   "metadata": {},
   "source": [
    "## Examine results"
   ]
  },
  {
   "cell_type": "code",
   "execution_count": null,
   "id": "3b1ab005-2d29-4ff3-b58f-2253a8340512",
   "metadata": {},
   "outputs": [],
   "source": [
    "#load previous model\n",
    "model = deep_snow.models.ResDepth(n_input_channels=len(input_channels), depth=5)\n",
    "model.load_state_dict(torch.load('../../weights/quinn_ResDepth_v4_74epochs'))\n",
    "model.to('cuda');"
   ]
  },
  {
   "cell_type": "code",
   "execution_count": null,
   "id": "99bcd955-2ccd-4194-8af4-90d1309f88aa",
   "metadata": {},
   "outputs": [],
   "source": [
    "with open(f'../../loss/quinn_ResDepth_v8_val_loss.pkl', 'rb') as f:\n",
    "        val_loss = pickle.load(f)\n",
    "\n",
    "with open(f'../../loss/quinn_ResDepth_v8_train_loss.pkl', 'rb') as f:\n",
    "        train_loss = pickle.load(f)\n",
    "\n",
    "\n",
    "# plot loss over all epochs\n",
    "f, ax = plt.subplots(figsize=(10,5))\n",
    "ax.plot(train_loss, label='training')\n",
    "ax.plot(val_loss, label='validation')\n",
    "ax.set_xlabel('epoch')\n",
    "ax.set_ylabel('MSE loss')\n",
    "ax.set_title('Loss')\n",
    "ax.legend()\n",
    "\n",
    "# save figure\n",
    "plt.savefig(f'../../figs/quinn_ResDepth_v8_loss.png', dpi=300)"
   ]
  },
  {
   "cell_type": "code",
   "execution_count": null,
   "id": "7270d680-a813-497b-a06c-6b9d63c7eb82",
   "metadata": {},
   "outputs": [],
   "source": [
    "val_loader = torch.utils.data.DataLoader(dataset=val_data, batch_size=1, shuffle=True)"
   ]
  },
  {
   "cell_type": "code",
   "execution_count": null,
   "id": "ac2842a0-6ed9-4dda-bc59-2fd6cda18c53",
   "metadata": {},
   "outputs": [],
   "source": [
    "# visualize model predictions\n",
    "sns.set_theme()\n",
    "num_samples = 1\n",
    "\n",
    "for i, data_tuple in enumerate(val_loader):\n",
    "    if i < num_samples:\n",
    "        # read data into dictionary\n",
    "        data_dict = {name: tensor for name, tensor in zip(selected_channels, data_tuple)}\n",
    "\n",
    "        with torch.no_grad():\n",
    "            # Concatenate input feature channels, make prediction\n",
    "            inputs = torch.cat([data_dict[channel] for channel in input_channels], dim=1).to('cuda')\n",
    "            pred_sd = model(inputs)  # Generate predictions using the model\n",
    "            pred_sd = pred_sd.to('cpu')\n",
    "        \n",
    "        f, ax = plt.subplots(3, 3, figsize=(15, 15), sharex=True, sharey=True)\n",
    "        ax[0, 0].imshow(pred_sd.squeeze(), cmap='Blues', vmin=0, vmax=0.4, interpolation=None)\n",
    "        ax[0, 0].set_title('Predicted Snow Depth')\n",
    "        ax[0, 1].imshow(data_dict['aso_sd'].squeeze(), cmap='Blues', vmin=0, vmax=0.4, interpolation=None)\n",
    "        ax[0, 1].set_title('ASO Lidar Snow Depth')\n",
    "        ax[0, 2].imshow(data_dict['elevation'].squeeze(), cmap='viridis', interpolation='none')\n",
    "        ax[0, 2].set_title('Copernicus DEM')\n",
    "        ax[1, 0].imshow(data_dict['fcf'].squeeze(), cmap='Greens', interpolation='none')\n",
    "        ax[1, 0].set_title('Fractional Forest Cover')\n",
    "        norm_max = np.max([data_dict['green'].max(), data_dict['red'].max(), data_dict['blue'].max()]) # there are better ways to do this\n",
    "        ax[1, 1].imshow(torch.cat((data_dict['red'].squeeze()[:, :, None]/norm_max, data_dict['green'].squeeze()[:, :, None]/norm_max, data_dict['blue'].squeeze()[:, :, None]/norm_max), 2).squeeze(), interpolation='none')\n",
    "        ax[1, 1].set_title('true color image')\n",
    "        ax[1, 2].imshow(data_dict['aso_gap_map'].squeeze() + data_dict['rtc_gap_map'].squeeze() + data_dict['s2_gap_map'].squeeze(), cmap='Purples', interpolation='none')\n",
    "        ax[1, 2].set_title('ASO and RTC Gaps')\n",
    "        ax[2, 0].imshow(data_dict['ndvi'].squeeze(), cmap='YlGn', interpolation='none')\n",
    "        ax[2, 0].set_title('NDVI')\n",
    "        ax[2, 1].imshow(data_dict['ndsi'].squeeze(), cmap='BuPu', interpolation='none')\n",
    "        ax[2, 1].set_title('NDSI')\n",
    "        ax[2, 2].imshow(data_dict['ndwi'].squeeze(), cmap='YlGnBu', interpolation='none')\n",
    "        ax[2, 2].set_title('NDWI')\n",
    "        \n",
    "        # modify plot style\n",
    "        for a in ax.flat:\n",
    "            a.set_aspect('equal')\n",
    "            a.set_xticks(np.arange(0, data_dict['aso_sd'].squeeze().shape[1], 43))\n",
    "            a.set_yticks(np.arange(0, data_dict['aso_sd'].squeeze().shape[0], 43))\n",
    "            a.grid(True, linewidth=1, alpha=0.5)\n",
    "        \n",
    "        f.tight_layout()\n",
    "    else:\n",
    "        break"
   ]
  },
  {
   "cell_type": "code",
   "execution_count": null,
   "id": "9b6e979b-7dac-44e1-8e78-fc8f28f1ebd2",
   "metadata": {},
   "outputs": [],
   "source": [
    "# visualize prediction error\n",
    "sns.set_theme()\n",
    "num_samples = 1\n",
    "norm_dict = deep_snow.dataset.norm_dict\n",
    "\n",
    "for i, data_tuple in enumerate(val_loader):\n",
    "    if i < num_samples:\n",
    "        # read data into dictionary\n",
    "        data_dict = {name: tensor for name, tensor in zip(selected_channels, data_tuple)}\n",
    "\n",
    "        with torch.no_grad():\n",
    "            # Concatenate input feature channels, make prediction\n",
    "            inputs = torch.cat([data_dict[channel] for channel in input_channels], dim=1).to('cuda')\n",
    "            pred_sd = model(inputs)  # Generate predictions using the model\n",
    "            pred_sd = pred_sd.to('cpu')\n",
    "\n",
    "            # mask nodata areas\n",
    "            pred_sd = torch.where(data_dict['aso_gap_map']+data_dict['rtc_gap_map'] + data_dict['s2_gap_map'] == 0, pred_sd, torch.zeros_like(pred_sd))\n",
    "            aso_sd = torch.where(data_dict['aso_gap_map']+data_dict['rtc_gap_map'] + data_dict['s2_gap_map'] == 0, data_dict['aso_sd'], torch.zeros_like(pred_sd))\n",
    "\n",
    "            # undo normalization\n",
    "            pred_sd = deep_snow.dataset.undo_norm(pred_sd, deep_snow.dataset.norm_dict['aso_sd']).squeeze()\n",
    "            aso_sd = deep_snow.dataset.undo_norm(aso_sd, deep_snow.dataset.norm_dict['aso_sd']).squeeze()\n",
    "            \n",
    "            # mask values above 0\n",
    "            pred_sd = torch.where(pred_sd >= 0, pred_sd, torch.zeros_like(pred_sd))\n",
    "            \n",
    "            f, ax = plt.subplots(2, 2, figsize=(10,10), sharex=True, sharey=True)\n",
    "            im0 = ax[0, 0].imshow(pred_sd, cmap='Blues', vmin=0, vmax=2, interpolation='none') \n",
    "            ax[0, 0].set_title('predicted snow depth')\n",
    "            f.colorbar(im0, shrink=0.5)\n",
    "            im1 = ax[0, 1].imshow(aso_sd, cmap='Blues', vmin=0, vmax=2, interpolation='none')\n",
    "            ax[0, 1].set_title('ASO lidar snow depth')\n",
    "            f.colorbar(im1, shrink=0.5)\n",
    "\n",
    "            im2 = ax[1, 0].imshow(aso_sd-pred_sd, cmap='RdBu', vmin=-2, vmax=2, interpolation='none') \n",
    "            ax[1, 0].set_title('ASO snow depth - predicted snow depth')\n",
    "            f.colorbar(im2, shrink=0.5)\n",
    "            norm_max = np.max([data_dict['green'].max(), data_dict['red'].max(), data_dict['blue'].max()]) # there are better ways to do this\n",
    "            im3 = ax[1, 1].imshow(torch.cat((data_dict['red'].squeeze()[:, :, None]/norm_max, data_dict['green'].squeeze()[:, :, None]/norm_max, data_dict['blue'].squeeze()[:, :, None]/norm_max), 2).squeeze(), interpolation='none')\n",
    "            ax[1, 1].set_title('true color image')\n",
    "            f.colorbar(im3, shrink=0.5)\n",
    "\n",
    "            # modify plot style\n",
    "            for a in ax.flat:\n",
    "                a.set_aspect('equal')\n",
    "                a.set_xticks(np.arange(0, data_dict['aso_sd'].squeeze().shape[1], 43))\n",
    "                a.set_yticks(np.arange(0, data_dict['aso_sd'].squeeze().shape[0], 43))\n",
    "                a.grid(True, linewidth=1, alpha=0.5)\n",
    "\n",
    "            plt.tight_layout()\n",
    "    else: \n",
    "        break"
   ]
  }
 ],
 "metadata": {
  "kernelspec": {
   "display_name": "Python [conda env:deep-snow] *",
   "language": "python",
   "name": "conda-env-deep-snow-py"
  },
  "language_info": {
   "codemirror_mode": {
    "name": "ipython",
    "version": 3
   },
   "file_extension": ".py",
   "mimetype": "text/x-python",
   "name": "python",
   "nbconvert_exporter": "python",
   "pygments_lexer": "ipython3",
   "version": "3.11.6"
  }
 },
 "nbformat": 4,
 "nbformat_minor": 5
}
