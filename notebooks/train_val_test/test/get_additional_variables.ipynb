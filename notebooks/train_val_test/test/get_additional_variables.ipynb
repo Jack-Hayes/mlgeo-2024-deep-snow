{
 "cells": [
  {
   "cell_type": "code",
   "execution_count": null,
   "id": "958e0564-df62-41e3-b184-0099422da15d",
   "metadata": {},
   "outputs": [],
   "source": []
  }
 ],
 "metadata": {
  "kernelspec": {
   "display_name": "Python [conda env:deep-snow] *",
   "language": "python",
   "name": "conda-env-deep-snow-py"
  },
  "language_info": {
   "codemirror_mode": {
    "name": "ipython",
    "version": 3
   },
   "file_extension": ".py",
   "mimetype": "text/x-python",
   "name": "python",
   "nbconvert_exporter": "python",
   "pygments_lexer": "ipython3",
   "version": "3.11.6"
  }
 },
 "nbformat": 4,
 "nbformat_minor": 5
}
