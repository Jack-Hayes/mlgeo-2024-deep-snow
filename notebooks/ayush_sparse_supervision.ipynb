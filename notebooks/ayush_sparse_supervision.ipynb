{
 "cells": [
  {
   "cell_type": "code",
   "execution_count": 9,
   "metadata": {},
   "outputs": [
    {
     "name": "stderr",
     "output_type": "stream",
     "text": [
      "/Users/ayushg/miniforge3/envs/deep-snow/lib/python3.12/site-packages/torchvision/io/image.py:14: UserWarning: Failed to load image Python extension: 'dlopen(/Users/ayushg/miniforge3/envs/deep-snow/lib/python3.12/site-packages/torchvision/image.so, 0x0006): Library not loaded: @rpath/libjpeg.9.dylib\n",
      "  Referenced from: <367D4265-B20F-34BD-94EB-4F3EE47C385B> /Users/ayushg/miniforge3/envs/deep-snow/lib/python3.12/site-packages/torchvision/image.so\n",
      "  Reason: tried: '/Users/ayushg/miniforge3/envs/deep-snow/lib/python3.12/site-packages/torchvision/../../../libjpeg.9.dylib' (no such file), '/Users/ayushg/miniforge3/envs/deep-snow/lib/python3.12/site-packages/torchvision/../../../libjpeg.9.dylib' (no such file), '/Users/ayushg/miniforge3/envs/deep-snow/lib/python3.12/lib-dynload/../../libjpeg.9.dylib' (no such file), '/Users/ayushg/miniforge3/envs/deep-snow/bin/../lib/libjpeg.9.dylib' (no such file)'If you don't plan on using image functionality from `torchvision.io`, you can ignore this warning. Otherwise, there might be something wrong with your environment. Did you have `libjpeg` or `libpng` installed before building `torchvision` from source?\n",
      "  warn(\n"
     ]
    }
   ],
   "source": [
    "import os, sys\n",
    "sys.path.append(os.path.dirname(os.path.abspath(os.getcwd())))\n",
    "\n",
    "import numpy as np\n",
    "import matplotlib.pyplot as plt\n",
    "import torch\n",
    "from glob import glob\n",
    "import seaborn as sns\n",
    "import torch.nn as nn\n",
    "import torch.optim as optim\n",
    "import torch.nn.functional as F\n",
    "import xarray as xr\n",
    "import rasterio as rio\n",
    "import rioxarray\n",
    "import math\n",
    "from sklearn.preprocessing import RobustScaler\n",
    "from sklearn.decomposition import PCA\n",
    "import pandas as pd\n",
    "import os\n",
    "\n",
    "import deep_snow.models\n",
    "from deep_snow.utils import calc_norm, undo_norm, calc_dowy\n",
    "from deep_snow.dataset import norm_dict\n",
    "from tqdm import tqdm\n",
    "import shutil"
   ]
  },
  {
   "cell_type": "markdown",
   "metadata": {},
   "source": [
    "#### Creating Random Grid for Sampling"
   ]
  },
  {
   "cell_type": "code",
   "execution_count": null,
   "metadata": {},
   "outputs": [],
   "source": [
    "X_coords = np.arange(np.random.randint(-160, -140), 128+160, 30)\n",
    "Y_coords = np.arange(np.random.randint(-160, -140), 128+160, 30)\n",
    "xv, yv = np.meshgrid(X_coords, Y_coords)\n",
    "xv, yv = xv.flatten(), yv.flatten()\n",
    "\n",
    "rot = np.deg2rad(65) \n",
    "\n",
    "xv_rot = (xv*np.cos(rot) + yv*np.sin(rot)).astype('int')\n",
    "yv_rot = (yv*np.cos(rot) - xv*np.cos(rot)).astype('int')\n",
    "\n",
    "mask1 = (xv>0)&(xv<128)&(yv>0)&(yv<128)\n",
    "mask2 = (xv_rot>0)&(xv_rot<128)&(yv_rot>0)&(yv_rot<128)"
   ]
  },
  {
   "cell_type": "code",
   "execution_count": 114,
   "metadata": {},
   "outputs": [
    {
     "data": {
      "text/plain": [
       "<matplotlib.collections.PathCollection at 0x33f29e270>"
      ]
     },
     "execution_count": 114,
     "metadata": {},
     "output_type": "execute_result"
    },
    {
     "data": {
      "image/png": "[encoded data removed]",
      "text/plain": [
       "<Figure size 1200x600 with 2 Axes>"
      ]
     },
     "metadata": {},
     "output_type": "display_data"
    }
   ],
   "source": [
    "fig, axs = plt.subplots(1, 2, figsize=(12, 6))\n",
    "axs[0].scatter(xv[mask1], yv[mask1])\n",
    "axs[1].scatter(xv_rot[mask2], yv_rot[mask2])"
   ]
  },
  {
   "cell_type": "code",
   "execution_count": 49,
   "metadata": {},
   "outputs": [
    {
     "data": {
      "text/plain": [
       "3540"
      ]
     },
     "execution_count": 49,
     "metadata": {},
     "output_type": "execute_result"
    }
   ],
   "source": [
    "# we see the directory below contains our ai-ready data\n",
    "files = glob(\"/Users/ayushg/Desktop/Courses/ML_GEO/mlgeo-2024-deep-snow/final_data/jack_subsets 2/ncs/*.nc\")\n",
    "len(files)"
   ]
  },
  {
   "cell_type": "markdown",
   "metadata": {},
   "source": [
    "#### Saving to pickle file"
   ]
  },
  {
   "cell_type": "code",
   "execution_count": null,
   "metadata": {},
   "outputs": [],
   "source": [
    "def random_grid(grid_sz_x=30, grid_sz_y=30):\n",
    "    # Hard coded patch size\n",
    "    X_coords = np.arange(np.random.randint(-160, -140), 128+160, grid_sz_x)\n",
    "    Y_coords = np.arange(np.random.randint(-160, -140), 128+160, grid_sz_y)\n",
    "    xv, yv = np.meshgrid(X_coords, Y_coords)\n",
    "    xv, yv = xv.flatten(), yv.flatten()\n",
    "\n",
    "    rot = np.deg2rad(np.random.randint(0, 50)) \n",
    "\n",
    "    xv_rot = (xv*np.cos(rot) + yv*np.sin(rot)).astype('int')\n",
    "    yv_rot = (yv*np.cos(rot) - xv*np.cos(rot)).astype('int')\n",
    "    mask2 = (xv_rot>0)&(xv_rot<128)&(yv_rot>0)&(yv_rot<128)\n",
    "\n",
    "    return xv_rot[mask2], yv_rot[mask2]"
   ]
  },
  {
   "cell_type": "code",
   "execution_count": 137,
   "metadata": {},
   "outputs": [],
   "source": [
    "dataset_list = {}\n",
    "# xgrid, ygrid, file_list = [], [], []\n",
    "for i, file in enumerate(files):\n",
    "    filenm = file.split('/')[-1].replace('.nc', '')\n",
    "    xv, yv = random_grid()\n",
    "    dataset_list[filenm] = { 'x_idx': list(xv), 'y_idx': list(yv) }"
   ]
  },
  {
   "cell_type": "code",
   "execution_count": 145,
   "metadata": {},
   "outputs": [],
   "source": [
    "import pickle\n",
    "out_path = '/Users/ayushg/Desktop/Courses/ML_GEO/mlgeo-2024-deep-snow/final_data/jack_subsets 2/dataset_index.pkl'\n",
    "with open(out_path, \"wb\") as fp:\n",
    "    pickle.dump(dataset_list, fp)"
   ]
  },
  {
   "cell_type": "code",
   "execution_count": 151,
   "metadata": {},
   "outputs": [],
   "source": [
    "# Read dictionary pkl file\n",
    "with open(out_path, 'rb') as fp:\n",
    "    dataset_idx = pickle.load(fp)"
   ]
  },
  {
   "cell_type": "code",
   "execution_count": 154,
   "metadata": {},
   "outputs": [],
   "source": [
    "# dataset_idx"
   ]
  },
  {
   "cell_type": "markdown",
   "metadata": {},
   "source": [
    "#### Dataset Class"
   ]
  },
  {
   "cell_type": "code",
   "execution_count": 150,
   "metadata": {},
   "outputs": [],
   "source": [
    "norm_dict = {'aso_sd':[0, 25],\n",
    "             'vv':[-59, 30],\n",
    "             'vh':[-65, 17],\n",
    "             'cr':[-43, 16],\n",
    "             'delta_cr':[-33, 27],\n",
    "             'AOT':[0, 572],\n",
    "             'coastal':[0, 24304],\n",
    "             'blue':[0, 23371],\n",
    "             'green':[0, 26440],\n",
    "             'red':[0, 21576],\n",
    "             'red_edge1':[0, 20796],\n",
    "             'red_edge2':[0, 20432],\n",
    "             'red_edge3':[0, 20149],\n",
    "             'nir':[0, 21217],\n",
    "             'water_vapor':[0, 18199],\n",
    "             'swir1':[0, 17669],\n",
    "             'swir2':[0, 17936],\n",
    "             'scene_class_map':[0, 15],\n",
    "             'water_vapor_product':[0, 6518],\n",
    "             'elevation':[-100, 9000],\n",
    "             'aspect':[0, 360],\n",
    "             'slope':[0, 90],\n",
    "             'curvature':[-22, 22],\n",
    "             'tpi':[-164, 167],\n",
    "             'tri':[0, 913],\n",
    "             'latitude':[-90, 90],\n",
    "             'longitude':[-180, 180],\n",
    "             'dowy': [0, 365]}\n",
    "\n",
    "# Process each file and normalize the relevant features\n",
    "def process_file(file_path):\n",
    "    ds = xr.open_dataset(file_path)\n",
    "    # Normalize features using the norm_dict\n",
    "    data_dict = {}\n",
    "    data_dict['latitude'] = calc_norm(torch.Tensor(ds['latitude'].values), norm_dict['latitude'])\n",
    "    data_dict['longitude'] = calc_norm(torch.Tensor(ds['longitude'].values), norm_dict['longitude'])\n",
    "    data_dict['elevation'] = calc_norm(torch.Tensor(ds['elevation'].values), norm_dict['elevation'])\n",
    "    data_dict['slope'] = calc_norm(torch.Tensor(ds['slope'].values), norm_dict['slope'])\n",
    "    data_dict['tri'] = calc_norm(torch.Tensor(ds['tri'].values), norm_dict['tri'])\n",
    "    data_dict['tpi'] = calc_norm(torch.Tensor(ds['tpi'].values), norm_dict['tpi'])\n",
    "    data_dict['dowy'] = calc_norm(torch.Tensor(ds['dowy'].values), norm_dict['dowy'])\n",
    "    # Reshape PC components to 2D\n",
    "    s1_pc1_2d = ds['s1_pc1'].values.reshape(128, 128)\n",
    "    s1_pc2_2d = ds['s1_pc2'].values.reshape(128, 128)\n",
    "    s2_pc1_2d = ds['s2_pc1'].values.reshape(128, 128)\n",
    "    s2_pc2_2d = ds['s2_pc2'].values.reshape(128, 128)\n",
    "    s2_pc3_2d = ds['s2_pc3'].values.reshape(128, 128)\n",
    "    # Stack normalized features\n",
    "    features = np.stack([\n",
    "        data_dict['elevation'].numpy(),\n",
    "        data_dict['slope'].numpy(),\n",
    "        data_dict['tri'].numpy(),\n",
    "        data_dict['tpi'].numpy(),\n",
    "        data_dict['latitude'].numpy(),\n",
    "        data_dict['longitude'].numpy(),\n",
    "        s1_pc1_2d,\n",
    "        s1_pc2_2d,\n",
    "        s2_pc1_2d,\n",
    "        s2_pc2_2d,\n",
    "        s2_pc3_2d,\n",
    "        data_dict['dowy'].numpy()\n",
    "    ], axis=0)\n",
    "    target = ds['aso_sd'].values\n",
    "    return features, target"
   ]
  },
  {
   "cell_type": "code",
   "execution_count": 172,
   "metadata": {},
   "outputs": [],
   "source": [
    "from torch.utils.data import DataLoader, Dataset\n",
    "\n",
    "class SparseSnowDataset(Dataset):\n",
    "    \"\"\"Sparse Snow Depth dataset\"\"\"\n",
    "    def __init__(self, datapath, mode):\n",
    "        self.datapath = datapath\n",
    "        self.data_files = glob(f'{datapath}/ncs/*.nc')\n",
    "\n",
    "        # Calculate the sizes for each split\n",
    "        train_size = int(0.7 * len(self.data_files))  # 70% for training\n",
    "        test_size = int(0.2 * len(self.data_files))   # 20% for testing\n",
    "        val_size = len(self.data_files) - train_size - test_size  # Remaining 10% for validation\n",
    "\n",
    "        # Setting modes\n",
    "        if mode=='train':\n",
    "            self.data_files = self.data_files[:train_size]\n",
    "        elif mode=='test':\n",
    "            self.data_files = self.data_files[train_size:train_size + test_size]\n",
    "        elif mode=='val':\n",
    "            self.data_files = self.data_files[train_size + test_size:]\n",
    "\n",
    "        # Read dictionary pkl file\n",
    "        with open(f'{datapath}/dataset_index.pkl', 'rb') as fp:\n",
    "            self.dataset_idx = pickle.load(fp)\n",
    "\n",
    "    def __len__(self):\n",
    "        return len(self.data_files)\n",
    "    \n",
    "    def __getitem__(self, index):\n",
    "        file_name = self.data_files[index]\n",
    "        features, target = process_file(file_name)\n",
    "        xy_grid = self.dataset_idx[file_name.split('/')[-1].replace('.nc', '')]\n",
    "        x_idx, y_idx = xy_grid['x_idx'], xy_grid['y_idx']\n",
    "        return features, target, [x_idx, y_idx]"
   ]
  },
  {
   "cell_type": "code",
   "execution_count": 176,
   "metadata": {},
   "outputs": [],
   "source": [
    "data_path = '/Users/ayushg/Desktop/Courses/ML_GEO/mlgeo-2024-deep-snow/final_data/jack_subsets 2'\n",
    "\n",
    "train_snow_dataset = SparseSnowDataset(data_path, 'train')\n",
    "val_snow_dataset = SparseSnowDataset(data_path, 'val')\n",
    "test_snow_dataset = SparseSnowDataset(data_path, 'test')\n",
    "\n",
    "# Create data loaders\n",
    "train_loader = DataLoader(train_snow_dataset, batch_size=32, shuffle=True)\n",
    "test_loader = DataLoader(test_snow_dataset, batch_size=32, shuffle=False)\n",
    "val_loader = DataLoader(val_snow_dataset, batch_size=32, shuffle=False)"
   ]
  },
  {
   "cell_type": "code",
   "execution_count": null,
   "metadata": {},
   "outputs": [],
   "source": []
  },
  {
   "cell_type": "code",
   "execution_count": null,
   "metadata": {},
   "outputs": [],
   "source": []
  },
  {
   "cell_type": "code",
   "execution_count": null,
   "metadata": {},
   "outputs": [],
   "source": []
  }
 ],
 "metadata": {
  "kernelspec": {
   "display_name": "deep-snow",
   "language": "python",
   "name": "python3"
  },
  "language_info": {
   "codemirror_mode": {
    "name": "ipython",
    "version": 3
   },
   "file_extension": ".py",
   "mimetype": "text/x-python",
   "name": "python",
   "nbconvert_exporter": "python",
   "pygments_lexer": "ipython3",
   "version": "3.12.7"
  }
 },
 "nbformat": 4,
 "nbformat_minor": 2
}
