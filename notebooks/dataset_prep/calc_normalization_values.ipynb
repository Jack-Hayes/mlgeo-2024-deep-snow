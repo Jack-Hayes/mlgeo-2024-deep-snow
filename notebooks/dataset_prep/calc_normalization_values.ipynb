{
 "cells": [
  {
   "cell_type": "code",
   "execution_count": 1,
   "id": "58e16ec1-3582-49db-b54d-2f9ac20542a8",
   "metadata": {},
   "outputs": [],
   "source": [
    "from torch.utils.data import DataLoader\n",
    "import numpy as np\n",
    "import torch\n",
    "from glob import glob\n",
    "\n",
    "import crunchy_snow.dataset"
   ]
  },
  {
   "cell_type": "code",
   "execution_count": 2,
   "id": "2a935a02-8340-4c11-b9af-e699332f27ee",
   "metadata": {},
   "outputs": [],
   "source": [
    "train_data_dir = '/mnt/Backups/gbrench/repos/crunchy-snow/data/subsets_v2/train'\n",
    "train_path_list = glob(f'{train_data_dir}/ASO_50M_SD*.nc')\n",
    "\n",
    "val_data_dir = '/mnt/Backups/gbrench/repos/crunchy-snow/data/subsets_v2/val'\n",
    "val_path_list = glob(f'{val_data_dir}/ASO_50M_SD*.nc')"
   ]
  },
  {
   "cell_type": "code",
   "execution_count": 3,
   "id": "4bfc20ee-7773-4430-8d68-e1ca613b4894",
   "metadata": {},
   "outputs": [],
   "source": [
    "# define data to be returned by dataloader\n",
    "selected_channels = [\n",
    "    # ASO products\n",
    "    'aso_sd', # ASO lidar snow depth (target dataset)\n",
    "    'aso_gap_map', # gaps in ASO data\n",
    "    \n",
    "    # Sentinel-1 products\n",
    "    'snowon_vv', # snow on Sentinel-1 VV polarization backscatter in dB, closest acquisition to ASO acquisition\n",
    "    'snowon_vh', # snow on Sentinel-1 VH polarization backscatter in dB, closest acquisition to ASO acquisition\n",
    "    'snowoff_vv', # snow off Sentinel-1 VV polarization backscatter in dB, closest acquisition to ASO acquisition\n",
    "    'snowoff_vh', # snow off Sentinel-1 VH polarization backscatter in dB, closest acquisition to ASO acquisition\n",
    "    'snowon_vv_mean', # snow on Sentinel-1 VV polarization backscatter in dB, mean of acquisition in 4 week period around ASO acquisition\n",
    "    'snowon_vh_mean', # snow on Sentinel-1 VH polarization backscatter in dB, mean of acquisition in 4 week period around ASO acquisition\n",
    "    'snowoff_vv_mean', # snow off Sentinel-1 VV polarization backscatter in dB, mean of acquisition in 4 week period around ASO acquisition\n",
    "    'snowoff_vh_mean', # snow off Sentinel-1 VH polarization backscatter in dB, mean of acquisition in 4 week period around ASO acquisition\n",
    "    'snowon_cr', # cross ratio, snowon_vh - snowon_vv\n",
    "    'snowoff_cr', # cross ratio, snowoff_vh - snowoff_vv\n",
    "    'delta_cr', # change in cross ratio, snowon_cr - snowoff_cr\n",
    "    'rtc_gap_map', # gaps in Sentinel-1 data\n",
    "    'rtc_mean_gap_map', # gaps in Sentinel-1 mean data\n",
    "    \n",
    "    # Sentinel-2 products \n",
    "    'aerosol_optical_thickness', # snow on Sentinel-2 aerosol optical thickness band \n",
    "    'coastal_aerosol', # snow on Sentinel-2 coastal aerosol band\n",
    "    'blue', # snow on Sentinel-2 blue band\n",
    "    'green', # snow on Sentinel-2 green band\n",
    "    'red', # snow on Sentinel-2 red band\n",
    "    'red_edge1', # snow on Sentinel-2 red edge 1 band\n",
    "    'red_edge2', # snow on Sentinel-2 red edge 2 band\n",
    "    'red_edge3', # snow on Sentinel-2 red edge 3 band\n",
    "    'nir', # snow on Sentinel-2 near infrared band\n",
    "    'water_vapor', # snow on Sentinel-2 water vapor\n",
    "    'swir1', # snow on Sentinel-2 shortwave infrared band 1\n",
    "    'swir2', # snow on Sentinel-2 shortwave infrared band 2\n",
    "    'scene_class_map', # snow on Sentinel-2 scene classification product\n",
    "    'water_vapor_product', # snow on Sentinel-2 water vapor product\n",
    "    'ndvi', # Normalized Difference Vegetation Index from Sentinel-2\n",
    "    'ndsi', # Normalized Difference Snow Index from Sentinel-2\n",
    "    'ndwi', # Normalized Difference Water Index from Sentinel-2\n",
    "    's2_gap_map', # gaps in Sentinel-2 data\n",
    "\n",
    "    # PROBA-V global land cover dataset (Buchhorn et al., 2020)\n",
    "    'fcf', # fractional forest cover\n",
    "    \n",
    "    # COP30 digital elevation model      \n",
    "    'elevation',\n",
    "\n",
    "    # latitude and longitude\n",
    "    'latitude',\n",
    "    'longitude',\n",
    "\n",
    "    # day of water year\n",
    "    'dowy'\n",
    "                    ]\n",
    "\n",
    "# prepare training and validation dataloaders\n",
    "train_data = crunchy_snow.dataset.Dataset(train_path_list, selected_channels, norm=False)\n",
    "train_loader = torch.utils.data.DataLoader(dataset=train_data, batch_size=2000, shuffle=False)\n",
    "\n",
    "# prepare training and validation dataloaders\n",
    "val_data = crunchy_snow.dataset.Dataset(val_path_list, selected_channels, norm=False)\n",
    "val_loader = torch.utils.data.DataLoader(dataset=val_data, batch_size=2000, shuffle=False)"
   ]
  },
  {
   "cell_type": "code",
   "execution_count": 4,
   "id": "fd0154b3-fd19-4129-9ebe-4203ce38b2f4",
   "metadata": {},
   "outputs": [
    {
     "name": "stdout",
     "output_type": "stream",
     "text": [
      "loop 1\n",
      "loop 2\n",
      "loop 3\n",
      "loop 4\n",
      "loop 5\n",
      "loop 6\n",
      "loop 7\n",
      "loop 8\n",
      "loop 9\n",
      "loop 10\n",
      "loop 11\n",
      "loop 12\n",
      "loop 13\n",
      "loop 14\n",
      "loop 15\n",
      "loop 16\n"
     ]
    }
   ],
   "source": [
    "# find dataset min and max for normalization\n",
    "norm_dict = {}\n",
    "for i, outputs in enumerate(train_loader):\n",
    "    print(f'loop {i+1}')\n",
    "    for j, item in enumerate(outputs):\n",
    "        data_name = selected_channels[j]\n",
    "        if i == 0:\n",
    "            norm_dict[data_name] = [item.min().item(), item.max().item()]\n",
    "        if item.max() > norm_dict[data_name][1]:\n",
    "            norm_dict[data_name][1] = item.max().item()\n",
    "        if item.min() < norm_dict[data_name][0] and not item.min() == 0:\n",
    "            norm_dict[data_name][0] = item.min().item()"
   ]
  },
  {
   "cell_type": "code",
   "execution_count": 5,
   "id": "f1d07fb7-a318-43dd-b96a-a82916bf4a3a",
   "metadata": {},
   "outputs": [
    {
     "data": {
      "text/plain": [
       "{'aso_sd': [0.0, 77.68216705322266],\n",
       " 'aso_gap_map': [0.0, 1.0],\n",
       " 'snowon_vv': [-58.50587463378906, 39.43202590942383],\n",
       " 'snowon_vh': [-67.34005737304688, 18.352039337158203],\n",
       " 'snowoff_vv': [-52.92261505126953, 41.31097412109375],\n",
       " 'snowoff_vh': [-61.13330841064453, 15.569765090942383],\n",
       " 'snowon_vv_mean': [-58.50587463378906, 36.8072624206543],\n",
       " 'snowon_vh_mean': [-67.34005737304688, 17.918773651123047],\n",
       " 'snowoff_vv_mean': [-57.858699798583984, 40.318572998046875],\n",
       " 'snowoff_vh_mean': [-69.16107940673828, 14.829648971557617],\n",
       " 'snowon_cr': [-40.59846878051758, 15.802289962768555],\n",
       " 'snowoff_cr': [-42.27442169189453, 12.083983421325684],\n",
       " 'delta_cr': [-32.43565368652344, 26.25350570678711],\n",
       " 'rtc_gap_map': [0.0, 1.0],\n",
       " 'rtc_mean_gap_map': [0.0, 1.0],\n",
       " 'aerosol_optical_thickness': [0.0, 572.0],\n",
       " 'coastal_aerosol': [0.0, 23459.0],\n",
       " 'blue': [0.0, 23004.0],\n",
       " 'green': [0.0, 26440.0],\n",
       " 'red': [0.0, 21576.0],\n",
       " 'red_edge1': [0.0, 20796.0],\n",
       " 'red_edge2': [0.0, 20432.0],\n",
       " 'red_edge3': [0.0, 20149.0],\n",
       " 'nir': [0.0, 21217.0],\n",
       " 'water_vapor': [0.0, 18199.0],\n",
       " 'swir1': [0.0, 17669.0],\n",
       " 'swir2': [0.0, 17936.0],\n",
       " 'scene_class_map': [0.0, 15.0],\n",
       " 'water_vapor_product': [0.0, 6517.43798828125],\n",
       " 'ndvi': [-1.0, 1.0],\n",
       " 'ndsi': [-1.0, 1.0],\n",
       " 'ndwi': [-1.0, 1.0],\n",
       " 's2_gap_map': [0.0, 1.0],\n",
       " 'fcf': [0.0, 1.0],\n",
       " 'elevation': [0.0, 4408.29150390625],\n",
       " 'latitude': [35.70926284790039, 48.1442756652832],\n",
       " 'longitude': [-124.18649291992188, -105.15021514892578],\n",
       " 'dowy': [112.0, 319.0]}"
      ]
     },
     "execution_count": 5,
     "metadata": {},
     "output_type": "execute_result"
    }
   ],
   "source": [
    "norm_dict"
   ]
  },
  {
   "cell_type": "code",
   "execution_count": 4,
   "id": "c7ede175-6279-4c51-bb2f-e79cebfd3f9c",
   "metadata": {},
   "outputs": [
    {
     "name": "stdout",
     "output_type": "stream",
     "text": [
      "loop 1\n",
      "loop 2\n"
     ]
    }
   ],
   "source": [
    "# find dataset min and max for normalization\n",
    "norm_dict = {}\n",
    "for i, outputs in enumerate(val_loader):\n",
    "    print(f'loop {i+1}')\n",
    "    for j, item in enumerate(outputs):\n",
    "        data_name = selected_channels[j]\n",
    "        if i == 0:\n",
    "            norm_dict[data_name] = [item.min().item(), item.max().item()]\n",
    "        if item.max() > norm_dict[data_name][1]:\n",
    "            norm_dict[data_name][1] = item.max().item()\n",
    "        if item.min() < norm_dict[data_name][0] and not item.min() == 0:\n",
    "            norm_dict[data_name][0] = item.min().item()"
   ]
  },
  {
   "cell_type": "code",
   "execution_count": 5,
   "id": "9ab72efa-0dbb-4549-95d6-5756f6ab5bf7",
   "metadata": {},
   "outputs": [
    {
     "data": {
      "text/plain": [
       "{'aso_sd': [0.0, 397.2589111328125],\n",
       " 'aso_gap_map': [0.0, 1.0],\n",
       " 'snowon_vv': [-58.84242630004883, 23.79745101928711],\n",
       " 'snowon_vh': [-65.97496795654297, 9.849296569824219],\n",
       " 'snowoff_vv': [-55.99445724487305, 20.7916259765625],\n",
       " 'snowoff_vh': [-62.95058822631836, 10.464592933654785],\n",
       " 'snowon_vv_mean': [-58.84242630004883, 21.081655502319336],\n",
       " 'snowon_vh_mean': [-65.97496795654297, 9.639721870422363],\n",
       " 'snowoff_vv_mean': [-55.639896392822266, 19.098800659179688],\n",
       " 'snowoff_vh_mean': [-65.64103698730469, 10.436249732971191],\n",
       " 'snowon_cr': [-35.89558029174805, 10.695364952087402],\n",
       " 'snowoff_cr': [-27.902101516723633, 11.517260551452637],\n",
       " 'delta_cr': [-28.254453659057617, 23.295503616333008],\n",
       " 'rtc_gap_map': [0.0, 1.0],\n",
       " 'rtc_mean_gap_map': [0.0, 1.0],\n",
       " 'aerosol_optical_thickness': [0.0, 457.0],\n",
       " 'coastal_aerosol': [0.0, 24304.0],\n",
       " 'blue': [0.0, 23371.0],\n",
       " 'green': [0.0, 21459.0],\n",
       " 'red': [0.0, 20357.0],\n",
       " 'red_edge1': [0.0, 19776.0],\n",
       " 'red_edge2': [0.0, 18810.0],\n",
       " 'red_edge3': [0.0, 18964.0],\n",
       " 'nir': [0.0, 19811.0],\n",
       " 'water_vapor': [0.0, 18150.0],\n",
       " 'swir1': [0.0, 16931.0],\n",
       " 'swir2': [0.0, 16932.0],\n",
       " 'scene_class_map': [0.0, 15.0],\n",
       " 'water_vapor_product': [0.0, 6465.0],\n",
       " 'ndvi': [-1.0, 1.0],\n",
       " 'ndsi': [-1.0, 0.9981651306152344],\n",
       " 'ndwi': [-1.0, 1.0],\n",
       " 's2_gap_map': [0.0, 1.0],\n",
       " 'fcf': [0.0, 1.0],\n",
       " 'elevation': [0.0, 4300.2705078125],\n",
       " 'latitude': [37.06121063232422, 47.69491958618164],\n",
       " 'longitude': [-123.52639770507812, -105.5313720703125],\n",
       " 'dowy': [112.0, 319.0]}"
      ]
     },
     "execution_count": 5,
     "metadata": {},
     "output_type": "execute_result"
    }
   ],
   "source": [
    "norm_dict"
   ]
  }
 ],
 "metadata": {
  "kernelspec": {
   "display_name": "Python [conda env:crunchy-snow] *",
   "language": "python",
   "name": "conda-env-crunchy-snow-py"
  },
  "language_info": {
   "codemirror_mode": {
    "name": "ipython",
    "version": 3
   },
   "file_extension": ".py",
   "mimetype": "text/x-python",
   "name": "python",
   "nbconvert_exporter": "python",
   "pygments_lexer": "ipython3",
   "version": "3.11.6"
  }
 },
 "nbformat": 4,
 "nbformat_minor": 5
}
