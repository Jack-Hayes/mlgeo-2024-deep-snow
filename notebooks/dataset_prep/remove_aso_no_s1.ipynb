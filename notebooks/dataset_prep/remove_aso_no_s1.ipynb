{
 "cells": [
  {
   "cell_type": "code",
   "execution_count": 1,
   "id": "e971d9c3-1c8e-46cb-b27b-79e9d82107a1",
   "metadata": {},
   "outputs": [],
   "source": [
    "import glob\n",
    "import os\n",
    "import shutil"
   ]
  },
  {
   "cell_type": "code",
   "execution_count": 2,
   "id": "0928deba-a9b0-477c-88c9-e016a7fb74f3",
   "metadata": {},
   "outputs": [],
   "source": [
    "s1_dir = '/mnt/c/Users/qbren/Desktop/taco/projects/crunchy-snow/data/S1_rtc'\n",
    "s1_list = os.listdir(s1_dir)"
   ]
  },
  {
   "cell_type": "code",
   "execution_count": 3,
   "id": "b5a34249-9b31-4cec-8557-b8face7cd877",
   "metadata": {},
   "outputs": [],
   "source": [
    "aso_overpass = {}\n",
    "for item in s1_list:\n",
    "    fn = f'{item.split(\"for_\")[-1][:-3]}.tif'\n",
    "    if fn not in aso_overpass.keys():\n",
    "        aso_overpass[fn] = 1\n",
    "    else:\n",
    "        aso_overpass[fn] = 2   "
   ]
  },
  {
   "cell_type": "code",
   "execution_count": 4,
   "id": "c986ae5d-2ee5-43f3-8cd2-99053f6ba17b",
   "metadata": {},
   "outputs": [],
   "source": [
    "ASO_list = glob.glob('/mnt/c/Users/qbren/Desktop/taco/projects/crunchy-snow/data/ASO/ASO_50m_SD_cleaned/*/ASO*.tif')"
   ]
  },
  {
   "cell_type": "code",
   "execution_count": 5,
   "id": "ed4dc135-3bff-4418-86d1-a3dd23c77d21",
   "metadata": {},
   "outputs": [],
   "source": [
    "aso_w_overpass = []\n",
    "for sd_map in ASO_list:\n",
    "    sd_map_name = sd_map.split('/')[-1]\n",
    "    if sd_map_name in aso_overpass.keys():\n",
    "        if aso_overpass[sd_map_name] == 2:\n",
    "            aso_w_overpass.append(sd_map_name)"
   ]
  },
  {
   "cell_type": "code",
   "execution_count": 7,
   "id": "5dfd154d-43fb-43d3-b1b0-202ba2d11375",
   "metadata": {},
   "outputs": [],
   "source": [
    "utm_zones = ['utm10n', 'utm11n', 'utm12n', 'utm13n']\n",
    "for zone in utm_zones:\n",
    "    os.chdir(f'/mnt/c/Users/qbren/Desktop/taco/projects/crunchy-snow//data/ASO/ASO_50m_SD_cleaned/{zone}')\n",
    "    scenes = os.listdir(os.getcwd())\n",
    "    for keep_scene in aso_w_overpass:\n",
    "        if keep_scene in scenes:\n",
    "            shutil.copy(keep_scene, f'../../ASO_50m_SD_withS1overpass/{zone}/{keep_scene}')"
   ]
  }
 ],
 "metadata": {
  "kernelspec": {
   "display_name": "Python 3 (ipykernel)",
   "language": "python",
   "name": "python3"
  },
  "language_info": {
   "codemirror_mode": {
    "name": "ipython",
    "version": 3
   },
   "file_extension": ".py",
   "mimetype": "text/x-python",
   "name": "python",
   "nbconvert_exporter": "python",
   "pygments_lexer": "ipython3",
   "version": "3.8.16"
  }
 },
 "nbformat": 4,
 "nbformat_minor": 5
}
