{
 "cells": [
  {
   "cell_type": "markdown",
   "id": "8517be99-47ac-416c-bc17-a248907ee211",
   "metadata": {
    "tags": []
   },
   "source": [
    "# Download Sentinel-2 data for ASO rasters"
   ]
  },
  {
   "cell_type": "markdown",
   "id": "f76c9de8-ba5d-431e-a618-780a4c3e682c",
   "metadata": {},
   "source": [
    "Given an ASO raster, find Sentinel-2 scenes over the same area within a week of lidar acqusition, then choose scene with most snow pixels (find max coverage area and least cloud pixels)."
   ]
  },
  {
   "cell_type": "code",
   "execution_count": null,
   "id": "615f6422-ef11-4661-b3af-3d4127f74406",
   "metadata": {
    "tags": []
   },
   "outputs": [],
   "source": [
    "# based on exmaples from\n",
    "# https://planetarycomputer.microsoft.com/docs/tutorials/cloudless-mosaic-sentinel2/\n",
    "# https://planetarycomputer.microsoft.com/dataset/sentinel-2-l2a#Example-Notebook\n",
    "from pystac.extensions.eo import EOExtension as eo\n",
    "import pystac_client\n",
    "import planetary_computer\n",
    "import glob\n",
    "import rioxarray as rxr\n",
    "import re, os\n",
    "import datetime\n",
    "import pandas as pd\n",
    "from shapely.geometry import box\n",
    "import odc.stac\n",
    "import rasterio as rio\n",
    "from rasterio.enums import Resampling"
   ]
  },
  {
   "cell_type": "code",
   "execution_count": null,
   "id": "c6dc01a9-7f90-4b6c-9af2-73854d728a27",
   "metadata": {},
   "outputs": [],
   "source": [
    "def sentinel2_for_aso(aso_raster_fn, dataset_path):\n",
    "    \n",
    "    time = pd.to_datetime(re.search(r\"(\\d{4}\\d{2}\\d{2})\", aso_raster_fn).group())\n",
    "    week_before = (time - datetime.timedelta(weeks=0.2)).strftime('%Y-%m-%d')\n",
    "    week_after = (time + datetime.timedelta(weeks=0.2)).strftime('%Y-%m-%d')\n",
    "    time_of_interest = f'{week_before}/{week_after}'\n",
    "    \n",
    "    aso_raster = rxr.open_rasterio(aso_raster_fn).squeeze()\n",
    "    bounds_latlon = box(*aso_raster.rio.transform_bounds(\"EPSG:4326\"))\n",
    "    \n",
    "    catalog = pystac_client.Client.open(\n",
    "    \"https://planetarycomputer.microsoft.com/api/stac/v1\",\n",
    "    modifier=planetary_computer.sign_inplace)\n",
    "\n",
    "    search = catalog.search(\n",
    "        collections=[\"sentinel-2-l2a\"],\n",
    "        intersects=bounds_latlon,\n",
    "        datetime=time_of_interest)\n",
    "\n",
    "    # Check how many items were returned\n",
    "    items = search.item_collection()\n",
    "    print(f\"Returned {len(items)} Items\")\n",
    "    \n",
    "    sentinel2_stac = odc.stac.load(items,chunks={\"x\": 2048, \"y\": 2048},resolution=50, groupby='solar_day')\n",
    "    sentinel2_stac_clipped = sentinel2_stac.rio.clip_box(*bounds_latlon.bounds,crs=\"EPSG:4326\")\n",
    "    scl = sentinel2_stac_clipped['SCL'].rio.reproject_match(aso_raster, resampling=rio.enums.Resampling.bilinear).where(aso_raster>=0)\n",
    "    classes = [ #SCL classes here: https://custom-scripts.sentinel-hub.com/custom-scripts/sentinel-2/scene-classification/\n",
    "    #0,   #No Data (Missing data)\t#000000\t\n",
    "    #1,   #Saturated or defective pixel\t#ff0000\t\n",
    "    #2,   #Topographic casted shadows (called \"Dark features/Shadows\" for data before 2022-01-25)\t#2f2f2f\t\n",
    "    #3,   #Cloud shadows\t#643200\t\n",
    "    4,   #Vegetation\t#00a000\t\n",
    "    5,   #Not-vegetated\t#ffe65a\t\n",
    "    #6,   #Water\t#0000ff\t\n",
    "    #7,   #Unclassified\t#808080\t\n",
    "    #8,   #Cloud medium probability\t#c0c0c0\t\n",
    "    #9,   #Cloud high probability\t#ffffff\t\n",
    "    #10,   #Thin cirrus\t#64c8ff\t\n",
    "    11    #Snow or ice      \n",
    "    ]\n",
    "    \n",
    "    idx_least_clouds = scl.where(scl.isin(classes)).sum(dim=['x','y']).idxmax()\n",
    "    sentinel2_best_lowcloud = sentinel2_stac_clipped.sel(time=idx_least_clouds)\n",
    "    \n",
    "    # Ensuring directory exists for saving data\n",
    "    os.makedirs(os.path.join(dataset_path, 'sentinel-2'), exist_ok=True)\n",
    "    \n",
    "    sentinel2_best_lowcloud.to_netcdf(os.path.join(dataset_path, 'sentinel-2', f'{pd.to_datetime(idx_least_clouds.values).strftime(\"%Y%m%d\")}_for_{aso_raster_fn.replace('\\\\','/').split(\"/\")[-1][:-4]}.nc'))    \n",
    "    #return sentinel2_best_lowcloud"
   ]
  },
  {
   "cell_type": "code",
   "execution_count": null,
   "id": "12d85333-f07a-4ea7-abff-44105278ea01",
   "metadata": {
    "tags": []
   },
   "outputs": [],
   "source": [
    "aso_raster_fns = glob.glob(r\"/home/ayushg12/ML_GEO2024_ayushg12/mlgeo-2024-deep-snow/final_data/ASO_50m_SD_cleaned/utm12n/ASO*.tif\")\n",
    "dataset_path = \"/home/ayushg12/ML_GEO2024_ayushg12/mlgeo-2024-deep-snow/final_data\""
   ]
  },
  {
   "cell_type": "code",
   "execution_count": 7,
   "id": "377956ba",
   "metadata": {},
   "outputs": [
    {
     "data": {
      "text/plain": [
       "9"
      ]
     },
     "execution_count": 7,
     "metadata": {},
     "output_type": "execute_result"
    }
   ],
   "source": [
    "len(aso_raster_fns)"
   ]
  },
  {
   "cell_type": "code",
   "execution_count": null,
   "id": "1dcbd6b4-a795-450c-8d26-97c1eb67b501",
   "metadata": {
    "scrolled": true,
    "tags": []
   },
   "outputs": [
    {
     "name": "stdout",
     "output_type": "stream",
     "text": [
      "----\n",
      "working on ASO_50M_SD_WindRiver_20220611_clean.tif, 1/9\n",
      "----\n",
      "Returned 2 Items\n",
      "----\n",
      "working on ASO_50M_SD_GreenRiver_20220611_clean.tif, 2/9\n",
      "----\n",
      "Returned 2 Items\n",
      "----\n",
      "working on ASO_50M_SD_Dolores_20230525_clean.tif, 3/9\n",
      "----\n",
      "Returned 8 Items\n",
      "----\n",
      "working on ASO_50M_SD_Dolores_20220415_clean.tif, 4/9\n",
      "----\n",
      "Returned 8 Items\n",
      "----\n",
      "working on ASO_50M_SD_Dolores_20230406_clean.tif, 5/9\n",
      "----\n",
      "Returned 8 Items\n",
      "----\n",
      "working on ASO_50M_SD_Dolores_20220510_clean.tif, 6/9\n",
      "----\n",
      "Returned 8 Items\n",
      "----\n",
      "working on ASO_50M_SD_USUTLC_20210318_clean.tif, 7/9\n",
      "----\n",
      "Returned 4 Items\n",
      "----\n",
      "working on ASO_50M_SD_Dolores_20210420_clean.tif, 8/9\n",
      "----\n",
      "Returned 8 Items\n",
      "----\n",
      "working on ASO_50M_SD_Dolores_20210514_clean.tif, 9/9\n",
      "----\n",
      "Returned 4 Items\n"
     ]
    }
   ],
   "source": [
    "for i, aso_raster_fn in enumerate(aso_raster_fns):\n",
    "    error_list = []\n",
    "    print(f'----\\nworking on {aso_raster_fn.replace('\\\\','/').split(\"/\")[-1]}, {i+1}/{len(aso_raster_fns)}\\n----')\n",
    "    # try: \n",
    "    sentinel2_for_aso(aso_raster_fn, dataset_path)\n",
    "    # except:\n",
    "    #     print('error, skipping')\n",
    "    #     error_list.append(aso_raster_fn)"
   ]
  },
  {
   "cell_type": "code",
   "execution_count": null,
   "id": "cc8eb58a-14f9-418d-95c2-79acccbe52e9",
   "metadata": {
    "tags": []
   },
   "outputs": [
    {
     "name": "stdout",
     "output_type": "stream",
     "text": [
      "Returned 11 Items\n"
     ]
    }
   ],
   "source": [
    "# have to do this one separately with only 0.2 week on either side due to a broken link. \n",
    "aso_raster_fn = r\"/home/ayushg12/ML_GEO2024_ayushg12/mlgeo-2024-deep-snow/final_data/ASO_50m_SD_cleaned/utm10n/ASO_50M_SD_Yuba_20230405_clean.tif\"\n",
    "dataset_path = \"/home/ayushg12/ML_GEO2024_ayushg12/mlgeo-2024-deep-snow/final_data\"\n",
    "sentinel2_for_aso(aso_raster_fn, dataset_path)"
   ]
  }
 ],
 "metadata": {
  "kernelspec": {
   "display_name": "deep-snow",
   "language": "python",
   "name": "python3"
  },
  "language_info": {
   "codemirror_mode": {
    "name": "ipython",
    "version": 3
   },
   "file_extension": ".py",
   "mimetype": "text/x-python",
   "name": "python",
   "nbconvert_exporter": "python",
   "pygments_lexer": "ipython3",
   "version": "3.12.7"
  }
 },
 "nbformat": 4,
 "nbformat_minor": 5
}
