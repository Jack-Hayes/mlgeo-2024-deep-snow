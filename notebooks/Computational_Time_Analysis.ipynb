{
 "cells": [
  {
   "cell_type": "markdown",
   "metadata": {},
   "source": [
    "# Computational Time Analysis\n",
    "\n",
    "Task: Analyze the computational time needed for model training and deployment."
   ]
  },
  {
   "cell_type": "code",
   "execution_count": 1,
   "metadata": {},
   "outputs": [],
   "source": [
    "import os, sys\n",
    "sys.path.append(os.path.dirname(os.path.abspath(os.getcwd())))\n",
    "\n",
    "import random\n",
    "import numpy as np\n",
    "import matplotlib.pyplot as plt\n",
    "from glob import glob\n",
    "import pandas as pd\n",
    "import deep_snow.dataset\n",
    "from sklearn.preprocessing import MinMaxScaler\n",
    "from sklearn import metrics\n",
    "from sklearn.linear_model import ElasticNet, Ridge, Lasso\n",
    "from sklearn.dummy import DummyRegressor\n",
    "from sklearn.ensemble import VotingRegressor\n",
    "from sklearn.model_selection import KFold\n",
    "from sklearn.model_selection import train_test_split\n",
    "from sklearn.metrics import mean_squared_error, r2_score\n",
    "\n",
    "import os\n",
    "from tqdm import tqdm"
   ]
  },
  {
   "cell_type": "code",
   "execution_count": 2,
   "metadata": {},
   "outputs": [
    {
     "name": "stdout",
     "output_type": "stream",
     "text": [
      "Length of dataset: 5763835\n"
     ]
    }
   ],
   "source": [
    "df = pd.read_parquet('/home/ayushg12/ML_GEO2024_ayushg12/mlgeo-2024-deep-snow/final_data/mlgeo-final-data/classic_ml_val_v1.parquet')\n",
    "scaler = MinMaxScaler()\n",
    "cols_to_normalize = [col for col in df.columns if col != 'aso_sd']\n",
    "df[cols_to_normalize] = scaler.fit_transform(df[cols_to_normalize])\n",
    "print(\"Length of dataset:\", len(df))"
   ]
  },
  {
   "cell_type": "code",
   "execution_count": 3,
   "metadata": {},
   "outputs": [
    {
     "data": {
      "text/html": [
       "<div>\n",
       "<style scoped>\n",
       "    .dataframe tbody tr th:only-of-type {\n",
       "        vertical-align: middle;\n",
       "    }\n",
       "\n",
       "    .dataframe tbody tr th {\n",
       "        vertical-align: top;\n",
       "    }\n",
       "\n",
       "    .dataframe thead th {\n",
       "        text-align: right;\n",
       "    }\n",
       "</style>\n",
       "<table border=\"1\" class=\"dataframe\">\n",
       "  <thead>\n",
       "    <tr style=\"text-align: right;\">\n",
       "      <th></th>\n",
       "      <th>aso_sd</th>\n",
       "      <th>snowon_vv</th>\n",
       "      <th>aerosol_optical_thickness</th>\n",
       "      <th>coastal_aerosol</th>\n",
       "      <th>blue</th>\n",
       "      <th>green</th>\n",
       "      <th>red</th>\n",
       "      <th>red_edge1</th>\n",
       "      <th>red_edge2</th>\n",
       "      <th>red_edge3</th>\n",
       "      <th>...</th>\n",
       "      <th>fcf</th>\n",
       "      <th>elevation</th>\n",
       "      <th>slope</th>\n",
       "      <th>aspect</th>\n",
       "      <th>curvature</th>\n",
       "      <th>tri</th>\n",
       "      <th>tpi</th>\n",
       "      <th>latitude</th>\n",
       "      <th>longitude</th>\n",
       "      <th>dowy</th>\n",
       "    </tr>\n",
       "  </thead>\n",
       "  <tbody>\n",
       "    <tr>\n",
       "      <th>0</th>\n",
       "      <td>0.0</td>\n",
       "      <td>0.034741</td>\n",
       "      <td>0.451524</td>\n",
       "      <td>0.361875</td>\n",
       "      <td>0.353116</td>\n",
       "      <td>0.365153</td>\n",
       "      <td>0.375045</td>\n",
       "      <td>0.381241</td>\n",
       "      <td>0.439588</td>\n",
       "      <td>0.464821</td>\n",
       "      <td>...</td>\n",
       "      <td>0.25</td>\n",
       "      <td>0.444744</td>\n",
       "      <td>0.140537</td>\n",
       "      <td>0.827236</td>\n",
       "      <td>0.450719</td>\n",
       "      <td>0.124839</td>\n",
       "      <td>0.455258</td>\n",
       "      <td>0.785057</td>\n",
       "      <td>0.019264</td>\n",
       "      <td>0.056818</td>\n",
       "    </tr>\n",
       "    <tr>\n",
       "      <th>1</th>\n",
       "      <td>0.0</td>\n",
       "      <td>0.018444</td>\n",
       "      <td>0.451524</td>\n",
       "      <td>0.595530</td>\n",
       "      <td>0.752536</td>\n",
       "      <td>0.755720</td>\n",
       "      <td>0.760649</td>\n",
       "      <td>0.789616</td>\n",
       "      <td>0.806356</td>\n",
       "      <td>0.801144</td>\n",
       "      <td>...</td>\n",
       "      <td>0.22</td>\n",
       "      <td>0.446390</td>\n",
       "      <td>0.023371</td>\n",
       "      <td>0.905367</td>\n",
       "      <td>0.770828</td>\n",
       "      <td>0.138894</td>\n",
       "      <td>0.722182</td>\n",
       "      <td>0.785054</td>\n",
       "      <td>0.019303</td>\n",
       "      <td>0.056818</td>\n",
       "    </tr>\n",
       "    <tr>\n",
       "      <th>2</th>\n",
       "      <td>0.0</td>\n",
       "      <td>0.168401</td>\n",
       "      <td>0.451524</td>\n",
       "      <td>0.774610</td>\n",
       "      <td>0.882065</td>\n",
       "      <td>0.891728</td>\n",
       "      <td>0.898930</td>\n",
       "      <td>0.947582</td>\n",
       "      <td>0.970590</td>\n",
       "      <td>0.955312</td>\n",
       "      <td>...</td>\n",
       "      <td>0.27</td>\n",
       "      <td>0.444428</td>\n",
       "      <td>0.228046</td>\n",
       "      <td>0.230994</td>\n",
       "      <td>0.449177</td>\n",
       "      <td>0.195033</td>\n",
       "      <td>0.473952</td>\n",
       "      <td>0.785050</td>\n",
       "      <td>0.019342</td>\n",
       "      <td>0.056818</td>\n",
       "    </tr>\n",
       "    <tr>\n",
       "      <th>3</th>\n",
       "      <td>0.0</td>\n",
       "      <td>0.048596</td>\n",
       "      <td>0.451524</td>\n",
       "      <td>0.522883</td>\n",
       "      <td>0.694983</td>\n",
       "      <td>0.710806</td>\n",
       "      <td>0.722003</td>\n",
       "      <td>0.752439</td>\n",
       "      <td>0.792577</td>\n",
       "      <td>0.797974</td>\n",
       "      <td>...</td>\n",
       "      <td>0.29</td>\n",
       "      <td>0.441090</td>\n",
       "      <td>0.289067</td>\n",
       "      <td>0.203127</td>\n",
       "      <td>0.166511</td>\n",
       "      <td>0.294096</td>\n",
       "      <td>0.210729</td>\n",
       "      <td>0.785047</td>\n",
       "      <td>0.019382</td>\n",
       "      <td>0.056818</td>\n",
       "    </tr>\n",
       "    <tr>\n",
       "      <th>4</th>\n",
       "      <td>0.0</td>\n",
       "      <td>0.023445</td>\n",
       "      <td>0.451524</td>\n",
       "      <td>0.378733</td>\n",
       "      <td>0.435581</td>\n",
       "      <td>0.452939</td>\n",
       "      <td>0.464694</td>\n",
       "      <td>0.479667</td>\n",
       "      <td>0.541448</td>\n",
       "      <td>0.564868</td>\n",
       "      <td>...</td>\n",
       "      <td>0.29</td>\n",
       "      <td>0.439250</td>\n",
       "      <td>0.280976</td>\n",
       "      <td>0.165610</td>\n",
       "      <td>0.407580</td>\n",
       "      <td>0.260839</td>\n",
       "      <td>0.361191</td>\n",
       "      <td>0.785044</td>\n",
       "      <td>0.019421</td>\n",
       "      <td>0.056818</td>\n",
       "    </tr>\n",
       "  </tbody>\n",
       "</table>\n",
       "<p>5 rows × 26 columns</p>\n",
       "</div>"
      ],
      "text/plain": [
       "   aso_sd  snowon_vv  aerosol_optical_thickness  coastal_aerosol      blue  \\\n",
       "0     0.0   0.034741                   0.451524         0.361875  0.353116   \n",
       "1     0.0   0.018444                   0.451524         0.595530  0.752536   \n",
       "2     0.0   0.168401                   0.451524         0.774610  0.882065   \n",
       "3     0.0   0.048596                   0.451524         0.522883  0.694983   \n",
       "4     0.0   0.023445                   0.451524         0.378733  0.435581   \n",
       "\n",
       "      green       red  red_edge1  red_edge2  red_edge3  ...   fcf  elevation  \\\n",
       "0  0.365153  0.375045   0.381241   0.439588   0.464821  ...  0.25   0.444744   \n",
       "1  0.755720  0.760649   0.789616   0.806356   0.801144  ...  0.22   0.446390   \n",
       "2  0.891728  0.898930   0.947582   0.970590   0.955312  ...  0.27   0.444428   \n",
       "3  0.710806  0.722003   0.752439   0.792577   0.797974  ...  0.29   0.441090   \n",
       "4  0.452939  0.464694   0.479667   0.541448   0.564868  ...  0.29   0.439250   \n",
       "\n",
       "      slope    aspect  curvature       tri       tpi  latitude  longitude  \\\n",
       "0  0.140537  0.827236   0.450719  0.124839  0.455258  0.785057   0.019264   \n",
       "1  0.023371  0.905367   0.770828  0.138894  0.722182  0.785054   0.019303   \n",
       "2  0.228046  0.230994   0.449177  0.195033  0.473952  0.785050   0.019342   \n",
       "3  0.289067  0.203127   0.166511  0.294096  0.210729  0.785047   0.019382   \n",
       "4  0.280976  0.165610   0.407580  0.260839  0.361191  0.785044   0.019421   \n",
       "\n",
       "       dowy  \n",
       "0  0.056818  \n",
       "1  0.056818  \n",
       "2  0.056818  \n",
       "3  0.056818  \n",
       "4  0.056818  \n",
       "\n",
       "[5 rows x 26 columns]"
      ]
     },
     "execution_count": 3,
     "metadata": {},
     "output_type": "execute_result"
    }
   ],
   "source": [
    "df.head(5)"
   ]
  },
  {
   "cell_type": "code",
   "execution_count": 4,
   "metadata": {},
   "outputs": [
    {
     "name": "stdout",
     "output_type": "stream",
     "text": [
      "There are 5763835 data samples\n"
     ]
    }
   ],
   "source": [
    "# Training the model using the entire dataset\n",
    "# Split data into 80% train and 20% test subsets\n",
    "y = df.iloc[:,0].values\n",
    "data = df.iloc[:, 1:].values\n",
    "\n",
    "print(f\"There are {data.shape[0]} data samples\")\n",
    "X_train, X_test, y_train, y_test = train_test_split(\n",
    "    data, y, test_size=0.2, shuffle=True)"
   ]
  },
  {
   "cell_type": "code",
   "execution_count": 6,
   "metadata": {},
   "outputs": [
    {
     "name": "stdout",
     "output_type": "stream",
     "text": [
      "3.13 s ± 92.2 ms per loop (mean ± std. dev. of 50 runs, 1 loop each)\n",
      "Ridge Mean Absolute Error: 0.6307025779907183\n"
     ]
    }
   ],
   "source": [
    "# ElasticNet Regressor\n",
    "en_reg = ElasticNet()\n",
    "%timeit -r 50 en_reg.fit(X_train, y_train)\n",
    "en_prediction = en_reg.predict(X_test)\n",
    "print(\"Ridge Mean Absolute Error:\", metrics.mean_absolute_error(y_true=y_test, y_pred=en_prediction))"
   ]
  },
  {
   "cell_type": "markdown",
   "metadata": {},
   "source": [
    "### Ridge Regression Computational Time"
   ]
  },
  {
   "cell_type": "code",
   "execution_count": 7,
   "metadata": {},
   "outputs": [
    {
     "name": "stdout",
     "output_type": "stream",
     "text": [
      "796 ms ± 48.9 ms per loop (mean ± std. dev. of 50 runs, 1 loop each)\n",
      "Ridge Mean Absolute Error: 0.4806266618751161\n"
     ]
    }
   ],
   "source": [
    "# Ridge Regressor\n",
    "ridge_reg = Ridge(fit_intercept=False)\n",
    "%timeit -r 50 ridge_reg.fit(X_train, y_train)\n",
    "ridge_prediction = ridge_reg.predict(X_test)\n",
    "print(\"Ridge Mean Absolute Error:\", metrics.mean_absolute_error(y_true=y_test, y_pred=ridge_prediction))"
   ]
  },
  {
   "cell_type": "code",
   "execution_count": 6,
   "metadata": {},
   "outputs": [
    {
     "name": "stdout",
     "output_type": "stream",
     "text": [
      "1.22 s ± 101 ms per loop (mean ± std. dev. of 50 runs, 1 loop each)\n",
      "Ridge Mean Absolute Error: 0.479965903107131\n"
     ]
    }
   ],
   "source": [
    "# Ridge Regressor checking the effect of fit_intercept option\n",
    "ridge_reg = Ridge(alpha=0, fit_intercept=True)\n",
    "%timeit -r 50 ridge_reg.fit(X_train, y_train)\n",
    "ridge_prediction = ridge_reg.predict(X_test)\n",
    "print(\"Ridge Mean Absolute Error:\", metrics.mean_absolute_error(y_true=y_test, y_pred=ridge_prediction))"
   ]
  },
  {
   "cell_type": "code",
   "execution_count": 7,
   "metadata": {},
   "outputs": [
    {
     "name": "stdout",
     "output_type": "stream",
     "text": [
      "1.2 s ± 125 ms per loop (mean ± std. dev. of 50 runs, 1 loop each)\n",
      "Ridge Mean Absolute Error: 0.47996603276151834\n"
     ]
    }
   ],
   "source": [
    "# Ridge Regressor checking the effect of fit_intercept option by setting True\n",
    "ridge_reg = Ridge(fit_intercept=True)\n",
    "%timeit -r 50 ridge_reg.fit(X_train, y_train)\n",
    "ridge_prediction = ridge_reg.predict(X_test)\n",
    "print(\"Ridge Mean Absolute Error:\", metrics.mean_absolute_error(y_true=y_test, y_pred=ridge_prediction))"
   ]
  },
  {
   "cell_type": "markdown",
   "metadata": {},
   "source": [
    "From the above runs it can be observed that when ``fit_intercept`` is set to True the runtime increases significantly as compared to when its False. Moreover, there is not much effect of ``alpha`` on runtime, as change in ``alpha`` mostly changes the no. of iterations which varies slightly leading to change in runtime."
   ]
  },
  {
   "cell_type": "markdown",
   "metadata": {},
   "source": [
    "### Dummy Regression Computational Time"
   ]
  },
  {
   "cell_type": "code",
   "execution_count": 9,
   "metadata": {},
   "outputs": [
    {
     "name": "stdout",
     "output_type": "stream",
     "text": [
      "58.3 ms ± 2.59 ms per loop (mean ± std. dev. of 50 runs, 10 loops each)\n",
      "Ridge Mean Absolute Error: 0.46820807\n"
     ]
    }
   ],
   "source": [
    "# Dummy Regressor for median strategy\n",
    "dummy_reg = DummyRegressor(strategy=\"median\")\n",
    "%timeit -r 50 dummy_reg.fit(X_train, y_train)\n",
    "dummy_prediction = dummy_reg.predict(X_test)\n",
    "print(\"Ridge Mean Absolute Error:\", metrics.mean_absolute_error(y_true=y_test, y_pred=dummy_prediction))"
   ]
  },
  {
   "cell_type": "code",
   "execution_count": 14,
   "metadata": {},
   "outputs": [
    {
     "name": "stdout",
     "output_type": "stream",
     "text": [
      "40.7 ms ± 1.27 ms per loop (mean ± std. dev. of 50 runs, 10 loops each)\n",
      "Ridge Mean Absolute Error: 0.4682079001899735\n"
     ]
    }
   ],
   "source": [
    "# Dummy Regressor for mean strategy\n",
    "dummy_reg = DummyRegressor(strategy=\"quantile\", quantile=0.1)\n",
    "%timeit -r 50 dummy_reg.fit(X_train, y_train)\n",
    "dummy_prediction = dummy_reg.predict(X_test)\n",
    "print(\"Ridge Mean Absolute Error:\", metrics.mean_absolute_error(y_true=y_test, y_pred=dummy_prediction))"
   ]
  },
  {
   "cell_type": "code",
   "execution_count": null,
   "metadata": {},
   "outputs": [
    {
     "name": "stdout",
     "output_type": "stream",
     "text": [
      "3.63 ms ± 258 μs per loop (mean ± std. dev. of 50 runs, 100 loops each)\n",
      "Ridge Mean Absolute Error: 0.630073\n"
     ]
    }
   ],
   "source": [
    "# Dummy Regressor for mean strategy\n",
    "dummy_reg = DummyRegressor(strategy=\"mean\")\n",
    "%timeit -r 50 dummy_reg.fit(X_train, y_train)\n",
    "dummy_prediction = dummy_reg.predict(X_test)\n",
    "print(\"Ridge Mean Absolute Error:\", metrics.mean_absolute_error(y_true=y_test, y_pred=dummy_prediction))"
   ]
  },
  {
   "cell_type": "markdown",
   "metadata": {},
   "source": [
    "From the above runs it can be clearly observed that when ``strategy`` is set to mean the runtime is significantly less as compared to when it is set as median or when quantile is used."
   ]
  },
  {
   "cell_type": "markdown",
   "metadata": {},
   "source": [
    "### Lasso Regression Computational Time"
   ]
  },
  {
   "cell_type": "code",
   "execution_count": 16,
   "metadata": {},
   "outputs": [
    {
     "name": "stdout",
     "output_type": "stream",
     "text": [
      "3.41 s ± 138 ms per loop (mean ± std. dev. of 50 runs, 1 loop each)\n",
      "Ridge Mean Absolute Error: 0.4682079001899735\n"
     ]
    }
   ],
   "source": [
    "# Lasso Regressor\n",
    "lasso_reg = Lasso(fit_intercept=False)\n",
    "%timeit -r 50 lasso_reg.fit(X_train, y_train)\n",
    "lasso_prediction = lasso_reg.predict(X_test)\n",
    "print(\"Ridge Mean Absolute Error:\", metrics.mean_absolute_error(y_true=y_test, y_pred=lasso_prediction))"
   ]
  },
  {
   "cell_type": "code",
   "execution_count": 15,
   "metadata": {},
   "outputs": [
    {
     "name": "stdout",
     "output_type": "stream",
     "text": [
      "3.54 s ± 201 ms per loop (mean ± std. dev. of 50 runs, 1 loop each)\n",
      "Ridge Mean Absolute Error: 0.6300731065574366\n"
     ]
    }
   ],
   "source": [
    "# Lasso Regressor checking the effect of fit_intercept option\n",
    "lasso_reg = Lasso(fit_intercept=True)\n",
    "%timeit -r 50 lasso_reg.fit(X_train, y_train)\n",
    "lasso_prediction = lasso_reg.predict(X_test)\n",
    "print(\"Ridge Mean Absolute Error:\", metrics.mean_absolute_error(y_true=y_test, y_pred=lasso_prediction))"
   ]
  },
  {
   "cell_type": "markdown",
   "metadata": {},
   "source": [
    "From the above runs it can be observed that ``fit_intercept`` when set as True increases the runtime slightly, however the it is observed that when ``fit_intercept`` is set is False the accuracy is much higher as when set as True."
   ]
  },
  {
   "cell_type": "markdown",
   "metadata": {},
   "source": [
    "The runs for Ridge, Lasso, and Dummy Regression shows that Dummy regression takes the least runtime, followed by Ridge regression taking higher time than Dummy regression, and Lasso regression takes the highest runtime"
   ]
  },
  {
   "cell_type": "markdown",
   "metadata": {},
   "source": [
    "### Voting Regression"
   ]
  },
  {
   "cell_type": "code",
   "execution_count": 17,
   "metadata": {},
   "outputs": [
    {
     "name": "stdout",
     "output_type": "stream",
     "text": [
      "1.21 s ± 78.7 ms per loop (mean ± std. dev. of 50 runs, 1 loop each)\n",
      "Voting Regressor (Dummy + Ridge) Mean Absolute Error: 0.4425146906852208\n"
     ]
    }
   ],
   "source": [
    "# Voting Regressor (Dummy and Ridge)\n",
    "dummy_reg = DummyRegressor(strategy=\"median\")\n",
    "ridge_reg = Ridge(alpha=0.193, fit_intercept=True)\n",
    "voting_reg = VotingRegressor(estimators=[('dummy', dummy_reg), ('ridge', ridge_reg)])\n",
    "%timeit -r 50 voting_reg.fit(X_train, y_train)\n",
    "voting_prediction = voting_reg.predict(X_test)\n",
    "print(\"Voting Regressor (Dummy + Ridge) Mean Absolute Error:\", metrics.mean_absolute_error(y_true=y_test, y_pred=voting_prediction))"
   ]
  },
  {
   "cell_type": "code",
   "execution_count": 19,
   "metadata": {},
   "outputs": [
    {
     "name": "stdout",
     "output_type": "stream",
     "text": [
      "3.35 s ± 174 ms per loop (mean ± std. dev. of 50 runs, 1 loop each)\n",
      "Voting Regressor (Dummy + Lasso) Mean Absolute Error: 0.5348634118506119\n"
     ]
    }
   ],
   "source": [
    "# Voting Regressor (Dummy and Lasso)\n",
    "dummy_reg = DummyRegressor(strategy=\"median\")\n",
    "lasso_reg = Lasso(fit_intercept=True)\n",
    "voting_reg = VotingRegressor(estimators=[('dummy', dummy_reg), ('lasso', lasso_reg)])\n",
    "%timeit -r 50 voting_reg.fit(X_train, y_train)\n",
    "voting_prediction = voting_reg.predict(X_test)\n",
    "print(\"Voting Regressor (Dummy + Lasso) Mean Absolute Error:\", metrics.mean_absolute_error(y_true=y_test, y_pred=voting_prediction))"
   ]
  },
  {
   "cell_type": "code",
   "execution_count": 21,
   "metadata": {},
   "outputs": [
    {
     "name": "stdout",
     "output_type": "stream",
     "text": [
      "4.36 s ± 213 ms per loop (mean ± std. dev. of 50 runs, 1 loop each)\n",
      "Voting Regressor (Ridge + Lasso) Mean Absolute Error: 0.512781753975057\n"
     ]
    }
   ],
   "source": [
    "# Voting Regressor (Ridge and Lasso)\n",
    "ridge_reg = Ridge(alpha=0.193, fit_intercept=True)\n",
    "lasso_reg = Lasso(fit_intercept=True)\n",
    "voting_reg = VotingRegressor(estimators=[('ridge', ridge_reg), ('lasso', lasso_reg)])\n",
    "%timeit -r 50 voting_reg.fit(X_train, y_train)\n",
    "voting_prediction = voting_reg.predict(X_test)\n",
    "print(\"Voting Regressor (Ridge + Lasso) Mean Absolute Error:\", metrics.mean_absolute_error(y_true=y_test, y_pred=voting_prediction))"
   ]
  },
  {
   "cell_type": "code",
   "execution_count": null,
   "metadata": {},
   "outputs": [
    {
     "name": "stdout",
     "output_type": "stream",
     "text": [
      "4.48 s ± 124 ms per loop (mean ± std. dev. of 50 runs, 1 loop each)\n",
      "Voting Regressor (Dummy + Ridge + Lasso) Mean Absolute Error: 0.4804221462351734\n"
     ]
    }
   ],
   "source": [
    "# Voting Regressor (Dummy, Ridge and Lasso)\n",
    "dummy_reg = DummyRegressor(strategy=\"median\")\n",
    "ridge_reg = Ridge(alpha=0.193, fit_intercept=True)\n",
    "lasso_reg = Lasso(fit_intercept=True)\n",
    "voting_reg = VotingRegressor(estimators=[('dummy', dummy_reg), ('ridge', ridge_reg), ('lasso', lasso_reg)])\n",
    "%timeit -r 50 voting_reg.fit(X_train, y_train)\n",
    "voting_prediction = voting_reg.predict(X_test)\n",
    "print(\"Voting Regressor (Dummy + Ridge + Lasso) Mean Absolute Error:\", metrics.mean_absolute_error(y_true=y_test, y_pred=voting_prediction))"
   ]
  },
  {
   "cell_type": "markdown",
   "metadata": {},
   "source": [
    "From the above runs for Voting regression it can be observed that runtime for voting regression depends on the runtime of the individual models being used, due to which voting regression for dummy + ridge + lasso has the highest runtime, which the one with dummy + ridge has the lowest as both of them have the lowest individual runtimes, when compared to other models."
   ]
  }
 ],
 "metadata": {
  "kernelspec": {
   "display_name": "deep-snow",
   "language": "python",
   "name": "python3"
  },
  "language_info": {
   "codemirror_mode": {
    "name": "ipython",
    "version": 3
   },
   "file_extension": ".py",
   "mimetype": "text/x-python",
   "name": "python",
   "nbconvert_exporter": "python",
   "pygments_lexer": "ipython3",
   "version": "3.12.7"
  }
 },
 "nbformat": 4,
 "nbformat_minor": 2
}
