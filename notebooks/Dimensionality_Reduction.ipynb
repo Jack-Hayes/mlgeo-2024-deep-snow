{
 "cells": [
  {
   "cell_type": "markdown",
   "metadata": {},
   "source": [
    "# Dimensionality Discussion and Reduction\n",
    "Task: Analyze the dimensionality of your dataset and propose methods to reduce it.\n",
    "\n",
    "Requirements:\n",
    "\n",
    "In a notebook (notebooks/Dimensionality_Reduction.ipynb):\n",
    "\n",
    "- Discuss the current dimensions of the dataset and any challenges they present (e.g., high dimensionality, sparse data).\n",
    "\n",
    "- Propose and implement at least two dimensionality reduction techniques:\n",
    "\n",
    "- Feature extraction techniques like PCA (Principal Component Analysis).\n",
    "\n",
    "- Non-linear methods like t-SNE (t-Distributed Stochastic Neighbor Embedding).\n",
    "\n",
    "- Visualize the results of dimensionality reduction (scatter plots, explained variance charts).\n",
    "\n",
    "- Discuss the implications of dimensionality reduction on your dataset."
   ]
  },
  {
   "cell_type": "code",
   "execution_count": null,
   "metadata": {},
   "outputs": [],
   "source": [
    "# the high dimensionality of the data, particularly in the sentinel-2 bands will provide a lot of redundancy\n",
    "# there's a lot of opportunities to reduce the dimensionality of the data when it comes to indices\n",
    "# for example, spectral indices like NDSI and NDWI will likely capture a lot of information in the green and NIR bands\n",
    "# and there are more indices to capture information in other combinations of bands for sentinel-2\n",
    "\n",
    "# the same goes for elevation (TPI and slope and aspect will be able to account for many of the other variables)\n",
    "\n",
    "# the hard part of this dataset is spatial autocorrelation as we don't want to remove full sites of data, though\n",
    "\n",
    "# i can't run the code to produce plots right now due to environment issues with the data as explained in the previous notebook, but i can insert a \n",
    "# screenshot of one PCA plot with the variables"
   ]
  },
  {
   "cell_type": "markdown",
   "metadata": {},
   "source": [
    "![PCA Plot](figs/pca.png)"
   ]
  },
  {
   "cell_type": "code",
   "execution_count": null,
   "metadata": {},
   "outputs": [],
   "source": [
    "# the PCA plot above shows interestingly that there's a huge variability in NDSI (an index of green and SWIR bands)\n",
    "# this was expected for fractional forest coverage due to the difficulties of remote sensing monitoring in dense vegetation\n",
    "# but it's interesting to see that the other indices/bands are not as variable as NDSI\n",
    "# that being said, it does make sense that the other bands and indices are grouped together given the \n",
    "# spectral response of snow is bright for blue, red, green, and near infrared. \n",
    "# additionally, the backscatter-derived variables are all clustered together as well as thew elevation-derived variables which was expected"
   ]
  }
 ],
 "metadata": {
  "kernelspec": {
   "display_name": "JackConda",
   "language": "python",
   "name": "python3"
  },
  "language_info": {
   "name": "python",
   "version": "3.12.5"
  }
 },
 "nbformat": 4,
 "nbformat_minor": 2
}
