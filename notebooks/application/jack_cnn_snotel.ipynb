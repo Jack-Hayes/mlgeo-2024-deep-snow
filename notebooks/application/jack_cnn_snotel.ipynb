{
 "cells": [
  {
   "cell_type": "code",
   "execution_count": 2,
   "metadata": {},
   "outputs": [
    {
     "name": "stdout",
     "output_type": "stream",
     "text": [
      "Collecting easysnowdata\n",
      "  Using cached easysnowdata-0.0.11-py2.py3-none-any.whl.metadata (3.1 kB)\n",
      "Requirement already satisfied: numpy in /home/jehayes/mambaforge/envs/deep-snow/lib/python3.12/site-packages (from easysnowdata) (2.1.3)\n",
      "Requirement already satisfied: matplotlib in /home/jehayes/mambaforge/envs/deep-snow/lib/python3.12/site-packages (from easysnowdata) (3.9.2)\n",
      "Requirement already satisfied: pandas in /home/jehayes/mambaforge/envs/deep-snow/lib/python3.12/site-packages (from easysnowdata) (2.2.3)\n",
      "Requirement already satisfied: geopandas in /home/jehayes/mambaforge/envs/deep-snow/lib/python3.12/site-packages (from easysnowdata) (1.0.1)\n",
      "Requirement already satisfied: rasterio in /home/jehayes/mambaforge/envs/deep-snow/lib/python3.12/site-packages (from easysnowdata) (1.4.2)\n",
      "Requirement already satisfied: xarray in /home/jehayes/mambaforge/envs/deep-snow/lib/python3.12/site-packages (from easysnowdata) (2024.10.0)\n",
      "Requirement already satisfied: rioxarray in /home/jehayes/mambaforge/envs/deep-snow/lib/python3.12/site-packages (from easysnowdata) (0.17.0)\n",
      "Requirement already satisfied: shapely in /home/jehayes/mambaforge/envs/deep-snow/lib/python3.12/site-packages (from easysnowdata) (2.0.6)\n",
      "Requirement already satisfied: pystac-client in /home/jehayes/mambaforge/envs/deep-snow/lib/python3.12/site-packages (from easysnowdata) (0.8.5)\n",
      "Requirement already satisfied: planetary-computer in /home/jehayes/mambaforge/envs/deep-snow/lib/python3.12/site-packages (from easysnowdata) (1.0.0)\n",
      "Requirement already satisfied: odc-stac in /home/jehayes/mambaforge/envs/deep-snow/lib/python3.12/site-packages (from easysnowdata) (0.3.10)\n",
      "Collecting xee (from easysnowdata)\n",
      "  Using cached xee-0.0.19-py3-none-any.whl.metadata (5.7 kB)\n",
      "Collecting bs4 (from easysnowdata)\n",
      "  Using cached bs4-0.0.2-py2.py3-none-any.whl.metadata (411 bytes)\n",
      "Collecting py3dep (from easysnowdata)\n",
      "  Using cached py3dep-0.18.0-py3-none-any.whl.metadata (20 kB)\n",
      "Collecting earthaccess (from easysnowdata)\n",
      "  Using cached earthaccess-0.12.0-py3-none-any.whl.metadata (7.6 kB)\n",
      "Collecting contextily (from easysnowdata)\n",
      "  Using cached contextily-1.6.2-py3-none-any.whl.metadata (2.9 kB)\n",
      "Requirement already satisfied: folium in /home/jehayes/mambaforge/envs/deep-snow/lib/python3.12/site-packages (from easysnowdata) (0.18.0)\n",
      "Requirement already satisfied: mapclassify in /home/jehayes/mambaforge/envs/deep-snow/lib/python3.12/site-packages (from easysnowdata) (2.8.1)\n",
      "Collecting lxml (from easysnowdata)\n",
      "  Using cached lxml-5.3.0-cp312-cp312-manylinux_2_28_x86_64.whl.metadata (3.8 kB)\n",
      "Collecting pytkdocs[numpy-style] (from easysnowdata)\n",
      "  Using cached pytkdocs-0.16.2-py3-none-any.whl.metadata (8.8 kB)\n",
      "Collecting scikit-image (from easysnowdata)\n",
      "  Using cached scikit_image-0.24.0-cp312-cp312-manylinux_2_17_x86_64.manylinux2014_x86_64.whl.metadata (14 kB)\n",
      "Requirement already satisfied: beautifulsoup4 in /home/jehayes/mambaforge/envs/deep-snow/lib/python3.12/site-packages (from bs4->easysnowdata) (4.12.3)\n",
      "Collecting geopy (from contextily->easysnowdata)\n",
      "  Using cached geopy-2.4.1-py3-none-any.whl.metadata (6.8 kB)\n",
      "Collecting mercantile (from contextily->easysnowdata)\n",
      "  Using cached mercantile-1.2.1-py3-none-any.whl.metadata (4.8 kB)\n",
      "Requirement already satisfied: pillow in /home/jehayes/mambaforge/envs/deep-snow/lib/python3.12/site-packages (from contextily->easysnowdata) (11.0.0)\n",
      "Requirement already satisfied: requests in /home/jehayes/mambaforge/envs/deep-snow/lib/python3.12/site-packages (from contextily->easysnowdata) (2.32.3)\n",
      "Requirement already satisfied: joblib in /home/jehayes/mambaforge/envs/deep-snow/lib/python3.12/site-packages (from contextily->easysnowdata) (1.4.2)\n",
      "Requirement already satisfied: xyzservices in /home/jehayes/mambaforge/envs/deep-snow/lib/python3.12/site-packages (from contextily->easysnowdata) (2024.9.0)\n",
      "Requirement already satisfied: fsspec>=2022.11 in /home/jehayes/mambaforge/envs/deep-snow/lib/python3.12/site-packages (from earthaccess->easysnowdata) (2024.10.0)\n",
      "Requirement already satisfied: importlib-resources>=6.3.2 in /home/jehayes/mambaforge/envs/deep-snow/lib/python3.12/site-packages (from earthaccess->easysnowdata) (6.4.5)\n",
      "Collecting multimethod>=1.8 (from earthaccess->easysnowdata)\n",
      "  Using cached multimethod-1.12-py3-none-any.whl.metadata (9.6 kB)\n",
      "Collecting pqdm>=0.1 (from earthaccess->easysnowdata)\n",
      "  Using cached pqdm-0.2.0-py2.py3-none-any.whl.metadata (3.2 kB)\n",
      "Collecting python-cmr>=0.10.0 (from earthaccess->easysnowdata)\n",
      "  Using cached python_cmr-0.13.0-py3-none-any.whl.metadata (10 kB)\n",
      "Collecting s3fs>=2022.11 (from earthaccess->easysnowdata)\n",
      "  Using cached s3fs-2024.10.0-py3-none-any.whl.metadata (1.7 kB)\n",
      "Collecting tinynetrc>=1.3.1 (from earthaccess->easysnowdata)\n",
      "  Using cached tinynetrc-1.3.1-py2.py3-none-any.whl.metadata (2.9 kB)\n",
      "Requirement already satisfied: typing-extensions>=4.10.0 in /home/jehayes/mambaforge/envs/deep-snow/lib/python3.12/site-packages (from earthaccess->easysnowdata) (4.12.2)\n",
      "Requirement already satisfied: branca>=0.6.0 in /home/jehayes/mambaforge/envs/deep-snow/lib/python3.12/site-packages (from folium->easysnowdata) (0.7.2)\n",
      "Requirement already satisfied: jinja2>=2.9 in /home/jehayes/mambaforge/envs/deep-snow/lib/python3.12/site-packages (from folium->easysnowdata) (3.1.4)\n",
      "Requirement already satisfied: pyogrio>=0.7.2 in /home/jehayes/mambaforge/envs/deep-snow/lib/python3.12/site-packages (from geopandas->easysnowdata) (0.10.0)\n",
      "Requirement already satisfied: packaging in /home/jehayes/mambaforge/envs/deep-snow/lib/python3.12/site-packages (from geopandas->easysnowdata) (24.2)\n",
      "Requirement already satisfied: pyproj>=3.3.0 in /home/jehayes/mambaforge/envs/deep-snow/lib/python3.12/site-packages (from geopandas->easysnowdata) (3.7.0)\n",
      "Requirement already satisfied: python-dateutil>=2.8.2 in /home/jehayes/mambaforge/envs/deep-snow/lib/python3.12/site-packages (from pandas->easysnowdata) (2.9.0.post0)\n",
      "Requirement already satisfied: pytz>=2020.1 in /home/jehayes/mambaforge/envs/deep-snow/lib/python3.12/site-packages (from pandas->easysnowdata) (2024.1)\n",
      "Requirement already satisfied: tzdata>=2022.7 in /home/jehayes/mambaforge/envs/deep-snow/lib/python3.12/site-packages (from pandas->easysnowdata) (2024.2)\n",
      "Requirement already satisfied: networkx>=2.7 in /home/jehayes/mambaforge/envs/deep-snow/lib/python3.12/site-packages (from mapclassify->easysnowdata) (3.4.2)\n",
      "Requirement already satisfied: scikit-learn>=1.0 in /home/jehayes/mambaforge/envs/deep-snow/lib/python3.12/site-packages (from mapclassify->easysnowdata) (1.5.2)\n",
      "Requirement already satisfied: scipy>=1.8 in /home/jehayes/mambaforge/envs/deep-snow/lib/python3.12/site-packages (from mapclassify->easysnowdata) (1.14.1)\n",
      "Requirement already satisfied: contourpy>=1.0.1 in /home/jehayes/mambaforge/envs/deep-snow/lib/python3.12/site-packages (from matplotlib->easysnowdata) (1.3.1)\n",
      "Requirement already satisfied: cycler>=0.10 in /home/jehayes/mambaforge/envs/deep-snow/lib/python3.12/site-packages (from matplotlib->easysnowdata) (0.12.1)\n",
      "Requirement already satisfied: fonttools>=4.22.0 in /home/jehayes/mambaforge/envs/deep-snow/lib/python3.12/site-packages (from matplotlib->easysnowdata) (4.55.0)\n",
      "Requirement already satisfied: kiwisolver>=1.3.1 in /home/jehayes/mambaforge/envs/deep-snow/lib/python3.12/site-packages (from matplotlib->easysnowdata) (1.4.7)\n",
      "Requirement already satisfied: pyparsing>=2.3.1 in /home/jehayes/mambaforge/envs/deep-snow/lib/python3.12/site-packages (from matplotlib->easysnowdata) (3.2.0)\n",
      "Requirement already satisfied: affine in /home/jehayes/mambaforge/envs/deep-snow/lib/python3.12/site-packages (from odc-stac->easysnowdata) (2.4.0)\n",
      "Requirement already satisfied: odc-geo>=0.4.7 in /home/jehayes/mambaforge/envs/deep-snow/lib/python3.12/site-packages (from odc-stac->easysnowdata) (0.4.8)\n",
      "Requirement already satisfied: dask[array] in /home/jehayes/mambaforge/envs/deep-snow/lib/python3.12/site-packages (from odc-stac->easysnowdata) (2024.11.2)\n",
      "Requirement already satisfied: pystac<2,>=1.0.0 in /home/jehayes/mambaforge/envs/deep-snow/lib/python3.12/site-packages (from odc-stac->easysnowdata) (1.11.0)\n",
      "Requirement already satisfied: toolz in /home/jehayes/mambaforge/envs/deep-snow/lib/python3.12/site-packages (from odc-stac->easysnowdata) (1.0.0)\n",
      "Requirement already satisfied: attrs in /home/jehayes/mambaforge/envs/deep-snow/lib/python3.12/site-packages (from rasterio->easysnowdata) (24.2.0)\n",
      "Requirement already satisfied: certifi in /home/jehayes/mambaforge/envs/deep-snow/lib/python3.12/site-packages (from rasterio->easysnowdata) (2024.8.30)\n",
      "Requirement already satisfied: click>=4.0 in /home/jehayes/mambaforge/envs/deep-snow/lib/python3.12/site-packages (from rasterio->easysnowdata) (8.1.7)\n",
      "Requirement already satisfied: cligj>=0.5 in /home/jehayes/mambaforge/envs/deep-snow/lib/python3.12/site-packages (from rasterio->easysnowdata) (0.7.2)\n",
      "Requirement already satisfied: click-plugins in /home/jehayes/mambaforge/envs/deep-snow/lib/python3.12/site-packages (from rasterio->easysnowdata) (1.1.1)\n",
      "Requirement already satisfied: pydantic>=1.7.3 in /home/jehayes/mambaforge/envs/deep-snow/lib/python3.12/site-packages (from planetary-computer->easysnowdata) (2.10.1)\n",
      "Requirement already satisfied: python-dotenv in /home/jehayes/mambaforge/envs/deep-snow/lib/python3.12/site-packages (from planetary-computer->easysnowdata) (1.0.1)\n",
      "Collecting async-retriever<0.19,>=0.18 (from py3dep->easysnowdata)\n",
      "  Using cached async_retriever-0.18.0-py3-none-any.whl.metadata (16 kB)\n",
      "Collecting cytoolz (from py3dep->easysnowdata)\n",
      "  Using cached cytoolz-1.0.0-cp312-cp312-manylinux_2_17_x86_64.manylinux2014_x86_64.whl.metadata (4.5 kB)\n",
      "Collecting pygeoogc<0.19,>=0.18 (from py3dep->easysnowdata)\n",
      "  Using cached pygeoogc-0.18.0-py3-none-any.whl.metadata (18 kB)\n",
      "Collecting pygeoutils<0.19,>=0.18 (from py3dep->easysnowdata)\n",
      "  Using cached pygeoutils-0.18.0-py3-none-any.whl.metadata (12 kB)\n",
      "Collecting docstring_parser>=0.7 (from pytkdocs[numpy-style]->easysnowdata)\n",
      "  Using cached docstring_parser-0.16-py3-none-any.whl.metadata (3.0 kB)\n",
      "Collecting imageio>=2.33 (from scikit-image->easysnowdata)\n",
      "  Using cached imageio-2.36.0-py3-none-any.whl.metadata (5.2 kB)\n",
      "Collecting tifffile>=2022.8.12 (from scikit-image->easysnowdata)\n",
      "  Using cached tifffile-2024.9.20-py3-none-any.whl.metadata (32 kB)\n",
      "Collecting lazy-loader>=0.4 (from scikit-image->easysnowdata)\n",
      "  Using cached lazy_loader-0.4-py3-none-any.whl.metadata (7.6 kB)\n",
      "Collecting earthengine-api>=0.1.374 (from xee->easysnowdata)\n",
      "  Using cached earthengine_api-1.4.0-py3-none-any.whl.metadata (1.8 kB)\n",
      "Collecting aiohttp-client-cache>=0.12.3 (from async-retriever<0.19,>=0.18->py3dep->easysnowdata)\n",
      "  Using cached aiohttp_client_cache-0.12.4-py3-none-any.whl.metadata (6.9 kB)\n",
      "Collecting aiohttp>=3.8.3 (from aiohttp[speedups]>=3.8.3->async-retriever<0.19,>=0.18->py3dep->easysnowdata)\n",
      "  Using cached aiohttp-3.11.7-cp312-cp312-manylinux_2_17_x86_64.manylinux2014_x86_64.whl.metadata (7.7 kB)\n",
      "Collecting aiosqlite (from async-retriever<0.19,>=0.18->py3dep->easysnowdata)\n",
      "  Using cached aiosqlite-0.20.0-py3-none-any.whl.metadata (4.3 kB)\n",
      "Requirement already satisfied: nest-asyncio in /home/jehayes/mambaforge/envs/deep-snow/lib/python3.12/site-packages (from async-retriever<0.19,>=0.18->py3dep->easysnowdata) (1.6.0)\n",
      "Collecting ujson (from async-retriever<0.19,>=0.18->py3dep->easysnowdata)\n",
      "  Using cached ujson-5.10.0-cp312-cp312-manylinux_2_17_x86_64.manylinux2014_x86_64.whl.metadata (9.3 kB)\n",
      "Collecting google-cloud-storage (from earthengine-api>=0.1.374->xee->easysnowdata)\n",
      "  Using cached google_cloud_storage-2.18.2-py2.py3-none-any.whl.metadata (9.1 kB)\n",
      "Collecting google-api-python-client>=1.12.1 (from earthengine-api>=0.1.374->xee->easysnowdata)\n",
      "  Using cached google_api_python_client-2.154.0-py2.py3-none-any.whl.metadata (6.7 kB)\n",
      "Collecting google-auth>=1.4.1 (from earthengine-api>=0.1.374->xee->easysnowdata)\n",
      "  Using cached google_auth-2.36.0-py2.py3-none-any.whl.metadata (4.7 kB)\n",
      "Collecting google-auth-httplib2>=0.0.3 (from earthengine-api>=0.1.374->xee->easysnowdata)\n",
      "  Using cached google_auth_httplib2-0.2.0-py2.py3-none-any.whl.metadata (2.2 kB)\n",
      "Collecting httplib2<1dev,>=0.9.2 (from earthengine-api>=0.1.374->xee->easysnowdata)\n",
      "  Using cached httplib2-0.22.0-py3-none-any.whl.metadata (2.6 kB)\n",
      "Requirement already satisfied: MarkupSafe>=2.0 in /home/jehayes/mambaforge/envs/deep-snow/lib/python3.12/site-packages (from jinja2>=2.9->folium->easysnowdata) (3.0.2)\n",
      "Requirement already satisfied: cachetools in /home/jehayes/mambaforge/envs/deep-snow/lib/python3.12/site-packages (from odc-geo>=0.4.7->odc-stac->easysnowdata) (5.5.0)\n",
      "Collecting bounded-pool-executor (from pqdm>=0.1->earthaccess->easysnowdata)\n",
      "  Using cached bounded_pool_executor-0.0.3-py3-none-any.whl.metadata (2.7 kB)\n",
      "Requirement already satisfied: tqdm in /home/jehayes/mambaforge/envs/deep-snow/lib/python3.12/site-packages (from pqdm>=0.1->earthaccess->easysnowdata) (4.67.0)\n",
      "Requirement already satisfied: annotated-types>=0.6.0 in /home/jehayes/mambaforge/envs/deep-snow/lib/python3.12/site-packages (from pydantic>=1.7.3->planetary-computer->easysnowdata) (0.7.0)\n",
      "Requirement already satisfied: pydantic-core==2.27.1 in /home/jehayes/mambaforge/envs/deep-snow/lib/python3.12/site-packages (from pydantic>=1.7.3->planetary-computer->easysnowdata) (2.27.1)\n",
      "Requirement already satisfied: defusedxml in /home/jehayes/mambaforge/envs/deep-snow/lib/python3.12/site-packages (from pygeoogc<0.19,>=0.18->py3dep->easysnowdata) (0.7.1)\n",
      "Collecting multidict (from pygeoogc<0.19,>=0.18->py3dep->easysnowdata)\n",
      "  Using cached multidict-6.1.0-cp312-cp312-manylinux_2_17_x86_64.manylinux2014_x86_64.whl.metadata (5.0 kB)\n",
      "Collecting owslib>=0.27.2 (from pygeoogc<0.19,>=0.18->py3dep->easysnowdata)\n",
      "  Using cached OWSLib-0.32.0-py2.py3-none-any.whl.metadata (6.6 kB)\n",
      "Collecting requests-cache>=0.9.6 (from pygeoogc<0.19,>=0.18->py3dep->easysnowdata)\n",
      "  Using cached requests_cache-1.2.1-py3-none-any.whl.metadata (9.9 kB)\n",
      "Collecting url-normalize>=1.4 (from pygeoogc<0.19,>=0.18->py3dep->easysnowdata)\n",
      "  Using cached url_normalize-1.4.3-py2.py3-none-any.whl.metadata (3.1 kB)\n",
      "Requirement already satisfied: urllib3 in /home/jehayes/mambaforge/envs/deep-snow/lib/python3.12/site-packages (from pygeoogc<0.19,>=0.18->py3dep->easysnowdata) (2.2.3)\n",
      "Collecting yarl (from pygeoogc<0.19,>=0.18->py3dep->easysnowdata)\n",
      "  Using cached yarl-1.18.0-cp312-cp312-manylinux_2_17_x86_64.manylinux2014_x86_64.whl.metadata (67 kB)\n",
      "Collecting netcdf4 (from pygeoutils<0.19,>=0.18->py3dep->easysnowdata)\n",
      "  Using cached netCDF4-1.7.2-cp312-cp312-manylinux_2_17_x86_64.manylinux2014_x86_64.whl.metadata (1.8 kB)\n",
      "Requirement already satisfied: jsonschema~=4.18 in /home/jehayes/mambaforge/envs/deep-snow/lib/python3.12/site-packages (from pystac[validation]>=1.10.0->pystac-client->easysnowdata) (4.23.0)\n",
      "Requirement already satisfied: six>=1.5 in /home/jehayes/mambaforge/envs/deep-snow/lib/python3.12/site-packages (from python-dateutil>=2.8.2->pandas->easysnowdata) (1.16.0)\n",
      "Requirement already satisfied: charset-normalizer<4,>=2 in /home/jehayes/mambaforge/envs/deep-snow/lib/python3.12/site-packages (from requests->contextily->easysnowdata) (3.4.0)\n",
      "Requirement already satisfied: idna<4,>=2.5 in /home/jehayes/mambaforge/envs/deep-snow/lib/python3.12/site-packages (from requests->contextily->easysnowdata) (3.10)\n",
      "Collecting aiobotocore<3.0.0,>=2.5.4 (from s3fs>=2022.11->earthaccess->easysnowdata)\n",
      "  Using cached aiobotocore-2.15.2-py3-none-any.whl.metadata (23 kB)\n",
      "Requirement already satisfied: threadpoolctl>=3.1.0 in /home/jehayes/mambaforge/envs/deep-snow/lib/python3.12/site-packages (from scikit-learn>=1.0->mapclassify->easysnowdata) (3.5.0)\n",
      "Requirement already satisfied: soupsieve>1.2 in /home/jehayes/mambaforge/envs/deep-snow/lib/python3.12/site-packages (from beautifulsoup4->bs4->easysnowdata) (2.5)\n",
      "Requirement already satisfied: cloudpickle>=3.0.0 in /home/jehayes/mambaforge/envs/deep-snow/lib/python3.12/site-packages (from dask[array]->odc-stac->easysnowdata) (3.1.0)\n",
      "Requirement already satisfied: partd>=1.4.0 in /home/jehayes/mambaforge/envs/deep-snow/lib/python3.12/site-packages (from dask[array]->odc-stac->easysnowdata) (1.4.2)\n",
      "Requirement already satisfied: pyyaml>=5.3.1 in /home/jehayes/mambaforge/envs/deep-snow/lib/python3.12/site-packages (from dask[array]->odc-stac->easysnowdata) (6.0.2)\n",
      "Collecting geographiclib<3,>=1.52 (from geopy->contextily->easysnowdata)\n",
      "  Using cached geographiclib-2.0-py3-none-any.whl.metadata (1.4 kB)\n",
      "Collecting botocore<1.35.37,>=1.35.16 (from aiobotocore<3.0.0,>=2.5.4->s3fs>=2022.11->earthaccess->easysnowdata)\n",
      "  Using cached botocore-1.35.36-py3-none-any.whl.metadata (5.7 kB)\n",
      "Collecting wrapt<2.0.0,>=1.10.10 (from aiobotocore<3.0.0,>=2.5.4->s3fs>=2022.11->earthaccess->easysnowdata)\n",
      "  Using cached wrapt-1.17.0-cp312-cp312-manylinux_2_5_x86_64.manylinux1_x86_64.manylinux_2_17_x86_64.manylinux2014_x86_64.whl.metadata (6.4 kB)\n",
      "Collecting aioitertools<1.0.0,>=0.5.1 (from aiobotocore<3.0.0,>=2.5.4->s3fs>=2022.11->earthaccess->easysnowdata)\n",
      "  Using cached aioitertools-0.12.0-py3-none-any.whl.metadata (3.8 kB)\n",
      "Collecting aiohappyeyeballs>=2.3.0 (from aiohttp>=3.8.3->aiohttp[speedups]>=3.8.3->async-retriever<0.19,>=0.18->py3dep->easysnowdata)\n",
      "  Using cached aiohappyeyeballs-2.4.3-py3-none-any.whl.metadata (6.1 kB)\n",
      "Collecting aiosignal>=1.1.2 (from aiohttp>=3.8.3->aiohttp[speedups]>=3.8.3->async-retriever<0.19,>=0.18->py3dep->easysnowdata)\n",
      "  Using cached aiosignal-1.3.1-py3-none-any.whl.metadata (4.0 kB)\n",
      "Collecting frozenlist>=1.1.1 (from aiohttp>=3.8.3->aiohttp[speedups]>=3.8.3->async-retriever<0.19,>=0.18->py3dep->easysnowdata)\n",
      "  Using cached frozenlist-1.5.0-cp312-cp312-manylinux_2_5_x86_64.manylinux1_x86_64.manylinux_2_17_x86_64.manylinux2014_x86_64.whl.metadata (13 kB)\n",
      "Collecting propcache>=0.2.0 (from aiohttp>=3.8.3->aiohttp[speedups]>=3.8.3->async-retriever<0.19,>=0.18->py3dep->easysnowdata)\n",
      "  Using cached propcache-0.2.0-cp312-cp312-manylinux_2_17_x86_64.manylinux2014_x86_64.whl.metadata (7.7 kB)\n",
      "Collecting itsdangerous>=2.0 (from aiohttp-client-cache>=0.12.3->async-retriever<0.19,>=0.18->py3dep->easysnowdata)\n",
      "  Using cached itsdangerous-2.2.0-py3-none-any.whl.metadata (1.9 kB)\n",
      "Collecting aiodns>=3.2.0 (from aiohttp[speedups]>=3.8.3->async-retriever<0.19,>=0.18->py3dep->easysnowdata)\n",
      "  Using cached aiodns-3.2.0-py3-none-any.whl.metadata (4.0 kB)\n",
      "Requirement already satisfied: Brotli in /home/jehayes/mambaforge/envs/deep-snow/lib/python3.12/site-packages (from aiohttp[speedups]>=3.8.3->async-retriever<0.19,>=0.18->py3dep->easysnowdata) (1.1.0)\n",
      "Collecting google-api-core!=2.0.*,!=2.1.*,!=2.2.*,!=2.3.0,<3.0.0.dev0,>=1.31.5 (from google-api-python-client>=1.12.1->earthengine-api>=0.1.374->xee->easysnowdata)\n",
      "  Using cached google_api_core-2.23.0-py3-none-any.whl.metadata (3.0 kB)\n",
      "Collecting uritemplate<5,>=3.0.1 (from google-api-python-client>=1.12.1->earthengine-api>=0.1.374->xee->easysnowdata)\n",
      "  Using cached uritemplate-4.1.1-py2.py3-none-any.whl.metadata (2.9 kB)\n",
      "Collecting pyasn1-modules>=0.2.1 (from google-auth>=1.4.1->earthengine-api>=0.1.374->xee->easysnowdata)\n",
      "  Using cached pyasn1_modules-0.4.1-py3-none-any.whl.metadata (3.5 kB)\n",
      "Collecting rsa<5,>=3.1.4 (from google-auth>=1.4.1->earthengine-api>=0.1.374->xee->easysnowdata)\n",
      "  Using cached rsa-4.9-py3-none-any.whl.metadata (4.2 kB)\n",
      "Requirement already satisfied: jsonschema-specifications>=2023.03.6 in /home/jehayes/mambaforge/envs/deep-snow/lib/python3.12/site-packages (from jsonschema~=4.18->pystac[validation]>=1.10.0->pystac-client->easysnowdata) (2024.10.1)\n",
      "Requirement already satisfied: referencing>=0.28.4 in /home/jehayes/mambaforge/envs/deep-snow/lib/python3.12/site-packages (from jsonschema~=4.18->pystac[validation]>=1.10.0->pystac-client->easysnowdata) (0.35.1)\n",
      "Requirement already satisfied: rpds-py>=0.7.1 in /home/jehayes/mambaforge/envs/deep-snow/lib/python3.12/site-packages (from jsonschema~=4.18->pystac[validation]>=1.10.0->pystac-client->easysnowdata) (0.21.0)\n",
      "Requirement already satisfied: locket in /home/jehayes/mambaforge/envs/deep-snow/lib/python3.12/site-packages (from partd>=1.4.0->dask[array]->odc-stac->easysnowdata) (1.0.0)\n",
      "Collecting cattrs>=22.2 (from requests-cache>=0.9.6->pygeoogc<0.19,>=0.18->py3dep->easysnowdata)\n",
      "  Using cached cattrs-24.1.2-py3-none-any.whl.metadata (8.4 kB)\n",
      "Requirement already satisfied: platformdirs>=2.5 in /home/jehayes/mambaforge/envs/deep-snow/lib/python3.12/site-packages (from requests-cache>=0.9.6->pygeoogc<0.19,>=0.18->py3dep->easysnowdata) (4.3.6)\n",
      "Collecting pyarrow>=14.0.1 (from dask[array]->odc-stac->easysnowdata)\n",
      "  Using cached pyarrow-18.0.0-cp312-cp312-manylinux_2_28_x86_64.whl.metadata (3.3 kB)\n",
      "Collecting lz4>=4.3.2 (from dask[array]->odc-stac->easysnowdata)\n",
      "  Using cached lz4-4.3.3-cp312-cp312-manylinux_2_17_x86_64.manylinux2014_x86_64.whl.metadata (3.7 kB)\n",
      "Collecting google-cloud-core<3.0dev,>=2.3.0 (from google-cloud-storage->earthengine-api>=0.1.374->xee->easysnowdata)\n",
      "  Using cached google_cloud_core-2.4.1-py2.py3-none-any.whl.metadata (2.7 kB)\n",
      "Collecting google-resumable-media>=2.7.2 (from google-cloud-storage->earthengine-api>=0.1.374->xee->easysnowdata)\n",
      "  Using cached google_resumable_media-2.7.2-py2.py3-none-any.whl.metadata (2.2 kB)\n",
      "Collecting google-crc32c<2.0dev,>=1.0 (from google-cloud-storage->earthengine-api>=0.1.374->xee->easysnowdata)\n",
      "  Using cached google_crc32c-1.6.0-cp312-cp312-manylinux_2_17_x86_64.manylinux2014_x86_64.whl.metadata (2.3 kB)\n",
      "Collecting cftime (from netcdf4->pygeoutils<0.19,>=0.18->py3dep->easysnowdata)\n",
      "  Using cached cftime-1.6.4.post1-cp312-cp312-manylinux_2_17_x86_64.manylinux2014_x86_64.whl.metadata (8.7 kB)\n",
      "Collecting pycares>=4.0.0 (from aiodns>=3.2.0->aiohttp[speedups]>=3.8.3->async-retriever<0.19,>=0.18->py3dep->easysnowdata)\n",
      "  Using cached pycares-4.4.0-cp312-cp312-manylinux_2_17_x86_64.manylinux2014_x86_64.whl.metadata (4.1 kB)\n",
      "Collecting jmespath<2.0.0,>=0.7.1 (from botocore<1.35.37,>=1.35.16->aiobotocore<3.0.0,>=2.5.4->s3fs>=2022.11->earthaccess->easysnowdata)\n",
      "  Using cached jmespath-1.0.1-py3-none-any.whl.metadata (7.6 kB)\n",
      "Collecting googleapis-common-protos<2.0.dev0,>=1.56.2 (from google-api-core!=2.0.*,!=2.1.*,!=2.2.*,!=2.3.0,<3.0.0.dev0,>=1.31.5->google-api-python-client>=1.12.1->earthengine-api>=0.1.374->xee->easysnowdata)\n",
      "  Using cached googleapis_common_protos-1.66.0-py2.py3-none-any.whl.metadata (1.5 kB)\n",
      "Collecting protobuf!=3.20.0,!=3.20.1,!=4.21.0,!=4.21.1,!=4.21.2,!=4.21.3,!=4.21.4,!=4.21.5,<6.0.0.dev0,>=3.19.5 (from google-api-core!=2.0.*,!=2.1.*,!=2.2.*,!=2.3.0,<3.0.0.dev0,>=1.31.5->google-api-python-client>=1.12.1->earthengine-api>=0.1.374->xee->easysnowdata)\n",
      "  Using cached protobuf-5.28.3-cp38-abi3-manylinux2014_x86_64.whl.metadata (592 bytes)\n",
      "Collecting proto-plus<2.0.0dev,>=1.22.3 (from google-api-core!=2.0.*,!=2.1.*,!=2.2.*,!=2.3.0,<3.0.0.dev0,>=1.31.5->google-api-python-client>=1.12.1->earthengine-api>=0.1.374->xee->easysnowdata)\n",
      "  Using cached proto_plus-1.25.0-py3-none-any.whl.metadata (2.2 kB)\n",
      "Collecting pyasn1<0.7.0,>=0.4.6 (from pyasn1-modules>=0.2.1->google-auth>=1.4.1->earthengine-api>=0.1.374->xee->easysnowdata)\n",
      "  Using cached pyasn1-0.6.1-py3-none-any.whl.metadata (8.4 kB)\n",
      "Collecting dask-expr<1.2,>=1.1 (from dask[array]->odc-stac->easysnowdata)\n",
      "  Using cached dask_expr-1.1.19-py3-none-any.whl.metadata (2.6 kB)\n",
      "Collecting bokeh>=3.1.0 (from dask[array]->odc-stac->easysnowdata)\n",
      "  Using cached bokeh-3.6.1-py3-none-any.whl.metadata (12 kB)\n",
      "Collecting distributed==2024.11.2 (from dask[array]->odc-stac->easysnowdata)\n",
      "  Using cached distributed-2024.11.2-py3-none-any.whl.metadata (3.3 kB)\n",
      "Collecting msgpack>=1.0.2 (from distributed==2024.11.2->dask[array]->odc-stac->easysnowdata)\n",
      "  Using cached msgpack-1.1.0-cp312-cp312-manylinux_2_17_x86_64.manylinux2014_x86_64.whl.metadata (8.4 kB)\n",
      "Requirement already satisfied: psutil>=5.8.0 in /home/jehayes/mambaforge/envs/deep-snow/lib/python3.12/site-packages (from distributed==2024.11.2->dask[array]->odc-stac->easysnowdata) (6.1.0)\n",
      "Collecting sortedcontainers>=2.0.5 (from distributed==2024.11.2->dask[array]->odc-stac->easysnowdata)\n",
      "  Using cached sortedcontainers-2.4.0-py2.py3-none-any.whl.metadata (10 kB)\n",
      "Collecting tblib>=1.6.0 (from distributed==2024.11.2->dask[array]->odc-stac->easysnowdata)\n",
      "  Using cached tblib-3.0.0-py3-none-any.whl.metadata (25 kB)\n",
      "Requirement already satisfied: tornado>=6.2.0 in /home/jehayes/mambaforge/envs/deep-snow/lib/python3.12/site-packages (from distributed==2024.11.2->dask[array]->odc-stac->easysnowdata) (6.4.1)\n",
      "Collecting zict>=3.0.0 (from distributed==2024.11.2->dask[array]->odc-stac->easysnowdata)\n",
      "  Using cached zict-3.0.0-py2.py3-none-any.whl.metadata (899 bytes)\n",
      "Requirement already satisfied: cffi>=1.5.0 in /home/jehayes/mambaforge/envs/deep-snow/lib/python3.12/site-packages (from pycares>=4.0.0->aiodns>=3.2.0->aiohttp[speedups]>=3.8.3->async-retriever<0.19,>=0.18->py3dep->easysnowdata) (1.17.1)\n",
      "Requirement already satisfied: pycparser in /home/jehayes/mambaforge/envs/deep-snow/lib/python3.12/site-packages (from cffi>=1.5.0->pycares>=4.0.0->aiodns>=3.2.0->aiohttp[speedups]>=3.8.3->async-retriever<0.19,>=0.18->py3dep->easysnowdata) (2.22)\n",
      "Using cached easysnowdata-0.0.11-py2.py3-none-any.whl (42 kB)\n",
      "Using cached bs4-0.0.2-py2.py3-none-any.whl (1.2 kB)\n",
      "Using cached contextily-1.6.2-py3-none-any.whl (17 kB)\n",
      "Using cached earthaccess-0.12.0-py3-none-any.whl (60 kB)\n",
      "Using cached lxml-5.3.0-cp312-cp312-manylinux_2_28_x86_64.whl (4.9 MB)\n",
      "Using cached py3dep-0.18.0-py3-none-any.whl (24 kB)\n",
      "Using cached scikit_image-0.24.0-cp312-cp312-manylinux_2_17_x86_64.manylinux2014_x86_64.whl (15.0 MB)\n",
      "Using cached xee-0.0.19-py3-none-any.whl (30 kB)\n",
      "Using cached async_retriever-0.18.0-py3-none-any.whl (16 kB)\n",
      "Using cached docstring_parser-0.16-py3-none-any.whl (36 kB)\n",
      "Using cached earthengine_api-1.4.0-py3-none-any.whl (457 kB)\n",
      "Using cached imageio-2.36.0-py3-none-any.whl (315 kB)\n",
      "Using cached lazy_loader-0.4-py3-none-any.whl (12 kB)\n",
      "Using cached multimethod-1.12-py3-none-any.whl (10 kB)\n",
      "Using cached pqdm-0.2.0-py2.py3-none-any.whl (6.8 kB)\n",
      "Using cached pygeoogc-0.18.0-py3-none-any.whl (35 kB)\n",
      "Using cached pygeoutils-0.18.0-py3-none-any.whl (29 kB)\n",
      "Using cached python_cmr-0.13.0-py3-none-any.whl (14 kB)\n",
      "Using cached s3fs-2024.10.0-py3-none-any.whl (29 kB)\n",
      "Using cached tifffile-2024.9.20-py3-none-any.whl (228 kB)\n",
      "Using cached tinynetrc-1.3.1-py2.py3-none-any.whl (3.9 kB)\n",
      "Using cached cytoolz-1.0.0-cp312-cp312-manylinux_2_17_x86_64.manylinux2014_x86_64.whl (2.1 MB)\n",
      "Using cached geopy-2.4.1-py3-none-any.whl (125 kB)\n",
      "Using cached mercantile-1.2.1-py3-none-any.whl (14 kB)\n",
      "Using cached pytkdocs-0.16.2-py3-none-any.whl (38 kB)\n",
      "Using cached aiobotocore-2.15.2-py3-none-any.whl (77 kB)\n",
      "Using cached aiohttp-3.11.7-cp312-cp312-manylinux_2_17_x86_64.manylinux2014_x86_64.whl (1.7 MB)\n",
      "Using cached aiohttp_client_cache-0.12.4-py3-none-any.whl (32 kB)\n",
      "Using cached geographiclib-2.0-py3-none-any.whl (40 kB)\n",
      "Using cached google_api_python_client-2.154.0-py2.py3-none-any.whl (12.6 MB)\n",
      "Using cached google_auth-2.36.0-py2.py3-none-any.whl (209 kB)\n",
      "Using cached google_auth_httplib2-0.2.0-py2.py3-none-any.whl (9.3 kB)\n",
      "Using cached httplib2-0.22.0-py3-none-any.whl (96 kB)\n",
      "Using cached multidict-6.1.0-cp312-cp312-manylinux_2_17_x86_64.manylinux2014_x86_64.whl (131 kB)\n",
      "Using cached OWSLib-0.32.0-py2.py3-none-any.whl (240 kB)\n",
      "Using cached requests_cache-1.2.1-py3-none-any.whl (61 kB)\n",
      "Using cached url_normalize-1.4.3-py2.py3-none-any.whl (6.8 kB)\n",
      "Using cached yarl-1.18.0-cp312-cp312-manylinux_2_17_x86_64.manylinux2014_x86_64.whl (336 kB)\n",
      "Using cached aiosqlite-0.20.0-py3-none-any.whl (15 kB)\n",
      "Using cached bounded_pool_executor-0.0.3-py3-none-any.whl (3.4 kB)\n",
      "Using cached google_cloud_storage-2.18.2-py2.py3-none-any.whl (130 kB)\n",
      "Using cached netCDF4-1.7.2-cp312-cp312-manylinux_2_17_x86_64.manylinux2014_x86_64.whl (9.3 MB)\n",
      "Using cached ujson-5.10.0-cp312-cp312-manylinux_2_17_x86_64.manylinux2014_x86_64.whl (53 kB)\n",
      "Using cached aiodns-3.2.0-py3-none-any.whl (5.7 kB)\n",
      "Using cached aiohappyeyeballs-2.4.3-py3-none-any.whl (14 kB)\n",
      "Using cached aioitertools-0.12.0-py3-none-any.whl (24 kB)\n",
      "Using cached aiosignal-1.3.1-py3-none-any.whl (7.6 kB)\n",
      "Using cached botocore-1.35.36-py3-none-any.whl (12.6 MB)\n",
      "Using cached cattrs-24.1.2-py3-none-any.whl (66 kB)\n",
      "Using cached frozenlist-1.5.0-cp312-cp312-manylinux_2_5_x86_64.manylinux1_x86_64.manylinux_2_17_x86_64.manylinux2014_x86_64.whl (283 kB)\n",
      "Using cached google_api_core-2.23.0-py3-none-any.whl (156 kB)\n",
      "Using cached google_cloud_core-2.4.1-py2.py3-none-any.whl (29 kB)\n",
      "Using cached google_crc32c-1.6.0-cp312-cp312-manylinux_2_17_x86_64.manylinux2014_x86_64.whl (32 kB)\n",
      "Using cached google_resumable_media-2.7.2-py2.py3-none-any.whl (81 kB)\n",
      "Using cached itsdangerous-2.2.0-py3-none-any.whl (16 kB)\n",
      "Using cached lz4-4.3.3-cp312-cp312-manylinux_2_17_x86_64.manylinux2014_x86_64.whl (1.3 MB)\n",
      "Using cached propcache-0.2.0-cp312-cp312-manylinux_2_17_x86_64.manylinux2014_x86_64.whl (248 kB)\n",
      "Using cached pyarrow-18.0.0-cp312-cp312-manylinux_2_28_x86_64.whl (40.0 MB)\n",
      "Using cached pyasn1_modules-0.4.1-py3-none-any.whl (181 kB)\n",
      "Using cached rsa-4.9-py3-none-any.whl (34 kB)\n",
      "Using cached uritemplate-4.1.1-py2.py3-none-any.whl (10 kB)\n",
      "Using cached wrapt-1.17.0-cp312-cp312-manylinux_2_5_x86_64.manylinux1_x86_64.manylinux_2_17_x86_64.manylinux2014_x86_64.whl (89 kB)\n",
      "Using cached cftime-1.6.4.post1-cp312-cp312-manylinux_2_17_x86_64.manylinux2014_x86_64.whl (1.4 MB)\n",
      "Using cached distributed-2024.11.2-py3-none-any.whl (1.0 MB)\n",
      "Using cached bokeh-3.6.1-py3-none-any.whl (6.9 MB)\n",
      "Using cached dask_expr-1.1.19-py3-none-any.whl (244 kB)\n",
      "Using cached googleapis_common_protos-1.66.0-py2.py3-none-any.whl (221 kB)\n",
      "Using cached jmespath-1.0.1-py3-none-any.whl (20 kB)\n",
      "Using cached proto_plus-1.25.0-py3-none-any.whl (50 kB)\n",
      "Using cached protobuf-5.28.3-cp38-abi3-manylinux2014_x86_64.whl (316 kB)\n",
      "Using cached pyasn1-0.6.1-py3-none-any.whl (83 kB)\n",
      "Using cached pycares-4.4.0-cp312-cp312-manylinux_2_17_x86_64.manylinux2014_x86_64.whl (290 kB)\n",
      "Using cached msgpack-1.1.0-cp312-cp312-manylinux_2_17_x86_64.manylinux2014_x86_64.whl (401 kB)\n",
      "Using cached sortedcontainers-2.4.0-py2.py3-none-any.whl (29 kB)\n",
      "Using cached tblib-3.0.0-py3-none-any.whl (12 kB)\n",
      "Using cached zict-3.0.0-py2.py3-none-any.whl (43 kB)\n",
      "Installing collected packages: tinynetrc, sortedcontainers, bounded-pool-executor, zict, wrapt, url-normalize, uritemplate, ujson, tifffile, tblib, pytkdocs, pyasn1, pyarrow, protobuf, propcache, pqdm, multimethod, multidict, msgpack, mercantile, lz4, lxml, lazy-loader, jmespath, itsdangerous, imageio, httplib2, google-crc32c, geographiclib, frozenlist, docstring_parser, cytoolz, cftime, cattrs, aiosqlite, aioitertools, aiohappyeyeballs, yarl, scikit-image, rsa, requests-cache, python-cmr, pycares, pyasn1-modules, proto-plus, owslib, netcdf4, googleapis-common-protos, google-resumable-media, geopy, bs4, botocore, aiosignal, google-auth, distributed, dask-expr, contextily, bokeh, aiohttp, aiodns, google-auth-httplib2, google-api-core, aiohttp-client-cache, aiobotocore, s3fs, pygeoutils, google-cloud-core, google-api-python-client, async-retriever, pygeoogc, google-cloud-storage, earthaccess, py3dep, earthengine-api, xee, easysnowdata\n",
      "Successfully installed aiobotocore-2.15.2 aiodns-3.2.0 aiohappyeyeballs-2.4.3 aiohttp-3.11.7 aiohttp-client-cache-0.12.4 aioitertools-0.12.0 aiosignal-1.3.1 aiosqlite-0.20.0 async-retriever-0.18.0 bokeh-3.6.1 botocore-1.35.36 bounded-pool-executor-0.0.3 bs4-0.0.2 cattrs-24.1.2 cftime-1.6.4.post1 contextily-1.6.2 cytoolz-1.0.0 dask-expr-1.1.19 distributed-2024.11.2 docstring_parser-0.16 earthaccess-0.12.0 earthengine-api-1.4.0 easysnowdata-0.0.11 frozenlist-1.5.0 geographiclib-2.0 geopy-2.4.1 google-api-core-2.23.0 google-api-python-client-2.154.0 google-auth-2.36.0 google-auth-httplib2-0.2.0 google-cloud-core-2.4.1 google-cloud-storage-2.18.2 google-crc32c-1.6.0 google-resumable-media-2.7.2 googleapis-common-protos-1.66.0 httplib2-0.22.0 imageio-2.36.0 itsdangerous-2.2.0 jmespath-1.0.1 lazy-loader-0.4 lxml-5.3.0 lz4-4.3.3 mercantile-1.2.1 msgpack-1.1.0 multidict-6.1.0 multimethod-1.12 netcdf4-1.7.2 owslib-0.32.0 pqdm-0.2.0 propcache-0.2.0 proto-plus-1.25.0 protobuf-5.28.3 py3dep-0.18.0 pyarrow-18.0.0 pyasn1-0.6.1 pyasn1-modules-0.4.1 pycares-4.4.0 pygeoogc-0.18.0 pygeoutils-0.18.0 python-cmr-0.13.0 pytkdocs-0.16.2 requests-cache-1.2.1 rsa-4.9 s3fs-2024.10.0 scikit-image-0.24.0 sortedcontainers-2.4.0 tblib-3.0.0 tifffile-2024.9.20 tinynetrc-1.3.1 ujson-5.10.0 uritemplate-4.1.1 url-normalize-1.4.3 wrapt-1.17.0 xee-0.0.19 yarl-1.18.0 zict-3.0.0\n"
     ]
    }
   ],
   "source": [
    "!pip install easysnowdata"
   ]
  },
  {
   "cell_type": "code",
   "execution_count": 1,
   "metadata": {},
   "outputs": [
    {
     "name": "stderr",
     "output_type": "stream",
     "text": [
      "/home/jehayes/mambaforge/envs/deep-snow/lib/python3.12/site-packages/tqdm/auto.py:21: TqdmWarning: IProgress not found. Please update jupyter and ipywidgets. See https://ipywidgets.readthedocs.io/en/stable/user_install.html\n",
      "  from .autonotebook import tqdm as notebook_tqdm\n"
     ]
    }
   ],
   "source": [
    "%load_ext autoreload\n",
    "%autoreload 2\n",
    "import easysnowdata as esd\n",
    "import numpy as np\n",
    "import matplotlib.pyplot as plt\n",
    "import torch\n",
    "from glob import glob\n",
    "import seaborn as sns\n",
    "import torch.nn as nn\n",
    "import torch.optim as optim\n",
    "import torch.nn.functional as F\n",
    "import xarray as xr\n",
    "import rasterio as rio\n",
    "import rioxarray\n",
    "import math, os\n",
    "from sklearn.preprocessing import RobustScaler\n",
    "from sklearn.decomposition import PCA\n",
    "import pandas as pd\n",
    "import geopandas as gpd\n",
    "import odc.stac\n",
    "import xyzservices as xyz\n",
    "import deep_snow.models\n",
    "from deep_snow.dataset import norm_dict\n",
    "from deep_snow.utils import calc_norm, undo_norm, calc_dowy\n",
    "from tqdm import tqdm\n",
    "import shutil"
   ]
  },
  {
   "cell_type": "code",
   "execution_count": 2,
   "metadata": {},
   "outputs": [],
   "source": [
    "nc_path = glob(\"/mnt/c/Users/JackE/uw/courses/aut24/ml_geo/jack_subsets/ncs/*\")\n",
    "tif_path = glob(\"/mnt/c/Users/JackE/uw/courses/aut24/ml_geo/jack_subsets/tifs/*\")"
   ]
  },
  {
   "cell_type": "code",
   "execution_count": null,
   "metadata": {},
   "outputs": [],
   "source": [
    "ds = xr.open_dataset(tif_path[0])"
   ]
  },
  {
   "cell_type": "code",
   "execution_count": 4,
   "metadata": {},
   "outputs": [
    {
     "data": {
      "text/plain": [
       "<matplotlib.collections.QuadMesh at 0x7f28bb293b60>"
      ]
     },
     "execution_count": 4,
     "metadata": {},
     "output_type": "execute_result"
    },
    {
     "data": {
      "image/png": "[encoded data removed]",
      "text/plain": [
       "<Figure size 640x480 with 2 Axes>"
      ]
     },
     "metadata": {},
     "output_type": "display_data"
    }
   ],
   "source": [
    "ds['band_data'].plot()"
   ]
  },
  {
   "cell_type": "code",
   "execution_count": 5,
   "metadata": {},
   "outputs": [
    {
     "name": "stdout",
     "output_type": "stream",
     "text": [
      "Geodataframe with all stations has been added to the Station object. Please use the .all_stations attribute to access.\n",
      "Use the .get_data(stations=geodataframe/string/list,variables=string/list,start_date=str,end_date=str) method to fetch data for specific stations and variables.\n"
     ]
    }
   ],
   "source": [
    "StationCollection = esd.automatic_weather_stations.StationCollection()\n",
    "all_snotel = StationCollection.all_stations[StationCollection.all_stations.network == 'SNOTEL']"
   ]
  },
  {
   "cell_type": "code",
   "execution_count": 6,
   "metadata": {},
   "outputs": [],
   "source": [
    "from shapely.geometry import box\n",
    "raster_bounds = (\n",
    "    ds.x.min().item(),  # xmin\n",
    "    ds.y.min().item(),  # ymin\n",
    "    ds.x.max().item(),  # xmax\n",
    "    ds.y.max().item()   # ymax\n",
    ")\n",
    "raster_polygon = box(*raster_bounds)\n",
    "raster_gdf = gpd.GeoDataFrame({'geometry': [raster_polygon]}, crs=all_snotel.crs)\n",
    "points_in_raster = gpd.sjoin(all_snotel, raster_gdf, predicate=\"intersects\")"
   ]
  },
  {
   "cell_type": "code",
   "execution_count": 7,
   "metadata": {},
   "outputs": [
    {
     "name": "stderr",
     "output_type": "stream",
     "text": [
      "  3%|▎         | 92/3540 [00:02<01:47, 32.14it/s]\n"
     ]
    }
   ],
   "source": [
    "for f in tqdm(tif_path):\n",
    "    ds = xr.open_dataset(f)\n",
    "    raster_bounds = (\n",
    "    ds.x.min().item(),  # xmin\n",
    "    ds.y.min().item(),  # ymin\n",
    "    ds.x.max().item(),  # xmax\n",
    "    ds.y.max().item()   # ymax\n",
    "    )\n",
    "    raster_polygon = box(*raster_bounds)\n",
    "    raster_gdf = gpd.GeoDataFrame({'geometry': [raster_polygon]}, crs=all_snotel.crs)\n",
    "    points_in_raster = gpd.sjoin(all_snotel, raster_gdf, predicate=\"intersects\")\n",
    "    if len(points_in_raster) > 1:\n",
    "        break\n",
    "    else:\n",
    "        continue"
   ]
  },
  {
   "cell_type": "code",
   "execution_count": 8,
   "metadata": {},
   "outputs": [],
   "source": [
    "for i, row in points_in_raster.iterrows():\n",
    "    break"
   ]
  },
  {
   "cell_type": "code",
   "execution_count": 9,
   "metadata": {},
   "outputs": [
    {
     "data": {
      "text/plain": [
       "(-120.002197265625, 38.69269943237305)"
      ]
     },
     "execution_count": 9,
     "metadata": {},
     "output_type": "execute_result"
    }
   ],
   "source": [
    "row.geometry.x, row.geometry.y"
   ]
  },
  {
   "cell_type": "code",
   "execution_count": 10,
   "metadata": {},
   "outputs": [
    {
     "data": {
      "text/html": [
       "<div><svg style=\"position: absolute; width: 0; height: 0; overflow: hidden\">\n",
       "<defs>\n",
       "<symbol id=\"icon-database\" viewBox=\"0 0 32 32\">\n",
       "<path d=\"M16 0c-8.837 0-16 2.239-16 5v4c0 2.761 7.163 5 16 5s16-2.239 16-5v-4c0-2.761-7.163-5-16-5z\"></path>\n",
       "<path d=\"M16 17c-8.837 0-16-2.239-16-5v6c0 2.761 7.163 5 16 5s16-2.239 16-5v-6c0 2.761-7.163 5-16 5z\"></path>\n",
       "<path d=\"M16 26c-8.837 0-16-2.239-16-5v6c0 2.761 7.163 5 16 5s16-2.239 16-5v-6c0 2.761-7.163 5-16 5z\"></path>\n",
       "</symbol>\n",
       "<symbol id=\"icon-file-text2\" viewBox=\"0 0 32 32\">\n",
       "<path d=\"M28.681 7.159c-0.694-0.947-1.662-2.053-2.724-3.116s-2.169-2.030-3.116-2.724c-1.612-1.182-2.393-1.319-2.841-1.319h-15.5c-1.378 0-2.5 1.121-2.5 2.5v27c0 1.378 1.122 2.5 2.5 2.5h23c1.378 0 2.5-1.122 2.5-2.5v-19.5c0-0.448-0.137-1.23-1.319-2.841zM24.543 5.457c0.959 0.959 1.712 1.825 2.268 2.543h-4.811v-4.811c0.718 0.556 1.584 1.309 2.543 2.268zM28 29.5c0 0.271-0.229 0.5-0.5 0.5h-23c-0.271 0-0.5-0.229-0.5-0.5v-27c0-0.271 0.229-0.5 0.5-0.5 0 0 15.499-0 15.5 0v7c0 0.552 0.448 1 1 1h7v19.5z\"></path>\n",
       "<path d=\"M23 26h-14c-0.552 0-1-0.448-1-1s0.448-1 1-1h14c0.552 0 1 0.448 1 1s-0.448 1-1 1z\"></path>\n",
       "<path d=\"M23 22h-14c-0.552 0-1-0.448-1-1s0.448-1 1-1h14c0.552 0 1 0.448 1 1s-0.448 1-1 1z\"></path>\n",
       "<path d=\"M23 18h-14c-0.552 0-1-0.448-1-1s0.448-1 1-1h14c0.552 0 1 0.448 1 1s-0.448 1-1 1z\"></path>\n",
       "</symbol>\n",
       "</defs>\n",
       "</svg>\n",
       "<style>/* CSS stylesheet for displaying xarray objects in jupyterlab.\n",
       " *\n",
       " */\n",
       "\n",
       ":root {\n",
       "  --xr-font-color0: var(--jp-content-font-color0, rgba(0, 0, 0, 1));\n",
       "  --xr-font-color2: var(--jp-content-font-color2, rgba(0, 0, 0, 0.54));\n",
       "  --xr-font-color3: var(--jp-content-font-color3, rgba(0, 0, 0, 0.38));\n",
       "  --xr-border-color: var(--jp-border-color2, #e0e0e0);\n",
       "  --xr-disabled-color: var(--jp-layout-color3, #bdbdbd);\n",
       "  --xr-background-color: var(--jp-layout-color0, white);\n",
       "  --xr-background-color-row-even: var(--jp-layout-color1, white);\n",
       "  --xr-background-color-row-odd: var(--jp-layout-color2, #eeeeee);\n",
       "}\n",
       "\n",
       "html[theme=dark],\n",
       "html[data-theme=dark],\n",
       "body[data-theme=dark],\n",
       "body.vscode-dark {\n",
       "  --xr-font-color0: rgba(255, 255, 255, 1);\n",
       "  --xr-font-color2: rgba(255, 255, 255, 0.54);\n",
       "  --xr-font-color3: rgba(255, 255, 255, 0.38);\n",
       "  --xr-border-color: #1F1F1F;\n",
       "  --xr-disabled-color: #515151;\n",
       "  --xr-background-color: #111111;\n",
       "  --xr-background-color-row-even: #111111;\n",
       "  --xr-background-color-row-odd: #313131;\n",
       "}\n",
       "\n",
       ".xr-wrap {\n",
       "  display: block !important;\n",
       "  min-width: 300px;\n",
       "  max-width: 700px;\n",
       "}\n",
       "\n",
       ".xr-text-repr-fallback {\n",
       "  /* fallback to plain text repr when CSS is not injected (untrusted notebook) */\n",
       "  display: none;\n",
       "}\n",
       "\n",
       ".xr-header {\n",
       "  padding-top: 6px;\n",
       "  padding-bottom: 6px;\n",
       "  margin-bottom: 4px;\n",
       "  border-bottom: solid 1px var(--xr-border-color);\n",
       "}\n",
       "\n",
       ".xr-header > div,\n",
       ".xr-header > ul {\n",
       "  display: inline;\n",
       "  margin-top: 0;\n",
       "  margin-bottom: 0;\n",
       "}\n",
       "\n",
       ".xr-obj-type,\n",
       ".xr-array-name {\n",
       "  margin-left: 2px;\n",
       "  margin-right: 10px;\n",
       "}\n",
       "\n",
       ".xr-obj-type {\n",
       "  color: var(--xr-font-color2);\n",
       "}\n",
       "\n",
       ".xr-sections {\n",
       "  padding-left: 0 !important;\n",
       "  display: grid;\n",
       "  grid-template-columns: 150px auto auto 1fr 0 20px 0 20px;\n",
       "}\n",
       "\n",
       ".xr-section-item {\n",
       "  display: contents;\n",
       "}\n",
       "\n",
       ".xr-section-item input {\n",
       "  display: inline-block;\n",
       "  opacity: 0;\n",
       "}\n",
       "\n",
       ".xr-section-item input + label {\n",
       "  color: var(--xr-disabled-color);\n",
       "}\n",
       "\n",
       ".xr-section-item input:enabled + label {\n",
       "  cursor: pointer;\n",
       "  color: var(--xr-font-color2);\n",
       "}\n",
       "\n",
       ".xr-section-item input:focus + label {\n",
       "  border: 2px solid var(--xr-font-color0);\n",
       "}\n",
       "\n",
       ".xr-section-item input:enabled + label:hover {\n",
       "  color: var(--xr-font-color0);\n",
       "}\n",
       "\n",
       ".xr-section-summary {\n",
       "  grid-column: 1;\n",
       "  color: var(--xr-font-color2);\n",
       "  font-weight: 500;\n",
       "}\n",
       "\n",
       ".xr-section-summary > span {\n",
       "  display: inline-block;\n",
       "  padding-left: 0.5em;\n",
       "}\n",
       "\n",
       ".xr-section-summary-in:disabled + label {\n",
       "  color: var(--xr-font-color2);\n",
       "}\n",
       "\n",
       ".xr-section-summary-in + label:before {\n",
       "  display: inline-block;\n",
       "  content: '►';\n",
       "  font-size: 11px;\n",
       "  width: 15px;\n",
       "  text-align: center;\n",
       "}\n",
       "\n",
       ".xr-section-summary-in:disabled + label:before {\n",
       "  color: var(--xr-disabled-color);\n",
       "}\n",
       "\n",
       ".xr-section-summary-in:checked + label:before {\n",
       "  content: '▼';\n",
       "}\n",
       "\n",
       ".xr-section-summary-in:checked + label > span {\n",
       "  display: none;\n",
       "}\n",
       "\n",
       ".xr-section-summary,\n",
       ".xr-section-inline-details {\n",
       "  padding-top: 4px;\n",
       "  padding-bottom: 4px;\n",
       "}\n",
       "\n",
       ".xr-section-inline-details {\n",
       "  grid-column: 2 / -1;\n",
       "}\n",
       "\n",
       ".xr-section-details {\n",
       "  display: none;\n",
       "  grid-column: 1 / -1;\n",
       "  margin-bottom: 5px;\n",
       "}\n",
       "\n",
       ".xr-section-summary-in:checked ~ .xr-section-details {\n",
       "  display: contents;\n",
       "}\n",
       "\n",
       ".xr-array-wrap {\n",
       "  grid-column: 1 / -1;\n",
       "  display: grid;\n",
       "  grid-template-columns: 20px auto;\n",
       "}\n",
       "\n",
       ".xr-array-wrap > label {\n",
       "  grid-column: 1;\n",
       "  vertical-align: top;\n",
       "}\n",
       "\n",
       ".xr-preview {\n",
       "  color: var(--xr-font-color3);\n",
       "}\n",
       "\n",
       ".xr-array-preview,\n",
       ".xr-array-data {\n",
       "  padding: 0 5px !important;\n",
       "  grid-column: 2;\n",
       "}\n",
       "\n",
       ".xr-array-data,\n",
       ".xr-array-in:checked ~ .xr-array-preview {\n",
       "  display: none;\n",
       "}\n",
       "\n",
       ".xr-array-in:checked ~ .xr-array-data,\n",
       ".xr-array-preview {\n",
       "  display: inline-block;\n",
       "}\n",
       "\n",
       ".xr-dim-list {\n",
       "  display: inline-block !important;\n",
       "  list-style: none;\n",
       "  padding: 0 !important;\n",
       "  margin: 0;\n",
       "}\n",
       "\n",
       ".xr-dim-list li {\n",
       "  display: inline-block;\n",
       "  padding: 0;\n",
       "  margin: 0;\n",
       "}\n",
       "\n",
       ".xr-dim-list:before {\n",
       "  content: '(';\n",
       "}\n",
       "\n",
       ".xr-dim-list:after {\n",
       "  content: ')';\n",
       "}\n",
       "\n",
       ".xr-dim-list li:not(:last-child):after {\n",
       "  content: ',';\n",
       "  padding-right: 5px;\n",
       "}\n",
       "\n",
       ".xr-has-index {\n",
       "  font-weight: bold;\n",
       "}\n",
       "\n",
       ".xr-var-list,\n",
       ".xr-var-item {\n",
       "  display: contents;\n",
       "}\n",
       "\n",
       ".xr-var-item > div,\n",
       ".xr-var-item label,\n",
       ".xr-var-item > .xr-var-name span {\n",
       "  background-color: var(--xr-background-color-row-even);\n",
       "  margin-bottom: 0;\n",
       "}\n",
       "\n",
       ".xr-var-item > .xr-var-name:hover span {\n",
       "  padding-right: 5px;\n",
       "}\n",
       "\n",
       ".xr-var-list > li:nth-child(odd) > div,\n",
       ".xr-var-list > li:nth-child(odd) > label,\n",
       ".xr-var-list > li:nth-child(odd) > .xr-var-name span {\n",
       "  background-color: var(--xr-background-color-row-odd);\n",
       "}\n",
       "\n",
       ".xr-var-name {\n",
       "  grid-column: 1;\n",
       "}\n",
       "\n",
       ".xr-var-dims {\n",
       "  grid-column: 2;\n",
       "}\n",
       "\n",
       ".xr-var-dtype {\n",
       "  grid-column: 3;\n",
       "  text-align: right;\n",
       "  color: var(--xr-font-color2);\n",
       "}\n",
       "\n",
       ".xr-var-preview {\n",
       "  grid-column: 4;\n",
       "}\n",
       "\n",
       ".xr-index-preview {\n",
       "  grid-column: 2 / 5;\n",
       "  color: var(--xr-font-color2);\n",
       "}\n",
       "\n",
       ".xr-var-name,\n",
       ".xr-var-dims,\n",
       ".xr-var-dtype,\n",
       ".xr-preview,\n",
       ".xr-attrs dt {\n",
       "  white-space: nowrap;\n",
       "  overflow: hidden;\n",
       "  text-overflow: ellipsis;\n",
       "  padding-right: 10px;\n",
       "}\n",
       "\n",
       ".xr-var-name:hover,\n",
       ".xr-var-dims:hover,\n",
       ".xr-var-dtype:hover,\n",
       ".xr-attrs dt:hover {\n",
       "  overflow: visible;\n",
       "  width: auto;\n",
       "  z-index: 1;\n",
       "}\n",
       "\n",
       ".xr-var-attrs,\n",
       ".xr-var-data,\n",
       ".xr-index-data {\n",
       "  display: none;\n",
       "  background-color: var(--xr-background-color) !important;\n",
       "  padding-bottom: 5px !important;\n",
       "}\n",
       "\n",
       ".xr-var-attrs-in:checked ~ .xr-var-attrs,\n",
       ".xr-var-data-in:checked ~ .xr-var-data,\n",
       ".xr-index-data-in:checked ~ .xr-index-data {\n",
       "  display: block;\n",
       "}\n",
       "\n",
       ".xr-var-data > table {\n",
       "  float: right;\n",
       "}\n",
       "\n",
       ".xr-var-name span,\n",
       ".xr-var-data,\n",
       ".xr-index-name div,\n",
       ".xr-index-data,\n",
       ".xr-attrs {\n",
       "  padding-left: 25px !important;\n",
       "}\n",
       "\n",
       ".xr-attrs,\n",
       ".xr-var-attrs,\n",
       ".xr-var-data,\n",
       ".xr-index-data {\n",
       "  grid-column: 1 / -1;\n",
       "}\n",
       "\n",
       "dl.xr-attrs {\n",
       "  padding: 0;\n",
       "  margin: 0;\n",
       "  display: grid;\n",
       "  grid-template-columns: 125px auto;\n",
       "}\n",
       "\n",
       ".xr-attrs dt,\n",
       ".xr-attrs dd {\n",
       "  padding: 0;\n",
       "  margin: 0;\n",
       "  float: left;\n",
       "  padding-right: 10px;\n",
       "  width: auto;\n",
       "}\n",
       "\n",
       ".xr-attrs dt {\n",
       "  font-weight: normal;\n",
       "  grid-column: 1;\n",
       "}\n",
       "\n",
       ".xr-attrs dt:hover span {\n",
       "  display: inline-block;\n",
       "  background: var(--xr-background-color);\n",
       "  padding-right: 10px;\n",
       "}\n",
       "\n",
       ".xr-attrs dd {\n",
       "  grid-column: 2;\n",
       "  white-space: pre-wrap;\n",
       "  word-break: break-all;\n",
       "}\n",
       "\n",
       ".xr-icon-database,\n",
       ".xr-icon-file-text2,\n",
       ".xr-no-icon {\n",
       "  display: inline-block;\n",
       "  vertical-align: middle;\n",
       "  width: 1em;\n",
       "  height: 1.5em !important;\n",
       "  stroke-width: 0;\n",
       "  stroke: currentColor;\n",
       "  fill: currentColor;\n",
       "}\n",
       "</style><pre class='xr-text-repr-fallback'>&lt;xarray.Dataset&gt; Size: 36B\n",
       "Dimensions:      (band: 1, x: 1, y: 1)\n",
       "Coordinates:\n",
       "  * band         (band) int64 8B 1\n",
       "  * x            (x) float64 8B -120.0\n",
       "  * y            (y) float64 8B 38.69\n",
       "    spatial_ref  int64 8B 0\n",
       "Data variables:\n",
       "    band_data    (band, y, x) float32 4B 2.711</pre><div class='xr-wrap' style='display:none'><div class='xr-header'><div class='xr-obj-type'>xarray.Dataset</div></div><ul class='xr-sections'><li class='xr-section-item'><input id='section-421e81c9-aad5-4312-bc08-a1e063bce01d' class='xr-section-summary-in' type='checkbox' disabled ><label for='section-421e81c9-aad5-4312-bc08-a1e063bce01d' class='xr-section-summary'  title='Expand/collapse section'>Dimensions:</label><div class='xr-section-inline-details'><ul class='xr-dim-list'><li><span class='xr-has-index'>band</span>: 1</li><li><span class='xr-has-index'>x</span>: 1</li><li><span class='xr-has-index'>y</span>: 1</li></ul></div><div class='xr-section-details'></div></li><li class='xr-section-item'><input id='section-100875cf-4bb0-480f-9e0b-8e01dafabe86' class='xr-section-summary-in' type='checkbox'  checked><label for='section-100875cf-4bb0-480f-9e0b-8e01dafabe86' class='xr-section-summary' >Coordinates: <span>(4)</span></label><div class='xr-section-inline-details'></div><div class='xr-section-details'><ul class='xr-var-list'><li class='xr-var-item'><div class='xr-var-name'><span class='xr-has-index'>band</span></div><div class='xr-var-dims'>(band)</div><div class='xr-var-dtype'>int64</div><div class='xr-var-preview xr-preview'>1</div><input id='attrs-e2745680-217e-4507-bebd-7ded4b83b13d' class='xr-var-attrs-in' type='checkbox' disabled><label for='attrs-e2745680-217e-4507-bebd-7ded4b83b13d' title='Show/Hide attributes'><svg class='icon xr-icon-file-text2'><use xlink:href='#icon-file-text2'></use></svg></label><input id='data-8fe5fb9c-e480-4a8d-88b0-a39ae9cacee4' class='xr-var-data-in' type='checkbox'><label for='data-8fe5fb9c-e480-4a8d-88b0-a39ae9cacee4' title='Show/Hide data repr'><svg class='icon xr-icon-database'><use xlink:href='#icon-database'></use></svg></label><div class='xr-var-attrs'><dl class='xr-attrs'></dl></div><div class='xr-var-data'><pre>array([1])</pre></div></li><li class='xr-var-item'><div class='xr-var-name'><span class='xr-has-index'>x</span></div><div class='xr-var-dims'>(x)</div><div class='xr-var-dtype'>float64</div><div class='xr-var-preview xr-preview'>-120.0</div><input id='attrs-bcda0001-e77c-468d-87bc-d0ba174bb562' class='xr-var-attrs-in' type='checkbox' ><label for='attrs-bcda0001-e77c-468d-87bc-d0ba174bb562' title='Show/Hide attributes'><svg class='icon xr-icon-file-text2'><use xlink:href='#icon-file-text2'></use></svg></label><input id='data-48475101-a923-4f58-9822-5903bd6e8e63' class='xr-var-data-in' type='checkbox'><label for='data-48475101-a923-4f58-9822-5903bd6e8e63' title='Show/Hide data repr'><svg class='icon xr-icon-database'><use xlink:href='#icon-database'></use></svg></label><div class='xr-var-attrs'><dl class='xr-attrs'><dt><span>axis :</span></dt><dd>X</dd><dt><span>long_name :</span></dt><dd>longitude</dd><dt><span>standard_name :</span></dt><dd>longitude</dd><dt><span>units :</span></dt><dd>degrees_east</dd></dl></div><div class='xr-var-data'><pre>array([-120.002127])</pre></div></li><li class='xr-var-item'><div class='xr-var-name'><span class='xr-has-index'>y</span></div><div class='xr-var-dims'>(y)</div><div class='xr-var-dtype'>float64</div><div class='xr-var-preview xr-preview'>38.69</div><input id='attrs-a1d4f2ea-6c81-40c6-8b55-2880d8c36120' class='xr-var-attrs-in' type='checkbox' ><label for='attrs-a1d4f2ea-6c81-40c6-8b55-2880d8c36120' title='Show/Hide attributes'><svg class='icon xr-icon-file-text2'><use xlink:href='#icon-file-text2'></use></svg></label><input id='data-82c35599-c919-42bb-b4a1-e7f7305b6a8e' class='xr-var-data-in' type='checkbox'><label for='data-82c35599-c919-42bb-b4a1-e7f7305b6a8e' title='Show/Hide data repr'><svg class='icon xr-icon-database'><use xlink:href='#icon-database'></use></svg></label><div class='xr-var-attrs'><dl class='xr-attrs'><dt><span>axis :</span></dt><dd>Y</dd><dt><span>long_name :</span></dt><dd>latitude</dd><dt><span>standard_name :</span></dt><dd>latitude</dd><dt><span>units :</span></dt><dd>degrees_north</dd></dl></div><div class='xr-var-data'><pre>array([38.692691])</pre></div></li><li class='xr-var-item'><div class='xr-var-name'><span>spatial_ref</span></div><div class='xr-var-dims'>()</div><div class='xr-var-dtype'>int64</div><div class='xr-var-preview xr-preview'>0</div><input id='attrs-8168b92d-0f3c-4769-af73-e07a1935577c' class='xr-var-attrs-in' type='checkbox' ><label for='attrs-8168b92d-0f3c-4769-af73-e07a1935577c' title='Show/Hide attributes'><svg class='icon xr-icon-file-text2'><use xlink:href='#icon-file-text2'></use></svg></label><input id='data-ea424346-9dbb-4446-90fa-dba6bbdf382a' class='xr-var-data-in' type='checkbox'><label for='data-ea424346-9dbb-4446-90fa-dba6bbdf382a' title='Show/Hide data repr'><svg class='icon xr-icon-database'><use xlink:href='#icon-database'></use></svg></label><div class='xr-var-attrs'><dl class='xr-attrs'><dt><span>crs_wkt :</span></dt><dd>GEOGCS[&quot;WGS 84&quot;,DATUM[&quot;WGS_1984&quot;,SPHEROID[&quot;WGS 84&quot;,6378137,298.257223563,AUTHORITY[&quot;EPSG&quot;,&quot;7030&quot;]],AUTHORITY[&quot;EPSG&quot;,&quot;6326&quot;]],PRIMEM[&quot;Greenwich&quot;,0,AUTHORITY[&quot;EPSG&quot;,&quot;8901&quot;]],UNIT[&quot;degree&quot;,0.0174532925199433,AUTHORITY[&quot;EPSG&quot;,&quot;9122&quot;]],AXIS[&quot;Latitude&quot;,NORTH],AXIS[&quot;Longitude&quot;,EAST],AUTHORITY[&quot;EPSG&quot;,&quot;4326&quot;]]</dd><dt><span>semi_major_axis :</span></dt><dd>6378137.0</dd><dt><span>semi_minor_axis :</span></dt><dd>6356752.314245179</dd><dt><span>inverse_flattening :</span></dt><dd>298.257223563</dd><dt><span>reference_ellipsoid_name :</span></dt><dd>WGS 84</dd><dt><span>longitude_of_prime_meridian :</span></dt><dd>0.0</dd><dt><span>prime_meridian_name :</span></dt><dd>Greenwich</dd><dt><span>geographic_crs_name :</span></dt><dd>WGS 84</dd><dt><span>horizontal_datum_name :</span></dt><dd>World Geodetic System 1984</dd><dt><span>grid_mapping_name :</span></dt><dd>latitude_longitude</dd><dt><span>spatial_ref :</span></dt><dd>GEOGCS[&quot;WGS 84&quot;,DATUM[&quot;WGS_1984&quot;,SPHEROID[&quot;WGS 84&quot;,6378137,298.257223563,AUTHORITY[&quot;EPSG&quot;,&quot;7030&quot;]],AUTHORITY[&quot;EPSG&quot;,&quot;6326&quot;]],PRIMEM[&quot;Greenwich&quot;,0,AUTHORITY[&quot;EPSG&quot;,&quot;8901&quot;]],UNIT[&quot;degree&quot;,0.0174532925199433,AUTHORITY[&quot;EPSG&quot;,&quot;9122&quot;]],AXIS[&quot;Latitude&quot;,NORTH],AXIS[&quot;Longitude&quot;,EAST],AUTHORITY[&quot;EPSG&quot;,&quot;4326&quot;]]</dd><dt><span>GeoTransform :</span></dt><dd>-120.00238314648797 0.0005119383546738094 0.0 38.692946635899 0.0 -0.0005119383546737866</dd></dl></div><div class='xr-var-data'><pre>array(0)</pre></div></li></ul></div></li><li class='xr-section-item'><input id='section-9738b6eb-677e-4605-9eea-df57b4c8ea84' class='xr-section-summary-in' type='checkbox'  checked><label for='section-9738b6eb-677e-4605-9eea-df57b4c8ea84' class='xr-section-summary' >Data variables: <span>(1)</span></label><div class='xr-section-inline-details'></div><div class='xr-section-details'><ul class='xr-var-list'><li class='xr-var-item'><div class='xr-var-name'><span>band_data</span></div><div class='xr-var-dims'>(band, y, x)</div><div class='xr-var-dtype'>float32</div><div class='xr-var-preview xr-preview'>2.711</div><input id='attrs-33836822-b8bf-487e-8667-4812cc85f359' class='xr-var-attrs-in' type='checkbox' ><label for='attrs-33836822-b8bf-487e-8667-4812cc85f359' title='Show/Hide attributes'><svg class='icon xr-icon-file-text2'><use xlink:href='#icon-file-text2'></use></svg></label><input id='data-48bfac37-444f-48b3-941d-009a9cf57e1e' class='xr-var-data-in' type='checkbox'><label for='data-48bfac37-444f-48b3-941d-009a9cf57e1e' title='Show/Hide data repr'><svg class='icon xr-icon-database'><use xlink:href='#icon-database'></use></svg></label><div class='xr-var-attrs'><dl class='xr-attrs'><dt><span>AREA_OR_POINT :</span></dt><dd>Area</dd><dt><span>long_name :</span></dt><dd>aso_sd</dd></dl></div><div class='xr-var-data'><pre>array([[[2.7112508]]], dtype=float32)</pre></div></li></ul></div></li><li class='xr-section-item'><input id='section-e210e709-d1b0-4a88-b95d-cb23a5f9073f' class='xr-section-summary-in' type='checkbox'  ><label for='section-e210e709-d1b0-4a88-b95d-cb23a5f9073f' class='xr-section-summary' >Indexes: <span>(3)</span></label><div class='xr-section-inline-details'></div><div class='xr-section-details'><ul class='xr-var-list'><li class='xr-var-item'><div class='xr-index-name'><div>band</div></div><div class='xr-index-preview'>PandasIndex</div><div></div><input id='index-1a4c473f-e8e8-4cb6-b4fa-d2156f61a82a' class='xr-index-data-in' type='checkbox'/><label for='index-1a4c473f-e8e8-4cb6-b4fa-d2156f61a82a' title='Show/Hide index repr'><svg class='icon xr-icon-database'><use xlink:href='#icon-database'></use></svg></label><div class='xr-index-data'><pre>PandasIndex(Index([1], dtype=&#x27;int64&#x27;, name=&#x27;band&#x27;))</pre></div></li><li class='xr-var-item'><div class='xr-index-name'><div>x</div></div><div class='xr-index-preview'>PandasIndex</div><div></div><input id='index-01c0d8a5-f4b7-4245-9604-39be4a1c47e3' class='xr-index-data-in' type='checkbox'/><label for='index-01c0d8a5-f4b7-4245-9604-39be4a1c47e3' title='Show/Hide index repr'><svg class='icon xr-icon-database'><use xlink:href='#icon-database'></use></svg></label><div class='xr-index-data'><pre>PandasIndex(Index([-120.00212717731064], dtype=&#x27;float64&#x27;, name=&#x27;x&#x27;))</pre></div></li><li class='xr-var-item'><div class='xr-index-name'><div>y</div></div><div class='xr-index-preview'>PandasIndex</div><div></div><input id='index-0a32cd31-a586-48be-a400-f3f670601b10' class='xr-index-data-in' type='checkbox'/><label for='index-0a32cd31-a586-48be-a400-f3f670601b10' title='Show/Hide index repr'><svg class='icon xr-icon-database'><use xlink:href='#icon-database'></use></svg></label><div class='xr-index-data'><pre>PandasIndex(Index([38.69269066672166], dtype=&#x27;float64&#x27;, name=&#x27;y&#x27;))</pre></div></li></ul></div></li><li class='xr-section-item'><input id='section-d9954df1-d9c6-443d-b7dd-8a757d9468f5' class='xr-section-summary-in' type='checkbox' disabled ><label for='section-d9954df1-d9c6-443d-b7dd-8a757d9468f5' class='xr-section-summary'  title='Expand/collapse section'>Attributes: <span>(0)</span></label><div class='xr-section-inline-details'></div><div class='xr-section-details'><dl class='xr-attrs'></dl></div></li></ul></div></div>"
      ],
      "text/plain": [
       "<xarray.Dataset> Size: 36B\n",
       "Dimensions:      (band: 1, x: 1, y: 1)\n",
       "Coordinates:\n",
       "  * band         (band) int64 8B 1\n",
       "  * x            (x) float64 8B -120.0\n",
       "  * y            (y) float64 8B 38.69\n",
       "    spatial_ref  int64 8B 0\n",
       "Data variables:\n",
       "    band_data    (band, y, x) float32 4B 2.711"
      ]
     },
     "execution_count": 10,
     "metadata": {},
     "output_type": "execute_result"
    }
   ],
   "source": [
    "ds.rio.clip(gpd.GeoSeries([row.geometry]))"
   ]
  },
  {
   "cell_type": "code",
   "execution_count": 124,
   "metadata": {},
   "outputs": [],
   "source": [
    "selected_cell = ds.sel(x=x_coord, y=y_coord, method=\"nearest\")"
   ]
  },
  {
   "cell_type": "code",
   "execution_count": 158,
   "metadata": {},
   "outputs": [],
   "source": [
    "ds.sel(x=x_coord, y=y_coord, method=\"nearest\")['sno_sd'] = 6"
   ]
  },
  {
   "cell_type": "code",
   "execution_count": 159,
   "metadata": {},
   "outputs": [
    {
     "ename": "ValueError",
     "evalue": "zero-size array to reduction operation minimum which has no identity",
     "output_type": "error",
     "traceback": [
      "\u001b[0;31m---------------------------------------------------------------------------\u001b[0m",
      "\u001b[0;31mValueError\u001b[0m                                Traceback (most recent call last)",
      "Cell \u001b[0;32mIn[159], line 1\u001b[0m\n\u001b[0;32m----> 1\u001b[0m \u001b[43mds\u001b[49m\u001b[38;5;241;43m.\u001b[39;49m\u001b[43mwhere\u001b[49m\u001b[43m(\u001b[49m\u001b[43mds\u001b[49m\u001b[43m[\u001b[49m\u001b[38;5;124;43m'\u001b[39;49m\u001b[38;5;124;43msno_sd\u001b[39;49m\u001b[38;5;124;43m'\u001b[39;49m\u001b[43m]\u001b[49m\u001b[43m \u001b[49m\u001b[38;5;241;43m==\u001b[39;49m\u001b[43m \u001b[49m\u001b[38;5;241;43m6\u001b[39;49m\u001b[43m,\u001b[49m\u001b[43m \u001b[49m\u001b[43mdrop\u001b[49m\u001b[38;5;241;43m=\u001b[39;49m\u001b[38;5;28;43;01mTrue\u001b[39;49;00m\u001b[43m)\u001b[49m\n",
      "File \u001b[0;32m~/miniconda3/envs/deep-snow/lib/python3.12/site-packages/xarray/core/common.py:1233\u001b[0m, in \u001b[0;36mDataWithCoords.where\u001b[0;34m(self, cond, other, drop)\u001b[0m\n\u001b[1;32m   1230\u001b[0m     \u001b[38;5;28mself\u001b[39m \u001b[38;5;241m=\u001b[39m \u001b[38;5;28mself\u001b[39m\u001b[38;5;241m.\u001b[39misel(\u001b[38;5;241m*\u001b[39m\u001b[38;5;241m*\u001b[39mindexers)\n\u001b[1;32m   1231\u001b[0m     cond \u001b[38;5;241m=\u001b[39m cond\u001b[38;5;241m.\u001b[39misel(\u001b[38;5;241m*\u001b[39m\u001b[38;5;241m*\u001b[39mindexers)\n\u001b[0;32m-> 1233\u001b[0m \u001b[38;5;28;01mreturn\u001b[39;00m \u001b[43mops\u001b[49m\u001b[38;5;241;43m.\u001b[39;49m\u001b[43mwhere_method\u001b[49m\u001b[43m(\u001b[49m\u001b[38;5;28;43mself\u001b[39;49m\u001b[43m,\u001b[49m\u001b[43m \u001b[49m\u001b[43mcond\u001b[49m\u001b[43m,\u001b[49m\u001b[43m \u001b[49m\u001b[43mother\u001b[49m\u001b[43m)\u001b[49m\n",
      "File \u001b[0;32m~/miniconda3/envs/deep-snow/lib/python3.12/site-packages/xarray/core/ops.py:179\u001b[0m, in \u001b[0;36mwhere_method\u001b[0;34m(self, cond, other)\u001b[0m\n\u001b[1;32m    177\u001b[0m \u001b[38;5;66;03m# alignment for three arguments is complicated, so don't support it yet\u001b[39;00m\n\u001b[1;32m    178\u001b[0m join \u001b[38;5;241m=\u001b[39m \u001b[38;5;124m\"\u001b[39m\u001b[38;5;124minner\u001b[39m\u001b[38;5;124m\"\u001b[39m \u001b[38;5;28;01mif\u001b[39;00m other \u001b[38;5;129;01mis\u001b[39;00m dtypes\u001b[38;5;241m.\u001b[39mNA \u001b[38;5;28;01melse\u001b[39;00m \u001b[38;5;124m\"\u001b[39m\u001b[38;5;124mexact\u001b[39m\u001b[38;5;124m\"\u001b[39m\n\u001b[0;32m--> 179\u001b[0m \u001b[38;5;28;01mreturn\u001b[39;00m \u001b[43mapply_ufunc\u001b[49m\u001b[43m(\u001b[49m\n\u001b[1;32m    180\u001b[0m \u001b[43m    \u001b[49m\u001b[43mduck_array_ops\u001b[49m\u001b[38;5;241;43m.\u001b[39;49m\u001b[43mwhere_method\u001b[49m\u001b[43m,\u001b[49m\n\u001b[1;32m    181\u001b[0m \u001b[43m    \u001b[49m\u001b[38;5;28;43mself\u001b[39;49m\u001b[43m,\u001b[49m\n\u001b[1;32m    182\u001b[0m \u001b[43m    \u001b[49m\u001b[43mcond\u001b[49m\u001b[43m,\u001b[49m\n\u001b[1;32m    183\u001b[0m \u001b[43m    \u001b[49m\u001b[43mother\u001b[49m\u001b[43m,\u001b[49m\n\u001b[1;32m    184\u001b[0m \u001b[43m    \u001b[49m\u001b[43mjoin\u001b[49m\u001b[38;5;241;43m=\u001b[39;49m\u001b[43mjoin\u001b[49m\u001b[43m,\u001b[49m\n\u001b[1;32m    185\u001b[0m \u001b[43m    \u001b[49m\u001b[43mdataset_join\u001b[49m\u001b[38;5;241;43m=\u001b[39;49m\u001b[43mjoin\u001b[49m\u001b[43m,\u001b[49m\n\u001b[1;32m    186\u001b[0m \u001b[43m    \u001b[49m\u001b[43mdask\u001b[49m\u001b[38;5;241;43m=\u001b[39;49m\u001b[38;5;124;43m\"\u001b[39;49m\u001b[38;5;124;43mallowed\u001b[39;49m\u001b[38;5;124;43m\"\u001b[39;49m\u001b[43m,\u001b[49m\n\u001b[1;32m    187\u001b[0m \u001b[43m    \u001b[49m\u001b[43mkeep_attrs\u001b[49m\u001b[38;5;241;43m=\u001b[39;49m\u001b[38;5;28;43;01mTrue\u001b[39;49;00m\u001b[43m,\u001b[49m\n\u001b[1;32m    188\u001b[0m \u001b[43m\u001b[49m\u001b[43m)\u001b[49m\n",
      "File \u001b[0;32m~/miniconda3/envs/deep-snow/lib/python3.12/site-packages/xarray/core/computation.py:1252\u001b[0m, in \u001b[0;36mapply_ufunc\u001b[0;34m(func, input_core_dims, output_core_dims, exclude_dims, vectorize, join, dataset_join, dataset_fill_value, keep_attrs, kwargs, dask, output_dtypes, output_sizes, meta, dask_gufunc_kwargs, on_missing_core_dim, *args)\u001b[0m\n\u001b[1;32m   1250\u001b[0m \u001b[38;5;66;03m# feed datasets apply_variable_ufunc through apply_dataset_vfunc\u001b[39;00m\n\u001b[1;32m   1251\u001b[0m \u001b[38;5;28;01melif\u001b[39;00m \u001b[38;5;28many\u001b[39m(is_dict_like(a) \u001b[38;5;28;01mfor\u001b[39;00m a \u001b[38;5;129;01min\u001b[39;00m args):\n\u001b[0;32m-> 1252\u001b[0m     \u001b[38;5;28;01mreturn\u001b[39;00m \u001b[43mapply_dataset_vfunc\u001b[49m\u001b[43m(\u001b[49m\n\u001b[1;32m   1253\u001b[0m \u001b[43m        \u001b[49m\u001b[43mvariables_vfunc\u001b[49m\u001b[43m,\u001b[49m\n\u001b[1;32m   1254\u001b[0m \u001b[43m        \u001b[49m\u001b[38;5;241;43m*\u001b[39;49m\u001b[43margs\u001b[49m\u001b[43m,\u001b[49m\n\u001b[1;32m   1255\u001b[0m \u001b[43m        \u001b[49m\u001b[43msignature\u001b[49m\u001b[38;5;241;43m=\u001b[39;49m\u001b[43msignature\u001b[49m\u001b[43m,\u001b[49m\n\u001b[1;32m   1256\u001b[0m \u001b[43m        \u001b[49m\u001b[43mjoin\u001b[49m\u001b[38;5;241;43m=\u001b[39;49m\u001b[43mjoin\u001b[49m\u001b[43m,\u001b[49m\n\u001b[1;32m   1257\u001b[0m \u001b[43m        \u001b[49m\u001b[43mexclude_dims\u001b[49m\u001b[38;5;241;43m=\u001b[39;49m\u001b[43mexclude_dims\u001b[49m\u001b[43m,\u001b[49m\n\u001b[1;32m   1258\u001b[0m \u001b[43m        \u001b[49m\u001b[43mdataset_join\u001b[49m\u001b[38;5;241;43m=\u001b[39;49m\u001b[43mdataset_join\u001b[49m\u001b[43m,\u001b[49m\n\u001b[1;32m   1259\u001b[0m \u001b[43m        \u001b[49m\u001b[43mfill_value\u001b[49m\u001b[38;5;241;43m=\u001b[39;49m\u001b[43mdataset_fill_value\u001b[49m\u001b[43m,\u001b[49m\n\u001b[1;32m   1260\u001b[0m \u001b[43m        \u001b[49m\u001b[43mkeep_attrs\u001b[49m\u001b[38;5;241;43m=\u001b[39;49m\u001b[43mkeep_attrs\u001b[49m\u001b[43m,\u001b[49m\n\u001b[1;32m   1261\u001b[0m \u001b[43m        \u001b[49m\u001b[43mon_missing_core_dim\u001b[49m\u001b[38;5;241;43m=\u001b[39;49m\u001b[43mon_missing_core_dim\u001b[49m\u001b[43m,\u001b[49m\n\u001b[1;32m   1262\u001b[0m \u001b[43m    \u001b[49m\u001b[43m)\u001b[49m\n\u001b[1;32m   1263\u001b[0m \u001b[38;5;66;03m# feed DataArray apply_variable_ufunc through apply_dataarray_vfunc\u001b[39;00m\n\u001b[1;32m   1264\u001b[0m \u001b[38;5;28;01melif\u001b[39;00m \u001b[38;5;28many\u001b[39m(\u001b[38;5;28misinstance\u001b[39m(a, DataArray) \u001b[38;5;28;01mfor\u001b[39;00m a \u001b[38;5;129;01min\u001b[39;00m args):\n",
      "File \u001b[0;32m~/miniconda3/envs/deep-snow/lib/python3.12/site-packages/xarray/core/computation.py:523\u001b[0m, in \u001b[0;36mapply_dataset_vfunc\u001b[0;34m(func, signature, join, dataset_join, fill_value, exclude_dims, keep_attrs, on_missing_core_dim, *args)\u001b[0m\n\u001b[1;32m    518\u001b[0m list_of_coords, list_of_indexes \u001b[38;5;241m=\u001b[39m build_output_coords_and_indexes(\n\u001b[1;32m    519\u001b[0m     args, signature, exclude_dims, combine_attrs\u001b[38;5;241m=\u001b[39mkeep_attrs\n\u001b[1;32m    520\u001b[0m )\n\u001b[1;32m    521\u001b[0m args \u001b[38;5;241m=\u001b[39m \u001b[38;5;28mtuple\u001b[39m(\u001b[38;5;28mgetattr\u001b[39m(arg, \u001b[38;5;124m\"\u001b[39m\u001b[38;5;124mdata_vars\u001b[39m\u001b[38;5;124m\"\u001b[39m, arg) \u001b[38;5;28;01mfor\u001b[39;00m arg \u001b[38;5;129;01min\u001b[39;00m args)\n\u001b[0;32m--> 523\u001b[0m result_vars \u001b[38;5;241m=\u001b[39m \u001b[43mapply_dict_of_variables_vfunc\u001b[49m\u001b[43m(\u001b[49m\n\u001b[1;32m    524\u001b[0m \u001b[43m    \u001b[49m\u001b[43mfunc\u001b[49m\u001b[43m,\u001b[49m\n\u001b[1;32m    525\u001b[0m \u001b[43m    \u001b[49m\u001b[38;5;241;43m*\u001b[39;49m\u001b[43margs\u001b[49m\u001b[43m,\u001b[49m\n\u001b[1;32m    526\u001b[0m \u001b[43m    \u001b[49m\u001b[43msignature\u001b[49m\u001b[38;5;241;43m=\u001b[39;49m\u001b[43msignature\u001b[49m\u001b[43m,\u001b[49m\n\u001b[1;32m    527\u001b[0m \u001b[43m    \u001b[49m\u001b[43mjoin\u001b[49m\u001b[38;5;241;43m=\u001b[39;49m\u001b[43mdataset_join\u001b[49m\u001b[43m,\u001b[49m\n\u001b[1;32m    528\u001b[0m \u001b[43m    \u001b[49m\u001b[43mfill_value\u001b[49m\u001b[38;5;241;43m=\u001b[39;49m\u001b[43mfill_value\u001b[49m\u001b[43m,\u001b[49m\n\u001b[1;32m    529\u001b[0m \u001b[43m    \u001b[49m\u001b[43mon_missing_core_dim\u001b[49m\u001b[38;5;241;43m=\u001b[39;49m\u001b[43mon_missing_core_dim\u001b[49m\u001b[43m,\u001b[49m\n\u001b[1;32m    530\u001b[0m \u001b[43m\u001b[49m\u001b[43m)\u001b[49m\n\u001b[1;32m    532\u001b[0m out: Dataset \u001b[38;5;241m|\u001b[39m \u001b[38;5;28mtuple\u001b[39m[Dataset, \u001b[38;5;241m.\u001b[39m\u001b[38;5;241m.\u001b[39m\u001b[38;5;241m.\u001b[39m]\n\u001b[1;32m    533\u001b[0m \u001b[38;5;28;01mif\u001b[39;00m signature\u001b[38;5;241m.\u001b[39mnum_outputs \u001b[38;5;241m>\u001b[39m \u001b[38;5;241m1\u001b[39m:\n",
      "File \u001b[0;32m~/miniconda3/envs/deep-snow/lib/python3.12/site-packages/xarray/core/computation.py:447\u001b[0m, in \u001b[0;36mapply_dict_of_variables_vfunc\u001b[0;34m(func, signature, join, fill_value, on_missing_core_dim, *args)\u001b[0m\n\u001b[1;32m    445\u001b[0m core_dim_present \u001b[38;5;241m=\u001b[39m _check_core_dims(signature, variable_args, name)\n\u001b[1;32m    446\u001b[0m \u001b[38;5;28;01mif\u001b[39;00m core_dim_present \u001b[38;5;129;01mis\u001b[39;00m \u001b[38;5;28;01mTrue\u001b[39;00m:\n\u001b[0;32m--> 447\u001b[0m     result_vars[name] \u001b[38;5;241m=\u001b[39m \u001b[43mfunc\u001b[49m\u001b[43m(\u001b[49m\u001b[38;5;241;43m*\u001b[39;49m\u001b[43mvariable_args\u001b[49m\u001b[43m)\u001b[49m\n\u001b[1;32m    448\u001b[0m \u001b[38;5;28;01melse\u001b[39;00m:\n\u001b[1;32m    449\u001b[0m     \u001b[38;5;28;01mif\u001b[39;00m on_missing_core_dim \u001b[38;5;241m==\u001b[39m \u001b[38;5;124m\"\u001b[39m\u001b[38;5;124mraise\u001b[39m\u001b[38;5;124m\"\u001b[39m:\n",
      "File \u001b[0;32m~/miniconda3/envs/deep-snow/lib/python3.12/site-packages/xarray/core/computation.py:729\u001b[0m, in \u001b[0;36mapply_variable_ufunc\u001b[0;34m(func, signature, exclude_dims, dask, output_dtypes, vectorize, keep_attrs, dask_gufunc_kwargs, *args)\u001b[0m\n\u001b[1;32m    722\u001b[0m broadcast_dims \u001b[38;5;241m=\u001b[39m \u001b[38;5;28mtuple\u001b[39m(\n\u001b[1;32m    723\u001b[0m     dim \u001b[38;5;28;01mfor\u001b[39;00m dim \u001b[38;5;129;01min\u001b[39;00m dim_sizes \u001b[38;5;28;01mif\u001b[39;00m dim \u001b[38;5;129;01mnot\u001b[39;00m \u001b[38;5;129;01min\u001b[39;00m signature\u001b[38;5;241m.\u001b[39mall_core_dims\n\u001b[1;32m    724\u001b[0m )\n\u001b[1;32m    725\u001b[0m output_dims \u001b[38;5;241m=\u001b[39m [broadcast_dims \u001b[38;5;241m+\u001b[39m out \u001b[38;5;28;01mfor\u001b[39;00m out \u001b[38;5;129;01min\u001b[39;00m signature\u001b[38;5;241m.\u001b[39moutput_core_dims]\n\u001b[1;32m    727\u001b[0m input_data \u001b[38;5;241m=\u001b[39m [\n\u001b[1;32m    728\u001b[0m     (\n\u001b[0;32m--> 729\u001b[0m         \u001b[43mbroadcast_compat_data\u001b[49m\u001b[43m(\u001b[49m\u001b[43marg\u001b[49m\u001b[43m,\u001b[49m\u001b[43m \u001b[49m\u001b[43mbroadcast_dims\u001b[49m\u001b[43m,\u001b[49m\u001b[43m \u001b[49m\u001b[43mcore_dims\u001b[49m\u001b[43m)\u001b[49m\n\u001b[1;32m    730\u001b[0m         \u001b[38;5;28;01mif\u001b[39;00m \u001b[38;5;28misinstance\u001b[39m(arg, Variable)\n\u001b[1;32m    731\u001b[0m         \u001b[38;5;28;01melse\u001b[39;00m arg\n\u001b[1;32m    732\u001b[0m     )\n\u001b[1;32m    733\u001b[0m     \u001b[38;5;28;01mfor\u001b[39;00m arg, core_dims \u001b[38;5;129;01min\u001b[39;00m \u001b[38;5;28mzip\u001b[39m(args, signature\u001b[38;5;241m.\u001b[39minput_core_dims, strict\u001b[38;5;241m=\u001b[39m\u001b[38;5;28;01mTrue\u001b[39;00m)\n\u001b[1;32m    734\u001b[0m ]\n\u001b[1;32m    736\u001b[0m \u001b[38;5;28;01mif\u001b[39;00m \u001b[38;5;28many\u001b[39m(is_chunked_array(array) \u001b[38;5;28;01mfor\u001b[39;00m array \u001b[38;5;129;01min\u001b[39;00m input_data):\n\u001b[1;32m    737\u001b[0m     \u001b[38;5;28;01mif\u001b[39;00m dask \u001b[38;5;241m==\u001b[39m \u001b[38;5;124m\"\u001b[39m\u001b[38;5;124mforbidden\u001b[39m\u001b[38;5;124m\"\u001b[39m:\n",
      "File \u001b[0;32m~/miniconda3/envs/deep-snow/lib/python3.12/site-packages/xarray/core/computation.py:650\u001b[0m, in \u001b[0;36mbroadcast_compat_data\u001b[0;34m(variable, broadcast_dims, core_dims)\u001b[0m\n\u001b[1;32m    645\u001b[0m \u001b[38;5;28;01mdef\u001b[39;00m \u001b[38;5;21mbroadcast_compat_data\u001b[39m(\n\u001b[1;32m    646\u001b[0m     variable: Variable,\n\u001b[1;32m    647\u001b[0m     broadcast_dims: \u001b[38;5;28mtuple\u001b[39m[Hashable, \u001b[38;5;241m.\u001b[39m\u001b[38;5;241m.\u001b[39m\u001b[38;5;241m.\u001b[39m],\n\u001b[1;32m    648\u001b[0m     core_dims: \u001b[38;5;28mtuple\u001b[39m[Hashable, \u001b[38;5;241m.\u001b[39m\u001b[38;5;241m.\u001b[39m\u001b[38;5;241m.\u001b[39m],\n\u001b[1;32m    649\u001b[0m ) \u001b[38;5;241m-\u001b[39m\u001b[38;5;241m>\u001b[39m Any:\n\u001b[0;32m--> 650\u001b[0m     data \u001b[38;5;241m=\u001b[39m \u001b[43mvariable\u001b[49m\u001b[38;5;241;43m.\u001b[39;49m\u001b[43mdata\u001b[49m\n\u001b[1;32m    652\u001b[0m     old_dims \u001b[38;5;241m=\u001b[39m variable\u001b[38;5;241m.\u001b[39mdims\n\u001b[1;32m    653\u001b[0m     new_dims \u001b[38;5;241m=\u001b[39m broadcast_dims \u001b[38;5;241m+\u001b[39m core_dims\n",
      "File \u001b[0;32m~/miniconda3/envs/deep-snow/lib/python3.12/site-packages/xarray/core/variable.py:462\u001b[0m, in \u001b[0;36mVariable.data\u001b[0;34m(self)\u001b[0m\n\u001b[1;32m    460\u001b[0m     \u001b[38;5;28;01mreturn\u001b[39;00m \u001b[38;5;28mself\u001b[39m\u001b[38;5;241m.\u001b[39m_data\n\u001b[1;32m    461\u001b[0m \u001b[38;5;28;01melif\u001b[39;00m \u001b[38;5;28misinstance\u001b[39m(\u001b[38;5;28mself\u001b[39m\u001b[38;5;241m.\u001b[39m_data, indexing\u001b[38;5;241m.\u001b[39mExplicitlyIndexed):\n\u001b[0;32m--> 462\u001b[0m     \u001b[38;5;28;01mreturn\u001b[39;00m \u001b[38;5;28;43mself\u001b[39;49m\u001b[38;5;241;43m.\u001b[39;49m\u001b[43m_data\u001b[49m\u001b[38;5;241;43m.\u001b[39;49m\u001b[43mget_duck_array\u001b[49m\u001b[43m(\u001b[49m\u001b[43m)\u001b[49m\n\u001b[1;32m    463\u001b[0m \u001b[38;5;28;01melse\u001b[39;00m:\n\u001b[1;32m    464\u001b[0m     \u001b[38;5;28;01mreturn\u001b[39;00m \u001b[38;5;28mself\u001b[39m\u001b[38;5;241m.\u001b[39mvalues\n",
      "File \u001b[0;32m~/miniconda3/envs/deep-snow/lib/python3.12/site-packages/xarray/core/indexing.py:840\u001b[0m, in \u001b[0;36mMemoryCachedArray.get_duck_array\u001b[0;34m(self)\u001b[0m\n\u001b[1;32m    839\u001b[0m \u001b[38;5;28;01mdef\u001b[39;00m \u001b[38;5;21mget_duck_array\u001b[39m(\u001b[38;5;28mself\u001b[39m):\n\u001b[0;32m--> 840\u001b[0m     \u001b[38;5;28;43mself\u001b[39;49m\u001b[38;5;241;43m.\u001b[39;49m\u001b[43m_ensure_cached\u001b[49m\u001b[43m(\u001b[49m\u001b[43m)\u001b[49m\n\u001b[1;32m    841\u001b[0m     \u001b[38;5;28;01mreturn\u001b[39;00m \u001b[38;5;28mself\u001b[39m\u001b[38;5;241m.\u001b[39marray\u001b[38;5;241m.\u001b[39mget_duck_array()\n",
      "File \u001b[0;32m~/miniconda3/envs/deep-snow/lib/python3.12/site-packages/xarray/core/indexing.py:837\u001b[0m, in \u001b[0;36mMemoryCachedArray._ensure_cached\u001b[0;34m(self)\u001b[0m\n\u001b[1;32m    836\u001b[0m \u001b[38;5;28;01mdef\u001b[39;00m \u001b[38;5;21m_ensure_cached\u001b[39m(\u001b[38;5;28mself\u001b[39m):\n\u001b[0;32m--> 837\u001b[0m     \u001b[38;5;28mself\u001b[39m\u001b[38;5;241m.\u001b[39marray \u001b[38;5;241m=\u001b[39m as_indexable(\u001b[38;5;28;43mself\u001b[39;49m\u001b[38;5;241;43m.\u001b[39;49m\u001b[43marray\u001b[49m\u001b[38;5;241;43m.\u001b[39;49m\u001b[43mget_duck_array\u001b[49m\u001b[43m(\u001b[49m\u001b[43m)\u001b[49m)\n",
      "File \u001b[0;32m~/miniconda3/envs/deep-snow/lib/python3.12/site-packages/xarray/core/indexing.py:794\u001b[0m, in \u001b[0;36mCopyOnWriteArray.get_duck_array\u001b[0;34m(self)\u001b[0m\n\u001b[1;32m    793\u001b[0m \u001b[38;5;28;01mdef\u001b[39;00m \u001b[38;5;21mget_duck_array\u001b[39m(\u001b[38;5;28mself\u001b[39m):\n\u001b[0;32m--> 794\u001b[0m     \u001b[38;5;28;01mreturn\u001b[39;00m \u001b[38;5;28;43mself\u001b[39;49m\u001b[38;5;241;43m.\u001b[39;49m\u001b[43marray\u001b[49m\u001b[38;5;241;43m.\u001b[39;49m\u001b[43mget_duck_array\u001b[49m\u001b[43m(\u001b[49m\u001b[43m)\u001b[49m\n",
      "File \u001b[0;32m~/miniconda3/envs/deep-snow/lib/python3.12/site-packages/xarray/core/indexing.py:794\u001b[0m, in \u001b[0;36mCopyOnWriteArray.get_duck_array\u001b[0;34m(self)\u001b[0m\n\u001b[1;32m    793\u001b[0m \u001b[38;5;28;01mdef\u001b[39;00m \u001b[38;5;21mget_duck_array\u001b[39m(\u001b[38;5;28mself\u001b[39m):\n\u001b[0;32m--> 794\u001b[0m     \u001b[38;5;28;01mreturn\u001b[39;00m \u001b[38;5;28;43mself\u001b[39;49m\u001b[38;5;241;43m.\u001b[39;49m\u001b[43marray\u001b[49m\u001b[38;5;241;43m.\u001b[39;49m\u001b[43mget_duck_array\u001b[49m\u001b[43m(\u001b[49m\u001b[43m)\u001b[49m\n",
      "File \u001b[0;32m~/miniconda3/envs/deep-snow/lib/python3.12/site-packages/xarray/core/indexing.py:657\u001b[0m, in \u001b[0;36mLazilyIndexedArray.get_duck_array\u001b[0;34m(self)\u001b[0m\n\u001b[1;32m    653\u001b[0m     array \u001b[38;5;241m=\u001b[39m apply_indexer(\u001b[38;5;28mself\u001b[39m\u001b[38;5;241m.\u001b[39marray, \u001b[38;5;28mself\u001b[39m\u001b[38;5;241m.\u001b[39mkey)\n\u001b[1;32m    654\u001b[0m \u001b[38;5;28;01melse\u001b[39;00m:\n\u001b[1;32m    655\u001b[0m     \u001b[38;5;66;03m# If the array is not an ExplicitlyIndexedNDArrayMixin,\u001b[39;00m\n\u001b[1;32m    656\u001b[0m     \u001b[38;5;66;03m# it may wrap a BackendArray so use its __getitem__\u001b[39;00m\n\u001b[0;32m--> 657\u001b[0m     array \u001b[38;5;241m=\u001b[39m \u001b[38;5;28;43mself\u001b[39;49m\u001b[38;5;241;43m.\u001b[39;49m\u001b[43marray\u001b[49m\u001b[43m[\u001b[49m\u001b[38;5;28;43mself\u001b[39;49m\u001b[38;5;241;43m.\u001b[39;49m\u001b[43mkey\u001b[49m\u001b[43m]\u001b[49m\n\u001b[1;32m    659\u001b[0m \u001b[38;5;66;03m# self.array[self.key] is now a numpy array when\u001b[39;00m\n\u001b[1;32m    660\u001b[0m \u001b[38;5;66;03m# self.array is a BackendArray subclass\u001b[39;00m\n\u001b[1;32m    661\u001b[0m \u001b[38;5;66;03m# and self.key is BasicIndexer((slice(None, None, None),))\u001b[39;00m\n\u001b[1;32m    662\u001b[0m \u001b[38;5;66;03m# so we need the explicit check for ExplicitlyIndexed\u001b[39;00m\n\u001b[1;32m    663\u001b[0m \u001b[38;5;28;01mif\u001b[39;00m \u001b[38;5;28misinstance\u001b[39m(array, ExplicitlyIndexed):\n",
      "File \u001b[0;32m~/miniconda3/envs/deep-snow/lib/python3.12/site-packages/rioxarray/_io.py:455\u001b[0m, in \u001b[0;36mRasterioArrayWrapper.__getitem__\u001b[0;34m(self, key)\u001b[0m\n\u001b[1;32m    454\u001b[0m \u001b[38;5;28;01mdef\u001b[39;00m \u001b[38;5;21m__getitem__\u001b[39m(\u001b[38;5;28mself\u001b[39m, key):\n\u001b[0;32m--> 455\u001b[0m     \u001b[38;5;28;01mreturn\u001b[39;00m \u001b[43mindexing\u001b[49m\u001b[38;5;241;43m.\u001b[39;49m\u001b[43mexplicit_indexing_adapter\u001b[49m\u001b[43m(\u001b[49m\n\u001b[1;32m    456\u001b[0m \u001b[43m        \u001b[49m\u001b[43mkey\u001b[49m\u001b[43m,\u001b[49m\u001b[43m \u001b[49m\u001b[38;5;28;43mself\u001b[39;49m\u001b[38;5;241;43m.\u001b[39;49m\u001b[43mshape\u001b[49m\u001b[43m,\u001b[49m\u001b[43m \u001b[49m\u001b[43mindexing\u001b[49m\u001b[38;5;241;43m.\u001b[39;49m\u001b[43mIndexingSupport\u001b[49m\u001b[38;5;241;43m.\u001b[39;49m\u001b[43mOUTER\u001b[49m\u001b[43m,\u001b[49m\u001b[43m \u001b[49m\u001b[38;5;28;43mself\u001b[39;49m\u001b[38;5;241;43m.\u001b[39;49m\u001b[43m_getitem\u001b[49m\n\u001b[1;32m    457\u001b[0m \u001b[43m    \u001b[49m\u001b[43m)\u001b[49m\n",
      "File \u001b[0;32m~/miniconda3/envs/deep-snow/lib/python3.12/site-packages/xarray/core/indexing.py:1018\u001b[0m, in \u001b[0;36mexplicit_indexing_adapter\u001b[0;34m(key, shape, indexing_support, raw_indexing_method)\u001b[0m\n\u001b[1;32m    996\u001b[0m \u001b[38;5;250m\u001b[39m\u001b[38;5;124;03m\"\"\"Support explicit indexing by delegating to a raw indexing method.\u001b[39;00m\n\u001b[1;32m    997\u001b[0m \n\u001b[1;32m    998\u001b[0m \u001b[38;5;124;03mOuter and/or vectorized indexers are supported by indexing a second time\u001b[39;00m\n\u001b[0;32m   (...)\u001b[0m\n\u001b[1;32m   1015\u001b[0m \u001b[38;5;124;03mIndexing result, in the form of a duck numpy-array.\u001b[39;00m\n\u001b[1;32m   1016\u001b[0m \u001b[38;5;124;03m\"\"\"\u001b[39;00m\n\u001b[1;32m   1017\u001b[0m raw_key, numpy_indices \u001b[38;5;241m=\u001b[39m decompose_indexer(key, shape, indexing_support)\n\u001b[0;32m-> 1018\u001b[0m result \u001b[38;5;241m=\u001b[39m \u001b[43mraw_indexing_method\u001b[49m\u001b[43m(\u001b[49m\u001b[43mraw_key\u001b[49m\u001b[38;5;241;43m.\u001b[39;49m\u001b[43mtuple\u001b[49m\u001b[43m)\u001b[49m\n\u001b[1;32m   1019\u001b[0m \u001b[38;5;28;01mif\u001b[39;00m numpy_indices\u001b[38;5;241m.\u001b[39mtuple:\n\u001b[1;32m   1020\u001b[0m     \u001b[38;5;66;03m# index the loaded np.ndarray\u001b[39;00m\n\u001b[1;32m   1021\u001b[0m     indexable \u001b[38;5;241m=\u001b[39m NumpyIndexingAdapter(result)\n",
      "File \u001b[0;32m~/miniconda3/envs/deep-snow/lib/python3.12/site-packages/rioxarray/_io.py:422\u001b[0m, in \u001b[0;36mRasterioArrayWrapper._getitem\u001b[0;34m(self, key)\u001b[0m\n\u001b[1;32m    421\u001b[0m \u001b[38;5;28;01mdef\u001b[39;00m \u001b[38;5;21m_getitem\u001b[39m(\u001b[38;5;28mself\u001b[39m, key):\n\u001b[0;32m--> 422\u001b[0m     band_key, window, squeeze_axis, np_inds \u001b[38;5;241m=\u001b[39m \u001b[38;5;28;43mself\u001b[39;49m\u001b[38;5;241;43m.\u001b[39;49m\u001b[43m_get_indexer\u001b[49m\u001b[43m(\u001b[49m\u001b[43mkey\u001b[49m\u001b[43m)\u001b[49m\n\u001b[1;32m    423\u001b[0m     \u001b[38;5;28;01mif\u001b[39;00m \u001b[38;5;129;01mnot\u001b[39;00m band_key \u001b[38;5;129;01mor\u001b[39;00m \u001b[38;5;28many\u001b[39m(start \u001b[38;5;241m==\u001b[39m stop \u001b[38;5;28;01mfor\u001b[39;00m (start, stop) \u001b[38;5;129;01min\u001b[39;00m window):\n\u001b[1;32m    424\u001b[0m         \u001b[38;5;66;03m# no need to do IO\u001b[39;00m\n\u001b[1;32m    425\u001b[0m         shape \u001b[38;5;241m=\u001b[39m (\u001b[38;5;28mlen\u001b[39m(band_key),) \u001b[38;5;241m+\u001b[39m \u001b[38;5;28mtuple\u001b[39m(stop \u001b[38;5;241m-\u001b[39m start \u001b[38;5;28;01mfor\u001b[39;00m (start, stop) \u001b[38;5;129;01min\u001b[39;00m window)\n",
      "File \u001b[0;32m~/miniconda3/envs/deep-snow/lib/python3.12/site-packages/rioxarray/_io.py:411\u001b[0m, in \u001b[0;36mRasterioArrayWrapper._get_indexer\u001b[0;34m(self, key)\u001b[0m\n\u001b[1;32m    409\u001b[0m     stop \u001b[38;5;241m=\u001b[39m ikey \u001b[38;5;241m+\u001b[39m \u001b[38;5;241m1\u001b[39m\n\u001b[1;32m    410\u001b[0m \u001b[38;5;28;01melse\u001b[39;00m:\n\u001b[0;32m--> 411\u001b[0m     start, stop \u001b[38;5;241m=\u001b[39m \u001b[43mnumpy\u001b[49m\u001b[38;5;241;43m.\u001b[39;49m\u001b[43mmin\u001b[49m\u001b[43m(\u001b[49m\u001b[43mikey\u001b[49m\u001b[43m)\u001b[49m, numpy\u001b[38;5;241m.\u001b[39mmax(ikey) \u001b[38;5;241m+\u001b[39m \u001b[38;5;241m1\u001b[39m\n\u001b[1;32m    412\u001b[0m     np_inds\u001b[38;5;241m.\u001b[39mappend(ikey \u001b[38;5;241m-\u001b[39m start)\n\u001b[1;32m    413\u001b[0m window\u001b[38;5;241m.\u001b[39mappend((start, stop))\n",
      "File \u001b[0;32m~/miniconda3/envs/deep-snow/lib/python3.12/site-packages/numpy/_core/fromnumeric.py:3343\u001b[0m, in \u001b[0;36mmin\u001b[0;34m(a, axis, out, keepdims, initial, where)\u001b[0m\n\u001b[1;32m   3225\u001b[0m \u001b[38;5;129m@array_function_dispatch\u001b[39m(_min_dispatcher)\n\u001b[1;32m   3226\u001b[0m \u001b[38;5;28;01mdef\u001b[39;00m \u001b[38;5;21mmin\u001b[39m(a, axis\u001b[38;5;241m=\u001b[39m\u001b[38;5;28;01mNone\u001b[39;00m, out\u001b[38;5;241m=\u001b[39m\u001b[38;5;28;01mNone\u001b[39;00m, keepdims\u001b[38;5;241m=\u001b[39mnp\u001b[38;5;241m.\u001b[39m_NoValue, initial\u001b[38;5;241m=\u001b[39mnp\u001b[38;5;241m.\u001b[39m_NoValue,\n\u001b[1;32m   3227\u001b[0m         where\u001b[38;5;241m=\u001b[39mnp\u001b[38;5;241m.\u001b[39m_NoValue):\n\u001b[1;32m   3228\u001b[0m \u001b[38;5;250m    \u001b[39m\u001b[38;5;124;03m\"\"\"\u001b[39;00m\n\u001b[1;32m   3229\u001b[0m \u001b[38;5;124;03m    Return the minimum of an array or minimum along an axis.\u001b[39;00m\n\u001b[1;32m   3230\u001b[0m \n\u001b[0;32m   (...)\u001b[0m\n\u001b[1;32m   3341\u001b[0m \u001b[38;5;124;03m    6\u001b[39;00m\n\u001b[1;32m   3342\u001b[0m \u001b[38;5;124;03m    \"\"\"\u001b[39;00m\n\u001b[0;32m-> 3343\u001b[0m     \u001b[38;5;28;01mreturn\u001b[39;00m \u001b[43m_wrapreduction\u001b[49m\u001b[43m(\u001b[49m\u001b[43ma\u001b[49m\u001b[43m,\u001b[49m\u001b[43m \u001b[49m\u001b[43mnp\u001b[49m\u001b[38;5;241;43m.\u001b[39;49m\u001b[43mminimum\u001b[49m\u001b[43m,\u001b[49m\u001b[43m \u001b[49m\u001b[38;5;124;43m'\u001b[39;49m\u001b[38;5;124;43mmin\u001b[39;49m\u001b[38;5;124;43m'\u001b[39;49m\u001b[43m,\u001b[49m\u001b[43m \u001b[49m\u001b[43maxis\u001b[49m\u001b[43m,\u001b[49m\u001b[43m \u001b[49m\u001b[38;5;28;43;01mNone\u001b[39;49;00m\u001b[43m,\u001b[49m\u001b[43m \u001b[49m\u001b[43mout\u001b[49m\u001b[43m,\u001b[49m\n\u001b[1;32m   3344\u001b[0m \u001b[43m                          \u001b[49m\u001b[43mkeepdims\u001b[49m\u001b[38;5;241;43m=\u001b[39;49m\u001b[43mkeepdims\u001b[49m\u001b[43m,\u001b[49m\u001b[43m \u001b[49m\u001b[43minitial\u001b[49m\u001b[38;5;241;43m=\u001b[39;49m\u001b[43minitial\u001b[49m\u001b[43m,\u001b[49m\u001b[43m \u001b[49m\u001b[43mwhere\u001b[49m\u001b[38;5;241;43m=\u001b[39;49m\u001b[43mwhere\u001b[49m\u001b[43m)\u001b[49m\n",
      "File \u001b[0;32m~/miniconda3/envs/deep-snow/lib/python3.12/site-packages/numpy/_core/fromnumeric.py:86\u001b[0m, in \u001b[0;36m_wrapreduction\u001b[0;34m(obj, ufunc, method, axis, dtype, out, **kwargs)\u001b[0m\n\u001b[1;32m     83\u001b[0m         \u001b[38;5;28;01melse\u001b[39;00m:\n\u001b[1;32m     84\u001b[0m             \u001b[38;5;28;01mreturn\u001b[39;00m reduction(axis\u001b[38;5;241m=\u001b[39maxis, out\u001b[38;5;241m=\u001b[39mout, \u001b[38;5;241m*\u001b[39m\u001b[38;5;241m*\u001b[39mpasskwargs)\n\u001b[0;32m---> 86\u001b[0m \u001b[38;5;28;01mreturn\u001b[39;00m \u001b[43mufunc\u001b[49m\u001b[38;5;241;43m.\u001b[39;49m\u001b[43mreduce\u001b[49m\u001b[43m(\u001b[49m\u001b[43mobj\u001b[49m\u001b[43m,\u001b[49m\u001b[43m \u001b[49m\u001b[43maxis\u001b[49m\u001b[43m,\u001b[49m\u001b[43m \u001b[49m\u001b[43mdtype\u001b[49m\u001b[43m,\u001b[49m\u001b[43m \u001b[49m\u001b[43mout\u001b[49m\u001b[43m,\u001b[49m\u001b[43m \u001b[49m\u001b[38;5;241;43m*\u001b[39;49m\u001b[38;5;241;43m*\u001b[39;49m\u001b[43mpasskwargs\u001b[49m\u001b[43m)\u001b[49m\n",
      "\u001b[0;31mValueError\u001b[0m: zero-size array to reduction operation minimum which has no identity"
     ]
    }
   ],
   "source": [
    "ds.where(ds['sno_sd'] == 6, drop=True)"
   ]
  },
  {
   "cell_type": "code",
   "execution_count": 125,
   "metadata": {},
   "outputs": [
    {
     "data": {
      "text/html": [
       "<div><svg style=\"position: absolute; width: 0; height: 0; overflow: hidden\">\n",
       "<defs>\n",
       "<symbol id=\"icon-database\" viewBox=\"0 0 32 32\">\n",
       "<path d=\"M16 0c-8.837 0-16 2.239-16 5v4c0 2.761 7.163 5 16 5s16-2.239 16-5v-4c0-2.761-7.163-5-16-5z\"></path>\n",
       "<path d=\"M16 17c-8.837 0-16-2.239-16-5v6c0 2.761 7.163 5 16 5s16-2.239 16-5v-6c0 2.761-7.163 5-16 5z\"></path>\n",
       "<path d=\"M16 26c-8.837 0-16-2.239-16-5v6c0 2.761 7.163 5 16 5s16-2.239 16-5v-6c0 2.761-7.163 5-16 5z\"></path>\n",
       "</symbol>\n",
       "<symbol id=\"icon-file-text2\" viewBox=\"0 0 32 32\">\n",
       "<path d=\"M28.681 7.159c-0.694-0.947-1.662-2.053-2.724-3.116s-2.169-2.030-3.116-2.724c-1.612-1.182-2.393-1.319-2.841-1.319h-15.5c-1.378 0-2.5 1.121-2.5 2.5v27c0 1.378 1.122 2.5 2.5 2.5h23c1.378 0 2.5-1.122 2.5-2.5v-19.5c0-0.448-0.137-1.23-1.319-2.841zM24.543 5.457c0.959 0.959 1.712 1.825 2.268 2.543h-4.811v-4.811c0.718 0.556 1.584 1.309 2.543 2.268zM28 29.5c0 0.271-0.229 0.5-0.5 0.5h-23c-0.271 0-0.5-0.229-0.5-0.5v-27c0-0.271 0.229-0.5 0.5-0.5 0 0 15.499-0 15.5 0v7c0 0.552 0.448 1 1 1h7v19.5z\"></path>\n",
       "<path d=\"M23 26h-14c-0.552 0-1-0.448-1-1s0.448-1 1-1h14c0.552 0 1 0.448 1 1s-0.448 1-1 1z\"></path>\n",
       "<path d=\"M23 22h-14c-0.552 0-1-0.448-1-1s0.448-1 1-1h14c0.552 0 1 0.448 1 1s-0.448 1-1 1z\"></path>\n",
       "<path d=\"M23 18h-14c-0.552 0-1-0.448-1-1s0.448-1 1-1h14c0.552 0 1 0.448 1 1s-0.448 1-1 1z\"></path>\n",
       "</symbol>\n",
       "</defs>\n",
       "</svg>\n",
       "<style>/* CSS stylesheet for displaying xarray objects in jupyterlab.\n",
       " *\n",
       " */\n",
       "\n",
       ":root {\n",
       "  --xr-font-color0: var(--jp-content-font-color0, rgba(0, 0, 0, 1));\n",
       "  --xr-font-color2: var(--jp-content-font-color2, rgba(0, 0, 0, 0.54));\n",
       "  --xr-font-color3: var(--jp-content-font-color3, rgba(0, 0, 0, 0.38));\n",
       "  --xr-border-color: var(--jp-border-color2, #e0e0e0);\n",
       "  --xr-disabled-color: var(--jp-layout-color3, #bdbdbd);\n",
       "  --xr-background-color: var(--jp-layout-color0, white);\n",
       "  --xr-background-color-row-even: var(--jp-layout-color1, white);\n",
       "  --xr-background-color-row-odd: var(--jp-layout-color2, #eeeeee);\n",
       "}\n",
       "\n",
       "html[theme=dark],\n",
       "html[data-theme=dark],\n",
       "body[data-theme=dark],\n",
       "body.vscode-dark {\n",
       "  --xr-font-color0: rgba(255, 255, 255, 1);\n",
       "  --xr-font-color2: rgba(255, 255, 255, 0.54);\n",
       "  --xr-font-color3: rgba(255, 255, 255, 0.38);\n",
       "  --xr-border-color: #1F1F1F;\n",
       "  --xr-disabled-color: #515151;\n",
       "  --xr-background-color: #111111;\n",
       "  --xr-background-color-row-even: #111111;\n",
       "  --xr-background-color-row-odd: #313131;\n",
       "}\n",
       "\n",
       ".xr-wrap {\n",
       "  display: block !important;\n",
       "  min-width: 300px;\n",
       "  max-width: 700px;\n",
       "}\n",
       "\n",
       ".xr-text-repr-fallback {\n",
       "  /* fallback to plain text repr when CSS is not injected (untrusted notebook) */\n",
       "  display: none;\n",
       "}\n",
       "\n",
       ".xr-header {\n",
       "  padding-top: 6px;\n",
       "  padding-bottom: 6px;\n",
       "  margin-bottom: 4px;\n",
       "  border-bottom: solid 1px var(--xr-border-color);\n",
       "}\n",
       "\n",
       ".xr-header > div,\n",
       ".xr-header > ul {\n",
       "  display: inline;\n",
       "  margin-top: 0;\n",
       "  margin-bottom: 0;\n",
       "}\n",
       "\n",
       ".xr-obj-type,\n",
       ".xr-array-name {\n",
       "  margin-left: 2px;\n",
       "  margin-right: 10px;\n",
       "}\n",
       "\n",
       ".xr-obj-type {\n",
       "  color: var(--xr-font-color2);\n",
       "}\n",
       "\n",
       ".xr-sections {\n",
       "  padding-left: 0 !important;\n",
       "  display: grid;\n",
       "  grid-template-columns: 150px auto auto 1fr 0 20px 0 20px;\n",
       "}\n",
       "\n",
       ".xr-section-item {\n",
       "  display: contents;\n",
       "}\n",
       "\n",
       ".xr-section-item input {\n",
       "  display: inline-block;\n",
       "  opacity: 0;\n",
       "}\n",
       "\n",
       ".xr-section-item input + label {\n",
       "  color: var(--xr-disabled-color);\n",
       "}\n",
       "\n",
       ".xr-section-item input:enabled + label {\n",
       "  cursor: pointer;\n",
       "  color: var(--xr-font-color2);\n",
       "}\n",
       "\n",
       ".xr-section-item input:focus + label {\n",
       "  border: 2px solid var(--xr-font-color0);\n",
       "}\n",
       "\n",
       ".xr-section-item input:enabled + label:hover {\n",
       "  color: var(--xr-font-color0);\n",
       "}\n",
       "\n",
       ".xr-section-summary {\n",
       "  grid-column: 1;\n",
       "  color: var(--xr-font-color2);\n",
       "  font-weight: 500;\n",
       "}\n",
       "\n",
       ".xr-section-summary > span {\n",
       "  display: inline-block;\n",
       "  padding-left: 0.5em;\n",
       "}\n",
       "\n",
       ".xr-section-summary-in:disabled + label {\n",
       "  color: var(--xr-font-color2);\n",
       "}\n",
       "\n",
       ".xr-section-summary-in + label:before {\n",
       "  display: inline-block;\n",
       "  content: '►';\n",
       "  font-size: 11px;\n",
       "  width: 15px;\n",
       "  text-align: center;\n",
       "}\n",
       "\n",
       ".xr-section-summary-in:disabled + label:before {\n",
       "  color: var(--xr-disabled-color);\n",
       "}\n",
       "\n",
       ".xr-section-summary-in:checked + label:before {\n",
       "  content: '▼';\n",
       "}\n",
       "\n",
       ".xr-section-summary-in:checked + label > span {\n",
       "  display: none;\n",
       "}\n",
       "\n",
       ".xr-section-summary,\n",
       ".xr-section-inline-details {\n",
       "  padding-top: 4px;\n",
       "  padding-bottom: 4px;\n",
       "}\n",
       "\n",
       ".xr-section-inline-details {\n",
       "  grid-column: 2 / -1;\n",
       "}\n",
       "\n",
       ".xr-section-details {\n",
       "  display: none;\n",
       "  grid-column: 1 / -1;\n",
       "  margin-bottom: 5px;\n",
       "}\n",
       "\n",
       ".xr-section-summary-in:checked ~ .xr-section-details {\n",
       "  display: contents;\n",
       "}\n",
       "\n",
       ".xr-array-wrap {\n",
       "  grid-column: 1 / -1;\n",
       "  display: grid;\n",
       "  grid-template-columns: 20px auto;\n",
       "}\n",
       "\n",
       ".xr-array-wrap > label {\n",
       "  grid-column: 1;\n",
       "  vertical-align: top;\n",
       "}\n",
       "\n",
       ".xr-preview {\n",
       "  color: var(--xr-font-color3);\n",
       "}\n",
       "\n",
       ".xr-array-preview,\n",
       ".xr-array-data {\n",
       "  padding: 0 5px !important;\n",
       "  grid-column: 2;\n",
       "}\n",
       "\n",
       ".xr-array-data,\n",
       ".xr-array-in:checked ~ .xr-array-preview {\n",
       "  display: none;\n",
       "}\n",
       "\n",
       ".xr-array-in:checked ~ .xr-array-data,\n",
       ".xr-array-preview {\n",
       "  display: inline-block;\n",
       "}\n",
       "\n",
       ".xr-dim-list {\n",
       "  display: inline-block !important;\n",
       "  list-style: none;\n",
       "  padding: 0 !important;\n",
       "  margin: 0;\n",
       "}\n",
       "\n",
       ".xr-dim-list li {\n",
       "  display: inline-block;\n",
       "  padding: 0;\n",
       "  margin: 0;\n",
       "}\n",
       "\n",
       ".xr-dim-list:before {\n",
       "  content: '(';\n",
       "}\n",
       "\n",
       ".xr-dim-list:after {\n",
       "  content: ')';\n",
       "}\n",
       "\n",
       ".xr-dim-list li:not(:last-child):after {\n",
       "  content: ',';\n",
       "  padding-right: 5px;\n",
       "}\n",
       "\n",
       ".xr-has-index {\n",
       "  font-weight: bold;\n",
       "}\n",
       "\n",
       ".xr-var-list,\n",
       ".xr-var-item {\n",
       "  display: contents;\n",
       "}\n",
       "\n",
       ".xr-var-item > div,\n",
       ".xr-var-item label,\n",
       ".xr-var-item > .xr-var-name span {\n",
       "  background-color: var(--xr-background-color-row-even);\n",
       "  margin-bottom: 0;\n",
       "}\n",
       "\n",
       ".xr-var-item > .xr-var-name:hover span {\n",
       "  padding-right: 5px;\n",
       "}\n",
       "\n",
       ".xr-var-list > li:nth-child(odd) > div,\n",
       ".xr-var-list > li:nth-child(odd) > label,\n",
       ".xr-var-list > li:nth-child(odd) > .xr-var-name span {\n",
       "  background-color: var(--xr-background-color-row-odd);\n",
       "}\n",
       "\n",
       ".xr-var-name {\n",
       "  grid-column: 1;\n",
       "}\n",
       "\n",
       ".xr-var-dims {\n",
       "  grid-column: 2;\n",
       "}\n",
       "\n",
       ".xr-var-dtype {\n",
       "  grid-column: 3;\n",
       "  text-align: right;\n",
       "  color: var(--xr-font-color2);\n",
       "}\n",
       "\n",
       ".xr-var-preview {\n",
       "  grid-column: 4;\n",
       "}\n",
       "\n",
       ".xr-index-preview {\n",
       "  grid-column: 2 / 5;\n",
       "  color: var(--xr-font-color2);\n",
       "}\n",
       "\n",
       ".xr-var-name,\n",
       ".xr-var-dims,\n",
       ".xr-var-dtype,\n",
       ".xr-preview,\n",
       ".xr-attrs dt {\n",
       "  white-space: nowrap;\n",
       "  overflow: hidden;\n",
       "  text-overflow: ellipsis;\n",
       "  padding-right: 10px;\n",
       "}\n",
       "\n",
       ".xr-var-name:hover,\n",
       ".xr-var-dims:hover,\n",
       ".xr-var-dtype:hover,\n",
       ".xr-attrs dt:hover {\n",
       "  overflow: visible;\n",
       "  width: auto;\n",
       "  z-index: 1;\n",
       "}\n",
       "\n",
       ".xr-var-attrs,\n",
       ".xr-var-data,\n",
       ".xr-index-data {\n",
       "  display: none;\n",
       "  background-color: var(--xr-background-color) !important;\n",
       "  padding-bottom: 5px !important;\n",
       "}\n",
       "\n",
       ".xr-var-attrs-in:checked ~ .xr-var-attrs,\n",
       ".xr-var-data-in:checked ~ .xr-var-data,\n",
       ".xr-index-data-in:checked ~ .xr-index-data {\n",
       "  display: block;\n",
       "}\n",
       "\n",
       ".xr-var-data > table {\n",
       "  float: right;\n",
       "}\n",
       "\n",
       ".xr-var-name span,\n",
       ".xr-var-data,\n",
       ".xr-index-name div,\n",
       ".xr-index-data,\n",
       ".xr-attrs {\n",
       "  padding-left: 25px !important;\n",
       "}\n",
       "\n",
       ".xr-attrs,\n",
       ".xr-var-attrs,\n",
       ".xr-var-data,\n",
       ".xr-index-data {\n",
       "  grid-column: 1 / -1;\n",
       "}\n",
       "\n",
       "dl.xr-attrs {\n",
       "  padding: 0;\n",
       "  margin: 0;\n",
       "  display: grid;\n",
       "  grid-template-columns: 125px auto;\n",
       "}\n",
       "\n",
       ".xr-attrs dt,\n",
       ".xr-attrs dd {\n",
       "  padding: 0;\n",
       "  margin: 0;\n",
       "  float: left;\n",
       "  padding-right: 10px;\n",
       "  width: auto;\n",
       "}\n",
       "\n",
       ".xr-attrs dt {\n",
       "  font-weight: normal;\n",
       "  grid-column: 1;\n",
       "}\n",
       "\n",
       ".xr-attrs dt:hover span {\n",
       "  display: inline-block;\n",
       "  background: var(--xr-background-color);\n",
       "  padding-right: 10px;\n",
       "}\n",
       "\n",
       ".xr-attrs dd {\n",
       "  grid-column: 2;\n",
       "  white-space: pre-wrap;\n",
       "  word-break: break-all;\n",
       "}\n",
       "\n",
       ".xr-icon-database,\n",
       ".xr-icon-file-text2,\n",
       ".xr-no-icon {\n",
       "  display: inline-block;\n",
       "  vertical-align: middle;\n",
       "  width: 1em;\n",
       "  height: 1.5em !important;\n",
       "  stroke-width: 0;\n",
       "  stroke: currentColor;\n",
       "  fill: currentColor;\n",
       "}\n",
       "</style><pre class='xr-text-repr-fallback'>&lt;xarray.Dataset&gt; Size: 36B\n",
       "Dimensions:      (band: 1)\n",
       "Coordinates:\n",
       "  * band         (band) int64 8B 1\n",
       "    x            float64 8B -120.0\n",
       "    y            float64 8B 38.69\n",
       "    spatial_ref  int64 8B ...\n",
       "Data variables:\n",
       "    band_data    (band) float32 4B ...</pre><div class='xr-wrap' style='display:none'><div class='xr-header'><div class='xr-obj-type'>xarray.Dataset</div></div><ul class='xr-sections'><li class='xr-section-item'><input id='section-79693d2f-de34-4ebb-881e-337de0c630a5' class='xr-section-summary-in' type='checkbox' disabled ><label for='section-79693d2f-de34-4ebb-881e-337de0c630a5' class='xr-section-summary'  title='Expand/collapse section'>Dimensions:</label><div class='xr-section-inline-details'><ul class='xr-dim-list'><li><span class='xr-has-index'>band</span>: 1</li></ul></div><div class='xr-section-details'></div></li><li class='xr-section-item'><input id='section-5047bac4-d09e-4549-a347-11b01836dfb4' class='xr-section-summary-in' type='checkbox'  checked><label for='section-5047bac4-d09e-4549-a347-11b01836dfb4' class='xr-section-summary' >Coordinates: <span>(4)</span></label><div class='xr-section-inline-details'></div><div class='xr-section-details'><ul class='xr-var-list'><li class='xr-var-item'><div class='xr-var-name'><span class='xr-has-index'>band</span></div><div class='xr-var-dims'>(band)</div><div class='xr-var-dtype'>int64</div><div class='xr-var-preview xr-preview'>1</div><input id='attrs-ca794570-f758-4aa9-8071-f68092ea6f05' class='xr-var-attrs-in' type='checkbox' disabled><label for='attrs-ca794570-f758-4aa9-8071-f68092ea6f05' title='Show/Hide attributes'><svg class='icon xr-icon-file-text2'><use xlink:href='#icon-file-text2'></use></svg></label><input id='data-a47777e7-4776-4b9d-a354-2e1406a87c35' class='xr-var-data-in' type='checkbox'><label for='data-a47777e7-4776-4b9d-a354-2e1406a87c35' title='Show/Hide data repr'><svg class='icon xr-icon-database'><use xlink:href='#icon-database'></use></svg></label><div class='xr-var-attrs'><dl class='xr-attrs'></dl></div><div class='xr-var-data'><pre>array([1])</pre></div></li><li class='xr-var-item'><div class='xr-var-name'><span>x</span></div><div class='xr-var-dims'>()</div><div class='xr-var-dtype'>float64</div><div class='xr-var-preview xr-preview'>-120.0</div><input id='attrs-1aab8154-8c99-45c9-8daf-746445430e35' class='xr-var-attrs-in' type='checkbox' disabled><label for='attrs-1aab8154-8c99-45c9-8daf-746445430e35' title='Show/Hide attributes'><svg class='icon xr-icon-file-text2'><use xlink:href='#icon-file-text2'></use></svg></label><input id='data-c209bffc-8f61-4d0d-82f7-c4bda60b04e7' class='xr-var-data-in' type='checkbox'><label for='data-c209bffc-8f61-4d0d-82f7-c4bda60b04e7' title='Show/Hide data repr'><svg class='icon xr-icon-database'><use xlink:href='#icon-database'></use></svg></label><div class='xr-var-attrs'><dl class='xr-attrs'></dl></div><div class='xr-var-data'><pre>array(-120.00212718)</pre></div></li><li class='xr-var-item'><div class='xr-var-name'><span>y</span></div><div class='xr-var-dims'>()</div><div class='xr-var-dtype'>float64</div><div class='xr-var-preview xr-preview'>38.69</div><input id='attrs-018b9b45-b2ce-4001-bd1e-148a037df0ec' class='xr-var-attrs-in' type='checkbox' disabled><label for='attrs-018b9b45-b2ce-4001-bd1e-148a037df0ec' title='Show/Hide attributes'><svg class='icon xr-icon-file-text2'><use xlink:href='#icon-file-text2'></use></svg></label><input id='data-f4539db8-4473-426c-8b67-aa51ab789651' class='xr-var-data-in' type='checkbox'><label for='data-f4539db8-4473-426c-8b67-aa51ab789651' title='Show/Hide data repr'><svg class='icon xr-icon-database'><use xlink:href='#icon-database'></use></svg></label><div class='xr-var-attrs'><dl class='xr-attrs'></dl></div><div class='xr-var-data'><pre>array(38.69269067)</pre></div></li><li class='xr-var-item'><div class='xr-var-name'><span>spatial_ref</span></div><div class='xr-var-dims'>()</div><div class='xr-var-dtype'>int64</div><div class='xr-var-preview xr-preview'>...</div><input id='attrs-80da5908-f2ea-44b2-8050-8135aa0f50f9' class='xr-var-attrs-in' type='checkbox' ><label for='attrs-80da5908-f2ea-44b2-8050-8135aa0f50f9' title='Show/Hide attributes'><svg class='icon xr-icon-file-text2'><use xlink:href='#icon-file-text2'></use></svg></label><input id='data-a4d95423-12d7-4435-a0cb-0d9bc61caf28' class='xr-var-data-in' type='checkbox'><label for='data-a4d95423-12d7-4435-a0cb-0d9bc61caf28' title='Show/Hide data repr'><svg class='icon xr-icon-database'><use xlink:href='#icon-database'></use></svg></label><div class='xr-var-attrs'><dl class='xr-attrs'><dt><span>crs_wkt :</span></dt><dd>GEOGCS[&quot;WGS 84&quot;,DATUM[&quot;WGS_1984&quot;,SPHEROID[&quot;WGS 84&quot;,6378137,298.257223563,AUTHORITY[&quot;EPSG&quot;,&quot;7030&quot;]],AUTHORITY[&quot;EPSG&quot;,&quot;6326&quot;]],PRIMEM[&quot;Greenwich&quot;,0,AUTHORITY[&quot;EPSG&quot;,&quot;8901&quot;]],UNIT[&quot;degree&quot;,0.0174532925199433,AUTHORITY[&quot;EPSG&quot;,&quot;9122&quot;]],AXIS[&quot;Latitude&quot;,NORTH],AXIS[&quot;Longitude&quot;,EAST],AUTHORITY[&quot;EPSG&quot;,&quot;4326&quot;]]</dd><dt><span>semi_major_axis :</span></dt><dd>6378137.0</dd><dt><span>semi_minor_axis :</span></dt><dd>6356752.314245179</dd><dt><span>inverse_flattening :</span></dt><dd>298.257223563</dd><dt><span>reference_ellipsoid_name :</span></dt><dd>WGS 84</dd><dt><span>longitude_of_prime_meridian :</span></dt><dd>0.0</dd><dt><span>prime_meridian_name :</span></dt><dd>Greenwich</dd><dt><span>geographic_crs_name :</span></dt><dd>WGS 84</dd><dt><span>horizontal_datum_name :</span></dt><dd>World Geodetic System 1984</dd><dt><span>grid_mapping_name :</span></dt><dd>latitude_longitude</dd><dt><span>spatial_ref :</span></dt><dd>GEOGCS[&quot;WGS 84&quot;,DATUM[&quot;WGS_1984&quot;,SPHEROID[&quot;WGS 84&quot;,6378137,298.257223563,AUTHORITY[&quot;EPSG&quot;,&quot;7030&quot;]],AUTHORITY[&quot;EPSG&quot;,&quot;6326&quot;]],PRIMEM[&quot;Greenwich&quot;,0,AUTHORITY[&quot;EPSG&quot;,&quot;8901&quot;]],UNIT[&quot;degree&quot;,0.0174532925199433,AUTHORITY[&quot;EPSG&quot;,&quot;9122&quot;]],AXIS[&quot;Latitude&quot;,NORTH],AXIS[&quot;Longitude&quot;,EAST],AUTHORITY[&quot;EPSG&quot;,&quot;4326&quot;]]</dd><dt><span>GeoTransform :</span></dt><dd>-120.01876517383754 0.0005119383546738094 0.0 38.705745094765845 0.0 -0.0005119383546737866</dd></dl></div><div class='xr-var-data'><pre>[1 values with dtype=int64]</pre></div></li></ul></div></li><li class='xr-section-item'><input id='section-f88805f9-a4f4-43f6-83cc-b1f956c6c743' class='xr-section-summary-in' type='checkbox'  checked><label for='section-f88805f9-a4f4-43f6-83cc-b1f956c6c743' class='xr-section-summary' >Data variables: <span>(1)</span></label><div class='xr-section-inline-details'></div><div class='xr-section-details'><ul class='xr-var-list'><li class='xr-var-item'><div class='xr-var-name'><span>band_data</span></div><div class='xr-var-dims'>(band)</div><div class='xr-var-dtype'>float32</div><div class='xr-var-preview xr-preview'>...</div><input id='attrs-b56a6f75-9c2e-479a-b62f-a176d34db9a1' class='xr-var-attrs-in' type='checkbox' ><label for='attrs-b56a6f75-9c2e-479a-b62f-a176d34db9a1' title='Show/Hide attributes'><svg class='icon xr-icon-file-text2'><use xlink:href='#icon-file-text2'></use></svg></label><input id='data-d8d8ca64-b843-466d-a75d-efbfdbbf10d2' class='xr-var-data-in' type='checkbox'><label for='data-d8d8ca64-b843-466d-a75d-efbfdbbf10d2' title='Show/Hide data repr'><svg class='icon xr-icon-database'><use xlink:href='#icon-database'></use></svg></label><div class='xr-var-attrs'><dl class='xr-attrs'><dt><span>AREA_OR_POINT :</span></dt><dd>Area</dd><dt><span>long_name :</span></dt><dd>aso_sd</dd></dl></div><div class='xr-var-data'><pre>[1 values with dtype=float32]</pre></div></li></ul></div></li><li class='xr-section-item'><input id='section-3cbb1735-952e-402b-9b6c-926c8aa4eda9' class='xr-section-summary-in' type='checkbox'  ><label for='section-3cbb1735-952e-402b-9b6c-926c8aa4eda9' class='xr-section-summary' >Indexes: <span>(1)</span></label><div class='xr-section-inline-details'></div><div class='xr-section-details'><ul class='xr-var-list'><li class='xr-var-item'><div class='xr-index-name'><div>band</div></div><div class='xr-index-preview'>PandasIndex</div><div></div><input id='index-03d3eb9c-670d-4072-b3d1-01ea7deaf1ee' class='xr-index-data-in' type='checkbox'/><label for='index-03d3eb9c-670d-4072-b3d1-01ea7deaf1ee' title='Show/Hide index repr'><svg class='icon xr-icon-database'><use xlink:href='#icon-database'></use></svg></label><div class='xr-index-data'><pre>PandasIndex(Index([1], dtype=&#x27;int64&#x27;, name=&#x27;band&#x27;))</pre></div></li></ul></div></li><li class='xr-section-item'><input id='section-6e6bae2e-2d8b-47ed-a32f-64244e07e401' class='xr-section-summary-in' type='checkbox' disabled ><label for='section-6e6bae2e-2d8b-47ed-a32f-64244e07e401' class='xr-section-summary'  title='Expand/collapse section'>Attributes: <span>(0)</span></label><div class='xr-section-inline-details'></div><div class='xr-section-details'><dl class='xr-attrs'></dl></div></li></ul></div></div>"
      ],
      "text/plain": [
       "<xarray.Dataset> Size: 36B\n",
       "Dimensions:      (band: 1)\n",
       "Coordinates:\n",
       "  * band         (band) int64 8B 1\n",
       "    x            float64 8B -120.0\n",
       "    y            float64 8B 38.69\n",
       "    spatial_ref  int64 8B ...\n",
       "Data variables:\n",
       "    band_data    (band) float32 4B ..."
      ]
     },
     "execution_count": 125,
     "metadata": {},
     "output_type": "execute_result"
    }
   ],
   "source": [
    "selected_cell"
   ]
  },
  {
   "cell_type": "code",
   "execution_count": 139,
   "metadata": {},
   "outputs": [],
   "source": [
    "# Create a 2D array of NaNs with the shape (y, x) that matches the dataset's dimensions\n",
    "sno_sd_data = np.full((ds['y'].size, ds['x'].size), np.nan)\n",
    "# Assign the new variable to the dataset with dimensions ('y', 'x')\n",
    "ds['sno_sd'] = (['y', 'x'], sno_sd_data)"
   ]
  },
  {
   "cell_type": "code",
   "execution_count": 148,
   "metadata": {},
   "outputs": [],
   "source": [
    "# Direct assignment to the 'sno_sd' variable at the specified coordinates\n",
    "ds['sno_sd'].loc[dict(x=x_coord, y=y_coord)] = 1"
   ]
  },
  {
   "cell_type": "code",
   "execution_count": 151,
   "metadata": {},
   "outputs": [],
   "source": [
    "# Apply the condition where 'sno_sd' is 1\n",
    "result = ds.where(ds['sno_sd'] == 1, drop=True)"
   ]
  },
  {
   "cell_type": "code",
   "execution_count": 152,
   "metadata": {},
   "outputs": [
    {
     "data": {
      "text/html": [
       "<div><svg style=\"position: absolute; width: 0; height: 0; overflow: hidden\">\n",
       "<defs>\n",
       "<symbol id=\"icon-database\" viewBox=\"0 0 32 32\">\n",
       "<path d=\"M16 0c-8.837 0-16 2.239-16 5v4c0 2.761 7.163 5 16 5s16-2.239 16-5v-4c0-2.761-7.163-5-16-5z\"></path>\n",
       "<path d=\"M16 17c-8.837 0-16-2.239-16-5v6c0 2.761 7.163 5 16 5s16-2.239 16-5v-6c0 2.761-7.163 5-16 5z\"></path>\n",
       "<path d=\"M16 26c-8.837 0-16-2.239-16-5v6c0 2.761 7.163 5 16 5s16-2.239 16-5v-6c0 2.761-7.163 5-16 5z\"></path>\n",
       "</symbol>\n",
       "<symbol id=\"icon-file-text2\" viewBox=\"0 0 32 32\">\n",
       "<path d=\"M28.681 7.159c-0.694-0.947-1.662-2.053-2.724-3.116s-2.169-2.030-3.116-2.724c-1.612-1.182-2.393-1.319-2.841-1.319h-15.5c-1.378 0-2.5 1.121-2.5 2.5v27c0 1.378 1.122 2.5 2.5 2.5h23c1.378 0 2.5-1.122 2.5-2.5v-19.5c0-0.448-0.137-1.23-1.319-2.841zM24.543 5.457c0.959 0.959 1.712 1.825 2.268 2.543h-4.811v-4.811c0.718 0.556 1.584 1.309 2.543 2.268zM28 29.5c0 0.271-0.229 0.5-0.5 0.5h-23c-0.271 0-0.5-0.229-0.5-0.5v-27c0-0.271 0.229-0.5 0.5-0.5 0 0 15.499-0 15.5 0v7c0 0.552 0.448 1 1 1h7v19.5z\"></path>\n",
       "<path d=\"M23 26h-14c-0.552 0-1-0.448-1-1s0.448-1 1-1h14c0.552 0 1 0.448 1 1s-0.448 1-1 1z\"></path>\n",
       "<path d=\"M23 22h-14c-0.552 0-1-0.448-1-1s0.448-1 1-1h14c0.552 0 1 0.448 1 1s-0.448 1-1 1z\"></path>\n",
       "<path d=\"M23 18h-14c-0.552 0-1-0.448-1-1s0.448-1 1-1h14c0.552 0 1 0.448 1 1s-0.448 1-1 1z\"></path>\n",
       "</symbol>\n",
       "</defs>\n",
       "</svg>\n",
       "<style>/* CSS stylesheet for displaying xarray objects in jupyterlab.\n",
       " *\n",
       " */\n",
       "\n",
       ":root {\n",
       "  --xr-font-color0: var(--jp-content-font-color0, rgba(0, 0, 0, 1));\n",
       "  --xr-font-color2: var(--jp-content-font-color2, rgba(0, 0, 0, 0.54));\n",
       "  --xr-font-color3: var(--jp-content-font-color3, rgba(0, 0, 0, 0.38));\n",
       "  --xr-border-color: var(--jp-border-color2, #e0e0e0);\n",
       "  --xr-disabled-color: var(--jp-layout-color3, #bdbdbd);\n",
       "  --xr-background-color: var(--jp-layout-color0, white);\n",
       "  --xr-background-color-row-even: var(--jp-layout-color1, white);\n",
       "  --xr-background-color-row-odd: var(--jp-layout-color2, #eeeeee);\n",
       "}\n",
       "\n",
       "html[theme=dark],\n",
       "html[data-theme=dark],\n",
       "body[data-theme=dark],\n",
       "body.vscode-dark {\n",
       "  --xr-font-color0: rgba(255, 255, 255, 1);\n",
       "  --xr-font-color2: rgba(255, 255, 255, 0.54);\n",
       "  --xr-font-color3: rgba(255, 255, 255, 0.38);\n",
       "  --xr-border-color: #1F1F1F;\n",
       "  --xr-disabled-color: #515151;\n",
       "  --xr-background-color: #111111;\n",
       "  --xr-background-color-row-even: #111111;\n",
       "  --xr-background-color-row-odd: #313131;\n",
       "}\n",
       "\n",
       ".xr-wrap {\n",
       "  display: block !important;\n",
       "  min-width: 300px;\n",
       "  max-width: 700px;\n",
       "}\n",
       "\n",
       ".xr-text-repr-fallback {\n",
       "  /* fallback to plain text repr when CSS is not injected (untrusted notebook) */\n",
       "  display: none;\n",
       "}\n",
       "\n",
       ".xr-header {\n",
       "  padding-top: 6px;\n",
       "  padding-bottom: 6px;\n",
       "  margin-bottom: 4px;\n",
       "  border-bottom: solid 1px var(--xr-border-color);\n",
       "}\n",
       "\n",
       ".xr-header > div,\n",
       ".xr-header > ul {\n",
       "  display: inline;\n",
       "  margin-top: 0;\n",
       "  margin-bottom: 0;\n",
       "}\n",
       "\n",
       ".xr-obj-type,\n",
       ".xr-array-name {\n",
       "  margin-left: 2px;\n",
       "  margin-right: 10px;\n",
       "}\n",
       "\n",
       ".xr-obj-type {\n",
       "  color: var(--xr-font-color2);\n",
       "}\n",
       "\n",
       ".xr-sections {\n",
       "  padding-left: 0 !important;\n",
       "  display: grid;\n",
       "  grid-template-columns: 150px auto auto 1fr 0 20px 0 20px;\n",
       "}\n",
       "\n",
       ".xr-section-item {\n",
       "  display: contents;\n",
       "}\n",
       "\n",
       ".xr-section-item input {\n",
       "  display: inline-block;\n",
       "  opacity: 0;\n",
       "}\n",
       "\n",
       ".xr-section-item input + label {\n",
       "  color: var(--xr-disabled-color);\n",
       "}\n",
       "\n",
       ".xr-section-item input:enabled + label {\n",
       "  cursor: pointer;\n",
       "  color: var(--xr-font-color2);\n",
       "}\n",
       "\n",
       ".xr-section-item input:focus + label {\n",
       "  border: 2px solid var(--xr-font-color0);\n",
       "}\n",
       "\n",
       ".xr-section-item input:enabled + label:hover {\n",
       "  color: var(--xr-font-color0);\n",
       "}\n",
       "\n",
       ".xr-section-summary {\n",
       "  grid-column: 1;\n",
       "  color: var(--xr-font-color2);\n",
       "  font-weight: 500;\n",
       "}\n",
       "\n",
       ".xr-section-summary > span {\n",
       "  display: inline-block;\n",
       "  padding-left: 0.5em;\n",
       "}\n",
       "\n",
       ".xr-section-summary-in:disabled + label {\n",
       "  color: var(--xr-font-color2);\n",
       "}\n",
       "\n",
       ".xr-section-summary-in + label:before {\n",
       "  display: inline-block;\n",
       "  content: '►';\n",
       "  font-size: 11px;\n",
       "  width: 15px;\n",
       "  text-align: center;\n",
       "}\n",
       "\n",
       ".xr-section-summary-in:disabled + label:before {\n",
       "  color: var(--xr-disabled-color);\n",
       "}\n",
       "\n",
       ".xr-section-summary-in:checked + label:before {\n",
       "  content: '▼';\n",
       "}\n",
       "\n",
       ".xr-section-summary-in:checked + label > span {\n",
       "  display: none;\n",
       "}\n",
       "\n",
       ".xr-section-summary,\n",
       ".xr-section-inline-details {\n",
       "  padding-top: 4px;\n",
       "  padding-bottom: 4px;\n",
       "}\n",
       "\n",
       ".xr-section-inline-details {\n",
       "  grid-column: 2 / -1;\n",
       "}\n",
       "\n",
       ".xr-section-details {\n",
       "  display: none;\n",
       "  grid-column: 1 / -1;\n",
       "  margin-bottom: 5px;\n",
       "}\n",
       "\n",
       ".xr-section-summary-in:checked ~ .xr-section-details {\n",
       "  display: contents;\n",
       "}\n",
       "\n",
       ".xr-array-wrap {\n",
       "  grid-column: 1 / -1;\n",
       "  display: grid;\n",
       "  grid-template-columns: 20px auto;\n",
       "}\n",
       "\n",
       ".xr-array-wrap > label {\n",
       "  grid-column: 1;\n",
       "  vertical-align: top;\n",
       "}\n",
       "\n",
       ".xr-preview {\n",
       "  color: var(--xr-font-color3);\n",
       "}\n",
       "\n",
       ".xr-array-preview,\n",
       ".xr-array-data {\n",
       "  padding: 0 5px !important;\n",
       "  grid-column: 2;\n",
       "}\n",
       "\n",
       ".xr-array-data,\n",
       ".xr-array-in:checked ~ .xr-array-preview {\n",
       "  display: none;\n",
       "}\n",
       "\n",
       ".xr-array-in:checked ~ .xr-array-data,\n",
       ".xr-array-preview {\n",
       "  display: inline-block;\n",
       "}\n",
       "\n",
       ".xr-dim-list {\n",
       "  display: inline-block !important;\n",
       "  list-style: none;\n",
       "  padding: 0 !important;\n",
       "  margin: 0;\n",
       "}\n",
       "\n",
       ".xr-dim-list li {\n",
       "  display: inline-block;\n",
       "  padding: 0;\n",
       "  margin: 0;\n",
       "}\n",
       "\n",
       ".xr-dim-list:before {\n",
       "  content: '(';\n",
       "}\n",
       "\n",
       ".xr-dim-list:after {\n",
       "  content: ')';\n",
       "}\n",
       "\n",
       ".xr-dim-list li:not(:last-child):after {\n",
       "  content: ',';\n",
       "  padding-right: 5px;\n",
       "}\n",
       "\n",
       ".xr-has-index {\n",
       "  font-weight: bold;\n",
       "}\n",
       "\n",
       ".xr-var-list,\n",
       ".xr-var-item {\n",
       "  display: contents;\n",
       "}\n",
       "\n",
       ".xr-var-item > div,\n",
       ".xr-var-item label,\n",
       ".xr-var-item > .xr-var-name span {\n",
       "  background-color: var(--xr-background-color-row-even);\n",
       "  margin-bottom: 0;\n",
       "}\n",
       "\n",
       ".xr-var-item > .xr-var-name:hover span {\n",
       "  padding-right: 5px;\n",
       "}\n",
       "\n",
       ".xr-var-list > li:nth-child(odd) > div,\n",
       ".xr-var-list > li:nth-child(odd) > label,\n",
       ".xr-var-list > li:nth-child(odd) > .xr-var-name span {\n",
       "  background-color: var(--xr-background-color-row-odd);\n",
       "}\n",
       "\n",
       ".xr-var-name {\n",
       "  grid-column: 1;\n",
       "}\n",
       "\n",
       ".xr-var-dims {\n",
       "  grid-column: 2;\n",
       "}\n",
       "\n",
       ".xr-var-dtype {\n",
       "  grid-column: 3;\n",
       "  text-align: right;\n",
       "  color: var(--xr-font-color2);\n",
       "}\n",
       "\n",
       ".xr-var-preview {\n",
       "  grid-column: 4;\n",
       "}\n",
       "\n",
       ".xr-index-preview {\n",
       "  grid-column: 2 / 5;\n",
       "  color: var(--xr-font-color2);\n",
       "}\n",
       "\n",
       ".xr-var-name,\n",
       ".xr-var-dims,\n",
       ".xr-var-dtype,\n",
       ".xr-preview,\n",
       ".xr-attrs dt {\n",
       "  white-space: nowrap;\n",
       "  overflow: hidden;\n",
       "  text-overflow: ellipsis;\n",
       "  padding-right: 10px;\n",
       "}\n",
       "\n",
       ".xr-var-name:hover,\n",
       ".xr-var-dims:hover,\n",
       ".xr-var-dtype:hover,\n",
       ".xr-attrs dt:hover {\n",
       "  overflow: visible;\n",
       "  width: auto;\n",
       "  z-index: 1;\n",
       "}\n",
       "\n",
       ".xr-var-attrs,\n",
       ".xr-var-data,\n",
       ".xr-index-data {\n",
       "  display: none;\n",
       "  background-color: var(--xr-background-color) !important;\n",
       "  padding-bottom: 5px !important;\n",
       "}\n",
       "\n",
       ".xr-var-attrs-in:checked ~ .xr-var-attrs,\n",
       ".xr-var-data-in:checked ~ .xr-var-data,\n",
       ".xr-index-data-in:checked ~ .xr-index-data {\n",
       "  display: block;\n",
       "}\n",
       "\n",
       ".xr-var-data > table {\n",
       "  float: right;\n",
       "}\n",
       "\n",
       ".xr-var-name span,\n",
       ".xr-var-data,\n",
       ".xr-index-name div,\n",
       ".xr-index-data,\n",
       ".xr-attrs {\n",
       "  padding-left: 25px !important;\n",
       "}\n",
       "\n",
       ".xr-attrs,\n",
       ".xr-var-attrs,\n",
       ".xr-var-data,\n",
       ".xr-index-data {\n",
       "  grid-column: 1 / -1;\n",
       "}\n",
       "\n",
       "dl.xr-attrs {\n",
       "  padding: 0;\n",
       "  margin: 0;\n",
       "  display: grid;\n",
       "  grid-template-columns: 125px auto;\n",
       "}\n",
       "\n",
       ".xr-attrs dt,\n",
       ".xr-attrs dd {\n",
       "  padding: 0;\n",
       "  margin: 0;\n",
       "  float: left;\n",
       "  padding-right: 10px;\n",
       "  width: auto;\n",
       "}\n",
       "\n",
       ".xr-attrs dt {\n",
       "  font-weight: normal;\n",
       "  grid-column: 1;\n",
       "}\n",
       "\n",
       ".xr-attrs dt:hover span {\n",
       "  display: inline-block;\n",
       "  background: var(--xr-background-color);\n",
       "  padding-right: 10px;\n",
       "}\n",
       "\n",
       ".xr-attrs dd {\n",
       "  grid-column: 2;\n",
       "  white-space: pre-wrap;\n",
       "  word-break: break-all;\n",
       "}\n",
       "\n",
       ".xr-icon-database,\n",
       ".xr-icon-file-text2,\n",
       ".xr-no-icon {\n",
       "  display: inline-block;\n",
       "  vertical-align: middle;\n",
       "  width: 1em;\n",
       "  height: 1.5em !important;\n",
       "  stroke-width: 0;\n",
       "  stroke: currentColor;\n",
       "  fill: currentColor;\n",
       "}\n",
       "</style><pre class='xr-text-repr-fallback'>&lt;xarray.Dataset&gt; Size: 44B\n",
       "Dimensions:      (band: 1, y: 1, x: 1)\n",
       "Coordinates:\n",
       "  * band         (band) int64 8B 1\n",
       "  * x            (x) float64 8B -120.0\n",
       "  * y            (y) float64 8B 38.69\n",
       "    spatial_ref  int64 8B 0\n",
       "Data variables:\n",
       "    band_data    (band, y, x) float32 4B 2.711\n",
       "    sno_sd       (y, x) float64 8B 1.0</pre><div class='xr-wrap' style='display:none'><div class='xr-header'><div class='xr-obj-type'>xarray.Dataset</div></div><ul class='xr-sections'><li class='xr-section-item'><input id='section-8149e969-fb73-4480-9ec4-ce80c638e549' class='xr-section-summary-in' type='checkbox' disabled ><label for='section-8149e969-fb73-4480-9ec4-ce80c638e549' class='xr-section-summary'  title='Expand/collapse section'>Dimensions:</label><div class='xr-section-inline-details'><ul class='xr-dim-list'><li><span class='xr-has-index'>band</span>: 1</li><li><span class='xr-has-index'>y</span>: 1</li><li><span class='xr-has-index'>x</span>: 1</li></ul></div><div class='xr-section-details'></div></li><li class='xr-section-item'><input id='section-052ebd11-dad0-430f-b995-ad4a93f96e39' class='xr-section-summary-in' type='checkbox'  checked><label for='section-052ebd11-dad0-430f-b995-ad4a93f96e39' class='xr-section-summary' >Coordinates: <span>(4)</span></label><div class='xr-section-inline-details'></div><div class='xr-section-details'><ul class='xr-var-list'><li class='xr-var-item'><div class='xr-var-name'><span class='xr-has-index'>band</span></div><div class='xr-var-dims'>(band)</div><div class='xr-var-dtype'>int64</div><div class='xr-var-preview xr-preview'>1</div><input id='attrs-29714f9f-10e6-456f-b514-d09334503d78' class='xr-var-attrs-in' type='checkbox' disabled><label for='attrs-29714f9f-10e6-456f-b514-d09334503d78' title='Show/Hide attributes'><svg class='icon xr-icon-file-text2'><use xlink:href='#icon-file-text2'></use></svg></label><input id='data-c1c6d0f0-a006-42f9-808a-cfd59a3cb924' class='xr-var-data-in' type='checkbox'><label for='data-c1c6d0f0-a006-42f9-808a-cfd59a3cb924' title='Show/Hide data repr'><svg class='icon xr-icon-database'><use xlink:href='#icon-database'></use></svg></label><div class='xr-var-attrs'><dl class='xr-attrs'></dl></div><div class='xr-var-data'><pre>array([1])</pre></div></li><li class='xr-var-item'><div class='xr-var-name'><span class='xr-has-index'>x</span></div><div class='xr-var-dims'>(x)</div><div class='xr-var-dtype'>float64</div><div class='xr-var-preview xr-preview'>-120.0</div><input id='attrs-2dd06c3e-5309-434a-9f87-7e44925cbd7e' class='xr-var-attrs-in' type='checkbox' disabled><label for='attrs-2dd06c3e-5309-434a-9f87-7e44925cbd7e' title='Show/Hide attributes'><svg class='icon xr-icon-file-text2'><use xlink:href='#icon-file-text2'></use></svg></label><input id='data-5fa2cbad-9989-49f5-b4af-cd2661a1b55d' class='xr-var-data-in' type='checkbox'><label for='data-5fa2cbad-9989-49f5-b4af-cd2661a1b55d' title='Show/Hide data repr'><svg class='icon xr-icon-database'><use xlink:href='#icon-database'></use></svg></label><div class='xr-var-attrs'><dl class='xr-attrs'></dl></div><div class='xr-var-data'><pre>array([-120.002127])</pre></div></li><li class='xr-var-item'><div class='xr-var-name'><span class='xr-has-index'>y</span></div><div class='xr-var-dims'>(y)</div><div class='xr-var-dtype'>float64</div><div class='xr-var-preview xr-preview'>38.69</div><input id='attrs-a4ebf5fe-7529-45f5-b075-15dc3b2b5e91' class='xr-var-attrs-in' type='checkbox' disabled><label for='attrs-a4ebf5fe-7529-45f5-b075-15dc3b2b5e91' title='Show/Hide attributes'><svg class='icon xr-icon-file-text2'><use xlink:href='#icon-file-text2'></use></svg></label><input id='data-e85c6396-6a1a-47b6-af15-e84e1356a30c' class='xr-var-data-in' type='checkbox'><label for='data-e85c6396-6a1a-47b6-af15-e84e1356a30c' title='Show/Hide data repr'><svg class='icon xr-icon-database'><use xlink:href='#icon-database'></use></svg></label><div class='xr-var-attrs'><dl class='xr-attrs'></dl></div><div class='xr-var-data'><pre>array([38.692691])</pre></div></li><li class='xr-var-item'><div class='xr-var-name'><span>spatial_ref</span></div><div class='xr-var-dims'>()</div><div class='xr-var-dtype'>int64</div><div class='xr-var-preview xr-preview'>0</div><input id='attrs-fea6f4e3-9ce2-4d0c-8582-f778902bcc61' class='xr-var-attrs-in' type='checkbox' ><label for='attrs-fea6f4e3-9ce2-4d0c-8582-f778902bcc61' title='Show/Hide attributes'><svg class='icon xr-icon-file-text2'><use xlink:href='#icon-file-text2'></use></svg></label><input id='data-1eca5f50-8dc7-4df8-ade4-e5f34675bd21' class='xr-var-data-in' type='checkbox'><label for='data-1eca5f50-8dc7-4df8-ade4-e5f34675bd21' title='Show/Hide data repr'><svg class='icon xr-icon-database'><use xlink:href='#icon-database'></use></svg></label><div class='xr-var-attrs'><dl class='xr-attrs'><dt><span>crs_wkt :</span></dt><dd>GEOGCS[&quot;WGS 84&quot;,DATUM[&quot;WGS_1984&quot;,SPHEROID[&quot;WGS 84&quot;,6378137,298.257223563,AUTHORITY[&quot;EPSG&quot;,&quot;7030&quot;]],AUTHORITY[&quot;EPSG&quot;,&quot;6326&quot;]],PRIMEM[&quot;Greenwich&quot;,0,AUTHORITY[&quot;EPSG&quot;,&quot;8901&quot;]],UNIT[&quot;degree&quot;,0.0174532925199433,AUTHORITY[&quot;EPSG&quot;,&quot;9122&quot;]],AXIS[&quot;Latitude&quot;,NORTH],AXIS[&quot;Longitude&quot;,EAST],AUTHORITY[&quot;EPSG&quot;,&quot;4326&quot;]]</dd><dt><span>semi_major_axis :</span></dt><dd>6378137.0</dd><dt><span>semi_minor_axis :</span></dt><dd>6356752.314245179</dd><dt><span>inverse_flattening :</span></dt><dd>298.257223563</dd><dt><span>reference_ellipsoid_name :</span></dt><dd>WGS 84</dd><dt><span>longitude_of_prime_meridian :</span></dt><dd>0.0</dd><dt><span>prime_meridian_name :</span></dt><dd>Greenwich</dd><dt><span>geographic_crs_name :</span></dt><dd>WGS 84</dd><dt><span>horizontal_datum_name :</span></dt><dd>World Geodetic System 1984</dd><dt><span>grid_mapping_name :</span></dt><dd>latitude_longitude</dd><dt><span>spatial_ref :</span></dt><dd>GEOGCS[&quot;WGS 84&quot;,DATUM[&quot;WGS_1984&quot;,SPHEROID[&quot;WGS 84&quot;,6378137,298.257223563,AUTHORITY[&quot;EPSG&quot;,&quot;7030&quot;]],AUTHORITY[&quot;EPSG&quot;,&quot;6326&quot;]],PRIMEM[&quot;Greenwich&quot;,0,AUTHORITY[&quot;EPSG&quot;,&quot;8901&quot;]],UNIT[&quot;degree&quot;,0.0174532925199433,AUTHORITY[&quot;EPSG&quot;,&quot;9122&quot;]],AXIS[&quot;Latitude&quot;,NORTH],AXIS[&quot;Longitude&quot;,EAST],AUTHORITY[&quot;EPSG&quot;,&quot;4326&quot;]]</dd><dt><span>GeoTransform :</span></dt><dd>-120.01876517383754 0.0005119383546738094 0.0 38.705745094765845 0.0 -0.0005119383546737866</dd></dl></div><div class='xr-var-data'><pre>array(0)</pre></div></li></ul></div></li><li class='xr-section-item'><input id='section-ed79a382-31a7-4bb2-8514-f2c0afb9d7ec' class='xr-section-summary-in' type='checkbox'  checked><label for='section-ed79a382-31a7-4bb2-8514-f2c0afb9d7ec' class='xr-section-summary' >Data variables: <span>(2)</span></label><div class='xr-section-inline-details'></div><div class='xr-section-details'><ul class='xr-var-list'><li class='xr-var-item'><div class='xr-var-name'><span>band_data</span></div><div class='xr-var-dims'>(band, y, x)</div><div class='xr-var-dtype'>float32</div><div class='xr-var-preview xr-preview'>2.711</div><input id='attrs-3a969b90-522b-4391-a846-138d04e30c22' class='xr-var-attrs-in' type='checkbox' ><label for='attrs-3a969b90-522b-4391-a846-138d04e30c22' title='Show/Hide attributes'><svg class='icon xr-icon-file-text2'><use xlink:href='#icon-file-text2'></use></svg></label><input id='data-85d59dea-c473-4d38-823c-48d337e35d0a' class='xr-var-data-in' type='checkbox'><label for='data-85d59dea-c473-4d38-823c-48d337e35d0a' title='Show/Hide data repr'><svg class='icon xr-icon-database'><use xlink:href='#icon-database'></use></svg></label><div class='xr-var-attrs'><dl class='xr-attrs'><dt><span>AREA_OR_POINT :</span></dt><dd>Area</dd><dt><span>long_name :</span></dt><dd>aso_sd</dd></dl></div><div class='xr-var-data'><pre>array([[[2.7112508]]], dtype=float32)</pre></div></li><li class='xr-var-item'><div class='xr-var-name'><span>sno_sd</span></div><div class='xr-var-dims'>(y, x)</div><div class='xr-var-dtype'>float64</div><div class='xr-var-preview xr-preview'>1.0</div><input id='attrs-e479d1d1-64e2-4403-a2df-007df5c1abdf' class='xr-var-attrs-in' type='checkbox' disabled><label for='attrs-e479d1d1-64e2-4403-a2df-007df5c1abdf' title='Show/Hide attributes'><svg class='icon xr-icon-file-text2'><use xlink:href='#icon-file-text2'></use></svg></label><input id='data-74f10a4c-bb63-4395-b2f4-3ac710aec616' class='xr-var-data-in' type='checkbox'><label for='data-74f10a4c-bb63-4395-b2f4-3ac710aec616' title='Show/Hide data repr'><svg class='icon xr-icon-database'><use xlink:href='#icon-database'></use></svg></label><div class='xr-var-attrs'><dl class='xr-attrs'></dl></div><div class='xr-var-data'><pre>array([[1.]])</pre></div></li></ul></div></li><li class='xr-section-item'><input id='section-4f6baa80-fa33-4ba9-9d15-1701dadb7b49' class='xr-section-summary-in' type='checkbox'  ><label for='section-4f6baa80-fa33-4ba9-9d15-1701dadb7b49' class='xr-section-summary' >Indexes: <span>(3)</span></label><div class='xr-section-inline-details'></div><div class='xr-section-details'><ul class='xr-var-list'><li class='xr-var-item'><div class='xr-index-name'><div>band</div></div><div class='xr-index-preview'>PandasIndex</div><div></div><input id='index-05503ae1-83d0-4923-b981-a1473f7b9d79' class='xr-index-data-in' type='checkbox'/><label for='index-05503ae1-83d0-4923-b981-a1473f7b9d79' title='Show/Hide index repr'><svg class='icon xr-icon-database'><use xlink:href='#icon-database'></use></svg></label><div class='xr-index-data'><pre>PandasIndex(Index([1], dtype=&#x27;int64&#x27;, name=&#x27;band&#x27;))</pre></div></li><li class='xr-var-item'><div class='xr-index-name'><div>x</div></div><div class='xr-index-preview'>PandasIndex</div><div></div><input id='index-ff45307c-a1d4-437c-a139-646a8cf26e98' class='xr-index-data-in' type='checkbox'/><label for='index-ff45307c-a1d4-437c-a139-646a8cf26e98' title='Show/Hide index repr'><svg class='icon xr-icon-database'><use xlink:href='#icon-database'></use></svg></label><div class='xr-index-data'><pre>PandasIndex(Index([-120.00212717731064], dtype=&#x27;float64&#x27;, name=&#x27;x&#x27;))</pre></div></li><li class='xr-var-item'><div class='xr-index-name'><div>y</div></div><div class='xr-index-preview'>PandasIndex</div><div></div><input id='index-de2ebcf6-553f-4760-88a2-7b67de568046' class='xr-index-data-in' type='checkbox'/><label for='index-de2ebcf6-553f-4760-88a2-7b67de568046' title='Show/Hide index repr'><svg class='icon xr-icon-database'><use xlink:href='#icon-database'></use></svg></label><div class='xr-index-data'><pre>PandasIndex(Index([38.69269066672166], dtype=&#x27;float64&#x27;, name=&#x27;y&#x27;))</pre></div></li></ul></div></li><li class='xr-section-item'><input id='section-7b50cedd-203b-4719-a655-7ac0fadcc1b9' class='xr-section-summary-in' type='checkbox' disabled ><label for='section-7b50cedd-203b-4719-a655-7ac0fadcc1b9' class='xr-section-summary'  title='Expand/collapse section'>Attributes: <span>(0)</span></label><div class='xr-section-inline-details'></div><div class='xr-section-details'><dl class='xr-attrs'></dl></div></li></ul></div></div>"
      ],
      "text/plain": [
       "<xarray.Dataset> Size: 44B\n",
       "Dimensions:      (band: 1, y: 1, x: 1)\n",
       "Coordinates:\n",
       "  * band         (band) int64 8B 1\n",
       "  * x            (x) float64 8B -120.0\n",
       "  * y            (y) float64 8B 38.69\n",
       "    spatial_ref  int64 8B 0\n",
       "Data variables:\n",
       "    band_data    (band, y, x) float32 4B 2.711\n",
       "    sno_sd       (y, x) float64 8B 1.0"
      ]
     },
     "execution_count": 152,
     "metadata": {},
     "output_type": "execute_result"
    }
   ],
   "source": [
    "result"
   ]
  },
  {
   "cell_type": "code",
   "execution_count": 84,
   "metadata": {},
   "outputs": [],
   "source": [
    "#all_snotel"
   ]
  },
  {
   "cell_type": "code",
   "execution_count": 93,
   "metadata": {},
   "outputs": [
    {
     "data": {
      "text/plain": [
       "'2023-01-31'"
      ]
     },
     "execution_count": 93,
     "metadata": {},
     "output_type": "execute_result"
    }
   ],
   "source": [
    "from datetime import datetime\n",
    "f.split('/')[-1].split(\"_\")[4]\n",
    "datetime.strptime(f.split('/')[-1].split(\"_\")[4], \"%Y%m%d\").strftime(\"%Y-%m-%d\")"
   ]
  },
  {
   "cell_type": "code",
   "execution_count": 94,
   "metadata": {},
   "outputs": [
    {
     "name": "stdout",
     "output_type": "stream",
     "text": [
      "Dataframe has been added to the Station object. Please use the .data attribute to access.\n"
     ]
    }
   ],
   "source": [
    "for i in points_in_raster.index.values:\n",
    "    date = datetime.strptime(f.split('/')[-1].split(\"_\")[4], \"%Y%m%d\").strftime(\"%Y-%m-%d\")\n",
    "    StationCollection.get_data(i, variables=['SNWD'], start_date=date, end_date=date)\n",
    "    break"
   ]
  },
  {
   "cell_type": "code",
   "execution_count": 100,
   "metadata": {},
   "outputs": [
    {
     "data": {
      "text/plain": [
       "np.float64(2.667)"
      ]
     },
     "execution_count": 100,
     "metadata": {},
     "output_type": "execute_result"
    }
   ],
   "source": [
    "StationCollection.data.SNWD.values[0]"
   ]
  },
  {
   "cell_type": "code",
   "execution_count": 12,
   "metadata": {},
   "outputs": [],
   "source": [
    "from datetime import datetime"
   ]
  },
  {
   "cell_type": "code",
   "execution_count": 11,
   "metadata": {},
   "outputs": [
    {
     "name": "stdout",
     "output_type": "stream",
     "text": [
      "Geodataframe with all stations has been added to the Station object. Please use the .all_stations attribute to access.\n",
      "Use the .get_data(stations=geodataframe/string/list,variables=string/list,start_date=str,end_date=str) method to fetch data for specific stations and variables.\n"
     ]
    },
    {
     "ename": "NameError",
     "evalue": "name 'datetime' is not defined",
     "output_type": "error",
     "traceback": [
      "\u001b[0;31m---------------------------------------------------------------------------\u001b[0m",
      "\u001b[0;31mNameError\u001b[0m                                 Traceback (most recent call last)",
      "Cell \u001b[0;32mIn[11], line 7\u001b[0m\n\u001b[1;32m      5\u001b[0m \u001b[38;5;28;01mfor\u001b[39;00m f \u001b[38;5;129;01min\u001b[39;00m tif_path:\n\u001b[1;32m      6\u001b[0m     ds \u001b[38;5;241m=\u001b[39m xr\u001b[38;5;241m.\u001b[39mopen_dataset(f)\n\u001b[0;32m----> 7\u001b[0m     date \u001b[38;5;241m=\u001b[39m \u001b[43mdatetime\u001b[49m\u001b[38;5;241m.\u001b[39mstrptime(f\u001b[38;5;241m.\u001b[39msplit(\u001b[38;5;124m'\u001b[39m\u001b[38;5;124m/\u001b[39m\u001b[38;5;124m'\u001b[39m)[\u001b[38;5;241m-\u001b[39m\u001b[38;5;241m1\u001b[39m]\u001b[38;5;241m.\u001b[39msplit(\u001b[38;5;124m\"\u001b[39m\u001b[38;5;124m_\u001b[39m\u001b[38;5;124m\"\u001b[39m)[\u001b[38;5;241m4\u001b[39m], \u001b[38;5;124m\"\u001b[39m\u001b[38;5;124m%\u001b[39m\u001b[38;5;124mY\u001b[39m\u001b[38;5;124m%\u001b[39m\u001b[38;5;124mm\u001b[39m\u001b[38;5;132;01m%d\u001b[39;00m\u001b[38;5;124m\"\u001b[39m)\u001b[38;5;241m.\u001b[39mstrftime(\u001b[38;5;124m\"\u001b[39m\u001b[38;5;124m%\u001b[39m\u001b[38;5;124mY-\u001b[39m\u001b[38;5;124m%\u001b[39m\u001b[38;5;124mm-\u001b[39m\u001b[38;5;132;01m%d\u001b[39;00m\u001b[38;5;124m\"\u001b[39m) \u001b[38;5;66;03m#get the date of the current file\u001b[39;00m\n\u001b[1;32m      8\u001b[0m     \u001b[38;5;66;03m# create a 128x128 array of NaNs to store snotel sd values\u001b[39;00m\n\u001b[1;32m      9\u001b[0m     sno_sd_data \u001b[38;5;241m=\u001b[39m np\u001b[38;5;241m.\u001b[39mfull((ds[\u001b[38;5;124m'\u001b[39m\u001b[38;5;124my\u001b[39m\u001b[38;5;124m'\u001b[39m]\u001b[38;5;241m.\u001b[39msize, ds[\u001b[38;5;124m'\u001b[39m\u001b[38;5;124mx\u001b[39m\u001b[38;5;124m'\u001b[39m]\u001b[38;5;241m.\u001b[39msize), np\u001b[38;5;241m.\u001b[39mnan)\n",
      "\u001b[0;31mNameError\u001b[0m: name 'datetime' is not defined"
     ]
    }
   ],
   "source": [
    "nc_path = glob(\"/mnt/c/Users/JackE/uw/courses/aut24/ml_geo/jack_subsets/ncs/*\")\n",
    "tif_path = glob(\"/mnt/c/Users/JackE/uw/courses/aut24/ml_geo/jack_subsets/tifs/*\")\n",
    "StationCollection = esd.automatic_weather_stations.StationCollection()\n",
    "all_snotel = StationCollection.all_stations[StationCollection.all_stations.network == 'SNOTEL']\n",
    "for f in tif_path:\n",
    "    ds = xr.open_dataset(f)\n",
    "    date = datetime.strptime(f.split('/')[-1].split(\"_\")[4], \"%Y%m%d\").strftime(\"%Y-%m-%d\") #get the date of the current file\n",
    "    # create a 128x128 array of NaNs to store snotel sd values\n",
    "    sno_sd_data = np.full((ds['y'].size, ds['x'].size), np.nan)\n",
    "    ds['sno_sd'] = (['y', 'x'], sno_sd_data)\n",
    "    # turn the raster bounds into a geodataframe\n",
    "    # the workflow is super inefficeint below, but it works for now\n",
    "    raster_bounds = (\n",
    "    ds.x.min().item(),\n",
    "    ds.y.min().item(),\n",
    "    ds.x.max().item(),\n",
    "    ds.y.max().item()\n",
    "    )\n",
    "    raster_polygon = box(*raster_bounds)\n",
    "    raster_gdf = gpd.GeoDataFrame({'geometry': [raster_polygon]}, crs=all_snotel.crs)\n",
    "    points_in_raster = gpd.sjoin(all_snotel, raster_gdf, predicate=\"intersects\")\n",
    "    if len(points_in_raster) == 0:\n",
    "        continue\n",
    "    for i, row in points_in_raster.iterrows():\n",
    "        StationCollection.get_data(i, variables=['SNWD'], start_date=date, end_date=date)\n",
    "        snotel_sd = StationCollection.data.SNWD.values[0]\n",
    "\n",
    "        x,y = row.geometry.x, row.geometry.y\n",
    "\n",
    "        ds['sno_sd'].loc[dict(x=ds['x'].sel(x=x, method='nearest'), y=ds['y'].sel(y=y, method='nearest'))] = snotel_sd\n",
    "    break\n",
    "\n",
    "# it seems like all of the aso_sd values are exactly equal to the snotel_sd values"
   ]
  },
  {
   "cell_type": "code",
   "execution_count": 4,
   "metadata": {},
   "outputs": [
    {
     "name": "stdout",
     "output_type": "stream",
     "text": [
      "Geodataframe with all stations has been added to the Station object. Please use the .all_stations attribute to access.\n",
      "Use the .get_data(stations=geodataframe/string/list,variables=string/list,start_date=str,end_date=str) method to fetch data for specific stations and variables.\n"
     ]
    },
    {
     "name": "stderr",
     "output_type": "stream",
     "text": [
      "  0%|          | 6/4406 [00:00<06:55, 10.58it/s]"
     ]
    },
    {
     "name": "stdout",
     "output_type": "stream",
     "text": [
      "Dataframe has been added to the Station object. Please use the .data attribute to access.\n",
      "Dataframe has been added to the Station object. Please use the .data attribute to access.\n",
      "Dataframe has been added to the Station object. Please use the .data attribute to access.\n"
     ]
    },
    {
     "name": "stderr",
     "output_type": "stream",
     "text": [
      "  0%|          | 15/4406 [00:03<14:09,  5.17it/s]"
     ]
    },
    {
     "name": "stdout",
     "output_type": "stream",
     "text": [
      "Dataframe has been added to the Station object. Please use the .data attribute to access.\n"
     ]
    },
    {
     "name": "stderr",
     "output_type": "stream",
     "text": [
      "  5%|▍         | 210/4406 [00:25<06:57, 10.05it/s]"
     ]
    },
    {
     "name": "stdout",
     "output_type": "stream",
     "text": [
      "Dataframe has been added to the Station object. Please use the .data attribute to access.\n"
     ]
    },
    {
     "name": "stderr",
     "output_type": "stream",
     "text": [
      "  5%|▍         | 220/4406 [00:27<08:42,  8.01it/s]"
     ]
    },
    {
     "name": "stdout",
     "output_type": "stream",
     "text": [
      "Dataframe has been added to the Station object. Please use the .data attribute to access.\n",
      "Dataframe has been added to the Station object. Please use the .data attribute to access.\n"
     ]
    },
    {
     "name": "stderr",
     "output_type": "stream",
     "text": [
      "  5%|▌         | 221/4406 [00:27<15:31,  4.49it/s]"
     ]
    },
    {
     "name": "stdout",
     "output_type": "stream",
     "text": [
      "Dataframe has been added to the Station object. Please use the .data attribute to access.\n"
     ]
    },
    {
     "name": "stderr",
     "output_type": "stream",
     "text": [
      "  5%|▌         | 223/4406 [00:28<18:42,  3.73it/s]"
     ]
    },
    {
     "name": "stdout",
     "output_type": "stream",
     "text": [
      "Dataframe has been added to the Station object. Please use the .data attribute to access.\n"
     ]
    },
    {
     "name": "stderr",
     "output_type": "stream",
     "text": [
      "  9%|▊         | 385/4406 [00:45<07:30,  8.92it/s]"
     ]
    },
    {
     "name": "stdout",
     "output_type": "stream",
     "text": [
      "Dataframe has been added to the Station object. Please use the .data attribute to access.\n"
     ]
    },
    {
     "name": "stderr",
     "output_type": "stream",
     "text": [
      "  9%|▉         | 390/4406 [00:46<09:40,  6.92it/s]"
     ]
    },
    {
     "name": "stdout",
     "output_type": "stream",
     "text": [
      "Dataframe has been added to the Station object. Please use the .data attribute to access.\n"
     ]
    },
    {
     "name": "stderr",
     "output_type": "stream",
     "text": [
      "  9%|▉         | 394/4406 [00:47<10:47,  6.19it/s]"
     ]
    },
    {
     "name": "stdout",
     "output_type": "stream",
     "text": [
      "Dataframe has been added to the Station object. Please use the .data attribute to access.\n"
     ]
    },
    {
     "name": "stderr",
     "output_type": "stream",
     "text": [
      "  9%|▉         | 400/4406 [00:48<08:55,  7.48it/s]"
     ]
    },
    {
     "name": "stdout",
     "output_type": "stream",
     "text": [
      "Dataframe has been added to the Station object. Please use the .data attribute to access.\n"
     ]
    },
    {
     "name": "stderr",
     "output_type": "stream",
     "text": [
      " 10%|▉         | 426/4406 [00:51<05:48, 11.43it/s]"
     ]
    },
    {
     "name": "stdout",
     "output_type": "stream",
     "text": [
      "Dataframe has been added to the Station object. Please use the .data attribute to access.\n"
     ]
    },
    {
     "name": "stderr",
     "output_type": "stream",
     "text": [
      " 10%|▉         | 430/4406 [00:52<11:17,  5.86it/s]"
     ]
    },
    {
     "name": "stdout",
     "output_type": "stream",
     "text": [
      "Dataframe has been added to the Station object. Please use the .data attribute to access.\n"
     ]
    },
    {
     "name": "stderr",
     "output_type": "stream",
     "text": [
      " 10%|▉         | 436/4406 [00:53<10:33,  6.26it/s]"
     ]
    },
    {
     "name": "stdout",
     "output_type": "stream",
     "text": [
      "Dataframe has been added to the Station object. Please use the .data attribute to access.\n"
     ]
    },
    {
     "name": "stderr",
     "output_type": "stream",
     "text": [
      " 12%|█▏        | 517/4406 [01:00<04:55, 13.17it/s]"
     ]
    },
    {
     "name": "stdout",
     "output_type": "stream",
     "text": [
      "Dataframe has been added to the Station object. Please use the .data attribute to access.\n"
     ]
    },
    {
     "name": "stderr",
     "output_type": "stream",
     "text": [
      " 12%|█▏        | 533/4406 [01:02<05:48, 11.10it/s]"
     ]
    },
    {
     "name": "stdout",
     "output_type": "stream",
     "text": [
      "Dataframe has been added to the Station object. Please use the .data attribute to access.\n"
     ]
    },
    {
     "name": "stderr",
     "output_type": "stream",
     "text": [
      " 12%|█▏        | 549/4406 [01:05<06:36,  9.72it/s]"
     ]
    },
    {
     "name": "stdout",
     "output_type": "stream",
     "text": [
      "Dataframe has been added to the Station object. Please use the .data attribute to access.\n",
      "Dataframe has been added to the Station object. Please use the .data attribute to access.\n"
     ]
    },
    {
     "name": "stderr",
     "output_type": "stream",
     "text": [
      " 13%|█▎        | 553/4406 [01:06<12:07,  5.30it/s]"
     ]
    },
    {
     "name": "stdout",
     "output_type": "stream",
     "text": [
      "Dataframe has been added to the Station object. Please use the .data attribute to access.\n"
     ]
    },
    {
     "name": "stderr",
     "output_type": "stream",
     "text": [
      " 13%|█▎        | 555/4406 [01:07<16:31,  3.88it/s]"
     ]
    },
    {
     "name": "stdout",
     "output_type": "stream",
     "text": [
      "Dataframe has been added to the Station object. Please use the .data attribute to access.\n"
     ]
    },
    {
     "name": "stderr",
     "output_type": "stream",
     "text": [
      " 13%|█▎        | 558/4406 [01:08<15:54,  4.03it/s]"
     ]
    },
    {
     "name": "stdout",
     "output_type": "stream",
     "text": [
      "Dataframe has been added to the Station object. Please use the .data attribute to access.\n"
     ]
    },
    {
     "name": "stderr",
     "output_type": "stream",
     "text": [
      " 13%|█▎        | 564/4406 [01:09<12:02,  5.32it/s]"
     ]
    },
    {
     "name": "stdout",
     "output_type": "stream",
     "text": [
      "Dataframe has been added to the Station object. Please use the .data attribute to access.\n",
      "Dataframe has been added to the Station object. Please use the .data attribute to access.\n"
     ]
    },
    {
     "name": "stderr",
     "output_type": "stream",
     "text": [
      " 13%|█▎        | 583/4406 [01:12<04:56, 12.89it/s]"
     ]
    },
    {
     "name": "stdout",
     "output_type": "stream",
     "text": [
      "Dataframe has been added to the Station object. Please use the .data attribute to access.\n"
     ]
    },
    {
     "name": "stderr",
     "output_type": "stream",
     "text": [
      " 14%|█▎        | 597/4406 [01:13<05:51, 10.82it/s]"
     ]
    },
    {
     "name": "stdout",
     "output_type": "stream",
     "text": [
      "Dataframe has been added to the Station object. Please use the .data attribute to access.\n"
     ]
    },
    {
     "name": "stderr",
     "output_type": "stream",
     "text": [
      " 14%|█▍        | 623/4406 [01:17<05:10, 12.19it/s]"
     ]
    },
    {
     "name": "stdout",
     "output_type": "stream",
     "text": [
      "Dataframe has been added to the Station object. Please use the .data attribute to access.\n"
     ]
    },
    {
     "name": "stderr",
     "output_type": "stream",
     "text": [
      " 14%|█▍        | 629/4406 [01:18<08:16,  7.60it/s]"
     ]
    },
    {
     "name": "stdout",
     "output_type": "stream",
     "text": [
      "Dataframe has been added to the Station object. Please use the .data attribute to access.\n",
      "Dataframe has been added to the Station object. Please use the .data attribute to access.\n"
     ]
    },
    {
     "name": "stderr",
     "output_type": "stream",
     "text": [
      " 14%|█▍        | 631/4406 [01:19<19:13,  3.27it/s]"
     ]
    },
    {
     "name": "stdout",
     "output_type": "stream",
     "text": [
      "Dataframe has been added to the Station object. Please use the .data attribute to access.\n"
     ]
    },
    {
     "name": "stderr",
     "output_type": "stream",
     "text": [
      " 15%|█▍        | 655/4406 [01:22<06:12, 10.08it/s]"
     ]
    },
    {
     "name": "stdout",
     "output_type": "stream",
     "text": [
      "Dataframe has been added to the Station object. Please use the .data attribute to access.\n"
     ]
    },
    {
     "name": "stderr",
     "output_type": "stream",
     "text": [
      " 15%|█▍        | 659/4406 [01:23<09:47,  6.37it/s]"
     ]
    },
    {
     "name": "stdout",
     "output_type": "stream",
     "text": [
      "Dataframe has been added to the Station object. Please use the .data attribute to access.\n",
      "Dataframe has been added to the Station object. Please use the .data attribute to access.\n"
     ]
    },
    {
     "name": "stderr",
     "output_type": "stream",
     "text": [
      " 15%|█▌        | 664/4406 [01:25<13:10,  4.74it/s]"
     ]
    },
    {
     "name": "stdout",
     "output_type": "stream",
     "text": [
      "Dataframe has been added to the Station object. Please use the .data attribute to access.\n"
     ]
    },
    {
     "name": "stderr",
     "output_type": "stream",
     "text": [
      " 15%|█▌        | 667/4406 [01:26<13:40,  4.56it/s]"
     ]
    },
    {
     "name": "stdout",
     "output_type": "stream",
     "text": [
      "Dataframe has been added to the Station object. Please use the .data attribute to access.\n"
     ]
    },
    {
     "name": "stderr",
     "output_type": "stream",
     "text": [
      " 15%|█▌        | 673/4406 [01:26<09:34,  6.50it/s]"
     ]
    },
    {
     "name": "stdout",
     "output_type": "stream",
     "text": [
      "Dataframe has been added to the Station object. Please use the .data attribute to access.\n"
     ]
    },
    {
     "name": "stderr",
     "output_type": "stream",
     "text": [
      " 15%|█▌        | 680/4406 [01:28<08:52,  6.99it/s]"
     ]
    },
    {
     "name": "stdout",
     "output_type": "stream",
     "text": [
      "Dataframe has been added to the Station object. Please use the .data attribute to access.\n"
     ]
    },
    {
     "name": "stderr",
     "output_type": "stream",
     "text": [
      " 15%|█▌        | 682/4406 [01:29<14:31,  4.27it/s]"
     ]
    },
    {
     "name": "stdout",
     "output_type": "stream",
     "text": [
      "Dataframe has been added to the Station object. Please use the .data attribute to access.\n"
     ]
    },
    {
     "name": "stderr",
     "output_type": "stream",
     "text": [
      " 16%|█▌        | 691/4406 [01:30<07:43,  8.01it/s]"
     ]
    },
    {
     "name": "stdout",
     "output_type": "stream",
     "text": [
      "Dataframe has been added to the Station object. Please use the .data attribute to access.\n"
     ]
    },
    {
     "name": "stderr",
     "output_type": "stream",
     "text": [
      " 16%|█▌        | 693/4406 [01:31<13:25,  4.61it/s]"
     ]
    },
    {
     "name": "stdout",
     "output_type": "stream",
     "text": [
      "Dataframe has been added to the Station object. Please use the .data attribute to access.\n"
     ]
    },
    {
     "name": "stderr",
     "output_type": "stream",
     "text": [
      " 16%|█▌        | 695/4406 [01:31<16:25,  3.76it/s]"
     ]
    },
    {
     "name": "stdout",
     "output_type": "stream",
     "text": [
      "Dataframe has been added to the Station object. Please use the .data attribute to access.\n"
     ]
    },
    {
     "name": "stderr",
     "output_type": "stream",
     "text": [
      " 16%|█▌        | 697/4406 [01:32<18:15,  3.39it/s]"
     ]
    },
    {
     "name": "stdout",
     "output_type": "stream",
     "text": [
      "Dataframe has been added to the Station object. Please use the .data attribute to access.\n"
     ]
    },
    {
     "name": "stderr",
     "output_type": "stream",
     "text": [
      " 16%|█▌        | 698/4406 [01:33<19:45,  3.13it/s]"
     ]
    },
    {
     "name": "stdout",
     "output_type": "stream",
     "text": [
      "Dataframe has been added to the Station object. Please use the .data attribute to access.\n"
     ]
    },
    {
     "name": "stderr",
     "output_type": "stream",
     "text": [
      " 16%|█▌        | 702/4406 [01:34<15:41,  3.94it/s]"
     ]
    },
    {
     "name": "stdout",
     "output_type": "stream",
     "text": [
      "Dataframe has been added to the Station object. Please use the .data attribute to access.\n"
     ]
    },
    {
     "name": "stderr",
     "output_type": "stream",
     "text": [
      " 16%|█▌        | 707/4406 [01:35<11:38,  5.30it/s]"
     ]
    },
    {
     "name": "stdout",
     "output_type": "stream",
     "text": [
      "Dataframe has been added to the Station object. Please use the .data attribute to access.\n"
     ]
    },
    {
     "name": "stderr",
     "output_type": "stream",
     "text": [
      " 16%|█▌        | 712/4406 [01:36<12:05,  5.09it/s]"
     ]
    },
    {
     "name": "stdout",
     "output_type": "stream",
     "text": [
      "Dataframe has been added to the Station object. Please use the .data attribute to access.\n"
     ]
    },
    {
     "name": "stderr",
     "output_type": "stream",
     "text": [
      " 16%|█▋        | 720/4406 [01:37<07:59,  7.69it/s]"
     ]
    },
    {
     "name": "stdout",
     "output_type": "stream",
     "text": [
      "Dataframe has been added to the Station object. Please use the .data attribute to access.\n"
     ]
    },
    {
     "name": "stderr",
     "output_type": "stream",
     "text": [
      " 16%|█▋        | 726/4406 [01:38<10:05,  6.08it/s]"
     ]
    },
    {
     "name": "stdout",
     "output_type": "stream",
     "text": [
      "Dataframe has been added to the Station object. Please use the .data attribute to access.\n"
     ]
    },
    {
     "name": "stderr",
     "output_type": "stream",
     "text": [
      " 17%|█▋        | 748/4406 [01:41<04:51, 12.56it/s]"
     ]
    },
    {
     "name": "stdout",
     "output_type": "stream",
     "text": [
      "Dataframe has been added to the Station object. Please use the .data attribute to access.\n"
     ]
    },
    {
     "name": "stderr",
     "output_type": "stream",
     "text": [
      " 17%|█▋        | 766/4406 [01:43<04:56, 12.29it/s]"
     ]
    },
    {
     "name": "stdout",
     "output_type": "stream",
     "text": [
      "Dataframe has been added to the Station object. Please use the .data attribute to access.\n"
     ]
    },
    {
     "name": "stderr",
     "output_type": "stream",
     "text": [
      "/home/jehayes/mambaforge/envs/deep-snow/lib/python3.12/site-packages/sklearn/decomposition/_pca.py:653: RuntimeWarning: invalid value encountered in divide\n",
      "  explained_variance_ratio_ = explained_variance_ / total_var\n",
      " 18%|█▊        | 774/4406 [01:44<07:41,  7.87it/s]"
     ]
    },
    {
     "name": "stdout",
     "output_type": "stream",
     "text": [
      "Dataframe has been added to the Station object. Please use the .data attribute to access.\n"
     ]
    },
    {
     "name": "stderr",
     "output_type": "stream",
     "text": [
      "/home/jehayes/mambaforge/envs/deep-snow/lib/python3.12/site-packages/sklearn/decomposition/_pca.py:653: RuntimeWarning: invalid value encountered in divide\n",
      "  explained_variance_ratio_ = explained_variance_ / total_var\n",
      " 18%|█▊        | 776/4406 [01:45<10:07,  5.97it/s]/home/jehayes/mambaforge/envs/deep-snow/lib/python3.12/site-packages/sklearn/decomposition/_pca.py:653: RuntimeWarning: invalid value encountered in divide\n",
      "  explained_variance_ratio_ = explained_variance_ / total_var\n",
      " 18%|█▊        | 777/4406 [01:45<13:46,  4.39it/s]"
     ]
    },
    {
     "name": "stdout",
     "output_type": "stream",
     "text": [
      "Dataframe has been added to the Station object. Please use the .data attribute to access.\n"
     ]
    },
    {
     "name": "stderr",
     "output_type": "stream",
     "text": [
      " 18%|█▊        | 785/4406 [01:46<07:08,  8.46it/s]/home/jehayes/mambaforge/envs/deep-snow/lib/python3.12/site-packages/sklearn/decomposition/_pca.py:653: RuntimeWarning: invalid value encountered in divide\n",
      "  explained_variance_ratio_ = explained_variance_ / total_var\n",
      " 18%|█▊        | 787/4406 [01:46<10:15,  5.88it/s]"
     ]
    },
    {
     "name": "stdout",
     "output_type": "stream",
     "text": [
      "Dataframe has been added to the Station object. Please use the .data attribute to access.\n"
     ]
    },
    {
     "name": "stderr",
     "output_type": "stream",
     "text": [
      "/home/jehayes/mambaforge/envs/deep-snow/lib/python3.12/site-packages/sklearn/decomposition/_pca.py:653: RuntimeWarning: invalid value encountered in divide\n",
      "  explained_variance_ratio_ = explained_variance_ / total_var\n",
      " 18%|█▊        | 788/4406 [01:47<14:50,  4.06it/s]"
     ]
    },
    {
     "name": "stdout",
     "output_type": "stream",
     "text": [
      "Dataframe has been added to the Station object. Please use the .data attribute to access.\n"
     ]
    },
    {
     "name": "stderr",
     "output_type": "stream",
     "text": [
      " 18%|█▊        | 791/4406 [01:47<09:54,  6.08it/s]/home/jehayes/mambaforge/envs/deep-snow/lib/python3.12/site-packages/sklearn/decomposition/_pca.py:653: RuntimeWarning: invalid value encountered in divide\n",
      "  explained_variance_ratio_ = explained_variance_ / total_var\n",
      " 18%|█▊        | 792/4406 [01:48<16:39,  3.62it/s]"
     ]
    },
    {
     "name": "stdout",
     "output_type": "stream",
     "text": [
      "Dataframe has been added to the Station object. Please use the .data attribute to access.\n"
     ]
    },
    {
     "name": "stderr",
     "output_type": "stream",
     "text": [
      " 18%|█▊        | 805/4406 [01:49<05:11, 11.55it/s]"
     ]
    },
    {
     "name": "stdout",
     "output_type": "stream",
     "text": [
      "Dataframe has been added to the Station object. Please use the .data attribute to access.\n"
     ]
    },
    {
     "name": "stderr",
     "output_type": "stream",
     "text": [
      "/home/jehayes/mambaforge/envs/deep-snow/lib/python3.12/site-packages/sklearn/decomposition/_pca.py:653: RuntimeWarning: invalid value encountered in divide\n",
      "  explained_variance_ratio_ = explained_variance_ / total_var\n",
      " 18%|█▊        | 813/4406 [01:50<06:37,  9.04it/s]"
     ]
    },
    {
     "name": "stdout",
     "output_type": "stream",
     "text": [
      "Dataframe has been added to the Station object. Please use the .data attribute to access.\n"
     ]
    },
    {
     "name": "stderr",
     "output_type": "stream",
     "text": [
      "/home/jehayes/mambaforge/envs/deep-snow/lib/python3.12/site-packages/sklearn/decomposition/_pca.py:653: RuntimeWarning: invalid value encountered in divide\n",
      "  explained_variance_ratio_ = explained_variance_ / total_var\n",
      " 18%|█▊        | 815/4406 [01:50<09:20,  6.40it/s]/home/jehayes/mambaforge/envs/deep-snow/lib/python3.12/site-packages/sklearn/decomposition/_pca.py:653: RuntimeWarning: invalid value encountered in divide\n",
      "  explained_variance_ratio_ = explained_variance_ / total_var\n",
      " 19%|█▊        | 816/4406 [01:51<11:40,  5.12it/s]"
     ]
    },
    {
     "name": "stdout",
     "output_type": "stream",
     "text": [
      "Dataframe has been added to the Station object. Please use the .data attribute to access.\n"
     ]
    },
    {
     "name": "stderr",
     "output_type": "stream",
     "text": [
      " 19%|█▊        | 825/4406 [01:52<07:05,  8.41it/s]/home/jehayes/mambaforge/envs/deep-snow/lib/python3.12/site-packages/sklearn/decomposition/_pca.py:653: RuntimeWarning: invalid value encountered in divide\n",
      "  explained_variance_ratio_ = explained_variance_ / total_var\n",
      " 19%|█▊        | 826/4406 [01:52<10:24,  5.73it/s]"
     ]
    },
    {
     "name": "stdout",
     "output_type": "stream",
     "text": [
      "Dataframe has been added to the Station object. Please use the .data attribute to access.\n"
     ]
    },
    {
     "name": "stderr",
     "output_type": "stream",
     "text": [
      "/home/jehayes/mambaforge/envs/deep-snow/lib/python3.12/site-packages/sklearn/decomposition/_pca.py:653: RuntimeWarning: invalid value encountered in divide\n",
      "  explained_variance_ratio_ = explained_variance_ / total_var\n",
      " 19%|█▉        | 827/4406 [01:52<13:10,  4.53it/s]"
     ]
    },
    {
     "name": "stdout",
     "output_type": "stream",
     "text": [
      "Dataframe has been added to the Station object. Please use the .data attribute to access.\n"
     ]
    },
    {
     "name": "stderr",
     "output_type": "stream",
     "text": [
      " 19%|█▉        | 829/4406 [01:53<10:08,  5.88it/s]/home/jehayes/mambaforge/envs/deep-snow/lib/python3.12/site-packages/sklearn/decomposition/_pca.py:653: RuntimeWarning: invalid value encountered in divide\n",
      "  explained_variance_ratio_ = explained_variance_ / total_var\n",
      " 19%|█▉        | 831/4406 [01:53<12:24,  4.80it/s]"
     ]
    },
    {
     "name": "stdout",
     "output_type": "stream",
     "text": [
      "Dataframe has been added to the Station object. Please use the .data attribute to access.\n"
     ]
    },
    {
     "name": "stderr",
     "output_type": "stream",
     "text": [
      " 19%|█▉        | 840/4406 [01:54<06:39,  8.93it/s]"
     ]
    },
    {
     "name": "stdout",
     "output_type": "stream",
     "text": [
      "Dataframe has been added to the Station object. Please use the .data attribute to access.\n"
     ]
    },
    {
     "name": "stderr",
     "output_type": "stream",
     "text": [
      " 19%|█▉        | 846/4406 [01:55<08:31,  6.96it/s]"
     ]
    },
    {
     "name": "stdout",
     "output_type": "stream",
     "text": [
      "Dataframe has been added to the Station object. Please use the .data attribute to access.\n"
     ]
    },
    {
     "name": "stderr",
     "output_type": "stream",
     "text": [
      " 24%|██▎       | 1044/4406 [02:14<04:32, 12.34it/s]"
     ]
    },
    {
     "name": "stdout",
     "output_type": "stream",
     "text": [
      "Dataframe has been added to the Station object. Please use the .data attribute to access.\n"
     ]
    },
    {
     "name": "stderr",
     "output_type": "stream",
     "text": [
      " 28%|██▊       | 1228/4406 [02:31<06:01,  8.78it/s]"
     ]
    },
    {
     "name": "stdout",
     "output_type": "stream",
     "text": [
      "Dataframe has been added to the Station object. Please use the .data attribute to access.\n"
     ]
    },
    {
     "name": "stderr",
     "output_type": "stream",
     "text": [
      " 32%|███▏      | 1413/4406 [02:51<05:21,  9.30it/s]"
     ]
    },
    {
     "name": "stdout",
     "output_type": "stream",
     "text": [
      "Dataframe has been added to the Station object. Please use the .data attribute to access.\n"
     ]
    },
    {
     "name": "stderr",
     "output_type": "stream",
     "text": [
      " 36%|███▋      | 1602/4406 [03:13<05:31,  8.46it/s]"
     ]
    },
    {
     "name": "stdout",
     "output_type": "stream",
     "text": [
      "Dataframe has been added to the Station object. Please use the .data attribute to access.\n"
     ]
    },
    {
     "name": "stderr",
     "output_type": "stream",
     "text": [
      " 37%|███▋      | 1619/4406 [03:16<04:39,  9.96it/s]"
     ]
    },
    {
     "name": "stdout",
     "output_type": "stream",
     "text": [
      "Dataframe has been added to the Station object. Please use the .data attribute to access.\n"
     ]
    },
    {
     "name": "stderr",
     "output_type": "stream",
     "text": [
      " 37%|███▋      | 1622/4406 [03:16<07:59,  5.81it/s]"
     ]
    },
    {
     "name": "stdout",
     "output_type": "stream",
     "text": [
      "Dataframe has been added to the Station object. Please use the .data attribute to access.\n"
     ]
    },
    {
     "name": "stderr",
     "output_type": "stream",
     "text": [
      " 37%|███▋      | 1641/4406 [03:19<06:41,  6.89it/s]"
     ]
    },
    {
     "name": "stdout",
     "output_type": "stream",
     "text": [
      "Dataframe has been added to the Station object. Please use the .data attribute to access.\n"
     ]
    },
    {
     "name": "stderr",
     "output_type": "stream",
     "text": [
      " 37%|███▋      | 1650/4406 [03:21<05:52,  7.82it/s]"
     ]
    },
    {
     "name": "stdout",
     "output_type": "stream",
     "text": [
      "Dataframe has been added to the Station object. Please use the .data attribute to access.\n"
     ]
    },
    {
     "name": "stderr",
     "output_type": "stream",
     "text": [
      " 38%|███▊      | 1656/4406 [03:22<07:26,  6.16it/s]"
     ]
    },
    {
     "name": "stdout",
     "output_type": "stream",
     "text": [
      "Dataframe has been added to the Station object. Please use the .data attribute to access.\n"
     ]
    },
    {
     "name": "stderr",
     "output_type": "stream",
     "text": [
      " 38%|███▊      | 1667/4406 [03:24<06:38,  6.88it/s]"
     ]
    },
    {
     "name": "stdout",
     "output_type": "stream",
     "text": [
      "Dataframe has been added to the Station object. Please use the .data attribute to access.\n"
     ]
    },
    {
     "name": "stderr",
     "output_type": "stream",
     "text": [
      " 38%|███▊      | 1675/4406 [03:26<05:36,  8.10it/s]"
     ]
    },
    {
     "name": "stdout",
     "output_type": "stream",
     "text": [
      "Dataframe has been added to the Station object. Please use the .data attribute to access.\n"
     ]
    },
    {
     "name": "stderr",
     "output_type": "stream",
     "text": [
      " 38%|███▊      | 1681/4406 [03:27<08:46,  5.18it/s]"
     ]
    },
    {
     "name": "stdout",
     "output_type": "stream",
     "text": [
      "Dataframe has been added to the Station object. Please use the .data attribute to access.\n"
     ]
    },
    {
     "name": "stderr",
     "output_type": "stream",
     "text": [
      " 38%|███▊      | 1693/4406 [03:29<05:32,  8.16it/s]"
     ]
    },
    {
     "name": "stdout",
     "output_type": "stream",
     "text": [
      "Dataframe has been added to the Station object. Please use the .data attribute to access.\n"
     ]
    },
    {
     "name": "stderr",
     "output_type": "stream",
     "text": [
      " 49%|████▊     | 2146/4406 [04:18<03:57,  9.50it/s]"
     ]
    },
    {
     "name": "stdout",
     "output_type": "stream",
     "text": [
      "Dataframe has been added to the Station object. Please use the .data attribute to access.\n"
     ]
    },
    {
     "name": "stderr",
     "output_type": "stream",
     "text": [
      " 50%|████▉     | 2186/4406 [04:24<04:04,  9.09it/s]"
     ]
    },
    {
     "name": "stdout",
     "output_type": "stream",
     "text": [
      "Dataframe has been added to the Station object. Please use the .data attribute to access.\n"
     ]
    },
    {
     "name": "stderr",
     "output_type": "stream",
     "text": [
      " 50%|████▉     | 2199/4406 [04:25<04:29,  8.20it/s]"
     ]
    },
    {
     "name": "stdout",
     "output_type": "stream",
     "text": [
      "Dataframe has been added to the Station object. Please use the .data attribute to access.\n",
      "Dataframe has been added to the Station object. Please use the .data attribute to access.\n"
     ]
    },
    {
     "name": "stderr",
     "output_type": "stream",
     "text": [
      " 50%|████▉     | 2200/4406 [04:27<16:26,  2.24it/s]"
     ]
    },
    {
     "name": "stdout",
     "output_type": "stream",
     "text": [
      "Dataframe has been added to the Station object. Please use the .data attribute to access.\n"
     ]
    },
    {
     "name": "stderr",
     "output_type": "stream",
     "text": [
      " 50%|█████     | 2204/4406 [04:28<09:27,  3.88it/s]"
     ]
    },
    {
     "name": "stdout",
     "output_type": "stream",
     "text": [
      "Dataframe has been added to the Station object. Please use the .data attribute to access.\n"
     ]
    },
    {
     "name": "stderr",
     "output_type": "stream",
     "text": [
      " 50%|█████     | 2207/4406 [04:28<08:52,  4.13it/s]"
     ]
    },
    {
     "name": "stdout",
     "output_type": "stream",
     "text": [
      "Dataframe has been added to the Station object. Please use the .data attribute to access.\n"
     ]
    },
    {
     "name": "stderr",
     "output_type": "stream",
     "text": [
      " 50%|█████     | 2208/4406 [04:29<11:15,  3.26it/s]"
     ]
    },
    {
     "name": "stdout",
     "output_type": "stream",
     "text": [
      "Dataframe has been added to the Station object. Please use the .data attribute to access.\n"
     ]
    },
    {
     "name": "stderr",
     "output_type": "stream",
     "text": [
      " 55%|█████▌    | 2437/4406 [04:57<02:52, 11.39it/s]"
     ]
    },
    {
     "name": "stdout",
     "output_type": "stream",
     "text": [
      "Dataframe has been added to the Station object. Please use the .data attribute to access.\n"
     ]
    },
    {
     "name": "stderr",
     "output_type": "stream",
     "text": [
      " 55%|█████▌    | 2439/4406 [04:57<06:17,  5.21it/s]"
     ]
    },
    {
     "name": "stdout",
     "output_type": "stream",
     "text": [
      "Dataframe has been added to the Station object. Please use the .data attribute to access.\n"
     ]
    },
    {
     "name": "stderr",
     "output_type": "stream",
     "text": [
      " 56%|█████▌    | 2477/4406 [05:02<05:36,  5.74it/s]"
     ]
    },
    {
     "name": "stdout",
     "output_type": "stream",
     "text": [
      "Dataframe has been added to the Station object. Please use the .data attribute to access.\n"
     ]
    },
    {
     "name": "stderr",
     "output_type": "stream",
     "text": [
      " 57%|█████▋    | 2491/4406 [05:05<03:55,  8.13it/s]"
     ]
    },
    {
     "name": "stdout",
     "output_type": "stream",
     "text": [
      "Dataframe has been added to the Station object. Please use the .data attribute to access.\n"
     ]
    },
    {
     "name": "stderr",
     "output_type": "stream",
     "text": [
      " 57%|█████▋    | 2493/4406 [05:06<09:12,  3.46it/s]"
     ]
    },
    {
     "name": "stdout",
     "output_type": "stream",
     "text": [
      "Dataframe has been added to the Station object. Please use the .data attribute to access.\n"
     ]
    },
    {
     "name": "stderr",
     "output_type": "stream",
     "text": [
      " 57%|█████▋    | 2515/4406 [05:09<02:43, 11.54it/s]"
     ]
    },
    {
     "name": "stdout",
     "output_type": "stream",
     "text": [
      "Dataframe has been added to the Station object. Please use the .data attribute to access.\n"
     ]
    },
    {
     "name": "stderr",
     "output_type": "stream",
     "text": [
      " 57%|█████▋    | 2521/4406 [05:10<03:47,  8.28it/s]"
     ]
    },
    {
     "name": "stdout",
     "output_type": "stream",
     "text": [
      "Dataframe has been added to the Station object. Please use the .data attribute to access.\n"
     ]
    },
    {
     "name": "stderr",
     "output_type": "stream",
     "text": [
      " 57%|█████▋    | 2533/4406 [05:12<03:44,  8.35it/s]"
     ]
    },
    {
     "name": "stdout",
     "output_type": "stream",
     "text": [
      "Dataframe has been added to the Station object. Please use the .data attribute to access.\n"
     ]
    },
    {
     "name": "stderr",
     "output_type": "stream",
     "text": [
      " 58%|█████▊    | 2545/4406 [05:13<03:08,  9.89it/s]"
     ]
    },
    {
     "name": "stdout",
     "output_type": "stream",
     "text": [
      "Dataframe has been added to the Station object. Please use the .data attribute to access.\n"
     ]
    },
    {
     "name": "stderr",
     "output_type": "stream",
     "text": [
      "/home/jehayes/mambaforge/envs/deep-snow/lib/python3.12/site-packages/sklearn/decomposition/_pca.py:653: RuntimeWarning: invalid value encountered in divide\n",
      "  explained_variance_ratio_ = explained_variance_ / total_var\n",
      " 58%|█████▊    | 2549/4406 [05:14<03:56,  7.85it/s]/home/jehayes/mambaforge/envs/deep-snow/lib/python3.12/site-packages/sklearn/decomposition/_pca.py:653: RuntimeWarning: invalid value encountered in divide\n",
      "  explained_variance_ratio_ = explained_variance_ / total_var\n",
      " 58%|█████▊    | 2551/4406 [05:15<06:06,  5.06it/s]"
     ]
    },
    {
     "name": "stdout",
     "output_type": "stream",
     "text": [
      "Dataframe has been added to the Station object. Please use the .data attribute to access.\n"
     ]
    },
    {
     "name": "stderr",
     "output_type": "stream",
     "text": [
      " 58%|█████▊    | 2555/4406 [05:15<04:12,  7.33it/s]"
     ]
    },
    {
     "name": "stdout",
     "output_type": "stream",
     "text": [
      "Dataframe has been added to the Station object. Please use the .data attribute to access.\n"
     ]
    },
    {
     "name": "stderr",
     "output_type": "stream",
     "text": [
      "/home/jehayes/mambaforge/envs/deep-snow/lib/python3.12/site-packages/sklearn/decomposition/_pca.py:653: RuntimeWarning: invalid value encountered in divide\n",
      "  explained_variance_ratio_ = explained_variance_ / total_var\n",
      " 58%|█████▊    | 2557/4406 [05:16<08:33,  3.60it/s]"
     ]
    },
    {
     "name": "stdout",
     "output_type": "stream",
     "text": [
      "Dataframe has been added to the Station object. Please use the .data attribute to access.\n"
     ]
    },
    {
     "name": "stderr",
     "output_type": "stream",
     "text": [
      " 58%|█████▊    | 2570/4406 [05:18<03:50,  7.96it/s]"
     ]
    },
    {
     "name": "stdout",
     "output_type": "stream",
     "text": [
      "Dataframe has been added to the Station object. Please use the .data attribute to access.\n"
     ]
    },
    {
     "name": "stderr",
     "output_type": "stream",
     "text": [
      "/home/jehayes/mambaforge/envs/deep-snow/lib/python3.12/site-packages/sklearn/decomposition/_pca.py:653: RuntimeWarning: invalid value encountered in divide\n",
      "  explained_variance_ratio_ = explained_variance_ / total_var\n",
      " 58%|█████▊    | 2573/4406 [05:18<05:06,  5.99it/s]/home/jehayes/mambaforge/envs/deep-snow/lib/python3.12/site-packages/sklearn/decomposition/_pca.py:653: RuntimeWarning: invalid value encountered in divide\n",
      "  explained_variance_ratio_ = explained_variance_ / total_var\n",
      " 58%|█████▊    | 2574/4406 [05:19<10:03,  3.04it/s]"
     ]
    },
    {
     "name": "stdout",
     "output_type": "stream",
     "text": [
      "Dataframe has been added to the Station object. Please use the .data attribute to access.\n"
     ]
    },
    {
     "name": "stderr",
     "output_type": "stream",
     "text": [
      " 59%|█████▊    | 2579/4406 [05:20<04:21,  6.99it/s]"
     ]
    },
    {
     "name": "stdout",
     "output_type": "stream",
     "text": [
      "Dataframe has been added to the Station object. Please use the .data attribute to access.\n"
     ]
    },
    {
     "name": "stderr",
     "output_type": "stream",
     "text": [
      "/home/jehayes/mambaforge/envs/deep-snow/lib/python3.12/site-packages/sklearn/decomposition/_pca.py:653: RuntimeWarning: invalid value encountered in divide\n",
      "  explained_variance_ratio_ = explained_variance_ / total_var\n"
     ]
    },
    {
     "name": "stdout",
     "output_type": "stream",
     "text": [
      "Dataframe has been added to the Station object. Please use the .data attribute to access.\n",
      "Dataframe has been added to the Station object. Please use the .data attribute to access.\n"
     ]
    },
    {
     "name": "stderr",
     "output_type": "stream",
     "text": [
      "/home/jehayes/mambaforge/envs/deep-snow/lib/python3.12/site-packages/sklearn/decomposition/_pca.py:653: RuntimeWarning: invalid value encountered in divide\n",
      "  explained_variance_ratio_ = explained_variance_ / total_var\n",
      " 59%|█████▊    | 2588/4406 [05:22<04:40,  6.48it/s]"
     ]
    },
    {
     "name": "stdout",
     "output_type": "stream",
     "text": [
      "Dataframe has been added to the Station object. Please use the .data attribute to access.\n"
     ]
    },
    {
     "name": "stderr",
     "output_type": "stream",
     "text": [
      "/home/jehayes/mambaforge/envs/deep-snow/lib/python3.12/site-packages/sklearn/decomposition/_pca.py:653: RuntimeWarning: invalid value encountered in divide\n",
      "  explained_variance_ratio_ = explained_variance_ / total_var\n",
      "/home/jehayes/mambaforge/envs/deep-snow/lib/python3.12/site-packages/sklearn/decomposition/_pca.py:653: RuntimeWarning: invalid value encountered in divide\n",
      "  explained_variance_ratio_ = explained_variance_ / total_var\n",
      " 59%|█████▉    | 2590/4406 [05:23<08:50,  3.42it/s]"
     ]
    },
    {
     "name": "stdout",
     "output_type": "stream",
     "text": [
      "Dataframe has been added to the Station object. Please use the .data attribute to access.\n"
     ]
    },
    {
     "name": "stderr",
     "output_type": "stream",
     "text": [
      " 59%|█████▉    | 2595/4406 [05:23<04:34,  6.59it/s]/home/jehayes/mambaforge/envs/deep-snow/lib/python3.12/site-packages/sklearn/decomposition/_pca.py:653: RuntimeWarning: invalid value encountered in divide\n",
      "  explained_variance_ratio_ = explained_variance_ / total_var\n",
      " 59%|█████▉    | 2597/4406 [05:24<06:30,  4.63it/s]"
     ]
    },
    {
     "name": "stdout",
     "output_type": "stream",
     "text": [
      "Dataframe has been added to the Station object. Please use the .data attribute to access.\n"
     ]
    },
    {
     "name": "stderr",
     "output_type": "stream",
     "text": [
      "/home/jehayes/mambaforge/envs/deep-snow/lib/python3.12/site-packages/sklearn/decomposition/_pca.py:653: RuntimeWarning: invalid value encountered in divide\n",
      "  explained_variance_ratio_ = explained_variance_ / total_var\n",
      " 59%|█████▉    | 2598/4406 [05:25<08:42,  3.46it/s]"
     ]
    },
    {
     "name": "stdout",
     "output_type": "stream",
     "text": [
      "Dataframe has been added to the Station object. Please use the .data attribute to access.\n"
     ]
    },
    {
     "name": "stderr",
     "output_type": "stream",
     "text": [
      " 59%|█████▉    | 2608/4406 [05:25<03:13,  9.29it/s]/home/jehayes/mambaforge/envs/deep-snow/lib/python3.12/site-packages/sklearn/decomposition/_pca.py:653: RuntimeWarning: invalid value encountered in divide\n",
      "  explained_variance_ratio_ = explained_variance_ / total_var\n",
      " 59%|█████▉    | 2610/4406 [05:26<05:42,  5.24it/s]"
     ]
    },
    {
     "name": "stdout",
     "output_type": "stream",
     "text": [
      "Dataframe has been added to the Station object. Please use the .data attribute to access.\n"
     ]
    },
    {
     "name": "stderr",
     "output_type": "stream",
     "text": [
      " 59%|█████▉    | 2617/4406 [05:27<03:32,  8.41it/s]"
     ]
    },
    {
     "name": "stdout",
     "output_type": "stream",
     "text": [
      "Dataframe has been added to the Station object. Please use the .data attribute to access.\n"
     ]
    },
    {
     "name": "stderr",
     "output_type": "stream",
     "text": [
      "/home/jehayes/mambaforge/envs/deep-snow/lib/python3.12/site-packages/sklearn/decomposition/_pca.py:653: RuntimeWarning: invalid value encountered in divide\n",
      "  explained_variance_ratio_ = explained_variance_ / total_var\n",
      "/home/jehayes/mambaforge/envs/deep-snow/lib/python3.12/site-packages/sklearn/decomposition/_pca.py:653: RuntimeWarning: invalid value encountered in divide\n",
      "  explained_variance_ratio_ = explained_variance_ / total_var\n",
      " 59%|█████▉    | 2621/4406 [05:28<04:28,  6.64it/s]"
     ]
    },
    {
     "name": "stdout",
     "output_type": "stream",
     "text": [
      "Dataframe has been added to the Station object. Please use the .data attribute to access.\n"
     ]
    },
    {
     "name": "stderr",
     "output_type": "stream",
     "text": [
      "/home/jehayes/mambaforge/envs/deep-snow/lib/python3.12/site-packages/sklearn/decomposition/_pca.py:653: RuntimeWarning: invalid value encountered in divide\n",
      "  explained_variance_ratio_ = explained_variance_ / total_var\n",
      " 60%|█████▉    | 2623/4406 [05:28<05:02,  5.89it/s]"
     ]
    },
    {
     "name": "stdout",
     "output_type": "stream",
     "text": [
      "Dataframe has been added to the Station object. Please use the .data attribute to access.\n"
     ]
    },
    {
     "name": "stderr",
     "output_type": "stream",
     "text": [
      " 60%|█████▉    | 2624/4406 [05:28<04:41,  6.34it/s]"
     ]
    },
    {
     "name": "stdout",
     "output_type": "stream",
     "text": [
      "Dataframe has been added to the Station object. Please use the .data attribute to access.\n",
      "Dataframe has been added to the Station object. Please use the .data attribute to access.\n"
     ]
    },
    {
     "name": "stderr",
     "output_type": "stream",
     "text": [
      "/home/jehayes/mambaforge/envs/deep-snow/lib/python3.12/site-packages/sklearn/decomposition/_pca.py:653: RuntimeWarning: invalid value encountered in divide\n",
      "  explained_variance_ratio_ = explained_variance_ / total_var\n",
      " 60%|█████▉    | 2626/4406 [05:29<06:06,  4.85it/s]/home/jehayes/mambaforge/envs/deep-snow/lib/python3.12/site-packages/sklearn/decomposition/_pca.py:653: RuntimeWarning: invalid value encountered in divide\n",
      "  explained_variance_ratio_ = explained_variance_ / total_var\n",
      " 60%|█████▉    | 2627/4406 [05:29<06:43,  4.41it/s]"
     ]
    },
    {
     "name": "stdout",
     "output_type": "stream",
     "text": [
      "Dataframe has been added to the Station object. Please use the .data attribute to access.\n",
      "Dataframe has been added to the Station object. Please use the .data attribute to access.\n",
      "Dataframe has been added to the Station object. Please use the .data attribute to access.\n"
     ]
    },
    {
     "name": "stderr",
     "output_type": "stream",
     "text": [
      "/home/jehayes/mambaforge/envs/deep-snow/lib/python3.12/site-packages/sklearn/decomposition/_pca.py:653: RuntimeWarning: invalid value encountered in divide\n",
      "  explained_variance_ratio_ = explained_variance_ / total_var\n",
      " 60%|█████▉    | 2634/4406 [05:30<04:00,  7.37it/s]/home/jehayes/mambaforge/envs/deep-snow/lib/python3.12/site-packages/sklearn/decomposition/_pca.py:653: RuntimeWarning: invalid value encountered in divide\n",
      "  explained_variance_ratio_ = explained_variance_ / total_var\n",
      " 60%|█████▉    | 2636/4406 [05:31<05:08,  5.74it/s]"
     ]
    },
    {
     "name": "stdout",
     "output_type": "stream",
     "text": [
      "Dataframe has been added to the Station object. Please use the .data attribute to access.\n"
     ]
    },
    {
     "name": "stderr",
     "output_type": "stream",
     "text": [
      " 60%|█████▉    | 2640/4406 [05:31<03:34,  8.23it/s]"
     ]
    },
    {
     "name": "stdout",
     "output_type": "stream",
     "text": [
      "Dataframe has been added to the Station object. Please use the .data attribute to access.\n"
     ]
    },
    {
     "name": "stderr",
     "output_type": "stream",
     "text": [
      "/home/jehayes/mambaforge/envs/deep-snow/lib/python3.12/site-packages/sklearn/decomposition/_pca.py:653: RuntimeWarning: invalid value encountered in divide\n",
      "  explained_variance_ratio_ = explained_variance_ / total_var\n",
      " 60%|██████    | 2646/4406 [05:32<03:39,  8.00it/s]"
     ]
    },
    {
     "name": "stdout",
     "output_type": "stream",
     "text": [
      "Dataframe has been added to the Station object. Please use the .data attribute to access.\n",
      "Dataframe has been added to the Station object. Please use the .data attribute to access.\n"
     ]
    },
    {
     "name": "stderr",
     "output_type": "stream",
     "text": [
      "/home/jehayes/mambaforge/envs/deep-snow/lib/python3.12/site-packages/sklearn/decomposition/_pca.py:653: RuntimeWarning: invalid value encountered in divide\n",
      "  explained_variance_ratio_ = explained_variance_ / total_var\n",
      " 60%|██████    | 2660/4406 [05:34<03:21,  8.65it/s]/home/jehayes/mambaforge/envs/deep-snow/lib/python3.12/site-packages/sklearn/decomposition/_pca.py:653: RuntimeWarning: invalid value encountered in divide\n",
      "  explained_variance_ratio_ = explained_variance_ / total_var\n",
      " 60%|██████    | 2661/4406 [05:34<04:47,  6.08it/s]"
     ]
    },
    {
     "name": "stdout",
     "output_type": "stream",
     "text": [
      "Dataframe has been added to the Station object. Please use the .data attribute to access.\n"
     ]
    },
    {
     "name": "stderr",
     "output_type": "stream",
     "text": [
      " 60%|██████    | 2663/4406 [05:34<03:59,  7.28it/s]/home/jehayes/mambaforge/envs/deep-snow/lib/python3.12/site-packages/sklearn/decomposition/_pca.py:653: RuntimeWarning: invalid value encountered in divide\n",
      "  explained_variance_ratio_ = explained_variance_ / total_var\n",
      " 60%|██████    | 2664/4406 [05:35<05:41,  5.11it/s]"
     ]
    },
    {
     "name": "stdout",
     "output_type": "stream",
     "text": [
      "Dataframe has been added to the Station object. Please use the .data attribute to access.\n"
     ]
    },
    {
     "name": "stderr",
     "output_type": "stream",
     "text": [
      " 61%|██████    | 2668/4406 [05:35<04:03,  7.14it/s]/home/jehayes/mambaforge/envs/deep-snow/lib/python3.12/site-packages/sklearn/decomposition/_pca.py:653: RuntimeWarning: invalid value encountered in divide\n",
      "  explained_variance_ratio_ = explained_variance_ / total_var\n",
      " 61%|██████    | 2670/4406 [05:35<05:07,  5.65it/s]"
     ]
    },
    {
     "name": "stdout",
     "output_type": "stream",
     "text": [
      "Dataframe has been added to the Station object. Please use the .data attribute to access.\n",
      "Dataframe has been added to the Station object. Please use the .data attribute to access.\n",
      "Dataframe has been added to the Station object. Please use the .data attribute to access.\n"
     ]
    },
    {
     "name": "stderr",
     "output_type": "stream",
     "text": [
      "/home/jehayes/mambaforge/envs/deep-snow/lib/python3.12/site-packages/sklearn/decomposition/_pca.py:653: RuntimeWarning: invalid value encountered in divide\n",
      "  explained_variance_ratio_ = explained_variance_ / total_var\n",
      " 61%|██████    | 2678/4406 [05:37<03:41,  7.79it/s]/home/jehayes/mambaforge/envs/deep-snow/lib/python3.12/site-packages/sklearn/decomposition/_pca.py:653: RuntimeWarning: invalid value encountered in divide\n",
      "  explained_variance_ratio_ = explained_variance_ / total_var\n",
      " 61%|██████    | 2679/4406 [05:37<05:57,  4.83it/s]"
     ]
    },
    {
     "name": "stdout",
     "output_type": "stream",
     "text": [
      "Dataframe has been added to the Station object. Please use the .data attribute to access.\n"
     ]
    },
    {
     "name": "stderr",
     "output_type": "stream",
     "text": [
      "/home/jehayes/mambaforge/envs/deep-snow/lib/python3.12/site-packages/sklearn/decomposition/_pca.py:653: RuntimeWarning: invalid value encountered in divide\n",
      "  explained_variance_ratio_ = explained_variance_ / total_var\n",
      " 61%|██████    | 2680/4406 [05:38<07:01,  4.10it/s]"
     ]
    },
    {
     "name": "stdout",
     "output_type": "stream",
     "text": [
      "Dataframe has been added to the Station object. Please use the .data attribute to access.\n"
     ]
    },
    {
     "name": "stderr",
     "output_type": "stream",
     "text": [
      " 61%|██████    | 2686/4406 [05:38<03:05,  9.29it/s]"
     ]
    },
    {
     "name": "stdout",
     "output_type": "stream",
     "text": [
      "Dataframe has been added to the Station object. Please use the .data attribute to access.\n"
     ]
    },
    {
     "name": "stderr",
     "output_type": "stream",
     "text": [
      "/home/jehayes/mambaforge/envs/deep-snow/lib/python3.12/site-packages/sklearn/decomposition/_pca.py:653: RuntimeWarning: invalid value encountered in divide\n",
      "  explained_variance_ratio_ = explained_variance_ / total_var\n",
      "/home/jehayes/mambaforge/envs/deep-snow/lib/python3.12/site-packages/sklearn/decomposition/_pca.py:653: RuntimeWarning: invalid value encountered in divide\n",
      "  explained_variance_ratio_ = explained_variance_ / total_var\n",
      " 61%|██████    | 2690/4406 [05:39<04:08,  6.91it/s]"
     ]
    },
    {
     "name": "stdout",
     "output_type": "stream",
     "text": [
      "Dataframe has been added to the Station object. Please use the .data attribute to access.\n"
     ]
    },
    {
     "name": "stderr",
     "output_type": "stream",
     "text": [
      " 61%|██████▏   | 2699/4406 [05:40<03:54,  7.28it/s]/home/jehayes/mambaforge/envs/deep-snow/lib/python3.12/site-packages/sklearn/decomposition/_pca.py:653: RuntimeWarning: invalid value encountered in divide\n",
      "  explained_variance_ratio_ = explained_variance_ / total_var\n",
      " 61%|██████▏   | 2700/4406 [05:40<06:23,  4.45it/s]"
     ]
    },
    {
     "name": "stdout",
     "output_type": "stream",
     "text": [
      "Dataframe has been added to the Station object. Please use the .data attribute to access.\n"
     ]
    },
    {
     "name": "stderr",
     "output_type": "stream",
     "text": [
      " 61%|██████▏   | 2707/4406 [05:41<04:12,  6.72it/s]"
     ]
    },
    {
     "name": "stdout",
     "output_type": "stream",
     "text": [
      "Dataframe has been added to the Station object. Please use the .data attribute to access.\n"
     ]
    },
    {
     "name": "stderr",
     "output_type": "stream",
     "text": [
      "/home/jehayes/mambaforge/envs/deep-snow/lib/python3.12/site-packages/sklearn/decomposition/_pca.py:653: RuntimeWarning: invalid value encountered in divide\n",
      "  explained_variance_ratio_ = explained_variance_ / total_var\n",
      " 61%|██████▏   | 2708/4406 [05:42<06:41,  4.23it/s]/home/jehayes/mambaforge/envs/deep-snow/lib/python3.12/site-packages/sklearn/decomposition/_pca.py:653: RuntimeWarning: invalid value encountered in divide\n",
      "  explained_variance_ratio_ = explained_variance_ / total_var\n",
      " 61%|██████▏   | 2709/4406 [05:42<07:56,  3.56it/s]"
     ]
    },
    {
     "name": "stdout",
     "output_type": "stream",
     "text": [
      "Dataframe has been added to the Station object. Please use the .data attribute to access.\n"
     ]
    },
    {
     "name": "stderr",
     "output_type": "stream",
     "text": [
      " 62%|██████▏   | 2712/4406 [05:42<04:28,  6.32it/s]/home/jehayes/mambaforge/envs/deep-snow/lib/python3.12/site-packages/sklearn/decomposition/_pca.py:653: RuntimeWarning: invalid value encountered in divide\n",
      "  explained_variance_ratio_ = explained_variance_ / total_var\n",
      " 62%|██████▏   | 2713/4406 [05:43<06:15,  4.50it/s]"
     ]
    },
    {
     "name": "stdout",
     "output_type": "stream",
     "text": [
      "Dataframe has been added to the Station object. Please use the .data attribute to access.\n"
     ]
    },
    {
     "name": "stderr",
     "output_type": "stream",
     "text": [
      " 62%|██████▏   | 2714/4406 [05:43<05:22,  5.25it/s]"
     ]
    },
    {
     "name": "stdout",
     "output_type": "stream",
     "text": [
      "Dataframe has been added to the Station object. Please use the .data attribute to access.\n",
      "Dataframe has been added to the Station object. Please use the .data attribute to access.\n"
     ]
    },
    {
     "name": "stderr",
     "output_type": "stream",
     "text": [
      "/home/jehayes/mambaforge/envs/deep-snow/lib/python3.12/site-packages/sklearn/decomposition/_pca.py:653: RuntimeWarning: invalid value encountered in divide\n",
      "  explained_variance_ratio_ = explained_variance_ / total_var\n",
      " 62%|██████▏   | 2716/4406 [05:44<06:38,  4.24it/s]/home/jehayes/mambaforge/envs/deep-snow/lib/python3.12/site-packages/sklearn/decomposition/_pca.py:653: RuntimeWarning: invalid value encountered in divide\n",
      "  explained_variance_ratio_ = explained_variance_ / total_var\n",
      " 62%|██████▏   | 2717/4406 [05:44<08:10,  3.44it/s]"
     ]
    },
    {
     "name": "stdout",
     "output_type": "stream",
     "text": [
      "Dataframe has been added to the Station object. Please use the .data attribute to access.\n",
      "Dataframe has been added to the Station object. Please use the .data attribute to access.\n",
      "Dataframe has been added to the Station object. Please use the .data attribute to access.\n"
     ]
    },
    {
     "name": "stderr",
     "output_type": "stream",
     "text": [
      "/home/jehayes/mambaforge/envs/deep-snow/lib/python3.12/site-packages/sklearn/decomposition/_pca.py:653: RuntimeWarning: invalid value encountered in divide\n",
      "  explained_variance_ratio_ = explained_variance_ / total_var\n",
      " 62%|██████▏   | 2724/4406 [05:45<04:16,  6.55it/s]/home/jehayes/mambaforge/envs/deep-snow/lib/python3.12/site-packages/sklearn/decomposition/_pca.py:653: RuntimeWarning: invalid value encountered in divide\n",
      "  explained_variance_ratio_ = explained_variance_ / total_var\n",
      " 62%|██████▏   | 2726/4406 [05:46<05:02,  5.55it/s]"
     ]
    },
    {
     "name": "stdout",
     "output_type": "stream",
     "text": [
      "Dataframe has been added to the Station object. Please use the .data attribute to access.\n"
     ]
    },
    {
     "name": "stderr",
     "output_type": "stream",
     "text": [
      " 62%|██████▏   | 2730/4406 [05:46<03:40,  7.62it/s]/home/jehayes/mambaforge/envs/deep-snow/lib/python3.12/site-packages/sklearn/decomposition/_pca.py:653: RuntimeWarning: invalid value encountered in divide\n",
      "  explained_variance_ratio_ = explained_variance_ / total_var\n",
      " 62%|██████▏   | 2731/4406 [05:46<05:16,  5.29it/s]"
     ]
    },
    {
     "name": "stdout",
     "output_type": "stream",
     "text": [
      "Dataframe has been added to the Station object. Please use the .data attribute to access.\n"
     ]
    },
    {
     "name": "stderr",
     "output_type": "stream",
     "text": [
      " 62%|██████▏   | 2735/4406 [05:47<03:27,  8.05it/s]"
     ]
    },
    {
     "name": "stdout",
     "output_type": "stream",
     "text": [
      "Dataframe has been added to the Station object. Please use the .data attribute to access.\n",
      "Dataframe has been added to the Station object. Please use the .data attribute to access.\n"
     ]
    },
    {
     "name": "stderr",
     "output_type": "stream",
     "text": [
      "/home/jehayes/mambaforge/envs/deep-snow/lib/python3.12/site-packages/sklearn/decomposition/_pca.py:653: RuntimeWarning: invalid value encountered in divide\n",
      "  explained_variance_ratio_ = explained_variance_ / total_var\n",
      " 62%|██████▏   | 2749/4406 [05:49<03:15,  8.47it/s]/home/jehayes/mambaforge/envs/deep-snow/lib/python3.12/site-packages/sklearn/decomposition/_pca.py:653: RuntimeWarning: invalid value encountered in divide\n",
      "  explained_variance_ratio_ = explained_variance_ / total_var\n",
      " 62%|██████▏   | 2751/4406 [05:49<04:18,  6.40it/s]"
     ]
    },
    {
     "name": "stdout",
     "output_type": "stream",
     "text": [
      "Dataframe has been added to the Station object. Please use the .data attribute to access.\n"
     ]
    },
    {
     "name": "stderr",
     "output_type": "stream",
     "text": [
      " 62%|██████▏   | 2753/4406 [05:49<03:40,  7.50it/s]/home/jehayes/mambaforge/envs/deep-snow/lib/python3.12/site-packages/sklearn/decomposition/_pca.py:653: RuntimeWarning: invalid value encountered in divide\n",
      "  explained_variance_ratio_ = explained_variance_ / total_var\n",
      " 63%|██████▎   | 2754/4406 [05:50<04:54,  5.61it/s]"
     ]
    },
    {
     "name": "stdout",
     "output_type": "stream",
     "text": [
      "Dataframe has been added to the Station object. Please use the .data attribute to access.\n"
     ]
    },
    {
     "name": "stderr",
     "output_type": "stream",
     "text": [
      " 63%|██████▎   | 2759/4406 [05:50<03:39,  7.51it/s]/home/jehayes/mambaforge/envs/deep-snow/lib/python3.12/site-packages/sklearn/decomposition/_pca.py:653: RuntimeWarning: invalid value encountered in divide\n",
      "  explained_variance_ratio_ = explained_variance_ / total_var\n",
      " 63%|██████▎   | 2760/4406 [05:52<10:48,  2.54it/s]"
     ]
    },
    {
     "name": "stdout",
     "output_type": "stream",
     "text": [
      "Dataframe has been added to the Station object. Please use the .data attribute to access.\n",
      "Dataframe has been added to the Station object. Please use the .data attribute to access.\n",
      "Dataframe has been added to the Station object. Please use the .data attribute to access.\n"
     ]
    },
    {
     "name": "stderr",
     "output_type": "stream",
     "text": [
      "/home/jehayes/mambaforge/envs/deep-snow/lib/python3.12/site-packages/sklearn/decomposition/_pca.py:653: RuntimeWarning: invalid value encountered in divide\n",
      "  explained_variance_ratio_ = explained_variance_ / total_var\n",
      " 63%|██████▎   | 2767/4406 [05:53<04:38,  5.88it/s]/home/jehayes/mambaforge/envs/deep-snow/lib/python3.12/site-packages/sklearn/decomposition/_pca.py:653: RuntimeWarning: invalid value encountered in divide\n",
      "  explained_variance_ratio_ = explained_variance_ / total_var\n",
      " 63%|██████▎   | 2769/4406 [05:53<06:05,  4.48it/s]"
     ]
    },
    {
     "name": "stdout",
     "output_type": "stream",
     "text": [
      "Dataframe has been added to the Station object. Please use the .data attribute to access.\n"
     ]
    },
    {
     "name": "stderr",
     "output_type": "stream",
     "text": [
      "/home/jehayes/mambaforge/envs/deep-snow/lib/python3.12/site-packages/sklearn/decomposition/_pca.py:653: RuntimeWarning: invalid value encountered in divide\n",
      "  explained_variance_ratio_ = explained_variance_ / total_var\n",
      " 63%|██████▎   | 2770/4406 [05:54<06:57,  3.92it/s]"
     ]
    },
    {
     "name": "stdout",
     "output_type": "stream",
     "text": [
      "Dataframe has been added to the Station object. Please use the .data attribute to access.\n"
     ]
    },
    {
     "name": "stderr",
     "output_type": "stream",
     "text": [
      " 63%|██████▎   | 2776/4406 [05:54<03:33,  7.64it/s]"
     ]
    },
    {
     "name": "stdout",
     "output_type": "stream",
     "text": [
      "Dataframe has been added to the Station object. Please use the .data attribute to access.\n"
     ]
    },
    {
     "name": "stderr",
     "output_type": "stream",
     "text": [
      "/home/jehayes/mambaforge/envs/deep-snow/lib/python3.12/site-packages/sklearn/decomposition/_pca.py:653: RuntimeWarning: invalid value encountered in divide\n",
      "  explained_variance_ratio_ = explained_variance_ / total_var\n",
      "/home/jehayes/mambaforge/envs/deep-snow/lib/python3.12/site-packages/sklearn/decomposition/_pca.py:653: RuntimeWarning: invalid value encountered in divide\n",
      "  explained_variance_ratio_ = explained_variance_ / total_var\n",
      " 63%|██████▎   | 2780/4406 [05:55<04:17,  6.31it/s]"
     ]
    },
    {
     "name": "stdout",
     "output_type": "stream",
     "text": [
      "Dataframe has been added to the Station object. Please use the .data attribute to access.\n"
     ]
    },
    {
     "name": "stderr",
     "output_type": "stream",
     "text": [
      " 63%|██████▎   | 2790/4406 [05:56<03:00,  8.94it/s]"
     ]
    },
    {
     "name": "stdout",
     "output_type": "stream",
     "text": [
      "Dataframe has been added to the Station object. Please use the .data attribute to access.\n"
     ]
    },
    {
     "name": "stderr",
     "output_type": "stream",
     "text": [
      "/home/jehayes/mambaforge/envs/deep-snow/lib/python3.12/site-packages/sklearn/decomposition/_pca.py:653: RuntimeWarning: invalid value encountered in divide\n",
      "  explained_variance_ratio_ = explained_variance_ / total_var\n",
      " 64%|██████▎   | 2798/4406 [05:57<04:20,  6.18it/s]/home/jehayes/mambaforge/envs/deep-snow/lib/python3.12/site-packages/sklearn/decomposition/_pca.py:653: RuntimeWarning: invalid value encountered in divide\n",
      "  explained_variance_ratio_ = explained_variance_ / total_var\n",
      " 64%|██████▎   | 2799/4406 [05:58<06:48,  3.93it/s]"
     ]
    },
    {
     "name": "stdout",
     "output_type": "stream",
     "text": [
      "Dataframe has been added to the Station object. Please use the .data attribute to access.\n"
     ]
    },
    {
     "name": "stderr",
     "output_type": "stream",
     "text": [
      "/home/jehayes/mambaforge/envs/deep-snow/lib/python3.12/site-packages/sklearn/decomposition/_pca.py:653: RuntimeWarning: invalid value encountered in divide\n",
      "  explained_variance_ratio_ = explained_variance_ / total_var\n",
      " 64%|██████▎   | 2800/4406 [05:58<08:00,  3.34it/s]"
     ]
    },
    {
     "name": "stdout",
     "output_type": "stream",
     "text": [
      "Dataframe has been added to the Station object. Please use the .data attribute to access.\n"
     ]
    },
    {
     "name": "stderr",
     "output_type": "stream",
     "text": [
      " 64%|██████▎   | 2803/4406 [05:59<04:37,  5.77it/s]/home/jehayes/mambaforge/envs/deep-snow/lib/python3.12/site-packages/sklearn/decomposition/_pca.py:653: RuntimeWarning: invalid value encountered in divide\n",
      "  explained_variance_ratio_ = explained_variance_ / total_var\n",
      " 64%|██████▎   | 2804/4406 [05:59<06:22,  4.19it/s]"
     ]
    },
    {
     "name": "stdout",
     "output_type": "stream",
     "text": [
      "Dataframe has been added to the Station object. Please use the .data attribute to access.\n"
     ]
    },
    {
     "name": "stderr",
     "output_type": "stream",
     "text": [
      " 64%|██████▎   | 2805/4406 [05:59<05:33,  4.80it/s]"
     ]
    },
    {
     "name": "stdout",
     "output_type": "stream",
     "text": [
      "Dataframe has been added to the Station object. Please use the .data attribute to access.\n"
     ]
    },
    {
     "name": "stderr",
     "output_type": "stream",
     "text": [
      "/home/jehayes/mambaforge/envs/deep-snow/lib/python3.12/site-packages/sklearn/decomposition/_pca.py:653: RuntimeWarning: invalid value encountered in divide\n",
      "  explained_variance_ratio_ = explained_variance_ / total_var\n",
      " 64%|██████▎   | 2807/4406 [06:00<07:04,  3.77it/s]"
     ]
    },
    {
     "name": "stdout",
     "output_type": "stream",
     "text": [
      "Dataframe has been added to the Station object. Please use the .data attribute to access.\n"
     ]
    },
    {
     "name": "stderr",
     "output_type": "stream",
     "text": [
      "/home/jehayes/mambaforge/envs/deep-snow/lib/python3.12/site-packages/sklearn/decomposition/_pca.py:653: RuntimeWarning: invalid value encountered in divide\n",
      "  explained_variance_ratio_ = explained_variance_ / total_var\n",
      " 64%|██████▎   | 2808/4406 [06:00<08:15,  3.23it/s]"
     ]
    },
    {
     "name": "stdout",
     "output_type": "stream",
     "text": [
      "Dataframe has been added to the Station object. Please use the .data attribute to access.\n",
      "Dataframe has been added to the Station object. Please use the .data attribute to access.\n",
      "Dataframe has been added to the Station object. Please use the .data attribute to access.\n"
     ]
    },
    {
     "name": "stderr",
     "output_type": "stream",
     "text": [
      "/home/jehayes/mambaforge/envs/deep-snow/lib/python3.12/site-packages/sklearn/decomposition/_pca.py:653: RuntimeWarning: invalid value encountered in divide\n",
      "  explained_variance_ratio_ = explained_variance_ / total_var\n",
      " 81%|████████  | 3552/4406 [07:22<01:31,  9.34it/s]"
     ]
    },
    {
     "name": "stdout",
     "output_type": "stream",
     "text": [
      "Dataframe has been added to the Station object. Please use the .data attribute to access.\n"
     ]
    },
    {
     "name": "stderr",
     "output_type": "stream",
     "text": [
      " 81%|████████▏ | 3580/4406 [07:25<01:15, 10.89it/s]"
     ]
    },
    {
     "name": "stdout",
     "output_type": "stream",
     "text": [
      "Dataframe has been added to the Station object. Please use the .data attribute to access.\n"
     ]
    },
    {
     "name": "stderr",
     "output_type": "stream",
     "text": [
      " 81%|████████▏ | 3582/4406 [07:25<02:18,  5.95it/s]"
     ]
    },
    {
     "name": "stdout",
     "output_type": "stream",
     "text": [
      "Dataframe has been added to the Station object. Please use the .data attribute to access.\n"
     ]
    },
    {
     "name": "stderr",
     "output_type": "stream",
     "text": [
      " 82%|████████▏ | 3603/4406 [07:28<01:06, 12.15it/s]"
     ]
    },
    {
     "name": "stdout",
     "output_type": "stream",
     "text": [
      "Dataframe has been added to the Station object. Please use the .data attribute to access.\n"
     ]
    },
    {
     "name": "stderr",
     "output_type": "stream",
     "text": [
      "/home/jehayes/mambaforge/envs/deep-snow/lib/python3.12/site-packages/sklearn/decomposition/_pca.py:653: RuntimeWarning: invalid value encountered in divide\n",
      "  explained_variance_ratio_ = explained_variance_ / total_var\n",
      " 82%|████████▏ | 3609/4406 [07:28<01:28,  9.02it/s]"
     ]
    },
    {
     "name": "stdout",
     "output_type": "stream",
     "text": [
      "Dataframe has been added to the Station object. Please use the .data attribute to access.\n"
     ]
    },
    {
     "name": "stderr",
     "output_type": "stream",
     "text": [
      "/home/jehayes/mambaforge/envs/deep-snow/lib/python3.12/site-packages/sklearn/decomposition/_pca.py:653: RuntimeWarning: invalid value encountered in divide\n",
      "  explained_variance_ratio_ = explained_variance_ / total_var\n",
      " 83%|████████▎ | 3645/4406 [07:34<02:01,  6.26it/s]"
     ]
    },
    {
     "name": "stdout",
     "output_type": "stream",
     "text": [
      "Dataframe has been added to the Station object. Please use the .data attribute to access.\n"
     ]
    },
    {
     "name": "stderr",
     "output_type": "stream",
     "text": [
      " 83%|████████▎ | 3652/4406 [07:35<01:40,  7.47it/s]"
     ]
    },
    {
     "name": "stdout",
     "output_type": "stream",
     "text": [
      "Dataframe has been added to the Station object. Please use the .data attribute to access.\n"
     ]
    },
    {
     "name": "stderr",
     "output_type": "stream",
     "text": [
      " 83%|████████▎ | 3667/4406 [07:37<01:49,  6.74it/s]"
     ]
    },
    {
     "name": "stdout",
     "output_type": "stream",
     "text": [
      "Dataframe has been added to the Station object. Please use the .data attribute to access.\n"
     ]
    },
    {
     "name": "stderr",
     "output_type": "stream",
     "text": [
      " 83%|████████▎ | 3674/4406 [07:39<01:36,  7.55it/s]/home/jehayes/mambaforge/envs/deep-snow/lib/python3.12/site-packages/sklearn/decomposition/_pca.py:653: RuntimeWarning: invalid value encountered in divide\n",
      "  explained_variance_ratio_ = explained_variance_ / total_var\n",
      " 83%|████████▎ | 3676/4406 [07:39<02:34,  4.73it/s]"
     ]
    },
    {
     "name": "stdout",
     "output_type": "stream",
     "text": [
      "Dataframe has been added to the Station object. Please use the .data attribute to access.\n"
     ]
    },
    {
     "name": "stderr",
     "output_type": "stream",
     "text": [
      " 84%|████████▍ | 3693/4406 [07:41<01:08, 10.42it/s]/home/jehayes/mambaforge/envs/deep-snow/lib/python3.12/site-packages/sklearn/decomposition/_pca.py:653: RuntimeWarning: invalid value encountered in divide\n",
      "  explained_variance_ratio_ = explained_variance_ / total_var\n",
      " 84%|████████▍ | 3695/4406 [07:42<01:53,  6.25it/s]"
     ]
    },
    {
     "name": "stdout",
     "output_type": "stream",
     "text": [
      "Dataframe has been added to the Station object. Please use the .data attribute to access.\n"
     ]
    },
    {
     "name": "stderr",
     "output_type": "stream",
     "text": [
      " 85%|████████▌ | 3765/4406 [07:48<01:26,  7.44it/s]"
     ]
    },
    {
     "name": "stdout",
     "output_type": "stream",
     "text": [
      "Dataframe has been added to the Station object. Please use the .data attribute to access.\n"
     ]
    },
    {
     "name": "stderr",
     "output_type": "stream",
     "text": [
      " 86%|████████▌ | 3770/4406 [07:49<01:48,  5.88it/s]"
     ]
    },
    {
     "name": "stdout",
     "output_type": "stream",
     "text": [
      "Dataframe has been added to the Station object. Please use the .data attribute to access.\n"
     ]
    },
    {
     "name": "stderr",
     "output_type": "stream",
     "text": [
      " 86%|████████▌ | 3788/4406 [07:52<01:16,  8.10it/s]"
     ]
    },
    {
     "name": "stdout",
     "output_type": "stream",
     "text": [
      "Dataframe has been added to the Station object. Please use the .data attribute to access.\n"
     ]
    },
    {
     "name": "stderr",
     "output_type": "stream",
     "text": [
      " 86%|████████▌ | 3793/4406 [07:53<01:37,  6.30it/s]"
     ]
    },
    {
     "name": "stdout",
     "output_type": "stream",
     "text": [
      "Dataframe has been added to the Station object. Please use the .data attribute to access.\n"
     ]
    },
    {
     "name": "stderr",
     "output_type": "stream",
     "text": [
      " 86%|████████▋ | 3801/4406 [07:55<01:38,  6.16it/s]"
     ]
    },
    {
     "name": "stdout",
     "output_type": "stream",
     "text": [
      "Dataframe has been added to the Station object. Please use the .data attribute to access.\n",
      "Dataframe has been added to the Station object. Please use the .data attribute to access.\n"
     ]
    },
    {
     "name": "stderr",
     "output_type": "stream",
     "text": [
      " 86%|████████▋ | 3808/4406 [07:57<01:36,  6.17it/s]"
     ]
    },
    {
     "name": "stdout",
     "output_type": "stream",
     "text": [
      "Dataframe has been added to the Station object. Please use the .data attribute to access.\n"
     ]
    },
    {
     "name": "stderr",
     "output_type": "stream",
     "text": [
      " 86%|████████▋ | 3810/4406 [07:57<02:01,  4.90it/s]"
     ]
    },
    {
     "name": "stdout",
     "output_type": "stream",
     "text": [
      "Dataframe has been added to the Station object. Please use the .data attribute to access.\n"
     ]
    },
    {
     "name": "stderr",
     "output_type": "stream",
     "text": [
      " 87%|████████▋ | 3814/4406 [07:58<01:55,  5.11it/s]"
     ]
    },
    {
     "name": "stdout",
     "output_type": "stream",
     "text": [
      "Dataframe has been added to the Station object. Please use the .data attribute to access.\n"
     ]
    },
    {
     "name": "stderr",
     "output_type": "stream",
     "text": [
      " 87%|████████▋ | 3826/4406 [08:00<01:11,  8.11it/s]"
     ]
    },
    {
     "name": "stdout",
     "output_type": "stream",
     "text": [
      "Dataframe has been added to the Station object. Please use the .data attribute to access.\n"
     ]
    },
    {
     "name": "stderr",
     "output_type": "stream",
     "text": [
      " 87%|████████▋ | 3827/4406 [08:01<03:02,  3.17it/s]"
     ]
    },
    {
     "name": "stdout",
     "output_type": "stream",
     "text": [
      "Dataframe has been added to the Station object. Please use the .data attribute to access.\n"
     ]
    },
    {
     "name": "stderr",
     "output_type": "stream",
     "text": [
      " 87%|████████▋ | 3832/4406 [08:02<01:56,  4.93it/s]"
     ]
    },
    {
     "name": "stdout",
     "output_type": "stream",
     "text": [
      "Dataframe has been added to the Station object. Please use the .data attribute to access.\n"
     ]
    },
    {
     "name": "stderr",
     "output_type": "stream",
     "text": [
      " 87%|████████▋ | 3835/4406 [08:03<02:14,  4.24it/s]"
     ]
    },
    {
     "name": "stdout",
     "output_type": "stream",
     "text": [
      "Dataframe has been added to the Station object. Please use the .data attribute to access.\n"
     ]
    },
    {
     "name": "stderr",
     "output_type": "stream",
     "text": [
      " 87%|████████▋ | 3842/4406 [08:04<01:33,  6.06it/s]"
     ]
    },
    {
     "name": "stdout",
     "output_type": "stream",
     "text": [
      "Dataframe has been added to the Station object. Please use the .data attribute to access.\n"
     ]
    },
    {
     "name": "stderr",
     "output_type": "stream",
     "text": [
      " 87%|████████▋ | 3843/4406 [08:05<02:56,  3.19it/s]"
     ]
    },
    {
     "name": "stdout",
     "output_type": "stream",
     "text": [
      "Dataframe has been added to the Station object. Please use the .data attribute to access.\n"
     ]
    },
    {
     "name": "stderr",
     "output_type": "stream",
     "text": [
      " 91%|█████████▏| 4029/4406 [08:28<00:44,  8.53it/s]"
     ]
    },
    {
     "name": "stdout",
     "output_type": "stream",
     "text": [
      "Dataframe has been added to the Station object. Please use the .data attribute to access.\n"
     ]
    },
    {
     "name": "stderr",
     "output_type": "stream",
     "text": [
      " 92%|█████████▏| 4032/4406 [08:29<01:28,  4.24it/s]"
     ]
    },
    {
     "name": "stdout",
     "output_type": "stream",
     "text": [
      "Dataframe has been added to the Station object. Please use the .data attribute to access.\n"
     ]
    },
    {
     "name": "stderr",
     "output_type": "stream",
     "text": [
      " 95%|█████████▌| 4200/4406 [08:46<00:22,  9.19it/s]"
     ]
    },
    {
     "name": "stdout",
     "output_type": "stream",
     "text": [
      "Dataframe has been added to the Station object. Please use the .data attribute to access.\n"
     ]
    },
    {
     "name": "stderr",
     "output_type": "stream",
     "text": [
      " 96%|█████████▌| 4208/4406 [08:48<00:23,  8.37it/s]"
     ]
    },
    {
     "name": "stdout",
     "output_type": "stream",
     "text": [
      "Dataframe has been added to the Station object. Please use the .data attribute to access.\n"
     ]
    },
    {
     "name": "stderr",
     "output_type": "stream",
     "text": [
      " 96%|█████████▌| 4214/4406 [08:49<00:25,  7.64it/s]"
     ]
    },
    {
     "name": "stdout",
     "output_type": "stream",
     "text": [
      "Dataframe has been added to the Station object. Please use the .data attribute to access.\n"
     ]
    },
    {
     "name": "stderr",
     "output_type": "stream",
     "text": [
      " 96%|█████████▌| 4224/4406 [08:50<00:25,  7.07it/s]"
     ]
    },
    {
     "name": "stdout",
     "output_type": "stream",
     "text": [
      "Dataframe has been added to the Station object. Please use the .data attribute to access.\n"
     ]
    },
    {
     "name": "stderr",
     "output_type": "stream",
     "text": [
      " 96%|█████████▌| 4231/4406 [08:52<00:23,  7.33it/s]"
     ]
    },
    {
     "name": "stdout",
     "output_type": "stream",
     "text": [
      "Dataframe has been added to the Station object. Please use the .data attribute to access.\n"
     ]
    },
    {
     "name": "stderr",
     "output_type": "stream",
     "text": [
      "100%|██████████| 4406/4406 [09:10<00:00,  8.01it/s]\n"
     ]
    }
   ],
   "source": [
    "from datetime import datetime\n",
    "from shapely.geometry import box\n",
    "StationCollection = esd.automatic_weather_stations.StationCollection()\n",
    "all_snotel = StationCollection.all_stations[StationCollection.all_stations.network == 'SNOTEL']\n",
    "files = glob(\"/mnt/c/Users/JackE/uw/courses/aut24/ml_geo/final_data/subsets_v4/*/*\")\n",
    "s1_variables = [\n",
    "    \"snowon_vv\", \"snowon_vh\", \"snowoff_vv\", \"snowoff_vh\"\n",
    "]\n",
    "s2_variables = [\n",
    "    \"AOT\", \"B01\", \"B02\", \"B03\", \"B04\", \"B05\", \"B06\", \"B07\",\n",
    "    \"B08\", \"B09\", \"B11\", \"B12\", \"B8A\", \"SCL\", \"WVP\", \"visual\"\n",
    "]\n",
    "s1_s2_vars = [s1_variables, s2_variables]\n",
    "for file in tqdm(files):\n",
    "    skip_file = False\n",
    "    ds = xr.open_dataset(file)\n",
    "    fn = os.path.split(file)[-1]\n",
    "    source = f\"/mnt/c/Users/JackE/uw/courses/aut24/ml_geo/final_data/subsets_v4_tif/{file.split(\"/\")[-2]}/{fn.split('.')[0]}.tif\"\n",
    "    tif_ds = xr.open_dataset(source)\n",
    "    date = datetime.strptime(source.split('/')[-1].split(\"_\")[4], \"%Y%m%d\").strftime(\"%Y-%m-%d\") #get the date of the current file\n",
    "    raster_bounds = (\n",
    "    tif_ds.x.min().item(),\n",
    "    tif_ds.y.min().item(),\n",
    "    tif_ds.x.max().item(),\n",
    "    tif_ds.y.max().item()\n",
    "    )\n",
    "    raster_polygon = box(*raster_bounds)\n",
    "    raster_gdf = gpd.GeoDataFrame({'geometry': [raster_polygon]}, crs=all_snotel.crs)\n",
    "    points_in_raster = gpd.sjoin(all_snotel, raster_gdf, predicate=\"intersects\")\n",
    "    if len(points_in_raster) == 0:\n",
    "        continue\n",
    "    for i, row in points_in_raster.iterrows():\n",
    "        StationCollection.get_data(i, variables=['SNWD'], start_date=date, end_date=date)\n",
    "        snotel_sd = StationCollection.data.SNWD.values[0]\n",
    "\n",
    "        x,y = row.geometry.x, row.geometry.y\n",
    "\n",
    "        sno_sd_data = np.full((ds['y'].size, ds['x'].size), np.nan)\n",
    "        ds['sno_sd'] = (['y', 'x'], sno_sd_data)\n",
    "        ds['sno_sd'].loc[dict(x=ds['x'].sel(x=x, method='nearest'), y=ds['y'].sel(y=y, method='nearest'))] = snotel_sd\n",
    "\n",
    "    for i, variables in enumerate(s1_s2_vars):\n",
    "        data_array = np.stack([ds[var].values for var in variables], axis=-1)\n",
    "        n_samples = np.prod(data_array.shape[:-1])\n",
    "        n_features = data_array.shape[-1]\n",
    "        reshaped_data = data_array.reshape(n_samples, n_features)\n",
    "        nan_mask = np.isnan(reshaped_data)\n",
    "        if nan_mask.any():\n",
    "            column_means = np.nanmean(reshaped_data, axis=0)\n",
    "            reshaped_data[nan_mask] = np.take(column_means, np.where(nan_mask)[1])\n",
    "        scaler = RobustScaler()\n",
    "        scaled_data = scaler.fit_transform(reshaped_data)\n",
    "        pca = PCA(n_components=4)\n",
    "        pca_result = pca.fit_transform(scaled_data)\n",
    "        if np.isnan(pca.explained_variance_ratio_).any():\n",
    "            skip_file = True\n",
    "            break  # Skip this file\n",
    "        else:\n",
    "            if i == 0:\n",
    "                s1_pc1, s1_pc2 = pca_result[:,0], pca_result[:,1]\n",
    "            else:\n",
    "                s2_pc1, s2_pc2, s2_pc3 = pca_result[:,0], pca_result[:,1],  pca_result[:,2]\n",
    "\n",
    "    if skip_file:\n",
    "        continue\n",
    "\n",
    "    dowy_1d = calc_dowy(pd.to_datetime(fn.split('_')[4]).dayofyear)\n",
    "    dowy_array = np.full((128, 128), dowy_1d)\n",
    "\n",
    "    new_ds = xr.Dataset({\n",
    "        \"aso_sd\": ([\"x\", \"y\"], ds['aso_sd'].values),\n",
    "        \"fcf\": ([\"x\", \"y\"], ds[\"fcf\"].values),\n",
    "        \"elevation\": ([\"x\", \"y\"], ds[\"elevation\"].values),\n",
    "        \"slope\": ([\"x\", \"y\"], ds[\"slope\"].values),\n",
    "        \"tri\": ([\"x\", \"y\"], ds[\"tri\"].values),\n",
    "        \"tpi\": ([\"x\", \"y\"], ds[\"tpi\"].values),\n",
    "        \"latitude\": ([\"x\", \"y\"], ds[\"latitude\"].values),\n",
    "        \"longitude\": ([\"x\", \"y\"], ds[\"longitude\"].values),\n",
    "        \"s1_pc1\": ([\"x\", \"y\"], s1_pc1.reshape(128, 128)),\n",
    "        \"s1_pc2\": ([\"x\", \"y\"], s1_pc2.reshape(128, 128)),\n",
    "        \"s2_pc1\": ([\"x\", \"y\"], s2_pc1.reshape(128, 128)),\n",
    "        \"s2_pc2\": ([\"x\", \"y\"], s2_pc2.reshape(128, 128)),\n",
    "        \"s2_pc3\": ([\"x\", \"y\"], s2_pc3.reshape(128, 128)),\n",
    "        \"dowy\": ([\"x\", \"y\"], dowy_array,),\n",
    "        \"sno_sd\": ([\"x\", \"y\"], ds[\"sno_sd\"].values)\n",
    "    })\n",
    "\n",
    "    \n",
    "    destination = f\"/mnt/c/Users/JackE/uw/courses/aut24/ml_geo/jack_subsets_snotel/tifs/{fn.split('.')[0]}.tif\"\n",
    "\n",
    "    new_ds.to_netcdf(f\"/mnt/c/Users/JackE/uw/courses/aut24/ml_geo/jack_subsets_snotel/ncs/{fn}\")\n",
    "    shutil.copy(source, destination)"
   ]
  },
  {
   "cell_type": "code",
   "execution_count": null,
   "metadata": {},
   "outputs": [],
   "source": []
  }
 ],
 "metadata": {
  "kernelspec": {
   "display_name": "deep-snow",
   "language": "python",
   "name": "python3"
  },
  "language_info": {
   "codemirror_mode": {
    "name": "ipython",
    "version": 3
   },
   "file_extension": ".py",
   "mimetype": "text/x-python",
   "name": "python",
   "nbconvert_exporter": "python",
   "pygments_lexer": "ipython3",
   "version": "3.12.7"
  }
 },
 "nbformat": 4,
 "nbformat_minor": 2
}
