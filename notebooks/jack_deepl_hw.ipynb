{
 "cells": [
  {
   "cell_type": "code",
   "execution_count": 1,
   "metadata": {},
   "outputs": [],
   "source": [
    "import numpy as np\n",
    "import matplotlib.pyplot as plt\n",
    "import torch\n",
    "from glob import glob\n",
    "import seaborn as sns\n",
    "import torch.nn as nn\n",
    "import torch.optim as optim\n",
    "import torch.nn.functional as F\n",
    "import xarray as xr\n",
    "import rasterio as rio\n",
    "import rioxarray\n",
    "import math\n",
    "from sklearn.preprocessing import RobustScaler\n",
    "from sklearn.decomposition import PCA\n",
    "import pandas as pd\n",
    "import os\n",
    "\n",
    "import deep_snow.models\n",
    "from deep_snow.dataset import norm_dict\n",
    "from deep_snow.utils import calc_norm, undo_norm, calc_dowy\n",
    "from tqdm import tqdm\n",
    "import shutil"
   ]
  },
  {
   "cell_type": "markdown",
   "metadata": {},
   "source": [
    "# 1. Dataset Preparation and Exploration (10%)"
   ]
  },
  {
   "cell_type": "markdown",
   "metadata": {},
   "source": [
    "#### AI-Ready Data Utilization (4%): Demonstrates the use of the previously prepared AI-ready dataset effectively, ensuring consistency in preprocessing across models."
   ]
  },
  {
   "cell_type": "code",
   "execution_count": 2,
   "metadata": {},
   "outputs": [
    {
     "data": {
      "text/plain": [
       "3540"
      ]
     },
     "execution_count": 2,
     "metadata": {},
     "output_type": "execute_result"
    }
   ],
   "source": [
    "# we see the directory below contains our ai-ready data\n",
    "files = glob(\"/mnt/c/Users/Jacke/uw/courses/aut24/ml_geo/jack_subsets/ncs/*.nc\")\n",
    "len(files)"
   ]
  },
  {
   "cell_type": "code",
   "execution_count": 3,
   "metadata": {},
   "outputs": [
    {
     "data": {
      "text/html": [
       "<div><svg style=\"position: absolute; width: 0; height: 0; overflow: hidden\">\n",
       "<defs>\n",
       "<symbol id=\"icon-database\" viewBox=\"0 0 32 32\">\n",
       "<path d=\"M16 0c-8.837 0-16 2.239-16 5v4c0 2.761 7.163 5 16 5s16-2.239 16-5v-4c0-2.761-7.163-5-16-5z\"></path>\n",
       "<path d=\"M16 17c-8.837 0-16-2.239-16-5v6c0 2.761 7.163 5 16 5s16-2.239 16-5v-6c0 2.761-7.163 5-16 5z\"></path>\n",
       "<path d=\"M16 26c-8.837 0-16-2.239-16-5v6c0 2.761 7.163 5 16 5s16-2.239 16-5v-6c0 2.761-7.163 5-16 5z\"></path>\n",
       "</symbol>\n",
       "<symbol id=\"icon-file-text2\" viewBox=\"0 0 32 32\">\n",
       "<path d=\"M28.681 7.159c-0.694-0.947-1.662-2.053-2.724-3.116s-2.169-2.030-3.116-2.724c-1.612-1.182-2.393-1.319-2.841-1.319h-15.5c-1.378 0-2.5 1.121-2.5 2.5v27c0 1.378 1.122 2.5 2.5 2.5h23c1.378 0 2.5-1.122 2.5-2.5v-19.5c0-0.448-0.137-1.23-1.319-2.841zM24.543 5.457c0.959 0.959 1.712 1.825 2.268 2.543h-4.811v-4.811c0.718 0.556 1.584 1.309 2.543 2.268zM28 29.5c0 0.271-0.229 0.5-0.5 0.5h-23c-0.271 0-0.5-0.229-0.5-0.5v-27c0-0.271 0.229-0.5 0.5-0.5 0 0 15.499-0 15.5 0v7c0 0.552 0.448 1 1 1h7v19.5z\"></path>\n",
       "<path d=\"M23 26h-14c-0.552 0-1-0.448-1-1s0.448-1 1-1h14c0.552 0 1 0.448 1 1s-0.448 1-1 1z\"></path>\n",
       "<path d=\"M23 22h-14c-0.552 0-1-0.448-1-1s0.448-1 1-1h14c0.552 0 1 0.448 1 1s-0.448 1-1 1z\"></path>\n",
       "<path d=\"M23 18h-14c-0.552 0-1-0.448-1-1s0.448-1 1-1h14c0.552 0 1 0.448 1 1s-0.448 1-1 1z\"></path>\n",
       "</symbol>\n",
       "</defs>\n",
       "</svg>\n",
       "<style>/* CSS stylesheet for displaying xarray objects in jupyterlab.\n",
       " *\n",
       " */\n",
       "\n",
       ":root {\n",
       "  --xr-font-color0: var(--jp-content-font-color0, rgba(0, 0, 0, 1));\n",
       "  --xr-font-color2: var(--jp-content-font-color2, rgba(0, 0, 0, 0.54));\n",
       "  --xr-font-color3: var(--jp-content-font-color3, rgba(0, 0, 0, 0.38));\n",
       "  --xr-border-color: var(--jp-border-color2, #e0e0e0);\n",
       "  --xr-disabled-color: var(--jp-layout-color3, #bdbdbd);\n",
       "  --xr-background-color: var(--jp-layout-color0, white);\n",
       "  --xr-background-color-row-even: var(--jp-layout-color1, white);\n",
       "  --xr-background-color-row-odd: var(--jp-layout-color2, #eeeeee);\n",
       "}\n",
       "\n",
       "html[theme=dark],\n",
       "html[data-theme=dark],\n",
       "body[data-theme=dark],\n",
       "body.vscode-dark {\n",
       "  --xr-font-color0: rgba(255, 255, 255, 1);\n",
       "  --xr-font-color2: rgba(255, 255, 255, 0.54);\n",
       "  --xr-font-color3: rgba(255, 255, 255, 0.38);\n",
       "  --xr-border-color: #1F1F1F;\n",
       "  --xr-disabled-color: #515151;\n",
       "  --xr-background-color: #111111;\n",
       "  --xr-background-color-row-even: #111111;\n",
       "  --xr-background-color-row-odd: #313131;\n",
       "}\n",
       "\n",
       ".xr-wrap {\n",
       "  display: block !important;\n",
       "  min-width: 300px;\n",
       "  max-width: 700px;\n",
       "}\n",
       "\n",
       ".xr-text-repr-fallback {\n",
       "  /* fallback to plain text repr when CSS is not injected (untrusted notebook) */\n",
       "  display: none;\n",
       "}\n",
       "\n",
       ".xr-header {\n",
       "  padding-top: 6px;\n",
       "  padding-bottom: 6px;\n",
       "  margin-bottom: 4px;\n",
       "  border-bottom: solid 1px var(--xr-border-color);\n",
       "}\n",
       "\n",
       ".xr-header > div,\n",
       ".xr-header > ul {\n",
       "  display: inline;\n",
       "  margin-top: 0;\n",
       "  margin-bottom: 0;\n",
       "}\n",
       "\n",
       ".xr-obj-type,\n",
       ".xr-array-name {\n",
       "  margin-left: 2px;\n",
       "  margin-right: 10px;\n",
       "}\n",
       "\n",
       ".xr-obj-type {\n",
       "  color: var(--xr-font-color2);\n",
       "}\n",
       "\n",
       ".xr-sections {\n",
       "  padding-left: 0 !important;\n",
       "  display: grid;\n",
       "  grid-template-columns: 150px auto auto 1fr 0 20px 0 20px;\n",
       "}\n",
       "\n",
       ".xr-section-item {\n",
       "  display: contents;\n",
       "}\n",
       "\n",
       ".xr-section-item input {\n",
       "  display: inline-block;\n",
       "  opacity: 0;\n",
       "}\n",
       "\n",
       ".xr-section-item input + label {\n",
       "  color: var(--xr-disabled-color);\n",
       "}\n",
       "\n",
       ".xr-section-item input:enabled + label {\n",
       "  cursor: pointer;\n",
       "  color: var(--xr-font-color2);\n",
       "}\n",
       "\n",
       ".xr-section-item input:focus + label {\n",
       "  border: 2px solid var(--xr-font-color0);\n",
       "}\n",
       "\n",
       ".xr-section-item input:enabled + label:hover {\n",
       "  color: var(--xr-font-color0);\n",
       "}\n",
       "\n",
       ".xr-section-summary {\n",
       "  grid-column: 1;\n",
       "  color: var(--xr-font-color2);\n",
       "  font-weight: 500;\n",
       "}\n",
       "\n",
       ".xr-section-summary > span {\n",
       "  display: inline-block;\n",
       "  padding-left: 0.5em;\n",
       "}\n",
       "\n",
       ".xr-section-summary-in:disabled + label {\n",
       "  color: var(--xr-font-color2);\n",
       "}\n",
       "\n",
       ".xr-section-summary-in + label:before {\n",
       "  display: inline-block;\n",
       "  content: '►';\n",
       "  font-size: 11px;\n",
       "  width: 15px;\n",
       "  text-align: center;\n",
       "}\n",
       "\n",
       ".xr-section-summary-in:disabled + label:before {\n",
       "  color: var(--xr-disabled-color);\n",
       "}\n",
       "\n",
       ".xr-section-summary-in:checked + label:before {\n",
       "  content: '▼';\n",
       "}\n",
       "\n",
       ".xr-section-summary-in:checked + label > span {\n",
       "  display: none;\n",
       "}\n",
       "\n",
       ".xr-section-summary,\n",
       ".xr-section-inline-details {\n",
       "  padding-top: 4px;\n",
       "  padding-bottom: 4px;\n",
       "}\n",
       "\n",
       ".xr-section-inline-details {\n",
       "  grid-column: 2 / -1;\n",
       "}\n",
       "\n",
       ".xr-section-details {\n",
       "  display: none;\n",
       "  grid-column: 1 / -1;\n",
       "  margin-bottom: 5px;\n",
       "}\n",
       "\n",
       ".xr-section-summary-in:checked ~ .xr-section-details {\n",
       "  display: contents;\n",
       "}\n",
       "\n",
       ".xr-array-wrap {\n",
       "  grid-column: 1 / -1;\n",
       "  display: grid;\n",
       "  grid-template-columns: 20px auto;\n",
       "}\n",
       "\n",
       ".xr-array-wrap > label {\n",
       "  grid-column: 1;\n",
       "  vertical-align: top;\n",
       "}\n",
       "\n",
       ".xr-preview {\n",
       "  color: var(--xr-font-color3);\n",
       "}\n",
       "\n",
       ".xr-array-preview,\n",
       ".xr-array-data {\n",
       "  padding: 0 5px !important;\n",
       "  grid-column: 2;\n",
       "}\n",
       "\n",
       ".xr-array-data,\n",
       ".xr-array-in:checked ~ .xr-array-preview {\n",
       "  display: none;\n",
       "}\n",
       "\n",
       ".xr-array-in:checked ~ .xr-array-data,\n",
       ".xr-array-preview {\n",
       "  display: inline-block;\n",
       "}\n",
       "\n",
       ".xr-dim-list {\n",
       "  display: inline-block !important;\n",
       "  list-style: none;\n",
       "  padding: 0 !important;\n",
       "  margin: 0;\n",
       "}\n",
       "\n",
       ".xr-dim-list li {\n",
       "  display: inline-block;\n",
       "  padding: 0;\n",
       "  margin: 0;\n",
       "}\n",
       "\n",
       ".xr-dim-list:before {\n",
       "  content: '(';\n",
       "}\n",
       "\n",
       ".xr-dim-list:after {\n",
       "  content: ')';\n",
       "}\n",
       "\n",
       ".xr-dim-list li:not(:last-child):after {\n",
       "  content: ',';\n",
       "  padding-right: 5px;\n",
       "}\n",
       "\n",
       ".xr-has-index {\n",
       "  font-weight: bold;\n",
       "}\n",
       "\n",
       ".xr-var-list,\n",
       ".xr-var-item {\n",
       "  display: contents;\n",
       "}\n",
       "\n",
       ".xr-var-item > div,\n",
       ".xr-var-item label,\n",
       ".xr-var-item > .xr-var-name span {\n",
       "  background-color: var(--xr-background-color-row-even);\n",
       "  margin-bottom: 0;\n",
       "}\n",
       "\n",
       ".xr-var-item > .xr-var-name:hover span {\n",
       "  padding-right: 5px;\n",
       "}\n",
       "\n",
       ".xr-var-list > li:nth-child(odd) > div,\n",
       ".xr-var-list > li:nth-child(odd) > label,\n",
       ".xr-var-list > li:nth-child(odd) > .xr-var-name span {\n",
       "  background-color: var(--xr-background-color-row-odd);\n",
       "}\n",
       "\n",
       ".xr-var-name {\n",
       "  grid-column: 1;\n",
       "}\n",
       "\n",
       ".xr-var-dims {\n",
       "  grid-column: 2;\n",
       "}\n",
       "\n",
       ".xr-var-dtype {\n",
       "  grid-column: 3;\n",
       "  text-align: right;\n",
       "  color: var(--xr-font-color2);\n",
       "}\n",
       "\n",
       ".xr-var-preview {\n",
       "  grid-column: 4;\n",
       "}\n",
       "\n",
       ".xr-index-preview {\n",
       "  grid-column: 2 / 5;\n",
       "  color: var(--xr-font-color2);\n",
       "}\n",
       "\n",
       ".xr-var-name,\n",
       ".xr-var-dims,\n",
       ".xr-var-dtype,\n",
       ".xr-preview,\n",
       ".xr-attrs dt {\n",
       "  white-space: nowrap;\n",
       "  overflow: hidden;\n",
       "  text-overflow: ellipsis;\n",
       "  padding-right: 10px;\n",
       "}\n",
       "\n",
       ".xr-var-name:hover,\n",
       ".xr-var-dims:hover,\n",
       ".xr-var-dtype:hover,\n",
       ".xr-attrs dt:hover {\n",
       "  overflow: visible;\n",
       "  width: auto;\n",
       "  z-index: 1;\n",
       "}\n",
       "\n",
       ".xr-var-attrs,\n",
       ".xr-var-data,\n",
       ".xr-index-data {\n",
       "  display: none;\n",
       "  background-color: var(--xr-background-color) !important;\n",
       "  padding-bottom: 5px !important;\n",
       "}\n",
       "\n",
       ".xr-var-attrs-in:checked ~ .xr-var-attrs,\n",
       ".xr-var-data-in:checked ~ .xr-var-data,\n",
       ".xr-index-data-in:checked ~ .xr-index-data {\n",
       "  display: block;\n",
       "}\n",
       "\n",
       ".xr-var-data > table {\n",
       "  float: right;\n",
       "}\n",
       "\n",
       ".xr-var-name span,\n",
       ".xr-var-data,\n",
       ".xr-index-name div,\n",
       ".xr-index-data,\n",
       ".xr-attrs {\n",
       "  padding-left: 25px !important;\n",
       "}\n",
       "\n",
       ".xr-attrs,\n",
       ".xr-var-attrs,\n",
       ".xr-var-data,\n",
       ".xr-index-data {\n",
       "  grid-column: 1 / -1;\n",
       "}\n",
       "\n",
       "dl.xr-attrs {\n",
       "  padding: 0;\n",
       "  margin: 0;\n",
       "  display: grid;\n",
       "  grid-template-columns: 125px auto;\n",
       "}\n",
       "\n",
       ".xr-attrs dt,\n",
       ".xr-attrs dd {\n",
       "  padding: 0;\n",
       "  margin: 0;\n",
       "  float: left;\n",
       "  padding-right: 10px;\n",
       "  width: auto;\n",
       "}\n",
       "\n",
       ".xr-attrs dt {\n",
       "  font-weight: normal;\n",
       "  grid-column: 1;\n",
       "}\n",
       "\n",
       ".xr-attrs dt:hover span {\n",
       "  display: inline-block;\n",
       "  background: var(--xr-background-color);\n",
       "  padding-right: 10px;\n",
       "}\n",
       "\n",
       ".xr-attrs dd {\n",
       "  grid-column: 2;\n",
       "  white-space: pre-wrap;\n",
       "  word-break: break-all;\n",
       "}\n",
       "\n",
       ".xr-icon-database,\n",
       ".xr-icon-file-text2,\n",
       ".xr-no-icon {\n",
       "  display: inline-block;\n",
       "  vertical-align: middle;\n",
       "  width: 1em;\n",
       "  height: 1.5em !important;\n",
       "  stroke-width: 0;\n",
       "  stroke: currentColor;\n",
       "  fill: currentColor;\n",
       "}\n",
       "</style><pre class='xr-text-repr-fallback'>&lt;xarray.Dataset&gt; Size: 1MB\n",
       "Dimensions:    (x: 128, y: 128, samples: 16384)\n",
       "Dimensions without coordinates: x, y, samples\n",
       "Data variables: (12/14)\n",
       "    aso_sd     (x, y) float32 66kB ...\n",
       "    fcf        (x, y) float64 131kB ...\n",
       "    elevation  (x, y) float32 66kB ...\n",
       "    slope      (x, y) float64 131kB ...\n",
       "    tri        (x, y) float64 131kB ...\n",
       "    tpi        (x, y) float64 131kB ...\n",
       "    ...         ...\n",
       "    s1_pc1     (samples) float32 66kB ...\n",
       "    s1_pc2     (samples) float32 66kB ...\n",
       "    s2_pc1     (samples) float32 66kB ...\n",
       "    s2_pc2     (samples) float32 66kB ...\n",
       "    s2_pc3     (samples) float32 66kB ...\n",
       "    dowy       (x, y) int64 131kB ...</pre><div class='xr-wrap' style='display:none'><div class='xr-header'><div class='xr-obj-type'>xarray.Dataset</div></div><ul class='xr-sections'><li class='xr-section-item'><input id='section-f95bbff2-52fe-42e8-b940-2485e6fd60f6' class='xr-section-summary-in' type='checkbox' disabled ><label for='section-f95bbff2-52fe-42e8-b940-2485e6fd60f6' class='xr-section-summary'  title='Expand/collapse section'>Dimensions:</label><div class='xr-section-inline-details'><ul class='xr-dim-list'><li><span>x</span>: 128</li><li><span>y</span>: 128</li><li><span>samples</span>: 16384</li></ul></div><div class='xr-section-details'></div></li><li class='xr-section-item'><input id='section-f0aaabd1-8f5d-4dae-95cf-350c17ea2fd9' class='xr-section-summary-in' type='checkbox' disabled ><label for='section-f0aaabd1-8f5d-4dae-95cf-350c17ea2fd9' class='xr-section-summary'  title='Expand/collapse section'>Coordinates: <span>(0)</span></label><div class='xr-section-inline-details'></div><div class='xr-section-details'><ul class='xr-var-list'></ul></div></li><li class='xr-section-item'><input id='section-1d2ecb7f-42c3-476c-92ec-6ed3b843f735' class='xr-section-summary-in' type='checkbox'  checked><label for='section-1d2ecb7f-42c3-476c-92ec-6ed3b843f735' class='xr-section-summary' >Data variables: <span>(14)</span></label><div class='xr-section-inline-details'></div><div class='xr-section-details'><ul class='xr-var-list'><li class='xr-var-item'><div class='xr-var-name'><span>aso_sd</span></div><div class='xr-var-dims'>(x, y)</div><div class='xr-var-dtype'>float32</div><div class='xr-var-preview xr-preview'>...</div><input id='attrs-345b127b-eb48-49d5-b129-d7e0ee390709' class='xr-var-attrs-in' type='checkbox' disabled><label for='attrs-345b127b-eb48-49d5-b129-d7e0ee390709' title='Show/Hide attributes'><svg class='icon xr-icon-file-text2'><use xlink:href='#icon-file-text2'></use></svg></label><input id='data-150846fb-c9f1-4739-aef0-28ee0b0edef7' class='xr-var-data-in' type='checkbox'><label for='data-150846fb-c9f1-4739-aef0-28ee0b0edef7' title='Show/Hide data repr'><svg class='icon xr-icon-database'><use xlink:href='#icon-database'></use></svg></label><div class='xr-var-attrs'><dl class='xr-attrs'></dl></div><div class='xr-var-data'><pre>[16384 values with dtype=float32]</pre></div></li><li class='xr-var-item'><div class='xr-var-name'><span>fcf</span></div><div class='xr-var-dims'>(x, y)</div><div class='xr-var-dtype'>float64</div><div class='xr-var-preview xr-preview'>...</div><input id='attrs-eec9e460-a54f-4333-86d8-2d37757fd87b' class='xr-var-attrs-in' type='checkbox' disabled><label for='attrs-eec9e460-a54f-4333-86d8-2d37757fd87b' title='Show/Hide attributes'><svg class='icon xr-icon-file-text2'><use xlink:href='#icon-file-text2'></use></svg></label><input id='data-91b1c532-9490-4c73-b473-762d65a537bb' class='xr-var-data-in' type='checkbox'><label for='data-91b1c532-9490-4c73-b473-762d65a537bb' title='Show/Hide data repr'><svg class='icon xr-icon-database'><use xlink:href='#icon-database'></use></svg></label><div class='xr-var-attrs'><dl class='xr-attrs'></dl></div><div class='xr-var-data'><pre>[16384 values with dtype=float64]</pre></div></li><li class='xr-var-item'><div class='xr-var-name'><span>elevation</span></div><div class='xr-var-dims'>(x, y)</div><div class='xr-var-dtype'>float32</div><div class='xr-var-preview xr-preview'>...</div><input id='attrs-b3587fc3-b142-4a1c-b5d7-dc62cf2402dc' class='xr-var-attrs-in' type='checkbox' disabled><label for='attrs-b3587fc3-b142-4a1c-b5d7-dc62cf2402dc' title='Show/Hide attributes'><svg class='icon xr-icon-file-text2'><use xlink:href='#icon-file-text2'></use></svg></label><input id='data-310ae17b-7b56-4ff9-97e5-48817d1ac389' class='xr-var-data-in' type='checkbox'><label for='data-310ae17b-7b56-4ff9-97e5-48817d1ac389' title='Show/Hide data repr'><svg class='icon xr-icon-database'><use xlink:href='#icon-database'></use></svg></label><div class='xr-var-attrs'><dl class='xr-attrs'></dl></div><div class='xr-var-data'><pre>[16384 values with dtype=float32]</pre></div></li><li class='xr-var-item'><div class='xr-var-name'><span>slope</span></div><div class='xr-var-dims'>(x, y)</div><div class='xr-var-dtype'>float64</div><div class='xr-var-preview xr-preview'>...</div><input id='attrs-6be98ce1-6de5-45f2-8c59-558869853871' class='xr-var-attrs-in' type='checkbox' disabled><label for='attrs-6be98ce1-6de5-45f2-8c59-558869853871' title='Show/Hide attributes'><svg class='icon xr-icon-file-text2'><use xlink:href='#icon-file-text2'></use></svg></label><input id='data-dde4bcc5-a59b-4a88-807c-fb6deec0312d' class='xr-var-data-in' type='checkbox'><label for='data-dde4bcc5-a59b-4a88-807c-fb6deec0312d' title='Show/Hide data repr'><svg class='icon xr-icon-database'><use xlink:href='#icon-database'></use></svg></label><div class='xr-var-attrs'><dl class='xr-attrs'></dl></div><div class='xr-var-data'><pre>[16384 values with dtype=float64]</pre></div></li><li class='xr-var-item'><div class='xr-var-name'><span>tri</span></div><div class='xr-var-dims'>(x, y)</div><div class='xr-var-dtype'>float64</div><div class='xr-var-preview xr-preview'>...</div><input id='attrs-88fdf439-eef4-40cf-bdca-318ba6efe481' class='xr-var-attrs-in' type='checkbox' disabled><label for='attrs-88fdf439-eef4-40cf-bdca-318ba6efe481' title='Show/Hide attributes'><svg class='icon xr-icon-file-text2'><use xlink:href='#icon-file-text2'></use></svg></label><input id='data-8e9a6f0f-20ec-4615-af44-362753ca4cab' class='xr-var-data-in' type='checkbox'><label for='data-8e9a6f0f-20ec-4615-af44-362753ca4cab' title='Show/Hide data repr'><svg class='icon xr-icon-database'><use xlink:href='#icon-database'></use></svg></label><div class='xr-var-attrs'><dl class='xr-attrs'></dl></div><div class='xr-var-data'><pre>[16384 values with dtype=float64]</pre></div></li><li class='xr-var-item'><div class='xr-var-name'><span>tpi</span></div><div class='xr-var-dims'>(x, y)</div><div class='xr-var-dtype'>float64</div><div class='xr-var-preview xr-preview'>...</div><input id='attrs-b5d2e3af-1905-470e-b3b2-3ce0d22b0782' class='xr-var-attrs-in' type='checkbox' disabled><label for='attrs-b5d2e3af-1905-470e-b3b2-3ce0d22b0782' title='Show/Hide attributes'><svg class='icon xr-icon-file-text2'><use xlink:href='#icon-file-text2'></use></svg></label><input id='data-79211032-e1e2-4e0a-b16c-5fbec2f32dc7' class='xr-var-data-in' type='checkbox'><label for='data-79211032-e1e2-4e0a-b16c-5fbec2f32dc7' title='Show/Hide data repr'><svg class='icon xr-icon-database'><use xlink:href='#icon-database'></use></svg></label><div class='xr-var-attrs'><dl class='xr-attrs'></dl></div><div class='xr-var-data'><pre>[16384 values with dtype=float64]</pre></div></li><li class='xr-var-item'><div class='xr-var-name'><span>latitude</span></div><div class='xr-var-dims'>(x, y)</div><div class='xr-var-dtype'>float64</div><div class='xr-var-preview xr-preview'>...</div><input id='attrs-ad611e66-a45a-468c-9b89-b5f98eeb9cd8' class='xr-var-attrs-in' type='checkbox' disabled><label for='attrs-ad611e66-a45a-468c-9b89-b5f98eeb9cd8' title='Show/Hide attributes'><svg class='icon xr-icon-file-text2'><use xlink:href='#icon-file-text2'></use></svg></label><input id='data-132415df-ed7b-4436-8400-bf3e1290c112' class='xr-var-data-in' type='checkbox'><label for='data-132415df-ed7b-4436-8400-bf3e1290c112' title='Show/Hide data repr'><svg class='icon xr-icon-database'><use xlink:href='#icon-database'></use></svg></label><div class='xr-var-attrs'><dl class='xr-attrs'></dl></div><div class='xr-var-data'><pre>[16384 values with dtype=float64]</pre></div></li><li class='xr-var-item'><div class='xr-var-name'><span>longitude</span></div><div class='xr-var-dims'>(x, y)</div><div class='xr-var-dtype'>float64</div><div class='xr-var-preview xr-preview'>...</div><input id='attrs-654c4e11-7458-40a0-9f58-f44268417a12' class='xr-var-attrs-in' type='checkbox' disabled><label for='attrs-654c4e11-7458-40a0-9f58-f44268417a12' title='Show/Hide attributes'><svg class='icon xr-icon-file-text2'><use xlink:href='#icon-file-text2'></use></svg></label><input id='data-af992ca3-2e32-4c01-a263-36e2e703f7de' class='xr-var-data-in' type='checkbox'><label for='data-af992ca3-2e32-4c01-a263-36e2e703f7de' title='Show/Hide data repr'><svg class='icon xr-icon-database'><use xlink:href='#icon-database'></use></svg></label><div class='xr-var-attrs'><dl class='xr-attrs'></dl></div><div class='xr-var-data'><pre>[16384 values with dtype=float64]</pre></div></li><li class='xr-var-item'><div class='xr-var-name'><span>s1_pc1</span></div><div class='xr-var-dims'>(samples)</div><div class='xr-var-dtype'>float32</div><div class='xr-var-preview xr-preview'>...</div><input id='attrs-8c682290-6ac6-4df4-b2c3-d5e48d72ba4b' class='xr-var-attrs-in' type='checkbox' disabled><label for='attrs-8c682290-6ac6-4df4-b2c3-d5e48d72ba4b' title='Show/Hide attributes'><svg class='icon xr-icon-file-text2'><use xlink:href='#icon-file-text2'></use></svg></label><input id='data-1d3d5376-00e0-44f9-8f46-beb281259bc8' class='xr-var-data-in' type='checkbox'><label for='data-1d3d5376-00e0-44f9-8f46-beb281259bc8' title='Show/Hide data repr'><svg class='icon xr-icon-database'><use xlink:href='#icon-database'></use></svg></label><div class='xr-var-attrs'><dl class='xr-attrs'></dl></div><div class='xr-var-data'><pre>[16384 values with dtype=float32]</pre></div></li><li class='xr-var-item'><div class='xr-var-name'><span>s1_pc2</span></div><div class='xr-var-dims'>(samples)</div><div class='xr-var-dtype'>float32</div><div class='xr-var-preview xr-preview'>...</div><input id='attrs-24986b6a-1a2a-4bef-9faa-331ea5ad674d' class='xr-var-attrs-in' type='checkbox' disabled><label for='attrs-24986b6a-1a2a-4bef-9faa-331ea5ad674d' title='Show/Hide attributes'><svg class='icon xr-icon-file-text2'><use xlink:href='#icon-file-text2'></use></svg></label><input id='data-5754378a-623f-4bfd-a090-f25475ce7677' class='xr-var-data-in' type='checkbox'><label for='data-5754378a-623f-4bfd-a090-f25475ce7677' title='Show/Hide data repr'><svg class='icon xr-icon-database'><use xlink:href='#icon-database'></use></svg></label><div class='xr-var-attrs'><dl class='xr-attrs'></dl></div><div class='xr-var-data'><pre>[16384 values with dtype=float32]</pre></div></li><li class='xr-var-item'><div class='xr-var-name'><span>s2_pc1</span></div><div class='xr-var-dims'>(samples)</div><div class='xr-var-dtype'>float32</div><div class='xr-var-preview xr-preview'>...</div><input id='attrs-af6af8c0-9b6f-432f-8999-772bc9ccfca5' class='xr-var-attrs-in' type='checkbox' disabled><label for='attrs-af6af8c0-9b6f-432f-8999-772bc9ccfca5' title='Show/Hide attributes'><svg class='icon xr-icon-file-text2'><use xlink:href='#icon-file-text2'></use></svg></label><input id='data-843a409c-d635-4c87-b499-bcab88ffda25' class='xr-var-data-in' type='checkbox'><label for='data-843a409c-d635-4c87-b499-bcab88ffda25' title='Show/Hide data repr'><svg class='icon xr-icon-database'><use xlink:href='#icon-database'></use></svg></label><div class='xr-var-attrs'><dl class='xr-attrs'></dl></div><div class='xr-var-data'><pre>[16384 values with dtype=float32]</pre></div></li><li class='xr-var-item'><div class='xr-var-name'><span>s2_pc2</span></div><div class='xr-var-dims'>(samples)</div><div class='xr-var-dtype'>float32</div><div class='xr-var-preview xr-preview'>...</div><input id='attrs-1836d17a-0c53-4d1c-b77f-a111d87a51a1' class='xr-var-attrs-in' type='checkbox' disabled><label for='attrs-1836d17a-0c53-4d1c-b77f-a111d87a51a1' title='Show/Hide attributes'><svg class='icon xr-icon-file-text2'><use xlink:href='#icon-file-text2'></use></svg></label><input id='data-963b7b16-df86-4a6a-8567-1596c594fa7d' class='xr-var-data-in' type='checkbox'><label for='data-963b7b16-df86-4a6a-8567-1596c594fa7d' title='Show/Hide data repr'><svg class='icon xr-icon-database'><use xlink:href='#icon-database'></use></svg></label><div class='xr-var-attrs'><dl class='xr-attrs'></dl></div><div class='xr-var-data'><pre>[16384 values with dtype=float32]</pre></div></li><li class='xr-var-item'><div class='xr-var-name'><span>s2_pc3</span></div><div class='xr-var-dims'>(samples)</div><div class='xr-var-dtype'>float32</div><div class='xr-var-preview xr-preview'>...</div><input id='attrs-89acd520-775c-4d26-816f-38aaa3d19c3d' class='xr-var-attrs-in' type='checkbox' disabled><label for='attrs-89acd520-775c-4d26-816f-38aaa3d19c3d' title='Show/Hide attributes'><svg class='icon xr-icon-file-text2'><use xlink:href='#icon-file-text2'></use></svg></label><input id='data-ac85e7a5-e410-4a4f-9ac4-7a71b102ec4a' class='xr-var-data-in' type='checkbox'><label for='data-ac85e7a5-e410-4a4f-9ac4-7a71b102ec4a' title='Show/Hide data repr'><svg class='icon xr-icon-database'><use xlink:href='#icon-database'></use></svg></label><div class='xr-var-attrs'><dl class='xr-attrs'></dl></div><div class='xr-var-data'><pre>[16384 values with dtype=float32]</pre></div></li><li class='xr-var-item'><div class='xr-var-name'><span>dowy</span></div><div class='xr-var-dims'>(x, y)</div><div class='xr-var-dtype'>int64</div><div class='xr-var-preview xr-preview'>...</div><input id='attrs-43aeb588-1460-4900-8d74-7685c6c96924' class='xr-var-attrs-in' type='checkbox' disabled><label for='attrs-43aeb588-1460-4900-8d74-7685c6c96924' title='Show/Hide attributes'><svg class='icon xr-icon-file-text2'><use xlink:href='#icon-file-text2'></use></svg></label><input id='data-a3f81653-078a-46c8-8f0c-e8aef0a33866' class='xr-var-data-in' type='checkbox'><label for='data-a3f81653-078a-46c8-8f0c-e8aef0a33866' title='Show/Hide data repr'><svg class='icon xr-icon-database'><use xlink:href='#icon-database'></use></svg></label><div class='xr-var-attrs'><dl class='xr-attrs'></dl></div><div class='xr-var-data'><pre>[16384 values with dtype=int64]</pre></div></li></ul></div></li><li class='xr-section-item'><input id='section-b27f88e1-2622-4339-b36a-8dc4332f26c7' class='xr-section-summary-in' type='checkbox' disabled ><label for='section-b27f88e1-2622-4339-b36a-8dc4332f26c7' class='xr-section-summary'  title='Expand/collapse section'>Indexes: <span>(0)</span></label><div class='xr-section-inline-details'></div><div class='xr-section-details'><ul class='xr-var-list'></ul></div></li><li class='xr-section-item'><input id='section-34aa1ee1-2bbd-4efd-b027-269f38f77647' class='xr-section-summary-in' type='checkbox' disabled ><label for='section-34aa1ee1-2bbd-4efd-b027-269f38f77647' class='xr-section-summary'  title='Expand/collapse section'>Attributes: <span>(0)</span></label><div class='xr-section-inline-details'></div><div class='xr-section-details'><dl class='xr-attrs'></dl></div></li></ul></div></div>"
      ],
      "text/plain": [
       "<xarray.Dataset> Size: 1MB\n",
       "Dimensions:    (x: 128, y: 128, samples: 16384)\n",
       "Dimensions without coordinates: x, y, samples\n",
       "Data variables: (12/14)\n",
       "    aso_sd     (x, y) float32 66kB ...\n",
       "    fcf        (x, y) float64 131kB ...\n",
       "    elevation  (x, y) float32 66kB ...\n",
       "    slope      (x, y) float64 131kB ...\n",
       "    tri        (x, y) float64 131kB ...\n",
       "    tpi        (x, y) float64 131kB ...\n",
       "    ...         ...\n",
       "    s1_pc1     (samples) float32 66kB ...\n",
       "    s1_pc2     (samples) float32 66kB ...\n",
       "    s2_pc1     (samples) float32 66kB ...\n",
       "    s2_pc2     (samples) float32 66kB ...\n",
       "    s2_pc3     (samples) float32 66kB ...\n",
       "    dowy       (x, y) int64 131kB ..."
      ]
     },
     "execution_count": 3,
     "metadata": {},
     "output_type": "execute_result"
    }
   ],
   "source": [
    "# now, let's open one of these files and understand the variables, shapes, and types of our data\n",
    "ds = xr.open_dataset(files[0])\n",
    "ds"
   ]
  },
  {
   "cell_type": "code",
   "execution_count": 4,
   "metadata": {},
   "outputs": [],
   "source": [
    "# we see above that all of our files are 128x128 rasters (50m spatial resolution) where each cell has 14 variables\n",
    "# note that the data here (besides the PCAs) are unscaled, the scaling happens in the data pipeline into the CNN \n",
    "# architectures as seen in section 3\n",
    "# the data is below:"
   ]
  },
  {
   "cell_type": "markdown",
   "metadata": {},
   "source": [
    "1. Target\n",
    "    - aso_sd (snow depth measured from aerial LiDAR)\n",
    "2. Spatial Attributes\n",
    "    - latitude (lat of respective 50x50m cell)\n",
    "    - longitude (lon of respective 50x50m cell)\n",
    "3. Temporal Attribute\n",
    "    - dowy (day of water year when LiDAR was collected)\n",
    "3. Topography Data\n",
    "    - elevation (m above egm2008 geoid)\n",
    "    - slope (degrees)\n",
    "    - tpi (topographic position index)\n",
    "    - tri (topographic roughness index)    \n",
    "4. Radar-derived Data\n",
    "    - s1_pc1 (Principal component 1 of PCA of Sentinel-1 backscatter)\n",
    "    - s1_pc2 (Principal component 2 of PCA of Sentinel-1 backscatter)\n",
    "5. Optical-imagery-derived data\n",
    "    - s2_pc1 (Principal component 1 of PCA of Sentinel-2 bands)\n",
    "    - s2_pc2 (Principal component 2 of PCA of Sentinel-2 bands)\n",
    "    - s2_pc3 (Principal component 3 of PCA of Sentinel-2 bands)"
   ]
  },
  {
   "cell_type": "markdown",
   "metadata": {},
   "source": [
    "#### Exploratory Data Analysis (EDA) (3%): Includes visualizations and summaries to understand data distribution, temporal/spatial features, or domain-specific nuances."
   ]
  },
  {
   "cell_type": "code",
   "execution_count": null,
   "metadata": {},
   "outputs": [],
   "source": [
    "# given the nature of remote sensing data and pipelines to CNNs it's harder to visualized our AI-data this way\n",
    "# so we'll just plot some stats from our raw data"
   ]
  },
  {
   "cell_type": "code",
   "execution_count": null,
   "metadata": {},
   "outputs": [],
   "source": [
    "# using that dataframe of our data we processed below for the CML part, we can plot some stats\n",
    "df_all = pd.read_parquet(\"/mnt/c/Users/Jacke/uw/courses/aut24/ml_geo/final_cml_data.parquet\")\n",
    "corr_matrix = df_all.corr()"
   ]
  },
  {
   "cell_type": "code",
   "execution_count": 9,
   "metadata": {},
   "outputs": [
    {
     "data": {
      "image/png": "[encoded data removed]",
      "text/plain": [
       "<Figure size 1500x1200 with 2 Axes>"
      ]
     },
     "metadata": {},
     "output_type": "display_data"
    }
   ],
   "source": [
    "plt.figure(figsize=(15, 12))\n",
    "sns.heatmap(corr_matrix, annot=True, cmap='coolwarm', fmt=\".2f\",  linewidths=0.5, annot_kws={\"size\": 7}, vmin=-1, vmax=1)\n",
    "plt.title(\"Correlation Matrix Heatmap\")\n",
    "plt.show()"
   ]
  },
  {
   "cell_type": "code",
   "execution_count": null,
   "metadata": {},
   "outputs": [],
   "source": [
    "# we see above that since we cleaned our data, the only two variables that are highly correlated (very highly correlated)\n",
    "# are TRI and slope\n",
    "# this makes sense as the two topographic features are similar, as TRI is an index that take sslope into account,\n",
    "# yet understanding the topography of the surface underneath snow is wildly important for understand snowdepth so we keep it"
   ]
  },
  {
   "cell_type": "code",
   "execution_count": null,
   "metadata": {},
   "outputs": [],
   "source": [
    "# the kernel died trying to run the below code with all of the data given there are ~58 million rows\n",
    "# so we'll plot the data individually instead\n",
    "columns_to_plot = df_all.columns[:13]\n",
    "fig, axes = plt.subplots(nrows=4, ncols=4, figsize=(20, 15))\n",
    "axes = axes.flatten()\n",
    "for i, col in enumerate(columns_to_plot):\n",
    "    sns.histplot(df_all[col], bins=256, ax=axes[i])\n",
    "    axes[i].set_title(f'Histogram of {col}')\n",
    "    axes[i].set_xlabel(col)\n",
    "    axes[i].set_ylabel('Count')\n",
    "fig.delaxes(axes[-1])\n",
    "plt.tight_layout()\n",
    "plt.show()"
   ]
  },
  {
   "cell_type": "code",
   "execution_count": null,
   "metadata": {},
   "outputs": [
    {
     "data": {
      "image/png": "[encoded data removed]",
      "text/plain": [
       "<Figure size 640x480 with 1 Axes>"
      ]
     },
     "metadata": {},
     "output_type": "display_data"
    }
   ],
   "source": [
    "# some of the snow depth values below are ridiculously high, but we have to remember that some of these values\n",
    "# are over the Olympics and some of these values were measured in 2023 wgucg was a record-setting snow year\n",
    "plt.hist(df_all.aso_sd.values, bins=256);\n",
    "plt.yscale('log')"
   ]
  },
  {
   "cell_type": "code",
   "execution_count": null,
   "metadata": {},
   "outputs": [
    {
     "data": {
      "image/png": "[encoded data removed]",
      "text/plain": [
       "<Figure size 640x480 with 1 Axes>"
      ]
     },
     "metadata": {},
     "output_type": "display_data"
    }
   ],
   "source": [
    "# most forest cover fraction values are between 0-0.1, makes sense for the mountains\n",
    "plt.hist(df_all.fcf.values, bins=100);\n",
    "plt.yscale('log')"
   ]
  },
  {
   "cell_type": "code",
   "execution_count": null,
   "metadata": {},
   "outputs": [
    {
     "data": {
      "image/png": "[encoded data removed]",
      "text/plain": [
       "<Figure size 640x480 with 1 Axes>"
      ]
     },
     "metadata": {},
     "output_type": "display_data"
    }
   ],
   "source": [
    "# most sites are in mountain rainges so high elevations make sense\n",
    "# we see a lot of elevations at sea level too\n",
    "plt.hist(df_all.elevation.values, bins=256);\n",
    "plt.yscale('log')"
   ]
  },
  {
   "cell_type": "code",
   "execution_count": null,
   "metadata": {},
   "outputs": [
    {
     "data": {
      "image/png": "[encoded data removed]",
      "text/plain": [
       "<Figure size 640x480 with 1 Axes>"
      ]
     },
     "metadata": {},
     "output_type": "display_data"
    }
   ],
   "source": [
    "# not a lot of slope values between 60-90 degrees makes sense given 90 degrees is vertical\n",
    "# also, 50mx50m cells so makes sense x2\n",
    "plt.hist(df_all.slope.values, bins=90);\n",
    "plt.yscale('log')"
   ]
  },
  {
   "cell_type": "code",
   "execution_count": 18,
   "metadata": {},
   "outputs": [
    {
     "data": {
      "text/plain": [
       "Index(['aso_sd', 'fcf', 'elevation', 'slope', 'tri', 'tpi', 'latitude',\n",
       "       'longitude', 'dowy', 'samples', 's1_pc1', 's1_pc2', 's2_pc1', 's2_pc2',\n",
       "       's2_pc3'],\n",
       "      dtype='object')"
      ]
     },
     "execution_count": 18,
     "metadata": {},
     "output_type": "execute_result"
    }
   ],
   "source": [
    "df_all.columns"
   ]
  },
  {
   "cell_type": "code",
   "execution_count": null,
   "metadata": {},
   "outputs": [
    {
     "data": {
      "image/png": "[encoded data removed]",
      "text/plain": [
       "<Figure size 640x480 with 1 Axes>"
      ]
     },
     "metadata": {},
     "output_type": "display_data"
    }
   ],
   "source": [
    "# TRI is a similar shape to slope, makes sense\n",
    "plt.hist(df_all.tri.values, bins=256);\n",
    "plt.yscale('log')"
   ]
  },
  {
   "cell_type": "code",
   "execution_count": null,
   "metadata": {},
   "outputs": [
    {
     "data": {
      "image/png": "[encoded data removed]",
      "text/plain": [
       "<Figure size 640x480 with 1 Axes>"
      ]
     },
     "metadata": {},
     "output_type": "display_data"
    }
   ],
   "source": [
    "# TPI being normally distributed makes sense\n",
    "plt.hist(df_all.tpi.values, bins=256);\n",
    "plt.yscale('log')"
   ]
  },
  {
   "cell_type": "code",
   "execution_count": null,
   "metadata": {},
   "outputs": [],
   "source": [
    "# i won't plot the latitude and longitude values\n",
    "# mapping the extents of the data themselves takes too long on this local machine too\n",
    "# we know that our data is mostly in the Sierra Nevada mountain range (California), Rocky Mountains (Colorado), \n",
    "# and the Olympic Mountains (Washington) with some observations in southern Idaho\n",
    "# Idaho and the Olympics are quite different in terms of snowpack and climate than the other two ranges\n",
    "# which is difficult given we want to make a generalized model"
   ]
  },
  {
   "cell_type": "code",
   "execution_count": null,
   "metadata": {},
   "outputs": [
    {
     "data": {
      "image/png": "[encoded data removed]",
      "text/plain": [
       "<Figure size 640x480 with 1 Axes>"
      ]
     },
     "metadata": {},
     "output_type": "display_data"
    }
   ],
   "source": [
    "# sentinel-1 principal component 1 has a few weird outliers that we'll handle\n",
    "plt.hist(df_all.s1_pc1.values, bins=256);\n",
    "plt.yscale('log')"
   ]
  },
  {
   "cell_type": "code",
   "execution_count": 25,
   "metadata": {},
   "outputs": [
    {
     "data": {
      "image/png": "[encoded data removed]",
      "text/plain": [
       "<Figure size 640x480 with 1 Axes>"
      ]
     },
     "metadata": {},
     "output_type": "display_data"
    }
   ],
   "source": [
    "# sentinel-1 principal component 2 has a few weird outliers that we'll handle\n",
    "plt.hist(df_all.s1_pc2.values, bins=256);\n",
    "plt.yscale('log')"
   ]
  },
  {
   "cell_type": "code",
   "execution_count": null,
   "metadata": {},
   "outputs": [
    {
     "data": {
      "image/png": "[encoded data removed]",
      "text/plain": [
       "<Figure size 640x480 with 1 Axes>"
      ]
     },
     "metadata": {},
     "output_type": "display_data"
    }
   ],
   "source": [
    "# sentinel-2 principal component 1 has a few weird outliers that we'll handle\n",
    "plt.hist(df_all.s2_pc1.values, bins=256);\n",
    "plt.yscale('log')"
   ]
  },
  {
   "cell_type": "code",
   "execution_count": null,
   "metadata": {},
   "outputs": [
    {
     "data": {
      "image/png": "[encoded data removed]",
      "text/plain": [
       "<Figure size 640x480 with 1 Axes>"
      ]
     },
     "metadata": {},
     "output_type": "display_data"
    }
   ],
   "source": [
    "# sentinel-2 principal component 2 has a more than a few weird outliers\n",
    "plt.hist(df_all.s2_pc2.values, bins=256);\n",
    "plt.yscale('log')"
   ]
  },
  {
   "cell_type": "code",
   "execution_count": 28,
   "metadata": {},
   "outputs": [
    {
     "data": {
      "image/png": "[encoded data removed]",
      "text/plain": [
       "<Figure size 640x480 with 1 Axes>"
      ]
     },
     "metadata": {},
     "output_type": "display_data"
    }
   ],
   "source": [
    "# sentinel-2 principal component 3 has a few weird outliers that we'll handle\n",
    "plt.hist(df_all.s2_pc3.values, bins=256);\n",
    "plt.yscale('log')"
   ]
  },
  {
   "cell_type": "markdown",
   "metadata": {},
   "source": [
    "#### Problem Setup (3%): Clearly defines the problem (e.g., regression/classification) and aligns the data with deep learning requirements (e.g., reshaping for CNNs, sequence creation for RNNs)."
   ]
  },
  {
   "cell_type": "code",
   "execution_count": null,
   "metadata": {},
   "outputs": [],
   "source": [
    "# This is a regression problem for spatially predicting snowdepth on a grid, so we'll use a CNN\n",
    "# as seen below, all of the files are xarray datasets of size 128x128 where each pixels is a 5omx50m\n",
    "# cell with 12 feature variables and 1 target variable\n",
    "# where each file is one sample"
   ]
  },
  {
   "cell_type": "code",
   "execution_count": 4,
   "metadata": {},
   "outputs": [
    {
     "data": {
      "text/html": [
       "<div><svg style=\"position: absolute; width: 0; height: 0; overflow: hidden\">\n",
       "<defs>\n",
       "<symbol id=\"icon-database\" viewBox=\"0 0 32 32\">\n",
       "<path d=\"M16 0c-8.837 0-16 2.239-16 5v4c0 2.761 7.163 5 16 5s16-2.239 16-5v-4c0-2.761-7.163-5-16-5z\"></path>\n",
       "<path d=\"M16 17c-8.837 0-16-2.239-16-5v6c0 2.761 7.163 5 16 5s16-2.239 16-5v-6c0 2.761-7.163 5-16 5z\"></path>\n",
       "<path d=\"M16 26c-8.837 0-16-2.239-16-5v6c0 2.761 7.163 5 16 5s16-2.239 16-5v-6c0 2.761-7.163 5-16 5z\"></path>\n",
       "</symbol>\n",
       "<symbol id=\"icon-file-text2\" viewBox=\"0 0 32 32\">\n",
       "<path d=\"M28.681 7.159c-0.694-0.947-1.662-2.053-2.724-3.116s-2.169-2.030-3.116-2.724c-1.612-1.182-2.393-1.319-2.841-1.319h-15.5c-1.378 0-2.5 1.121-2.5 2.5v27c0 1.378 1.122 2.5 2.5 2.5h23c1.378 0 2.5-1.122 2.5-2.5v-19.5c0-0.448-0.137-1.23-1.319-2.841zM24.543 5.457c0.959 0.959 1.712 1.825 2.268 2.543h-4.811v-4.811c0.718 0.556 1.584 1.309 2.543 2.268zM28 29.5c0 0.271-0.229 0.5-0.5 0.5h-23c-0.271 0-0.5-0.229-0.5-0.5v-27c0-0.271 0.229-0.5 0.5-0.5 0 0 15.499-0 15.5 0v7c0 0.552 0.448 1 1 1h7v19.5z\"></path>\n",
       "<path d=\"M23 26h-14c-0.552 0-1-0.448-1-1s0.448-1 1-1h14c0.552 0 1 0.448 1 1s-0.448 1-1 1z\"></path>\n",
       "<path d=\"M23 22h-14c-0.552 0-1-0.448-1-1s0.448-1 1-1h14c0.552 0 1 0.448 1 1s-0.448 1-1 1z\"></path>\n",
       "<path d=\"M23 18h-14c-0.552 0-1-0.448-1-1s0.448-1 1-1h14c0.552 0 1 0.448 1 1s-0.448 1-1 1z\"></path>\n",
       "</symbol>\n",
       "</defs>\n",
       "</svg>\n",
       "<style>/* CSS stylesheet for displaying xarray objects in jupyterlab.\n",
       " *\n",
       " */\n",
       "\n",
       ":root {\n",
       "  --xr-font-color0: var(--jp-content-font-color0, rgba(0, 0, 0, 1));\n",
       "  --xr-font-color2: var(--jp-content-font-color2, rgba(0, 0, 0, 0.54));\n",
       "  --xr-font-color3: var(--jp-content-font-color3, rgba(0, 0, 0, 0.38));\n",
       "  --xr-border-color: var(--jp-border-color2, #e0e0e0);\n",
       "  --xr-disabled-color: var(--jp-layout-color3, #bdbdbd);\n",
       "  --xr-background-color: var(--jp-layout-color0, white);\n",
       "  --xr-background-color-row-even: var(--jp-layout-color1, white);\n",
       "  --xr-background-color-row-odd: var(--jp-layout-color2, #eeeeee);\n",
       "}\n",
       "\n",
       "html[theme=dark],\n",
       "html[data-theme=dark],\n",
       "body[data-theme=dark],\n",
       "body.vscode-dark {\n",
       "  --xr-font-color0: rgba(255, 255, 255, 1);\n",
       "  --xr-font-color2: rgba(255, 255, 255, 0.54);\n",
       "  --xr-font-color3: rgba(255, 255, 255, 0.38);\n",
       "  --xr-border-color: #1F1F1F;\n",
       "  --xr-disabled-color: #515151;\n",
       "  --xr-background-color: #111111;\n",
       "  --xr-background-color-row-even: #111111;\n",
       "  --xr-background-color-row-odd: #313131;\n",
       "}\n",
       "\n",
       ".xr-wrap {\n",
       "  display: block !important;\n",
       "  min-width: 300px;\n",
       "  max-width: 700px;\n",
       "}\n",
       "\n",
       ".xr-text-repr-fallback {\n",
       "  /* fallback to plain text repr when CSS is not injected (untrusted notebook) */\n",
       "  display: none;\n",
       "}\n",
       "\n",
       ".xr-header {\n",
       "  padding-top: 6px;\n",
       "  padding-bottom: 6px;\n",
       "  margin-bottom: 4px;\n",
       "  border-bottom: solid 1px var(--xr-border-color);\n",
       "}\n",
       "\n",
       ".xr-header > div,\n",
       ".xr-header > ul {\n",
       "  display: inline;\n",
       "  margin-top: 0;\n",
       "  margin-bottom: 0;\n",
       "}\n",
       "\n",
       ".xr-obj-type,\n",
       ".xr-array-name {\n",
       "  margin-left: 2px;\n",
       "  margin-right: 10px;\n",
       "}\n",
       "\n",
       ".xr-obj-type {\n",
       "  color: var(--xr-font-color2);\n",
       "}\n",
       "\n",
       ".xr-sections {\n",
       "  padding-left: 0 !important;\n",
       "  display: grid;\n",
       "  grid-template-columns: 150px auto auto 1fr 0 20px 0 20px;\n",
       "}\n",
       "\n",
       ".xr-section-item {\n",
       "  display: contents;\n",
       "}\n",
       "\n",
       ".xr-section-item input {\n",
       "  display: inline-block;\n",
       "  opacity: 0;\n",
       "}\n",
       "\n",
       ".xr-section-item input + label {\n",
       "  color: var(--xr-disabled-color);\n",
       "}\n",
       "\n",
       ".xr-section-item input:enabled + label {\n",
       "  cursor: pointer;\n",
       "  color: var(--xr-font-color2);\n",
       "}\n",
       "\n",
       ".xr-section-item input:focus + label {\n",
       "  border: 2px solid var(--xr-font-color0);\n",
       "}\n",
       "\n",
       ".xr-section-item input:enabled + label:hover {\n",
       "  color: var(--xr-font-color0);\n",
       "}\n",
       "\n",
       ".xr-section-summary {\n",
       "  grid-column: 1;\n",
       "  color: var(--xr-font-color2);\n",
       "  font-weight: 500;\n",
       "}\n",
       "\n",
       ".xr-section-summary > span {\n",
       "  display: inline-block;\n",
       "  padding-left: 0.5em;\n",
       "}\n",
       "\n",
       ".xr-section-summary-in:disabled + label {\n",
       "  color: var(--xr-font-color2);\n",
       "}\n",
       "\n",
       ".xr-section-summary-in + label:before {\n",
       "  display: inline-block;\n",
       "  content: '►';\n",
       "  font-size: 11px;\n",
       "  width: 15px;\n",
       "  text-align: center;\n",
       "}\n",
       "\n",
       ".xr-section-summary-in:disabled + label:before {\n",
       "  color: var(--xr-disabled-color);\n",
       "}\n",
       "\n",
       ".xr-section-summary-in:checked + label:before {\n",
       "  content: '▼';\n",
       "}\n",
       "\n",
       ".xr-section-summary-in:checked + label > span {\n",
       "  display: none;\n",
       "}\n",
       "\n",
       ".xr-section-summary,\n",
       ".xr-section-inline-details {\n",
       "  padding-top: 4px;\n",
       "  padding-bottom: 4px;\n",
       "}\n",
       "\n",
       ".xr-section-inline-details {\n",
       "  grid-column: 2 / -1;\n",
       "}\n",
       "\n",
       ".xr-section-details {\n",
       "  display: none;\n",
       "  grid-column: 1 / -1;\n",
       "  margin-bottom: 5px;\n",
       "}\n",
       "\n",
       ".xr-section-summary-in:checked ~ .xr-section-details {\n",
       "  display: contents;\n",
       "}\n",
       "\n",
       ".xr-array-wrap {\n",
       "  grid-column: 1 / -1;\n",
       "  display: grid;\n",
       "  grid-template-columns: 20px auto;\n",
       "}\n",
       "\n",
       ".xr-array-wrap > label {\n",
       "  grid-column: 1;\n",
       "  vertical-align: top;\n",
       "}\n",
       "\n",
       ".xr-preview {\n",
       "  color: var(--xr-font-color3);\n",
       "}\n",
       "\n",
       ".xr-array-preview,\n",
       ".xr-array-data {\n",
       "  padding: 0 5px !important;\n",
       "  grid-column: 2;\n",
       "}\n",
       "\n",
       ".xr-array-data,\n",
       ".xr-array-in:checked ~ .xr-array-preview {\n",
       "  display: none;\n",
       "}\n",
       "\n",
       ".xr-array-in:checked ~ .xr-array-data,\n",
       ".xr-array-preview {\n",
       "  display: inline-block;\n",
       "}\n",
       "\n",
       ".xr-dim-list {\n",
       "  display: inline-block !important;\n",
       "  list-style: none;\n",
       "  padding: 0 !important;\n",
       "  margin: 0;\n",
       "}\n",
       "\n",
       ".xr-dim-list li {\n",
       "  display: inline-block;\n",
       "  padding: 0;\n",
       "  margin: 0;\n",
       "}\n",
       "\n",
       ".xr-dim-list:before {\n",
       "  content: '(';\n",
       "}\n",
       "\n",
       ".xr-dim-list:after {\n",
       "  content: ')';\n",
       "}\n",
       "\n",
       ".xr-dim-list li:not(:last-child):after {\n",
       "  content: ',';\n",
       "  padding-right: 5px;\n",
       "}\n",
       "\n",
       ".xr-has-index {\n",
       "  font-weight: bold;\n",
       "}\n",
       "\n",
       ".xr-var-list,\n",
       ".xr-var-item {\n",
       "  display: contents;\n",
       "}\n",
       "\n",
       ".xr-var-item > div,\n",
       ".xr-var-item label,\n",
       ".xr-var-item > .xr-var-name span {\n",
       "  background-color: var(--xr-background-color-row-even);\n",
       "  margin-bottom: 0;\n",
       "}\n",
       "\n",
       ".xr-var-item > .xr-var-name:hover span {\n",
       "  padding-right: 5px;\n",
       "}\n",
       "\n",
       ".xr-var-list > li:nth-child(odd) > div,\n",
       ".xr-var-list > li:nth-child(odd) > label,\n",
       ".xr-var-list > li:nth-child(odd) > .xr-var-name span {\n",
       "  background-color: var(--xr-background-color-row-odd);\n",
       "}\n",
       "\n",
       ".xr-var-name {\n",
       "  grid-column: 1;\n",
       "}\n",
       "\n",
       ".xr-var-dims {\n",
       "  grid-column: 2;\n",
       "}\n",
       "\n",
       ".xr-var-dtype {\n",
       "  grid-column: 3;\n",
       "  text-align: right;\n",
       "  color: var(--xr-font-color2);\n",
       "}\n",
       "\n",
       ".xr-var-preview {\n",
       "  grid-column: 4;\n",
       "}\n",
       "\n",
       ".xr-index-preview {\n",
       "  grid-column: 2 / 5;\n",
       "  color: var(--xr-font-color2);\n",
       "}\n",
       "\n",
       ".xr-var-name,\n",
       ".xr-var-dims,\n",
       ".xr-var-dtype,\n",
       ".xr-preview,\n",
       ".xr-attrs dt {\n",
       "  white-space: nowrap;\n",
       "  overflow: hidden;\n",
       "  text-overflow: ellipsis;\n",
       "  padding-right: 10px;\n",
       "}\n",
       "\n",
       ".xr-var-name:hover,\n",
       ".xr-var-dims:hover,\n",
       ".xr-var-dtype:hover,\n",
       ".xr-attrs dt:hover {\n",
       "  overflow: visible;\n",
       "  width: auto;\n",
       "  z-index: 1;\n",
       "}\n",
       "\n",
       ".xr-var-attrs,\n",
       ".xr-var-data,\n",
       ".xr-index-data {\n",
       "  display: none;\n",
       "  background-color: var(--xr-background-color) !important;\n",
       "  padding-bottom: 5px !important;\n",
       "}\n",
       "\n",
       ".xr-var-attrs-in:checked ~ .xr-var-attrs,\n",
       ".xr-var-data-in:checked ~ .xr-var-data,\n",
       ".xr-index-data-in:checked ~ .xr-index-data {\n",
       "  display: block;\n",
       "}\n",
       "\n",
       ".xr-var-data > table {\n",
       "  float: right;\n",
       "}\n",
       "\n",
       ".xr-var-name span,\n",
       ".xr-var-data,\n",
       ".xr-index-name div,\n",
       ".xr-index-data,\n",
       ".xr-attrs {\n",
       "  padding-left: 25px !important;\n",
       "}\n",
       "\n",
       ".xr-attrs,\n",
       ".xr-var-attrs,\n",
       ".xr-var-data,\n",
       ".xr-index-data {\n",
       "  grid-column: 1 / -1;\n",
       "}\n",
       "\n",
       "dl.xr-attrs {\n",
       "  padding: 0;\n",
       "  margin: 0;\n",
       "  display: grid;\n",
       "  grid-template-columns: 125px auto;\n",
       "}\n",
       "\n",
       ".xr-attrs dt,\n",
       ".xr-attrs dd {\n",
       "  padding: 0;\n",
       "  margin: 0;\n",
       "  float: left;\n",
       "  padding-right: 10px;\n",
       "  width: auto;\n",
       "}\n",
       "\n",
       ".xr-attrs dt {\n",
       "  font-weight: normal;\n",
       "  grid-column: 1;\n",
       "}\n",
       "\n",
       ".xr-attrs dt:hover span {\n",
       "  display: inline-block;\n",
       "  background: var(--xr-background-color);\n",
       "  padding-right: 10px;\n",
       "}\n",
       "\n",
       ".xr-attrs dd {\n",
       "  grid-column: 2;\n",
       "  white-space: pre-wrap;\n",
       "  word-break: break-all;\n",
       "}\n",
       "\n",
       ".xr-icon-database,\n",
       ".xr-icon-file-text2,\n",
       ".xr-no-icon {\n",
       "  display: inline-block;\n",
       "  vertical-align: middle;\n",
       "  width: 1em;\n",
       "  height: 1.5em !important;\n",
       "  stroke-width: 0;\n",
       "  stroke: currentColor;\n",
       "  fill: currentColor;\n",
       "}\n",
       "</style><pre class='xr-text-repr-fallback'>&lt;xarray.Dataset&gt; Size: 1MB\n",
       "Dimensions:    (x: 128, y: 128, samples: 16384)\n",
       "Dimensions without coordinates: x, y, samples\n",
       "Data variables: (12/14)\n",
       "    aso_sd     (x, y) float32 66kB ...\n",
       "    fcf        (x, y) float64 131kB ...\n",
       "    elevation  (x, y) float32 66kB ...\n",
       "    slope      (x, y) float64 131kB ...\n",
       "    tri        (x, y) float64 131kB ...\n",
       "    tpi        (x, y) float64 131kB ...\n",
       "    ...         ...\n",
       "    s1_pc1     (samples) float32 66kB ...\n",
       "    s1_pc2     (samples) float32 66kB ...\n",
       "    s2_pc1     (samples) float32 66kB ...\n",
       "    s2_pc2     (samples) float32 66kB ...\n",
       "    s2_pc3     (samples) float32 66kB ...\n",
       "    dowy       (x, y) int64 131kB ...</pre><div class='xr-wrap' style='display:none'><div class='xr-header'><div class='xr-obj-type'>xarray.Dataset</div></div><ul class='xr-sections'><li class='xr-section-item'><input id='section-37946dd5-019f-4ce2-97f5-86f11047e21c' class='xr-section-summary-in' type='checkbox' disabled ><label for='section-37946dd5-019f-4ce2-97f5-86f11047e21c' class='xr-section-summary'  title='Expand/collapse section'>Dimensions:</label><div class='xr-section-inline-details'><ul class='xr-dim-list'><li><span>x</span>: 128</li><li><span>y</span>: 128</li><li><span>samples</span>: 16384</li></ul></div><div class='xr-section-details'></div></li><li class='xr-section-item'><input id='section-948c4602-2fd2-4ce3-b55d-1988393286f1' class='xr-section-summary-in' type='checkbox' disabled ><label for='section-948c4602-2fd2-4ce3-b55d-1988393286f1' class='xr-section-summary'  title='Expand/collapse section'>Coordinates: <span>(0)</span></label><div class='xr-section-inline-details'></div><div class='xr-section-details'><ul class='xr-var-list'></ul></div></li><li class='xr-section-item'><input id='section-b3f33b9d-6e75-4628-8ddd-35314059587d' class='xr-section-summary-in' type='checkbox'  checked><label for='section-b3f33b9d-6e75-4628-8ddd-35314059587d' class='xr-section-summary' >Data variables: <span>(14)</span></label><div class='xr-section-inline-details'></div><div class='xr-section-details'><ul class='xr-var-list'><li class='xr-var-item'><div class='xr-var-name'><span>aso_sd</span></div><div class='xr-var-dims'>(x, y)</div><div class='xr-var-dtype'>float32</div><div class='xr-var-preview xr-preview'>...</div><input id='attrs-11212fff-0b64-4f87-bcf6-4275ecb59705' class='xr-var-attrs-in' type='checkbox' disabled><label for='attrs-11212fff-0b64-4f87-bcf6-4275ecb59705' title='Show/Hide attributes'><svg class='icon xr-icon-file-text2'><use xlink:href='#icon-file-text2'></use></svg></label><input id='data-f52195a2-1534-45da-95d4-ac4ad814d11e' class='xr-var-data-in' type='checkbox'><label for='data-f52195a2-1534-45da-95d4-ac4ad814d11e' title='Show/Hide data repr'><svg class='icon xr-icon-database'><use xlink:href='#icon-database'></use></svg></label><div class='xr-var-attrs'><dl class='xr-attrs'></dl></div><div class='xr-var-data'><pre>[16384 values with dtype=float32]</pre></div></li><li class='xr-var-item'><div class='xr-var-name'><span>fcf</span></div><div class='xr-var-dims'>(x, y)</div><div class='xr-var-dtype'>float64</div><div class='xr-var-preview xr-preview'>...</div><input id='attrs-fe0bc42b-080a-4e25-926a-918846e6294e' class='xr-var-attrs-in' type='checkbox' disabled><label for='attrs-fe0bc42b-080a-4e25-926a-918846e6294e' title='Show/Hide attributes'><svg class='icon xr-icon-file-text2'><use xlink:href='#icon-file-text2'></use></svg></label><input id='data-28c0df88-f0fa-46d5-9d17-ab08523341ba' class='xr-var-data-in' type='checkbox'><label for='data-28c0df88-f0fa-46d5-9d17-ab08523341ba' title='Show/Hide data repr'><svg class='icon xr-icon-database'><use xlink:href='#icon-database'></use></svg></label><div class='xr-var-attrs'><dl class='xr-attrs'></dl></div><div class='xr-var-data'><pre>[16384 values with dtype=float64]</pre></div></li><li class='xr-var-item'><div class='xr-var-name'><span>elevation</span></div><div class='xr-var-dims'>(x, y)</div><div class='xr-var-dtype'>float32</div><div class='xr-var-preview xr-preview'>...</div><input id='attrs-3a06ad36-dae3-4661-941e-04a97b4a0a86' class='xr-var-attrs-in' type='checkbox' disabled><label for='attrs-3a06ad36-dae3-4661-941e-04a97b4a0a86' title='Show/Hide attributes'><svg class='icon xr-icon-file-text2'><use xlink:href='#icon-file-text2'></use></svg></label><input id='data-bf2b99aa-bf10-4860-9dc6-2577fb9205d9' class='xr-var-data-in' type='checkbox'><label for='data-bf2b99aa-bf10-4860-9dc6-2577fb9205d9' title='Show/Hide data repr'><svg class='icon xr-icon-database'><use xlink:href='#icon-database'></use></svg></label><div class='xr-var-attrs'><dl class='xr-attrs'></dl></div><div class='xr-var-data'><pre>[16384 values with dtype=float32]</pre></div></li><li class='xr-var-item'><div class='xr-var-name'><span>slope</span></div><div class='xr-var-dims'>(x, y)</div><div class='xr-var-dtype'>float64</div><div class='xr-var-preview xr-preview'>...</div><input id='attrs-e8c0381d-c157-4903-8aac-e0bca99b8e83' class='xr-var-attrs-in' type='checkbox' disabled><label for='attrs-e8c0381d-c157-4903-8aac-e0bca99b8e83' title='Show/Hide attributes'><svg class='icon xr-icon-file-text2'><use xlink:href='#icon-file-text2'></use></svg></label><input id='data-047d7c10-c67b-4326-a968-023ca65f86f6' class='xr-var-data-in' type='checkbox'><label for='data-047d7c10-c67b-4326-a968-023ca65f86f6' title='Show/Hide data repr'><svg class='icon xr-icon-database'><use xlink:href='#icon-database'></use></svg></label><div class='xr-var-attrs'><dl class='xr-attrs'></dl></div><div class='xr-var-data'><pre>[16384 values with dtype=float64]</pre></div></li><li class='xr-var-item'><div class='xr-var-name'><span>tri</span></div><div class='xr-var-dims'>(x, y)</div><div class='xr-var-dtype'>float64</div><div class='xr-var-preview xr-preview'>...</div><input id='attrs-b01681fd-6995-437f-95d1-3af1f1d035fe' class='xr-var-attrs-in' type='checkbox' disabled><label for='attrs-b01681fd-6995-437f-95d1-3af1f1d035fe' title='Show/Hide attributes'><svg class='icon xr-icon-file-text2'><use xlink:href='#icon-file-text2'></use></svg></label><input id='data-5e6a2b7a-f7a2-4b28-a785-7aef819885fb' class='xr-var-data-in' type='checkbox'><label for='data-5e6a2b7a-f7a2-4b28-a785-7aef819885fb' title='Show/Hide data repr'><svg class='icon xr-icon-database'><use xlink:href='#icon-database'></use></svg></label><div class='xr-var-attrs'><dl class='xr-attrs'></dl></div><div class='xr-var-data'><pre>[16384 values with dtype=float64]</pre></div></li><li class='xr-var-item'><div class='xr-var-name'><span>tpi</span></div><div class='xr-var-dims'>(x, y)</div><div class='xr-var-dtype'>float64</div><div class='xr-var-preview xr-preview'>...</div><input id='attrs-c9696548-5958-4f8f-8499-ee918001b992' class='xr-var-attrs-in' type='checkbox' disabled><label for='attrs-c9696548-5958-4f8f-8499-ee918001b992' title='Show/Hide attributes'><svg class='icon xr-icon-file-text2'><use xlink:href='#icon-file-text2'></use></svg></label><input id='data-4aad5f70-8bc9-48f9-8f25-2c2e60c71e70' class='xr-var-data-in' type='checkbox'><label for='data-4aad5f70-8bc9-48f9-8f25-2c2e60c71e70' title='Show/Hide data repr'><svg class='icon xr-icon-database'><use xlink:href='#icon-database'></use></svg></label><div class='xr-var-attrs'><dl class='xr-attrs'></dl></div><div class='xr-var-data'><pre>[16384 values with dtype=float64]</pre></div></li><li class='xr-var-item'><div class='xr-var-name'><span>latitude</span></div><div class='xr-var-dims'>(x, y)</div><div class='xr-var-dtype'>float64</div><div class='xr-var-preview xr-preview'>...</div><input id='attrs-068e1627-e4d2-4ef9-824e-d49f0f38874e' class='xr-var-attrs-in' type='checkbox' disabled><label for='attrs-068e1627-e4d2-4ef9-824e-d49f0f38874e' title='Show/Hide attributes'><svg class='icon xr-icon-file-text2'><use xlink:href='#icon-file-text2'></use></svg></label><input id='data-9ba311d8-440b-46a5-a4ad-f1810a18ba1d' class='xr-var-data-in' type='checkbox'><label for='data-9ba311d8-440b-46a5-a4ad-f1810a18ba1d' title='Show/Hide data repr'><svg class='icon xr-icon-database'><use xlink:href='#icon-database'></use></svg></label><div class='xr-var-attrs'><dl class='xr-attrs'></dl></div><div class='xr-var-data'><pre>[16384 values with dtype=float64]</pre></div></li><li class='xr-var-item'><div class='xr-var-name'><span>longitude</span></div><div class='xr-var-dims'>(x, y)</div><div class='xr-var-dtype'>float64</div><div class='xr-var-preview xr-preview'>...</div><input id='attrs-a86b4789-cd51-4d78-aebb-e3ce0f9698d3' class='xr-var-attrs-in' type='checkbox' disabled><label for='attrs-a86b4789-cd51-4d78-aebb-e3ce0f9698d3' title='Show/Hide attributes'><svg class='icon xr-icon-file-text2'><use xlink:href='#icon-file-text2'></use></svg></label><input id='data-9b19d4a2-8848-4f7a-b430-89a3c2870694' class='xr-var-data-in' type='checkbox'><label for='data-9b19d4a2-8848-4f7a-b430-89a3c2870694' title='Show/Hide data repr'><svg class='icon xr-icon-database'><use xlink:href='#icon-database'></use></svg></label><div class='xr-var-attrs'><dl class='xr-attrs'></dl></div><div class='xr-var-data'><pre>[16384 values with dtype=float64]</pre></div></li><li class='xr-var-item'><div class='xr-var-name'><span>s1_pc1</span></div><div class='xr-var-dims'>(samples)</div><div class='xr-var-dtype'>float32</div><div class='xr-var-preview xr-preview'>...</div><input id='attrs-206009ad-c40d-4e9c-af71-8d79102b9456' class='xr-var-attrs-in' type='checkbox' disabled><label for='attrs-206009ad-c40d-4e9c-af71-8d79102b9456' title='Show/Hide attributes'><svg class='icon xr-icon-file-text2'><use xlink:href='#icon-file-text2'></use></svg></label><input id='data-bb1ce8b7-cc2b-449d-a746-0961d6824a51' class='xr-var-data-in' type='checkbox'><label for='data-bb1ce8b7-cc2b-449d-a746-0961d6824a51' title='Show/Hide data repr'><svg class='icon xr-icon-database'><use xlink:href='#icon-database'></use></svg></label><div class='xr-var-attrs'><dl class='xr-attrs'></dl></div><div class='xr-var-data'><pre>[16384 values with dtype=float32]</pre></div></li><li class='xr-var-item'><div class='xr-var-name'><span>s1_pc2</span></div><div class='xr-var-dims'>(samples)</div><div class='xr-var-dtype'>float32</div><div class='xr-var-preview xr-preview'>...</div><input id='attrs-dd44f1aa-7df6-42b4-a031-19ade0316d3c' class='xr-var-attrs-in' type='checkbox' disabled><label for='attrs-dd44f1aa-7df6-42b4-a031-19ade0316d3c' title='Show/Hide attributes'><svg class='icon xr-icon-file-text2'><use xlink:href='#icon-file-text2'></use></svg></label><input id='data-4a0b5fcf-18df-4416-a5f7-2ad00f4fd4ad' class='xr-var-data-in' type='checkbox'><label for='data-4a0b5fcf-18df-4416-a5f7-2ad00f4fd4ad' title='Show/Hide data repr'><svg class='icon xr-icon-database'><use xlink:href='#icon-database'></use></svg></label><div class='xr-var-attrs'><dl class='xr-attrs'></dl></div><div class='xr-var-data'><pre>[16384 values with dtype=float32]</pre></div></li><li class='xr-var-item'><div class='xr-var-name'><span>s2_pc1</span></div><div class='xr-var-dims'>(samples)</div><div class='xr-var-dtype'>float32</div><div class='xr-var-preview xr-preview'>...</div><input id='attrs-1942ff48-d00e-4d40-8be3-c786743b7643' class='xr-var-attrs-in' type='checkbox' disabled><label for='attrs-1942ff48-d00e-4d40-8be3-c786743b7643' title='Show/Hide attributes'><svg class='icon xr-icon-file-text2'><use xlink:href='#icon-file-text2'></use></svg></label><input id='data-18fd1820-ce18-4161-b4df-147acfe0ff5a' class='xr-var-data-in' type='checkbox'><label for='data-18fd1820-ce18-4161-b4df-147acfe0ff5a' title='Show/Hide data repr'><svg class='icon xr-icon-database'><use xlink:href='#icon-database'></use></svg></label><div class='xr-var-attrs'><dl class='xr-attrs'></dl></div><div class='xr-var-data'><pre>[16384 values with dtype=float32]</pre></div></li><li class='xr-var-item'><div class='xr-var-name'><span>s2_pc2</span></div><div class='xr-var-dims'>(samples)</div><div class='xr-var-dtype'>float32</div><div class='xr-var-preview xr-preview'>...</div><input id='attrs-b40ef2c9-2552-4086-9e84-3a9ac18dc092' class='xr-var-attrs-in' type='checkbox' disabled><label for='attrs-b40ef2c9-2552-4086-9e84-3a9ac18dc092' title='Show/Hide attributes'><svg class='icon xr-icon-file-text2'><use xlink:href='#icon-file-text2'></use></svg></label><input id='data-fd652708-efef-413a-871a-8d628a59f20b' class='xr-var-data-in' type='checkbox'><label for='data-fd652708-efef-413a-871a-8d628a59f20b' title='Show/Hide data repr'><svg class='icon xr-icon-database'><use xlink:href='#icon-database'></use></svg></label><div class='xr-var-attrs'><dl class='xr-attrs'></dl></div><div class='xr-var-data'><pre>[16384 values with dtype=float32]</pre></div></li><li class='xr-var-item'><div class='xr-var-name'><span>s2_pc3</span></div><div class='xr-var-dims'>(samples)</div><div class='xr-var-dtype'>float32</div><div class='xr-var-preview xr-preview'>...</div><input id='attrs-4aa63af1-79e3-45d5-8577-4599efb4569b' class='xr-var-attrs-in' type='checkbox' disabled><label for='attrs-4aa63af1-79e3-45d5-8577-4599efb4569b' title='Show/Hide attributes'><svg class='icon xr-icon-file-text2'><use xlink:href='#icon-file-text2'></use></svg></label><input id='data-33201ae0-2010-4241-b69b-d8dbd85dd8de' class='xr-var-data-in' type='checkbox'><label for='data-33201ae0-2010-4241-b69b-d8dbd85dd8de' title='Show/Hide data repr'><svg class='icon xr-icon-database'><use xlink:href='#icon-database'></use></svg></label><div class='xr-var-attrs'><dl class='xr-attrs'></dl></div><div class='xr-var-data'><pre>[16384 values with dtype=float32]</pre></div></li><li class='xr-var-item'><div class='xr-var-name'><span>dowy</span></div><div class='xr-var-dims'>(x, y)</div><div class='xr-var-dtype'>int64</div><div class='xr-var-preview xr-preview'>...</div><input id='attrs-77fc01bf-4fd4-4acb-9c83-ef1bf4225f03' class='xr-var-attrs-in' type='checkbox' disabled><label for='attrs-77fc01bf-4fd4-4acb-9c83-ef1bf4225f03' title='Show/Hide attributes'><svg class='icon xr-icon-file-text2'><use xlink:href='#icon-file-text2'></use></svg></label><input id='data-b110c717-b28b-4735-8b6e-a0f872182355' class='xr-var-data-in' type='checkbox'><label for='data-b110c717-b28b-4735-8b6e-a0f872182355' title='Show/Hide data repr'><svg class='icon xr-icon-database'><use xlink:href='#icon-database'></use></svg></label><div class='xr-var-attrs'><dl class='xr-attrs'></dl></div><div class='xr-var-data'><pre>[16384 values with dtype=int64]</pre></div></li></ul></div></li><li class='xr-section-item'><input id='section-f7e19697-26af-441b-a197-206e9a170e1f' class='xr-section-summary-in' type='checkbox' disabled ><label for='section-f7e19697-26af-441b-a197-206e9a170e1f' class='xr-section-summary'  title='Expand/collapse section'>Indexes: <span>(0)</span></label><div class='xr-section-inline-details'></div><div class='xr-section-details'><ul class='xr-var-list'></ul></div></li><li class='xr-section-item'><input id='section-30ba1e2c-0132-4b1f-92d6-77b2531e84f9' class='xr-section-summary-in' type='checkbox' disabled ><label for='section-30ba1e2c-0132-4b1f-92d6-77b2531e84f9' class='xr-section-summary'  title='Expand/collapse section'>Attributes: <span>(0)</span></label><div class='xr-section-inline-details'></div><div class='xr-section-details'><dl class='xr-attrs'></dl></div></li></ul></div></div>"
      ],
      "text/plain": [
       "<xarray.Dataset> Size: 1MB\n",
       "Dimensions:    (x: 128, y: 128, samples: 16384)\n",
       "Dimensions without coordinates: x, y, samples\n",
       "Data variables: (12/14)\n",
       "    aso_sd     (x, y) float32 66kB ...\n",
       "    fcf        (x, y) float64 131kB ...\n",
       "    elevation  (x, y) float32 66kB ...\n",
       "    slope      (x, y) float64 131kB ...\n",
       "    tri        (x, y) float64 131kB ...\n",
       "    tpi        (x, y) float64 131kB ...\n",
       "    ...         ...\n",
       "    s1_pc1     (samples) float32 66kB ...\n",
       "    s1_pc2     (samples) float32 66kB ...\n",
       "    s2_pc1     (samples) float32 66kB ...\n",
       "    s2_pc2     (samples) float32 66kB ...\n",
       "    s2_pc3     (samples) float32 66kB ...\n",
       "    dowy       (x, y) int64 131kB ..."
      ]
     },
     "execution_count": 4,
     "metadata": {},
     "output_type": "execute_result"
    }
   ],
   "source": [
    "# see all the 12 features and 1 target (target being aso_sd)\n",
    "ds = xr.open_dataset(files[0])\n",
    "ds"
   ]
  },
  {
   "cell_type": "code",
   "execution_count": 8,
   "metadata": {},
   "outputs": [
    {
     "name": "stdout",
     "output_type": "stream",
     "text": [
      "Frozen({'x': 128, 'y': 128, 'samples': 16384})\n",
      "Frozen({'x': 128, 'y': 128, 'samples': 16384})\n",
      "Frozen({'x': 128, 'y': 128, 'samples': 16384})\n",
      "Frozen({'x': 128, 'y': 128, 'samples': 16384})\n",
      "Frozen({'x': 128, 'y': 128, 'samples': 16384})\n"
     ]
    }
   ],
   "source": [
    "import random\n",
    "random_indices = random.sample(range(len(files)), 5)\n",
    "# using random numbers above to show the consistent size of the data\n",
    "for idx in random_indices:\n",
    "    ds = xr.open_dataset(files[idx])\n",
    "    print(ds.sizes)"
   ]
  },
  {
   "cell_type": "markdown",
   "metadata": {},
   "source": [
    "# 2. Model Benchmarking Against CML (10%)"
   ]
  },
  {
   "cell_type": "markdown",
   "metadata": {},
   "source": [
    "#### Baseline Models (5%): Reports results from previous classical machine learning benchmarks (e.g., random forests, SVMs, or gradient boosting) with minimal additional work."
   ]
  },
  {
   "cell_type": "code",
   "execution_count": 16,
   "metadata": {},
   "outputs": [
    {
     "name": "stderr",
     "output_type": "stream",
     "text": [
      "  0%|          | 0/3540 [00:00<?, ?it/s]"
     ]
    },
    {
     "name": "stderr",
     "output_type": "stream",
     "text": [
      "100%|██████████| 3540/3540 [09:59<00:00,  5.91it/s]\n"
     ]
    }
   ],
   "source": [
    "# due to the structure of our data being geospatial, classic ml is not the most convenient approach\n",
    "# that being said, let's convert our AI-ready dataset into a dataframe for the sake of the assignment\n",
    "all_dataframes = []\n",
    "for f in tqdm(files):\n",
    "    ds = xr.open_dataset(f)\n",
    "    df_2d = ds.drop_dims('samples', errors='ignore').to_dataframe().reset_index()\n",
    "    df_1d = ds.drop_dims(['x', 'y'], errors='ignore').to_dataframe().reset_index()\n",
    "    merged_df = pd.concat([df_2d, df_1d], axis=1)\n",
    "    all_dataframes.append(merged_df)\n",
    "final_dataframe = pd.concat(all_dataframes, ignore_index=True)"
   ]
  },
  {
   "cell_type": "code",
   "execution_count": 20,
   "metadata": {},
   "outputs": [],
   "source": [
    "final_dataframe.drop(columns=['x', 'y'], axis=1).to_parquet(\"/mnt/c/Users/Jacke/uw/courses/aut24/ml_geo/final_cml_data.parquet\")"
   ]
  },
  {
   "cell_type": "code",
   "execution_count": 21,
   "metadata": {},
   "outputs": [],
   "source": [
    "df = final_dataframe.drop(columns=['x', 'y'], axis=1)"
   ]
  },
  {
   "cell_type": "code",
   "execution_count": 22,
   "metadata": {},
   "outputs": [
    {
     "data": {
      "text/plain": [
       "(57999360, 15)"
      ]
     },
     "execution_count": 22,
     "metadata": {},
     "output_type": "execute_result"
    }
   ],
   "source": [
    "# nearly 58 million rows\n",
    "# that will be kind of ridiculous in terms of processing time for tree-based CML models\n",
    "# and given that our final project is focused on CNNs, we'll use a subset of this data and quicker CML algortihms\n",
    "df.shape"
   ]
  },
  {
   "cell_type": "code",
   "execution_count": 3,
   "metadata": {},
   "outputs": [],
   "source": [
    "# doing the below scaling on the entire dataframe killed my kernel, so we'll just do it on a subset of the data\n",
    "# *and I have 64 gb of ram on my local machine :)\n",
    "df = pd.read_parquet(\"/mnt/c/Users/Jacke/uw/courses/aut24/ml_geo/final_cml_data.parquet\")\n",
    "# shuffle df and only keep the first 10 million rows\n",
    "df = df.sample(frac=1, random_state=42).reset_index(drop=True)[:10000000]\n",
    "from sklearn.preprocessing import MinMaxScaler\n",
    "scaler = MinMaxScaler()\n",
    "cols_to_normalize = [col for col in df.columns if col != 'aso_sd']\n",
    "df[cols_to_normalize] = scaler.fit_transform(df[cols_to_normalize])"
   ]
  },
  {
   "cell_type": "code",
   "execution_count": 4,
   "metadata": {},
   "outputs": [
    {
     "name": "stdout",
     "output_type": "stream",
     "text": [
      "There are 10000000 data samples\n"
     ]
    }
   ],
   "source": [
    "y = df.iloc[:,0].values\n",
    "data = df.iloc[:, 1:].values\n",
    "from sklearn.model_selection import train_test_split\n",
    "# Split data into 80% train and 20% test subsets\n",
    "print(f\"There are {data.shape[0]} data samples\")\n",
    "X_train, X_test, y_train, y_test = train_test_split(\n",
    "    data, y, test_size=0.2, shuffle=True)"
   ]
  },
  {
   "cell_type": "code",
   "execution_count": 5,
   "metadata": {},
   "outputs": [
    {
     "name": "stdout",
     "output_type": "stream",
     "text": [
      "ElasticNet Mean Absolute Error: 0.8660045592833896\n",
      "Ridge Mean Absolute Error: 0.7209619660308606\n",
      "Lasso Mean Absolute Error: 0.8660045592833896\n",
      "Dummy Regressor Mean Absolute Error: 0.6343305\n",
      "Voting Regressor (Dummy + Ridge) Mean Absolute Error: 0.6458122267481049\n"
     ]
    }
   ],
   "source": [
    "from sklearn import metrics\n",
    "from sklearn.linear_model import ElasticNet, Ridge, Lasso\n",
    "from sklearn.dummy import DummyRegressor\n",
    "from sklearn.ensemble import VotingRegressor\n",
    "# ElasticNet Regressor\n",
    "en_reg = ElasticNet()\n",
    "en_reg.fit(X_train, y_train) \n",
    "en_prediction = en_reg.predict(X_test)\n",
    "print(\"ElasticNet Mean Absolute Error:\", metrics.mean_absolute_error(y_true=y_test, y_pred=en_prediction))\n",
    "# Ridge Regressor\n",
    "ridge_reg = Ridge()\n",
    "ridge_reg.fit(X_train, y_train)\n",
    "ridge_prediction = ridge_reg.predict(X_test)\n",
    "print(\"Ridge Mean Absolute Error:\", metrics.mean_absolute_error(y_true=y_test, y_pred=ridge_prediction))\n",
    "# Lasso Regressor\n",
    "lasso_reg = Lasso()\n",
    "lasso_reg.fit(X_train, y_train)\n",
    "lasso_prediction = lasso_reg.predict(X_test)\n",
    "print(\"Lasso Mean Absolute Error:\", metrics.mean_absolute_error(y_true=y_test, y_pred=lasso_prediction))\n",
    "# Dummy Regressor (Baseline)\n",
    "dummy_reg = DummyRegressor(strategy=\"median\")\n",
    "dummy_reg.fit(X_train, y_train)\n",
    "dummy_prediction = dummy_reg.predict(X_test)\n",
    "print(\"Dummy Regressor Mean Absolute Error:\", metrics.mean_absolute_error(y_true=y_test, y_pred=dummy_prediction))\n",
    "# Voting Regressor (Dummy and Ridge)\n",
    "voting_reg = VotingRegressor(estimators=[('dummy', dummy_reg), ('ridge', ridge_reg)])\n",
    "voting_reg.fit(X_train, y_train)\n",
    "voting_prediction = voting_reg.predict(X_test)\n",
    "print(\"Voting Regressor (Dummy + Ridge) Mean Absolute Error:\", metrics.mean_absolute_error(y_true=y_test, y_pred=voting_prediction))"
   ]
  },
  {
   "cell_type": "markdown",
   "metadata": {},
   "source": [
    "#### Performance Comparison (5%): Provides a high-level comparison of CML methods to deep learning models using relevant metrics (e.g., accuracy, RMSE, F1-score)."
   ]
  },
  {
   "cell_type": "code",
   "execution_count": 6,
   "metadata": {},
   "outputs": [
    {
     "name": "stdout",
     "output_type": "stream",
     "text": [
      "ElasticNet Metrics:\n",
      "  MAE: 0.8660045592833896\n",
      "  MSE: 1.4841194177488557\n",
      "  RMSE: 1.2182443998430101\n",
      "  R²: -2.2197190747696993e-06\n",
      "\n",
      "Ridge Metrics:\n",
      "  MAE: 0.7209619660308606\n",
      "  MSE: 1.0734747741204407\n",
      "  RMSE: 1.0360862773536\n",
      "  R²: 0.27669084839470237\n",
      "\n",
      "Lasso Metrics:\n",
      "  MAE: 0.8660045592833896\n",
      "  MSE: 1.4841194177488557\n",
      "  RMSE: 1.2182443998430101\n"
     ]
    },
    {
     "name": "stderr",
     "output_type": "stream",
     "text": [
      "/home/jehayes/mambaforge/envs/deep-snow/lib/python3.12/site-packages/sklearn/metrics/_regression.py:492: FutureWarning: 'squared' is deprecated in version 1.4 and will be removed in 1.6. To calculate the root mean squared error, use the function'root_mean_squared_error'.\n",
      "  warnings.warn(\n",
      "/home/jehayes/mambaforge/envs/deep-snow/lib/python3.12/site-packages/sklearn/metrics/_regression.py:492: FutureWarning: 'squared' is deprecated in version 1.4 and will be removed in 1.6. To calculate the root mean squared error, use the function'root_mean_squared_error'.\n",
      "  warnings.warn(\n",
      "/home/jehayes/mambaforge/envs/deep-snow/lib/python3.12/site-packages/sklearn/metrics/_regression.py:492: FutureWarning: 'squared' is deprecated in version 1.4 and will be removed in 1.6. To calculate the root mean squared error, use the function'root_mean_squared_error'.\n",
      "  warnings.warn(\n",
      "/home/jehayes/mambaforge/envs/deep-snow/lib/python3.12/site-packages/sklearn/metrics/_regression.py:492: FutureWarning: 'squared' is deprecated in version 1.4 and will be removed in 1.6. To calculate the root mean squared error, use the function'root_mean_squared_error'.\n",
      "  warnings.warn(\n"
     ]
    },
    {
     "name": "stdout",
     "output_type": "stream",
     "text": [
      "  R²: -2.2197190747696993e-06\n",
      "\n",
      "Dummy Regressor Metrics:\n",
      "  MAE: 0.6343305\n",
      "  MSE: 1.8864914\n",
      "  RMSE: 1.373496\n",
      "  R²: -0.27112138271331787\n",
      "\n",
      "Voting Regressor (Dummy + Ridge) Metrics:\n",
      "  MAE: 0.6458122267481049\n",
      "  MSE: 1.2775651768278415\n",
      "  RMSE: 1.1302942877091087\n",
      "  R²: 0.13917438355366551\n"
     ]
    },
    {
     "name": "stderr",
     "output_type": "stream",
     "text": [
      "/home/jehayes/mambaforge/envs/deep-snow/lib/python3.12/site-packages/sklearn/metrics/_regression.py:492: FutureWarning: 'squared' is deprecated in version 1.4 and will be removed in 1.6. To calculate the root mean squared error, use the function'root_mean_squared_error'.\n",
      "  warnings.warn(\n"
     ]
    }
   ],
   "source": [
    "print(\"ElasticNet Metrics:\")\n",
    "print(\"  MAE:\", metrics.mean_absolute_error(y_test, en_prediction))\n",
    "print(\"  MSE:\", metrics.mean_squared_error(y_test, en_prediction))\n",
    "print(\"  RMSE:\", metrics.mean_squared_error(y_test, en_prediction, squared=False))\n",
    "print(\"  R²:\", metrics.r2_score(y_test, en_prediction))\n",
    "print(\"\\nRidge Metrics:\")\n",
    "print(\"  MAE:\", metrics.mean_absolute_error(y_test, ridge_prediction))\n",
    "print(\"  MSE:\", metrics.mean_squared_error(y_test, ridge_prediction))\n",
    "print(\"  RMSE:\", metrics.mean_squared_error(y_test, ridge_prediction, squared=False))\n",
    "print(\"  R²:\", metrics.r2_score(y_test, ridge_prediction))\n",
    "print(\"\\nLasso Metrics:\")\n",
    "print(\"  MAE:\", metrics.mean_absolute_error(y_test, lasso_prediction))\n",
    "print(\"  MSE:\", metrics.mean_squared_error(y_test, lasso_prediction))\n",
    "print(\"  RMSE:\", metrics.mean_squared_error(y_test, lasso_prediction, squared=False))\n",
    "print(\"  R²:\", metrics.r2_score(y_test, lasso_prediction))\n",
    "print(\"\\nDummy Regressor Metrics:\")\n",
    "print(\"  MAE:\", metrics.mean_absolute_error(y_test, dummy_prediction))\n",
    "print(\"  MSE:\", metrics.mean_squared_error(y_test, dummy_prediction))\n",
    "print(\"  RMSE:\", metrics.mean_squared_error(y_test, dummy_prediction, squared=False))\n",
    "print(\"  R²:\", metrics.r2_score(y_test, dummy_prediction))\n",
    "print(\"\\nVoting Regressor (Dummy + Ridge) Metrics:\")\n",
    "print(\"  MAE:\", metrics.mean_absolute_error(y_test, voting_prediction))\n",
    "print(\"  MSE:\", metrics.mean_squared_error(y_test, voting_prediction))\n",
    "print(\"  RMSE:\", metrics.mean_squared_error(y_test, voting_prediction, squared=False))\n",
    "print(\"  R²:\", metrics.r2_score(y_test, voting_prediction))"
   ]
  },
  {
   "cell_type": "code",
   "execution_count": null,
   "metadata": {},
   "outputs": [],
   "source": [
    "# The MAE of all of the CML models are terrible, having a MAE of 0.6-0.8 METERS of snow depth is unacceptable"
   ]
  },
  {
   "cell_type": "markdown",
   "metadata": {},
   "source": [
    "# 3. Model Architecture Exploration (35%)"
   ]
  },
  {
   "cell_type": "markdown",
   "metadata": {},
   "source": [
    "#### Implementation and Justification (8%): Implements at least three deep learning architectures (e.g., FCN, CNN, RNN, U-Net). Justifies architecture choice based on dataset and problem type."
   ]
  },
  {
   "cell_type": "code",
   "execution_count": 3,
   "metadata": {},
   "outputs": [],
   "source": [
    "# first, let's just create a basic data pipeline to feed into a standard CNN\n",
    "from torch.utils.data import DataLoader, TensorDataset, random_split\n",
    "from deep_snow.dataset import norm_dict\n",
    "from deep_snow.utils import calc_norm, undo_norm"
   ]
  },
  {
   "cell_type": "code",
   "execution_count": 4,
   "metadata": {},
   "outputs": [],
   "source": [
    "norm_dict = {'aso_sd':[0, 25],\n",
    "             'vv':[-59, 30],\n",
    "             'vh':[-65, 17],\n",
    "             'cr':[-43, 16],\n",
    "             'delta_cr':[-33, 27],\n",
    "             'AOT':[0, 572],\n",
    "             'coastal':[0, 24304],\n",
    "             'blue':[0, 23371],\n",
    "             'green':[0, 26440],\n",
    "             'red':[0, 21576],\n",
    "             'red_edge1':[0, 20796],\n",
    "             'red_edge2':[0, 20432],\n",
    "             'red_edge3':[0, 20149],\n",
    "             'nir':[0, 21217],\n",
    "             'water_vapor':[0, 18199],\n",
    "             'swir1':[0, 17669],\n",
    "             'swir2':[0, 17936],\n",
    "             'scene_class_map':[0, 15],\n",
    "             'water_vapor_product':[0, 6518],\n",
    "             'elevation':[-100, 9000],\n",
    "             'aspect':[0, 360],\n",
    "             'slope':[0, 90],\n",
    "             'curvature':[-22, 22],\n",
    "             'tpi':[-164, 167],\n",
    "             'tri':[0, 913],\n",
    "             'latitude':[-90, 90],\n",
    "             'longitude':[-180, 180],\n",
    "             'dowy': [0, 365]}"
   ]
  },
  {
   "cell_type": "code",
   "execution_count": 5,
   "metadata": {},
   "outputs": [],
   "source": [
    "# Process each file and normalize the relevant features\n",
    "def process_file(file_path):\n",
    "    ds = xr.open_dataset(file_path)\n",
    "    # Normalize features using the norm_dict\n",
    "    data_dict = {}\n",
    "    data_dict['latitude'] = calc_norm(torch.Tensor(ds['latitude'].values), norm_dict['latitude'])\n",
    "    data_dict['longitude'] = calc_norm(torch.Tensor(ds['longitude'].values), norm_dict['longitude'])\n",
    "    data_dict['elevation'] = calc_norm(torch.Tensor(ds['elevation'].values), norm_dict['elevation'])\n",
    "    data_dict['slope'] = calc_norm(torch.Tensor(ds['slope'].values), norm_dict['slope'])\n",
    "    data_dict['tri'] = calc_norm(torch.Tensor(ds['tri'].values), norm_dict['tri'])\n",
    "    data_dict['tpi'] = calc_norm(torch.Tensor(ds['tpi'].values), norm_dict['tpi'])\n",
    "    data_dict['dowy'] = calc_norm(torch.Tensor(ds['dowy'].values), norm_dict['dowy'])\n",
    "    data_dict['fcf'] = torch.Tensor(ds['fcf'].values)\n",
    "    # Reshape PC components to 2D\n",
    "    s1_pc1_2d = ds['s1_pc1'].values.reshape(128, 128)\n",
    "    s1_pc2_2d = ds['s1_pc2'].values.reshape(128, 128)\n",
    "    s2_pc1_2d = ds['s2_pc1'].values.reshape(128, 128)\n",
    "    s2_pc2_2d = ds['s2_pc2'].values.reshape(128, 128)\n",
    "    s2_pc3_2d = ds['s2_pc3'].values.reshape(128, 128)\n",
    "    # Stack normalized features\n",
    "    features = np.stack([\n",
    "        data_dict['elevation'].numpy(),\n",
    "        data_dict['slope'].numpy(),\n",
    "        data_dict['tri'].numpy(),\n",
    "        data_dict['tpi'].numpy(),\n",
    "        data_dict['latitude'].numpy(),\n",
    "        data_dict['longitude'].numpy(),\n",
    "        s1_pc1_2d,\n",
    "        s1_pc2_2d,\n",
    "        s2_pc1_2d,\n",
    "        s2_pc2_2d,\n",
    "        s2_pc3_2d,\n",
    "        data_dict['fcf'].numpy(),\n",
    "        data_dict['dowy'].numpy()\n",
    "    ], axis=0)\n",
    "    target = ds['aso_sd'].values\n",
    "    return features, target\n",
    "\n",
    "# Create datasets and data loaders\n",
    "def create_dataset(file_list):\n",
    "    features_list = []\n",
    "    targets_list = []\n",
    "    for file in file_list:\n",
    "        features, target = process_file(file)\n",
    "        features_list.append(torch.FloatTensor(features))\n",
    "        targets_list.append(torch.FloatTensor(target))\n",
    "    features_tensor = torch.stack(features_list)\n",
    "    targets_tensor = torch.stack(targets_list)\n",
    "    return TensorDataset(features_tensor, targets_tensor)"
   ]
  },
  {
   "cell_type": "code",
   "execution_count": 6,
   "metadata": {},
   "outputs": [],
   "source": [
    "import random\n",
    "# Split files into train, test, and validation sets\n",
    "random.shuffle(files)\n",
    "files_subset = files[:]\n",
    "# Calculate the sizes for each split\n",
    "train_size = int(0.7 * len(files_subset))  # 70% for training\n",
    "test_size = int(0.2 * len(files_subset))   # 20% for testing\n",
    "val_size = len(files_subset) - train_size - test_size  # Remaining 10% for validation\n",
    "# Create the splits\n",
    "train_files = files_subset[:train_size]\n",
    "test_files = files_subset[train_size:train_size + test_size]\n",
    "val_files = files_subset[train_size + test_size:]\n",
    "# Create datasets\n",
    "train_dataset = create_dataset(train_files)\n",
    "test_dataset = create_dataset(test_files)\n",
    "val_dataset = create_dataset(val_files)\n",
    "\n",
    "# Create data loaders\n",
    "train_loader = DataLoader(train_dataset, batch_size=32, shuffle=True)\n",
    "test_loader = DataLoader(test_dataset, batch_size=32, shuffle=False)\n",
    "val_loader = DataLoader(val_dataset, batch_size=32, shuffle=False)"
   ]
  },
  {
   "cell_type": "code",
   "execution_count": 7,
   "metadata": {},
   "outputs": [
    {
     "name": "stdout",
     "output_type": "stream",
     "text": [
      "Training batch shapes:\n",
      "Features: torch.Size([32, 13, 128, 128])\n",
      "Targets: torch.Size([32, 128, 128])\n",
      "\n",
      "Test batch shapes:\n",
      "Features: torch.Size([32, 13, 128, 128])\n",
      "Targets: torch.Size([32, 128, 128])\n",
      "\n",
      "Validation batch shapes:\n",
      "Features: torch.Size([32, 13, 128, 128])\n",
      "Targets: torch.Size([32, 128, 128])\n"
     ]
    }
   ],
   "source": [
    "# Print shapes for training loader\n",
    "for features, targets in train_loader:\n",
    "    print(\"Training batch shapes:\")\n",
    "    print(f\"Features: {features.shape}\")\n",
    "    print(f\"Targets: {targets.shape}\")\n",
    "    break\n",
    "# Print shapes for test loader\n",
    "for features, targets in test_loader:\n",
    "    print(\"\\nTest batch shapes:\")\n",
    "    print(f\"Features: {features.shape}\")\n",
    "    print(f\"Targets: {targets.shape}\")\n",
    "    break\n",
    "# Print shapes for validation loader\n",
    "for features, targets in val_loader:\n",
    "    print(\"\\nValidation batch shapes:\")\n",
    "    print(f\"Features: {features.shape}\")\n",
    "    print(f\"Targets: {targets.shape}\")\n",
    "    break"
   ]
  },
  {
   "cell_type": "code",
   "execution_count": 8,
   "metadata": {},
   "outputs": [],
   "source": [
    "class SnowDepthCNN(nn.Module):\n",
    "    def __init__(self):\n",
    "        super(SnowDepthCNN, self).__init__()\n",
    "        # First conv layer: (12, 128, 128) -> (32, 128, 128)\n",
    "        self.conv1 = nn.Conv2d(in_channels=13, out_channels=32, kernel_size=3, padding=1)\n",
    "        self.relu = nn.ReLU()\n",
    "        # Second conv layer: (32, 128, 128) -> (16, 128, 128)\n",
    "        self.conv2 = nn.Conv2d(in_channels=32, out_channels=16, kernel_size=3, padding=1)\n",
    "        # Final conv layer: (16, 128, 128) -> (1, 128, 128)\n",
    "        self.conv3 = nn.Conv2d(in_channels=16, out_channels=1, kernel_size=1)\n",
    "    def forward(self, x):\n",
    "        x = self.relu(self.conv1(x))\n",
    "        x = self.relu(self.conv2(x))\n",
    "        x = self.conv3(x)\n",
    "        return x.squeeze(1)  # Remove channel dimension to match target shape"
   ]
  },
  {
   "cell_type": "code",
   "execution_count": null,
   "metadata": {},
   "outputs": [],
   "source": [
    "def train_and_evaluate_model(model, train_loader, val_loader, test_loader, criterion, optimizer, num_epochs, device):\n",
    "    \"\"\"\n",
    "    Train, validate, and test the model.\n",
    "\n",
    "    Args:\n",
    "        model (nn.Module): The PyTorch model to train and evaluate.\n",
    "        train_loader (DataLoader): DataLoader for the training dataset.\n",
    "        val_loader (DataLoader): DataLoader for the validation dataset.\n",
    "        test_loader (DataLoader): DataLoader for the test dataset.\n",
    "        criterion (Loss): The loss function.\n",
    "        optimizer (Optimizer): The optimizer for model training.\n",
    "        num_epochs (int): Number of training epochs.\n",
    "        device (torch.device): Device to use for computation.\n",
    "\n",
    "    Returns:\n",
    "        tuple: A tuple containing training losses, validation losses, and final test loss.\n",
    "    \"\"\"\n",
    "    train_losses = []\n",
    "    val_losses = []\n",
    "\n",
    "    for epoch in range(num_epochs):\n",
    "        # Training\n",
    "        model.train()\n",
    "        train_loss = 0\n",
    "        for features, targets in tqdm(train_loader, desc=f'Epoch {epoch+1}'):\n",
    "            features, targets = features.to(device), targets.to(device)\n",
    "            optimizer.zero_grad()\n",
    "            outputs = model(features)\n",
    "            loss = criterion(outputs, targets)\n",
    "            loss.backward()\n",
    "            optimizer.step()\n",
    "            train_loss += loss.item()\n",
    "        \n",
    "        # Validation\n",
    "        model.eval()\n",
    "        val_loss = 0\n",
    "        with torch.no_grad():\n",
    "            for features, targets in val_loader:\n",
    "                features, targets = features.to(device), targets.to(device)\n",
    "                outputs = model(features)\n",
    "                val_loss += criterion(outputs, targets).item()\n",
    "        \n",
    "        # Compute average losses\n",
    "        avg_train_loss = train_loss / len(train_loader)\n",
    "        avg_val_loss = val_loss / len(val_loader)\n",
    "        train_losses.append(avg_train_loss)\n",
    "        val_losses.append(avg_val_loss)\n",
    "\n",
    "        print(f'Epoch [{epoch+1}/{num_epochs}]')\n",
    "        print(f'Training Loss: {avg_train_loss:.4f}')\n",
    "        print(f'Validation Loss: {avg_val_loss:.4f}')\n",
    "    \n",
    "    # Testing\n",
    "    model.eval()\n",
    "    test_loss = 0\n",
    "    with torch.no_grad():\n",
    "        for features, targets in test_loader:\n",
    "            features, targets = features.to(device), targets.to(device)\n",
    "            outputs = model(features)\n",
    "            test_loss += criterion(outputs, targets).item()\n",
    "\n",
    "    final_test_loss = test_loss / len(test_loader)\n",
    "    print(f'\\nFinal Test Loss: {final_test_loss:.4f}')\n",
    "\n",
    "    return train_losses, val_losses, final_test_loss"
   ]
  },
  {
   "cell_type": "code",
   "execution_count": null,
   "metadata": {},
   "outputs": [
    {
     "name": "stderr",
     "output_type": "stream",
     "text": [
      "Epoch 1: 100%|██████████| 78/78 [00:14<00:00,  5.32it/s]\n"
     ]
    },
    {
     "name": "stdout",
     "output_type": "stream",
     "text": [
      "Epoch [1/10]\n",
      "Training Loss: 1.4825\n",
      "Validation Loss: 1.5835\n"
     ]
    },
    {
     "name": "stderr",
     "output_type": "stream",
     "text": [
      "Epoch 2: 100%|██████████| 78/78 [00:16<00:00,  4.83it/s]\n"
     ]
    },
    {
     "name": "stdout",
     "output_type": "stream",
     "text": [
      "Epoch [2/10]\n",
      "Training Loss: 1.1928\n",
      "Validation Loss: 0.8901\n"
     ]
    },
    {
     "name": "stderr",
     "output_type": "stream",
     "text": [
      "Epoch 3: 100%|██████████| 78/78 [00:14<00:00,  5.56it/s]\n"
     ]
    },
    {
     "name": "stdout",
     "output_type": "stream",
     "text": [
      "Epoch [3/10]\n",
      "Training Loss: 0.9605\n",
      "Validation Loss: 0.8445\n"
     ]
    },
    {
     "name": "stderr",
     "output_type": "stream",
     "text": [
      "Epoch 4: 100%|██████████| 78/78 [00:16<00:00,  4.85it/s]\n"
     ]
    },
    {
     "name": "stdout",
     "output_type": "stream",
     "text": [
      "Epoch [4/10]\n",
      "Training Loss: 0.6583\n",
      "Validation Loss: 0.8170\n"
     ]
    },
    {
     "name": "stderr",
     "output_type": "stream",
     "text": [
      "Epoch 5: 100%|██████████| 78/78 [00:14<00:00,  5.37it/s]\n"
     ]
    },
    {
     "name": "stdout",
     "output_type": "stream",
     "text": [
      "Epoch [5/10]\n",
      "Training Loss: 0.6441\n",
      "Validation Loss: 0.7998\n"
     ]
    },
    {
     "name": "stderr",
     "output_type": "stream",
     "text": [
      "Epoch 6: 100%|██████████| 78/78 [00:14<00:00,  5.34it/s]\n"
     ]
    },
    {
     "name": "stdout",
     "output_type": "stream",
     "text": [
      "Epoch [6/10]\n",
      "Training Loss: 0.6282\n",
      "Validation Loss: 0.7824\n"
     ]
    },
    {
     "name": "stderr",
     "output_type": "stream",
     "text": [
      "Epoch 7: 100%|██████████| 78/78 [00:15<00:00,  4.92it/s]\n"
     ]
    },
    {
     "name": "stdout",
     "output_type": "stream",
     "text": [
      "Epoch [7/10]\n",
      "Training Loss: 0.6072\n",
      "Validation Loss: 0.7557\n"
     ]
    },
    {
     "name": "stderr",
     "output_type": "stream",
     "text": [
      "Epoch 8: 100%|██████████| 78/78 [00:14<00:00,  5.43it/s]\n"
     ]
    },
    {
     "name": "stdout",
     "output_type": "stream",
     "text": [
      "Epoch [8/10]\n",
      "Training Loss: 0.5887\n",
      "Validation Loss: 0.7359\n"
     ]
    },
    {
     "name": "stderr",
     "output_type": "stream",
     "text": [
      "Epoch 9: 100%|██████████| 78/78 [00:16<00:00,  4.74it/s]\n"
     ]
    },
    {
     "name": "stdout",
     "output_type": "stream",
     "text": [
      "Epoch [9/10]\n",
      "Training Loss: 0.5753\n",
      "Validation Loss: 0.7121\n"
     ]
    },
    {
     "name": "stderr",
     "output_type": "stream",
     "text": [
      "Epoch 10: 100%|██████████| 78/78 [00:14<00:00,  5.47it/s]\n"
     ]
    },
    {
     "name": "stdout",
     "output_type": "stream",
     "text": [
      "Epoch [10/10]\n",
      "Training Loss: 0.5649\n",
      "Validation Loss: 0.6964\n",
      "\n",
      "Final Test Loss: 0.5653\n"
     ]
    }
   ],
   "source": [
    "# Initialize model\n",
    "model = SnowDepthCNN()\n",
    "# Loss function: MAE is appropriate for continuous regression problems like snow depth\n",
    "criterion = nn.L1Loss()\n",
    "num_epochs = 10\n",
    "device = torch.device(\"cuda\" if torch.cuda.is_available() else \"cpu\")\n",
    "optimizer = torch.optim.Adam(model.parameters(), lr=0.001)\n",
    "num_epochs = 10\n",
    "# Call the function\n",
    "train_losses, val_losses, test_loss = train_and_evaluate_model(\n",
    "    model=model,\n",
    "    train_loader=train_loader,\n",
    "    val_loader=val_loader,\n",
    "    test_loader=test_loader,\n",
    "    criterion=criterion,\n",
    "    optimizer=optimizer,\n",
    "    num_epochs=num_epochs,\n",
    "    device=device\n",
    ")"
   ]
  },
  {
   "cell_type": "code",
   "execution_count": null,
   "metadata": {},
   "outputs": [],
   "source": [
    "# great, we have a basic CNN implemented\n",
    "# now let's explore other architectures for a preliminary search for the best architecture for our problem"
   ]
  },
  {
   "cell_type": "code",
   "execution_count": 11,
   "metadata": {},
   "outputs": [],
   "source": [
    "class UNet(nn.Module):\n",
    "    def __init__(self, in_channels=13, out_channels=1):\n",
    "        super(UNet, self).__init__()\n",
    "        # Encoding path\n",
    "        self.enc1 = self.contract_block(in_channels, 64, 3)\n",
    "        self.enc2 = self.contract_block(64, 128, 3)\n",
    "        # Bottleneck\n",
    "        self.bottleneck = self.contract_block(128, 256, 3)\n",
    "        # Decoding path\n",
    "        self.dec2 = self.expand_block(256, 128, 3)\n",
    "        self.dec1 = self.expand_block(128, 64, 3)\n",
    "        # Final output layer\n",
    "        self.final = nn.Conv2d(64, out_channels, kernel_size=1)\n",
    "    def contract_block(self, in_channels, out_channels, kernel_size):\n",
    "        return nn.Sequential(\n",
    "            nn.Conv2d(in_channels, out_channels, kernel_size, padding=1),\n",
    "            nn.ReLU(),\n",
    "            nn.Conv2d(out_channels, out_channels, kernel_size, padding=1),\n",
    "            nn.ReLU(),\n",
    "            nn.MaxPool2d(kernel_size=2)\n",
    "        )\n",
    "\n",
    "    def expand_block(self, in_channels, out_channels, kernel_size):\n",
    "        return nn.Sequential(\n",
    "            nn.Conv2d(in_channels, out_channels, kernel_size, padding=1),\n",
    "            nn.ReLU(),\n",
    "            nn.Conv2d(out_channels, out_channels, kernel_size, padding=1),\n",
    "            nn.ReLU(),\n",
    "            nn.ConvTranspose2d(out_channels, out_channels, kernel_size=2, stride=2)\n",
    "        )\n",
    "    def forward(self, x):\n",
    "        # Encoding\n",
    "        enc1 = self.enc1(x)\n",
    "        enc2 = self.enc2(enc1)\n",
    "        bottleneck = self.bottleneck(enc2)\n",
    "        dec2 = self.dec2(bottleneck)\n",
    "        dec1 = self.dec1(dec2)\n",
    "        output = self.final(dec1)\n",
    "        # Resize the output to match the input size\n",
    "        return F.interpolate(output, size=(x.size(2), x.size(3)), mode='bilinear', align_corners=False)"
   ]
  },
  {
   "cell_type": "code",
   "execution_count": 12,
   "metadata": {},
   "outputs": [
    {
     "name": "stderr",
     "output_type": "stream",
     "text": [
      "Epoch 1:   0%|          | 0/78 [00:00<?, ?it/s]"
     ]
    },
    {
     "name": "stderr",
     "output_type": "stream",
     "text": [
      "/home/jehayes/mambaforge/envs/deep-snow/lib/python3.12/site-packages/torch/nn/modules/loss.py:128: UserWarning: Using a target size (torch.Size([32, 128, 128])) that is different to the input size (torch.Size([32, 1, 128, 128])). This will likely lead to incorrect results due to broadcasting. Please ensure they have the same size.\n",
      "  return F.l1_loss(input, target, reduction=self.reduction)\n",
      "Epoch 1:  99%|█████████▊| 77/78 [02:36<00:01,  1.91s/it]/home/jehayes/mambaforge/envs/deep-snow/lib/python3.12/site-packages/torch/nn/modules/loss.py:128: UserWarning: Using a target size (torch.Size([14, 128, 128])) that is different to the input size (torch.Size([14, 1, 128, 128])). This will likely lead to incorrect results due to broadcasting. Please ensure they have the same size.\n",
      "  return F.l1_loss(input, target, reduction=self.reduction)\n",
      "Epoch 1: 100%|██████████| 78/78 [02:37<00:00,  2.02s/it]\n",
      "/home/jehayes/mambaforge/envs/deep-snow/lib/python3.12/site-packages/torch/nn/modules/loss.py:128: UserWarning: Using a target size (torch.Size([2, 128, 128])) that is different to the input size (torch.Size([2, 1, 128, 128])). This will likely lead to incorrect results due to broadcasting. Please ensure they have the same size.\n",
      "  return F.l1_loss(input, target, reduction=self.reduction)\n"
     ]
    },
    {
     "name": "stdout",
     "output_type": "stream",
     "text": [
      "Epoch [1/10]\n",
      "Training Loss: 0.6153\n",
      "Validation Loss: 0.8111\n"
     ]
    },
    {
     "name": "stderr",
     "output_type": "stream",
     "text": [
      "Epoch 2: 100%|██████████| 78/78 [02:39<00:00,  2.05s/it]\n"
     ]
    },
    {
     "name": "stdout",
     "output_type": "stream",
     "text": [
      "Epoch [2/10]\n",
      "Training Loss: 0.6142\n",
      "Validation Loss: 0.8111\n"
     ]
    },
    {
     "name": "stderr",
     "output_type": "stream",
     "text": [
      "Epoch 3: 100%|██████████| 78/78 [02:39<00:00,  2.04s/it]\n"
     ]
    },
    {
     "name": "stdout",
     "output_type": "stream",
     "text": [
      "Epoch [3/10]\n",
      "Training Loss: 0.6156\n",
      "Validation Loss: 0.8110\n"
     ]
    },
    {
     "name": "stderr",
     "output_type": "stream",
     "text": [
      "Epoch 4: 100%|██████████| 78/78 [02:42<00:00,  2.08s/it]\n"
     ]
    },
    {
     "name": "stdout",
     "output_type": "stream",
     "text": [
      "Epoch [4/10]\n",
      "Training Loss: 0.6136\n",
      "Validation Loss: 0.8112\n"
     ]
    },
    {
     "name": "stderr",
     "output_type": "stream",
     "text": [
      "Epoch 5: 100%|██████████| 78/78 [02:41<00:00,  2.07s/it]\n"
     ]
    },
    {
     "name": "stdout",
     "output_type": "stream",
     "text": [
      "Epoch [5/10]\n",
      "Training Loss: 0.6150\n",
      "Validation Loss: 0.8111\n"
     ]
    },
    {
     "name": "stderr",
     "output_type": "stream",
     "text": [
      "Epoch 6: 100%|██████████| 78/78 [02:40<00:00,  2.06s/it]\n"
     ]
    },
    {
     "name": "stdout",
     "output_type": "stream",
     "text": [
      "Epoch [6/10]\n",
      "Training Loss: 0.6178\n",
      "Validation Loss: 0.8112\n"
     ]
    },
    {
     "name": "stderr",
     "output_type": "stream",
     "text": [
      "Epoch 7: 100%|██████████| 78/78 [02:40<00:00,  2.06s/it]\n"
     ]
    },
    {
     "name": "stdout",
     "output_type": "stream",
     "text": [
      "Epoch [7/10]\n",
      "Training Loss: 0.6164\n",
      "Validation Loss: 0.8111\n"
     ]
    },
    {
     "name": "stderr",
     "output_type": "stream",
     "text": [
      "Epoch 8: 100%|██████████| 78/78 [02:43<00:00,  2.10s/it]\n"
     ]
    },
    {
     "name": "stdout",
     "output_type": "stream",
     "text": [
      "Epoch [8/10]\n",
      "Training Loss: 0.6160\n",
      "Validation Loss: 0.8116\n"
     ]
    },
    {
     "name": "stderr",
     "output_type": "stream",
     "text": [
      "Epoch 9: 100%|██████████| 78/78 [02:46<00:00,  2.13s/it]\n"
     ]
    },
    {
     "name": "stdout",
     "output_type": "stream",
     "text": [
      "Epoch [9/10]\n",
      "Training Loss: 0.6132\n",
      "Validation Loss: 0.8110\n"
     ]
    },
    {
     "name": "stderr",
     "output_type": "stream",
     "text": [
      "Epoch 10: 100%|██████████| 78/78 [02:46<00:00,  2.13s/it]\n"
     ]
    },
    {
     "name": "stdout",
     "output_type": "stream",
     "text": [
      "Epoch [10/10]\n",
      "Training Loss: 0.6133\n",
      "Validation Loss: 0.8111\n",
      "\n",
      "Final Test Loss: 0.6288\n"
     ]
    },
    {
     "name": "stderr",
     "output_type": "stream",
     "text": [
      "/home/jehayes/mambaforge/envs/deep-snow/lib/python3.12/site-packages/torch/nn/modules/loss.py:128: UserWarning: Using a target size (torch.Size([4, 128, 128])) that is different to the input size (torch.Size([4, 1, 128, 128])). This will likely lead to incorrect results due to broadcasting. Please ensure they have the same size.\n",
      "  return F.l1_loss(input, target, reduction=self.reduction)\n"
     ]
    }
   ],
   "source": [
    "model = UNet().to(device)\n",
    "criterion = nn.L1Loss()\n",
    "optimizer = torch.optim.Adam(model.parameters(), lr=0.001)\n",
    "num_epochs = 10\n",
    "train_losses, val_losses, test_loss = train_and_evaluate_model(\n",
    "    model=model,\n",
    "    train_loader=train_loader,\n",
    "    val_loader=val_loader,\n",
    "    test_loader=test_loader,\n",
    "    criterion=criterion,\n",
    "    optimizer=optimizer,\n",
    "    num_epochs=num_epochs,\n",
    "    device=device\n",
    ")"
   ]
  },
  {
   "cell_type": "code",
   "execution_count": null,
   "metadata": {},
   "outputs": [],
   "source": [
    "# hmm doesn't seem to be doing particularly well but we see there's an error in our loss function\n",
    "# that being said, we'll write off the UNet for this assignment as that took 30 minutes to run\n",
    "# and we'll have to do a lot of hyperparameter tuning for this assignement\n",
    "\n",
    "# in the real world, I'd correct this error and proceed again, but given the time constraints, I'll move on\n",
    "# we'd be sitting here for a lot more hours than necessary if we were to correct the UNet and tune the hyperparameters on that model"
   ]
  },
  {
   "cell_type": "code",
   "execution_count": 13,
   "metadata": {},
   "outputs": [],
   "source": [
    "# our third architecture to explore will be a resnet\n",
    "class ResidualBlock(nn.Module):\n",
    "    def __init__(self, in_channels, out_channels, kernel_size=3):\n",
    "        super(ResidualBlock, self).__init__()\n",
    "        self.conv1 = nn.Conv2d(in_channels, out_channels, kernel_size, padding=1)\n",
    "        self.relu = nn.ReLU()\n",
    "        self.conv2 = nn.Conv2d(out_channels, out_channels, kernel_size, padding=1)\n",
    "        self.shortcut = (\n",
    "            nn.Conv2d(in_channels, out_channels, kernel_size=1)\n",
    "            if in_channels != out_channels\n",
    "            else nn.Identity()\n",
    "        )\n",
    "    def forward(self, x):\n",
    "        shortcut = self.shortcut(x)\n",
    "        x = self.relu(self.conv1(x))\n",
    "        x = self.conv2(x)\n",
    "        return self.relu(x + shortcut)\n",
    "class ResNetSnowDepth(nn.Module):\n",
    "    def __init__(self):\n",
    "        super(ResNetSnowDepth, self).__init__()\n",
    "        # Initial convolution: (13, 128, 128) -> (32, 128, 128)\n",
    "        self.initial_conv = nn.Conv2d(13, 32, kernel_size=3, padding=1)\n",
    "        self.relu = nn.ReLU()\n",
    "        # Residual blocks\n",
    "        self.res1 = ResidualBlock(32, 64)  # (32, 128, 128) -> (64, 128, 128)\n",
    "        self.res2 = ResidualBlock(64, 128)  # (64, 128, 128) -> (128, 128, 128)\n",
    "        self.res3 = ResidualBlock(128, 64)  # (128, 128, 128) -> (64, 128, 128)\n",
    "        # Output layer: (64, 128, 128) -> (1, 128, 128)\n",
    "        self.output_conv = nn.Conv2d(64, 1, kernel_size=1)\n",
    "    def forward(self, x):\n",
    "        x = self.relu(self.initial_conv(x))\n",
    "        x = self.res1(x)\n",
    "        x = self.res2(x)\n",
    "        x = self.res3(x)\n",
    "        x = self.output_conv(x)\n",
    "        return x.squeeze(1)  # Remove channel dimension to match target shape"
   ]
  },
  {
   "cell_type": "code",
   "execution_count": 14,
   "metadata": {},
   "outputs": [
    {
     "name": "stderr",
     "output_type": "stream",
     "text": [
      "Epoch 1:   0%|          | 0/78 [00:00<?, ?it/s]"
     ]
    },
    {
     "name": "stderr",
     "output_type": "stream",
     "text": [
      "Epoch 1: 100%|██████████| 78/78 [05:44<00:00,  4.41s/it]\n"
     ]
    },
    {
     "name": "stdout",
     "output_type": "stream",
     "text": [
      "Epoch [1/10]\n",
      "Training Loss: 0.7284\n",
      "Validation Loss: 0.8139\n"
     ]
    },
    {
     "name": "stderr",
     "output_type": "stream",
     "text": [
      "Epoch 2: 100%|██████████| 78/78 [06:02<00:00,  4.64s/it]\n"
     ]
    },
    {
     "name": "stdout",
     "output_type": "stream",
     "text": [
      "Epoch [2/10]\n",
      "Training Loss: 0.6154\n",
      "Validation Loss: 0.7910\n"
     ]
    },
    {
     "name": "stderr",
     "output_type": "stream",
     "text": [
      "Epoch 3: 100%|██████████| 78/78 [06:03<00:00,  4.66s/it]\n"
     ]
    },
    {
     "name": "stdout",
     "output_type": "stream",
     "text": [
      "Epoch [3/10]\n",
      "Training Loss: 0.5923\n",
      "Validation Loss: 0.7241\n"
     ]
    },
    {
     "name": "stderr",
     "output_type": "stream",
     "text": [
      "Epoch 4: 100%|██████████| 78/78 [06:02<00:00,  4.65s/it]\n"
     ]
    },
    {
     "name": "stdout",
     "output_type": "stream",
     "text": [
      "Epoch [4/10]\n",
      "Training Loss: 0.5758\n",
      "Validation Loss: 0.7488\n"
     ]
    },
    {
     "name": "stderr",
     "output_type": "stream",
     "text": [
      "Epoch 5: 100%|██████████| 78/78 [06:01<00:00,  4.63s/it]\n"
     ]
    },
    {
     "name": "stdout",
     "output_type": "stream",
     "text": [
      "Epoch [5/10]\n",
      "Training Loss: 0.5608\n",
      "Validation Loss: 0.6550\n"
     ]
    },
    {
     "name": "stderr",
     "output_type": "stream",
     "text": [
      "Epoch 6: 100%|██████████| 78/78 [05:58<00:00,  4.59s/it]\n"
     ]
    },
    {
     "name": "stdout",
     "output_type": "stream",
     "text": [
      "Epoch [6/10]\n",
      "Training Loss: 0.5297\n",
      "Validation Loss: 0.6006\n"
     ]
    },
    {
     "name": "stderr",
     "output_type": "stream",
     "text": [
      "Epoch 7: 100%|██████████| 78/78 [06:03<00:00,  4.66s/it]\n"
     ]
    },
    {
     "name": "stdout",
     "output_type": "stream",
     "text": [
      "Epoch [7/10]\n",
      "Training Loss: 0.5322\n",
      "Validation Loss: 0.6852\n"
     ]
    },
    {
     "name": "stderr",
     "output_type": "stream",
     "text": [
      "Epoch 8: 100%|██████████| 78/78 [06:07<00:00,  4.71s/it]\n"
     ]
    },
    {
     "name": "stdout",
     "output_type": "stream",
     "text": [
      "Epoch [8/10]\n",
      "Training Loss: 0.5158\n",
      "Validation Loss: 0.5812\n"
     ]
    },
    {
     "name": "stderr",
     "output_type": "stream",
     "text": [
      "Epoch 9: 100%|██████████| 78/78 [06:05<00:00,  4.69s/it]\n"
     ]
    },
    {
     "name": "stdout",
     "output_type": "stream",
     "text": [
      "Epoch [9/10]\n",
      "Training Loss: 0.5045\n",
      "Validation Loss: 0.5814\n"
     ]
    },
    {
     "name": "stderr",
     "output_type": "stream",
     "text": [
      "Epoch 10: 100%|██████████| 78/78 [06:03<00:00,  4.66s/it]\n"
     ]
    },
    {
     "name": "stdout",
     "output_type": "stream",
     "text": [
      "Epoch [10/10]\n",
      "Training Loss: 0.4985\n",
      "Validation Loss: 0.6400\n",
      "\n",
      "Final Test Loss: 0.5247\n"
     ]
    }
   ],
   "source": [
    "model = ResNetSnowDepth()\n",
    "model = model.to(device)\n",
    "criterion = nn.L1Loss()\n",
    "optimizer = torch.optim.Adam(model.parameters(), lr=0.001)\n",
    "train_losses, val_losses, test_loss = train_and_evaluate_model(\n",
    "    model=model,\n",
    "    train_loader=train_loader,\n",
    "    val_loader=val_loader,\n",
    "    test_loader=test_loader,\n",
    "    criterion=criterion,\n",
    "    optimizer=optimizer,\n",
    "    num_epochs=num_epochs,\n",
    "    device=device\n",
    ")"
   ]
  },
  {
   "cell_type": "code",
   "execution_count": null,
   "metadata": {},
   "outputs": [],
   "source": [
    "# above we see that the ResNet model is the best performing model and quite promising, but we also see that it takes\n",
    "# over an hour to run a simple ResNet architecture as opposed to 30 minutes for a U-net and 3 minutes for a \n",
    "# basic CNN.\n",
    "# 1 hour isn't a long runtime at all, but given that this is for a homework assignemnt that requires hyperparameter tuning\n",
    "# we'll proceed with the simple CNN architecture rather than the ResNet architecture so we don't have to wait a lot of hours for \n",
    "# hyperparameter tuning. Running ResNet tuning overnight will be interesting, and something to explore, but for the sake of the assingment\n",
    "# deadline, we can't risk an error or bug interrupting this"
   ]
  },
  {
   "cell_type": "markdown",
   "metadata": {},
   "source": [
    "#### Parameter Tuning (8%): Explores hyperparameters (e.g., learning rate, number of layers, filter sizes) and documents experiments systematically."
   ]
  },
  {
   "cell_type": "code",
   "execution_count": 17,
   "metadata": {},
   "outputs": [],
   "source": [
    "# let's change our train and eval model function to get rid of print statements\n",
    "def train_and_evaluate_model(model, train_loader, val_loader, test_loader, criterion, optimizer, num_epochs, device, verbose=True):\n",
    "    \"\"\"\n",
    "    Train, validate, and test the model.\n",
    "\n",
    "    Args:\n",
    "        model (nn.Module): The PyTorch model to train and evaluate.\n",
    "        train_loader (DataLoader): DataLoader for the training dataset.\n",
    "        val_loader (DataLoader): DataLoader for the validation dataset.\n",
    "        test_loader (DataLoader): DataLoader for the test dataset.\n",
    "        criterion (Loss): The loss function.\n",
    "        optimizer (Optimizer): The optimizer for model training.\n",
    "        num_epochs (int): Number of training epochs.\n",
    "        device (torch.device): Device to use for computation.\n",
    "        verbose (bool): Whether to print detailed progress for each epoch.\n",
    "\n",
    "    Returns:\n",
    "        tuple: A tuple containing training losses, validation losses, and final test loss.\n",
    "    \"\"\"\n",
    "    train_losses = []\n",
    "    val_losses = []\n",
    "\n",
    "    for epoch in range(num_epochs):\n",
    "        # Training\n",
    "        model.train()\n",
    "        train_loss = 0\n",
    "        for features, targets in train_loader:\n",
    "            features, targets = features.to(device), targets.to(device)\n",
    "            optimizer.zero_grad()\n",
    "            outputs = model(features).squeeze(1)\n",
    "            loss = criterion(outputs, targets)\n",
    "            loss.backward()\n",
    "            optimizer.step()\n",
    "            train_loss += loss.item()\n",
    "        \n",
    "        # Validation\n",
    "        model.eval()\n",
    "        val_loss = 0\n",
    "        with torch.no_grad():\n",
    "            for features, targets in val_loader:\n",
    "                features, targets = features.to(device), targets.to(device)\n",
    "                outputs = model(features)\n",
    "                val_loss += criterion(outputs, targets).item()\n",
    "        \n",
    "        # Compute average losses\n",
    "        avg_train_loss = train_loss / len(train_loader)\n",
    "        avg_val_loss = val_loss / len(val_loader)\n",
    "        train_losses.append(avg_train_loss)\n",
    "        val_losses.append(avg_val_loss)\n",
    "\n",
    "        if verbose:\n",
    "            print(f'Epoch [{epoch+1}/{num_epochs}]')\n",
    "            print(f'Training Loss: {avg_train_loss:.4f}')\n",
    "            print(f'Validation Loss: {avg_val_loss:.4f}')\n",
    "    \n",
    "    # Testing\n",
    "    model.eval()\n",
    "    test_loss = 0\n",
    "    with torch.no_grad():\n",
    "        for features, targets in test_loader:\n",
    "            features, targets = features.to(device), targets.to(device)\n",
    "            outputs = model(features)\n",
    "            test_loss += criterion(outputs, targets).item()\n",
    "\n",
    "    final_test_loss = test_loss / len(test_loader)\n",
    "\n",
    "    if verbose:\n",
    "        print(f'\\nFinal Test Loss: {final_test_loss:.4f}')\n",
    "\n",
    "    return train_losses, val_losses, final_test_loss\n"
   ]
  },
  {
   "cell_type": "code",
   "execution_count": 18,
   "metadata": {},
   "outputs": [
    {
     "name": "stdout",
     "output_type": "stream",
     "text": [
      "\n",
      "Training with learning rate=0.001, num_layers=3, filter_size=16\n",
      "\n",
      "Training with learning rate=0.001, num_layers=3, filter_size=32\n",
      "\n",
      "Training with learning rate=0.001, num_layers=3, filter_size=64\n",
      "\n",
      "Training with learning rate=0.001, num_layers=4, filter_size=16\n",
      "\n",
      "Training with learning rate=0.001, num_layers=4, filter_size=32\n",
      "\n",
      "Training with learning rate=0.001, num_layers=4, filter_size=64\n",
      "\n",
      "Training with learning rate=0.001, num_layers=5, filter_size=16\n",
      "\n",
      "Training with learning rate=0.001, num_layers=5, filter_size=32\n",
      "\n",
      "Training with learning rate=0.001, num_layers=5, filter_size=64\n",
      "\n",
      "Training with learning rate=0.0005, num_layers=3, filter_size=16\n",
      "\n",
      "Training with learning rate=0.0005, num_layers=3, filter_size=32\n",
      "\n",
      "Training with learning rate=0.0005, num_layers=3, filter_size=64\n",
      "\n",
      "Training with learning rate=0.0005, num_layers=4, filter_size=16\n",
      "\n",
      "Training with learning rate=0.0005, num_layers=4, filter_size=32\n",
      "\n",
      "Training with learning rate=0.0005, num_layers=4, filter_size=64\n",
      "\n",
      "Training with learning rate=0.0005, num_layers=5, filter_size=16\n",
      "\n",
      "Training with learning rate=0.0005, num_layers=5, filter_size=32\n",
      "\n",
      "Training with learning rate=0.0005, num_layers=5, filter_size=64\n",
      "\n",
      "Training with learning rate=0.0001, num_layers=3, filter_size=16\n",
      "\n",
      "Training with learning rate=0.0001, num_layers=3, filter_size=32\n",
      "\n",
      "Training with learning rate=0.0001, num_layers=3, filter_size=64\n",
      "\n",
      "Training with learning rate=0.0001, num_layers=4, filter_size=16\n",
      "\n",
      "Training with learning rate=0.0001, num_layers=4, filter_size=32\n",
      "\n",
      "Training with learning rate=0.0001, num_layers=4, filter_size=64\n",
      "\n",
      "Training with learning rate=0.0001, num_layers=5, filter_size=16\n",
      "\n",
      "Training with learning rate=0.0001, num_layers=5, filter_size=32\n",
      "\n",
      "Training with learning rate=0.0001, num_layers=5, filter_size=64\n",
      "\n",
      "Hyperparameter Tuning Results:\n",
      "{'learning_rate': 0.001, 'num_layers': 3, 'filter_size': 16, 'train_loss': 0.5769462627478135, 'val_loss': 0.8775304506222407, 'test_loss': 0.7092689677425053}\n",
      "{'learning_rate': 0.001, 'num_layers': 3, 'filter_size': 32, 'train_loss': 0.5291762321423261, 'val_loss': 0.9109394401311874, 'test_loss': 0.7500574238922285}\n",
      "{'learning_rate': 0.001, 'num_layers': 3, 'filter_size': 64, 'train_loss': 0.5753728346182749, 'val_loss': 0.9207137872775396, 'test_loss': 0.7619022286456564}\n",
      "{'learning_rate': 0.001, 'num_layers': 4, 'filter_size': 16, 'train_loss': 0.6086416531067628, 'val_loss': 0.8379030426343282, 'test_loss': 0.6669531231341155}\n",
      "{'learning_rate': 0.001, 'num_layers': 4, 'filter_size': 32, 'train_loss': 0.5730377015395042, 'val_loss': 0.8345480511585871, 'test_loss': 0.6603606796782949}\n",
      "{'learning_rate': 0.001, 'num_layers': 4, 'filter_size': 64, 'train_loss': 0.6161518054894912, 'val_loss': 0.8110980987548828, 'test_loss': 0.628714505745017}\n",
      "{'learning_rate': 0.001, 'num_layers': 5, 'filter_size': 16, 'train_loss': 0.5954087472114807, 'val_loss': 0.8290311892827352, 'test_loss': 0.6534373099389283}\n",
      "{'learning_rate': 0.001, 'num_layers': 5, 'filter_size': 32, 'train_loss': 0.53670578621901, 'val_loss': 0.9389326572418213, 'test_loss': 0.7734606123488882}\n",
      "{'learning_rate': 0.001, 'num_layers': 5, 'filter_size': 64, 'train_loss': 0.5240938250835125, 'val_loss': 0.9273408402999243, 'test_loss': 0.7667102476824885}\n",
      "{'learning_rate': 0.0005, 'num_layers': 3, 'filter_size': 16, 'train_loss': 0.6110817419412808, 'val_loss': 0.817975198229154, 'test_loss': 0.6395047864188319}\n",
      "{'learning_rate': 0.0005, 'num_layers': 3, 'filter_size': 32, 'train_loss': 0.6119682842340225, 'val_loss': 0.8212831715742747, 'test_loss': 0.6448338031768799}\n",
      "{'learning_rate': 0.0005, 'num_layers': 3, 'filter_size': 64, 'train_loss': 0.5329628132092648, 'val_loss': 0.9421137521664301, 'test_loss': 0.7835636644259744}\n",
      "{'learning_rate': 0.0005, 'num_layers': 4, 'filter_size': 16, 'train_loss': 0.5583885934872505, 'val_loss': 0.9090060989061991, 'test_loss': 0.7480027299860249}\n",
      "{'learning_rate': 0.0005, 'num_layers': 4, 'filter_size': 32, 'train_loss': 0.603226804580444, 'val_loss': 0.831058477361997, 'test_loss': 0.6584682399811952}\n",
      "{'learning_rate': 0.0005, 'num_layers': 4, 'filter_size': 64, 'train_loss': 0.5254723551945809, 'val_loss': 0.9455276628335317, 'test_loss': 0.7868770516437033}\n",
      "{'learning_rate': 0.0005, 'num_layers': 5, 'filter_size': 16, 'train_loss': 0.618857510961019, 'val_loss': 0.8307959735393524, 'test_loss': 0.6547666891761448}\n",
      "{'learning_rate': 0.0005, 'num_layers': 5, 'filter_size': 32, 'train_loss': 0.6060978594498757, 'val_loss': 0.8359554807345072, 'test_loss': 0.6637012738248577}\n",
      "{'learning_rate': 0.0005, 'num_layers': 5, 'filter_size': 64, 'train_loss': 0.5191889191285158, 'val_loss': 1.0014171848694484, 'test_loss': 0.839457577985266}\n",
      "{'learning_rate': 0.0001, 'num_layers': 3, 'filter_size': 16, 'train_loss': 0.6560887514780729, 'val_loss': 0.8497828791538874, 'test_loss': 0.6695333913616512}\n",
      "{'learning_rate': 0.0001, 'num_layers': 3, 'filter_size': 32, 'train_loss': 0.6584047445884118, 'val_loss': 0.8448010484377543, 'test_loss': 0.669065983399101}\n",
      "{'learning_rate': 0.0001, 'num_layers': 3, 'filter_size': 64, 'train_loss': 0.6175453995282834, 'val_loss': 0.8247375339269638, 'test_loss': 0.6484334209690923}\n",
      "{'learning_rate': 0.0001, 'num_layers': 4, 'filter_size': 16, 'train_loss': 0.8711091088942993, 'val_loss': 1.0621637552976608, 'test_loss': 0.8796228144479834}\n",
      "{'learning_rate': 0.0001, 'num_layers': 4, 'filter_size': 32, 'train_loss': 0.6144845246886596, 'val_loss': 0.8126083314418793, 'test_loss': 0.6314641548239667}\n",
      "{'learning_rate': 0.0001, 'num_layers': 4, 'filter_size': 64, 'train_loss': 0.6225772496217337, 'val_loss': 0.8258509586254755, 'test_loss': 0.6470299725947173}\n",
      "{'learning_rate': 0.0001, 'num_layers': 5, 'filter_size': 16, 'train_loss': 0.7921702334514031, 'val_loss': 0.9830225308736166, 'test_loss': 0.8004974152730859}\n",
      "{'learning_rate': 0.0001, 'num_layers': 5, 'filter_size': 32, 'train_loss': 0.7895363691525582, 'val_loss': 0.924990251660347, 'test_loss': 0.7903093358744746}\n",
      "{'learning_rate': 0.0001, 'num_layers': 5, 'filter_size': 64, 'train_loss': 0.6578545375512197, 'val_loss': 0.8533027122418085, 'test_loss': 0.6735339514587236}\n"
     ]
    }
   ],
   "source": [
    "import itertools\n",
    "# Define the hyperparameter grid\n",
    "learning_rates = [0.001, 0.0005, 0.0001]\n",
    "num_layers_options = [3, 4, 5]\n",
    "filter_sizes_options = [16, 32, 64]\n",
    "# Results storage\n",
    "tuning_results = []\n",
    "# Define a function to create the model with variable layers and filter sizes\n",
    "def create_model(num_layers, initial_filter_size):\n",
    "    layers = []\n",
    "    in_channels = 13\n",
    "    for i in range(num_layers):\n",
    "        out_channels = initial_filter_size if i == 0 else in_channels // 2\n",
    "        layers.append(nn.Conv2d(in_channels, out_channels, kernel_size=3, padding=1))\n",
    "        layers.append(nn.ReLU())\n",
    "        in_channels = out_channels\n",
    "    # Add the final layer\n",
    "    layers.append(nn.Conv2d(in_channels, 1, kernel_size=1))\n",
    "    return nn.Sequential(*layers)\n",
    "\n",
    "# Train and evaluate models with different hyperparameters\n",
    "for lr, num_layers, filter_size in itertools.product(learning_rates, num_layers_options, filter_sizes_options):\n",
    "    print(f\"\\nTraining with learning rate={lr}, num_layers={num_layers}, filter_size={filter_size}\")\n",
    "    # Create the model\n",
    "    model = create_model(num_layers, filter_size)\n",
    "    model = model.to(device)\n",
    "    # Define loss function and optimizer\n",
    "    criterion = nn.L1Loss()\n",
    "    optimizer = optim.Adam(model.parameters(), lr=lr)\n",
    "    # Train the model\n",
    "    train_losses, val_losses, test_loss = train_and_evaluate_model(\n",
    "        model=model,\n",
    "        train_loader=train_loader,\n",
    "        val_loader=val_loader,\n",
    "        test_loader=test_loader,\n",
    "        criterion=criterion,\n",
    "        optimizer=optimizer,\n",
    "        num_epochs=num_epochs,\n",
    "        device=device,\n",
    "        verbose=False,  # Suppress progress for each epoch\n",
    "    )\n",
    "    # Record the results\n",
    "    tuning_results.append({\n",
    "        \"learning_rate\": lr,\n",
    "        \"num_layers\": num_layers,\n",
    "        \"filter_size\": filter_size,\n",
    "        \"train_loss\": train_losses[-1],\n",
    "        \"val_loss\": val_losses[-1],\n",
    "        \"test_loss\": test_loss,\n",
    "    })\n",
    "# Display the tuning results\n",
    "print(\"\\nHyperparameter Tuning Results:\")\n",
    "for result in tuning_results:\n",
    "    print(result)\n"
   ]
  },
  {
   "cell_type": "code",
   "execution_count": 19,
   "metadata": {},
   "outputs": [
    {
     "data": {
      "text/html": [
       "<div>\n",
       "<style scoped>\n",
       "    .dataframe tbody tr th:only-of-type {\n",
       "        vertical-align: middle;\n",
       "    }\n",
       "\n",
       "    .dataframe tbody tr th {\n",
       "        vertical-align: top;\n",
       "    }\n",
       "\n",
       "    .dataframe thead th {\n",
       "        text-align: right;\n",
       "    }\n",
       "</style>\n",
       "<table border=\"1\" class=\"dataframe\">\n",
       "  <thead>\n",
       "    <tr style=\"text-align: right;\">\n",
       "      <th></th>\n",
       "      <th>learning_rate</th>\n",
       "      <th>num_layers</th>\n",
       "      <th>filter_size</th>\n",
       "      <th>train_loss</th>\n",
       "      <th>val_loss</th>\n",
       "      <th>test_loss</th>\n",
       "    </tr>\n",
       "  </thead>\n",
       "  <tbody>\n",
       "    <tr>\n",
       "      <th>0</th>\n",
       "      <td>0.0010</td>\n",
       "      <td>4</td>\n",
       "      <td>64</td>\n",
       "      <td>0.616152</td>\n",
       "      <td>0.811098</td>\n",
       "      <td>0.628715</td>\n",
       "    </tr>\n",
       "    <tr>\n",
       "      <th>1</th>\n",
       "      <td>0.0001</td>\n",
       "      <td>4</td>\n",
       "      <td>32</td>\n",
       "      <td>0.614485</td>\n",
       "      <td>0.812608</td>\n",
       "      <td>0.631464</td>\n",
       "    </tr>\n",
       "    <tr>\n",
       "      <th>2</th>\n",
       "      <td>0.0005</td>\n",
       "      <td>3</td>\n",
       "      <td>16</td>\n",
       "      <td>0.611082</td>\n",
       "      <td>0.817975</td>\n",
       "      <td>0.639505</td>\n",
       "    </tr>\n",
       "    <tr>\n",
       "      <th>3</th>\n",
       "      <td>0.0005</td>\n",
       "      <td>3</td>\n",
       "      <td>32</td>\n",
       "      <td>0.611968</td>\n",
       "      <td>0.821283</td>\n",
       "      <td>0.644834</td>\n",
       "    </tr>\n",
       "    <tr>\n",
       "      <th>4</th>\n",
       "      <td>0.0001</td>\n",
       "      <td>4</td>\n",
       "      <td>64</td>\n",
       "      <td>0.622577</td>\n",
       "      <td>0.825851</td>\n",
       "      <td>0.647030</td>\n",
       "    </tr>\n",
       "    <tr>\n",
       "      <th>5</th>\n",
       "      <td>0.0001</td>\n",
       "      <td>3</td>\n",
       "      <td>64</td>\n",
       "      <td>0.617545</td>\n",
       "      <td>0.824738</td>\n",
       "      <td>0.648433</td>\n",
       "    </tr>\n",
       "    <tr>\n",
       "      <th>6</th>\n",
       "      <td>0.0010</td>\n",
       "      <td>5</td>\n",
       "      <td>16</td>\n",
       "      <td>0.595409</td>\n",
       "      <td>0.829031</td>\n",
       "      <td>0.653437</td>\n",
       "    </tr>\n",
       "    <tr>\n",
       "      <th>7</th>\n",
       "      <td>0.0005</td>\n",
       "      <td>5</td>\n",
       "      <td>16</td>\n",
       "      <td>0.618858</td>\n",
       "      <td>0.830796</td>\n",
       "      <td>0.654767</td>\n",
       "    </tr>\n",
       "    <tr>\n",
       "      <th>8</th>\n",
       "      <td>0.0005</td>\n",
       "      <td>4</td>\n",
       "      <td>32</td>\n",
       "      <td>0.603227</td>\n",
       "      <td>0.831058</td>\n",
       "      <td>0.658468</td>\n",
       "    </tr>\n",
       "    <tr>\n",
       "      <th>9</th>\n",
       "      <td>0.0010</td>\n",
       "      <td>4</td>\n",
       "      <td>32</td>\n",
       "      <td>0.573038</td>\n",
       "      <td>0.834548</td>\n",
       "      <td>0.660361</td>\n",
       "    </tr>\n",
       "    <tr>\n",
       "      <th>10</th>\n",
       "      <td>0.0005</td>\n",
       "      <td>5</td>\n",
       "      <td>32</td>\n",
       "      <td>0.606098</td>\n",
       "      <td>0.835955</td>\n",
       "      <td>0.663701</td>\n",
       "    </tr>\n",
       "    <tr>\n",
       "      <th>11</th>\n",
       "      <td>0.0010</td>\n",
       "      <td>4</td>\n",
       "      <td>16</td>\n",
       "      <td>0.608642</td>\n",
       "      <td>0.837903</td>\n",
       "      <td>0.666953</td>\n",
       "    </tr>\n",
       "    <tr>\n",
       "      <th>12</th>\n",
       "      <td>0.0001</td>\n",
       "      <td>3</td>\n",
       "      <td>32</td>\n",
       "      <td>0.658405</td>\n",
       "      <td>0.844801</td>\n",
       "      <td>0.669066</td>\n",
       "    </tr>\n",
       "    <tr>\n",
       "      <th>13</th>\n",
       "      <td>0.0001</td>\n",
       "      <td>3</td>\n",
       "      <td>16</td>\n",
       "      <td>0.656089</td>\n",
       "      <td>0.849783</td>\n",
       "      <td>0.669533</td>\n",
       "    </tr>\n",
       "    <tr>\n",
       "      <th>14</th>\n",
       "      <td>0.0001</td>\n",
       "      <td>5</td>\n",
       "      <td>64</td>\n",
       "      <td>0.657855</td>\n",
       "      <td>0.853303</td>\n",
       "      <td>0.673534</td>\n",
       "    </tr>\n",
       "    <tr>\n",
       "      <th>15</th>\n",
       "      <td>0.0010</td>\n",
       "      <td>3</td>\n",
       "      <td>16</td>\n",
       "      <td>0.576946</td>\n",
       "      <td>0.877530</td>\n",
       "      <td>0.709269</td>\n",
       "    </tr>\n",
       "    <tr>\n",
       "      <th>16</th>\n",
       "      <td>0.0005</td>\n",
       "      <td>4</td>\n",
       "      <td>16</td>\n",
       "      <td>0.558389</td>\n",
       "      <td>0.909006</td>\n",
       "      <td>0.748003</td>\n",
       "    </tr>\n",
       "    <tr>\n",
       "      <th>17</th>\n",
       "      <td>0.0010</td>\n",
       "      <td>3</td>\n",
       "      <td>32</td>\n",
       "      <td>0.529176</td>\n",
       "      <td>0.910939</td>\n",
       "      <td>0.750057</td>\n",
       "    </tr>\n",
       "    <tr>\n",
       "      <th>18</th>\n",
       "      <td>0.0010</td>\n",
       "      <td>3</td>\n",
       "      <td>64</td>\n",
       "      <td>0.575373</td>\n",
       "      <td>0.920714</td>\n",
       "      <td>0.761902</td>\n",
       "    </tr>\n",
       "    <tr>\n",
       "      <th>19</th>\n",
       "      <td>0.0010</td>\n",
       "      <td>5</td>\n",
       "      <td>64</td>\n",
       "      <td>0.524094</td>\n",
       "      <td>0.927341</td>\n",
       "      <td>0.766710</td>\n",
       "    </tr>\n",
       "    <tr>\n",
       "      <th>20</th>\n",
       "      <td>0.0010</td>\n",
       "      <td>5</td>\n",
       "      <td>32</td>\n",
       "      <td>0.536706</td>\n",
       "      <td>0.938933</td>\n",
       "      <td>0.773461</td>\n",
       "    </tr>\n",
       "    <tr>\n",
       "      <th>21</th>\n",
       "      <td>0.0005</td>\n",
       "      <td>3</td>\n",
       "      <td>64</td>\n",
       "      <td>0.532963</td>\n",
       "      <td>0.942114</td>\n",
       "      <td>0.783564</td>\n",
       "    </tr>\n",
       "    <tr>\n",
       "      <th>22</th>\n",
       "      <td>0.0005</td>\n",
       "      <td>4</td>\n",
       "      <td>64</td>\n",
       "      <td>0.525472</td>\n",
       "      <td>0.945528</td>\n",
       "      <td>0.786877</td>\n",
       "    </tr>\n",
       "    <tr>\n",
       "      <th>23</th>\n",
       "      <td>0.0001</td>\n",
       "      <td>5</td>\n",
       "      <td>32</td>\n",
       "      <td>0.789536</td>\n",
       "      <td>0.924990</td>\n",
       "      <td>0.790309</td>\n",
       "    </tr>\n",
       "    <tr>\n",
       "      <th>24</th>\n",
       "      <td>0.0001</td>\n",
       "      <td>5</td>\n",
       "      <td>16</td>\n",
       "      <td>0.792170</td>\n",
       "      <td>0.983023</td>\n",
       "      <td>0.800497</td>\n",
       "    </tr>\n",
       "    <tr>\n",
       "      <th>25</th>\n",
       "      <td>0.0005</td>\n",
       "      <td>5</td>\n",
       "      <td>64</td>\n",
       "      <td>0.519189</td>\n",
       "      <td>1.001417</td>\n",
       "      <td>0.839458</td>\n",
       "    </tr>\n",
       "    <tr>\n",
       "      <th>26</th>\n",
       "      <td>0.0001</td>\n",
       "      <td>4</td>\n",
       "      <td>16</td>\n",
       "      <td>0.871109</td>\n",
       "      <td>1.062164</td>\n",
       "      <td>0.879623</td>\n",
       "    </tr>\n",
       "  </tbody>\n",
       "</table>\n",
       "</div>"
      ],
      "text/plain": [
       "    learning_rate  num_layers  filter_size  train_loss  val_loss  test_loss\n",
       "0          0.0010           4           64    0.616152  0.811098   0.628715\n",
       "1          0.0001           4           32    0.614485  0.812608   0.631464\n",
       "2          0.0005           3           16    0.611082  0.817975   0.639505\n",
       "3          0.0005           3           32    0.611968  0.821283   0.644834\n",
       "4          0.0001           4           64    0.622577  0.825851   0.647030\n",
       "5          0.0001           3           64    0.617545  0.824738   0.648433\n",
       "6          0.0010           5           16    0.595409  0.829031   0.653437\n",
       "7          0.0005           5           16    0.618858  0.830796   0.654767\n",
       "8          0.0005           4           32    0.603227  0.831058   0.658468\n",
       "9          0.0010           4           32    0.573038  0.834548   0.660361\n",
       "10         0.0005           5           32    0.606098  0.835955   0.663701\n",
       "11         0.0010           4           16    0.608642  0.837903   0.666953\n",
       "12         0.0001           3           32    0.658405  0.844801   0.669066\n",
       "13         0.0001           3           16    0.656089  0.849783   0.669533\n",
       "14         0.0001           5           64    0.657855  0.853303   0.673534\n",
       "15         0.0010           3           16    0.576946  0.877530   0.709269\n",
       "16         0.0005           4           16    0.558389  0.909006   0.748003\n",
       "17         0.0010           3           32    0.529176  0.910939   0.750057\n",
       "18         0.0010           3           64    0.575373  0.920714   0.761902\n",
       "19         0.0010           5           64    0.524094  0.927341   0.766710\n",
       "20         0.0010           5           32    0.536706  0.938933   0.773461\n",
       "21         0.0005           3           64    0.532963  0.942114   0.783564\n",
       "22         0.0005           4           64    0.525472  0.945528   0.786877\n",
       "23         0.0001           5           32    0.789536  0.924990   0.790309\n",
       "24         0.0001           5           16    0.792170  0.983023   0.800497\n",
       "25         0.0005           5           64    0.519189  1.001417   0.839458\n",
       "26         0.0001           4           16    0.871109  1.062164   0.879623"
      ]
     },
     "execution_count": 19,
     "metadata": {},
     "output_type": "execute_result"
    }
   ],
   "source": [
    "tuning_results_df = pd.DataFrame(tuning_results)\n",
    "tuning_results_df.sort_values(by='test_loss', ascending=True).reset_index(drop=True)"
   ]
  },
  {
   "cell_type": "code",
   "execution_count": null,
   "metadata": {},
   "outputs": [],
   "source": [
    "# we see above that we'll proceed with a learning rate of 0.0005, 4 layers, and a filter size of 64\n",
    "\n",
    "# edit: i'm realizing that after ~2 hours of hyperparameter tuning and moving onto  PI-loss\n",
    "#  that the 'best' model returned here is still worse than our simplest CNN. \n",
    "# The PI-loss is implemented on the model seen in the table above rather than the simpler one\n",
    "# that performs best. But further in this notebook, we go back to tuning the simpler, better model"
   ]
  },
  {
   "cell_type": "markdown",
   "metadata": {},
   "source": [
    "#### Incorporation of Physics-Informed Loss (4%): Implements physics-informed loss where appropriate, with a clear explanation of its relevance to the geoscientific problem."
   ]
  },
  {
   "cell_type": "code",
   "execution_count": 47,
   "metadata": {},
   "outputs": [],
   "source": [
    "class PhysicsInformedLoss(torch.nn.Module):\n",
    "    def __init__(self, lambda_gradient=0.1):\n",
    "        super(PhysicsInformedLoss, self).__init__()\n",
    "        self.lambda_gradient = lambda_gradient\n",
    "\n",
    "    def forward(self, predicted, target, features):\n",
    "        # Add channel dimension to predicted since model output doesn't have it\n",
    "        predicted = predicted.unsqueeze(1)\n",
    "        target = target.unsqueeze(1)\n",
    "        \n",
    "        # Traditional MAE loss\n",
    "        mae_loss = F.l1_loss(predicted, target)\n",
    "        \n",
    "        # Extract TPI and ensure it has matching dimensions\n",
    "        tpi = features[:, 3:4, :, :]  # Keep channel dimension\n",
    "        \n",
    "        # Calculate gradients with padding to maintain size\n",
    "        grad_predicted = F.pad(torch.abs(predicted[:, :, 1:, :] - predicted[:, :, :-1, :]), (0, 0, 1, 0))\n",
    "        grad_target = F.pad(torch.abs(target[:, :, 1:, :] - target[:, :, :-1, :]), (0, 0, 1, 0))\n",
    "        grad_tpi = F.pad(torch.abs(tpi[:, :, 1:, :] - tpi[:, :, :-1, :]), (0, 0, 1, 0))\n",
    "        \n",
    "        # Calculate terrain gradient loss\n",
    "        terrain_gradient_loss = torch.mean(torch.abs(grad_predicted - grad_target) * grad_tpi)\n",
    "        \n",
    "        return mae_loss + self.lambda_gradient * terrain_gradient_loss"
   ]
  },
  {
   "cell_type": "markdown",
   "metadata": {},
   "source": [
    "Physics-informed loss explanation (ChatGPT's, I need to research this on my own and understand it better and what lambda to use):\n",
    "\n",
    "Explanation of Physics-Informed Loss:\n",
    "\n",
    "\n",
    "Traditional MAE Loss:\n",
    "\n",
    "This term captures the basic prediction accuracy, comparing the predicted snow depth with the true snow depth at each pixel.\n",
    "\n",
    "\n",
    "Terrain Gradient Loss:\n",
    "\n",
    "We compute the gradient of both the predicted and actual snow depth with respect to neighboring pixels (in both the x and y directions).\n",
    "The terrain gradient loss ensures that the model doesn’t produce unrealistic sharp transitions in snow depth where there should be smooth changes, especially considering the relationship between snow depth and elevation. This helps to model the spatial continuity of snow depth, which should naturally change with elevation and other terrain features.\n",
    "\n",
    "\n",
    "Weighting Factor 𝜆\n",
    "\n",
    "The weighting factor λ controls the importance of the gradient loss relative to the traditional MAE loss. This allows you to balance between fitting the data and adhering to the physical constraints.\n",
    "\n",
    "\n",
    "Relevance to the Geoscientific Problem:\n",
    "\n",
    "Snow Accumulation and Melting: Snow depth predictions should adhere to physical laws such as the conservation of mass. Sharp, discontinuous changes in snow depth are not physically realistic, especially when they occur across similar elevations.\n",
    "\n",
    "\n",
    "Terrain Influence: \n",
    "Elevation plays a key role in snow accumulation and melting. The higher the elevation, the greater the snow accumulation. The physics-informed loss ensures that the snow depth predictions are consistent with the terrain features, making the model more physically grounded.\n",
    "\n",
    "\n",
    "Improved Generalization: \n",
    "By adding domain knowledge into the loss function, the model is guided to produce more physically realistic predictions. This can help prevent overfitting and lead to better generalization in real-world applications, where snow depth predictions are needed for tasks like avalanche forecasting, hydrological modeling, or climate studies."
   ]
  },
  {
   "cell_type": "code",
   "execution_count": 48,
   "metadata": {},
   "outputs": [],
   "source": [
    "class SnowDepthCNN(nn.Module):\n",
    "    def __init__(self):\n",
    "        super(SnowDepthCNN, self).__init__()\n",
    "        # Define the 4 layers with filter size 64\n",
    "        self.conv1 = nn.Conv2d(in_channels=13, out_channels=64, kernel_size=3, padding=1)\n",
    "        self.conv2 = nn.Conv2d(in_channels=64, out_channels=64, kernel_size=3, padding=1)\n",
    "        self.conv3 = nn.Conv2d(in_channels=64, out_channels=64, kernel_size=3, padding=1)\n",
    "        self.conv4 = nn.Conv2d(in_channels=64, out_channels=64, kernel_size=3, padding=1)\n",
    "        \n",
    "        # Fully connected layers adjusted for 64 filters\n",
    "        self.fc1 = nn.Linear(64 * 8 * 8, 512)\n",
    "        self.fc2 = nn.Linear(512, 128 * 128)\n",
    "\n",
    "    def forward(self, x):\n",
    "        x = F.relu(self.conv1(x))\n",
    "        x = F.max_pool2d(x, 2)\n",
    "        x = F.relu(self.conv2(x))\n",
    "        x = F.max_pool2d(x, 2)\n",
    "        x = F.relu(self.conv3(x))\n",
    "        x = F.max_pool2d(x, 2)\n",
    "        x = F.relu(self.conv4(x))\n",
    "        x = F.max_pool2d(x, 2)\n",
    "        \n",
    "        x = x.view(x.size(0), -1)\n",
    "        x = F.relu(self.fc1(x))\n",
    "        x = self.fc2(x)\n",
    "        x = x.view(-1, 128, 128)  # Reshape to match target dimensions\n",
    "        \n",
    "        return x"
   ]
  },
  {
   "cell_type": "code",
   "execution_count": 49,
   "metadata": {},
   "outputs": [],
   "source": [
    "import torch\n",
    "import json\n",
    "\n",
    "def train_and_evaluate_model(model, train_loader, val_loader, test_loader, criterion, optimizer, num_epochs, device, verbose=True, save_dir='weights'):\n",
    "    \"\"\"\n",
    "    Train, validate, and test the model. Save model weights, logs, and metrics to JSON.\n",
    "\n",
    "    Args:\n",
    "        model (nn.Module): The PyTorch model to train and evaluate.\n",
    "        train_loader (DataLoader): DataLoader for the training dataset.\n",
    "        val_loader (DataLoader): DataLoader for the validation dataset.\n",
    "        test_loader (DataLoader): DataLoader for the test dataset.\n",
    "        criterion (Loss): The loss function.\n",
    "        optimizer (Optimizer): The optimizer for model training.\n",
    "        num_epochs (int): Number of training epochs.\n",
    "        device (torch.device): Device to use for computation.\n",
    "        verbose (bool): Whether to print detailed progress for each epoch.\n",
    "        save_dir (str): Directory to save model weights, logs, and metrics.\n",
    "\n",
    "    Returns:\n",
    "        tuple: A tuple containing training losses, validation losses, and final test loss.\n",
    "    \"\"\"\n",
    "    train_losses = []\n",
    "    val_losses = []\n",
    "    performance_metrics = {}\n",
    "\n",
    "    # Make sure the save directory exists\n",
    "    os.makedirs(save_dir, exist_ok=True)\n",
    "\n",
    "    for epoch in range(num_epochs):\n",
    "        # Training phase\n",
    "        model.train()\n",
    "        train_loss = 0\n",
    "        for features, targets in train_loader:\n",
    "            features, targets = features.to(device), targets.to(device)\n",
    "            optimizer.zero_grad()\n",
    "            outputs = model(features).squeeze(1)\n",
    "            loss = criterion(outputs, targets, features)  # Pass features as well\n",
    "            loss.backward()\n",
    "            optimizer.step()\n",
    "            train_loss += loss.item()\n",
    "        \n",
    "        # Validation phase\n",
    "        model.eval()\n",
    "        val_loss = 0\n",
    "        with torch.no_grad():\n",
    "            for features, targets in val_loader:\n",
    "                features, targets = features.to(device), targets.to(device)\n",
    "                outputs = model(features)\n",
    "                val_loss += criterion(outputs, targets, features).item()  # Pass features as well\n",
    "        \n",
    "        # Compute average losses\n",
    "        avg_train_loss = train_loss / len(train_loader)\n",
    "        avg_val_loss = val_loss / len(val_loader)\n",
    "        train_losses.append(avg_train_loss)\n",
    "        val_losses.append(avg_val_loss)\n",
    "\n",
    "        if verbose:\n",
    "            print(f'Epoch [{epoch+1}/{num_epochs}]')\n",
    "            print(f'Training Loss: {avg_train_loss:.4f}')\n",
    "            print(f'Validation Loss: {avg_val_loss:.4f}')\n",
    "        \n",
    "        # Save logs after each epoch (optional)\n",
    "        performance_metrics[f\"epoch_{epoch+1}\"] = {\n",
    "            \"train_loss\": avg_train_loss,\n",
    "            \"val_loss\": avg_val_loss\n",
    "        }\n",
    "\n",
    "    # Testing phase\n",
    "    model.eval()\n",
    "    test_loss = 0\n",
    "    with torch.no_grad():\n",
    "        for features, targets in test_loader:\n",
    "            features, targets = features.to(device), targets.to(device)\n",
    "            outputs = model(features)\n",
    "            test_loss += criterion(outputs, targets, features).item()  # Pass features as well\n",
    "\n",
    "    final_test_loss = test_loss / len(test_loader)\n",
    "    performance_metrics[\"final_test_loss\"] = final_test_loss\n",
    "\n",
    "    if verbose:\n",
    "        print(f'\\nFinal Test Loss: {final_test_loss:.4f}')\n",
    "    \n",
    "    # Save model weights to file\n",
    "    model_weight_path = os.path.join(save_dir, 'jackk_pinn1.pth')\n",
    "    torch.save(model.state_dict(), model_weight_path)\n",
    "\n",
    "    # Save training logs and performance metrics to JSON file\n",
    "    performance_metrics_path = os.path.join(save_dir, 'performance_metrics.json')\n",
    "    with open(performance_metrics_path, 'w') as json_file:\n",
    "        json.dump(performance_metrics, json_file, indent=4)\n",
    "\n",
    "    return train_losses, val_losses, final_test_loss"
   ]
  },
  {
   "cell_type": "code",
   "execution_count": 50,
   "metadata": {},
   "outputs": [],
   "source": [
    "#files_subset = files[:]\n",
    "#random.shuffle(files_subset)\n",
    "#train_size = int(0.7 * len(files_subset))  # 70% for training\n",
    "#test_size = int(0.2 * len(files_subset))   # 20% for testing\n",
    "#val_size = len(files_subset) - train_size - test_size  # Remaining 10% for validation\n",
    "#train_files = files_subset[:train_size]\n",
    "#test_files = files_subset[train_size:train_size + test_size]\n",
    "#val_files = files_subset[train_size + test_size:]\n",
    "#train_dataset = create_dataset(train_files)\n",
    "#test_dataset = create_dataset(test_files)\n",
    "#val_dataset = create_dataset(val_files)\n",
    "#train_loader = DataLoader(train_dataset, batch_size=32, shuffle=True)\n",
    "#test_loader = DataLoader(test_dataset, batch_size=32, shuffle=False)\n",
    "#val_loader = DataLoader(val_dataset, batch_size=32, shuffle=False)"
   ]
  },
  {
   "cell_type": "code",
   "execution_count": 51,
   "metadata": {},
   "outputs": [
    {
     "name": "stdout",
     "output_type": "stream",
     "text": [
      "Epoch [1/10]\n",
      "Training Loss: 0.6246\n",
      "Validation Loss: 0.8120\n",
      "Epoch [2/10]\n",
      "Training Loss: 0.6141\n",
      "Validation Loss: 0.8114\n",
      "Epoch [3/10]\n",
      "Training Loss: 0.6157\n",
      "Validation Loss: 0.8114\n",
      "Epoch [4/10]\n",
      "Training Loss: 0.6154\n",
      "Validation Loss: 0.8114\n",
      "Epoch [5/10]\n",
      "Training Loss: 0.6167\n",
      "Validation Loss: 0.8114\n",
      "Epoch [6/10]\n",
      "Training Loss: 0.6141\n",
      "Validation Loss: 0.8114\n",
      "Epoch [7/10]\n",
      "Training Loss: 0.6203\n",
      "Validation Loss: 0.8114\n",
      "Epoch [8/10]\n",
      "Training Loss: 0.6156\n",
      "Validation Loss: 0.8115\n",
      "Epoch [9/10]\n",
      "Training Loss: 0.6144\n",
      "Validation Loss: 0.8114\n",
      "Epoch [10/10]\n",
      "Training Loss: 0.6146\n",
      "Validation Loss: 0.8114\n",
      "\n",
      "Final Test Loss: 0.6287\n"
     ]
    }
   ],
   "source": [
    "# now train the physics-informed loss on the entire dataset\n",
    "model = SnowDepthCNN()  # Your SnowDepthCNN model\n",
    "loss_fn = PhysicsInformedLoss(lambda_gradient=0.1)  # Physics-Informed Loss function\n",
    "optimizer = optim.Adam(model.parameters(), lr=0.001)  # Adam optimizer\n",
    "# Move the model to the appropriate device (GPU or CPU)\n",
    "device = torch.device(\"cuda\" if torch.cuda.is_available() else \"cpu\")\n",
    "model.to(device)\n",
    "# Train and evaluate the model using your custom function\n",
    "train_losses, val_losses, test_loss = train_and_evaluate_model(\n",
    "    model, train_loader, val_loader, test_loader, \n",
    "    criterion=loss_fn, optimizer=optimizer, \n",
    "    num_epochs=10, device=device, verbose=True\n",
    ")"
   ]
  },
  {
   "cell_type": "code",
   "execution_count": null,
   "metadata": {},
   "outputs": [],
   "source": [
    "# the physics-informed loss didn't perform any better than regular MAE loss, so we'll stick\n",
    "# with MAE loss to keep it simpler"
   ]
  },
  {
   "cell_type": "markdown",
   "metadata": {},
   "source": [
    "#### Innovation and Complexity (8%): Includes innovative approaches like hybrid architectures, custom loss functions, or data augmentation specific to geoscience applications."
   ]
  },
  {
   "cell_type": "code",
   "execution_count": 25,
   "metadata": {},
   "outputs": [],
   "source": [
    "# as seen in the notebook notebooks/application/jack_cnn_snotel.ipynb , we made another AI-ready dataset, this time using SNOTEL data\n",
    "# SNOTEL is a system of snow depth measurements stations that are highly accurate, but very spatially sparse\n",
    "# because of this, we only have 101 files which is very very small\n",
    "# so we likely won't proceed with this approach, but we want to try and encode these SNOTEL point data into our CNNs\n",
    "# where the point snow depth value from SNOTEL is represented as a separate feature in one of the 50x50m cells in the rasterized dataset\n",
    "# so we'll try and calculate loss on these points"
   ]
  },
  {
   "cell_type": "code",
   "execution_count": 26,
   "metadata": {},
   "outputs": [],
   "source": [
    "snotel_files = glob(\"/mnt/c/Users/JackE/uw/courses/aut24/ml_geo/jack_subsets_snotel/ncs/*\")"
   ]
  },
  {
   "cell_type": "code",
   "execution_count": 27,
   "metadata": {},
   "outputs": [],
   "source": [
    "ds = xr.open_dataset(snotel_files[0])"
   ]
  },
  {
   "cell_type": "code",
   "execution_count": null,
   "metadata": {},
   "outputs": [
    {
     "data": {
      "text/html": [
       "<div><svg style=\"position: absolute; width: 0; height: 0; overflow: hidden\">\n",
       "<defs>\n",
       "<symbol id=\"icon-database\" viewBox=\"0 0 32 32\">\n",
       "<path d=\"M16 0c-8.837 0-16 2.239-16 5v4c0 2.761 7.163 5 16 5s16-2.239 16-5v-4c0-2.761-7.163-5-16-5z\"></path>\n",
       "<path d=\"M16 17c-8.837 0-16-2.239-16-5v6c0 2.761 7.163 5 16 5s16-2.239 16-5v-6c0 2.761-7.163 5-16 5z\"></path>\n",
       "<path d=\"M16 26c-8.837 0-16-2.239-16-5v6c0 2.761 7.163 5 16 5s16-2.239 16-5v-6c0 2.761-7.163 5-16 5z\"></path>\n",
       "</symbol>\n",
       "<symbol id=\"icon-file-text2\" viewBox=\"0 0 32 32\">\n",
       "<path d=\"M28.681 7.159c-0.694-0.947-1.662-2.053-2.724-3.116s-2.169-2.030-3.116-2.724c-1.612-1.182-2.393-1.319-2.841-1.319h-15.5c-1.378 0-2.5 1.121-2.5 2.5v27c0 1.378 1.122 2.5 2.5 2.5h23c1.378 0 2.5-1.122 2.5-2.5v-19.5c0-0.448-0.137-1.23-1.319-2.841zM24.543 5.457c0.959 0.959 1.712 1.825 2.268 2.543h-4.811v-4.811c0.718 0.556 1.584 1.309 2.543 2.268zM28 29.5c0 0.271-0.229 0.5-0.5 0.5h-23c-0.271 0-0.5-0.229-0.5-0.5v-27c0-0.271 0.229-0.5 0.5-0.5 0 0 15.499-0 15.5 0v7c0 0.552 0.448 1 1 1h7v19.5z\"></path>\n",
       "<path d=\"M23 26h-14c-0.552 0-1-0.448-1-1s0.448-1 1-1h14c0.552 0 1 0.448 1 1s-0.448 1-1 1z\"></path>\n",
       "<path d=\"M23 22h-14c-0.552 0-1-0.448-1-1s0.448-1 1-1h14c0.552 0 1 0.448 1 1s-0.448 1-1 1z\"></path>\n",
       "<path d=\"M23 18h-14c-0.552 0-1-0.448-1-1s0.448-1 1-1h14c0.552 0 1 0.448 1 1s-0.448 1-1 1z\"></path>\n",
       "</symbol>\n",
       "</defs>\n",
       "</svg>\n",
       "<style>/* CSS stylesheet for displaying xarray objects in jupyterlab.\n",
       " *\n",
       " */\n",
       "\n",
       ":root {\n",
       "  --xr-font-color0: var(--jp-content-font-color0, rgba(0, 0, 0, 1));\n",
       "  --xr-font-color2: var(--jp-content-font-color2, rgba(0, 0, 0, 0.54));\n",
       "  --xr-font-color3: var(--jp-content-font-color3, rgba(0, 0, 0, 0.38));\n",
       "  --xr-border-color: var(--jp-border-color2, #e0e0e0);\n",
       "  --xr-disabled-color: var(--jp-layout-color3, #bdbdbd);\n",
       "  --xr-background-color: var(--jp-layout-color0, white);\n",
       "  --xr-background-color-row-even: var(--jp-layout-color1, white);\n",
       "  --xr-background-color-row-odd: var(--jp-layout-color2, #eeeeee);\n",
       "}\n",
       "\n",
       "html[theme=dark],\n",
       "html[data-theme=dark],\n",
       "body[data-theme=dark],\n",
       "body.vscode-dark {\n",
       "  --xr-font-color0: rgba(255, 255, 255, 1);\n",
       "  --xr-font-color2: rgba(255, 255, 255, 0.54);\n",
       "  --xr-font-color3: rgba(255, 255, 255, 0.38);\n",
       "  --xr-border-color: #1F1F1F;\n",
       "  --xr-disabled-color: #515151;\n",
       "  --xr-background-color: #111111;\n",
       "  --xr-background-color-row-even: #111111;\n",
       "  --xr-background-color-row-odd: #313131;\n",
       "}\n",
       "\n",
       ".xr-wrap {\n",
       "  display: block !important;\n",
       "  min-width: 300px;\n",
       "  max-width: 700px;\n",
       "}\n",
       "\n",
       ".xr-text-repr-fallback {\n",
       "  /* fallback to plain text repr when CSS is not injected (untrusted notebook) */\n",
       "  display: none;\n",
       "}\n",
       "\n",
       ".xr-header {\n",
       "  padding-top: 6px;\n",
       "  padding-bottom: 6px;\n",
       "  margin-bottom: 4px;\n",
       "  border-bottom: solid 1px var(--xr-border-color);\n",
       "}\n",
       "\n",
       ".xr-header > div,\n",
       ".xr-header > ul {\n",
       "  display: inline;\n",
       "  margin-top: 0;\n",
       "  margin-bottom: 0;\n",
       "}\n",
       "\n",
       ".xr-obj-type,\n",
       ".xr-array-name {\n",
       "  margin-left: 2px;\n",
       "  margin-right: 10px;\n",
       "}\n",
       "\n",
       ".xr-obj-type {\n",
       "  color: var(--xr-font-color2);\n",
       "}\n",
       "\n",
       ".xr-sections {\n",
       "  padding-left: 0 !important;\n",
       "  display: grid;\n",
       "  grid-template-columns: 150px auto auto 1fr 0 20px 0 20px;\n",
       "}\n",
       "\n",
       ".xr-section-item {\n",
       "  display: contents;\n",
       "}\n",
       "\n",
       ".xr-section-item input {\n",
       "  display: inline-block;\n",
       "  opacity: 0;\n",
       "}\n",
       "\n",
       ".xr-section-item input + label {\n",
       "  color: var(--xr-disabled-color);\n",
       "}\n",
       "\n",
       ".xr-section-item input:enabled + label {\n",
       "  cursor: pointer;\n",
       "  color: var(--xr-font-color2);\n",
       "}\n",
       "\n",
       ".xr-section-item input:focus + label {\n",
       "  border: 2px solid var(--xr-font-color0);\n",
       "}\n",
       "\n",
       ".xr-section-item input:enabled + label:hover {\n",
       "  color: var(--xr-font-color0);\n",
       "}\n",
       "\n",
       ".xr-section-summary {\n",
       "  grid-column: 1;\n",
       "  color: var(--xr-font-color2);\n",
       "  font-weight: 500;\n",
       "}\n",
       "\n",
       ".xr-section-summary > span {\n",
       "  display: inline-block;\n",
       "  padding-left: 0.5em;\n",
       "}\n",
       "\n",
       ".xr-section-summary-in:disabled + label {\n",
       "  color: var(--xr-font-color2);\n",
       "}\n",
       "\n",
       ".xr-section-summary-in + label:before {\n",
       "  display: inline-block;\n",
       "  content: '►';\n",
       "  font-size: 11px;\n",
       "  width: 15px;\n",
       "  text-align: center;\n",
       "}\n",
       "\n",
       ".xr-section-summary-in:disabled + label:before {\n",
       "  color: var(--xr-disabled-color);\n",
       "}\n",
       "\n",
       ".xr-section-summary-in:checked + label:before {\n",
       "  content: '▼';\n",
       "}\n",
       "\n",
       ".xr-section-summary-in:checked + label > span {\n",
       "  display: none;\n",
       "}\n",
       "\n",
       ".xr-section-summary,\n",
       ".xr-section-inline-details {\n",
       "  padding-top: 4px;\n",
       "  padding-bottom: 4px;\n",
       "}\n",
       "\n",
       ".xr-section-inline-details {\n",
       "  grid-column: 2 / -1;\n",
       "}\n",
       "\n",
       ".xr-section-details {\n",
       "  display: none;\n",
       "  grid-column: 1 / -1;\n",
       "  margin-bottom: 5px;\n",
       "}\n",
       "\n",
       ".xr-section-summary-in:checked ~ .xr-section-details {\n",
       "  display: contents;\n",
       "}\n",
       "\n",
       ".xr-array-wrap {\n",
       "  grid-column: 1 / -1;\n",
       "  display: grid;\n",
       "  grid-template-columns: 20px auto;\n",
       "}\n",
       "\n",
       ".xr-array-wrap > label {\n",
       "  grid-column: 1;\n",
       "  vertical-align: top;\n",
       "}\n",
       "\n",
       ".xr-preview {\n",
       "  color: var(--xr-font-color3);\n",
       "}\n",
       "\n",
       ".xr-array-preview,\n",
       ".xr-array-data {\n",
       "  padding: 0 5px !important;\n",
       "  grid-column: 2;\n",
       "}\n",
       "\n",
       ".xr-array-data,\n",
       ".xr-array-in:checked ~ .xr-array-preview {\n",
       "  display: none;\n",
       "}\n",
       "\n",
       ".xr-array-in:checked ~ .xr-array-data,\n",
       ".xr-array-preview {\n",
       "  display: inline-block;\n",
       "}\n",
       "\n",
       ".xr-dim-list {\n",
       "  display: inline-block !important;\n",
       "  list-style: none;\n",
       "  padding: 0 !important;\n",
       "  margin: 0;\n",
       "}\n",
       "\n",
       ".xr-dim-list li {\n",
       "  display: inline-block;\n",
       "  padding: 0;\n",
       "  margin: 0;\n",
       "}\n",
       "\n",
       ".xr-dim-list:before {\n",
       "  content: '(';\n",
       "}\n",
       "\n",
       ".xr-dim-list:after {\n",
       "  content: ')';\n",
       "}\n",
       "\n",
       ".xr-dim-list li:not(:last-child):after {\n",
       "  content: ',';\n",
       "  padding-right: 5px;\n",
       "}\n",
       "\n",
       ".xr-has-index {\n",
       "  font-weight: bold;\n",
       "}\n",
       "\n",
       ".xr-var-list,\n",
       ".xr-var-item {\n",
       "  display: contents;\n",
       "}\n",
       "\n",
       ".xr-var-item > div,\n",
       ".xr-var-item label,\n",
       ".xr-var-item > .xr-var-name span {\n",
       "  background-color: var(--xr-background-color-row-even);\n",
       "  margin-bottom: 0;\n",
       "}\n",
       "\n",
       ".xr-var-item > .xr-var-name:hover span {\n",
       "  padding-right: 5px;\n",
       "}\n",
       "\n",
       ".xr-var-list > li:nth-child(odd) > div,\n",
       ".xr-var-list > li:nth-child(odd) > label,\n",
       ".xr-var-list > li:nth-child(odd) > .xr-var-name span {\n",
       "  background-color: var(--xr-background-color-row-odd);\n",
       "}\n",
       "\n",
       ".xr-var-name {\n",
       "  grid-column: 1;\n",
       "}\n",
       "\n",
       ".xr-var-dims {\n",
       "  grid-column: 2;\n",
       "}\n",
       "\n",
       ".xr-var-dtype {\n",
       "  grid-column: 3;\n",
       "  text-align: right;\n",
       "  color: var(--xr-font-color2);\n",
       "}\n",
       "\n",
       ".xr-var-preview {\n",
       "  grid-column: 4;\n",
       "}\n",
       "\n",
       ".xr-index-preview {\n",
       "  grid-column: 2 / 5;\n",
       "  color: var(--xr-font-color2);\n",
       "}\n",
       "\n",
       ".xr-var-name,\n",
       ".xr-var-dims,\n",
       ".xr-var-dtype,\n",
       ".xr-preview,\n",
       ".xr-attrs dt {\n",
       "  white-space: nowrap;\n",
       "  overflow: hidden;\n",
       "  text-overflow: ellipsis;\n",
       "  padding-right: 10px;\n",
       "}\n",
       "\n",
       ".xr-var-name:hover,\n",
       ".xr-var-dims:hover,\n",
       ".xr-var-dtype:hover,\n",
       ".xr-attrs dt:hover {\n",
       "  overflow: visible;\n",
       "  width: auto;\n",
       "  z-index: 1;\n",
       "}\n",
       "\n",
       ".xr-var-attrs,\n",
       ".xr-var-data,\n",
       ".xr-index-data {\n",
       "  display: none;\n",
       "  background-color: var(--xr-background-color) !important;\n",
       "  padding-bottom: 5px !important;\n",
       "}\n",
       "\n",
       ".xr-var-attrs-in:checked ~ .xr-var-attrs,\n",
       ".xr-var-data-in:checked ~ .xr-var-data,\n",
       ".xr-index-data-in:checked ~ .xr-index-data {\n",
       "  display: block;\n",
       "}\n",
       "\n",
       ".xr-var-data > table {\n",
       "  float: right;\n",
       "}\n",
       "\n",
       ".xr-var-name span,\n",
       ".xr-var-data,\n",
       ".xr-index-name div,\n",
       ".xr-index-data,\n",
       ".xr-attrs {\n",
       "  padding-left: 25px !important;\n",
       "}\n",
       "\n",
       ".xr-attrs,\n",
       ".xr-var-attrs,\n",
       ".xr-var-data,\n",
       ".xr-index-data {\n",
       "  grid-column: 1 / -1;\n",
       "}\n",
       "\n",
       "dl.xr-attrs {\n",
       "  padding: 0;\n",
       "  margin: 0;\n",
       "  display: grid;\n",
       "  grid-template-columns: 125px auto;\n",
       "}\n",
       "\n",
       ".xr-attrs dt,\n",
       ".xr-attrs dd {\n",
       "  padding: 0;\n",
       "  margin: 0;\n",
       "  float: left;\n",
       "  padding-right: 10px;\n",
       "  width: auto;\n",
       "}\n",
       "\n",
       ".xr-attrs dt {\n",
       "  font-weight: normal;\n",
       "  grid-column: 1;\n",
       "}\n",
       "\n",
       ".xr-attrs dt:hover span {\n",
       "  display: inline-block;\n",
       "  background: var(--xr-background-color);\n",
       "  padding-right: 10px;\n",
       "}\n",
       "\n",
       ".xr-attrs dd {\n",
       "  grid-column: 2;\n",
       "  white-space: pre-wrap;\n",
       "  word-break: break-all;\n",
       "}\n",
       "\n",
       ".xr-icon-database,\n",
       ".xr-icon-file-text2,\n",
       ".xr-no-icon {\n",
       "  display: inline-block;\n",
       "  vertical-align: middle;\n",
       "  width: 1em;\n",
       "  height: 1.5em !important;\n",
       "  stroke-width: 0;\n",
       "  stroke: currentColor;\n",
       "  fill: currentColor;\n",
       "}\n",
       "</style><pre class='xr-text-repr-fallback'>&lt;xarray.Dataset&gt; Size: 2MB\n",
       "Dimensions:    (x: 128, y: 128)\n",
       "Dimensions without coordinates: x, y\n",
       "Data variables: (12/15)\n",
       "    aso_sd     (x, y) float32 66kB ...\n",
       "    fcf        (x, y) float64 131kB ...\n",
       "    elevation  (x, y) float32 66kB ...\n",
       "    slope      (x, y) float64 131kB ...\n",
       "    tri        (x, y) float64 131kB ...\n",
       "    tpi        (x, y) float64 131kB ...\n",
       "    ...         ...\n",
       "    s1_pc2     (x, y) float32 66kB ...\n",
       "    s2_pc1     (x, y) float32 66kB ...\n",
       "    s2_pc2     (x, y) float32 66kB ...\n",
       "    s2_pc3     (x, y) float32 66kB ...\n",
       "    dowy       (x, y) int64 131kB ...\n",
       "    sno_sd     (x, y) float64 131kB ...</pre><div class='xr-wrap' style='display:none'><div class='xr-header'><div class='xr-obj-type'>xarray.Dataset</div></div><ul class='xr-sections'><li class='xr-section-item'><input id='section-c7ad3713-f217-49fa-b3bd-b23aba63e68d' class='xr-section-summary-in' type='checkbox' disabled ><label for='section-c7ad3713-f217-49fa-b3bd-b23aba63e68d' class='xr-section-summary'  title='Expand/collapse section'>Dimensions:</label><div class='xr-section-inline-details'><ul class='xr-dim-list'><li><span>x</span>: 128</li><li><span>y</span>: 128</li></ul></div><div class='xr-section-details'></div></li><li class='xr-section-item'><input id='section-fed84979-f7a4-405f-9f56-410f510cf76e' class='xr-section-summary-in' type='checkbox' disabled ><label for='section-fed84979-f7a4-405f-9f56-410f510cf76e' class='xr-section-summary'  title='Expand/collapse section'>Coordinates: <span>(0)</span></label><div class='xr-section-inline-details'></div><div class='xr-section-details'><ul class='xr-var-list'></ul></div></li><li class='xr-section-item'><input id='section-ca8b35c5-7553-4bfc-b221-699d2a2c9aa9' class='xr-section-summary-in' type='checkbox'  ><label for='section-ca8b35c5-7553-4bfc-b221-699d2a2c9aa9' class='xr-section-summary' >Data variables: <span>(15)</span></label><div class='xr-section-inline-details'></div><div class='xr-section-details'><ul class='xr-var-list'><li class='xr-var-item'><div class='xr-var-name'><span>aso_sd</span></div><div class='xr-var-dims'>(x, y)</div><div class='xr-var-dtype'>float32</div><div class='xr-var-preview xr-preview'>...</div><input id='attrs-a83af49f-343e-40fb-a11f-5de4d521e245' class='xr-var-attrs-in' type='checkbox' disabled><label for='attrs-a83af49f-343e-40fb-a11f-5de4d521e245' title='Show/Hide attributes'><svg class='icon xr-icon-file-text2'><use xlink:href='#icon-file-text2'></use></svg></label><input id='data-92fcbfcf-c244-42f5-8bbd-14d6b27eb0e7' class='xr-var-data-in' type='checkbox'><label for='data-92fcbfcf-c244-42f5-8bbd-14d6b27eb0e7' title='Show/Hide data repr'><svg class='icon xr-icon-database'><use xlink:href='#icon-database'></use></svg></label><div class='xr-var-attrs'><dl class='xr-attrs'></dl></div><div class='xr-var-data'><pre>[16384 values with dtype=float32]</pre></div></li><li class='xr-var-item'><div class='xr-var-name'><span>fcf</span></div><div class='xr-var-dims'>(x, y)</div><div class='xr-var-dtype'>float64</div><div class='xr-var-preview xr-preview'>...</div><input id='attrs-856fa6d4-b62e-4e6d-8c0a-17490c5d870b' class='xr-var-attrs-in' type='checkbox' disabled><label for='attrs-856fa6d4-b62e-4e6d-8c0a-17490c5d870b' title='Show/Hide attributes'><svg class='icon xr-icon-file-text2'><use xlink:href='#icon-file-text2'></use></svg></label><input id='data-ae19839a-7491-426c-a6f1-7dd98dff17d2' class='xr-var-data-in' type='checkbox'><label for='data-ae19839a-7491-426c-a6f1-7dd98dff17d2' title='Show/Hide data repr'><svg class='icon xr-icon-database'><use xlink:href='#icon-database'></use></svg></label><div class='xr-var-attrs'><dl class='xr-attrs'></dl></div><div class='xr-var-data'><pre>[16384 values with dtype=float64]</pre></div></li><li class='xr-var-item'><div class='xr-var-name'><span>elevation</span></div><div class='xr-var-dims'>(x, y)</div><div class='xr-var-dtype'>float32</div><div class='xr-var-preview xr-preview'>...</div><input id='attrs-f1f6e02c-dc85-4e89-99b0-ae0f57e13f43' class='xr-var-attrs-in' type='checkbox' disabled><label for='attrs-f1f6e02c-dc85-4e89-99b0-ae0f57e13f43' title='Show/Hide attributes'><svg class='icon xr-icon-file-text2'><use xlink:href='#icon-file-text2'></use></svg></label><input id='data-c00c0d8b-65e5-4547-a371-00647159e0d2' class='xr-var-data-in' type='checkbox'><label for='data-c00c0d8b-65e5-4547-a371-00647159e0d2' title='Show/Hide data repr'><svg class='icon xr-icon-database'><use xlink:href='#icon-database'></use></svg></label><div class='xr-var-attrs'><dl class='xr-attrs'></dl></div><div class='xr-var-data'><pre>[16384 values with dtype=float32]</pre></div></li><li class='xr-var-item'><div class='xr-var-name'><span>slope</span></div><div class='xr-var-dims'>(x, y)</div><div class='xr-var-dtype'>float64</div><div class='xr-var-preview xr-preview'>...</div><input id='attrs-87d67d11-dce7-4086-9705-1e7a90f69ea6' class='xr-var-attrs-in' type='checkbox' disabled><label for='attrs-87d67d11-dce7-4086-9705-1e7a90f69ea6' title='Show/Hide attributes'><svg class='icon xr-icon-file-text2'><use xlink:href='#icon-file-text2'></use></svg></label><input id='data-300273a9-f484-4907-809c-0fc0fbedcf68' class='xr-var-data-in' type='checkbox'><label for='data-300273a9-f484-4907-809c-0fc0fbedcf68' title='Show/Hide data repr'><svg class='icon xr-icon-database'><use xlink:href='#icon-database'></use></svg></label><div class='xr-var-attrs'><dl class='xr-attrs'></dl></div><div class='xr-var-data'><pre>[16384 values with dtype=float64]</pre></div></li><li class='xr-var-item'><div class='xr-var-name'><span>tri</span></div><div class='xr-var-dims'>(x, y)</div><div class='xr-var-dtype'>float64</div><div class='xr-var-preview xr-preview'>...</div><input id='attrs-80d497bc-e5dc-40d9-a4a4-fce358ba7cb5' class='xr-var-attrs-in' type='checkbox' disabled><label for='attrs-80d497bc-e5dc-40d9-a4a4-fce358ba7cb5' title='Show/Hide attributes'><svg class='icon xr-icon-file-text2'><use xlink:href='#icon-file-text2'></use></svg></label><input id='data-41cf44eb-25a6-4b59-bce4-0786559e1153' class='xr-var-data-in' type='checkbox'><label for='data-41cf44eb-25a6-4b59-bce4-0786559e1153' title='Show/Hide data repr'><svg class='icon xr-icon-database'><use xlink:href='#icon-database'></use></svg></label><div class='xr-var-attrs'><dl class='xr-attrs'></dl></div><div class='xr-var-data'><pre>[16384 values with dtype=float64]</pre></div></li><li class='xr-var-item'><div class='xr-var-name'><span>tpi</span></div><div class='xr-var-dims'>(x, y)</div><div class='xr-var-dtype'>float64</div><div class='xr-var-preview xr-preview'>...</div><input id='attrs-60df6254-d59d-4ce5-9ccb-9dac657872b2' class='xr-var-attrs-in' type='checkbox' disabled><label for='attrs-60df6254-d59d-4ce5-9ccb-9dac657872b2' title='Show/Hide attributes'><svg class='icon xr-icon-file-text2'><use xlink:href='#icon-file-text2'></use></svg></label><input id='data-a50ad9d3-814b-46c4-83d7-4e1d0f743e4f' class='xr-var-data-in' type='checkbox'><label for='data-a50ad9d3-814b-46c4-83d7-4e1d0f743e4f' title='Show/Hide data repr'><svg class='icon xr-icon-database'><use xlink:href='#icon-database'></use></svg></label><div class='xr-var-attrs'><dl class='xr-attrs'></dl></div><div class='xr-var-data'><pre>[16384 values with dtype=float64]</pre></div></li><li class='xr-var-item'><div class='xr-var-name'><span>latitude</span></div><div class='xr-var-dims'>(x, y)</div><div class='xr-var-dtype'>float64</div><div class='xr-var-preview xr-preview'>...</div><input id='attrs-fdb7c41a-0ea0-4d43-bee9-bc0013948e78' class='xr-var-attrs-in' type='checkbox' disabled><label for='attrs-fdb7c41a-0ea0-4d43-bee9-bc0013948e78' title='Show/Hide attributes'><svg class='icon xr-icon-file-text2'><use xlink:href='#icon-file-text2'></use></svg></label><input id='data-65404d2d-e463-4c71-8896-a3cca51759ea' class='xr-var-data-in' type='checkbox'><label for='data-65404d2d-e463-4c71-8896-a3cca51759ea' title='Show/Hide data repr'><svg class='icon xr-icon-database'><use xlink:href='#icon-database'></use></svg></label><div class='xr-var-attrs'><dl class='xr-attrs'></dl></div><div class='xr-var-data'><pre>[16384 values with dtype=float64]</pre></div></li><li class='xr-var-item'><div class='xr-var-name'><span>longitude</span></div><div class='xr-var-dims'>(x, y)</div><div class='xr-var-dtype'>float64</div><div class='xr-var-preview xr-preview'>...</div><input id='attrs-a92520dd-15b9-48ef-bcbf-95e12f65a78a' class='xr-var-attrs-in' type='checkbox' disabled><label for='attrs-a92520dd-15b9-48ef-bcbf-95e12f65a78a' title='Show/Hide attributes'><svg class='icon xr-icon-file-text2'><use xlink:href='#icon-file-text2'></use></svg></label><input id='data-a554d6dd-7afe-4f9a-90c4-37568a82a3d9' class='xr-var-data-in' type='checkbox'><label for='data-a554d6dd-7afe-4f9a-90c4-37568a82a3d9' title='Show/Hide data repr'><svg class='icon xr-icon-database'><use xlink:href='#icon-database'></use></svg></label><div class='xr-var-attrs'><dl class='xr-attrs'></dl></div><div class='xr-var-data'><pre>[16384 values with dtype=float64]</pre></div></li><li class='xr-var-item'><div class='xr-var-name'><span>s1_pc1</span></div><div class='xr-var-dims'>(x, y)</div><div class='xr-var-dtype'>float32</div><div class='xr-var-preview xr-preview'>...</div><input id='attrs-ee2b34dc-fe2a-45fd-ac76-8d714c61825a' class='xr-var-attrs-in' type='checkbox' disabled><label for='attrs-ee2b34dc-fe2a-45fd-ac76-8d714c61825a' title='Show/Hide attributes'><svg class='icon xr-icon-file-text2'><use xlink:href='#icon-file-text2'></use></svg></label><input id='data-c77b4240-087c-4538-891d-12fdb39c65e3' class='xr-var-data-in' type='checkbox'><label for='data-c77b4240-087c-4538-891d-12fdb39c65e3' title='Show/Hide data repr'><svg class='icon xr-icon-database'><use xlink:href='#icon-database'></use></svg></label><div class='xr-var-attrs'><dl class='xr-attrs'></dl></div><div class='xr-var-data'><pre>[16384 values with dtype=float32]</pre></div></li><li class='xr-var-item'><div class='xr-var-name'><span>s1_pc2</span></div><div class='xr-var-dims'>(x, y)</div><div class='xr-var-dtype'>float32</div><div class='xr-var-preview xr-preview'>...</div><input id='attrs-60875470-1e67-4544-9e28-997ec37c6770' class='xr-var-attrs-in' type='checkbox' disabled><label for='attrs-60875470-1e67-4544-9e28-997ec37c6770' title='Show/Hide attributes'><svg class='icon xr-icon-file-text2'><use xlink:href='#icon-file-text2'></use></svg></label><input id='data-14ccea0f-4d96-481c-a774-75bc6cf25613' class='xr-var-data-in' type='checkbox'><label for='data-14ccea0f-4d96-481c-a774-75bc6cf25613' title='Show/Hide data repr'><svg class='icon xr-icon-database'><use xlink:href='#icon-database'></use></svg></label><div class='xr-var-attrs'><dl class='xr-attrs'></dl></div><div class='xr-var-data'><pre>[16384 values with dtype=float32]</pre></div></li><li class='xr-var-item'><div class='xr-var-name'><span>s2_pc1</span></div><div class='xr-var-dims'>(x, y)</div><div class='xr-var-dtype'>float32</div><div class='xr-var-preview xr-preview'>...</div><input id='attrs-28d09939-a541-47d4-9830-2a23a1d457a5' class='xr-var-attrs-in' type='checkbox' disabled><label for='attrs-28d09939-a541-47d4-9830-2a23a1d457a5' title='Show/Hide attributes'><svg class='icon xr-icon-file-text2'><use xlink:href='#icon-file-text2'></use></svg></label><input id='data-e20c4a3d-7664-466b-b7a2-d86b81954daa' class='xr-var-data-in' type='checkbox'><label for='data-e20c4a3d-7664-466b-b7a2-d86b81954daa' title='Show/Hide data repr'><svg class='icon xr-icon-database'><use xlink:href='#icon-database'></use></svg></label><div class='xr-var-attrs'><dl class='xr-attrs'></dl></div><div class='xr-var-data'><pre>[16384 values with dtype=float32]</pre></div></li><li class='xr-var-item'><div class='xr-var-name'><span>s2_pc2</span></div><div class='xr-var-dims'>(x, y)</div><div class='xr-var-dtype'>float32</div><div class='xr-var-preview xr-preview'>...</div><input id='attrs-db34b2f5-a5f9-4383-afe1-94760ea04e62' class='xr-var-attrs-in' type='checkbox' disabled><label for='attrs-db34b2f5-a5f9-4383-afe1-94760ea04e62' title='Show/Hide attributes'><svg class='icon xr-icon-file-text2'><use xlink:href='#icon-file-text2'></use></svg></label><input id='data-96a6c495-6ca8-4129-bd67-ad21b11db009' class='xr-var-data-in' type='checkbox'><label for='data-96a6c495-6ca8-4129-bd67-ad21b11db009' title='Show/Hide data repr'><svg class='icon xr-icon-database'><use xlink:href='#icon-database'></use></svg></label><div class='xr-var-attrs'><dl class='xr-attrs'></dl></div><div class='xr-var-data'><pre>[16384 values with dtype=float32]</pre></div></li><li class='xr-var-item'><div class='xr-var-name'><span>s2_pc3</span></div><div class='xr-var-dims'>(x, y)</div><div class='xr-var-dtype'>float32</div><div class='xr-var-preview xr-preview'>...</div><input id='attrs-21cf1fae-ad9b-424c-af98-1bea18358e96' class='xr-var-attrs-in' type='checkbox' disabled><label for='attrs-21cf1fae-ad9b-424c-af98-1bea18358e96' title='Show/Hide attributes'><svg class='icon xr-icon-file-text2'><use xlink:href='#icon-file-text2'></use></svg></label><input id='data-87418d55-0a93-4c69-b82b-50874fc8e3db' class='xr-var-data-in' type='checkbox'><label for='data-87418d55-0a93-4c69-b82b-50874fc8e3db' title='Show/Hide data repr'><svg class='icon xr-icon-database'><use xlink:href='#icon-database'></use></svg></label><div class='xr-var-attrs'><dl class='xr-attrs'></dl></div><div class='xr-var-data'><pre>[16384 values with dtype=float32]</pre></div></li><li class='xr-var-item'><div class='xr-var-name'><span>dowy</span></div><div class='xr-var-dims'>(x, y)</div><div class='xr-var-dtype'>int64</div><div class='xr-var-preview xr-preview'>...</div><input id='attrs-edf57e25-f343-4780-91c2-13c162e42eed' class='xr-var-attrs-in' type='checkbox' disabled><label for='attrs-edf57e25-f343-4780-91c2-13c162e42eed' title='Show/Hide attributes'><svg class='icon xr-icon-file-text2'><use xlink:href='#icon-file-text2'></use></svg></label><input id='data-60dc9235-13df-43be-8c45-4292f0c48c21' class='xr-var-data-in' type='checkbox'><label for='data-60dc9235-13df-43be-8c45-4292f0c48c21' title='Show/Hide data repr'><svg class='icon xr-icon-database'><use xlink:href='#icon-database'></use></svg></label><div class='xr-var-attrs'><dl class='xr-attrs'></dl></div><div class='xr-var-data'><pre>[16384 values with dtype=int64]</pre></div></li><li class='xr-var-item'><div class='xr-var-name'><span>sno_sd</span></div><div class='xr-var-dims'>(x, y)</div><div class='xr-var-dtype'>float64</div><div class='xr-var-preview xr-preview'>...</div><input id='attrs-8623b368-5816-4b44-8a47-fd78800d6fb7' class='xr-var-attrs-in' type='checkbox' disabled><label for='attrs-8623b368-5816-4b44-8a47-fd78800d6fb7' title='Show/Hide attributes'><svg class='icon xr-icon-file-text2'><use xlink:href='#icon-file-text2'></use></svg></label><input id='data-c3be954f-3207-4bf9-9fdc-08620a355cd4' class='xr-var-data-in' type='checkbox'><label for='data-c3be954f-3207-4bf9-9fdc-08620a355cd4' title='Show/Hide data repr'><svg class='icon xr-icon-database'><use xlink:href='#icon-database'></use></svg></label><div class='xr-var-attrs'><dl class='xr-attrs'></dl></div><div class='xr-var-data'><pre>[16384 values with dtype=float64]</pre></div></li></ul></div></li><li class='xr-section-item'><input id='section-e6ac9236-a7f0-4ff7-8cab-27dbada35a47' class='xr-section-summary-in' type='checkbox' disabled ><label for='section-e6ac9236-a7f0-4ff7-8cab-27dbada35a47' class='xr-section-summary'  title='Expand/collapse section'>Indexes: <span>(0)</span></label><div class='xr-section-inline-details'></div><div class='xr-section-details'><ul class='xr-var-list'></ul></div></li><li class='xr-section-item'><input id='section-469cb4f6-b8c1-46c5-8bb8-311c8d471aa9' class='xr-section-summary-in' type='checkbox' disabled ><label for='section-469cb4f6-b8c1-46c5-8bb8-311c8d471aa9' class='xr-section-summary'  title='Expand/collapse section'>Attributes: <span>(0)</span></label><div class='xr-section-inline-details'></div><div class='xr-section-details'><dl class='xr-attrs'></dl></div></li></ul></div></div>"
      ],
      "text/plain": [
       "<xarray.Dataset> Size: 2MB\n",
       "Dimensions:    (x: 128, y: 128)\n",
       "Dimensions without coordinates: x, y\n",
       "Data variables: (12/15)\n",
       "    aso_sd     (x, y) float32 66kB ...\n",
       "    fcf        (x, y) float64 131kB ...\n",
       "    elevation  (x, y) float32 66kB ...\n",
       "    slope      (x, y) float64 131kB ...\n",
       "    tri        (x, y) float64 131kB ...\n",
       "    tpi        (x, y) float64 131kB ...\n",
       "    ...         ...\n",
       "    s1_pc2     (x, y) float32 66kB ...\n",
       "    s2_pc1     (x, y) float32 66kB ...\n",
       "    s2_pc2     (x, y) float32 66kB ...\n",
       "    s2_pc3     (x, y) float32 66kB ...\n",
       "    dowy       (x, y) int64 131kB ...\n",
       "    sno_sd     (x, y) float64 131kB ..."
      ]
     },
     "execution_count": 28,
     "metadata": {},
     "output_type": "execute_result"
    }
   ],
   "source": [
    "# we see a new varibale 'sno_sd' which is the snotel snowdepth measurement (in the same units as aso_sd, m)\n",
    "ds"
   ]
  },
  {
   "cell_type": "code",
   "execution_count": null,
   "metadata": {},
   "outputs": [],
   "source": [
    "def process_file_with_snotel(file_path):\n",
    "    ds = xr.open_dataset(file_path)\n",
    "    # Normalize features using the norm_dict\n",
    "    data_dict = {}\n",
    "    data_dict['latitude'] = calc_norm(torch.Tensor(ds['latitude'].values), norm_dict['latitude'])\n",
    "    data_dict['longitude'] = calc_norm(torch.Tensor(ds['longitude'].values), norm_dict['longitude'])\n",
    "    data_dict['elevation'] = calc_norm(torch.Tensor(ds['elevation'].values), norm_dict['elevation'])\n",
    "    data_dict['slope'] = calc_norm(torch.Tensor(ds['slope'].values), norm_dict['slope'])\n",
    "    data_dict['tri'] = calc_norm(torch.Tensor(ds['tri'].values), norm_dict['tri'])\n",
    "    data_dict['tpi'] = calc_norm(torch.Tensor(ds['tpi'].values), norm_dict['tpi'])\n",
    "    data_dict['dowy'] = calc_norm(torch.Tensor(ds['dowy'].values), norm_dict['dowy'])\n",
    "    data_dict['fcf'] = torch.Tensor(ds['fcf'].values)\n",
    "    \n",
    "    # Reshape PC components to 2D\n",
    "    s1_pc1_2d = ds['s1_pc1'].values.reshape(128, 128)\n",
    "    s1_pc2_2d = ds['s1_pc2'].values.reshape(128, 128)\n",
    "    s2_pc1_2d = ds['s2_pc1'].values.reshape(128, 128)\n",
    "    s2_pc2_2d = ds['s2_pc2'].values.reshape(128, 128)\n",
    "    s2_pc3_2d = ds['s2_pc3'].values.reshape(128, 128)\n",
    "    \n",
    "    # Stack normalized features\n",
    "    features = np.stack([\n",
    "        data_dict['elevation'].numpy(),\n",
    "        data_dict['slope'].numpy(),\n",
    "        data_dict['tri'].numpy(),\n",
    "        data_dict['tpi'].numpy(),\n",
    "        data_dict['latitude'].numpy(),\n",
    "        data_dict['longitude'].numpy(),\n",
    "        data_dict['fcf'].numpy(),\n",
    "        s1_pc1_2d,\n",
    "        s1_pc2_2d,\n",
    "        s2_pc1_2d,\n",
    "        s2_pc2_2d,\n",
    "        s2_pc3_2d,\n",
    "        data_dict['dowy'].numpy()\n",
    "    ], axis=0)\n",
    "\n",
    "    # Target: aso_sd\n",
    "    target = ds['aso_sd'].values\n",
    "\n",
    "    # Extract sno_sd values (ground truth points)\n",
    "    sno_sd = torch.Tensor(ds['sno_sd'].values)\n",
    "    sno_sd_indices = torch.nonzero(~torch.isnan(sno_sd), as_tuple=True)\n",
    "    sno_sd_values = sno_sd[sno_sd_indices]  # Only valid values\n",
    "\n",
    "    return features, target, sno_sd_indices, sno_sd_values"
   ]
  },
  {
   "cell_type": "code",
   "execution_count": 34,
   "metadata": {},
   "outputs": [],
   "source": [
    "from torch.utils.data import Dataset\n",
    "class SNOTELDataset(Dataset):\n",
    "    def __init__(self, features_list, targets_list, sno_sd_indices_list, sno_sd_values_list):\n",
    "        self.features_list = features_list\n",
    "        self.targets_list = targets_list\n",
    "        self.sno_sd_indices_list = sno_sd_indices_list\n",
    "        self.sno_sd_values_list = sno_sd_values_list\n",
    "\n",
    "    def __len__(self):\n",
    "        return len(self.features_list)\n",
    "\n",
    "    def __getitem__(self, idx):\n",
    "        features = self.features_list[idx]\n",
    "        target = self.targets_list[idx]\n",
    "        sno_sd_indices = self.sno_sd_indices_list[idx]\n",
    "        sno_sd_values = self.sno_sd_values_list[idx]\n",
    "        return features, target, sno_sd_indices, sno_sd_values\n",
    "    \n",
    "def create_dataset_with_snotel(file_list):\n",
    "    features_list = []\n",
    "    targets_list = []\n",
    "    sno_sd_indices_list = []\n",
    "    sno_sd_values_list = []\n",
    "\n",
    "    for file in file_list:\n",
    "        features, target, sno_sd_indices, sno_sd_values = process_file_with_snotel(file)\n",
    "        features_list.append(torch.FloatTensor(features))\n",
    "        targets_list.append(torch.FloatTensor(target))\n",
    "        sno_sd_indices_list.append(sno_sd_indices)\n",
    "        sno_sd_values_list.append(sno_sd_values)\n",
    "\n",
    "    return SNOTELDataset(features_list, targets_list, sno_sd_indices_list, sno_sd_values_list)"
   ]
  },
  {
   "cell_type": "code",
   "execution_count": 35,
   "metadata": {},
   "outputs": [],
   "source": [
    "random.shuffle(snotel_files)\n",
    "train_size = int(0.7 * len(snotel_files))\n",
    "test_size = int(0.2 * len(snotel_files))\n",
    "val_size = len(snotel_files) - train_size - test_size\n",
    "\n",
    "train_files_snotel = snotel_files[:train_size]\n",
    "test_files_snotel = snotel_files[train_size:train_size + test_size]\n",
    "val_files_snotel = snotel_files[train_size + test_size:]\n",
    "\n",
    "train_dataset_snotel = create_dataset_with_snotel(train_files_snotel)\n",
    "test_dataset_snotel = create_dataset_with_snotel(test_files_snotel)\n",
    "val_dataset_snotel = create_dataset_with_snotel(val_files_snotel)\n",
    "\n",
    "train_loader_snotel = DataLoader(train_dataset_snotel, batch_size=32, shuffle=True)\n",
    "test_loader_snotel = DataLoader(test_dataset_snotel, batch_size=32, shuffle=False)\n",
    "val_loader_snotel = DataLoader(val_dataset_snotel, batch_size=32, shuffle=False)"
   ]
  },
  {
   "cell_type": "code",
   "execution_count": 63,
   "metadata": {},
   "outputs": [],
   "source": [
    "class WeightedMAELoss(nn.Module):\n",
    "    def __init__(self, sno_weight=10):\n",
    "        \"\"\"\n",
    "        Weighted Mean Absolute Error Loss.\n",
    "\n",
    "        Args:\n",
    "            sno_weight (float): The weight to assign to cells containing `sno_sd` values.\n",
    "        \"\"\"\n",
    "        super(WeightedMAELoss, self).__init__()\n",
    "        self.sno_weight = sno_weight\n",
    "\n",
    "    def forward(self, outputs, targets, features, sno_sd_indices, sno_sd_values):\n",
    "        \"\"\"\n",
    "        Compute weighted MAE loss.\n",
    "\n",
    "        Args:\n",
    "            outputs (torch.Tensor): Model predictions of shape (batch_size, 1, 128, 128).\n",
    "            targets (torch.Tensor): Ground truth values of shape (batch_size, 1, 128, 128).\n",
    "            features (torch.Tensor): Input features, where `features[..., -1]` is the `sno_sd` map.\n",
    "            sno_sd_indices (torch.Tensor): Indices of the cells to apply the weighted loss.\n",
    "            sno_sd_values (torch.Tensor): Corresponding values for the weighted cells.\n",
    "\n",
    "        Returns:\n",
    "            torch.Tensor: The computed weighted MAE loss.\n",
    "        \"\"\"\n",
    "        # Extract `sno_sd` map from features\n",
    "        sno_sd = features[:, -1, :, :]  # Assume last feature is sno_sd\n",
    "        \n",
    "        # Create weight mask (default 1.0, but modified for specific indices/values)\n",
    "        weight_mask = torch.ones_like(sno_sd)\n",
    "\n",
    "        # Apply the weight to the specified `sno_sd_indices`\n",
    "        for idx, val in zip(sno_sd_indices, sno_sd_values):\n",
    "            weight_mask[idx[0], idx[1]] = self.sno_weight * val  # Adjusting the mask with weight\n",
    "\n",
    "        # Compute absolute errors\n",
    "        abs_errors = torch.abs(outputs - targets)\n",
    "        \n",
    "        # Apply weights\n",
    "        weighted_errors = abs_errors * weight_mask\n",
    "        \n",
    "        # Ignore NaNs in `sno_sd` by using `torch.nan_to_num`\n",
    "        valid_weights = torch.nan_to_num(weight_mask, nan=1.0)\n",
    "        loss = torch.sum(weighted_errors) / torch.sum(valid_weights)\n",
    "        \n",
    "        return loss"
   ]
  },
  {
   "cell_type": "code",
   "execution_count": 64,
   "metadata": {},
   "outputs": [],
   "source": [
    "def train_and_evaluate_snotel(model, train_loader, val_loader, test_loader, criterion, optimizer, num_epochs, device, verbose=True, save_dir='weights'):\n",
    "    \"\"\"\n",
    "    Train, validate, and test the model with a weighted MAE loss.\n",
    "\n",
    "    Args:\n",
    "        model (nn.Module): The PyTorch model to train and evaluate.\n",
    "        train_loader (DataLoader): DataLoader for the training dataset.\n",
    "        val_loader (DataLoader): DataLoader for the validation dataset.\n",
    "        test_loader (DataLoader): DataLoader for the test dataset.\n",
    "        criterion (Loss): The weighted loss function.\n",
    "        optimizer (Optimizer): The optimizer for model training.\n",
    "        num_epochs (int): Number of training epochs.\n",
    "        device (torch.device): Device to use for computation.\n",
    "        verbose (bool): Whether to print detailed progress for each epoch.\n",
    "        save_dir (str): Directory to save model weights, logs, and metrics.\n",
    "\n",
    "    Returns:\n",
    "        tuple: A tuple containing training losses, validation losses, and final test loss.\n",
    "    \"\"\"\n",
    "    train_losses = []\n",
    "    val_losses = []\n",
    "    performance_metrics = {}\n",
    "\n",
    "    # Ensure save directory exists\n",
    "    os.makedirs(save_dir, exist_ok=True)\n",
    "\n",
    "    for epoch in range(num_epochs):\n",
    "        # Training phase\n",
    "        model.train()\n",
    "        train_loss = 0\n",
    "        for features, targets, sno_sd_indices, sno_sd_values in train_loader:  # Adjust to unpack all values\n",
    "            features, targets = features.to(device), targets.to(device)\n",
    "            sno_sd_indices, sno_sd_values = sno_sd_indices.to(device), sno_sd_values.to(device)\n",
    "\n",
    "            optimizer.zero_grad()\n",
    "            outputs = model(features)\n",
    "\n",
    "            # Pass additional arguments (sno_sd_indices, sno_sd_values) to the loss function\n",
    "            loss = criterion(outputs, targets, features, sno_sd_indices, sno_sd_values)  \n",
    "            loss.backward()\n",
    "            optimizer.step()\n",
    "            train_loss += loss.item()\n",
    "\n",
    "        # Validation phase\n",
    "        model.eval()\n",
    "        val_loss = 0\n",
    "        with torch.no_grad():\n",
    "            for features, targets, sno_sd_indices, sno_sd_values in val_loader:\n",
    "                features, targets = features.to(device), targets.to(device)\n",
    "                sno_sd_indices, sno_sd_values = sno_sd_indices.to(device), sno_sd_values.to(device)\n",
    "                outputs = model(features)\n",
    "\n",
    "                # Pass additional arguments (sno_sd_indices, sno_sd_values) to the loss function\n",
    "                val_loss += criterion(outputs, targets, features, sno_sd_indices, sno_sd_values).item()\n",
    "\n",
    "        # Compute average losses\n",
    "        avg_train_loss = train_loss / len(train_loader)\n",
    "        avg_val_loss = val_loss / len(val_loader)\n",
    "        train_losses.append(avg_train_loss)\n",
    "        val_losses.append(avg_val_loss)\n",
    "\n",
    "        if verbose:\n",
    "            print(f'Epoch [{epoch+1}/{num_epochs}]')\n",
    "            print(f'Training Loss: {avg_train_loss:.4f}')\n",
    "            print(f'Validation Loss: {avg_val_loss:.4f}')\n",
    "        \n",
    "        # Save logs after each epoch\n",
    "        performance_metrics[f\"epoch_{epoch+1}\"] = {\n",
    "            \"train_loss\": avg_train_loss,\n",
    "            \"val_loss\": avg_val_loss\n",
    "        }\n",
    "\n",
    "    # Testing phase\n",
    "    model.eval()\n",
    "    test_loss = 0\n",
    "    with torch.no_grad():\n",
    "        for features, targets, sno_sd_indices, sno_sd_values in test_loader:\n",
    "            features, targets = features.to(device), targets.to(device)\n",
    "            sno_sd_indices, sno_sd_values = sno_sd_indices.to(device), sno_sd_values.to(device)\n",
    "            outputs = model(features)\n",
    "\n",
    "            # Pass additional arguments (sno_sd_indices, sno_sd_values) to the loss function\n",
    "            test_loss += criterion(outputs, targets, features, sno_sd_indices, sno_sd_values).item()\n",
    "\n",
    "    final_test_loss = test_loss / len(test_loader)\n",
    "    performance_metrics[\"final_test_loss\"] = final_test_loss\n",
    "\n",
    "    if verbose:\n",
    "        print(f'\\nFinal Test Loss: {final_test_loss:.4f}')\n",
    "    \n",
    "    # Save model weights to file\n",
    "    model_weight_path = os.path.join(save_dir, 'snotel_model_weights.pth')\n",
    "    torch.save(model.state_dict(), model_weight_path)\n",
    "\n",
    "    # Save training logs and performance metrics to JSON file\n",
    "    performance_metrics_path = os.path.join(save_dir, 'snotel_performance_metrics.json')\n",
    "    with open(performance_metrics_path, 'w') as json_file:\n",
    "        json.dump(performance_metrics, json_file, indent=4)\n",
    "\n",
    "    return train_losses, val_losses, final_test_loss"
   ]
  },
  {
   "cell_type": "code",
   "execution_count": 60,
   "metadata": {},
   "outputs": [],
   "source": [
    "class SnotelCNN(nn.Module):\n",
    "    def __init__(self):\n",
    "        super(SnotelCNN, self).__init__()\n",
    "        self.conv1 = nn.Conv2d(in_channels=13, out_channels=16, kernel_size=3, padding=1)  # Input: 13 channels\n",
    "        self.conv2 = nn.Conv2d(in_channels=16, out_channels=32, kernel_size=3, padding=1)\n",
    "        self.conv3 = nn.Conv2d(in_channels=32, out_channels=64, kernel_size=3, padding=1)\n",
    "        self.conv4 = nn.Conv2d(in_channels=64, out_channels=64, kernel_size=3, padding=1)\n",
    "        self.fc1 = nn.Linear(64 * 8 * 8, 512)  # Flattened: 64 * 8 * 8 = 4096\n",
    "        self.fc2 = nn.Linear(512, 128 * 128)  # Final size: 128 * 128 for snow depth predictions\n",
    "\n",
    "    def forward(self, x):\n",
    "        x = F.relu(self.conv1(x))\n",
    "        x = F.max_pool2d(x, 2)  # Downsample\n",
    "        x = F.relu(self.conv2(x))\n",
    "        x = F.max_pool2d(x, 2)\n",
    "        x = F.relu(self.conv3(x))\n",
    "        x = F.max_pool2d(x, 2)\n",
    "        x = F.relu(self.conv4(x))\n",
    "        x = F.max_pool2d(x, 2)\n",
    "        x = x.view(x.size(0), -1)  # Flatten\n",
    "        x = F.relu(self.fc1(x))\n",
    "        x = self.fc2(x)\n",
    "        return x.view(-1, 1, 128, 128)  # Reshape to [batch_size, 1, 128, 128]"
   ]
  },
  {
   "cell_type": "code",
   "execution_count": 61,
   "metadata": {},
   "outputs": [
    {
     "name": "stdout",
     "output_type": "stream",
     "text": [
      "torch.Size([32, 13, 128, 128])\n"
     ]
    }
   ],
   "source": [
    "for features, target, sno_sd_indices, sno_sd_values in train_loader_snotel:\n",
    "    print(features.shape)  # Expecting [batch_size, 13, 128, 128]\n",
    "    # Now you can use features, target, sno_sd_indices, and sno_sd_values\n",
    "    break"
   ]
  },
  {
   "cell_type": "code",
   "execution_count": 65,
   "metadata": {},
   "outputs": [
    {
     "ename": "AttributeError",
     "evalue": "'list' object has no attribute 'to'",
     "output_type": "error",
     "traceback": [
      "\u001b[0;31m---------------------------------------------------------------------------\u001b[0m",
      "\u001b[0;31mAttributeError\u001b[0m                            Traceback (most recent call last)",
      "Cell \u001b[0;32mIn[65], line 15\u001b[0m\n\u001b[1;32m     12\u001b[0m num_epochs \u001b[38;5;241m=\u001b[39m \u001b[38;5;241m10\u001b[39m  \u001b[38;5;66;03m# Adjust based on your dataset and desired training time\u001b[39;00m\n\u001b[1;32m     14\u001b[0m \u001b[38;5;66;03m# Train and evaluate the model\u001b[39;00m\n\u001b[0;32m---> 15\u001b[0m train_losses, val_losses, final_test_loss \u001b[38;5;241m=\u001b[39m \u001b[43mtrain_and_evaluate_snotel\u001b[49m\u001b[43m(\u001b[49m\n\u001b[1;32m     16\u001b[0m \u001b[43m    \u001b[49m\u001b[43mmodel\u001b[49m\u001b[38;5;241;43m=\u001b[39;49m\u001b[43mmodel\u001b[49m\u001b[43m,\u001b[49m\n\u001b[1;32m     17\u001b[0m \u001b[43m    \u001b[49m\u001b[43mtrain_loader\u001b[49m\u001b[38;5;241;43m=\u001b[39;49m\u001b[43mtrain_loader_snotel\u001b[49m\u001b[43m,\u001b[49m\n\u001b[1;32m     18\u001b[0m \u001b[43m    \u001b[49m\u001b[43mval_loader\u001b[49m\u001b[38;5;241;43m=\u001b[39;49m\u001b[43mval_loader_snotel\u001b[49m\u001b[43m,\u001b[49m\n\u001b[1;32m     19\u001b[0m \u001b[43m    \u001b[49m\u001b[43mtest_loader\u001b[49m\u001b[38;5;241;43m=\u001b[39;49m\u001b[43mtest_loader_snotel\u001b[49m\u001b[43m,\u001b[49m\n\u001b[1;32m     20\u001b[0m \u001b[43m    \u001b[49m\u001b[43mcriterion\u001b[49m\u001b[38;5;241;43m=\u001b[39;49m\u001b[43mcriterion\u001b[49m\u001b[43m,\u001b[49m\n\u001b[1;32m     21\u001b[0m \u001b[43m    \u001b[49m\u001b[43moptimizer\u001b[49m\u001b[38;5;241;43m=\u001b[39;49m\u001b[43moptimizer\u001b[49m\u001b[43m,\u001b[49m\n\u001b[1;32m     22\u001b[0m \u001b[43m    \u001b[49m\u001b[43mnum_epochs\u001b[49m\u001b[38;5;241;43m=\u001b[39;49m\u001b[43mnum_epochs\u001b[49m\u001b[43m,\u001b[49m\n\u001b[1;32m     23\u001b[0m \u001b[43m    \u001b[49m\u001b[43mdevice\u001b[49m\u001b[38;5;241;43m=\u001b[39;49m\u001b[43mdevice\u001b[49m\u001b[43m,\u001b[49m\n\u001b[1;32m     24\u001b[0m \u001b[43m    \u001b[49m\u001b[43mverbose\u001b[49m\u001b[38;5;241;43m=\u001b[39;49m\u001b[38;5;28;43;01mTrue\u001b[39;49;00m\u001b[43m,\u001b[49m\n\u001b[1;32m     25\u001b[0m \u001b[43m    \u001b[49m\u001b[43msave_dir\u001b[49m\u001b[38;5;241;43m=\u001b[39;49m\u001b[38;5;124;43m'\u001b[39;49m\u001b[38;5;124;43mweights\u001b[39;49m\u001b[38;5;124;43m'\u001b[39;49m\n\u001b[1;32m     26\u001b[0m \u001b[43m)\u001b[49m\n",
      "Cell \u001b[0;32mIn[64], line 33\u001b[0m, in \u001b[0;36mtrain_and_evaluate_snotel\u001b[0;34m(model, train_loader, val_loader, test_loader, criterion, optimizer, num_epochs, device, verbose, save_dir)\u001b[0m\n\u001b[1;32m     31\u001b[0m \u001b[38;5;28;01mfor\u001b[39;00m features, targets, sno_sd_indices, sno_sd_values \u001b[38;5;129;01min\u001b[39;00m train_loader:  \u001b[38;5;66;03m# Adjust to unpack all values\u001b[39;00m\n\u001b[1;32m     32\u001b[0m     features, targets \u001b[38;5;241m=\u001b[39m features\u001b[38;5;241m.\u001b[39mto(device), targets\u001b[38;5;241m.\u001b[39mto(device)\n\u001b[0;32m---> 33\u001b[0m     sno_sd_indices, sno_sd_values \u001b[38;5;241m=\u001b[39m \u001b[43msno_sd_indices\u001b[49m\u001b[38;5;241;43m.\u001b[39;49m\u001b[43mto\u001b[49m(device), sno_sd_values\u001b[38;5;241m.\u001b[39mto(device)\n\u001b[1;32m     35\u001b[0m     optimizer\u001b[38;5;241m.\u001b[39mzero_grad()\n\u001b[1;32m     36\u001b[0m     outputs \u001b[38;5;241m=\u001b[39m model(features)\n",
      "\u001b[0;31mAttributeError\u001b[0m: 'list' object has no attribute 'to'"
     ]
    }
   ],
   "source": [
    "# Define the device\n",
    "device = torch.device('cuda' if torch.cuda.is_available() else 'cpu')\n",
    "\n",
    "# Instantiate the model\n",
    "model = SnotelCNN().to(device)\n",
    "\n",
    "# Define the loss function and optimizer\n",
    "criterion = WeightedMAELoss(sno_weight=10).to(device)\n",
    "optimizer = torch.optim.Adam(model.parameters(), lr=0.0005)\n",
    "\n",
    "# Set the number of epochs\n",
    "num_epochs = 10  # Adjust based on your dataset and desired training time\n",
    "\n",
    "# Train and evaluate the model\n",
    "train_losses, val_losses, final_test_loss = train_and_evaluate_snotel(\n",
    "    model=model,\n",
    "    train_loader=train_loader_snotel,\n",
    "    val_loader=val_loader_snotel,\n",
    "    test_loader=test_loader_snotel,\n",
    "    criterion=criterion,\n",
    "    optimizer=optimizer,\n",
    "    num_epochs=num_epochs,\n",
    "    device=device,\n",
    "    verbose=True,\n",
    "    save_dir='weights'\n",
    ")\n"
   ]
  },
  {
   "cell_type": "code",
   "execution_count": null,
   "metadata": {},
   "outputs": [],
   "source": [
    "# given that the above encoding is the entire point of our final project and it will take a long time\n",
    "# we will skip it on this assingment given it's not feasible to be spending hours fixing bugs\n",
    "# on this for 8% of the grade of a random assignment"
   ]
  },
  {
   "cell_type": "markdown",
   "metadata": {},
   "source": [
    "#### Exploration and Analysis (7%): Investigates losses, activation functions, and layer design, demonstrating a strong understanding of model behavior"
   ]
  },
  {
   "cell_type": "code",
   "execution_count": null,
   "metadata": {},
   "outputs": [],
   "source": [
    "# let's go back to our classic CNN model to somewhat optimize the parameters requested"
   ]
  },
  {
   "cell_type": "code",
   "execution_count": null,
   "metadata": {},
   "outputs": [
    {
     "name": "stderr",
     "output_type": "stream",
     "text": [
      "Epoch 1: 100%|██████████| 78/78 [00:14<00:00,  5.25it/s]\n"
     ]
    },
    {
     "name": "stdout",
     "output_type": "stream",
     "text": [
      "Epoch [1/10]\n",
      "Training Loss: 1.4779\n",
      "Validation Loss: 1.1276\n"
     ]
    },
    {
     "name": "stderr",
     "output_type": "stream",
     "text": [
      "Epoch 2: 100%|██████████| 78/78 [00:16<00:00,  4.72it/s]\n"
     ]
    },
    {
     "name": "stdout",
     "output_type": "stream",
     "text": [
      "Epoch [2/10]\n",
      "Training Loss: 0.9268\n",
      "Validation Loss: 1.0363\n"
     ]
    },
    {
     "name": "stderr",
     "output_type": "stream",
     "text": [
      "Epoch 3: 100%|██████████| 78/78 [00:14<00:00,  5.52it/s]\n"
     ]
    },
    {
     "name": "stdout",
     "output_type": "stream",
     "text": [
      "Epoch [3/10]\n",
      "Training Loss: 0.7659\n",
      "Validation Loss: 0.8087\n"
     ]
    },
    {
     "name": "stderr",
     "output_type": "stream",
     "text": [
      "Epoch 4: 100%|██████████| 78/78 [00:17<00:00,  4.54it/s]\n"
     ]
    },
    {
     "name": "stdout",
     "output_type": "stream",
     "text": [
      "Epoch [4/10]\n",
      "Training Loss: 0.6247\n",
      "Validation Loss: 0.7977\n"
     ]
    },
    {
     "name": "stderr",
     "output_type": "stream",
     "text": [
      "Epoch 5: 100%|██████████| 78/78 [00:13<00:00,  5.81it/s]\n"
     ]
    },
    {
     "name": "stdout",
     "output_type": "stream",
     "text": [
      "Epoch [5/10]\n",
      "Training Loss: 0.6123\n",
      "Validation Loss: 0.7903\n"
     ]
    },
    {
     "name": "stderr",
     "output_type": "stream",
     "text": [
      "Epoch 6: 100%|██████████| 78/78 [00:13<00:00,  5.61it/s]\n"
     ]
    },
    {
     "name": "stdout",
     "output_type": "stream",
     "text": [
      "Epoch [6/10]\n",
      "Training Loss: 0.6114\n",
      "Validation Loss: 0.7822\n"
     ]
    },
    {
     "name": "stderr",
     "output_type": "stream",
     "text": [
      "Epoch 7: 100%|██████████| 78/78 [00:15<00:00,  4.88it/s]\n"
     ]
    },
    {
     "name": "stdout",
     "output_type": "stream",
     "text": [
      "Epoch [7/10]\n",
      "Training Loss: 0.6026\n",
      "Validation Loss: 0.7740\n"
     ]
    },
    {
     "name": "stderr",
     "output_type": "stream",
     "text": [
      "Epoch 8: 100%|██████████| 78/78 [00:15<00:00,  5.02it/s]\n"
     ]
    },
    {
     "name": "stdout",
     "output_type": "stream",
     "text": [
      "Epoch [8/10]\n",
      "Training Loss: 0.5957\n",
      "Validation Loss: 0.7654\n"
     ]
    },
    {
     "name": "stderr",
     "output_type": "stream",
     "text": [
      "Epoch 9: 100%|██████████| 78/78 [00:17<00:00,  4.45it/s]\n"
     ]
    },
    {
     "name": "stdout",
     "output_type": "stream",
     "text": [
      "Epoch [9/10]\n",
      "Training Loss: 0.5931\n",
      "Validation Loss: 0.7616\n"
     ]
    },
    {
     "name": "stderr",
     "output_type": "stream",
     "text": [
      "Epoch 10: 100%|██████████| 78/78 [00:13<00:00,  5.84it/s]\n"
     ]
    },
    {
     "name": "stdout",
     "output_type": "stream",
     "text": [
      "Epoch [10/10]\n",
      "Training Loss: 0.5839\n",
      "Validation Loss: 0.7477\n",
      "\n",
      "Final Test Loss: 0.5916\n"
     ]
    }
   ],
   "source": [
    "class SnowDepthCNN(nn.Module):\n",
    "    def __init__(self):\n",
    "        super(SnowDepthCNN, self).__init__()\n",
    "        # First conv layer: (12, 128, 128) -> (32, 128, 128)\n",
    "        self.conv1 = nn.Conv2d(in_channels=13, out_channels=32, kernel_size=3, padding=1)\n",
    "        self.relu = nn.ReLU()\n",
    "        # Second conv layer: (32, 128, 128) -> (16, 128, 128)\n",
    "        self.conv2 = nn.Conv2d(in_channels=32, out_channels=16, kernel_size=3, padding=1)\n",
    "        # Final conv layer: (16, 128, 128) -> (1, 128, 128)\n",
    "        self.conv3 = nn.Conv2d(in_channels=16, out_channels=1, kernel_size=1)\n",
    "    def forward(self, x):\n",
    "        x = self.relu(self.conv1(x))\n",
    "        x = self.relu(self.conv2(x))\n",
    "        x = self.conv3(x)\n",
    "        return x.squeeze(1)  # Remove channel dimension to match target shape\n",
    "def train_and_evaluate_model(model, train_loader, val_loader, test_loader, criterion, optimizer, num_epochs, device):\n",
    "    \"\"\"\n",
    "    Train, validate, and test the model.\n",
    "\n",
    "    Args:\n",
    "        model (nn.Module): The PyTorch model to train and evaluate.\n",
    "        train_loader (DataLoader): DataLoader for the training dataset.\n",
    "        val_loader (DataLoader): DataLoader for the validation dataset.\n",
    "        test_loader (DataLoader): DataLoader for the test dataset.\n",
    "        criterion (Loss): The loss function.\n",
    "        optimizer (Optimizer): The optimizer for model training.\n",
    "        num_epochs (int): Number of training epochs.\n",
    "        device (torch.device): Device to use for computation.\n",
    "\n",
    "    Returns:\n",
    "        tuple: A tuple containing training losses, validation losses, and final test loss.\n",
    "    \"\"\"\n",
    "    train_losses = []\n",
    "    val_losses = []\n",
    "\n",
    "    for epoch in range(num_epochs):\n",
    "        # Training\n",
    "        model.train()\n",
    "        train_loss = 0\n",
    "        for features, targets in tqdm(train_loader, desc=f'Epoch {epoch+1}'):\n",
    "            features, targets = features.to(device), targets.to(device)\n",
    "            optimizer.zero_grad()\n",
    "            outputs = model(features)\n",
    "            loss = criterion(outputs, targets)\n",
    "            loss.backward()\n",
    "            optimizer.step()\n",
    "            train_loss += loss.item()\n",
    "        \n",
    "        # Validation\n",
    "        model.eval()\n",
    "        val_loss = 0\n",
    "        with torch.no_grad():\n",
    "            for features, targets in val_loader:\n",
    "                features, targets = features.to(device), targets.to(device)\n",
    "                outputs = model(features)\n",
    "                val_loss += criterion(outputs, targets).item()\n",
    "        \n",
    "        # Compute average losses\n",
    "        avg_train_loss = train_loss / len(train_loader)\n",
    "        avg_val_loss = val_loss / len(val_loader)\n",
    "        train_losses.append(avg_train_loss)\n",
    "        val_losses.append(avg_val_loss)\n",
    "\n",
    "        print(f'Epoch [{epoch+1}/{num_epochs}]')\n",
    "        print(f'Training Loss: {avg_train_loss:.4f}')\n",
    "        print(f'Validation Loss: {avg_val_loss:.4f}')\n",
    "    \n",
    "    # Testing\n",
    "    model.eval()\n",
    "    test_loss = 0\n",
    "    with torch.no_grad():\n",
    "        for features, targets in test_loader:\n",
    "            features, targets = features.to(device), targets.to(device)\n",
    "            outputs = model(features)\n",
    "            test_loss += criterion(outputs, targets).item()\n",
    "\n",
    "    final_test_loss = test_loss / len(test_loader)\n",
    "    print(f'\\nFinal Test Loss: {final_test_loss:.4f}')\n",
    "\n",
    "    return train_losses, val_losses, final_test_loss\n",
    "# Initialize model\n",
    "model = SnowDepthCNN()\n",
    "# Loss function: MAE is appropriate for continuous regression problems like snow depth\n",
    "criterion = nn.L1Loss()\n",
    "device = torch.device(\"cuda\" if torch.cuda.is_available() else \"cpu\")\n",
    "optimizer = torch.optim.Adam(model.parameters(), lr=0.001)\n",
    "num_epochs = 10\n",
    "# Call the function\n",
    "train_losses, val_losses, test_loss = train_and_evaluate_model(\n",
    "    model=model,\n",
    "    train_loader=train_loader,\n",
    "    val_loader=val_loader,\n",
    "    test_loader=test_loader,\n",
    "    criterion=criterion,\n",
    "    optimizer=optimizer,\n",
    "    num_epochs=num_epochs,\n",
    "    device=device\n",
    ")\n",
    "# remember our final test loss was below 0.6"
   ]
  },
  {
   "cell_type": "code",
   "execution_count": 55,
   "metadata": {},
   "outputs": [
    {
     "name": "stderr",
     "output_type": "stream",
     "text": [
      "Epoch 1: 100%|██████████| 78/78 [00:16<00:00,  4.60it/s]\n"
     ]
    },
    {
     "name": "stdout",
     "output_type": "stream",
     "text": [
      "Epoch [1/10]\n",
      "Training Loss: 0.5324\n",
      "Validation Loss: 0.4294\n"
     ]
    },
    {
     "name": "stderr",
     "output_type": "stream",
     "text": [
      "Epoch 2: 100%|██████████| 78/78 [00:13<00:00,  5.79it/s]\n"
     ]
    },
    {
     "name": "stdout",
     "output_type": "stream",
     "text": [
      "Epoch [2/10]\n",
      "Training Loss: 0.3311\n",
      "Validation Loss: 0.4100\n"
     ]
    },
    {
     "name": "stderr",
     "output_type": "stream",
     "text": [
      "Epoch 3: 100%|██████████| 78/78 [00:17<00:00,  4.44it/s]\n"
     ]
    },
    {
     "name": "stdout",
     "output_type": "stream",
     "text": [
      "Epoch [3/10]\n",
      "Training Loss: 0.3193\n",
      "Validation Loss: 0.4047\n"
     ]
    },
    {
     "name": "stderr",
     "output_type": "stream",
     "text": [
      "Epoch 4: 100%|██████████| 78/78 [00:14<00:00,  5.32it/s]\n"
     ]
    },
    {
     "name": "stdout",
     "output_type": "stream",
     "text": [
      "Epoch [4/10]\n",
      "Training Loss: 0.3136\n",
      "Validation Loss: 0.3987\n"
     ]
    },
    {
     "name": "stderr",
     "output_type": "stream",
     "text": [
      "Epoch 5: 100%|██████████| 78/78 [00:16<00:00,  4.63it/s]\n"
     ]
    },
    {
     "name": "stdout",
     "output_type": "stream",
     "text": [
      "Epoch [5/10]\n",
      "Training Loss: 0.3075\n",
      "Validation Loss: 0.3929\n"
     ]
    },
    {
     "name": "stderr",
     "output_type": "stream",
     "text": [
      "Epoch 6: 100%|██████████| 78/78 [00:14<00:00,  5.22it/s]\n"
     ]
    },
    {
     "name": "stdout",
     "output_type": "stream",
     "text": [
      "Epoch [6/10]\n",
      "Training Loss: 0.3038\n",
      "Validation Loss: 0.3890\n"
     ]
    },
    {
     "name": "stderr",
     "output_type": "stream",
     "text": [
      "Epoch 7: 100%|██████████| 78/78 [00:16<00:00,  4.79it/s]\n"
     ]
    },
    {
     "name": "stdout",
     "output_type": "stream",
     "text": [
      "Epoch [7/10]\n",
      "Training Loss: 0.2989\n",
      "Validation Loss: 0.3826\n"
     ]
    },
    {
     "name": "stderr",
     "output_type": "stream",
     "text": [
      "Epoch 8: 100%|██████████| 78/78 [00:13<00:00,  5.75it/s]\n"
     ]
    },
    {
     "name": "stdout",
     "output_type": "stream",
     "text": [
      "Epoch [8/10]\n",
      "Training Loss: 0.2961\n",
      "Validation Loss: 0.3731\n"
     ]
    },
    {
     "name": "stderr",
     "output_type": "stream",
     "text": [
      "Epoch 9: 100%|██████████| 78/78 [00:16<00:00,  4.73it/s]\n"
     ]
    },
    {
     "name": "stdout",
     "output_type": "stream",
     "text": [
      "Epoch [9/10]\n",
      "Training Loss: 0.2912\n",
      "Validation Loss: 0.3665\n"
     ]
    },
    {
     "name": "stderr",
     "output_type": "stream",
     "text": [
      "Epoch 10: 100%|██████████| 78/78 [00:13<00:00,  5.71it/s]\n"
     ]
    },
    {
     "name": "stdout",
     "output_type": "stream",
     "text": [
      "Epoch [10/10]\n",
      "Training Loss: 0.2870\n",
      "Validation Loss: 0.3630\n",
      "\n",
      "Final Test Loss: 0.2904\n"
     ]
    },
    {
     "name": "stderr",
     "output_type": "stream",
     "text": [
      "Epoch 1: 100%|██████████| 78/78 [00:15<00:00,  4.98it/s]\n"
     ]
    },
    {
     "name": "stdout",
     "output_type": "stream",
     "text": [
      "Epoch [1/10]\n",
      "Training Loss: 1.8228\n",
      "Validation Loss: 1.0100\n"
     ]
    },
    {
     "name": "stderr",
     "output_type": "stream",
     "text": [
      "Epoch 2: 100%|██████████| 78/78 [00:14<00:00,  5.51it/s]\n"
     ]
    },
    {
     "name": "stdout",
     "output_type": "stream",
     "text": [
      "Epoch [2/10]\n",
      "Training Loss: 1.0155\n",
      "Validation Loss: 0.9753\n"
     ]
    },
    {
     "name": "stderr",
     "output_type": "stream",
     "text": [
      "Epoch 3: 100%|██████████| 78/78 [00:17<00:00,  4.53it/s]\n"
     ]
    },
    {
     "name": "stdout",
     "output_type": "stream",
     "text": [
      "Epoch [3/10]\n",
      "Training Loss: 0.8764\n",
      "Validation Loss: 0.8564\n"
     ]
    },
    {
     "name": "stderr",
     "output_type": "stream",
     "text": [
      "Epoch 4: 100%|██████████| 78/78 [00:13<00:00,  5.81it/s]\n"
     ]
    },
    {
     "name": "stdout",
     "output_type": "stream",
     "text": [
      "Epoch [4/10]\n",
      "Training Loss: 0.6797\n",
      "Validation Loss: 0.8167\n"
     ]
    },
    {
     "name": "stderr",
     "output_type": "stream",
     "text": [
      "Epoch 5: 100%|██████████| 78/78 [00:13<00:00,  5.86it/s]\n"
     ]
    },
    {
     "name": "stdout",
     "output_type": "stream",
     "text": [
      "Epoch [5/10]\n",
      "Training Loss: 0.6380\n",
      "Validation Loss: 0.7892\n"
     ]
    },
    {
     "name": "stderr",
     "output_type": "stream",
     "text": [
      "Epoch 6: 100%|██████████| 78/78 [00:16<00:00,  4.66it/s]\n"
     ]
    },
    {
     "name": "stdout",
     "output_type": "stream",
     "text": [
      "Epoch [6/10]\n",
      "Training Loss: 0.6107\n",
      "Validation Loss: 0.7525\n"
     ]
    },
    {
     "name": "stderr",
     "output_type": "stream",
     "text": [
      "Epoch 7: 100%|██████████| 78/78 [00:15<00:00,  5.05it/s]\n"
     ]
    },
    {
     "name": "stdout",
     "output_type": "stream",
     "text": [
      "Epoch [7/10]\n",
      "Training Loss: 0.5899\n",
      "Validation Loss: 0.7258\n"
     ]
    },
    {
     "name": "stderr",
     "output_type": "stream",
     "text": [
      "Epoch 8: 100%|██████████| 78/78 [00:17<00:00,  4.45it/s]\n"
     ]
    },
    {
     "name": "stdout",
     "output_type": "stream",
     "text": [
      "Epoch [8/10]\n",
      "Training Loss: 0.5792\n",
      "Validation Loss: 0.7043\n"
     ]
    },
    {
     "name": "stderr",
     "output_type": "stream",
     "text": [
      "Epoch 9: 100%|██████████| 78/78 [00:15<00:00,  5.06it/s]\n"
     ]
    },
    {
     "name": "stdout",
     "output_type": "stream",
     "text": [
      "Epoch [9/10]\n",
      "Training Loss: 0.5705\n",
      "Validation Loss: 0.6777\n"
     ]
    },
    {
     "name": "stderr",
     "output_type": "stream",
     "text": [
      "Epoch 10: 100%|██████████| 78/78 [00:15<00:00,  5.00it/s]\n"
     ]
    },
    {
     "name": "stdout",
     "output_type": "stream",
     "text": [
      "Epoch [10/10]\n",
      "Training Loss: 0.5573\n",
      "Validation Loss: 0.6673\n",
      "\n",
      "Final Test Loss: 0.5525\n"
     ]
    },
    {
     "name": "stderr",
     "output_type": "stream",
     "text": [
      "Epoch 1: 100%|██████████| 78/78 [00:13<00:00,  5.93it/s]\n"
     ]
    },
    {
     "name": "stdout",
     "output_type": "stream",
     "text": [
      "Epoch [1/10]\n",
      "Training Loss: 2.6282\n",
      "Validation Loss: 2.7670\n"
     ]
    },
    {
     "name": "stderr",
     "output_type": "stream",
     "text": [
      "Epoch 2: 100%|██████████| 78/78 [00:14<00:00,  5.22it/s]\n"
     ]
    },
    {
     "name": "stdout",
     "output_type": "stream",
     "text": [
      "Epoch [2/10]\n",
      "Training Loss: 2.2075\n",
      "Validation Loss: 2.4674\n"
     ]
    },
    {
     "name": "stderr",
     "output_type": "stream",
     "text": [
      "Epoch 3: 100%|██████████| 78/78 [00:13<00:00,  5.92it/s]\n"
     ]
    },
    {
     "name": "stdout",
     "output_type": "stream",
     "text": [
      "Epoch [3/10]\n",
      "Training Loss: 1.6744\n",
      "Validation Loss: 1.7105\n"
     ]
    },
    {
     "name": "stderr",
     "output_type": "stream",
     "text": [
      "Epoch 4: 100%|██████████| 78/78 [00:17<00:00,  4.54it/s]\n"
     ]
    },
    {
     "name": "stdout",
     "output_type": "stream",
     "text": [
      "Epoch [4/10]\n",
      "Training Loss: 1.3325\n",
      "Validation Loss: 1.6859\n"
     ]
    },
    {
     "name": "stderr",
     "output_type": "stream",
     "text": [
      "Epoch 5: 100%|██████████| 78/78 [00:15<00:00,  5.00it/s]\n"
     ]
    },
    {
     "name": "stdout",
     "output_type": "stream",
     "text": [
      "Epoch [5/10]\n",
      "Training Loss: 1.3074\n",
      "Validation Loss: 1.6419\n"
     ]
    },
    {
     "name": "stderr",
     "output_type": "stream",
     "text": [
      "Epoch 6: 100%|██████████| 78/78 [00:17<00:00,  4.41it/s]\n"
     ]
    },
    {
     "name": "stdout",
     "output_type": "stream",
     "text": [
      "Epoch [6/10]\n",
      "Training Loss: 1.2721\n",
      "Validation Loss: 1.6283\n"
     ]
    },
    {
     "name": "stderr",
     "output_type": "stream",
     "text": [
      "Epoch 7: 100%|██████████| 78/78 [00:15<00:00,  4.96it/s]\n"
     ]
    },
    {
     "name": "stdout",
     "output_type": "stream",
     "text": [
      "Epoch [7/10]\n",
      "Training Loss: 1.2595\n",
      "Validation Loss: 1.6033\n"
     ]
    },
    {
     "name": "stderr",
     "output_type": "stream",
     "text": [
      "Epoch 8: 100%|██████████| 78/78 [00:17<00:00,  4.39it/s]\n"
     ]
    },
    {
     "name": "stdout",
     "output_type": "stream",
     "text": [
      "Epoch [8/10]\n",
      "Training Loss: 1.2329\n",
      "Validation Loss: 1.5833\n"
     ]
    },
    {
     "name": "stderr",
     "output_type": "stream",
     "text": [
      "Epoch 9: 100%|██████████| 78/78 [00:15<00:00,  5.01it/s]\n"
     ]
    },
    {
     "name": "stdout",
     "output_type": "stream",
     "text": [
      "Epoch [9/10]\n",
      "Training Loss: 1.2061\n",
      "Validation Loss: 1.5531\n"
     ]
    },
    {
     "name": "stderr",
     "output_type": "stream",
     "text": [
      "Epoch 10: 100%|██████████| 78/78 [00:17<00:00,  4.45it/s]\n"
     ]
    },
    {
     "name": "stdout",
     "output_type": "stream",
     "text": [
      "Epoch [10/10]\n",
      "Training Loss: 1.1833\n",
      "Validation Loss: 1.5022\n",
      "\n",
      "Final Test Loss: 1.1856\n"
     ]
    },
    {
     "name": "stderr",
     "output_type": "stream",
     "text": [
      "Epoch 1: 100%|██████████| 78/78 [00:15<00:00,  5.08it/s]\n"
     ]
    },
    {
     "name": "stdout",
     "output_type": "stream",
     "text": [
      "Epoch [1/10]\n",
      "Training Loss: 263622.3526\n",
      "Validation Loss: 194237.0212\n"
     ]
    },
    {
     "name": "stderr",
     "output_type": "stream",
     "text": [
      "Epoch 2: 100%|██████████| 78/78 [00:17<00:00,  4.39it/s]\n"
     ]
    },
    {
     "name": "stdout",
     "output_type": "stream",
     "text": [
      "Epoch [2/10]\n",
      "Training Loss: 168216.6552\n",
      "Validation Loss: 180453.7051\n"
     ]
    },
    {
     "name": "stderr",
     "output_type": "stream",
     "text": [
      "Epoch 3: 100%|██████████| 78/78 [00:15<00:00,  5.05it/s]\n"
     ]
    },
    {
     "name": "stdout",
     "output_type": "stream",
     "text": [
      "Epoch [3/10]\n",
      "Training Loss: 160272.6587\n",
      "Validation Loss: 179533.4639\n"
     ]
    },
    {
     "name": "stderr",
     "output_type": "stream",
     "text": [
      "Epoch 4: 100%|██████████| 78/78 [00:17<00:00,  4.49it/s]\n"
     ]
    },
    {
     "name": "stdout",
     "output_type": "stream",
     "text": [
      "Epoch [4/10]\n",
      "Training Loss: 159253.9284\n",
      "Validation Loss: 177796.0745\n"
     ]
    },
    {
     "name": "stderr",
     "output_type": "stream",
     "text": [
      "Epoch 5: 100%|██████████| 78/78 [00:15<00:00,  5.10it/s]\n"
     ]
    },
    {
     "name": "stdout",
     "output_type": "stream",
     "text": [
      "Epoch [5/10]\n",
      "Training Loss: 158030.5673\n",
      "Validation Loss: 175895.4774\n"
     ]
    },
    {
     "name": "stderr",
     "output_type": "stream",
     "text": [
      "Epoch 6: 100%|██████████| 78/78 [00:17<00:00,  4.48it/s]\n"
     ]
    },
    {
     "name": "stdout",
     "output_type": "stream",
     "text": [
      "Epoch [6/10]\n",
      "Training Loss: 156778.2640\n",
      "Validation Loss: 174146.9800\n"
     ]
    },
    {
     "name": "stderr",
     "output_type": "stream",
     "text": [
      "Epoch 7: 100%|██████████| 78/78 [00:15<00:00,  5.11it/s]\n"
     ]
    },
    {
     "name": "stdout",
     "output_type": "stream",
     "text": [
      "Epoch [7/10]\n",
      "Training Loss: 155369.3051\n",
      "Validation Loss: 172452.4300\n"
     ]
    },
    {
     "name": "stderr",
     "output_type": "stream",
     "text": [
      "Epoch 8: 100%|██████████| 78/78 [00:17<00:00,  4.39it/s]\n"
     ]
    },
    {
     "name": "stdout",
     "output_type": "stream",
     "text": [
      "Epoch [8/10]\n",
      "Training Loss: 153580.3467\n",
      "Validation Loss: 171415.1956\n"
     ]
    },
    {
     "name": "stderr",
     "output_type": "stream",
     "text": [
      "Epoch 9: 100%|██████████| 78/78 [00:15<00:00,  5.00it/s]\n"
     ]
    },
    {
     "name": "stdout",
     "output_type": "stream",
     "text": [
      "Epoch [9/10]\n",
      "Training Loss: 151598.5502\n",
      "Validation Loss: 166859.4489\n"
     ]
    },
    {
     "name": "stderr",
     "output_type": "stream",
     "text": [
      "Epoch 10: 100%|██████████| 78/78 [00:17<00:00,  4.39it/s]\n"
     ]
    },
    {
     "name": "stdout",
     "output_type": "stream",
     "text": [
      "Epoch [10/10]\n",
      "Training Loss: 148769.7965\n",
      "Validation Loss: 162994.0365\n",
      "\n",
      "Final Test Loss: 145722.5017\n"
     ]
    },
    {
     "name": "stderr",
     "output_type": "stream",
     "text": [
      "Epoch 1: 100%|██████████| 78/78 [00:15<00:00,  5.15it/s]\n"
     ]
    },
    {
     "name": "stdout",
     "output_type": "stream",
     "text": [
      "Epoch [1/10]\n",
      "Training Loss: 585621.8856\n",
      "Validation Loss: 412958.7575\n"
     ]
    },
    {
     "name": "stderr",
     "output_type": "stream",
     "text": [
      "Epoch 2: 100%|██████████| 78/78 [00:17<00:00,  4.49it/s]\n"
     ]
    },
    {
     "name": "stdout",
     "output_type": "stream",
     "text": [
      "Epoch [2/10]\n",
      "Training Loss: 354009.2003\n",
      "Validation Loss: 387639.9486\n"
     ]
    },
    {
     "name": "stderr",
     "output_type": "stream",
     "text": [
      "Epoch 3: 100%|██████████| 78/78 [00:15<00:00,  5.07it/s]\n"
     ]
    },
    {
     "name": "stdout",
     "output_type": "stream",
     "text": [
      "Epoch [3/10]\n",
      "Training Loss: 338274.2929\n",
      "Validation Loss: 360571.1768\n"
     ]
    },
    {
     "name": "stderr",
     "output_type": "stream",
     "text": [
      "Epoch 4: 100%|██████████| 78/78 [00:15<00:00,  5.13it/s]\n"
     ]
    },
    {
     "name": "stdout",
     "output_type": "stream",
     "text": [
      "Epoch [4/10]\n",
      "Training Loss: 332038.5691\n",
      "Validation Loss: 356511.7637\n"
     ]
    },
    {
     "name": "stderr",
     "output_type": "stream",
     "text": [
      "Epoch 5: 100%|██████████| 78/78 [00:13<00:00,  6.00it/s]\n"
     ]
    },
    {
     "name": "stdout",
     "output_type": "stream",
     "text": [
      "Epoch [5/10]\n",
      "Training Loss: 324835.9172\n",
      "Validation Loss: 342060.7467\n"
     ]
    },
    {
     "name": "stderr",
     "output_type": "stream",
     "text": [
      "Epoch 6: 100%|██████████| 78/78 [00:15<00:00,  5.14it/s]\n"
     ]
    },
    {
     "name": "stdout",
     "output_type": "stream",
     "text": [
      "Epoch [6/10]\n",
      "Training Loss: 305998.2314\n",
      "Validation Loss: 332142.7907\n"
     ]
    },
    {
     "name": "stderr",
     "output_type": "stream",
     "text": [
      "Epoch 7: 100%|██████████| 78/78 [00:13<00:00,  5.96it/s]\n"
     ]
    },
    {
     "name": "stdout",
     "output_type": "stream",
     "text": [
      "Epoch [7/10]\n",
      "Training Loss: 299170.3562\n",
      "Validation Loss: 322744.5319\n"
     ]
    },
    {
     "name": "stderr",
     "output_type": "stream",
     "text": [
      "Epoch 8: 100%|██████████| 78/78 [00:15<00:00,  5.15it/s]\n"
     ]
    },
    {
     "name": "stdout",
     "output_type": "stream",
     "text": [
      "Epoch [8/10]\n",
      "Training Loss: 293210.8620\n",
      "Validation Loss: 317029.1686\n"
     ]
    },
    {
     "name": "stderr",
     "output_type": "stream",
     "text": [
      "Epoch 9: 100%|██████████| 78/78 [00:13<00:00,  5.86it/s]\n"
     ]
    },
    {
     "name": "stdout",
     "output_type": "stream",
     "text": [
      "Epoch [9/10]\n",
      "Training Loss: 289830.1394\n",
      "Validation Loss: 309477.0501\n"
     ]
    },
    {
     "name": "stderr",
     "output_type": "stream",
     "text": [
      "Epoch 10: 100%|██████████| 78/78 [00:12<00:00,  6.04it/s]\n"
     ]
    },
    {
     "name": "stdout",
     "output_type": "stream",
     "text": [
      "Epoch [10/10]\n",
      "Training Loss: 285890.7623\n",
      "Validation Loss: 306517.4603\n",
      "\n",
      "Final Test Loss: 279884.3400\n"
     ]
    },
    {
     "name": "stderr",
     "output_type": "stream",
     "text": [
      "Epoch 1: 100%|██████████| 78/78 [00:12<00:00,  6.07it/s]\n"
     ]
    },
    {
     "name": "stdout",
     "output_type": "stream",
     "text": [
      "Epoch [1/10]\n",
      "Training Loss: 1326795.8129\n",
      "Validation Loss: 1040520.5833\n"
     ]
    },
    {
     "name": "stderr",
     "output_type": "stream",
     "text": [
      "Epoch 2: 100%|██████████| 78/78 [00:13<00:00,  5.93it/s]\n"
     ]
    },
    {
     "name": "stdout",
     "output_type": "stream",
     "text": [
      "Epoch [2/10]\n",
      "Training Loss: 1132475.5429\n",
      "Validation Loss: 761785.5339\n"
     ]
    },
    {
     "name": "stderr",
     "output_type": "stream",
     "text": [
      "Epoch 3: 100%|██████████| 78/78 [00:15<00:00,  5.01it/s]\n"
     ]
    },
    {
     "name": "stdout",
     "output_type": "stream",
     "text": [
      "Epoch [3/10]\n",
      "Training Loss: 689400.1887\n",
      "Validation Loss: 736806.6315\n"
     ]
    },
    {
     "name": "stderr",
     "output_type": "stream",
     "text": [
      "Epoch 4: 100%|██████████| 78/78 [00:13<00:00,  5.92it/s]\n"
     ]
    },
    {
     "name": "stdout",
     "output_type": "stream",
     "text": [
      "Epoch [4/10]\n",
      "Training Loss: 709686.6562\n",
      "Validation Loss: 727990.2135\n"
     ]
    },
    {
     "name": "stderr",
     "output_type": "stream",
     "text": [
      "Epoch 5: 100%|██████████| 78/78 [00:15<00:00,  5.07it/s]\n"
     ]
    },
    {
     "name": "stdout",
     "output_type": "stream",
     "text": [
      "Epoch [5/10]\n",
      "Training Loss: 668810.2839\n",
      "Validation Loss: 718808.2884\n"
     ]
    },
    {
     "name": "stderr",
     "output_type": "stream",
     "text": [
      "Epoch 6: 100%|██████████| 78/78 [00:13<00:00,  5.91it/s]\n"
     ]
    },
    {
     "name": "stdout",
     "output_type": "stream",
     "text": [
      "Epoch [6/10]\n",
      "Training Loss: 638921.7143\n",
      "Validation Loss: 689354.0339\n"
     ]
    },
    {
     "name": "stderr",
     "output_type": "stream",
     "text": [
      "Epoch 7: 100%|██████████| 78/78 [00:15<00:00,  5.09it/s]\n"
     ]
    },
    {
     "name": "stdout",
     "output_type": "stream",
     "text": [
      "Epoch [7/10]\n",
      "Training Loss: 620386.8830\n",
      "Validation Loss: 665378.7422\n"
     ]
    },
    {
     "name": "stderr",
     "output_type": "stream",
     "text": [
      "Epoch 8: 100%|██████████| 78/78 [00:13<00:00,  5.90it/s]\n"
     ]
    },
    {
     "name": "stdout",
     "output_type": "stream",
     "text": [
      "Epoch [8/10]\n",
      "Training Loss: 600612.4872\n",
      "Validation Loss: 640275.5592\n"
     ]
    },
    {
     "name": "stderr",
     "output_type": "stream",
     "text": [
      "Epoch 9: 100%|██████████| 78/78 [00:12<00:00,  6.01it/s]\n"
     ]
    },
    {
     "name": "stdout",
     "output_type": "stream",
     "text": [
      "Epoch [9/10]\n",
      "Training Loss: 586830.3321\n",
      "Validation Loss: 630830.1973\n"
     ]
    },
    {
     "name": "stderr",
     "output_type": "stream",
     "text": [
      "Epoch 10: 100%|██████████| 78/78 [00:15<00:00,  5.03it/s]\n"
     ]
    },
    {
     "name": "stdout",
     "output_type": "stream",
     "text": [
      "Epoch [10/10]\n",
      "Training Loss: 585726.7648\n",
      "Validation Loss: 626670.3522\n",
      "\n",
      "Final Test Loss: 574411.6272\n",
      "\n",
      "Best loss function configuration:\n",
      "Reduction: mean\n",
      "Beta: 0.5\n",
      "Test loss: 0.2904\n"
     ]
    }
   ],
   "source": [
    "# first, let's do a baby grid search for the loss function:\n",
    "# Define loss function hyperparameter grid\n",
    "loss_param_grid = {\n",
    "    'reduction': ['mean', 'sum'],\n",
    "    'beta': [0.5, 1.0, 2.0]  # Weight factor for the loss\n",
    "}\n",
    "\n",
    "# Results storage\n",
    "results = []\n",
    "\n",
    "# Grid search over loss function parameters\n",
    "for reduction in loss_param_grid['reduction']:\n",
    "    for beta in loss_param_grid['beta']:\n",
    "        # Initialize model\n",
    "        model = SnowDepthCNN()\n",
    "        model = model.to(device)\n",
    "        \n",
    "        # Initialize loss with current parameters\n",
    "        criterion = nn.L1Loss(reduction=reduction)\n",
    "        if beta != 1.0:\n",
    "            criterion = lambda x, y: beta * nn.L1Loss(reduction=reduction)(x, y)\n",
    "            \n",
    "        optimizer = torch.optim.Adam(model.parameters(), lr=0.001)\n",
    "        \n",
    "        # Train and evaluate\n",
    "        train_losses, val_losses, test_loss = train_and_evaluate_model(\n",
    "            model=model,\n",
    "            train_loader=train_loader,\n",
    "            val_loader=val_loader,\n",
    "            test_loader=test_loader,\n",
    "            criterion=criterion,\n",
    "            optimizer=optimizer,\n",
    "            num_epochs=num_epochs,\n",
    "            device=device\n",
    "        )\n",
    "        \n",
    "        results.append({\n",
    "            'reduction': reduction,\n",
    "            'beta': beta,\n",
    "            'test_loss': test_loss,\n",
    "            'final_val_loss': val_losses[-1]\n",
    "        })\n",
    "\n",
    "# Find best configuration\n",
    "best_result = min(results, key=lambda x: x['test_loss'])\n",
    "print(\"\\nBest loss function configuration:\")\n",
    "print(f\"Reduction: {best_result['reduction']}\")\n",
    "print(f\"Beta: {best_result['beta']}\")\n",
    "print(f\"Test loss: {best_result['test_loss']:.4f}\")\n"
   ]
  },
  {
   "cell_type": "code",
   "execution_count": null,
   "metadata": {},
   "outputs": [],
   "source": [
    "# ok wow, that minimum loss from the somewhat-optimal loss parameters is pretty incredible\n",
    "# the summed lopss is harder to interpret, so let's just skip that"
   ]
  },
  {
   "cell_type": "code",
   "execution_count": 56,
   "metadata": {},
   "outputs": [
    {
     "name": "stderr",
     "output_type": "stream",
     "text": [
      "Epoch 1: 100%|██████████| 78/78 [00:15<00:00,  5.14it/s]\n"
     ]
    },
    {
     "name": "stdout",
     "output_type": "stream",
     "text": [
      "Epoch [1/10]\n",
      "Training Loss: 0.6842\n",
      "Validation Loss: 0.4623\n"
     ]
    },
    {
     "name": "stderr",
     "output_type": "stream",
     "text": [
      "Epoch 2: 100%|██████████| 78/78 [00:17<00:00,  4.34it/s]\n"
     ]
    },
    {
     "name": "stdout",
     "output_type": "stream",
     "text": [
      "Epoch [2/10]\n",
      "Training Loss: 0.6074\n",
      "Validation Loss: 0.6001\n"
     ]
    },
    {
     "name": "stderr",
     "output_type": "stream",
     "text": [
      "Epoch 3: 100%|██████████| 78/78 [00:15<00:00,  5.07it/s]\n"
     ]
    },
    {
     "name": "stdout",
     "output_type": "stream",
     "text": [
      "Epoch [3/10]\n",
      "Training Loss: 0.4905\n",
      "Validation Loss: 0.4296\n"
     ]
    },
    {
     "name": "stderr",
     "output_type": "stream",
     "text": [
      "Epoch 4: 100%|██████████| 78/78 [00:18<00:00,  4.29it/s]\n"
     ]
    },
    {
     "name": "stdout",
     "output_type": "stream",
     "text": [
      "Epoch [4/10]\n",
      "Training Loss: 0.3462\n",
      "Validation Loss: 0.4155\n"
     ]
    },
    {
     "name": "stderr",
     "output_type": "stream",
     "text": [
      "Epoch 5: 100%|██████████| 78/78 [00:15<00:00,  5.01it/s]\n"
     ]
    },
    {
     "name": "stdout",
     "output_type": "stream",
     "text": [
      "Epoch [5/10]\n",
      "Training Loss: 0.3318\n",
      "Validation Loss: 0.4122\n"
     ]
    },
    {
     "name": "stderr",
     "output_type": "stream",
     "text": [
      "Epoch 6: 100%|██████████| 78/78 [00:18<00:00,  4.32it/s]\n"
     ]
    },
    {
     "name": "stdout",
     "output_type": "stream",
     "text": [
      "Epoch [6/10]\n",
      "Training Loss: 0.3274\n",
      "Validation Loss: 0.4067\n"
     ]
    },
    {
     "name": "stderr",
     "output_type": "stream",
     "text": [
      "Epoch 7: 100%|██████████| 78/78 [00:15<00:00,  5.04it/s]\n"
     ]
    },
    {
     "name": "stdout",
     "output_type": "stream",
     "text": [
      "Epoch [7/10]\n",
      "Training Loss: 0.3169\n",
      "Validation Loss: 0.4075\n"
     ]
    },
    {
     "name": "stderr",
     "output_type": "stream",
     "text": [
      "Epoch 8: 100%|██████████| 78/78 [00:16<00:00,  4.67it/s]\n"
     ]
    },
    {
     "name": "stdout",
     "output_type": "stream",
     "text": [
      "Epoch [8/10]\n",
      "Training Loss: 0.3210\n",
      "Validation Loss: 0.3939\n"
     ]
    },
    {
     "name": "stderr",
     "output_type": "stream",
     "text": [
      "Epoch 9: 100%|██████████| 78/78 [00:13<00:00,  5.94it/s]\n"
     ]
    },
    {
     "name": "stdout",
     "output_type": "stream",
     "text": [
      "Epoch [9/10]\n",
      "Training Loss: 0.3055\n",
      "Validation Loss: 0.3679\n"
     ]
    },
    {
     "name": "stderr",
     "output_type": "stream",
     "text": [
      "Epoch 10: 100%|██████████| 78/78 [00:15<00:00,  4.93it/s]\n"
     ]
    },
    {
     "name": "stdout",
     "output_type": "stream",
     "text": [
      "Epoch [10/10]\n",
      "Training Loss: 0.2887\n",
      "Validation Loss: 0.3537\n",
      "\n",
      "Final Test Loss: 0.2878\n"
     ]
    },
    {
     "name": "stderr",
     "output_type": "stream",
     "text": [
      "Epoch 1: 100%|██████████| 78/78 [00:13<00:00,  5.98it/s]\n"
     ]
    },
    {
     "name": "stdout",
     "output_type": "stream",
     "text": [
      "Epoch [1/10]\n",
      "Training Loss: 0.7596\n",
      "Validation Loss: 0.4596\n"
     ]
    },
    {
     "name": "stderr",
     "output_type": "stream",
     "text": [
      "Epoch 2: 100%|██████████| 78/78 [00:16<00:00,  4.86it/s]\n"
     ]
    },
    {
     "name": "stdout",
     "output_type": "stream",
     "text": [
      "Epoch [2/10]\n",
      "Training Loss: 0.3889\n",
      "Validation Loss: 0.4153\n"
     ]
    },
    {
     "name": "stderr",
     "output_type": "stream",
     "text": [
      "Epoch 3: 100%|██████████| 78/78 [00:12<00:00,  6.00it/s]\n"
     ]
    },
    {
     "name": "stdout",
     "output_type": "stream",
     "text": [
      "Epoch [3/10]\n",
      "Training Loss: 0.3822\n",
      "Validation Loss: 0.4083\n"
     ]
    },
    {
     "name": "stderr",
     "output_type": "stream",
     "text": [
      "Epoch 4: 100%|██████████| 78/78 [00:13<00:00,  5.94it/s]\n"
     ]
    },
    {
     "name": "stdout",
     "output_type": "stream",
     "text": [
      "Epoch [4/10]\n",
      "Training Loss: 0.3205\n",
      "Validation Loss: 0.3975\n"
     ]
    },
    {
     "name": "stderr",
     "output_type": "stream",
     "text": [
      "Epoch 5: 100%|██████████| 78/78 [00:15<00:00,  5.04it/s]\n"
     ]
    },
    {
     "name": "stdout",
     "output_type": "stream",
     "text": [
      "Epoch [5/10]\n",
      "Training Loss: 0.3157\n",
      "Validation Loss: 0.3841\n"
     ]
    },
    {
     "name": "stderr",
     "output_type": "stream",
     "text": [
      "Epoch 6: 100%|██████████| 78/78 [00:13<00:00,  5.92it/s]\n"
     ]
    },
    {
     "name": "stdout",
     "output_type": "stream",
     "text": [
      "Epoch [6/10]\n",
      "Training Loss: 0.2988\n",
      "Validation Loss: 0.3780\n"
     ]
    },
    {
     "name": "stderr",
     "output_type": "stream",
     "text": [
      "Epoch 7: 100%|██████████| 78/78 [00:15<00:00,  5.05it/s]\n"
     ]
    },
    {
     "name": "stdout",
     "output_type": "stream",
     "text": [
      "Epoch [7/10]\n",
      "Training Loss: 0.2938\n",
      "Validation Loss: 0.3681\n"
     ]
    },
    {
     "name": "stderr",
     "output_type": "stream",
     "text": [
      "Epoch 8: 100%|██████████| 78/78 [00:12<00:00,  6.02it/s]\n"
     ]
    },
    {
     "name": "stdout",
     "output_type": "stream",
     "text": [
      "Epoch [8/10]\n",
      "Training Loss: 0.2905\n",
      "Validation Loss: 0.3628\n"
     ]
    },
    {
     "name": "stderr",
     "output_type": "stream",
     "text": [
      "Epoch 9: 100%|██████████| 78/78 [00:15<00:00,  5.18it/s]\n"
     ]
    },
    {
     "name": "stdout",
     "output_type": "stream",
     "text": [
      "Epoch [9/10]\n",
      "Training Loss: 0.2854\n",
      "Validation Loss: 0.3587\n"
     ]
    },
    {
     "name": "stderr",
     "output_type": "stream",
     "text": [
      "Epoch 10: 100%|██████████| 78/78 [00:13<00:00,  5.82it/s]\n"
     ]
    },
    {
     "name": "stdout",
     "output_type": "stream",
     "text": [
      "Epoch [10/10]\n",
      "Training Loss: 0.2861\n",
      "Validation Loss: 0.3641\n",
      "\n",
      "Final Test Loss: 0.2979\n"
     ]
    },
    {
     "name": "stderr",
     "output_type": "stream",
     "text": [
      "Epoch 1: 100%|██████████| 78/78 [00:22<00:00,  3.45it/s]\n"
     ]
    },
    {
     "name": "stdout",
     "output_type": "stream",
     "text": [
      "Epoch [1/10]\n",
      "Training Loss: 0.8167\n",
      "Validation Loss: 0.4301\n"
     ]
    },
    {
     "name": "stderr",
     "output_type": "stream",
     "text": [
      "Epoch 2: 100%|██████████| 78/78 [00:25<00:00,  3.05it/s]\n"
     ]
    },
    {
     "name": "stdout",
     "output_type": "stream",
     "text": [
      "Epoch [2/10]\n",
      "Training Loss: 0.4252\n",
      "Validation Loss: 0.4898\n"
     ]
    },
    {
     "name": "stderr",
     "output_type": "stream",
     "text": [
      "Epoch 3: 100%|██████████| 78/78 [00:25<00:00,  3.10it/s]\n"
     ]
    },
    {
     "name": "stdout",
     "output_type": "stream",
     "text": [
      "Epoch [3/10]\n",
      "Training Loss: 0.3633\n",
      "Validation Loss: 0.4325\n"
     ]
    },
    {
     "name": "stderr",
     "output_type": "stream",
     "text": [
      "Epoch 4: 100%|██████████| 78/78 [00:26<00:00,  2.90it/s]\n"
     ]
    },
    {
     "name": "stdout",
     "output_type": "stream",
     "text": [
      "Epoch [4/10]\n",
      "Training Loss: 0.3811\n",
      "Validation Loss: 0.4341\n"
     ]
    },
    {
     "name": "stderr",
     "output_type": "stream",
     "text": [
      "Epoch 5: 100%|██████████| 78/78 [00:27<00:00,  2.85it/s]\n"
     ]
    },
    {
     "name": "stdout",
     "output_type": "stream",
     "text": [
      "Epoch [5/10]\n",
      "Training Loss: 0.3505\n",
      "Validation Loss: 0.4244\n"
     ]
    },
    {
     "name": "stderr",
     "output_type": "stream",
     "text": [
      "Epoch 6: 100%|██████████| 78/78 [00:28<00:00,  2.74it/s]\n"
     ]
    },
    {
     "name": "stdout",
     "output_type": "stream",
     "text": [
      "Epoch [6/10]\n",
      "Training Loss: 0.3376\n",
      "Validation Loss: 0.4040\n"
     ]
    },
    {
     "name": "stderr",
     "output_type": "stream",
     "text": [
      "Epoch 7: 100%|██████████| 78/78 [00:26<00:00,  2.92it/s]\n"
     ]
    },
    {
     "name": "stdout",
     "output_type": "stream",
     "text": [
      "Epoch [7/10]\n",
      "Training Loss: 0.3329\n",
      "Validation Loss: 0.4189\n"
     ]
    },
    {
     "name": "stderr",
     "output_type": "stream",
     "text": [
      "Epoch 8: 100%|██████████| 78/78 [00:26<00:00,  3.00it/s]\n"
     ]
    },
    {
     "name": "stdout",
     "output_type": "stream",
     "text": [
      "Epoch [8/10]\n",
      "Training Loss: 0.3264\n",
      "Validation Loss: 0.3907\n"
     ]
    },
    {
     "name": "stderr",
     "output_type": "stream",
     "text": [
      "Epoch 9: 100%|██████████| 78/78 [00:27<00:00,  2.88it/s]\n"
     ]
    },
    {
     "name": "stdout",
     "output_type": "stream",
     "text": [
      "Epoch [9/10]\n",
      "Training Loss: 0.3161\n",
      "Validation Loss: 0.3859\n"
     ]
    },
    {
     "name": "stderr",
     "output_type": "stream",
     "text": [
      "Epoch 10: 100%|██████████| 78/78 [00:27<00:00,  2.82it/s]\n"
     ]
    },
    {
     "name": "stdout",
     "output_type": "stream",
     "text": [
      "Epoch [10/10]\n",
      "Training Loss: 0.3088\n",
      "Validation Loss: 0.3762\n",
      "\n",
      "Final Test Loss: 0.3031\n"
     ]
    },
    {
     "name": "stderr",
     "output_type": "stream",
     "text": [
      "Epoch 1: 100%|██████████| 78/78 [00:20<00:00,  3.81it/s]\n"
     ]
    },
    {
     "name": "stdout",
     "output_type": "stream",
     "text": [
      "Epoch [1/10]\n",
      "Training Loss: 0.3117\n",
      "Validation Loss: 0.4046\n"
     ]
    },
    {
     "name": "stderr",
     "output_type": "stream",
     "text": [
      "Epoch 2: 100%|██████████| 78/78 [00:18<00:00,  4.20it/s]\n"
     ]
    },
    {
     "name": "stdout",
     "output_type": "stream",
     "text": [
      "Epoch [2/10]\n",
      "Training Loss: 0.3067\n",
      "Validation Loss: 0.4046\n"
     ]
    },
    {
     "name": "stderr",
     "output_type": "stream",
     "text": [
      "Epoch 3: 100%|██████████| 78/78 [00:20<00:00,  3.72it/s]\n"
     ]
    },
    {
     "name": "stdout",
     "output_type": "stream",
     "text": [
      "Epoch [3/10]\n",
      "Training Loss: 0.3069\n",
      "Validation Loss: 0.4025\n"
     ]
    },
    {
     "name": "stderr",
     "output_type": "stream",
     "text": [
      "Epoch 4: 100%|██████████| 78/78 [00:20<00:00,  3.76it/s]\n"
     ]
    },
    {
     "name": "stdout",
     "output_type": "stream",
     "text": [
      "Epoch [4/10]\n",
      "Training Loss: 0.3064\n",
      "Validation Loss: 0.4011\n"
     ]
    },
    {
     "name": "stderr",
     "output_type": "stream",
     "text": [
      "Epoch 5: 100%|██████████| 78/78 [00:18<00:00,  4.20it/s]\n"
     ]
    },
    {
     "name": "stdout",
     "output_type": "stream",
     "text": [
      "Epoch [5/10]\n",
      "Training Loss: 0.3056\n",
      "Validation Loss: 0.3994\n"
     ]
    },
    {
     "name": "stderr",
     "output_type": "stream",
     "text": [
      "Epoch 6: 100%|██████████| 78/78 [00:20<00:00,  3.80it/s]\n"
     ]
    },
    {
     "name": "stdout",
     "output_type": "stream",
     "text": [
      "Epoch [6/10]\n",
      "Training Loss: 0.3069\n",
      "Validation Loss: 0.3980\n"
     ]
    },
    {
     "name": "stderr",
     "output_type": "stream",
     "text": [
      "Epoch 7: 100%|██████████| 78/78 [00:18<00:00,  4.21it/s]\n"
     ]
    },
    {
     "name": "stdout",
     "output_type": "stream",
     "text": [
      "Epoch [7/10]\n",
      "Training Loss: 0.3042\n",
      "Validation Loss: 0.3977\n"
     ]
    },
    {
     "name": "stderr",
     "output_type": "stream",
     "text": [
      "Epoch 8: 100%|██████████| 78/78 [00:20<00:00,  3.79it/s]\n"
     ]
    },
    {
     "name": "stdout",
     "output_type": "stream",
     "text": [
      "Epoch [8/10]\n",
      "Training Loss: 0.3049\n",
      "Validation Loss: 0.3930\n"
     ]
    },
    {
     "name": "stderr",
     "output_type": "stream",
     "text": [
      "Epoch 9: 100%|██████████| 78/78 [00:20<00:00,  3.76it/s]\n"
     ]
    },
    {
     "name": "stdout",
     "output_type": "stream",
     "text": [
      "Epoch [9/10]\n",
      "Training Loss: 0.3033\n",
      "Validation Loss: 0.3883\n"
     ]
    },
    {
     "name": "stderr",
     "output_type": "stream",
     "text": [
      "Epoch 10: 100%|██████████| 78/78 [00:18<00:00,  4.22it/s]\n"
     ]
    },
    {
     "name": "stdout",
     "output_type": "stream",
     "text": [
      "Epoch [10/10]\n",
      "Training Loss: 0.3020\n",
      "Validation Loss: 0.3879\n",
      "\n",
      "Final Test Loss: 0.3081\n",
      "\n",
      "Best activation function:\n",
      "Activation: ReLU\n",
      "Test loss: 0.2878\n"
     ]
    }
   ],
   "source": [
    "# now let's do activation functions\n",
    "# and implement those awesome loss function parameters\n",
    "activation_functions = [torch.nn.ReLU(), torch.nn.LeakyReLU(), torch.nn.ELU(), torch.nn.Sigmoid()]\n",
    "\n",
    "class SnowDepthCNN(nn.Module):\n",
    "    def __init__(self, activation=nn.ReLU()):\n",
    "        super(SnowDepthCNN, self).__init__()\n",
    "        self.conv1 = nn.Conv2d(in_channels=13, out_channels=32, kernel_size=3, padding=1)\n",
    "        self.conv2 = nn.Conv2d(in_channels=32, out_channels=16, kernel_size=3, padding=1)\n",
    "        self.conv3 = nn.Conv2d(in_channels=16, out_channels=1, kernel_size=1)\n",
    "        self.activation = activation\n",
    "\n",
    "    def forward(self, x):\n",
    "        x = self.activation(self.conv1(x))\n",
    "        x = self.activation(self.conv2(x))\n",
    "        x = self.conv3(x)\n",
    "        return x.squeeze(1)\n",
    "\n",
    "# Custom L1Loss with beta=0.5\n",
    "class CustomL1Loss(nn.Module):\n",
    "    def __init__(self, beta=0.5):\n",
    "        super(CustomL1Loss, self).__init__()\n",
    "        self.beta = beta\n",
    "        self.base_loss = nn.L1Loss(reduction='mean')\n",
    "    \n",
    "    def forward(self, pred, target):\n",
    "        return self.beta * self.base_loss(pred, target)\n",
    "\n",
    "# Test different activation functions\n",
    "activation_functions = [nn.ReLU(), nn.LeakyReLU(), nn.ELU(), nn.Sigmoid()]\n",
    "results = []\n",
    "\n",
    "for activation in activation_functions:\n",
    "    model = SnowDepthCNN(activation=activation)\n",
    "    model = model.to(device)\n",
    "    criterion = CustomL1Loss(beta=0.5)\n",
    "    optimizer = torch.optim.Adam(model.parameters(), lr=0.001)\n",
    "    \n",
    "    train_losses, val_losses, test_loss = train_and_evaluate_model(\n",
    "        model=model,\n",
    "        train_loader=train_loader,\n",
    "        val_loader=val_loader,\n",
    "        test_loader=test_loader,\n",
    "        criterion=criterion,\n",
    "        optimizer=optimizer,\n",
    "        num_epochs=num_epochs,\n",
    "        device=device\n",
    "    )\n",
    "    \n",
    "    results.append({\n",
    "        'activation': activation.__class__.__name__,\n",
    "        'test_loss': test_loss,\n",
    "        'final_val_loss': val_losses[-1]\n",
    "    })\n",
    "\n",
    "# Find best activation function\n",
    "best_result = min(results, key=lambda x: x['test_loss'])\n",
    "print(\"\\nBest activation function:\")\n",
    "print(f\"Activation: {best_result['activation']}\")\n",
    "print(f\"Test loss: {best_result['test_loss']:.4f}\")"
   ]
  },
  {
   "cell_type": "code",
   "execution_count": null,
   "metadata": {},
   "outputs": [],
   "source": [
    "# So ReLU seems to be the best activation function for this problem, at least of the four we tested"
   ]
  },
  {
   "cell_type": "code",
   "execution_count": 57,
   "metadata": {},
   "outputs": [
    {
     "name": "stderr",
     "output_type": "stream",
     "text": [
      "Epoch 1: 100%|██████████| 78/78 [00:16<00:00,  4.72it/s]\n"
     ]
    },
    {
     "name": "stdout",
     "output_type": "stream",
     "text": [
      "Epoch [1/10]\n",
      "Training Loss: 0.5685\n",
      "Validation Loss: 0.4200\n"
     ]
    },
    {
     "name": "stderr",
     "output_type": "stream",
     "text": [
      "Epoch 2: 100%|██████████| 78/78 [00:14<00:00,  5.44it/s]\n"
     ]
    },
    {
     "name": "stdout",
     "output_type": "stream",
     "text": [
      "Epoch [2/10]\n",
      "Training Loss: 0.3159\n",
      "Validation Loss: 0.4043\n"
     ]
    },
    {
     "name": "stderr",
     "output_type": "stream",
     "text": [
      "Epoch 3: 100%|██████████| 78/78 [00:12<00:00,  6.04it/s]\n"
     ]
    },
    {
     "name": "stdout",
     "output_type": "stream",
     "text": [
      "Epoch [3/10]\n",
      "Training Loss: 0.3106\n",
      "Validation Loss: 0.4023\n"
     ]
    },
    {
     "name": "stderr",
     "output_type": "stream",
     "text": [
      "Epoch 4: 100%|██████████| 78/78 [00:15<00:00,  4.99it/s]\n"
     ]
    },
    {
     "name": "stdout",
     "output_type": "stream",
     "text": [
      "Epoch [4/10]\n",
      "Training Loss: 0.3073\n",
      "Validation Loss: 0.4015\n"
     ]
    },
    {
     "name": "stderr",
     "output_type": "stream",
     "text": [
      "Epoch 5: 100%|██████████| 78/78 [00:12<00:00,  6.01it/s]\n"
     ]
    },
    {
     "name": "stdout",
     "output_type": "stream",
     "text": [
      "Epoch [5/10]\n",
      "Training Loss: 0.3061\n",
      "Validation Loss: 0.4003\n"
     ]
    },
    {
     "name": "stderr",
     "output_type": "stream",
     "text": [
      "Epoch 6: 100%|██████████| 78/78 [00:15<00:00,  4.97it/s]\n"
     ]
    },
    {
     "name": "stdout",
     "output_type": "stream",
     "text": [
      "Epoch [6/10]\n",
      "Training Loss: 0.3059\n",
      "Validation Loss: 0.3963\n"
     ]
    },
    {
     "name": "stderr",
     "output_type": "stream",
     "text": [
      "Epoch 7: 100%|██████████| 78/78 [00:13<00:00,  5.88it/s]\n"
     ]
    },
    {
     "name": "stdout",
     "output_type": "stream",
     "text": [
      "Epoch [7/10]\n",
      "Training Loss: 0.3016\n",
      "Validation Loss: 0.3828\n"
     ]
    },
    {
     "name": "stderr",
     "output_type": "stream",
     "text": [
      "Epoch 8: 100%|██████████| 78/78 [00:15<00:00,  5.06it/s]\n"
     ]
    },
    {
     "name": "stdout",
     "output_type": "stream",
     "text": [
      "Epoch [8/10]\n",
      "Training Loss: 0.2945\n",
      "Validation Loss: 0.3690\n"
     ]
    },
    {
     "name": "stderr",
     "output_type": "stream",
     "text": [
      "Epoch 9: 100%|██████████| 78/78 [00:13<00:00,  5.82it/s]\n"
     ]
    },
    {
     "name": "stdout",
     "output_type": "stream",
     "text": [
      "Epoch [9/10]\n",
      "Training Loss: 0.2852\n",
      "Validation Loss: 0.3529\n"
     ]
    },
    {
     "name": "stderr",
     "output_type": "stream",
     "text": [
      "Epoch 10: 100%|██████████| 78/78 [00:17<00:00,  4.44it/s]\n"
     ]
    },
    {
     "name": "stdout",
     "output_type": "stream",
     "text": [
      "Epoch [10/10]\n",
      "Training Loss: 0.2801\n",
      "Validation Loss: 0.3489\n",
      "\n",
      "Final Test Loss: 0.2818\n"
     ]
    },
    {
     "name": "stderr",
     "output_type": "stream",
     "text": [
      "Epoch 1: 100%|██████████| 78/78 [00:33<00:00,  2.30it/s]\n"
     ]
    },
    {
     "name": "stdout",
     "output_type": "stream",
     "text": [
      "Epoch [1/10]\n",
      "Training Loss: 0.9071\n",
      "Validation Loss: 0.6191\n"
     ]
    },
    {
     "name": "stderr",
     "output_type": "stream",
     "text": [
      "Epoch 2: 100%|██████████| 78/78 [00:33<00:00,  2.32it/s]\n"
     ]
    },
    {
     "name": "stdout",
     "output_type": "stream",
     "text": [
      "Epoch [2/10]\n",
      "Training Loss: 0.4048\n",
      "Validation Loss: 0.4170\n"
     ]
    },
    {
     "name": "stderr",
     "output_type": "stream",
     "text": [
      "Epoch 3: 100%|██████████| 78/78 [00:34<00:00,  2.29it/s]\n"
     ]
    },
    {
     "name": "stdout",
     "output_type": "stream",
     "text": [
      "Epoch [3/10]\n",
      "Training Loss: 0.3324\n",
      "Validation Loss: 0.4070\n"
     ]
    },
    {
     "name": "stderr",
     "output_type": "stream",
     "text": [
      "Epoch 4: 100%|██████████| 78/78 [00:33<00:00,  2.33it/s]\n"
     ]
    },
    {
     "name": "stdout",
     "output_type": "stream",
     "text": [
      "Epoch [4/10]\n",
      "Training Loss: 0.3139\n",
      "Validation Loss: 0.4000\n"
     ]
    },
    {
     "name": "stderr",
     "output_type": "stream",
     "text": [
      "Epoch 5: 100%|██████████| 78/78 [00:33<00:00,  2.31it/s]\n"
     ]
    },
    {
     "name": "stdout",
     "output_type": "stream",
     "text": [
      "Epoch [5/10]\n",
      "Training Loss: 0.3052\n",
      "Validation Loss: 0.3945\n"
     ]
    },
    {
     "name": "stderr",
     "output_type": "stream",
     "text": [
      "Epoch 6: 100%|██████████| 78/78 [00:33<00:00,  2.32it/s]\n"
     ]
    },
    {
     "name": "stdout",
     "output_type": "stream",
     "text": [
      "Epoch [6/10]\n",
      "Training Loss: 0.3010\n",
      "Validation Loss: 0.3848\n"
     ]
    },
    {
     "name": "stderr",
     "output_type": "stream",
     "text": [
      "Epoch 7: 100%|██████████| 78/78 [00:33<00:00,  2.34it/s]\n"
     ]
    },
    {
     "name": "stdout",
     "output_type": "stream",
     "text": [
      "Epoch [7/10]\n",
      "Training Loss: 0.2940\n",
      "Validation Loss: 0.3716\n"
     ]
    },
    {
     "name": "stderr",
     "output_type": "stream",
     "text": [
      "Epoch 8: 100%|██████████| 78/78 [00:33<00:00,  2.31it/s]\n"
     ]
    },
    {
     "name": "stdout",
     "output_type": "stream",
     "text": [
      "Epoch [8/10]\n",
      "Training Loss: 0.2869\n",
      "Validation Loss: 0.3597\n"
     ]
    },
    {
     "name": "stderr",
     "output_type": "stream",
     "text": [
      "Epoch 9: 100%|██████████| 78/78 [00:34<00:00,  2.29it/s]\n"
     ]
    },
    {
     "name": "stdout",
     "output_type": "stream",
     "text": [
      "Epoch [9/10]\n",
      "Training Loss: 0.2822\n",
      "Validation Loss: 0.3441\n"
     ]
    },
    {
     "name": "stderr",
     "output_type": "stream",
     "text": [
      "Epoch 10: 100%|██████████| 78/78 [00:33<00:00,  2.31it/s]\n"
     ]
    },
    {
     "name": "stdout",
     "output_type": "stream",
     "text": [
      "Epoch [10/10]\n",
      "Training Loss: 0.2773\n",
      "Validation Loss: 0.3487\n",
      "\n",
      "Final Test Loss: 0.2827\n"
     ]
    },
    {
     "name": "stderr",
     "output_type": "stream",
     "text": [
      "Epoch 1: 100%|██████████| 78/78 [00:16<00:00,  4.60it/s]\n"
     ]
    },
    {
     "name": "stdout",
     "output_type": "stream",
     "text": [
      "Epoch [1/10]\n",
      "Training Loss: 0.8512\n",
      "Validation Loss: 0.4846\n"
     ]
    },
    {
     "name": "stderr",
     "output_type": "stream",
     "text": [
      "Epoch 2: 100%|██████████| 78/78 [00:14<00:00,  5.47it/s]\n"
     ]
    },
    {
     "name": "stdout",
     "output_type": "stream",
     "text": [
      "Epoch [2/10]\n",
      "Training Loss: 0.5303\n",
      "Validation Loss: 0.4846\n"
     ]
    },
    {
     "name": "stderr",
     "output_type": "stream",
     "text": [
      "Epoch 3: 100%|██████████| 78/78 [00:15<00:00,  5.12it/s]\n"
     ]
    },
    {
     "name": "stdout",
     "output_type": "stream",
     "text": [
      "Epoch [3/10]\n",
      "Training Loss: 0.4891\n",
      "Validation Loss: 0.5925\n"
     ]
    },
    {
     "name": "stderr",
     "output_type": "stream",
     "text": [
      "Epoch 4: 100%|██████████| 78/78 [00:14<00:00,  5.41it/s]\n"
     ]
    },
    {
     "name": "stdout",
     "output_type": "stream",
     "text": [
      "Epoch [4/10]\n",
      "Training Loss: 0.4600\n",
      "Validation Loss: 0.4523\n"
     ]
    },
    {
     "name": "stderr",
     "output_type": "stream",
     "text": [
      "Epoch 5: 100%|██████████| 78/78 [00:14<00:00,  5.21it/s]\n"
     ]
    },
    {
     "name": "stdout",
     "output_type": "stream",
     "text": [
      "Epoch [5/10]\n",
      "Training Loss: 0.4449\n",
      "Validation Loss: 0.4300\n"
     ]
    },
    {
     "name": "stderr",
     "output_type": "stream",
     "text": [
      "Epoch 6: 100%|██████████| 78/78 [00:16<00:00,  4.74it/s]\n"
     ]
    },
    {
     "name": "stdout",
     "output_type": "stream",
     "text": [
      "Epoch [6/10]\n",
      "Training Loss: 0.4196\n",
      "Validation Loss: 0.4474\n"
     ]
    },
    {
     "name": "stderr",
     "output_type": "stream",
     "text": [
      "Epoch 7: 100%|██████████| 78/78 [00:14<00:00,  5.21it/s]\n"
     ]
    },
    {
     "name": "stdout",
     "output_type": "stream",
     "text": [
      "Epoch [7/10]\n",
      "Training Loss: 0.3986\n",
      "Validation Loss: 0.5160\n"
     ]
    },
    {
     "name": "stderr",
     "output_type": "stream",
     "text": [
      "Epoch 8: 100%|██████████| 78/78 [00:16<00:00,  4.69it/s]\n"
     ]
    },
    {
     "name": "stdout",
     "output_type": "stream",
     "text": [
      "Epoch [8/10]\n",
      "Training Loss: 0.3616\n",
      "Validation Loss: 0.4447\n"
     ]
    },
    {
     "name": "stderr",
     "output_type": "stream",
     "text": [
      "Epoch 9: 100%|██████████| 78/78 [00:14<00:00,  5.23it/s]\n"
     ]
    },
    {
     "name": "stdout",
     "output_type": "stream",
     "text": [
      "Epoch [9/10]\n",
      "Training Loss: 0.3683\n",
      "Validation Loss: 0.4307\n"
     ]
    },
    {
     "name": "stderr",
     "output_type": "stream",
     "text": [
      "Epoch 10: 100%|██████████| 78/78 [00:16<00:00,  4.66it/s]\n"
     ]
    },
    {
     "name": "stdout",
     "output_type": "stream",
     "text": [
      "Epoch [10/10]\n",
      "Training Loss: 0.3339\n",
      "Validation Loss: 0.4271\n",
      "\n",
      "Final Test Loss: 0.3534\n"
     ]
    },
    {
     "name": "stderr",
     "output_type": "stream",
     "text": [
      "Epoch 1: 100%|██████████| 78/78 [00:57<00:00,  1.36it/s]\n"
     ]
    },
    {
     "name": "stdout",
     "output_type": "stream",
     "text": [
      "Epoch [1/10]\n",
      "Training Loss: 1.0064\n",
      "Validation Loss: 0.5155\n"
     ]
    },
    {
     "name": "stderr",
     "output_type": "stream",
     "text": [
      "Epoch 2: 100%|██████████| 78/78 [00:51<00:00,  1.53it/s]\n"
     ]
    },
    {
     "name": "stdout",
     "output_type": "stream",
     "text": [
      "Epoch [2/10]\n",
      "Training Loss: 0.3585\n",
      "Validation Loss: 0.4034\n"
     ]
    },
    {
     "name": "stderr",
     "output_type": "stream",
     "text": [
      "Epoch 3: 100%|██████████| 78/78 [00:55<00:00,  1.41it/s]\n"
     ]
    },
    {
     "name": "stdout",
     "output_type": "stream",
     "text": [
      "Epoch [3/10]\n",
      "Training Loss: 0.3088\n",
      "Validation Loss: 0.4029\n"
     ]
    },
    {
     "name": "stderr",
     "output_type": "stream",
     "text": [
      "Epoch 4: 100%|██████████| 78/78 [00:55<00:00,  1.41it/s]\n"
     ]
    },
    {
     "name": "stdout",
     "output_type": "stream",
     "text": [
      "Epoch [4/10]\n",
      "Training Loss: 0.3078\n",
      "Validation Loss: 0.4029\n"
     ]
    },
    {
     "name": "stderr",
     "output_type": "stream",
     "text": [
      "Epoch 5: 100%|██████████| 78/78 [00:52<00:00,  1.49it/s]\n"
     ]
    },
    {
     "name": "stdout",
     "output_type": "stream",
     "text": [
      "Epoch [5/10]\n",
      "Training Loss: 0.3090\n",
      "Validation Loss: 0.4025\n"
     ]
    },
    {
     "name": "stderr",
     "output_type": "stream",
     "text": [
      "Epoch 6: 100%|██████████| 78/78 [00:55<00:00,  1.41it/s]\n"
     ]
    },
    {
     "name": "stdout",
     "output_type": "stream",
     "text": [
      "Epoch [6/10]\n",
      "Training Loss: 0.3064\n",
      "Validation Loss: 0.4017\n"
     ]
    },
    {
     "name": "stderr",
     "output_type": "stream",
     "text": [
      "Epoch 7: 100%|██████████| 78/78 [00:54<00:00,  1.44it/s]\n"
     ]
    },
    {
     "name": "stdout",
     "output_type": "stream",
     "text": [
      "Epoch [7/10]\n",
      "Training Loss: 0.3079\n",
      "Validation Loss: 0.3984\n"
     ]
    },
    {
     "name": "stderr",
     "output_type": "stream",
     "text": [
      "Epoch 8: 100%|██████████| 78/78 [00:53<00:00,  1.46it/s]\n"
     ]
    },
    {
     "name": "stdout",
     "output_type": "stream",
     "text": [
      "Epoch [8/10]\n",
      "Training Loss: 0.3035\n",
      "Validation Loss: 0.3918\n"
     ]
    },
    {
     "name": "stderr",
     "output_type": "stream",
     "text": [
      "Epoch 9: 100%|██████████| 78/78 [00:55<00:00,  1.40it/s]\n"
     ]
    },
    {
     "name": "stdout",
     "output_type": "stream",
     "text": [
      "Epoch [9/10]\n",
      "Training Loss: 0.3019\n",
      "Validation Loss: 0.3888\n"
     ]
    },
    {
     "name": "stderr",
     "output_type": "stream",
     "text": [
      "Epoch 10: 100%|██████████| 78/78 [00:55<00:00,  1.41it/s]\n"
     ]
    },
    {
     "name": "stdout",
     "output_type": "stream",
     "text": [
      "Epoch [10/10]\n",
      "Training Loss: 0.2994\n",
      "Validation Loss: 0.3789\n",
      "\n",
      "Final Test Loss: 0.2998\n",
      "\n",
      "Best layer configuration:\n",
      "Layers: [(13, 32), (32, 16), (16, 1)]\n",
      "Test loss: 0.2818\n"
     ]
    }
   ],
   "source": [
    "# Now let's test different layer designs (all 3 layer designs)\n",
    "# Define different 3-layer configurations to test\n",
    "layer_configs = [\n",
    "    # Current baseline\n",
    "    [(13, 32), (32, 16), (16, 1)],\n",
    "    # Wider throughout\n",
    "    [(13, 64), (64, 32), (32, 1)],\n",
    "    # Narrow to wide\n",
    "    [(13, 16), (16, 32), (32, 1)],\n",
    "    # Wide to narrow\n",
    "    [(13, 128), (128, 32), (32, 1)]\n",
    "]\n",
    "\n",
    "results = []\n",
    "\n",
    "for config in layer_configs:\n",
    "    class SnowDepthCNNTest(nn.Module):\n",
    "        def __init__(self):\n",
    "            super(SnowDepthCNNTest, self).__init__()\n",
    "            self.layers = nn.ModuleList([\n",
    "                nn.Conv2d(in_channels=in_ch, out_channels=out_ch, \n",
    "                         kernel_size=3, padding=1)\n",
    "                for in_ch, out_ch in config[:-1]\n",
    "            ])\n",
    "            # Final 1x1 conv layer\n",
    "            self.final = nn.Conv2d(config[-2][1], 1, kernel_size=1)\n",
    "            self.activation = nn.ReLU()\n",
    "\n",
    "        def forward(self, x):\n",
    "            for layer in self.layers:\n",
    "                x = self.activation(layer(x))\n",
    "            x = self.final(x)\n",
    "            return x.squeeze(1)\n",
    "\n",
    "    model = SnowDepthCNNTest()\n",
    "    model = model.to(device)\n",
    "    criterion = CustomL1Loss(beta=0.5)\n",
    "    optimizer = torch.optim.Adam(model.parameters(), lr=0.001)\n",
    "    \n",
    "    train_losses, val_losses, test_loss = train_and_evaluate_model(\n",
    "        model=model,\n",
    "        train_loader=train_loader,\n",
    "        val_loader=val_loader,\n",
    "        test_loader=test_loader,\n",
    "        criterion=criterion,\n",
    "        optimizer=optimizer,\n",
    "        num_epochs=num_epochs,\n",
    "        device=device\n",
    "    )\n",
    "    \n",
    "    results.append({\n",
    "        'config': config,\n",
    "        'test_loss': test_loss,\n",
    "        'final_val_loss': val_losses[-1]\n",
    "    })\n",
    "\n",
    "# Find best layer configuration\n",
    "best_result = min(results, key=lambda x: x['test_loss'])\n",
    "print(\"\\nBest layer configuration:\")\n",
    "print(f\"Layers: {best_result['config']}\")\n",
    "print(f\"Test loss: {best_result['test_loss']:.4f}\")"
   ]
  },
  {
   "cell_type": "code",
   "execution_count": 58,
   "metadata": {},
   "outputs": [
    {
     "name": "stderr",
     "output_type": "stream",
     "text": [
      "Epoch 1: 100%|██████████| 78/78 [00:15<00:00,  4.95it/s]\n"
     ]
    },
    {
     "name": "stdout",
     "output_type": "stream",
     "text": [
      "Epoch [1/10]\n",
      "Training Loss: 0.8922\n",
      "Validation Loss: 0.5012\n"
     ]
    },
    {
     "name": "stderr",
     "output_type": "stream",
     "text": [
      "Epoch 2: 100%|██████████| 78/78 [00:17<00:00,  4.46it/s]\n"
     ]
    },
    {
     "name": "stdout",
     "output_type": "stream",
     "text": [
      "Epoch [2/10]\n",
      "Training Loss: 0.4775\n",
      "Validation Loss: 0.4404\n"
     ]
    },
    {
     "name": "stderr",
     "output_type": "stream",
     "text": [
      "Epoch 3: 100%|██████████| 78/78 [00:15<00:00,  5.07it/s]\n"
     ]
    },
    {
     "name": "stdout",
     "output_type": "stream",
     "text": [
      "Epoch [3/10]\n",
      "Training Loss: 0.3673\n",
      "Validation Loss: 0.4673\n"
     ]
    },
    {
     "name": "stderr",
     "output_type": "stream",
     "text": [
      "Epoch 4: 100%|██████████| 78/78 [00:17<00:00,  4.49it/s]\n"
     ]
    },
    {
     "name": "stdout",
     "output_type": "stream",
     "text": [
      "Epoch [4/10]\n",
      "Training Loss: 0.3557\n",
      "Validation Loss: 0.4134\n"
     ]
    },
    {
     "name": "stderr",
     "output_type": "stream",
     "text": [
      "Epoch 5: 100%|██████████| 78/78 [00:15<00:00,  4.94it/s]\n"
     ]
    },
    {
     "name": "stdout",
     "output_type": "stream",
     "text": [
      "Epoch [5/10]\n",
      "Training Loss: 0.3196\n",
      "Validation Loss: 0.4068\n"
     ]
    },
    {
     "name": "stderr",
     "output_type": "stream",
     "text": [
      "Epoch 6: 100%|██████████| 78/78 [00:17<00:00,  4.43it/s]\n"
     ]
    },
    {
     "name": "stdout",
     "output_type": "stream",
     "text": [
      "Epoch [6/10]\n",
      "Training Loss: 0.3139\n",
      "Validation Loss: 0.4032\n"
     ]
    },
    {
     "name": "stderr",
     "output_type": "stream",
     "text": [
      "Epoch 7: 100%|██████████| 78/78 [00:15<00:00,  5.00it/s]\n"
     ]
    },
    {
     "name": "stdout",
     "output_type": "stream",
     "text": [
      "Epoch [7/10]\n",
      "Training Loss: 0.3121\n",
      "Validation Loss: 0.3998\n"
     ]
    },
    {
     "name": "stderr",
     "output_type": "stream",
     "text": [
      "Epoch 8: 100%|██████████| 78/78 [00:17<00:00,  4.36it/s]\n"
     ]
    },
    {
     "name": "stdout",
     "output_type": "stream",
     "text": [
      "Epoch [8/10]\n",
      "Training Loss: 0.3098\n",
      "Validation Loss: 0.3968\n"
     ]
    },
    {
     "name": "stderr",
     "output_type": "stream",
     "text": [
      "Epoch 9: 100%|██████████| 78/78 [00:15<00:00,  5.01it/s]\n"
     ]
    },
    {
     "name": "stdout",
     "output_type": "stream",
     "text": [
      "Epoch [9/10]\n",
      "Training Loss: 0.3055\n",
      "Validation Loss: 0.3902\n"
     ]
    },
    {
     "name": "stderr",
     "output_type": "stream",
     "text": [
      "Epoch 10: 100%|██████████| 78/78 [00:17<00:00,  4.39it/s]\n"
     ]
    },
    {
     "name": "stdout",
     "output_type": "stream",
     "text": [
      "Epoch [10/10]\n",
      "Training Loss: 0.3006\n",
      "Validation Loss: 0.3863\n",
      "\n",
      "Final Test Loss: 0.3039\n"
     ]
    },
    {
     "name": "stderr",
     "output_type": "stream",
     "text": [
      "Epoch 1: 100%|██████████| 78/78 [00:15<00:00,  4.99it/s]\n"
     ]
    },
    {
     "name": "stdout",
     "output_type": "stream",
     "text": [
      "Epoch [1/10]\n",
      "Training Loss: 0.5015\n",
      "Validation Loss: 0.4182\n"
     ]
    },
    {
     "name": "stderr",
     "output_type": "stream",
     "text": [
      "Epoch 2: 100%|██████████| 78/78 [00:17<00:00,  4.44it/s]\n"
     ]
    },
    {
     "name": "stdout",
     "output_type": "stream",
     "text": [
      "Epoch [2/10]\n",
      "Training Loss: 0.3185\n",
      "Validation Loss: 0.4090\n"
     ]
    },
    {
     "name": "stderr",
     "output_type": "stream",
     "text": [
      "Epoch 3: 100%|██████████| 78/78 [00:14<00:00,  5.53it/s]\n"
     ]
    },
    {
     "name": "stdout",
     "output_type": "stream",
     "text": [
      "Epoch [3/10]\n",
      "Training Loss: 0.3112\n",
      "Validation Loss: 0.4075\n"
     ]
    },
    {
     "name": "stderr",
     "output_type": "stream",
     "text": [
      "Epoch 4: 100%|██████████| 78/78 [00:15<00:00,  5.11it/s]\n"
     ]
    },
    {
     "name": "stdout",
     "output_type": "stream",
     "text": [
      "Epoch [4/10]\n",
      "Training Loss: 0.3088\n",
      "Validation Loss: 0.4066\n"
     ]
    },
    {
     "name": "stderr",
     "output_type": "stream",
     "text": [
      "Epoch 5: 100%|██████████| 78/78 [00:13<00:00,  5.88it/s]\n"
     ]
    },
    {
     "name": "stdout",
     "output_type": "stream",
     "text": [
      "Epoch [5/10]\n",
      "Training Loss: 0.3083\n",
      "Validation Loss: 0.4063\n"
     ]
    },
    {
     "name": "stderr",
     "output_type": "stream",
     "text": [
      "Epoch 6: 100%|██████████| 78/78 [00:15<00:00,  5.16it/s]\n"
     ]
    },
    {
     "name": "stdout",
     "output_type": "stream",
     "text": [
      "Epoch [6/10]\n",
      "Training Loss: 0.3068\n",
      "Validation Loss: 0.4061\n"
     ]
    },
    {
     "name": "stderr",
     "output_type": "stream",
     "text": [
      "Epoch 7: 100%|██████████| 78/78 [00:13<00:00,  5.94it/s]\n"
     ]
    },
    {
     "name": "stdout",
     "output_type": "stream",
     "text": [
      "Epoch [7/10]\n",
      "Training Loss: 0.3097\n",
      "Validation Loss: 0.4059\n"
     ]
    },
    {
     "name": "stderr",
     "output_type": "stream",
     "text": [
      "Epoch 8: 100%|██████████| 78/78 [00:15<00:00,  5.16it/s]\n"
     ]
    },
    {
     "name": "stdout",
     "output_type": "stream",
     "text": [
      "Epoch [8/10]\n",
      "Training Loss: 0.3070\n",
      "Validation Loss: 0.4058\n"
     ]
    },
    {
     "name": "stderr",
     "output_type": "stream",
     "text": [
      "Epoch 9: 100%|██████████| 78/78 [00:13<00:00,  5.95it/s]\n"
     ]
    },
    {
     "name": "stdout",
     "output_type": "stream",
     "text": [
      "Epoch [9/10]\n",
      "Training Loss: 0.3094\n",
      "Validation Loss: 0.4058\n"
     ]
    },
    {
     "name": "stderr",
     "output_type": "stream",
     "text": [
      "Epoch 10: 100%|██████████| 78/78 [00:13<00:00,  5.88it/s]\n"
     ]
    },
    {
     "name": "stdout",
     "output_type": "stream",
     "text": [
      "Epoch [10/10]\n",
      "Training Loss: 0.3073\n",
      "Validation Loss: 0.4058\n",
      "\n",
      "Final Test Loss: 0.3145\n"
     ]
    },
    {
     "name": "stderr",
     "output_type": "stream",
     "text": [
      "Epoch 1: 100%|██████████| 78/78 [00:15<00:00,  5.02it/s]\n"
     ]
    },
    {
     "name": "stdout",
     "output_type": "stream",
     "text": [
      "Epoch [1/10]\n",
      "Training Loss: 0.5050\n",
      "Validation Loss: 0.4044\n"
     ]
    },
    {
     "name": "stderr",
     "output_type": "stream",
     "text": [
      "Epoch 2: 100%|██████████| 78/78 [00:13<00:00,  5.75it/s]\n"
     ]
    },
    {
     "name": "stdout",
     "output_type": "stream",
     "text": [
      "Epoch [2/10]\n",
      "Training Loss: 0.3065\n",
      "Validation Loss: 0.4021\n"
     ]
    },
    {
     "name": "stderr",
     "output_type": "stream",
     "text": [
      "Epoch 3: 100%|██████████| 78/78 [00:15<00:00,  5.06it/s]\n"
     ]
    },
    {
     "name": "stdout",
     "output_type": "stream",
     "text": [
      "Epoch [3/10]\n",
      "Training Loss: 0.3047\n",
      "Validation Loss: 0.3969\n"
     ]
    },
    {
     "name": "stderr",
     "output_type": "stream",
     "text": [
      "Epoch 4: 100%|██████████| 78/78 [00:13<00:00,  5.88it/s]\n"
     ]
    },
    {
     "name": "stdout",
     "output_type": "stream",
     "text": [
      "Epoch [4/10]\n",
      "Training Loss: 0.3014\n",
      "Validation Loss: 0.3924\n"
     ]
    },
    {
     "name": "stderr",
     "output_type": "stream",
     "text": [
      "Epoch 5: 100%|██████████| 78/78 [00:15<00:00,  5.07it/s]\n"
     ]
    },
    {
     "name": "stdout",
     "output_type": "stream",
     "text": [
      "Epoch [5/10]\n",
      "Training Loss: 0.2969\n",
      "Validation Loss: 0.3863\n"
     ]
    },
    {
     "name": "stderr",
     "output_type": "stream",
     "text": [
      "Epoch 6: 100%|██████████| 78/78 [00:13<00:00,  5.92it/s]\n"
     ]
    },
    {
     "name": "stdout",
     "output_type": "stream",
     "text": [
      "Epoch [6/10]\n",
      "Training Loss: 0.2926\n",
      "Validation Loss: 0.3662\n"
     ]
    },
    {
     "name": "stderr",
     "output_type": "stream",
     "text": [
      "Epoch 7: 100%|██████████| 78/78 [00:15<00:00,  5.10it/s]\n"
     ]
    },
    {
     "name": "stdout",
     "output_type": "stream",
     "text": [
      "Epoch [7/10]\n",
      "Training Loss: 0.2848\n",
      "Validation Loss: 0.3625\n"
     ]
    },
    {
     "name": "stderr",
     "output_type": "stream",
     "text": [
      "Epoch 8: 100%|██████████| 78/78 [00:13<00:00,  5.88it/s]\n"
     ]
    },
    {
     "name": "stdout",
     "output_type": "stream",
     "text": [
      "Epoch [8/10]\n",
      "Training Loss: 0.2791\n",
      "Validation Loss: 0.3641\n"
     ]
    },
    {
     "name": "stderr",
     "output_type": "stream",
     "text": [
      "Epoch 9: 100%|██████████| 78/78 [00:13<00:00,  5.89it/s]\n"
     ]
    },
    {
     "name": "stdout",
     "output_type": "stream",
     "text": [
      "Epoch [9/10]\n",
      "Training Loss: 0.2776\n",
      "Validation Loss: 0.3435\n"
     ]
    },
    {
     "name": "stderr",
     "output_type": "stream",
     "text": [
      "Epoch 10: 100%|██████████| 78/78 [00:15<00:00,  5.16it/s]\n"
     ]
    },
    {
     "name": "stdout",
     "output_type": "stream",
     "text": [
      "Epoch [10/10]\n",
      "Training Loss: 0.2748\n",
      "Validation Loss: 0.3313\n",
      "\n",
      "Final Test Loss: 0.2773\n"
     ]
    },
    {
     "name": "stderr",
     "output_type": "stream",
     "text": [
      "Epoch 1: 100%|██████████| 78/78 [00:13<00:00,  5.92it/s]\n"
     ]
    },
    {
     "name": "stdout",
     "output_type": "stream",
     "text": [
      "Epoch [1/10]\n",
      "Training Loss: 0.6454\n",
      "Validation Loss: 0.6816\n"
     ]
    },
    {
     "name": "stderr",
     "output_type": "stream",
     "text": [
      "Epoch 2: 100%|██████████| 78/78 [00:15<00:00,  5.08it/s]\n"
     ]
    },
    {
     "name": "stdout",
     "output_type": "stream",
     "text": [
      "Epoch [2/10]\n",
      "Training Loss: 0.5280\n",
      "Validation Loss: 0.4375\n"
     ]
    },
    {
     "name": "stderr",
     "output_type": "stream",
     "text": [
      "Epoch 3: 100%|██████████| 78/78 [00:13<00:00,  5.88it/s]\n"
     ]
    },
    {
     "name": "stdout",
     "output_type": "stream",
     "text": [
      "Epoch [3/10]\n",
      "Training Loss: 0.3802\n",
      "Validation Loss: 0.4279\n"
     ]
    },
    {
     "name": "stderr",
     "output_type": "stream",
     "text": [
      "Epoch 4: 100%|██████████| 78/78 [00:15<00:00,  5.13it/s]\n"
     ]
    },
    {
     "name": "stdout",
     "output_type": "stream",
     "text": [
      "Epoch [4/10]\n",
      "Training Loss: 0.3274\n",
      "Validation Loss: 0.4265\n"
     ]
    },
    {
     "name": "stderr",
     "output_type": "stream",
     "text": [
      "Epoch 5: 100%|██████████| 78/78 [00:13<00:00,  5.96it/s]\n"
     ]
    },
    {
     "name": "stdout",
     "output_type": "stream",
     "text": [
      "Epoch [5/10]\n",
      "Training Loss: 0.3259\n",
      "Validation Loss: 0.4045\n"
     ]
    },
    {
     "name": "stderr",
     "output_type": "stream",
     "text": [
      "Epoch 6: 100%|██████████| 78/78 [00:13<00:00,  5.84it/s]\n"
     ]
    },
    {
     "name": "stdout",
     "output_type": "stream",
     "text": [
      "Epoch [6/10]\n",
      "Training Loss: 0.3132\n",
      "Validation Loss: 0.3935\n"
     ]
    },
    {
     "name": "stderr",
     "output_type": "stream",
     "text": [
      "Epoch 7: 100%|██████████| 78/78 [00:15<00:00,  5.04it/s]\n"
     ]
    },
    {
     "name": "stdout",
     "output_type": "stream",
     "text": [
      "Epoch [7/10]\n",
      "Training Loss: 0.3035\n",
      "Validation Loss: 0.3865\n"
     ]
    },
    {
     "name": "stderr",
     "output_type": "stream",
     "text": [
      "Epoch 8: 100%|██████████| 78/78 [00:13<00:00,  5.80it/s]\n"
     ]
    },
    {
     "name": "stdout",
     "output_type": "stream",
     "text": [
      "Epoch [8/10]\n",
      "Training Loss: 0.2993\n",
      "Validation Loss: 0.3753\n"
     ]
    },
    {
     "name": "stderr",
     "output_type": "stream",
     "text": [
      "Epoch 9: 100%|██████████| 78/78 [00:15<00:00,  5.07it/s]\n"
     ]
    },
    {
     "name": "stdout",
     "output_type": "stream",
     "text": [
      "Epoch [9/10]\n",
      "Training Loss: 0.2926\n",
      "Validation Loss: 0.3632\n"
     ]
    },
    {
     "name": "stderr",
     "output_type": "stream",
     "text": [
      "Epoch 10: 100%|██████████| 78/78 [00:13<00:00,  5.91it/s]\n"
     ]
    },
    {
     "name": "stdout",
     "output_type": "stream",
     "text": [
      "Epoch [10/10]\n",
      "Training Loss: 0.2868\n",
      "Validation Loss: 0.3625\n",
      "\n",
      "Final Test Loss: 0.2903\n",
      "\n",
      "Best optimizer configuration:\n",
      "Optimizer: RMSprop\n",
      "Test loss: 0.2773\n"
     ]
    }
   ],
   "source": [
    "# so we'll proceed with the original layer structure as seen above and finally optimize the optimizer\n",
    "class SnowDepthCNN(nn.Module):\n",
    "    def __init__(self):\n",
    "        super(SnowDepthCNN, self).__init__()\n",
    "        self.conv1 = nn.Conv2d(in_channels=13, out_channels=32, kernel_size=3, padding=1)\n",
    "        self.conv2 = nn.Conv2d(in_channels=32, out_channels=16, kernel_size=3, padding=1)\n",
    "        self.conv3 = nn.Conv2d(in_channels=16, out_channels=1, kernel_size=1)\n",
    "        self.activation = nn.ReLU()\n",
    "\n",
    "    def forward(self, x):\n",
    "        x = self.activation(self.conv1(x))\n",
    "        x = self.activation(self.conv2(x))\n",
    "        x = self.conv3(x)\n",
    "        return x.squeeze(1)\n",
    "\n",
    "# Test different optimizers\n",
    "optimizers = {\n",
    "    'Adam': torch.optim.Adam,\n",
    "    'SGD': torch.optim.SGD,\n",
    "    'RMSprop': torch.optim.RMSprop,\n",
    "    'AdamW': torch.optim.AdamW\n",
    "}\n",
    "\n",
    "results = []\n",
    "\n",
    "for opt_name, opt_class in optimizers.items():\n",
    "    model = SnowDepthCNN()\n",
    "    model = model.to(device)\n",
    "    criterion = CustomL1Loss(beta=0.5)\n",
    "    \n",
    "    # Handle SGD separately as it needs momentum\n",
    "    if opt_name == 'SGD':\n",
    "        optimizer = opt_class(model.parameters(), lr=0.001, momentum=0.9)\n",
    "    else:\n",
    "        optimizer = opt_class(model.parameters(), lr=0.001)\n",
    "    \n",
    "    train_losses, val_losses, test_loss = train_and_evaluate_model(\n",
    "        model=model,\n",
    "        train_loader=train_loader,\n",
    "        val_loader=val_loader,\n",
    "        test_loader=test_loader,\n",
    "        criterion=criterion,\n",
    "        optimizer=optimizer,\n",
    "        num_epochs=num_epochs,\n",
    "        device=device\n",
    "    )\n",
    "    \n",
    "    results.append({\n",
    "        'optimizer': opt_name,\n",
    "        'test_loss': test_loss,\n",
    "        'final_val_loss': val_losses[-1]\n",
    "    })\n",
    "\n",
    "# Find best optimizer\n",
    "best_result = min(results, key=lambda x: x['test_loss'])\n",
    "print(\"\\nBest optimizer configuration:\")\n",
    "print(f\"Optimizer: {best_result['optimizer']}\")\n",
    "print(f\"Test loss: {best_result['test_loss']:.4f}\")"
   ]
  },
  {
   "cell_type": "code",
   "execution_count": null,
   "metadata": {},
   "outputs": [],
   "source": [
    "# seems like all of the losses we tested besides SGD are pretty comparable\n",
    "# I would ideally do a comparison with k-fold validations and more epochs for each loss function\n",
    "# but for the sake of time, let's just proceed with RMSprop"
   ]
  },
  {
   "cell_type": "markdown",
   "metadata": {},
   "source": [
    "# 4. Performance Evaluation (20%)"
   ]
  },
  {
   "cell_type": "markdown",
   "metadata": {},
   "source": [
    "#### Quantitative Evaluation (6%): "
   ]
  },
  {
   "cell_type": "code",
   "execution_count": null,
   "metadata": {},
   "outputs": [],
   "source": [
    "# quant evaluation was measured on the model's loss (MAE) after every run\n",
    "# given that this is a regression problem and the goal is to develop a generalized model for \n",
    "# the western US, I want to rely on MAE as the main evaluation metric for hyperparameter tuning"
   ]
  },
  {
   "cell_type": "code",
   "execution_count": 65,
   "metadata": {},
   "outputs": [
    {
     "name": "stderr",
     "output_type": "stream",
     "text": [
      "Epoch 1: 100%|██████████| 70/70 [00:13<00:00,  5.02it/s]\n"
     ]
    },
    {
     "name": "stdout",
     "output_type": "stream",
     "text": [
      "Epoch [1/15]\n",
      "Training Loss: 1.0128\n",
      "Validation Loss: 0.2655\n"
     ]
    },
    {
     "name": "stderr",
     "output_type": "stream",
     "text": [
      "Epoch 2: 100%|██████████| 70/70 [00:14<00:00,  4.69it/s]\n"
     ]
    },
    {
     "name": "stdout",
     "output_type": "stream",
     "text": [
      "Epoch [2/15]\n",
      "Training Loss: 0.3148\n",
      "Validation Loss: 0.2627\n"
     ]
    },
    {
     "name": "stderr",
     "output_type": "stream",
     "text": [
      "Epoch 3: 100%|██████████| 70/70 [00:13<00:00,  5.12it/s]\n"
     ]
    },
    {
     "name": "stdout",
     "output_type": "stream",
     "text": [
      "Epoch [3/15]\n",
      "Training Loss: 0.3137\n",
      "Validation Loss: 0.2618\n"
     ]
    },
    {
     "name": "stderr",
     "output_type": "stream",
     "text": [
      "Epoch 4: 100%|██████████| 70/70 [00:15<00:00,  4.53it/s]\n"
     ]
    },
    {
     "name": "stdout",
     "output_type": "stream",
     "text": [
      "Epoch [4/15]\n",
      "Training Loss: 0.3126\n",
      "Validation Loss: 0.2613\n"
     ]
    },
    {
     "name": "stderr",
     "output_type": "stream",
     "text": [
      "Epoch 5: 100%|██████████| 70/70 [00:13<00:00,  5.14it/s]\n"
     ]
    },
    {
     "name": "stdout",
     "output_type": "stream",
     "text": [
      "Epoch [5/15]\n",
      "Training Loss: 0.3115\n",
      "Validation Loss: 0.2612\n"
     ]
    },
    {
     "name": "stderr",
     "output_type": "stream",
     "text": [
      "Epoch 6: 100%|██████████| 70/70 [00:16<00:00,  4.34it/s]\n"
     ]
    },
    {
     "name": "stdout",
     "output_type": "stream",
     "text": [
      "Epoch [6/15]\n",
      "Training Loss: 0.3096\n",
      "Validation Loss: 0.2605\n"
     ]
    },
    {
     "name": "stderr",
     "output_type": "stream",
     "text": [
      "Epoch 7: 100%|██████████| 70/70 [00:12<00:00,  5.45it/s]\n"
     ]
    },
    {
     "name": "stdout",
     "output_type": "stream",
     "text": [
      "Epoch [7/15]\n",
      "Training Loss: 0.3059\n",
      "Validation Loss: 0.2572\n"
     ]
    },
    {
     "name": "stderr",
     "output_type": "stream",
     "text": [
      "Epoch 8: 100%|██████████| 70/70 [00:15<00:00,  4.41it/s]\n"
     ]
    },
    {
     "name": "stdout",
     "output_type": "stream",
     "text": [
      "Epoch [8/15]\n",
      "Training Loss: 0.3019\n",
      "Validation Loss: 0.2543\n"
     ]
    },
    {
     "name": "stderr",
     "output_type": "stream",
     "text": [
      "Epoch 9: 100%|██████████| 70/70 [00:12<00:00,  5.46it/s]\n"
     ]
    },
    {
     "name": "stdout",
     "output_type": "stream",
     "text": [
      "Epoch [9/15]\n",
      "Training Loss: 0.2971\n",
      "Validation Loss: 0.2544\n"
     ]
    },
    {
     "name": "stderr",
     "output_type": "stream",
     "text": [
      "Epoch 10: 100%|██████████| 70/70 [00:13<00:00,  5.09it/s]\n"
     ]
    },
    {
     "name": "stdout",
     "output_type": "stream",
     "text": [
      "Epoch [10/15]\n",
      "Training Loss: 0.2903\n",
      "Validation Loss: 0.2580\n"
     ]
    },
    {
     "name": "stderr",
     "output_type": "stream",
     "text": [
      "Epoch 11: 100%|██████████| 70/70 [00:14<00:00,  4.72it/s]\n"
     ]
    },
    {
     "name": "stdout",
     "output_type": "stream",
     "text": [
      "Epoch [11/15]\n",
      "Training Loss: 0.2860\n",
      "Validation Loss: 0.2469\n"
     ]
    },
    {
     "name": "stderr",
     "output_type": "stream",
     "text": [
      "Epoch 12: 100%|██████████| 70/70 [00:13<00:00,  5.37it/s]\n"
     ]
    },
    {
     "name": "stdout",
     "output_type": "stream",
     "text": [
      "Epoch [12/15]\n",
      "Training Loss: 0.2831\n",
      "Validation Loss: 0.2506\n"
     ]
    },
    {
     "name": "stderr",
     "output_type": "stream",
     "text": [
      "Epoch 13: 100%|██████████| 70/70 [00:15<00:00,  4.63it/s]\n"
     ]
    },
    {
     "name": "stdout",
     "output_type": "stream",
     "text": [
      "Epoch [13/15]\n",
      "Training Loss: 0.2793\n",
      "Validation Loss: 0.2437\n"
     ]
    },
    {
     "name": "stderr",
     "output_type": "stream",
     "text": [
      "Epoch 14: 100%|██████████| 70/70 [00:13<00:00,  5.31it/s]\n"
     ]
    },
    {
     "name": "stdout",
     "output_type": "stream",
     "text": [
      "Epoch [14/15]\n",
      "Training Loss: 0.2771\n",
      "Validation Loss: 0.2446\n"
     ]
    },
    {
     "name": "stderr",
     "output_type": "stream",
     "text": [
      "Epoch 15: 100%|██████████| 70/70 [00:14<00:00,  4.85it/s]\n"
     ]
    },
    {
     "name": "stdout",
     "output_type": "stream",
     "text": [
      "Epoch [15/15]\n",
      "Training Loss: 0.2746\n",
      "Validation Loss: 0.2765\n",
      "\n",
      "Final Test Loss: 0.2954\n",
      "MAE: 0.5957\n",
      "RMSE: 1.1447\n",
      "R2: 0.1080\n",
      "MAPE: 1332008192.0000\n",
      "PSNR: 26.0702\n",
      "Correlation: 0.4017\n"
     ]
    }
   ],
   "source": [
    "# that being said, let's apply some more robust metric evaluation techniques on our 'best' model\n",
    "def evaluate_model_metrics(model, test_loader, device):\n",
    "    model.eval()\n",
    "    all_predictions = []\n",
    "    all_targets = []\n",
    "    \n",
    "    with torch.no_grad():\n",
    "        for features, targets in test_loader:\n",
    "            features, targets = features.to(device), targets.to(device)\n",
    "            predictions = model(features)\n",
    "            all_predictions.append(predictions)\n",
    "            all_targets.append(targets)\n",
    "    \n",
    "    # Concatenate all batches\n",
    "    predictions = torch.cat(all_predictions)\n",
    "    targets = torch.cat(all_targets)\n",
    "    \n",
    "    # Calculate metrics\n",
    "    mae = torch.mean(torch.abs(predictions - targets))\n",
    "    rmse = torch.sqrt(torch.mean((predictions - targets) ** 2))\n",
    "    \n",
    "    # R-squared\n",
    "    total_ss = torch.sum((targets - torch.mean(targets)) ** 2)\n",
    "    residual_ss = torch.sum((targets - predictions) ** 2)\n",
    "    r2 = 1 - (residual_ss / total_ss)\n",
    "    \n",
    "    # MAPE (adding small constant to avoid division by zero)\n",
    "    mape = torch.mean(torch.abs((targets - predictions) / (targets + 1e-8))) * 100\n",
    "    \n",
    "    # PSNR\n",
    "    mse = torch.mean((predictions - targets) ** 2)\n",
    "    max_pixel = torch.max(targets)\n",
    "    psnr = 20 * torch.log10(max_pixel / torch.sqrt(mse))\n",
    "    \n",
    "    # Correlation\n",
    "    vx = predictions - torch.mean(predictions)\n",
    "    vy = targets - torch.mean(targets)\n",
    "    correlation = torch.sum(vx * vy) / (torch.sqrt(torch.sum(vx ** 2)) * torch.sqrt(torch.sum(vy ** 2)))\n",
    "    \n",
    "    return {\n",
    "        'MAE': mae.item(),\n",
    "        'RMSE': rmse.item(),\n",
    "        'R2': r2.item(),\n",
    "        'MAPE': mape.item(),\n",
    "        'PSNR': psnr.item(),\n",
    "        'Correlation': correlation.item()\n",
    "    }\n",
    "model = SnowDepthCNN().to(device)\n",
    "optimizer = torch.optim.RMSprop(model.parameters(), lr=0.001)\n",
    "criterion = CustomL1Loss(beta=0.5)\n",
    "train_losses, val_losses, test_loss = train_and_evaluate_model(\n",
    "    model=model,\n",
    "    train_loader=train_loader,\n",
    "    val_loader=val_loader,\n",
    "    test_loader=test_loader,\n",
    "    criterion=criterion,\n",
    "    optimizer=optimizer,\n",
    "    num_epochs=15,\n",
    "    device=device\n",
    ")\n",
    "metrics = evaluate_model_metrics(model, test_loader, device)\n",
    "for metric_name, value in metrics.items():\n",
    "    print(f\"{metric_name}: {value:.4f}\")\n"
   ]
  },
  {
   "cell_type": "code",
   "execution_count": null,
   "metadata": {},
   "outputs": [],
   "source": [
    "# the test loss is promising and the MAE of < 0.6 meters isn't bad considering current snow depth models\n",
    "# at a similar scale, but 0.5 meters is still unacceptable\n",
    "# The R2 score is weak and so is the corresponding correlation value, but it's not the worst I've seen\n",
    "# and at least there's some relationship there\n",
    "# I haven't worked much with PSNR much but I'm assuming it's a somewhat-decent score\n",
    "# The MAPE indicatest that we need to handle zero values better, this makes sense given the physics\n",
    "# of predicting small snow depths with satellite observations but this is a big part of what we're hoping\n",
    "# to improve upon"
   ]
  },
  {
   "cell_type": "markdown",
   "metadata": {},
   "source": [
    "#### Generalization Testing (7%): Evaluates model performance on unseen or out-of-distribution data and discusses overfitting or underfitting tendencies."
   ]
  },
  {
   "cell_type": "code",
   "execution_count": null,
   "metadata": {},
   "outputs": [],
   "source": [
    "# actually a bit unsure how to do this..."
   ]
  },
  {
   "cell_type": "code",
   "execution_count": 63,
   "metadata": {},
   "outputs": [],
   "source": [
    "model = SnowDepthCNN()\n",
    "optimizer = torch.optim.RMSprop(model.parameters(), lr=0.001)\n",
    "# Implement k-fold cross validation\n",
    "from sklearn.model_selection import KFold\n",
    "kf = KFold(n_splits=10, shuffle=True)"
   ]
  },
  {
   "cell_type": "markdown",
   "metadata": {},
   "source": [
    "#### Discussion on Narrow vs. General AI (4%): Reflects on the role of the implemented models as narrow AI and contrasts this with the broader concept of general AI, tying the discussion to the problem domain and dataset."
   ]
  },
  {
   "cell_type": "code",
   "execution_count": null,
   "metadata": {},
   "outputs": [],
   "source": [
    "# here, I should just test and train on the sierra nevadas and rockies and see how it performs over those two regions"
   ]
  },
  {
   "cell_type": "markdown",
   "metadata": {},
   "source": [
    "#### Visualization of Results (3%): Uses visualizations like confusion matrices, ROC curves, loss vs. epoch plots, or spatial/temporal error maps."
   ]
  },
  {
   "cell_type": "code",
   "execution_count": null,
   "metadata": {},
   "outputs": [],
   "source": [
    "# seems pretty straightforward"
   ]
  },
  {
   "cell_type": "markdown",
   "metadata": {},
   "source": [
    "# 5. Software Delivery and Code Quality (20%)"
   ]
  },
  {
   "cell_type": "markdown",
   "metadata": {},
   "source": [
    "#### Standard Practice for Training Neural Networks (10%):\n",
    "\n",
    "Code is modular and organized in a single notebook.\n",
    "\n",
    "Includes components like Dataset, DataLoader, model design as a class, training function, and training loop.\n",
    "\n",
    "Explores training parameters and visualizes learning curves."
   ]
  },
  {
   "cell_type": "code",
   "execution_count": null,
   "metadata": {},
   "outputs": [],
   "source": [
    "# check-ish, not the most organized but it works\n",
    "# go back and standardize the formatting and make it more readable and include\n",
    "# PSNR and MAE on model evaluations\n",
    "# and include plots"
   ]
  },
  {
   "cell_type": "markdown",
   "metadata": {},
   "source": [
    "#### Saving Results (5%):\n",
    "\n",
    "Saves model weights, training logs, and performance metrics to a CSV/JSON file."
   ]
  },
  {
   "cell_type": "code",
   "execution_count": null,
   "metadata": {},
   "outputs": [],
   "source": [
    "# done, see notebooks/weights for JSONs"
   ]
  },
  {
   "cell_type": "markdown",
   "metadata": {},
   "source": [
    "#### Code Quality and Documentation (5%):\n",
    "\n",
    "Follows best practices for readability, commenting, and modularity, ensuring reproducibility."
   ]
  },
  {
   "cell_type": "code",
   "execution_count": null,
   "metadata": {},
   "outputs": [],
   "source": [
    "# again, not the best but hopefully I can clean this up"
   ]
  },
  {
   "cell_type": "markdown",
   "metadata": {},
   "source": [
    "# 6. Reporting and Interpretation (5%)"
   ]
  },
  {
   "cell_type": "markdown",
   "metadata": {},
   "source": [
    "#### Scientific Communication (3%): Presents results clearly and concisely in a well-structured report or notebook, with appropriate figures, tables, and explanations"
   ]
  },
  {
   "cell_type": "code",
   "execution_count": null,
   "metadata": {},
   "outputs": [],
   "source": [
    "# if you have the time, then summarize some results in a few code cells here \n",
    "# though, not worth hours of your time for 3% if it comes to be too much"
   ]
  },
  {
   "cell_type": "markdown",
   "metadata": {},
   "source": [
    "#### Domain Insights (2%): Discusses implications of findings for geoscience, such as physical relevance, data limitations, or potential for real-world applications"
   ]
  },
  {
   "cell_type": "code",
   "execution_count": null,
   "metadata": {},
   "outputs": [],
   "source": [
    "# Easy, quick writeup"
   ]
  },
  {
   "cell_type": "markdown",
   "metadata": {},
   "source": [
    "# 7. Ethical and Computational Considerations (5%)"
   ]
  },
  {
   "cell_type": "markdown",
   "metadata": {},
   "source": [
    "#### Computational Efficiency (3%): Documents computational costs (e.g., training time, memory usage) and discusses their impact on model choice."
   ]
  },
  {
   "cell_type": "code",
   "execution_count": null,
   "metadata": {},
   "outputs": [],
   "source": [
    "# touched on this testing different model architectures, but maybe make a df that shows this and such"
   ]
  },
  {
   "cell_type": "markdown",
   "metadata": {},
   "source": [
    "#### Ethical Considerations (2%): Reflects on ethical implications, including biases in data, transparency of model predictions, and alignment with societal goals."
   ]
  },
  {
   "cell_type": "code",
   "execution_count": null,
   "metadata": {},
   "outputs": [],
   "source": [
    "# quick little writeup on ASO and WUS coverage and such"
   ]
  }
 ],
 "metadata": {
  "kernelspec": {
   "display_name": "deep-snow",
   "language": "python",
   "name": "python3"
  },
  "language_info": {
   "codemirror_mode": {
    "name": "ipython",
    "version": 3
   },
   "file_extension": ".py",
   "mimetype": "text/x-python",
   "name": "python",
   "nbconvert_exporter": "python",
   "pygments_lexer": "ipython3",
   "version": "3.12.7"
  }
 },
 "nbformat": 4,
 "nbformat_minor": 2
}
